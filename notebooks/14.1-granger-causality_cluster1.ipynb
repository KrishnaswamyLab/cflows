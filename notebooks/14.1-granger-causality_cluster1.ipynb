{
 "cells": [
  {
   "cell_type": "code",
   "execution_count": 12,
   "metadata": {},
   "outputs": [],
   "source": [
    "import pandas as pd\n",
    "# import scprep as sc\n",
    "import scanpy as sc\n",
    "import phate\n",
    "import numpy as np\n",
    "import seaborn as sns\n",
    "import scprep\n",
    "from sklearn.metrics import roc_auc_score, average_precision_score\n",
    "import os\n",
    "from tqdm import tqdm\n",
    "import warnings\n"
   ]
  },
  {
   "cell_type": "code",
   "execution_count": 13,
   "metadata": {},
   "outputs": [],
   "source": [
    "## KPSS Null hypothesis: there is a no unit root, meaning series is stationary\n",
    "from statsmodels.tsa.stattools import kpss\n",
    "\n",
    "\n",
    "def kpss_test(series, **kw):\n",
    "    statistic, p_value, n_lags, critical_values = kpss(series, **kw)\n",
    "    # Format Output\n",
    "    print(f\"KPSS Statistic: {statistic}\")\n",
    "    print(f\"p-value: {p_value}\")\n",
    "    print(f\"num lags: {n_lags}\")\n",
    "    print(\"Critial Values:\")\n",
    "    for key, value in critical_values.items():\n",
    "        print(f\"   {key} : {value}\")\n",
    "    print(f'Result: The series is {\"not \" if p_value < 0.05 else \"\"}stationary')\n",
    "\n",
    "\n",
    "from statsmodels.tsa.stattools import grangercausalitytests\n",
    "\n",
    "lag_order = 1\n",
    "maxlag = (\n",
    "    lag_order,  # becuase we got this value before. We are not suppose to add 1 to it\n",
    ")\n",
    "test = \"ssr_chi2test\"\n",
    "\n",
    "from joblib import Parallel, delayed\n",
    "\n",
    "def grangers_causation_matrix(\n",
    "    data, in_variables, out_variables, test=\"ssr_chi2test\", n_jobs=1\n",
    "):\n",
    "    \"\"\"Check Granger Causality of all possible combinations of the Time series.\n",
    "    The rows are the response variable, columns are predictors. The values in the table \n",
    "    are the P-Values. P-Values lesser than the significance level (0.05), implies \n",
    "    the Null Hypothesis that the coefficients of the corresponding past values is \n",
    "    zero, that is, the X does not cause Y can be rejected.\n",
    "\n",
    "    data      : pandas dataframe containing the time series variables\n",
    "    variables : list containing names of the time series variables.\n",
    "    \"\"\"\n",
    "\n",
    "    def get_pval(dd):\n",
    "        with warnings.catch_warnings():\n",
    "            warnings.simplefilter(\"ignore\", category=FutureWarning)\n",
    "            test_result = grangercausalitytests(dd, maxlag=maxlag, verbose=False)\n",
    "        p_values = [test_result[i][0][test][1] for i in maxlag]\n",
    "        min_p_value = np.min(p_values)\n",
    "        return min_p_value\n",
    "\n",
    "    out = Parallel(n_jobs=n_jobs)(\n",
    "        delayed(get_pval)(data[[r, c]]) \n",
    "        for c in tqdm(out_variables, desc=\"Processing columns\")  # Outer loop progress bar\n",
    "        for r in tqdm(in_variables, desc=\"Processing rows\", leave=False)  # Inner loop progress bar\n",
    "    )\n",
    "    # Note that this is the wrong way and must be corrected\n",
    "    df = pd.DataFrame(\n",
    "        np.array(out).reshape((len(in_variables), len(out_variables))),\n",
    "        columns=out_variables,\n",
    "        index=in_variables,\n",
    "    )\n",
    "    df.index = [var + \"_x\" for var in in_variables]\n",
    "    df.columns = [var + \"_y\" for var in out_variables]\n",
    "    return df\n",
    "\n",
    "def do_granger(trajs, in_genes, out_genes, n_jobs=1):\n",
    "    trajs = trajs.T[::10]\n",
    "    trajs = trajs - trajs.shift(1)\n",
    "    trajs = trajs.dropna()\n",
    "    out_traj = grangers_causation_matrix(\n",
    "        trajs, in_variables=in_genes, out_variables=out_genes, n_jobs=n_jobs\n",
    "    )\n",
    "    return out_traj"
   ]
  },
  {
   "cell_type": "code",
   "execution_count": 15,
   "metadata": {},
   "outputs": [],
   "source": [
    "# traj_gene_sp = np.load(\"../data_human_samples/10-trajectories_gene_space.npy\")\n",
    "cluster_id = 1\n",
    "traj_gene_sp = np.load(f\"../data/traj_gene_space_{cluster_id}.npy\", allow_pickle=True)"
   ]
  },
  {
   "cell_type": "code",
   "execution_count": 16,
   "metadata": {},
   "outputs": [],
   "source": [
    "adata = sc.read_h5ad('../data/rna_figure_ready.h5ad')"
   ]
  },
  {
   "cell_type": "code",
   "execution_count": 17,
   "metadata": {},
   "outputs": [],
   "source": [
    "# sc.pp.highly_variable_genes(adata, n_top_genes=400)\n",
    "alex_genes = open('../data/alex_genes.txt').read().splitlines()\n",
    "alex_tfs = open('../data/alex_tfs.txt').read().splitlines()"
   ]
  },
  {
   "cell_type": "code",
   "execution_count": 18,
   "metadata": {},
   "outputs": [],
   "source": [
    "# gene_mask = np.isin(adata.var_names, alex_genes)\n",
    "# tf_mask = np.isin(adata.var_names, alex_tfs)"
   ]
  },
  {
   "cell_type": "code",
   "execution_count": 19,
   "metadata": {},
   "outputs": [],
   "source": [
    "alex_gene_all = list(set(alex_genes) | set(alex_tfs))\n",
    "alex_gene_all_mask = np.isin(adata.var_names, alex_gene_all)\n",
    "traj_subset = traj_gene_sp[:, :, alex_gene_all_mask]\n",
    "gene_names = adata.var_names[alex_gene_all_mask]"
   ]
  },
  {
   "cell_type": "code",
   "execution_count": 20,
   "metadata": {},
   "outputs": [
    {
     "data": {
      "text/plain": [
       "(100, 50, 18)"
      ]
     },
     "execution_count": 20,
     "metadata": {},
     "output_type": "execute_result"
    }
   ],
   "source": [
    "traj_subset.shape"
   ]
  },
  {
   "cell_type": "code",
   "execution_count": 21,
   "metadata": {},
   "outputs": [],
   "source": [
    "# traj_df = pd.DataFrame(np.transpose(traj_subset, (1, 0, 2)).mean(axis=0), columns=gene_names)\n",
    "data = np.transpose(traj_subset, (1, 0, 2))\n",
    "valid_mask = (data.mean(axis=0).var(axis=0) != 0.0)\n",
    "data = data[:, :, valid_mask]\n",
    "gene_names = np.array(gene_names)[valid_mask]\n",
    "traj_df = pd.DataFrame(data.mean(axis=0), columns=gene_names)"
   ]
  },
  {
   "cell_type": "code",
   "execution_count": 22,
   "metadata": {},
   "outputs": [
    {
     "name": "stderr",
     "output_type": "stream",
     "text": [
      "Processing columns: 100%|██████████| 10/10 [00:00<00:00, 13.36it/s]\n"
     ]
    }
   ],
   "source": [
    "gm = do_granger(traj_df.T, in_genes=alex_tfs, out_genes=alex_genes, n_jobs=-1)"
   ]
  },
  {
   "cell_type": "code",
   "execution_count": 24,
   "metadata": {},
   "outputs": [],
   "source": [
    "gm.to_csv(f'../results/granger_cluster{cluster_id}.csv')"
   ]
  },
  {
   "cell_type": "code",
   "execution_count": null,
   "metadata": {},
   "outputs": [],
   "source": []
  }
 ],
 "metadata": {
  "kernelspec": {
   "display_name": "mioflow",
   "language": "python",
   "name": "python3"
  },
  "language_info": {
   "codemirror_mode": {
    "name": "ipython",
    "version": 3
   },
   "file_extension": ".py",
   "mimetype": "text/x-python",
   "name": "python",
   "nbconvert_exporter": "python",
   "pygments_lexer": "ipython3",
   "version": "3.10.13"
  }
 },
 "nbformat": 4,
 "nbformat_minor": 2
}
