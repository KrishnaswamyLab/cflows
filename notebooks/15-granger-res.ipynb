{
 "cells": [
  {
   "cell_type": "code",
   "execution_count": 1,
   "metadata": {},
   "outputs": [],
   "source": [
    "import pandas as pd"
   ]
  },
  {
   "cell_type": "code",
   "execution_count": 2,
   "metadata": {},
   "outputs": [],
   "source": [
    "granger_mats = {}\n",
    "for cluster in range(3):\n",
    "    df = pd.read_csv(f'../results/granger_cluster{cluster}.csv', index_col=0)\n",
    "    df.columns = [c.strip('_y') for c in df.columns]\n",
    "    df.index = [i.strip('_x') for i in df.index]\n",
    "    granger_mats[cluster] = df"
   ]
  },
  {
   "cell_type": "code",
   "execution_count": 3,
   "metadata": {},
   "outputs": [],
   "source": [
    "ending_dict = {\n",
    "    0: 'Epithelial',\n",
    "    1: 'Mesenchymal',\n",
    "    2: 'Apoptotic'\n",
    "}"
   ]
  },
  {
   "cell_type": "code",
   "execution_count": 4,
   "metadata": {},
   "outputs": [],
   "source": [
    "with pd.ExcelWriter('../results/granger_results.xlsx') as writer:\n",
    "    for cluster, df in granger_mats.items():\n",
    "        # Write each DataFrame to a different sheet\n",
    "        sheet_name = f'End w {ending_dict[cluster]} (Cluster_{cluster})'\n",
    "        df.to_excel(writer, sheet_name=sheet_name)"
   ]
  },
  {
   "cell_type": "code",
   "execution_count": null,
   "metadata": {},
   "outputs": [],
   "source": []
  }
 ],
 "metadata": {
  "kernelspec": {
   "display_name": "mioflow",
   "language": "python",
   "name": "python3"
  },
  "language_info": {
   "codemirror_mode": {
    "name": "ipython",
    "version": 3
   },
   "file_extension": ".py",
   "mimetype": "text/x-python",
   "name": "python",
   "nbconvert_exporter": "python",
   "pygments_lexer": "ipython3",
   "version": "3.10.13"
  },
  "orig_nbformat": 4
 },
 "nbformat": 4,
 "nbformat_minor": 2
}
