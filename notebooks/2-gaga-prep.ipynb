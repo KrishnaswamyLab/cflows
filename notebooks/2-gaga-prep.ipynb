{
 "cells": [
  {
   "cell_type": "code",
   "execution_count": 1,
   "metadata": {},
   "outputs": [],
   "source": [
    "import scanpy as sc\n",
    "import scprep\n",
    "import numpy as np\n",
    "import pandas as pd\n",
    "import pickle\n",
    "import matplotlib.pyplot as plt\n",
    "from scipy.spatial.distance import squareform, pdist\n",
    "import pathlib\n",
    "import phate"
   ]
  },
  {
   "cell_type": "code",
   "execution_count": 2,
   "metadata": {},
   "outputs": [],
   "source": [
    "adata = sc.read_h5ad('../data/rna_figure_ready.h5ad')"
   ]
  },
  {
   "cell_type": "code",
   "execution_count": 12,
   "metadata": {},
   "outputs": [],
   "source": [
    "X_pca = adata.obsm['X_pca']\n",
    "X_phate = adata.obsm['X_phate']\n",
    "dists = dists = squareform(pdist(X_phate))\n",
    "pca_recon_weights = adata.uns['pca']['variance']\n",
    "pca_recon_weights = pca_recon_weights / np.sum(pca_recon_weights)\n",
    "np.random.seed(32)\n",
    "if len(adata.obs_names) >= 3000:\n",
    "    train_ids = np.random.choice(adata.obs_names, 3000, replace=False)\n",
    "    is_train = adata.obs_names.isin(train_ids)\n",
    "else:\n",
    "    is_train = np.ones_like(adata.obs_names, dtype=bool)\n",
    "# X_approx = np.dot(X_pca, PCs.T) + means\n",
    "data_dict = dict(\n",
    "    data=X_pca,\n",
    "    phate=X_phate,\n",
    "    dist=dists,\n",
    "    is_train=is_train,\n",
    "    colors=adata.obs['day'].values,\n",
    "    pc_recon_weights=pca_recon_weights,\n",
    ")\n",
    "savepath = '../data/'\n",
    "pathlib.Path(savepath).mkdir(exist_ok=True)\n",
    "np.savez(f'{savepath}/2-gaga.npz', **data_dict)"
   ]
  },
  {
   "cell_type": "code",
   "execution_count": null,
   "metadata": {},
   "outputs": [],
   "source": []
  }
 ],
 "metadata": {
  "kernelspec": {
   "display_name": "mioflow",
   "language": "python",
   "name": "python3"
  },
  "language_info": {
   "codemirror_mode": {
    "name": "ipython",
    "version": 3
   },
   "file_extension": ".py",
   "mimetype": "text/x-python",
   "name": "python",
   "nbconvert_exporter": "python",
   "pygments_lexer": "ipython3",
   "version": "3.10.13"
  }
 },
 "nbformat": 4,
 "nbformat_minor": 2
}
