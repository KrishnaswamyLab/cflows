{
 "cells": [
  {
   "cell_type": "code",
   "execution_count": 1,
   "metadata": {},
   "outputs": [],
   "source": [
    "import scanpy as sc\n",
    "import pandas as pd\n",
    "import numpy as np\n",
    "import scprep\n",
    "import matplotlib.pyplot as plt"
   ]
  },
  {
   "cell_type": "code",
   "execution_count": 2,
   "metadata": {},
   "outputs": [],
   "source": [
    "adata = sc.read_h5ad(f\"../data/4-gaga.h5ad\")"
   ]
  },
  {
   "cell_type": "code",
   "execution_count": 3,
   "metadata": {},
   "outputs": [],
   "source": [
    "# merging 12 and 18 because they are mostly overlapping.\n",
    "time_dict = {\n",
    "    0.0: 0,\n",
    "    2.0: 1,\n",
    "    12.0: 2,\n",
    "    18.0: 3,\n",
    "    30.0: 4,\n",
    "}\n",
    "adata.obs['time'] = adata.obs['day'].map(time_dict)"
   ]
  },
  {
   "cell_type": "code",
   "execution_count": 4,
   "metadata": {},
   "outputs": [
    {
     "data": {
      "text/plain": [
       "(16985, 21465)"
      ]
     },
     "execution_count": 4,
     "metadata": {},
     "output_type": "execute_result"
    }
   ],
   "source": [
    "adata.shape"
   ]
  },
  {
   "cell_type": "code",
   "execution_count": 9,
   "metadata": {},
   "outputs": [],
   "source": [
    "mioflow_df = pd.DataFrame(adata.obsm['X_phate'], columns=['d1', 'd2'], index=adata.obs.index)\n",
    "mioflow_df['samples'] = adata.obs['time'].values\n",
    "mioflow_df.to_csv(f'../data/phate_data.csv', index=True)"
   ]
  },
  {
   "cell_type": "code",
   "execution_count": null,
   "metadata": {},
   "outputs": [],
   "source": []
  }
 ],
 "metadata": {
  "kernelspec": {
   "display_name": "Python 3.10.13 64-bit ('mioflow')",
   "language": "python",
   "name": "python3"
  },
  "language_info": {
   "codemirror_mode": {
    "name": "ipython",
    "version": 3
   },
   "file_extension": ".py",
   "mimetype": "text/x-python",
   "name": "python",
   "nbconvert_exporter": "python",
   "pygments_lexer": "ipython3",
   "version": "3.10.13"
  },
  "orig_nbformat": 4,
  "vscode": {
   "interpreter": {
    "hash": "35a0e970b3684e8c067a20651e433c9a1acc13616c9056a73dc652e22a079e31"
   }
  }
 },
 "nbformat": 4,
 "nbformat_minor": 2
}
