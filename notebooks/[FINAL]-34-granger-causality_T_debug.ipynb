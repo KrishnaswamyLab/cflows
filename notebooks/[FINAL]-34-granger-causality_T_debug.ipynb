{
 "cells": [
  {
   "cell_type": "code",
   "execution_count": 1,
   "metadata": {},
   "outputs": [],
   "source": [
    "import pandas as pd\n",
    "# import scprep as sc\n",
    "import scanpy as sc\n",
    "import phate\n",
    "import numpy as np\n",
    "import seaborn as sns\n",
    "import scprep\n",
    "from sklearn.metrics import roc_auc_score, average_precision_score\n",
    "import os\n",
    "from tqdm import tqdm\n",
    "import warnings\n"
   ]
  },
  {
   "cell_type": "code",
   "execution_count": null,
   "metadata": {},
   "outputs": [],
   "source": [
    "from tqdm import tqdm\n",
    "import warnings\n",
    "## KPSS Null hypothesis: there is a no unit root, meaning series is stationary\n",
    "from statsmodels.tsa.stattools import kpss\n",
    "\n",
    "\n",
    "def kpss_test(series, **kw):\n",
    "    statistic, p_value, n_lags, critical_values = kpss(series, **kw)\n",
    "    # Format Output\n",
    "    print(f\"KPSS Statistic: {statistic}\")\n",
    "    print(f\"p-value: {p_value}\")\n",
    "    print(f\"num lags: {n_lags}\")\n",
    "    print(\"Critial Values:\")\n",
    "    for key, value in critical_values.items():\n",
    "        print(f\"   {key} : {value}\")\n",
    "    print(f'Result: The series is {\"not \" if p_value < 0.05 else \"\"}stationary')\n",
    "\n",
    "\n",
    "from statsmodels.tsa.stattools import grangercausalitytests\n",
    "\n",
    "lag_order = 1\n",
    "maxlag = (\n",
    "    lag_order,  # becuase we got this value before. We are not suppose to add 1 to it\n",
    ")\n",
    "test = \"ssr_chi2test\"\n",
    "\n",
    "from joblib import Parallel, delayed\n",
    "\n",
    "def grangers_causation_matrix(\n",
    "    data, in_variables, out_variables, test=\"ssr_chi2test\", n_jobs=1, warn=False\n",
    "):\n",
    "    \"\"\"Check Granger Causality of all possible combinations of the Time series.\n",
    "    The rows are the response variable, columns are predictors. The values in the table \n",
    "    are the P-Values. P-Values lesser than the significance level (0.05), implies \n",
    "    the Null Hypothesis that the coefficients of the corresponding past values is \n",
    "    zero, that is, the X does not cause Y can be rejected.\n",
    "\n",
    "    data      : pandas dataframe containing the time series variables\n",
    "    variables : list containing names of the time series variables.\n",
    "    \"\"\"\n",
    "\n",
    "    def get_pval(dd):\n",
    "        if warn:\n",
    "            test_result = grangercausalitytests(dd, maxlag=maxlag, verbose=True)\n",
    "        else:\n",
    "            with warnings.catch_warnings():\n",
    "                warnings.simplefilter(\"ignore\", category=FutureWarning)\n",
    "                test_result = grangercausalitytests(dd, maxlag=maxlag, verbose=False)\n",
    "                # according to the documentation https://www.statsmodels.org/dev/generated/statsmodels.tsa.stattools.grangercausalitytests.html,\n",
    "                # the dd has 2 columns, second causes the first.\n",
    "        p_values = [test_result[i][0][test][1] for i in maxlag]\n",
    "        min_p_value = np.min(p_values)\n",
    "        return min_p_value\n",
    "\n",
    "    out = Parallel(n_jobs=n_jobs)(\n",
    "        # delayed(get_pval)(data[[r, c]]) # this is incorrect\n",
    "        delayed(get_pval)(data[[c, r]]) # this means r causes c, so r is be in and c is out\n",
    "        for c in tqdm(out_variables, desc=\"Processing columns\")  # Outer loop progress bar\n",
    "        for r in tqdm(in_variables, desc=\"Processing rows\", leave=False)  # Inner loop progress bar\n",
    "    )\n",
    "    # Note that this is the wrong way and must be corrected\n",
    "    # df = pd.DataFrame(\n",
    "    #     np.array(out).reshape((len(in_variables), len(out_variables))), # this is incorrect\n",
    "    #     columns=out_variables,\n",
    "    #     index=in_variables,\n",
    "    # )\n",
    "    df = pd.DataFrame(\n",
    "        np.array(out).reshape((len(out_variables), len(in_variables))), # should be reshaped to len(out_variables), len(in_variables) according to the for loop.\n",
    "        columns=in_variables,\n",
    "        index=out_variables,\n",
    "    ).T # used the correct reshaping, and then transposed the matrix so the x and y are semantically correct (x causes y).\n",
    "    df.index = [var + \"_x\" for var in in_variables]\n",
    "    df.columns = [var + \"_y\" for var in out_variables]\n",
    "    return df\n",
    "\n",
    "def do_granger(trajs, in_genes, out_genes, n_jobs=1, warn=False):\n",
    "    # in causes out\n",
    "    # trajs = trajs.T[::10]\n",
    "    trajs = trajs.T # do not shorten it\n",
    "    trajs = trajs - trajs.shift(1)\n",
    "    trajs = trajs.dropna()\n",
    "    out_traj = grangers_causation_matrix(\n",
    "        trajs, in_variables=in_genes, out_variables=out_genes, n_jobs=n_jobs, warn=warn\n",
    "    )\n",
    "    return out_traj"
   ]
  },
  {
   "cell_type": "code",
   "execution_count": null,
   "metadata": {},
   "outputs": [],
   "source": [
    "# traj_gene_sp = np.load(\"../data_human_samples/10-trajectories_gene_space.npy\")\n",
    "traj_gene_sp = np.load(f\"../results_final_Dec22/traj_gene_space_T.npy\", allow_pickle=True)"
   ]
  },
  {
   "cell_type": "code",
   "execution_count": 4,
   "metadata": {},
   "outputs": [],
   "source": [
    "adata = sc.read_h5ad('../data/rna_figure_ready.h5ad')"
   ]
  },
  {
   "cell_type": "code",
   "execution_count": 5,
   "metadata": {},
   "outputs": [],
   "source": [
    "# sc.pp.highly_variable_genes(adata, n_top_genes=400)\n",
    "alex_genes = open('../data/alex_genes.txt').read().splitlines()\n",
    "alex_tfs = open('../data/alex_tfs.txt').read().splitlines()"
   ]
  },
  {
   "cell_type": "code",
   "execution_count": 6,
   "metadata": {},
   "outputs": [],
   "source": [
    "# gene_mask = np.isin(adata.var_names, alex_genes)\n",
    "# tf_mask = np.isin(adata.var_names, alex_tfs)"
   ]
  },
  {
   "cell_type": "code",
   "execution_count": 7,
   "metadata": {},
   "outputs": [],
   "source": [
    "alex_gene_all = list(set(alex_genes) | set(alex_tfs))\n",
    "alex_gene_all_mask = np.isin(adata.var_names, alex_gene_all)\n",
    "traj_subset = traj_gene_sp[:, :, alex_gene_all_mask]\n",
    "gene_names = adata.var_names[alex_gene_all_mask]"
   ]
  },
  {
   "cell_type": "code",
   "execution_count": 8,
   "metadata": {},
   "outputs": [
    {
     "data": {
      "text/plain": [
       "(100, 92, 2226)"
      ]
     },
     "execution_count": 8,
     "metadata": {},
     "output_type": "execute_result"
    }
   ],
   "source": [
    "traj_subset.shape"
   ]
  },
  {
   "cell_type": "code",
   "execution_count": 9,
   "metadata": {},
   "outputs": [],
   "source": [
    "# traj_df = pd.DataFrame(np.transpose(traj_subset, (1, 0, 2)).mean(axis=0), columns=gene_names)\n",
    "data = np.transpose(traj_subset, (1, 0, 2))\n",
    "valid_mask = (data.mean(axis=0).var(axis=0) != 0.0)\n",
    "data = data[:, :, valid_mask]\n",
    "gene_names = np.array(gene_names)[valid_mask]\n",
    "traj_df = pd.DataFrame(data.mean(axis=0), columns=gene_names)"
   ]
  },
  {
   "cell_type": "code",
   "execution_count": 14,
   "metadata": {},
   "outputs": [
    {
     "name": "stderr",
     "output_type": "stream",
     "text": [
      "Processing columns:   0%|          | 7/1970 [00:06<27:30,  1.19it/s]"
     ]
    },
    {
     "ename": "KeyboardInterrupt",
     "evalue": "",
     "output_type": "error",
     "traceback": [
      "\u001b[0;31m---------------------------------------------------------------------------\u001b[0m",
      "\u001b[0;31mKeyboardInterrupt\u001b[0m                         Traceback (most recent call last)",
      "Cell \u001b[0;32mIn[14], line 1\u001b[0m\n\u001b[0;32m----> 1\u001b[0m gm \u001b[38;5;241m=\u001b[39m \u001b[43mdo_granger\u001b[49m\u001b[43m(\u001b[49m\u001b[43mtraj_df\u001b[49m\u001b[38;5;241;43m.\u001b[39;49m\u001b[43mT\u001b[49m\u001b[43m,\u001b[49m\u001b[43m \u001b[49m\u001b[43min_genes\u001b[49m\u001b[38;5;241;43m=\u001b[39;49m\u001b[43malex_tfs\u001b[49m\u001b[43m,\u001b[49m\u001b[43m \u001b[49m\u001b[43mout_genes\u001b[49m\u001b[38;5;241;43m=\u001b[39;49m\u001b[43malex_genes\u001b[49m\u001b[43m,\u001b[49m\u001b[43m \u001b[49m\u001b[43mn_jobs\u001b[49m\u001b[38;5;241;43m=\u001b[39;49m\u001b[38;5;241;43m-\u001b[39;49m\u001b[38;5;241;43m1\u001b[39;49m\u001b[43m)\u001b[49m\n",
      "Cell \u001b[0;32mIn[2], line 70\u001b[0m, in \u001b[0;36mdo_granger\u001b[0;34m(trajs, in_genes, out_genes, n_jobs, warn)\u001b[0m\n\u001b[1;32m     68\u001b[0m trajs \u001b[38;5;241m=\u001b[39m trajs \u001b[38;5;241m-\u001b[39m trajs\u001b[38;5;241m.\u001b[39mshift(\u001b[38;5;241m1\u001b[39m)\n\u001b[1;32m     69\u001b[0m trajs \u001b[38;5;241m=\u001b[39m trajs\u001b[38;5;241m.\u001b[39mdropna()\n\u001b[0;32m---> 70\u001b[0m out_traj \u001b[38;5;241m=\u001b[39m \u001b[43mgrangers_causation_matrix\u001b[49m\u001b[43m(\u001b[49m\n\u001b[1;32m     71\u001b[0m \u001b[43m    \u001b[49m\u001b[43mtrajs\u001b[49m\u001b[43m,\u001b[49m\u001b[43m \u001b[49m\u001b[43min_variables\u001b[49m\u001b[38;5;241;43m=\u001b[39;49m\u001b[43min_genes\u001b[49m\u001b[43m,\u001b[49m\u001b[43m \u001b[49m\u001b[43mout_variables\u001b[49m\u001b[38;5;241;43m=\u001b[39;49m\u001b[43mout_genes\u001b[49m\u001b[43m,\u001b[49m\u001b[43m \u001b[49m\u001b[43mn_jobs\u001b[49m\u001b[38;5;241;43m=\u001b[39;49m\u001b[43mn_jobs\u001b[49m\u001b[43m,\u001b[49m\u001b[43m \u001b[49m\u001b[43mwarn\u001b[49m\u001b[38;5;241;43m=\u001b[39;49m\u001b[43mwarn\u001b[49m\n\u001b[1;32m     72\u001b[0m \u001b[43m\u001b[49m\u001b[43m)\u001b[49m\n\u001b[1;32m     73\u001b[0m \u001b[38;5;28;01mreturn\u001b[39;00m out_traj\n",
      "Cell \u001b[0;32mIn[2], line 51\u001b[0m, in \u001b[0;36mgrangers_causation_matrix\u001b[0;34m(data, in_variables, out_variables, test, n_jobs, warn)\u001b[0m\n\u001b[1;32m     48\u001b[0m     min_p_value \u001b[38;5;241m=\u001b[39m np\u001b[38;5;241m.\u001b[39mmin(p_values)\n\u001b[1;32m     49\u001b[0m     \u001b[38;5;28;01mreturn\u001b[39;00m min_p_value\n\u001b[0;32m---> 51\u001b[0m out \u001b[38;5;241m=\u001b[39m \u001b[43mParallel\u001b[49m\u001b[43m(\u001b[49m\u001b[43mn_jobs\u001b[49m\u001b[38;5;241;43m=\u001b[39;49m\u001b[43mn_jobs\u001b[49m\u001b[43m)\u001b[49m\u001b[43m(\u001b[49m\n\u001b[1;32m     52\u001b[0m \u001b[43m    \u001b[49m\u001b[43mdelayed\u001b[49m\u001b[43m(\u001b[49m\u001b[43mget_pval\u001b[49m\u001b[43m)\u001b[49m\u001b[43m(\u001b[49m\u001b[43mdata\u001b[49m\u001b[43m[\u001b[49m\u001b[43m[\u001b[49m\u001b[43mr\u001b[49m\u001b[43m,\u001b[49m\u001b[43m \u001b[49m\u001b[43mc\u001b[49m\u001b[43m]\u001b[49m\u001b[43m]\u001b[49m\u001b[43m)\u001b[49m\u001b[43m \u001b[49m\n\u001b[1;32m     53\u001b[0m \u001b[43m    \u001b[49m\u001b[38;5;28;43;01mfor\u001b[39;49;00m\u001b[43m \u001b[49m\u001b[43mc\u001b[49m\u001b[43m \u001b[49m\u001b[38;5;129;43;01min\u001b[39;49;00m\u001b[43m \u001b[49m\u001b[43mtqdm\u001b[49m\u001b[43m(\u001b[49m\u001b[43mout_variables\u001b[49m\u001b[43m,\u001b[49m\u001b[43m \u001b[49m\u001b[43mdesc\u001b[49m\u001b[38;5;241;43m=\u001b[39;49m\u001b[38;5;124;43m\"\u001b[39;49m\u001b[38;5;124;43mProcessing columns\u001b[39;49m\u001b[38;5;124;43m\"\u001b[39;49m\u001b[43m)\u001b[49m\u001b[43m  \u001b[49m\u001b[38;5;66;43;03m# Outer loop progress bar\u001b[39;49;00m\n\u001b[1;32m     54\u001b[0m \u001b[43m    \u001b[49m\u001b[38;5;28;43;01mfor\u001b[39;49;00m\u001b[43m \u001b[49m\u001b[43mr\u001b[49m\u001b[43m \u001b[49m\u001b[38;5;129;43;01min\u001b[39;49;00m\u001b[43m \u001b[49m\u001b[43mtqdm\u001b[49m\u001b[43m(\u001b[49m\u001b[43min_variables\u001b[49m\u001b[43m,\u001b[49m\u001b[43m \u001b[49m\u001b[43mdesc\u001b[49m\u001b[38;5;241;43m=\u001b[39;49m\u001b[38;5;124;43m\"\u001b[39;49m\u001b[38;5;124;43mProcessing rows\u001b[39;49m\u001b[38;5;124;43m\"\u001b[39;49m\u001b[43m,\u001b[49m\u001b[43m \u001b[49m\u001b[43mleave\u001b[49m\u001b[38;5;241;43m=\u001b[39;49m\u001b[38;5;28;43;01mFalse\u001b[39;49;00m\u001b[43m)\u001b[49m\u001b[43m  \u001b[49m\u001b[38;5;66;43;03m# Inner loop progress bar\u001b[39;49;00m\n\u001b[1;32m     55\u001b[0m \u001b[43m\u001b[49m\u001b[43m)\u001b[49m\n\u001b[1;32m     56\u001b[0m \u001b[38;5;66;03m# Note that this is the wrong way and must be corrected\u001b[39;00m\n\u001b[1;32m     57\u001b[0m df \u001b[38;5;241m=\u001b[39m pd\u001b[38;5;241m.\u001b[39mDataFrame(\n\u001b[1;32m     58\u001b[0m     np\u001b[38;5;241m.\u001b[39marray(out)\u001b[38;5;241m.\u001b[39mreshape((\u001b[38;5;28mlen\u001b[39m(in_variables), \u001b[38;5;28mlen\u001b[39m(out_variables))),\n\u001b[1;32m     59\u001b[0m     columns\u001b[38;5;241m=\u001b[39mout_variables,\n\u001b[1;32m     60\u001b[0m     index\u001b[38;5;241m=\u001b[39min_variables,\n\u001b[1;32m     61\u001b[0m )\n",
      "File \u001b[0;32m/gpfs/gibbs/pi/krishnaswamy_smita/xingzhi/.conda_envs/mioflow/lib/python3.10/site-packages/joblib/parallel.py:1863\u001b[0m, in \u001b[0;36mParallel.__call__\u001b[0;34m(self, iterable)\u001b[0m\n\u001b[1;32m   1861\u001b[0m     output \u001b[38;5;241m=\u001b[39m \u001b[38;5;28mself\u001b[39m\u001b[38;5;241m.\u001b[39m_get_sequential_output(iterable)\n\u001b[1;32m   1862\u001b[0m     \u001b[38;5;28mnext\u001b[39m(output)\n\u001b[0;32m-> 1863\u001b[0m     \u001b[38;5;28;01mreturn\u001b[39;00m output \u001b[38;5;28;01mif\u001b[39;00m \u001b[38;5;28mself\u001b[39m\u001b[38;5;241m.\u001b[39mreturn_generator \u001b[38;5;28;01melse\u001b[39;00m \u001b[38;5;28;43mlist\u001b[39;49m\u001b[43m(\u001b[49m\u001b[43moutput\u001b[49m\u001b[43m)\u001b[49m\n\u001b[1;32m   1865\u001b[0m \u001b[38;5;66;03m# Let's create an ID that uniquely identifies the current call. If the\u001b[39;00m\n\u001b[1;32m   1866\u001b[0m \u001b[38;5;66;03m# call is interrupted early and that the same instance is immediately\u001b[39;00m\n\u001b[1;32m   1867\u001b[0m \u001b[38;5;66;03m# re-used, this id will be used to prevent workers that were\u001b[39;00m\n\u001b[1;32m   1868\u001b[0m \u001b[38;5;66;03m# concurrently finalizing a task from the previous call to run the\u001b[39;00m\n\u001b[1;32m   1869\u001b[0m \u001b[38;5;66;03m# callback.\u001b[39;00m\n\u001b[1;32m   1870\u001b[0m \u001b[38;5;28;01mwith\u001b[39;00m \u001b[38;5;28mself\u001b[39m\u001b[38;5;241m.\u001b[39m_lock:\n",
      "File \u001b[0;32m/gpfs/gibbs/pi/krishnaswamy_smita/xingzhi/.conda_envs/mioflow/lib/python3.10/site-packages/joblib/parallel.py:1789\u001b[0m, in \u001b[0;36mParallel._get_sequential_output\u001b[0;34m(self, iterable)\u001b[0m\n\u001b[1;32m   1786\u001b[0m \u001b[38;5;28;01myield\u001b[39;00m \u001b[38;5;28;01mNone\u001b[39;00m\n\u001b[1;32m   1788\u001b[0m \u001b[38;5;66;03m# Sequentially call the tasks and yield the results.\u001b[39;00m\n\u001b[0;32m-> 1789\u001b[0m \u001b[38;5;28;01mfor\u001b[39;00m func, args, kwargs \u001b[38;5;129;01min\u001b[39;00m iterable:\n\u001b[1;32m   1790\u001b[0m     \u001b[38;5;28mself\u001b[39m\u001b[38;5;241m.\u001b[39mn_dispatched_batches \u001b[38;5;241m+\u001b[39m\u001b[38;5;241m=\u001b[39m \u001b[38;5;241m1\u001b[39m\n\u001b[1;32m   1791\u001b[0m     \u001b[38;5;28mself\u001b[39m\u001b[38;5;241m.\u001b[39mn_dispatched_tasks \u001b[38;5;241m+\u001b[39m\u001b[38;5;241m=\u001b[39m \u001b[38;5;241m1\u001b[39m\n",
      "Cell \u001b[0;32mIn[2], line 52\u001b[0m, in \u001b[0;36m<genexpr>\u001b[0;34m(.0)\u001b[0m\n\u001b[1;32m     48\u001b[0m     min_p_value \u001b[38;5;241m=\u001b[39m np\u001b[38;5;241m.\u001b[39mmin(p_values)\n\u001b[1;32m     49\u001b[0m     \u001b[38;5;28;01mreturn\u001b[39;00m min_p_value\n\u001b[1;32m     51\u001b[0m out \u001b[38;5;241m=\u001b[39m Parallel(n_jobs\u001b[38;5;241m=\u001b[39mn_jobs)(\n\u001b[0;32m---> 52\u001b[0m     delayed(get_pval)(\u001b[43mdata\u001b[49m\u001b[43m[\u001b[49m\u001b[43m[\u001b[49m\u001b[43mr\u001b[49m\u001b[43m,\u001b[49m\u001b[43m \u001b[49m\u001b[43mc\u001b[49m\u001b[43m]\u001b[49m\u001b[43m]\u001b[49m) \n\u001b[1;32m     53\u001b[0m     \u001b[38;5;28;01mfor\u001b[39;00m c \u001b[38;5;129;01min\u001b[39;00m tqdm(out_variables, desc\u001b[38;5;241m=\u001b[39m\u001b[38;5;124m\"\u001b[39m\u001b[38;5;124mProcessing columns\u001b[39m\u001b[38;5;124m\"\u001b[39m)  \u001b[38;5;66;03m# Outer loop progress bar\u001b[39;00m\n\u001b[1;32m     54\u001b[0m     \u001b[38;5;28;01mfor\u001b[39;00m r \u001b[38;5;129;01min\u001b[39;00m tqdm(in_variables, desc\u001b[38;5;241m=\u001b[39m\u001b[38;5;124m\"\u001b[39m\u001b[38;5;124mProcessing rows\u001b[39m\u001b[38;5;124m\"\u001b[39m, leave\u001b[38;5;241m=\u001b[39m\u001b[38;5;28;01mFalse\u001b[39;00m)  \u001b[38;5;66;03m# Inner loop progress bar\u001b[39;00m\n\u001b[1;32m     55\u001b[0m )\n\u001b[1;32m     56\u001b[0m \u001b[38;5;66;03m# Note that this is the wrong way and must be corrected\u001b[39;00m\n\u001b[1;32m     57\u001b[0m df \u001b[38;5;241m=\u001b[39m pd\u001b[38;5;241m.\u001b[39mDataFrame(\n\u001b[1;32m     58\u001b[0m     np\u001b[38;5;241m.\u001b[39marray(out)\u001b[38;5;241m.\u001b[39mreshape((\u001b[38;5;28mlen\u001b[39m(in_variables), \u001b[38;5;28mlen\u001b[39m(out_variables))),\n\u001b[1;32m     59\u001b[0m     columns\u001b[38;5;241m=\u001b[39mout_variables,\n\u001b[1;32m     60\u001b[0m     index\u001b[38;5;241m=\u001b[39min_variables,\n\u001b[1;32m     61\u001b[0m )\n",
      "File \u001b[0;32m/gpfs/gibbs/pi/krishnaswamy_smita/xingzhi/.conda_envs/mioflow/lib/python3.10/site-packages/pandas/core/frame.py:3813\u001b[0m, in \u001b[0;36mDataFrame.__getitem__\u001b[0;34m(self, key)\u001b[0m\n\u001b[1;32m   3811\u001b[0m     \u001b[38;5;28;01mif\u001b[39;00m is_iterator(key):\n\u001b[1;32m   3812\u001b[0m         key \u001b[38;5;241m=\u001b[39m \u001b[38;5;28mlist\u001b[39m(key)\n\u001b[0;32m-> 3813\u001b[0m     indexer \u001b[38;5;241m=\u001b[39m \u001b[38;5;28;43mself\u001b[39;49m\u001b[38;5;241;43m.\u001b[39;49m\u001b[43mcolumns\u001b[49m\u001b[38;5;241;43m.\u001b[39;49m\u001b[43m_get_indexer_strict\u001b[49m\u001b[43m(\u001b[49m\u001b[43mkey\u001b[49m\u001b[43m,\u001b[49m\u001b[43m \u001b[49m\u001b[38;5;124;43m\"\u001b[39;49m\u001b[38;5;124;43mcolumns\u001b[39;49m\u001b[38;5;124;43m\"\u001b[39;49m\u001b[43m)\u001b[49m[\u001b[38;5;241m1\u001b[39m]\n\u001b[1;32m   3815\u001b[0m \u001b[38;5;66;03m# take() does not accept boolean indexers\u001b[39;00m\n\u001b[1;32m   3816\u001b[0m \u001b[38;5;28;01mif\u001b[39;00m \u001b[38;5;28mgetattr\u001b[39m(indexer, \u001b[38;5;124m\"\u001b[39m\u001b[38;5;124mdtype\u001b[39m\u001b[38;5;124m\"\u001b[39m, \u001b[38;5;28;01mNone\u001b[39;00m) \u001b[38;5;241m==\u001b[39m \u001b[38;5;28mbool\u001b[39m:\n",
      "File \u001b[0;32m/gpfs/gibbs/pi/krishnaswamy_smita/xingzhi/.conda_envs/mioflow/lib/python3.10/site-packages/pandas/core/indexes/base.py:6065\u001b[0m, in \u001b[0;36mIndex._get_indexer_strict\u001b[0;34m(self, key, axis_name)\u001b[0m\n\u001b[1;32m   6062\u001b[0m     keyarr \u001b[38;5;241m=\u001b[39m com\u001b[38;5;241m.\u001b[39masarray_tuplesafe(keyarr)\n\u001b[1;32m   6064\u001b[0m \u001b[38;5;28;01mif\u001b[39;00m \u001b[38;5;28mself\u001b[39m\u001b[38;5;241m.\u001b[39m_index_as_unique:\n\u001b[0;32m-> 6065\u001b[0m     indexer \u001b[38;5;241m=\u001b[39m \u001b[38;5;28;43mself\u001b[39;49m\u001b[38;5;241;43m.\u001b[39;49m\u001b[43mget_indexer_for\u001b[49m\u001b[43m(\u001b[49m\u001b[43mkeyarr\u001b[49m\u001b[43m)\u001b[49m\n\u001b[1;32m   6066\u001b[0m     keyarr \u001b[38;5;241m=\u001b[39m \u001b[38;5;28mself\u001b[39m\u001b[38;5;241m.\u001b[39mreindex(keyarr)[\u001b[38;5;241m0\u001b[39m]\n\u001b[1;32m   6067\u001b[0m \u001b[38;5;28;01melse\u001b[39;00m:\n",
      "File \u001b[0;32m/gpfs/gibbs/pi/krishnaswamy_smita/xingzhi/.conda_envs/mioflow/lib/python3.10/site-packages/pandas/core/indexes/base.py:6052\u001b[0m, in \u001b[0;36mIndex.get_indexer_for\u001b[0;34m(self, target)\u001b[0m\n\u001b[1;32m   6034\u001b[0m \u001b[38;5;250m\u001b[39m\u001b[38;5;124;03m\"\"\"\u001b[39;00m\n\u001b[1;32m   6035\u001b[0m \u001b[38;5;124;03mGuaranteed return of an indexer even when non-unique.\u001b[39;00m\n\u001b[1;32m   6036\u001b[0m \n\u001b[0;32m   (...)\u001b[0m\n\u001b[1;32m   6049\u001b[0m \u001b[38;5;124;03marray([0, 2])\u001b[39;00m\n\u001b[1;32m   6050\u001b[0m \u001b[38;5;124;03m\"\"\"\u001b[39;00m\n\u001b[1;32m   6051\u001b[0m \u001b[38;5;28;01mif\u001b[39;00m \u001b[38;5;28mself\u001b[39m\u001b[38;5;241m.\u001b[39m_index_as_unique:\n\u001b[0;32m-> 6052\u001b[0m     \u001b[38;5;28;01mreturn\u001b[39;00m \u001b[38;5;28;43mself\u001b[39;49m\u001b[38;5;241;43m.\u001b[39;49m\u001b[43mget_indexer\u001b[49m\u001b[43m(\u001b[49m\u001b[43mtarget\u001b[49m\u001b[43m)\u001b[49m\n\u001b[1;32m   6053\u001b[0m indexer, _ \u001b[38;5;241m=\u001b[39m \u001b[38;5;28mself\u001b[39m\u001b[38;5;241m.\u001b[39mget_indexer_non_unique(target)\n\u001b[1;32m   6054\u001b[0m \u001b[38;5;28;01mreturn\u001b[39;00m indexer\n",
      "File \u001b[0;32m/gpfs/gibbs/pi/krishnaswamy_smita/xingzhi/.conda_envs/mioflow/lib/python3.10/site-packages/pandas/core/indexes/base.py:3901\u001b[0m, in \u001b[0;36mIndex.get_indexer\u001b[0;34m(self, target, method, limit, tolerance)\u001b[0m\n\u001b[1;32m   3898\u001b[0m orig_target \u001b[38;5;241m=\u001b[39m target\n\u001b[1;32m   3899\u001b[0m target \u001b[38;5;241m=\u001b[39m \u001b[38;5;28mself\u001b[39m\u001b[38;5;241m.\u001b[39m_maybe_cast_listlike_indexer(target)\n\u001b[0;32m-> 3901\u001b[0m \u001b[38;5;28;43mself\u001b[39;49m\u001b[38;5;241;43m.\u001b[39;49m\u001b[43m_check_indexing_method\u001b[49m\u001b[43m(\u001b[49m\u001b[43mmethod\u001b[49m\u001b[43m,\u001b[49m\u001b[43m \u001b[49m\u001b[43mlimit\u001b[49m\u001b[43m,\u001b[49m\u001b[43m \u001b[49m\u001b[43mtolerance\u001b[49m\u001b[43m)\u001b[49m\n\u001b[1;32m   3903\u001b[0m \u001b[38;5;28;01mif\u001b[39;00m \u001b[38;5;129;01mnot\u001b[39;00m \u001b[38;5;28mself\u001b[39m\u001b[38;5;241m.\u001b[39m_index_as_unique:\n\u001b[1;32m   3904\u001b[0m     \u001b[38;5;28;01mraise\u001b[39;00m InvalidIndexError(\u001b[38;5;28mself\u001b[39m\u001b[38;5;241m.\u001b[39m_requires_unique_msg)\n",
      "File \u001b[0;32m/gpfs/gibbs/pi/krishnaswamy_smita/xingzhi/.conda_envs/mioflow/lib/python3.10/site-packages/pandas/core/indexes/base.py:4047\u001b[0m, in \u001b[0;36mIndex._check_indexing_method\u001b[0;34m(self, method, limit, tolerance)\u001b[0m\n\u001b[1;32m   4042\u001b[0m         \u001b[38;5;28;01mif\u001b[39;00m tolerance \u001b[38;5;129;01mis\u001b[39;00m \u001b[38;5;129;01mnot\u001b[39;00m \u001b[38;5;28;01mNone\u001b[39;00m:\n\u001b[1;32m   4043\u001b[0m             \u001b[38;5;28;01mraise\u001b[39;00m \u001b[38;5;167;01mNotImplementedError\u001b[39;00m(\n\u001b[1;32m   4044\u001b[0m                 \u001b[38;5;124m\"\u001b[39m\u001b[38;5;124mtolerance not implemented yet for MultiIndex\u001b[39m\u001b[38;5;124m\"\u001b[39m\n\u001b[1;32m   4045\u001b[0m             )\n\u001b[0;32m-> 4047\u001b[0m \u001b[38;5;28;01mif\u001b[39;00m \u001b[43mis_interval_dtype\u001b[49m\u001b[43m(\u001b[49m\u001b[38;5;28;43mself\u001b[39;49m\u001b[38;5;241;43m.\u001b[39;49m\u001b[43mdtype\u001b[49m\u001b[43m)\u001b[49m \u001b[38;5;129;01mor\u001b[39;00m is_categorical_dtype(\u001b[38;5;28mself\u001b[39m\u001b[38;5;241m.\u001b[39mdtype):\n\u001b[1;32m   4048\u001b[0m     \u001b[38;5;66;03m# GH#37871 for now this is only for IntervalIndex and CategoricalIndex\u001b[39;00m\n\u001b[1;32m   4049\u001b[0m     \u001b[38;5;28;01mif\u001b[39;00m method \u001b[38;5;129;01mis\u001b[39;00m \u001b[38;5;129;01mnot\u001b[39;00m \u001b[38;5;28;01mNone\u001b[39;00m:\n\u001b[1;32m   4050\u001b[0m         \u001b[38;5;28;01mraise\u001b[39;00m \u001b[38;5;167;01mNotImplementedError\u001b[39;00m(\n\u001b[1;32m   4051\u001b[0m             \u001b[38;5;124mf\u001b[39m\u001b[38;5;124m\"\u001b[39m\u001b[38;5;124mmethod \u001b[39m\u001b[38;5;132;01m{\u001b[39;00mmethod\u001b[38;5;132;01m}\u001b[39;00m\u001b[38;5;124m not yet implemented for \u001b[39m\u001b[38;5;132;01m{\u001b[39;00m\u001b[38;5;28mtype\u001b[39m(\u001b[38;5;28mself\u001b[39m)\u001b[38;5;241m.\u001b[39m\u001b[38;5;18m__name__\u001b[39m\u001b[38;5;132;01m}\u001b[39;00m\u001b[38;5;124m\"\u001b[39m\n\u001b[1;32m   4052\u001b[0m         )\n",
      "File \u001b[0;32m/gpfs/gibbs/pi/krishnaswamy_smita/xingzhi/.conda_envs/mioflow/lib/python3.10/site-packages/pandas/core/dtypes/common.py:498\u001b[0m, in \u001b[0;36mis_interval_dtype\u001b[0;34m(arr_or_dtype)\u001b[0m\n\u001b[1;32m    496\u001b[0m \u001b[38;5;28;01mif\u001b[39;00m arr_or_dtype \u001b[38;5;129;01mis\u001b[39;00m \u001b[38;5;28;01mNone\u001b[39;00m:\n\u001b[1;32m    497\u001b[0m     \u001b[38;5;28;01mreturn\u001b[39;00m \u001b[38;5;28;01mFalse\u001b[39;00m\n\u001b[0;32m--> 498\u001b[0m \u001b[38;5;28;01mreturn\u001b[39;00m \u001b[43mIntervalDtype\u001b[49m\u001b[38;5;241;43m.\u001b[39;49m\u001b[43mis_dtype\u001b[49m\u001b[43m(\u001b[49m\u001b[43marr_or_dtype\u001b[49m\u001b[43m)\u001b[49m\n",
      "File \u001b[0;32m/gpfs/gibbs/pi/krishnaswamy_smita/xingzhi/.conda_envs/mioflow/lib/python3.10/site-packages/pandas/core/dtypes/dtypes.py:1253\u001b[0m, in \u001b[0;36mIntervalDtype.is_dtype\u001b[0;34m(cls, dtype)\u001b[0m\n\u001b[1;32m   1247\u001b[0m \u001b[38;5;129m@classmethod\u001b[39m\n\u001b[1;32m   1248\u001b[0m \u001b[38;5;28;01mdef\u001b[39;00m \u001b[38;5;21mis_dtype\u001b[39m(\u001b[38;5;28mcls\u001b[39m, dtype: \u001b[38;5;28mobject\u001b[39m) \u001b[38;5;241m-\u001b[39m\u001b[38;5;241m>\u001b[39m \u001b[38;5;28mbool\u001b[39m:\n\u001b[1;32m   1249\u001b[0m \u001b[38;5;250m    \u001b[39m\u001b[38;5;124;03m\"\"\"\u001b[39;00m\n\u001b[1;32m   1250\u001b[0m \u001b[38;5;124;03m    Return a boolean if we if the passed type is an actual dtype that we\u001b[39;00m\n\u001b[1;32m   1251\u001b[0m \u001b[38;5;124;03m    can match (via string or type)\u001b[39;00m\n\u001b[1;32m   1252\u001b[0m \u001b[38;5;124;03m    \"\"\"\u001b[39;00m\n\u001b[0;32m-> 1253\u001b[0m     \u001b[38;5;28;01mif\u001b[39;00m \u001b[38;5;28;43misinstance\u001b[39;49m\u001b[43m(\u001b[49m\u001b[43mdtype\u001b[49m\u001b[43m,\u001b[49m\u001b[43m \u001b[49m\u001b[38;5;28;43mstr\u001b[39;49m\u001b[43m)\u001b[49m:\n\u001b[1;32m   1254\u001b[0m         \u001b[38;5;28;01mif\u001b[39;00m dtype\u001b[38;5;241m.\u001b[39mlower()\u001b[38;5;241m.\u001b[39mstartswith(\u001b[38;5;124m\"\u001b[39m\u001b[38;5;124minterval\u001b[39m\u001b[38;5;124m\"\u001b[39m):\n\u001b[1;32m   1255\u001b[0m             \u001b[38;5;28;01mtry\u001b[39;00m:\n",
      "\u001b[0;31mKeyboardInterrupt\u001b[0m: "
     ]
    }
   ],
   "source": [
    "gm = do_granger(traj_df.T, in_genes=alex_tfs, out_genes=alex_genes, n_jobs=-1)"
   ]
  },
  {
   "cell_type": "code",
   "execution_count": null,
   "metadata": {},
   "outputs": [
    {
     "name": "stdout",
     "output_type": "stream",
     "text": [
      "0.37986383388752\n"
     ]
    },
    {
     "data": {
      "text/plain": [
       "(array([0., 0., 0., 0., 0., 0., 0., 0., 0., 0., 0., 0., 0., 0., 0., 0., 0.,\n",
       "        0., 0., 0., 0., 0., 0., 0., 0., 0., 0., 0., 0., 0., 0., 0., 0., 0.,\n",
       "        0., 0., 0., 0., 0., 0., 0., 0., 0., 0., 0., 0., 0., 0., 0., 0., 1.,\n",
       "        0., 0., 0., 0., 0., 0., 0., 0., 0., 0., 0., 0., 0., 0., 0., 0., 0.,\n",
       "        0., 0., 0., 0., 0., 0., 0., 0., 0., 0., 0., 0., 0., 0., 0., 0., 0.,\n",
       "        0., 0., 0., 0., 0., 0., 0., 0., 0., 0., 0., 0., 0., 0., 0.]),\n",
       " array([-1.20136166e-01, -1.10136166e-01, -1.00136166e-01, -9.01361661e-02,\n",
       "        -8.01361661e-02, -7.01361661e-02, -6.01361661e-02, -5.01361661e-02,\n",
       "        -4.01361661e-02, -3.01361661e-02, -2.01361661e-02, -1.01361661e-02,\n",
       "        -1.36166112e-04,  9.86383389e-03,  1.98638339e-02,  2.98638339e-02,\n",
       "         3.98638339e-02,  4.98638339e-02,  5.98638339e-02,  6.98638339e-02,\n",
       "         7.98638339e-02,  8.98638339e-02,  9.98638339e-02,  1.09863834e-01,\n",
       "         1.19863834e-01,  1.29863834e-01,  1.39863834e-01,  1.49863834e-01,\n",
       "         1.59863834e-01,  1.69863834e-01,  1.79863834e-01,  1.89863834e-01,\n",
       "         1.99863834e-01,  2.09863834e-01,  2.19863834e-01,  2.29863834e-01,\n",
       "         2.39863834e-01,  2.49863834e-01,  2.59863834e-01,  2.69863834e-01,\n",
       "         2.79863834e-01,  2.89863834e-01,  2.99863834e-01,  3.09863834e-01,\n",
       "         3.19863834e-01,  3.29863834e-01,  3.39863834e-01,  3.49863834e-01,\n",
       "         3.59863834e-01,  3.69863834e-01,  3.79863834e-01,  3.89863834e-01,\n",
       "         3.99863834e-01,  4.09863834e-01,  4.19863834e-01,  4.29863834e-01,\n",
       "         4.39863834e-01,  4.49863834e-01,  4.59863834e-01,  4.69863834e-01,\n",
       "         4.79863834e-01,  4.89863834e-01,  4.99863834e-01,  5.09863834e-01,\n",
       "         5.19863834e-01,  5.29863834e-01,  5.39863834e-01,  5.49863834e-01,\n",
       "         5.59863834e-01,  5.69863834e-01,  5.79863834e-01,  5.89863834e-01,\n",
       "         5.99863834e-01,  6.09863834e-01,  6.19863834e-01,  6.29863834e-01,\n",
       "         6.39863834e-01,  6.49863834e-01,  6.59863834e-01,  6.69863834e-01,\n",
       "         6.79863834e-01,  6.89863834e-01,  6.99863834e-01,  7.09863834e-01,\n",
       "         7.19863834e-01,  7.29863834e-01,  7.39863834e-01,  7.49863834e-01,\n",
       "         7.59863834e-01,  7.69863834e-01,  7.79863834e-01,  7.89863834e-01,\n",
       "         7.99863834e-01,  8.09863834e-01,  8.19863834e-01,  8.29863834e-01,\n",
       "         8.39863834e-01,  8.49863834e-01,  8.59863834e-01,  8.69863834e-01,\n",
       "         8.79863834e-01]),\n",
       " <BarContainer object of 100 artists>)"
      ]
     },
     "execution_count": 19,
     "metadata": {},
     "output_type": "execute_result"
    },
    {
     "data": {
      "image/png": "[encoded data removed]",
      "text/plain": [
       "<Figure size 640x480 with 1 Axes>"
      ]
     },
     "metadata": {},
     "output_type": "display_data"
    }
   ],
   "source": [
    "print(gm.values.min())\n",
    "import matplotlib.pyplot as plt\n",
    "plt.hist(gm.values.flatten(), bins=100)"
   ]
  },
  {
   "cell_type": "code",
   "execution_count": null,
   "metadata": {},
   "outputs": [],
   "source": [
    "gm.to_csv(f'../results_final_Dec22/granger_T.csv')"
   ]
  },
  {
   "cell_type": "code",
   "execution_count": null,
   "metadata": {},
   "outputs": [],
   "source": []
  }
 ],
 "metadata": {
  "kernelspec": {
   "display_name": "mioflow",
   "language": "python",
   "name": "python3"
  },
  "language_info": {
   "codemirror_mode": {
    "name": "ipython",
    "version": 3
   },
   "file_extension": ".py",
   "mimetype": "text/x-python",
   "name": "python",
   "nbconvert_exporter": "python",
   "pygments_lexer": "ipython3",
   "version": "3.10.13"
  }
 },
 "nbformat": 4,
 "nbformat_minor": 2
}
