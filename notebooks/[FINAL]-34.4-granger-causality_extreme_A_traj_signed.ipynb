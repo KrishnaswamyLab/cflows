{
 "cells": [
  {
   "cell_type": "code",
   "execution_count": 1,
   "id": "a4de1bc8",
   "metadata": {
    "execution": {
     "iopub.execute_input": "2025-01-15T21:40:58.236816Z",
     "iopub.status.busy": "2025-01-15T21:40:58.236510Z",
     "iopub.status.idle": "2025-01-15T21:41:10.713640Z",
     "shell.execute_reply": "2025-01-15T21:41:10.712928Z"
    },
    "papermill": {
     "duration": 12.491905,
     "end_time": "2025-01-15T21:41:10.715312",
     "exception": false,
     "start_time": "2025-01-15T21:40:58.223407",
     "status": "completed"
    },
    "tags": []
   },
   "outputs": [],
   "source": [
    "import pandas as pd\n",
    "# import scprep as sc\n",
    "import scanpy as sc\n",
    "import phate\n",
    "import numpy as np\n",
    "import seaborn as sns\n",
    "import scprep\n",
    "from sklearn.metrics import roc_auc_score, average_precision_score\n",
    "import os\n",
    "from tqdm import tqdm\n",
    "import warnings\n"
   ]
  },
  {
   "cell_type": "code",
   "execution_count": 2,
   "id": "ef3ed822",
   "metadata": {
    "execution": {
     "iopub.execute_input": "2025-01-15T21:41:10.746327Z",
     "iopub.status.busy": "2025-01-15T21:41:10.745768Z",
     "iopub.status.idle": "2025-01-15T21:41:10.885942Z",
     "shell.execute_reply": "2025-01-15T21:41:10.885279Z"
    },
    "papermill": {
     "duration": 0.157102,
     "end_time": "2025-01-15T21:41:10.887325",
     "exception": false,
     "start_time": "2025-01-15T21:41:10.730223",
     "status": "completed"
    },
    "tags": []
   },
   "outputs": [],
   "source": [
    "from tqdm import tqdm\n",
    "import warnings\n",
    "from statsmodels.tsa.stattools import grangercausalitytests\n",
    "\n",
    "lag_order = 1 # since we aggregated the data in to 9 bins we only need 1 lag\n",
    "maxlag = (\n",
    "    lag_order,  # becuase we got this value before. We are not suppose to add 1 to it\n",
    ")\n",
    "test = \"ssr_chi2test\"\n",
    "\n",
    "from joblib import Parallel, delayed\n",
    "\n",
    "def grangers_causation_matrix(\n",
    "    data, in_variables, out_variables, test=\"ssr_chi2test\", n_jobs=1, warn=False\n",
    "):\n",
    "    \"\"\"Check Granger Causality of all possible combinations of the Time series.\n",
    "    The rows are the response variable, columns are predictors. The values in the table \n",
    "    are the P-Values. P-Values lesser than the significance level (0.05), implies \n",
    "    the Null Hypothesis that the coefficients of the corresponding past values is \n",
    "    zero, that is, the X does not cause Y can be rejected.\n",
    "\n",
    "    data      : pandas dataframe containing the time series variables\n",
    "    variables : list containing names of the time series variables.\n",
    "    \"\"\"\n",
    "\n",
    "    def get_pval(dd):\n",
    "        if warn:\n",
    "            test_result = grangercausalitytests(dd, maxlag=maxlag, verbose=True)\n",
    "        else:\n",
    "            with warnings.catch_warnings():\n",
    "                warnings.simplefilter(\"ignore\", category=FutureWarning)\n",
    "                test_result = grangercausalitytests(dd, maxlag=maxlag, verbose=False)\n",
    "                # according to the documentation https://www.statsmodels.org/dev/generated/statsmodels.tsa.stattools.grangercausalitytests.html,\n",
    "                # the dd has 2 columns, second causes the first.\n",
    "                # print(test_result.keys())\n",
    "                # print(f'dd shape {dd.shape}')\n",
    "                # print(test_result[1][1][0].params[0])\n",
    "\n",
    "                # print(test_result[1][1][0].summary())\n",
    "                # print(test_result[1][1][1].summary())\n",
    "                # print(test_result[1][1][1].model.exog_names)\n",
    "\n",
    "                # print(test_result[2][1][1].summary())\n",
    "                \n",
    "\n",
    "\n",
    "                # print(test_result[1][1][0].model.params)\n",
    "                # print(test_result[1])\n",
    "                # print(test_result[1][1][0].params)\n",
    "                # print(test_result[1][1][0].params['constant'])\n",
    "                # print(test_result[1][1][0].model.exog_names)\n",
    "        # import pdb; pdb.set_trace()\n",
    "        # print(dd.columns)\n",
    "        # print(dd.head())\n",
    "        # print(test_result[1][1][1].params)\n",
    "        p_values = [test_result[i][0][test][1] for i in maxlag] # test_result[i][1] is the unrestricted model, test_result[i][1][0] is the restricted model\n",
    "        # coefs = [test_result[i][1][1].params[0] for i in maxlag]\n",
    "        coefs = [test_result[i][1][1].params[1] for i in maxlag] # x1, x2, const\n",
    "\n",
    "        arg_min_p_value = np.argmin(p_values)\n",
    "        min_p_value = p_values[arg_min_p_value]\n",
    "        min_coef = coefs[arg_min_p_value]\n",
    "        # print(p_values)\n",
    "        # print(coefs)\n",
    "        return (min_p_value, min_coef)\n",
    "\n",
    "\n",
    "    out = Parallel(n_jobs=n_jobs)(\n",
    "        # delayed(get_pval)(data[[r, c]]) # this is incorrect\n",
    "        delayed(get_pval)(data[[c, r]]) # this means r causes c, so r is be in and c is out\n",
    "        for c in tqdm(out_variables, desc=\"Processing columns\")  # Outer loop progress bar\n",
    "        for r in tqdm(in_variables, desc=\"Processing rows\", leave=False)  # Inner loop progress bar\n",
    "    )\n",
    "    # Note that this is the wrong way and must be corrected\n",
    "    # df = pd.DataFrame(\n",
    "    #     np.array(out).reshape((len(in_variables), len(out_variables))), # this is incorrect\n",
    "    #     columns=out_variables,\n",
    "    #     index=in_variables,\n",
    "    # )\n",
    "    out_p = [p for (p,c) in out]\n",
    "    out_c = [c for (p,c) in out]\n",
    "    df_p = pd.DataFrame(\n",
    "        np.array(out_p).reshape((len(out_variables), len(in_variables))), # should be reshaped to len(out_variables), len(in_variables) according to the for loop.\n",
    "        columns=in_variables,\n",
    "        index=out_variables,\n",
    "    ).T # used the correct reshaping, and then transposed the matrix so the x and y are semantically correct (x causes y).\n",
    "    df_c = pd.DataFrame(\n",
    "        np.array(out_c).reshape((len(out_variables), len(in_variables))), # should be reshaped to len(out_variables), len(in_variables) according to the for loop.\n",
    "        columns=in_variables,\n",
    "        index=out_variables,\n",
    "    ).T\n",
    "    df_p.index = [var + \"_x\" for var in in_variables]\n",
    "    df_p.columns = [var + \"_y\" for var in out_variables]\n",
    "    df_c.index = [var + \"_x\" for var in in_variables]\n",
    "    df_c.columns = [var + \"_y\" for var in out_variables]\n",
    "    return df_p, df_c\n",
    "\n",
    "def do_granger(trajs, in_genes, out_genes, n_jobs=1, warn=False):\n",
    "    # in causes out\n",
    "    trajs = trajs.T[::10]\n",
    "    trajs = trajs - trajs.shift(1)\n",
    "    trajs = trajs.dropna()\n",
    "    out_traj_p, out_traj_c = grangers_causation_matrix(\n",
    "        trajs, in_variables=in_genes, out_variables=out_genes, n_jobs=n_jobs, warn=warn\n",
    "    )\n",
    "    return out_traj_p, out_traj_c\n",
    "\n"
   ]
  },
  {
   "cell_type": "code",
   "execution_count": 3,
   "id": "091739d4",
   "metadata": {
    "execution": {
     "iopub.execute_input": "2025-01-15T21:41:10.932293Z",
     "iopub.status.busy": "2025-01-15T21:41:10.931959Z",
     "iopub.status.idle": "2025-01-15T21:41:11.084550Z",
     "shell.execute_reply": "2025-01-15T21:41:11.083900Z"
    },
    "papermill": {
     "duration": 0.178892,
     "end_time": "2025-01-15T21:41:11.085971",
     "exception": false,
     "start_time": "2025-01-15T21:41:10.907079",
     "status": "completed"
    },
    "tags": []
   },
   "outputs": [],
   "source": [
    "# traj_gene_sp = np.load(\"../data_human_samples/10-trajectories_gene_space.npy\")\n",
    "traj_gene_sp = np.load(f\"../results_final_Dec22/traj_gene_space_A_extreme.npy\", allow_pickle=True)"
   ]
  },
  {
   "cell_type": "code",
   "execution_count": 4,
   "id": "efb664c0",
   "metadata": {
    "execution": {
     "iopub.execute_input": "2025-01-15T21:41:11.120169Z",
     "iopub.status.busy": "2025-01-15T21:41:11.119838Z",
     "iopub.status.idle": "2025-01-15T21:41:12.585789Z",
     "shell.execute_reply": "2025-01-15T21:41:12.585086Z"
    },
    "papermill": {
     "duration": 1.483036,
     "end_time": "2025-01-15T21:41:12.587340",
     "exception": false,
     "start_time": "2025-01-15T21:41:11.104304",
     "status": "completed"
    },
    "tags": []
   },
   "outputs": [],
   "source": [
    "adata = sc.read_h5ad('../data/rna_figure_ready.h5ad')"
   ]
  },
  {
   "cell_type": "code",
   "execution_count": 5,
   "id": "c988ed8f",
   "metadata": {
    "execution": {
     "iopub.execute_input": "2025-01-15T21:41:12.620712Z",
     "iopub.status.busy": "2025-01-15T21:41:12.620346Z",
     "iopub.status.idle": "2025-01-15T21:41:12.625565Z",
     "shell.execute_reply": "2025-01-15T21:41:12.624918Z"
    },
    "papermill": {
     "duration": 0.017757,
     "end_time": "2025-01-15T21:41:12.626882",
     "exception": false,
     "start_time": "2025-01-15T21:41:12.609125",
     "status": "completed"
    },
    "tags": []
   },
   "outputs": [],
   "source": [
    "# sc.pp.highly_variable_genes(adata, n_top_genes=400)\n",
    "alex_genes = open('../data/alex_genes.txt').read().splitlines()\n",
    "alex_tfs = open('../data/alex_tfs.txt').read().splitlines()"
   ]
  },
  {
   "cell_type": "code",
   "execution_count": 6,
   "id": "79a0b55e",
   "metadata": {
    "execution": {
     "iopub.execute_input": "2025-01-15T21:41:12.666633Z",
     "iopub.status.busy": "2025-01-15T21:41:12.666305Z",
     "iopub.status.idle": "2025-01-15T21:41:12.669127Z",
     "shell.execute_reply": "2025-01-15T21:41:12.668525Z"
    },
    "papermill": {
     "duration": 0.032486,
     "end_time": "2025-01-15T21:41:12.670419",
     "exception": false,
     "start_time": "2025-01-15T21:41:12.637933",
     "status": "completed"
    },
    "tags": []
   },
   "outputs": [],
   "source": [
    "# gene_mask = np.isin(adata.var_names, alex_genes)\n",
    "# tf_mask = np.isin(adata.var_names, alex_tfs)"
   ]
  },
  {
   "cell_type": "code",
   "execution_count": 7,
   "id": "4d4563ef",
   "metadata": {
    "execution": {
     "iopub.execute_input": "2025-01-15T21:41:12.704237Z",
     "iopub.status.busy": "2025-01-15T21:41:12.703909Z",
     "iopub.status.idle": "2025-01-15T21:41:13.602842Z",
     "shell.execute_reply": "2025-01-15T21:41:13.602170Z"
    },
    "papermill": {
     "duration": 0.913732,
     "end_time": "2025-01-15T21:41:13.604240",
     "exception": false,
     "start_time": "2025-01-15T21:41:12.690508",
     "status": "completed"
    },
    "tags": []
   },
   "outputs": [],
   "source": [
    "alex_gene_all = list(set(alex_genes) | set(alex_tfs))\n",
    "alex_gene_all_mask = np.isin(adata.var_names, alex_gene_all)\n",
    "traj_subset = traj_gene_sp[:, :, alex_gene_all_mask]\n",
    "gene_names = adata.var_names[alex_gene_all_mask]"
   ]
  },
  {
   "cell_type": "code",
   "execution_count": 8,
   "id": "6965971b",
   "metadata": {
    "execution": {
     "iopub.execute_input": "2025-01-15T21:41:13.624367Z",
     "iopub.status.busy": "2025-01-15T21:41:13.624020Z",
     "iopub.status.idle": "2025-01-15T21:41:13.630077Z",
     "shell.execute_reply": "2025-01-15T21:41:13.629498Z"
    },
    "papermill": {
     "duration": 0.015881,
     "end_time": "2025-01-15T21:41:13.631441",
     "exception": false,
     "start_time": "2025-01-15T21:41:13.615560",
     "status": "completed"
    },
    "tags": []
   },
   "outputs": [
    {
     "data": {
      "text/plain": [
       "(100, 19, 2226)"
      ]
     },
     "execution_count": 8,
     "metadata": {},
     "output_type": "execute_result"
    }
   ],
   "source": [
    "traj_subset.shape"
   ]
  },
  {
   "cell_type": "code",
   "execution_count": 9,
   "id": "9fdd96db",
   "metadata": {
    "execution": {
     "iopub.execute_input": "2025-01-15T21:41:13.672028Z",
     "iopub.status.busy": "2025-01-15T21:41:13.671697Z",
     "iopub.status.idle": "2025-01-15T21:41:13.704413Z",
     "shell.execute_reply": "2025-01-15T21:41:13.703771Z"
    },
    "papermill": {
     "duration": 0.059319,
     "end_time": "2025-01-15T21:41:13.705820",
     "exception": false,
     "start_time": "2025-01-15T21:41:13.646501",
     "status": "completed"
    },
    "tags": []
   },
   "outputs": [],
   "source": [
    "# traj_df = pd.DataFrame(np.transpose(traj_subset, (1, 0, 2)).mean(axis=0), columns=gene_names)\n",
    "data = np.transpose(traj_subset, (1, 0, 2))\n",
    "valid_mask = (data.mean(axis=0).var(axis=0) != 0.0)\n",
    "data = data[:, :, valid_mask]\n",
    "gene_names = np.array(gene_names)[valid_mask]\n",
    "traj_df = pd.DataFrame(data.mean(axis=0), columns=gene_names)"
   ]
  },
  {
   "cell_type": "code",
   "execution_count": 23,
   "id": "99218352",
   "metadata": {
    "execution": {
     "iopub.execute_input": "2025-01-15T21:41:13.727289Z",
     "iopub.status.busy": "2025-01-15T21:41:13.726955Z",
     "iopub.status.idle": "2025-01-15T21:48:13.445401Z",
     "shell.execute_reply": "2025-01-15T21:48:13.444621Z"
    },
    "papermill": {
     "duration": 419.734123,
     "end_time": "2025-01-15T21:48:13.447127",
     "exception": false,
     "start_time": "2025-01-15T21:41:13.713004",
     "status": "completed"
    },
    "tags": []
   },
   "outputs": [
    {
     "name": "stderr",
     "output_type": "stream",
     "text": [
      "\n",
      "\u001b[A\n",
      "\n",
      "\u001b[A\u001b[A\n",
      "\n",
      "\u001b[A\u001b[A\n",
      "\n",
      "\u001b[A\u001b[A\n",
      "\n",
      "\u001b[A\u001b[A\n",
      "\n",
      "\u001b[A\u001b[A\n",
      "\n",
      "\u001b[A\u001b[A\n",
      "\n",
      "\u001b[A\u001b[A"
     ]
    },
    {
     "ename": "KeyboardInterrupt",
     "evalue": "",
     "output_type": "error",
     "traceback": [
      "\u001b[0;31m---------------------------------------------------------------------------\u001b[0m",
      "\u001b[0;31mKeyboardInterrupt\u001b[0m                         Traceback (most recent call last)",
      "Cell \u001b[0;32mIn[23], line 1\u001b[0m\n\u001b[0;32m----> 1\u001b[0m gm_p, gm_c \u001b[38;5;241m=\u001b[39m \u001b[43mdo_granger\u001b[49m\u001b[43m(\u001b[49m\u001b[43mtraj_df\u001b[49m\u001b[38;5;241;43m.\u001b[39;49m\u001b[43mT\u001b[49m\u001b[43m,\u001b[49m\u001b[43m \u001b[49m\u001b[43min_genes\u001b[49m\u001b[38;5;241;43m=\u001b[39;49m\u001b[43malex_tfs\u001b[49m\u001b[43m,\u001b[49m\u001b[43m \u001b[49m\u001b[43mout_genes\u001b[49m\u001b[38;5;241;43m=\u001b[39;49m\u001b[43malex_genes\u001b[49m\u001b[43m,\u001b[49m\u001b[43m \u001b[49m\u001b[43mn_jobs\u001b[49m\u001b[38;5;241;43m=\u001b[39;49m\u001b[38;5;241;43m-\u001b[39;49m\u001b[38;5;241;43m1\u001b[39;49m\u001b[43m)\u001b[49m\n\u001b[1;32m      2\u001b[0m gm_p\u001b[38;5;241m.\u001b[39mto_csv(\u001b[38;5;124mf\u001b[39m\u001b[38;5;124m'\u001b[39m\u001b[38;5;124m../results_final_Jan15/granger_A_extreme_p.csv\u001b[39m\u001b[38;5;124m'\u001b[39m)\n\u001b[1;32m      3\u001b[0m gm_c\u001b[38;5;241m.\u001b[39mto_csv(\u001b[38;5;124mf\u001b[39m\u001b[38;5;124m'\u001b[39m\u001b[38;5;124m../results_final_Jan15/granger_A_extreme_c.csv\u001b[39m\u001b[38;5;124m'\u001b[39m)\n",
      "Cell \u001b[0;32mIn[2], line 103\u001b[0m, in \u001b[0;36mdo_granger\u001b[0;34m(trajs, in_genes, out_genes, n_jobs, warn)\u001b[0m\n\u001b[1;32m    101\u001b[0m trajs \u001b[38;5;241m=\u001b[39m trajs \u001b[38;5;241m-\u001b[39m trajs\u001b[38;5;241m.\u001b[39mshift(\u001b[38;5;241m1\u001b[39m)\n\u001b[1;32m    102\u001b[0m trajs \u001b[38;5;241m=\u001b[39m trajs\u001b[38;5;241m.\u001b[39mdropna()\n\u001b[0;32m--> 103\u001b[0m out_traj_p, out_traj_c \u001b[38;5;241m=\u001b[39m \u001b[43mgrangers_causation_matrix\u001b[49m\u001b[43m(\u001b[49m\n\u001b[1;32m    104\u001b[0m \u001b[43m    \u001b[49m\u001b[43mtrajs\u001b[49m\u001b[43m,\u001b[49m\u001b[43m \u001b[49m\u001b[43min_variables\u001b[49m\u001b[38;5;241;43m=\u001b[39;49m\u001b[43min_genes\u001b[49m\u001b[43m,\u001b[49m\u001b[43m \u001b[49m\u001b[43mout_variables\u001b[49m\u001b[38;5;241;43m=\u001b[39;49m\u001b[43mout_genes\u001b[49m\u001b[43m,\u001b[49m\u001b[43m \u001b[49m\u001b[43mn_jobs\u001b[49m\u001b[38;5;241;43m=\u001b[39;49m\u001b[43mn_jobs\u001b[49m\u001b[43m,\u001b[49m\u001b[43m \u001b[49m\u001b[43mwarn\u001b[49m\u001b[38;5;241;43m=\u001b[39;49m\u001b[43mwarn\u001b[49m\n\u001b[1;32m    105\u001b[0m \u001b[43m\u001b[49m\u001b[43m)\u001b[49m\n\u001b[1;32m    106\u001b[0m \u001b[38;5;28;01mreturn\u001b[39;00m out_traj_p, out_traj_c\n",
      "Cell \u001b[0;32mIn[2], line 68\u001b[0m, in \u001b[0;36mgrangers_causation_matrix\u001b[0;34m(data, in_variables, out_variables, test, n_jobs, warn)\u001b[0m\n\u001b[1;32m     63\u001b[0m     \u001b[38;5;66;03m# print(p_values)\u001b[39;00m\n\u001b[1;32m     64\u001b[0m     \u001b[38;5;66;03m# print(coefs)\u001b[39;00m\n\u001b[1;32m     65\u001b[0m     \u001b[38;5;28;01mreturn\u001b[39;00m (min_p_value, min_coef)\n\u001b[0;32m---> 68\u001b[0m out \u001b[38;5;241m=\u001b[39m \u001b[43mParallel\u001b[49m\u001b[43m(\u001b[49m\u001b[43mn_jobs\u001b[49m\u001b[38;5;241;43m=\u001b[39;49m\u001b[43mn_jobs\u001b[49m\u001b[43m)\u001b[49m\u001b[43m(\u001b[49m\n\u001b[1;32m     69\u001b[0m \u001b[43m    \u001b[49m\u001b[38;5;66;43;03m# delayed(get_pval)(data[[r, c]]) # this is incorrect\u001b[39;49;00m\n\u001b[1;32m     70\u001b[0m \u001b[43m    \u001b[49m\u001b[43mdelayed\u001b[49m\u001b[43m(\u001b[49m\u001b[43mget_pval\u001b[49m\u001b[43m)\u001b[49m\u001b[43m(\u001b[49m\u001b[43mdata\u001b[49m\u001b[43m[\u001b[49m\u001b[43m[\u001b[49m\u001b[43mc\u001b[49m\u001b[43m,\u001b[49m\u001b[43m \u001b[49m\u001b[43mr\u001b[49m\u001b[43m]\u001b[49m\u001b[43m]\u001b[49m\u001b[43m)\u001b[49m\u001b[43m \u001b[49m\u001b[38;5;66;43;03m# this means r causes c, so r is be in and c is out\u001b[39;49;00m\n\u001b[1;32m     71\u001b[0m \u001b[43m    \u001b[49m\u001b[38;5;28;43;01mfor\u001b[39;49;00m\u001b[43m \u001b[49m\u001b[43mc\u001b[49m\u001b[43m \u001b[49m\u001b[38;5;129;43;01min\u001b[39;49;00m\u001b[43m \u001b[49m\u001b[43mtqdm\u001b[49m\u001b[43m(\u001b[49m\u001b[43mout_variables\u001b[49m\u001b[43m,\u001b[49m\u001b[43m \u001b[49m\u001b[43mdesc\u001b[49m\u001b[38;5;241;43m=\u001b[39;49m\u001b[38;5;124;43m\"\u001b[39;49m\u001b[38;5;124;43mProcessing columns\u001b[39;49m\u001b[38;5;124;43m\"\u001b[39;49m\u001b[43m)\u001b[49m\u001b[43m  \u001b[49m\u001b[38;5;66;43;03m# Outer loop progress bar\u001b[39;49;00m\n\u001b[1;32m     72\u001b[0m \u001b[43m    \u001b[49m\u001b[38;5;28;43;01mfor\u001b[39;49;00m\u001b[43m \u001b[49m\u001b[43mr\u001b[49m\u001b[43m \u001b[49m\u001b[38;5;129;43;01min\u001b[39;49;00m\u001b[43m \u001b[49m\u001b[43mtqdm\u001b[49m\u001b[43m(\u001b[49m\u001b[43min_variables\u001b[49m\u001b[43m,\u001b[49m\u001b[43m \u001b[49m\u001b[43mdesc\u001b[49m\u001b[38;5;241;43m=\u001b[39;49m\u001b[38;5;124;43m\"\u001b[39;49m\u001b[38;5;124;43mProcessing rows\u001b[39;49m\u001b[38;5;124;43m\"\u001b[39;49m\u001b[43m,\u001b[49m\u001b[43m \u001b[49m\u001b[43mleave\u001b[49m\u001b[38;5;241;43m=\u001b[39;49m\u001b[38;5;28;43;01mFalse\u001b[39;49;00m\u001b[43m)\u001b[49m\u001b[43m  \u001b[49m\u001b[38;5;66;43;03m# Inner loop progress bar\u001b[39;49;00m\n\u001b[1;32m     73\u001b[0m \u001b[43m\u001b[49m\u001b[43m)\u001b[49m\n\u001b[1;32m     74\u001b[0m \u001b[38;5;66;03m# Note that this is the wrong way and must be corrected\u001b[39;00m\n\u001b[1;32m     75\u001b[0m \u001b[38;5;66;03m# df = pd.DataFrame(\u001b[39;00m\n\u001b[1;32m     76\u001b[0m \u001b[38;5;66;03m#     np.array(out).reshape((len(in_variables), len(out_variables))), # this is incorrect\u001b[39;00m\n\u001b[1;32m     77\u001b[0m \u001b[38;5;66;03m#     columns=out_variables,\u001b[39;00m\n\u001b[1;32m     78\u001b[0m \u001b[38;5;66;03m#     index=in_variables,\u001b[39;00m\n\u001b[1;32m     79\u001b[0m \u001b[38;5;66;03m# )\u001b[39;00m\n\u001b[1;32m     80\u001b[0m out_p \u001b[38;5;241m=\u001b[39m [p \u001b[38;5;28;01mfor\u001b[39;00m (p,c) \u001b[38;5;129;01min\u001b[39;00m out]\n",
      "File \u001b[0;32m/gpfs/gibbs/pi/krishnaswamy_smita/xingzhi/.conda_envs/mioflow/lib/python3.10/site-packages/joblib/parallel.py:1863\u001b[0m, in \u001b[0;36mParallel.__call__\u001b[0;34m(self, iterable)\u001b[0m\n\u001b[1;32m   1861\u001b[0m     output \u001b[38;5;241m=\u001b[39m \u001b[38;5;28mself\u001b[39m\u001b[38;5;241m.\u001b[39m_get_sequential_output(iterable)\n\u001b[1;32m   1862\u001b[0m     \u001b[38;5;28mnext\u001b[39m(output)\n\u001b[0;32m-> 1863\u001b[0m     \u001b[38;5;28;01mreturn\u001b[39;00m output \u001b[38;5;28;01mif\u001b[39;00m \u001b[38;5;28mself\u001b[39m\u001b[38;5;241m.\u001b[39mreturn_generator \u001b[38;5;28;01melse\u001b[39;00m \u001b[38;5;28;43mlist\u001b[39;49m\u001b[43m(\u001b[49m\u001b[43moutput\u001b[49m\u001b[43m)\u001b[49m\n\u001b[1;32m   1865\u001b[0m \u001b[38;5;66;03m# Let's create an ID that uniquely identifies the current call. If the\u001b[39;00m\n\u001b[1;32m   1866\u001b[0m \u001b[38;5;66;03m# call is interrupted early and that the same instance is immediately\u001b[39;00m\n\u001b[1;32m   1867\u001b[0m \u001b[38;5;66;03m# re-used, this id will be used to prevent workers that were\u001b[39;00m\n\u001b[1;32m   1868\u001b[0m \u001b[38;5;66;03m# concurrently finalizing a task from the previous call to run the\u001b[39;00m\n\u001b[1;32m   1869\u001b[0m \u001b[38;5;66;03m# callback.\u001b[39;00m\n\u001b[1;32m   1870\u001b[0m \u001b[38;5;28;01mwith\u001b[39;00m \u001b[38;5;28mself\u001b[39m\u001b[38;5;241m.\u001b[39m_lock:\n",
      "File \u001b[0;32m/gpfs/gibbs/pi/krishnaswamy_smita/xingzhi/.conda_envs/mioflow/lib/python3.10/site-packages/joblib/parallel.py:1789\u001b[0m, in \u001b[0;36mParallel._get_sequential_output\u001b[0;34m(self, iterable)\u001b[0m\n\u001b[1;32m   1786\u001b[0m \u001b[38;5;28;01myield\u001b[39;00m \u001b[38;5;28;01mNone\u001b[39;00m\n\u001b[1;32m   1788\u001b[0m \u001b[38;5;66;03m# Sequentially call the tasks and yield the results.\u001b[39;00m\n\u001b[0;32m-> 1789\u001b[0m \u001b[38;5;28;01mfor\u001b[39;00m func, args, kwargs \u001b[38;5;129;01min\u001b[39;00m iterable:\n\u001b[1;32m   1790\u001b[0m     \u001b[38;5;28mself\u001b[39m\u001b[38;5;241m.\u001b[39mn_dispatched_batches \u001b[38;5;241m+\u001b[39m\u001b[38;5;241m=\u001b[39m \u001b[38;5;241m1\u001b[39m\n\u001b[1;32m   1791\u001b[0m     \u001b[38;5;28mself\u001b[39m\u001b[38;5;241m.\u001b[39mn_dispatched_tasks \u001b[38;5;241m+\u001b[39m\u001b[38;5;241m=\u001b[39m \u001b[38;5;241m1\u001b[39m\n",
      "Cell \u001b[0;32mIn[2], line 70\u001b[0m, in \u001b[0;36m<genexpr>\u001b[0;34m(.0)\u001b[0m\n\u001b[1;32m     63\u001b[0m     \u001b[38;5;66;03m# print(p_values)\u001b[39;00m\n\u001b[1;32m     64\u001b[0m     \u001b[38;5;66;03m# print(coefs)\u001b[39;00m\n\u001b[1;32m     65\u001b[0m     \u001b[38;5;28;01mreturn\u001b[39;00m (min_p_value, min_coef)\n\u001b[1;32m     68\u001b[0m out \u001b[38;5;241m=\u001b[39m Parallel(n_jobs\u001b[38;5;241m=\u001b[39mn_jobs)(\n\u001b[1;32m     69\u001b[0m     \u001b[38;5;66;03m# delayed(get_pval)(data[[r, c]]) # this is incorrect\u001b[39;00m\n\u001b[0;32m---> 70\u001b[0m     delayed(get_pval)(\u001b[43mdata\u001b[49m\u001b[43m[\u001b[49m\u001b[43m[\u001b[49m\u001b[43mc\u001b[49m\u001b[43m,\u001b[49m\u001b[43m \u001b[49m\u001b[43mr\u001b[49m\u001b[43m]\u001b[49m\u001b[43m]\u001b[49m) \u001b[38;5;66;03m# this means r causes c, so r is be in and c is out\u001b[39;00m\n\u001b[1;32m     71\u001b[0m     \u001b[38;5;28;01mfor\u001b[39;00m c \u001b[38;5;129;01min\u001b[39;00m tqdm(out_variables, desc\u001b[38;5;241m=\u001b[39m\u001b[38;5;124m\"\u001b[39m\u001b[38;5;124mProcessing columns\u001b[39m\u001b[38;5;124m\"\u001b[39m)  \u001b[38;5;66;03m# Outer loop progress bar\u001b[39;00m\n\u001b[1;32m     72\u001b[0m     \u001b[38;5;28;01mfor\u001b[39;00m r \u001b[38;5;129;01min\u001b[39;00m tqdm(in_variables, desc\u001b[38;5;241m=\u001b[39m\u001b[38;5;124m\"\u001b[39m\u001b[38;5;124mProcessing rows\u001b[39m\u001b[38;5;124m\"\u001b[39m, leave\u001b[38;5;241m=\u001b[39m\u001b[38;5;28;01mFalse\u001b[39;00m)  \u001b[38;5;66;03m# Inner loop progress bar\u001b[39;00m\n\u001b[1;32m     73\u001b[0m )\n\u001b[1;32m     74\u001b[0m \u001b[38;5;66;03m# Note that this is the wrong way and must be corrected\u001b[39;00m\n\u001b[1;32m     75\u001b[0m \u001b[38;5;66;03m# df = pd.DataFrame(\u001b[39;00m\n\u001b[1;32m     76\u001b[0m \u001b[38;5;66;03m#     np.array(out).reshape((len(in_variables), len(out_variables))), # this is incorrect\u001b[39;00m\n\u001b[1;32m     77\u001b[0m \u001b[38;5;66;03m#     columns=out_variables,\u001b[39;00m\n\u001b[1;32m     78\u001b[0m \u001b[38;5;66;03m#     index=in_variables,\u001b[39;00m\n\u001b[1;32m     79\u001b[0m \u001b[38;5;66;03m# )\u001b[39;00m\n\u001b[1;32m     80\u001b[0m out_p \u001b[38;5;241m=\u001b[39m [p \u001b[38;5;28;01mfor\u001b[39;00m (p,c) \u001b[38;5;129;01min\u001b[39;00m out]\n",
      "File \u001b[0;32m/gpfs/gibbs/pi/krishnaswamy_smita/xingzhi/.conda_envs/mioflow/lib/python3.10/site-packages/pandas/core/frame.py:3813\u001b[0m, in \u001b[0;36mDataFrame.__getitem__\u001b[0;34m(self, key)\u001b[0m\n\u001b[1;32m   3811\u001b[0m     \u001b[38;5;28;01mif\u001b[39;00m is_iterator(key):\n\u001b[1;32m   3812\u001b[0m         key \u001b[38;5;241m=\u001b[39m \u001b[38;5;28mlist\u001b[39m(key)\n\u001b[0;32m-> 3813\u001b[0m     indexer \u001b[38;5;241m=\u001b[39m \u001b[38;5;28;43mself\u001b[39;49m\u001b[38;5;241;43m.\u001b[39;49m\u001b[43mcolumns\u001b[49m\u001b[38;5;241;43m.\u001b[39;49m\u001b[43m_get_indexer_strict\u001b[49m\u001b[43m(\u001b[49m\u001b[43mkey\u001b[49m\u001b[43m,\u001b[49m\u001b[43m \u001b[49m\u001b[38;5;124;43m\"\u001b[39;49m\u001b[38;5;124;43mcolumns\u001b[39;49m\u001b[38;5;124;43m\"\u001b[39;49m\u001b[43m)\u001b[49m[\u001b[38;5;241m1\u001b[39m]\n\u001b[1;32m   3815\u001b[0m \u001b[38;5;66;03m# take() does not accept boolean indexers\u001b[39;00m\n\u001b[1;32m   3816\u001b[0m \u001b[38;5;28;01mif\u001b[39;00m \u001b[38;5;28mgetattr\u001b[39m(indexer, \u001b[38;5;124m\"\u001b[39m\u001b[38;5;124mdtype\u001b[39m\u001b[38;5;124m\"\u001b[39m, \u001b[38;5;28;01mNone\u001b[39;00m) \u001b[38;5;241m==\u001b[39m \u001b[38;5;28mbool\u001b[39m:\n",
      "File \u001b[0;32m/gpfs/gibbs/pi/krishnaswamy_smita/xingzhi/.conda_envs/mioflow/lib/python3.10/site-packages/pandas/core/indexes/base.py:6065\u001b[0m, in \u001b[0;36mIndex._get_indexer_strict\u001b[0;34m(self, key, axis_name)\u001b[0m\n\u001b[1;32m   6062\u001b[0m     keyarr \u001b[38;5;241m=\u001b[39m com\u001b[38;5;241m.\u001b[39masarray_tuplesafe(keyarr)\n\u001b[1;32m   6064\u001b[0m \u001b[38;5;28;01mif\u001b[39;00m \u001b[38;5;28mself\u001b[39m\u001b[38;5;241m.\u001b[39m_index_as_unique:\n\u001b[0;32m-> 6065\u001b[0m     indexer \u001b[38;5;241m=\u001b[39m \u001b[38;5;28;43mself\u001b[39;49m\u001b[38;5;241;43m.\u001b[39;49m\u001b[43mget_indexer_for\u001b[49m\u001b[43m(\u001b[49m\u001b[43mkeyarr\u001b[49m\u001b[43m)\u001b[49m\n\u001b[1;32m   6066\u001b[0m     keyarr \u001b[38;5;241m=\u001b[39m \u001b[38;5;28mself\u001b[39m\u001b[38;5;241m.\u001b[39mreindex(keyarr)[\u001b[38;5;241m0\u001b[39m]\n\u001b[1;32m   6067\u001b[0m \u001b[38;5;28;01melse\u001b[39;00m:\n",
      "File \u001b[0;32m/gpfs/gibbs/pi/krishnaswamy_smita/xingzhi/.conda_envs/mioflow/lib/python3.10/site-packages/pandas/core/indexes/base.py:6052\u001b[0m, in \u001b[0;36mIndex.get_indexer_for\u001b[0;34m(self, target)\u001b[0m\n\u001b[1;32m   6034\u001b[0m \u001b[38;5;250m\u001b[39m\u001b[38;5;124;03m\"\"\"\u001b[39;00m\n\u001b[1;32m   6035\u001b[0m \u001b[38;5;124;03mGuaranteed return of an indexer even when non-unique.\u001b[39;00m\n\u001b[1;32m   6036\u001b[0m \n\u001b[0;32m   (...)\u001b[0m\n\u001b[1;32m   6049\u001b[0m \u001b[38;5;124;03marray([0, 2])\u001b[39;00m\n\u001b[1;32m   6050\u001b[0m \u001b[38;5;124;03m\"\"\"\u001b[39;00m\n\u001b[1;32m   6051\u001b[0m \u001b[38;5;28;01mif\u001b[39;00m \u001b[38;5;28mself\u001b[39m\u001b[38;5;241m.\u001b[39m_index_as_unique:\n\u001b[0;32m-> 6052\u001b[0m     \u001b[38;5;28;01mreturn\u001b[39;00m \u001b[38;5;28;43mself\u001b[39;49m\u001b[38;5;241;43m.\u001b[39;49m\u001b[43mget_indexer\u001b[49m\u001b[43m(\u001b[49m\u001b[43mtarget\u001b[49m\u001b[43m)\u001b[49m\n\u001b[1;32m   6053\u001b[0m indexer, _ \u001b[38;5;241m=\u001b[39m \u001b[38;5;28mself\u001b[39m\u001b[38;5;241m.\u001b[39mget_indexer_non_unique(target)\n\u001b[1;32m   6054\u001b[0m \u001b[38;5;28;01mreturn\u001b[39;00m indexer\n",
      "File \u001b[0;32m/gpfs/gibbs/pi/krishnaswamy_smita/xingzhi/.conda_envs/mioflow/lib/python3.10/site-packages/pandas/core/indexes/base.py:3914\u001b[0m, in \u001b[0;36mIndex.get_indexer\u001b[0;34m(self, target, method, limit, tolerance)\u001b[0m\n\u001b[1;32m   3909\u001b[0m \u001b[38;5;28;01mif\u001b[39;00m \u001b[38;5;129;01mnot\u001b[39;00m \u001b[38;5;28mself\u001b[39m\u001b[38;5;241m.\u001b[39m_should_compare(target) \u001b[38;5;129;01mand\u001b[39;00m \u001b[38;5;129;01mnot\u001b[39;00m \u001b[38;5;28mself\u001b[39m\u001b[38;5;241m.\u001b[39m_should_partial_index(target):\n\u001b[1;32m   3910\u001b[0m     \u001b[38;5;66;03m# IntervalIndex get special treatment bc numeric scalars can be\u001b[39;00m\n\u001b[1;32m   3911\u001b[0m     \u001b[38;5;66;03m#  matched to Interval scalars\u001b[39;00m\n\u001b[1;32m   3912\u001b[0m     \u001b[38;5;28;01mreturn\u001b[39;00m \u001b[38;5;28mself\u001b[39m\u001b[38;5;241m.\u001b[39m_get_indexer_non_comparable(target, method\u001b[38;5;241m=\u001b[39mmethod, unique\u001b[38;5;241m=\u001b[39m\u001b[38;5;28;01mTrue\u001b[39;00m)\n\u001b[0;32m-> 3914\u001b[0m \u001b[38;5;28;01mif\u001b[39;00m \u001b[43mis_categorical_dtype\u001b[49m\u001b[43m(\u001b[49m\u001b[38;5;28;43mself\u001b[39;49m\u001b[38;5;241;43m.\u001b[39;49m\u001b[43mdtype\u001b[49m\u001b[43m)\u001b[49m:\n\u001b[1;32m   3915\u001b[0m     \u001b[38;5;66;03m# _maybe_cast_listlike_indexer ensures target has our dtype\u001b[39;00m\n\u001b[1;32m   3916\u001b[0m     \u001b[38;5;66;03m#  (could improve perf by doing _should_compare check earlier?)\u001b[39;00m\n\u001b[1;32m   3917\u001b[0m     \u001b[38;5;28;01massert\u001b[39;00m is_dtype_equal(\u001b[38;5;28mself\u001b[39m\u001b[38;5;241m.\u001b[39mdtype, target\u001b[38;5;241m.\u001b[39mdtype)\n\u001b[1;32m   3919\u001b[0m     indexer \u001b[38;5;241m=\u001b[39m \u001b[38;5;28mself\u001b[39m\u001b[38;5;241m.\u001b[39m_engine\u001b[38;5;241m.\u001b[39mget_indexer(target\u001b[38;5;241m.\u001b[39mcodes)\n",
      "File \u001b[0;32m/gpfs/gibbs/pi/krishnaswamy_smita/xingzhi/.conda_envs/mioflow/lib/python3.10/site-packages/pandas/core/dtypes/common.py:501\u001b[0m, in \u001b[0;36mis_categorical_dtype\u001b[0;34m(arr_or_dtype)\u001b[0m\n\u001b[1;32m    497\u001b[0m         \u001b[38;5;28;01mreturn\u001b[39;00m \u001b[38;5;28;01mFalse\u001b[39;00m\n\u001b[1;32m    498\u001b[0m     \u001b[38;5;28;01mreturn\u001b[39;00m IntervalDtype\u001b[38;5;241m.\u001b[39mis_dtype(arr_or_dtype)\n\u001b[0;32m--> 501\u001b[0m \u001b[38;5;28;01mdef\u001b[39;00m \u001b[38;5;21mis_categorical_dtype\u001b[39m(arr_or_dtype) \u001b[38;5;241m-\u001b[39m\u001b[38;5;241m>\u001b[39m \u001b[38;5;28mbool\u001b[39m:\n\u001b[1;32m    502\u001b[0m \u001b[38;5;250m    \u001b[39m\u001b[38;5;124;03m\"\"\"\u001b[39;00m\n\u001b[1;32m    503\u001b[0m \u001b[38;5;124;03m    Check whether an array-like or dtype is of the Categorical dtype.\u001b[39;00m\n\u001b[1;32m    504\u001b[0m \n\u001b[0;32m   (...)\u001b[0m\n\u001b[1;32m    526\u001b[0m \u001b[38;5;124;03m    True\u001b[39;00m\n\u001b[1;32m    527\u001b[0m \u001b[38;5;124;03m    \"\"\"\u001b[39;00m\n\u001b[1;32m    528\u001b[0m     \u001b[38;5;28;01mif\u001b[39;00m \u001b[38;5;28misinstance\u001b[39m(arr_or_dtype, ExtensionDtype):\n\u001b[1;32m    529\u001b[0m         \u001b[38;5;66;03m# GH#33400 fastpath for dtype object\u001b[39;00m\n",
      "\u001b[0;31mKeyboardInterrupt\u001b[0m: "
     ]
    }
   ],
   "source": [
    "gm_p, gm_c = do_granger(traj_df.T, in_genes=alex_tfs, out_genes=alex_genes, n_jobs=-1)"
   ]
  },
  {
   "cell_type": "code",
   "execution_count": 25,
   "id": "3cfd5d1a",
   "metadata": {},
   "outputs": [
    {
     "name": "stderr",
     "output_type": "stream",
     "text": []
    }
   ],
   "source": [
    "gm_p.to_csv(f'../results_final_Jan15/granger_A_extreme_p.csv')\n",
    "gm_c.to_csv(f'../results_final_Jan15/granger_A_extreme_c.csv')"
   ]
  },
  {
   "cell_type": "code",
   "execution_count": 24,
   "id": "ef588be1",
   "metadata": {
    "papermill": {
     "duration": 0.960361,
     "end_time": "2025-01-15T21:48:15.377991",
     "exception": false,
     "start_time": "2025-01-15T21:48:14.417630",
     "status": "completed"
    },
    "tags": []
   },
   "outputs": [
    {
     "data": {
      "text/html": [
       "<div>\n",
       "<style scoped>\n",
       "    .dataframe tbody tr th:only-of-type {\n",
       "        vertical-align: middle;\n",
       "    }\n",
       "\n",
       "    .dataframe tbody tr th {\n",
       "        vertical-align: top;\n",
       "    }\n",
       "\n",
       "    .dataframe thead th {\n",
       "        text-align: right;\n",
       "    }\n",
       "</style>\n",
       "<table border=\"1\" class=\"dataframe\">\n",
       "  <thead>\n",
       "    <tr style=\"text-align: right;\">\n",
       "      <th></th>\n",
       "      <th>NOC2L_y</th>\n",
       "      <th>HES4_y</th>\n",
       "      <th>ISG15_y</th>\n",
       "      <th>ERRFI1_y</th>\n",
       "      <th>ENO1_y</th>\n",
       "      <th>PGD_y</th>\n",
       "      <th>CENPS_y</th>\n",
       "      <th>SRM_y</th>\n",
       "      <th>PLOD1_y</th>\n",
       "      <th>EFHD2_y</th>\n",
       "      <th>...</th>\n",
       "      <th>MT-ATP6_y</th>\n",
       "      <th>MT-CO3_y</th>\n",
       "      <th>MT-ND3_y</th>\n",
       "      <th>MT-ND4L_y</th>\n",
       "      <th>MT-ND4_y</th>\n",
       "      <th>MT-ND5_y</th>\n",
       "      <th>MT-ND6_y</th>\n",
       "      <th>MT-CYB_y</th>\n",
       "      <th>CDH1_y</th>\n",
       "      <th>GAPDH_y</th>\n",
       "    </tr>\n",
       "  </thead>\n",
       "  <tbody>\n",
       "    <tr>\n",
       "      <th>HES4_x</th>\n",
       "      <td>7.794867e-01</td>\n",
       "      <td>1.000000</td>\n",
       "      <td>8.372976e-01</td>\n",
       "      <td>0.116870</td>\n",
       "      <td>6.900046e-01</td>\n",
       "      <td>0.278783</td>\n",
       "      <td>1.619419e-01</td>\n",
       "      <td>0.504819</td>\n",
       "      <td>0.529470</td>\n",
       "      <td>0.024509</td>\n",
       "      <td>...</td>\n",
       "      <td>0.538011</td>\n",
       "      <td>0.828883</td>\n",
       "      <td>0.190035</td>\n",
       "      <td>0.096815</td>\n",
       "      <td>0.545869</td>\n",
       "      <td>0.456374</td>\n",
       "      <td>0.489247</td>\n",
       "      <td>0.628664</td>\n",
       "      <td>0.682319</td>\n",
       "      <td>0.241362</td>\n",
       "    </tr>\n",
       "    <tr>\n",
       "      <th>CENPS_x</th>\n",
       "      <td>5.928597e-01</td>\n",
       "      <td>0.263094</td>\n",
       "      <td>8.143832e-01</td>\n",
       "      <td>0.286377</td>\n",
       "      <td>1.451621e-01</td>\n",
       "      <td>0.243627</td>\n",
       "      <td>1.000000e+00</td>\n",
       "      <td>0.289895</td>\n",
       "      <td>0.251571</td>\n",
       "      <td>0.668853</td>\n",
       "      <td>...</td>\n",
       "      <td>0.543833</td>\n",
       "      <td>0.986521</td>\n",
       "      <td>0.094266</td>\n",
       "      <td>0.002208</td>\n",
       "      <td>0.473953</td>\n",
       "      <td>0.903837</td>\n",
       "      <td>0.056136</td>\n",
       "      <td>0.626530</td>\n",
       "      <td>0.926442</td>\n",
       "      <td>0.633049</td>\n",
       "    </tr>\n",
       "    <tr>\n",
       "      <th>RUNX3_x</th>\n",
       "      <td>2.582658e-01</td>\n",
       "      <td>0.915070</td>\n",
       "      <td>1.839757e-01</td>\n",
       "      <td>0.324194</td>\n",
       "      <td>8.304607e-01</td>\n",
       "      <td>0.679616</td>\n",
       "      <td>3.086926e-01</td>\n",
       "      <td>0.357884</td>\n",
       "      <td>0.635528</td>\n",
       "      <td>0.861176</td>\n",
       "      <td>...</td>\n",
       "      <td>0.551438</td>\n",
       "      <td>0.303496</td>\n",
       "      <td>0.427541</td>\n",
       "      <td>0.433989</td>\n",
       "      <td>0.587324</td>\n",
       "      <td>0.368795</td>\n",
       "      <td>0.550797</td>\n",
       "      <td>0.425481</td>\n",
       "      <td>0.274973</td>\n",
       "      <td>0.330547</td>\n",
       "    </tr>\n",
       "    <tr>\n",
       "      <th>AHDC1_x</th>\n",
       "      <td>6.298774e-02</td>\n",
       "      <td>0.124101</td>\n",
       "      <td>4.313915e-01</td>\n",
       "      <td>0.289074</td>\n",
       "      <td>9.371241e-01</td>\n",
       "      <td>0.576335</td>\n",
       "      <td>7.290990e-01</td>\n",
       "      <td>0.563217</td>\n",
       "      <td>0.003036</td>\n",
       "      <td>0.026485</td>\n",
       "      <td>...</td>\n",
       "      <td>0.190017</td>\n",
       "      <td>0.037191</td>\n",
       "      <td>0.442577</td>\n",
       "      <td>0.317477</td>\n",
       "      <td>0.272262</td>\n",
       "      <td>0.014423</td>\n",
       "      <td>0.047572</td>\n",
       "      <td>0.105048</td>\n",
       "      <td>0.739353</td>\n",
       "      <td>0.883073</td>\n",
       "    </tr>\n",
       "    <tr>\n",
       "      <th>ZBTB8A_x</th>\n",
       "      <td>6.000910e-02</td>\n",
       "      <td>0.151064</td>\n",
       "      <td>4.340566e-01</td>\n",
       "      <td>0.465856</td>\n",
       "      <td>7.560912e-01</td>\n",
       "      <td>0.043874</td>\n",
       "      <td>1.294319e-02</td>\n",
       "      <td>0.749767</td>\n",
       "      <td>0.002441</td>\n",
       "      <td>0.000794</td>\n",
       "      <td>...</td>\n",
       "      <td>0.356983</td>\n",
       "      <td>0.105181</td>\n",
       "      <td>0.796607</td>\n",
       "      <td>0.539418</td>\n",
       "      <td>0.085120</td>\n",
       "      <td>0.097628</td>\n",
       "      <td>0.150561</td>\n",
       "      <td>0.305751</td>\n",
       "      <td>0.569843</td>\n",
       "      <td>0.004457</td>\n",
       "    </tr>\n",
       "    <tr>\n",
       "      <th>...</th>\n",
       "      <td>...</td>\n",
       "      <td>...</td>\n",
       "      <td>...</td>\n",
       "      <td>...</td>\n",
       "      <td>...</td>\n",
       "      <td>...</td>\n",
       "      <td>...</td>\n",
       "      <td>...</td>\n",
       "      <td>...</td>\n",
       "      <td>...</td>\n",
       "      <td>...</td>\n",
       "      <td>...</td>\n",
       "      <td>...</td>\n",
       "      <td>...</td>\n",
       "      <td>...</td>\n",
       "      <td>...</td>\n",
       "      <td>...</td>\n",
       "      <td>...</td>\n",
       "      <td>...</td>\n",
       "      <td>...</td>\n",
       "      <td>...</td>\n",
       "    </tr>\n",
       "    <tr>\n",
       "      <th>BACH1_x</th>\n",
       "      <td>8.073398e-14</td>\n",
       "      <td>0.765237</td>\n",
       "      <td>6.599131e-02</td>\n",
       "      <td>0.794206</td>\n",
       "      <td>9.074666e-07</td>\n",
       "      <td>0.000228</td>\n",
       "      <td>3.409410e-01</td>\n",
       "      <td>0.677474</td>\n",
       "      <td>0.069198</td>\n",
       "      <td>0.271205</td>\n",
       "      <td>...</td>\n",
       "      <td>0.025187</td>\n",
       "      <td>0.008767</td>\n",
       "      <td>0.741972</td>\n",
       "      <td>0.842292</td>\n",
       "      <td>0.000201</td>\n",
       "      <td>0.006456</td>\n",
       "      <td>0.233957</td>\n",
       "      <td>0.034824</td>\n",
       "      <td>0.455075</td>\n",
       "      <td>0.059667</td>\n",
       "    </tr>\n",
       "    <tr>\n",
       "      <th>SON_x</th>\n",
       "      <td>3.157318e-01</td>\n",
       "      <td>0.810677</td>\n",
       "      <td>1.684070e-07</td>\n",
       "      <td>0.680929</td>\n",
       "      <td>5.349956e-01</td>\n",
       "      <td>0.137970</td>\n",
       "      <td>3.263248e-10</td>\n",
       "      <td>0.062316</td>\n",
       "      <td>0.161871</td>\n",
       "      <td>0.005133</td>\n",
       "      <td>...</td>\n",
       "      <td>0.188457</td>\n",
       "      <td>0.045914</td>\n",
       "      <td>0.417082</td>\n",
       "      <td>0.474192</td>\n",
       "      <td>0.112577</td>\n",
       "      <td>0.009697</td>\n",
       "      <td>0.085100</td>\n",
       "      <td>0.143120</td>\n",
       "      <td>0.993611</td>\n",
       "      <td>0.000006</td>\n",
       "    </tr>\n",
       "    <tr>\n",
       "      <th>RUNX1_x</th>\n",
       "      <td>4.220905e-02</td>\n",
       "      <td>0.735611</td>\n",
       "      <td>2.187768e-02</td>\n",
       "      <td>0.077887</td>\n",
       "      <td>1.289822e-01</td>\n",
       "      <td>0.426733</td>\n",
       "      <td>2.897092e-01</td>\n",
       "      <td>0.578925</td>\n",
       "      <td>0.216537</td>\n",
       "      <td>0.764961</td>\n",
       "      <td>...</td>\n",
       "      <td>0.098459</td>\n",
       "      <td>0.006938</td>\n",
       "      <td>0.514078</td>\n",
       "      <td>0.389230</td>\n",
       "      <td>0.035763</td>\n",
       "      <td>0.013333</td>\n",
       "      <td>0.418122</td>\n",
       "      <td>0.063549</td>\n",
       "      <td>0.646476</td>\n",
       "      <td>0.109033</td>\n",
       "    </tr>\n",
       "    <tr>\n",
       "      <th>ETS2_x</th>\n",
       "      <td>4.537645e-02</td>\n",
       "      <td>0.804256</td>\n",
       "      <td>3.202202e-03</td>\n",
       "      <td>0.378814</td>\n",
       "      <td>5.180735e-01</td>\n",
       "      <td>0.839500</td>\n",
       "      <td>4.776031e-02</td>\n",
       "      <td>0.242256</td>\n",
       "      <td>0.020652</td>\n",
       "      <td>0.545955</td>\n",
       "      <td>...</td>\n",
       "      <td>0.272893</td>\n",
       "      <td>0.042190</td>\n",
       "      <td>0.249432</td>\n",
       "      <td>0.124266</td>\n",
       "      <td>0.198674</td>\n",
       "      <td>0.023449</td>\n",
       "      <td>0.029340</td>\n",
       "      <td>0.191060</td>\n",
       "      <td>0.795255</td>\n",
       "      <td>0.012389</td>\n",
       "    </tr>\n",
       "    <tr>\n",
       "      <th>ESR1_x</th>\n",
       "      <td>5.335924e-02</td>\n",
       "      <td>0.239386</td>\n",
       "      <td>5.878431e-01</td>\n",
       "      <td>0.399957</td>\n",
       "      <td>7.717649e-01</td>\n",
       "      <td>0.480803</td>\n",
       "      <td>6.822445e-01</td>\n",
       "      <td>0.609893</td>\n",
       "      <td>0.000135</td>\n",
       "      <td>0.061963</td>\n",
       "      <td>...</td>\n",
       "      <td>0.399819</td>\n",
       "      <td>0.157789</td>\n",
       "      <td>0.286947</td>\n",
       "      <td>0.165189</td>\n",
       "      <td>0.582471</td>\n",
       "      <td>0.021348</td>\n",
       "      <td>0.000667</td>\n",
       "      <td>0.294509</td>\n",
       "      <td>0.595787</td>\n",
       "      <td>0.573656</td>\n",
       "    </tr>\n",
       "  </tbody>\n",
       "</table>\n",
       "<p>331 rows × 1970 columns</p>\n",
       "</div>"
      ],
      "text/plain": [
       "               NOC2L_y    HES4_y       ISG15_y  ERRFI1_y        ENO1_y  \\\n",
       "HES4_x    7.794867e-01  1.000000  8.372976e-01  0.116870  6.900046e-01   \n",
       "CENPS_x   5.928597e-01  0.263094  8.143832e-01  0.286377  1.451621e-01   \n",
       "RUNX3_x   2.582658e-01  0.915070  1.839757e-01  0.324194  8.304607e-01   \n",
       "AHDC1_x   6.298774e-02  0.124101  4.313915e-01  0.289074  9.371241e-01   \n",
       "ZBTB8A_x  6.000910e-02  0.151064  4.340566e-01  0.465856  7.560912e-01   \n",
       "...                ...       ...           ...       ...           ...   \n",
       "BACH1_x   8.073398e-14  0.765237  6.599131e-02  0.794206  9.074666e-07   \n",
       "SON_x     3.157318e-01  0.810677  1.684070e-07  0.680929  5.349956e-01   \n",
       "RUNX1_x   4.220905e-02  0.735611  2.187768e-02  0.077887  1.289822e-01   \n",
       "ETS2_x    4.537645e-02  0.804256  3.202202e-03  0.378814  5.180735e-01   \n",
       "ESR1_x    5.335924e-02  0.239386  5.878431e-01  0.399957  7.717649e-01   \n",
       "\n",
       "             PGD_y       CENPS_y     SRM_y   PLOD1_y   EFHD2_y  ...  \\\n",
       "HES4_x    0.278783  1.619419e-01  0.504819  0.529470  0.024509  ...   \n",
       "CENPS_x   0.243627  1.000000e+00  0.289895  0.251571  0.668853  ...   \n",
       "RUNX3_x   0.679616  3.086926e-01  0.357884  0.635528  0.861176  ...   \n",
       "AHDC1_x   0.576335  7.290990e-01  0.563217  0.003036  0.026485  ...   \n",
       "ZBTB8A_x  0.043874  1.294319e-02  0.749767  0.002441  0.000794  ...   \n",
       "...            ...           ...       ...       ...       ...  ...   \n",
       "BACH1_x   0.000228  3.409410e-01  0.677474  0.069198  0.271205  ...   \n",
       "SON_x     0.137970  3.263248e-10  0.062316  0.161871  0.005133  ...   \n",
       "RUNX1_x   0.426733  2.897092e-01  0.578925  0.216537  0.764961  ...   \n",
       "ETS2_x    0.839500  4.776031e-02  0.242256  0.020652  0.545955  ...   \n",
       "ESR1_x    0.480803  6.822445e-01  0.609893  0.000135  0.061963  ...   \n",
       "\n",
       "          MT-ATP6_y  MT-CO3_y  MT-ND3_y  MT-ND4L_y  MT-ND4_y  MT-ND5_y  \\\n",
       "HES4_x     0.538011  0.828883  0.190035   0.096815  0.545869  0.456374   \n",
       "CENPS_x    0.543833  0.986521  0.094266   0.002208  0.473953  0.903837   \n",
       "RUNX3_x    0.551438  0.303496  0.427541   0.433989  0.587324  0.368795   \n",
       "AHDC1_x    0.190017  0.037191  0.442577   0.317477  0.272262  0.014423   \n",
       "ZBTB8A_x   0.356983  0.105181  0.796607   0.539418  0.085120  0.097628   \n",
       "...             ...       ...       ...        ...       ...       ...   \n",
       "BACH1_x    0.025187  0.008767  0.741972   0.842292  0.000201  0.006456   \n",
       "SON_x      0.188457  0.045914  0.417082   0.474192  0.112577  0.009697   \n",
       "RUNX1_x    0.098459  0.006938  0.514078   0.389230  0.035763  0.013333   \n",
       "ETS2_x     0.272893  0.042190  0.249432   0.124266  0.198674  0.023449   \n",
       "ESR1_x     0.399819  0.157789  0.286947   0.165189  0.582471  0.021348   \n",
       "\n",
       "          MT-ND6_y  MT-CYB_y    CDH1_y   GAPDH_y  \n",
       "HES4_x    0.489247  0.628664  0.682319  0.241362  \n",
       "CENPS_x   0.056136  0.626530  0.926442  0.633049  \n",
       "RUNX3_x   0.550797  0.425481  0.274973  0.330547  \n",
       "AHDC1_x   0.047572  0.105048  0.739353  0.883073  \n",
       "ZBTB8A_x  0.150561  0.305751  0.569843  0.004457  \n",
       "...            ...       ...       ...       ...  \n",
       "BACH1_x   0.233957  0.034824  0.455075  0.059667  \n",
       "SON_x     0.085100  0.143120  0.993611  0.000006  \n",
       "RUNX1_x   0.418122  0.063549  0.646476  0.109033  \n",
       "ETS2_x    0.029340  0.191060  0.795255  0.012389  \n",
       "ESR1_x    0.000667  0.294509  0.595787  0.573656  \n",
       "\n",
       "[331 rows x 1970 columns]"
      ]
     },
     "execution_count": 24,
     "metadata": {},
     "output_type": "execute_result"
    }
   ],
   "source": [
    "gm_p"
   ]
  },
  {
   "cell_type": "code",
   "execution_count": 14,
   "id": "5813b6ec",
   "metadata": {},
   "outputs": [],
   "source": [
    "# log_pval_df = -np.log10(pval_df)\n",
    "log_pval_df = -np.log(gm_p + 2 ** -10)\n",
    "coef_sign_df = np.sign(gm_c)\n",
    "signed_score_df = log_pval_df * coef_sign_df"
   ]
  },
  {
   "cell_type": "code",
   "execution_count": 16,
   "id": "028aca8e",
   "metadata": {},
   "outputs": [],
   "source": [
    "signed_score_df.columns = [c.strip('_y') for c in signed_score_df.columns]\n",
    "signed_score_df.index = [r.strip('_x') for r in signed_score_df.index]"
   ]
  },
  {
   "cell_type": "code",
   "execution_count": 26,
   "id": "a160662e",
   "metadata": {},
   "outputs": [],
   "source": [
    "signed_score_df.to_csv(f'../results_final_Jan15/granger_A_extreme_signed_score.csv')"
   ]
  },
  {
   "cell_type": "code",
   "execution_count": 20,
   "id": "620a5150",
   "metadata": {},
   "outputs": [
    {
     "data": {
      "text/plain": [
       "True"
      ]
     },
     "execution_count": 20,
     "metadata": {},
     "output_type": "execute_result"
    }
   ],
   "source": [
    "'ESRRA' in signed_score_df.columns"
   ]
  },
  {
   "cell_type": "code",
   "execution_count": 21,
   "id": "9c9bb1c4",
   "metadata": {},
   "outputs": [
    {
     "data": {
      "text/plain": [
       "False"
      ]
     },
     "execution_count": 21,
     "metadata": {},
     "output_type": "execute_result"
    }
   ],
   "source": [
    "'ESRRA' in signed_score_df.index"
   ]
  },
  {
   "cell_type": "code",
   "execution_count": null,
   "id": "f5abe5f6",
   "metadata": {},
   "outputs": [],
   "source": []
  }
 ],
 "metadata": {
  "kernelspec": {
   "display_name": "mioflow",
   "language": "python",
   "name": "python3"
  },
  "language_info": {
   "codemirror_mode": {
    "name": "ipython",
    "version": 3
   },
   "file_extension": ".py",
   "mimetype": "text/x-python",
   "name": "python",
   "nbconvert_exporter": "python",
   "pygments_lexer": "ipython3",
   "version": "3.10.13"
  },
  "papermill": {
   "default_parameters": {},
   "duration": 446.432865,
   "end_time": "2025-01-15T21:48:18.957240",
   "environment_variables": {},
   "exception": null,
   "input_path": "[FINAL]-34.3-granger-causality_extreme_traj_signed.ipynb",
   "output_path": "[FINAL]-34.3-granger-causality_extreme_traj_signed.ipynb",
   "parameters": {},
   "start_time": "2025-01-15T21:40:52.524375",
   "version": "2.5.0"
  }
 },
 "nbformat": 4,
 "nbformat_minor": 5
}
