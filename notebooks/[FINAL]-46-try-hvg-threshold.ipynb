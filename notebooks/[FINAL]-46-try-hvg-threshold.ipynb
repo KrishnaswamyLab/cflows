{
 "cells": [
  {
   "cell_type": "code",
   "execution_count": 31,
   "metadata": {},
   "outputs": [],
   "source": [
    "import scanpy as sc\n",
    "import numpy as np\n",
    "import pandas as pd"
   ]
  },
  {
   "cell_type": "code",
   "execution_count": 15,
   "metadata": {},
   "outputs": [],
   "source": [
    "adata = sc.read_h5ad('../data/rna_figure_ready.h5ad')"
   ]
  },
  {
   "cell_type": "code",
   "execution_count": 20,
   "metadata": {},
   "outputs": [],
   "source": [
    "sc.pp.highly_variable_genes(adata, n_top_genes=None)  # No filtering yet"
   ]
  },
  {
   "cell_type": "code",
   "execution_count": 55,
   "metadata": {},
   "outputs": [
    {
     "data": {
      "text/plain": [
       "5351"
      ]
     },
     "execution_count": 55,
     "metadata": {},
     "output_type": "execute_result"
    }
   ],
   "source": [
    "threshold_75 = adata.var['dispersions_norm'].quantile(0.75)\n",
    "adata.var['highly_variable'] = adata.var['dispersions_norm'] > threshold_75\n",
    "hvg = adata.var_names[adata.var['highly_variable']]\n",
    "len(hvg)"
   ]
  },
  {
   "cell_type": "code",
   "execution_count": 56,
   "metadata": {},
   "outputs": [
    {
     "data": {
      "text/plain": [
       "3044"
      ]
     },
     "execution_count": 56,
     "metadata": {},
     "output_type": "execute_result"
    }
   ],
   "source": [
    "tf_df = pd.read_csv('../data/uniprotkb_organism_id_9606_AND_go_00037_2025_01_29.tsv', sep='\\t')\n",
    "tf_list = tf_df['Gene Names'].str.split().explode().tolist()\n",
    "len(tf_list)"
   ]
  },
  {
   "cell_type": "code",
   "execution_count": 57,
   "metadata": {},
   "outputs": [
    {
     "data": {
      "text/plain": [
       "1281"
      ]
     },
     "execution_count": 57,
     "metadata": {},
     "output_type": "execute_result"
    }
   ],
   "source": [
    "adata.var['is_tf'] = adata.var_names.isin(tf_list)\n",
    "adata.var['is_tf'].sum()"
   ]
  },
  {
   "cell_type": "code",
   "execution_count": 60,
   "metadata": {},
   "outputs": [
    {
     "data": {
      "text/plain": [
       "320"
      ]
     },
     "execution_count": 60,
     "metadata": {},
     "output_type": "execute_result"
    }
   ],
   "source": [
    "threshold = adata[:,adata.var['is_tf']].var['dispersions_norm'].quantile(0.75)\n",
    "adata.var['is_tf_hvg'] = adata.var['is_tf'] & (adata.var['dispersions_norm'] > threshold)\n",
    "hv_tf = adata.var_names[adata.var['is_tf_hvg']]\n",
    "len(hv_tf)"
   ]
  },
  {
   "cell_type": "code",
   "execution_count": 61,
   "metadata": {},
   "outputs": [
    {
     "name": "stdout",
     "output_type": "stream",
     "text": [
      "Intersection length: 271\n",
      "HVG length: 5351, HV TF length: 320\n"
     ]
    }
   ],
   "source": [
    "print(f\"Intersection length: {len(set(hvg).intersection(hv_tf))}\")\n",
    "print(f\"HVG length: {len(hvg)}, HV TF length: {len(hv_tf)}\")"
   ]
  },
  {
   "cell_type": "code",
   "execution_count": 71,
   "metadata": {},
   "outputs": [],
   "source": [
    "# Save HVGs and HV TFs to files\n",
    "with open('../data/hvg.txt', 'w') as f:\n",
    "    f.write('\\n'.join(hvg))\n",
    "    \n",
    "with open('../data/hv_tf.txt', 'w') as f:\n",
    "    f.write('\\n'.join(hv_tf))\n"
   ]
  },
  {
   "cell_type": "code",
   "execution_count": null,
   "metadata": {},
   "outputs": [],
   "source": [
    "assert False"
   ]
  },
  {
   "cell_type": "code",
   "execution_count": 39,
   "metadata": {},
   "outputs": [
    {
     "name": "stdout",
     "output_type": "stream",
     "text": [
      "Number of TFs: 3044\n",
      "Number of HVGs: 5429\n",
      "Number of TFs in HVGs: 273\n"
     ]
    }
   ],
   "source": [
    "tf_hvg_intersection = set(tf_list).intersection(hvg)\n",
    "print(f\"Number of TFs: {len(tf_list)}\")\n",
    "print(f\"Number of HVGs: {len(hvg)}\")\n",
    "print(f\"Number of TFs in HVGs: {len(tf_hvg_intersection)}\")"
   ]
  },
  {
   "cell_type": "code",
   "execution_count": 26,
   "metadata": {},
   "outputs": [],
   "source": [
    "# sc.pp.highly_variable_genes(adata, n_top_genes=400)\n",
    "alex_genes = open('../data/alex_genes.txt').read().splitlines()\n",
    "alex_tfs = open('../data/alex_tfs.txt').read().splitlines()"
   ]
  },
  {
   "cell_type": "code",
   "execution_count": 29,
   "metadata": {},
   "outputs": [
    {
     "name": "stdout",
     "output_type": "stream",
     "text": [
      "Number of Alex genes in HVG: 1446, total number of Alex genes: 1970\n",
      "Number of Alex TFS in HVG: 150, total number of Alex TFS: 331\n"
     ]
    }
   ],
   "source": [
    "alex_genes_in_hvg = [g for g in alex_genes if g in hvg]\n",
    "alex_tfs_in_hvg = [t for t in alex_tfs if t in hvg]\n",
    "print(f\"Number of Alex genes in HVG: {len(alex_genes_in_hvg)}, total number of Alex genes: {len(alex_genes)}\")\n",
    "print(f\"Number of Alex TFS in HVG: {len(alex_tfs_in_hvg)}, total number of Alex TFS: {len(alex_tfs)}\")"
   ]
  },
  {
   "cell_type": "code",
   "execution_count": 40,
   "metadata": {},
   "outputs": [
    {
     "name": "stdout",
     "output_type": "stream",
     "text": [
      "Number of TFs in HVGs: 273\n",
      "Number of Alex TFs: 331\n",
      "Number of TFs in both sets: 127\n"
     ]
    }
   ],
   "source": [
    "tf_hvg_intersection = set(tf_list).intersection(hvg)\n",
    "alex_tf_set = set(alex_tfs)\n",
    "common_tfs = tf_hvg_intersection.intersection(alex_tf_set)\n",
    "\n",
    "print(f\"Number of TFs in HVGs: {len(tf_hvg_intersection)}\")\n",
    "print(f\"Number of Alex TFs: {len(alex_tf_set)}\")\n",
    "print(f\"Number of TFs in both sets: {len(common_tfs)}\")\n"
   ]
  },
  {
   "cell_type": "code",
   "execution_count": 42,
   "metadata": {},
   "outputs": [
    {
     "data": {
      "text/plain": [
       "False"
      ]
     },
     "execution_count": 42,
     "metadata": {},
     "output_type": "execute_result"
    }
   ],
   "source": [
    "'ESRRA' in tf_hvg_intersection"
   ]
  },
  {
   "cell_type": "code",
   "execution_count": 43,
   "metadata": {},
   "outputs": [
    {
     "data": {
      "text/plain": [
       "False"
      ]
     },
     "execution_count": 43,
     "metadata": {},
     "output_type": "execute_result"
    }
   ],
   "source": [
    "'ESRRA' in hvg"
   ]
  },
  {
   "cell_type": "code",
   "execution_count": null,
   "metadata": {},
   "outputs": [],
   "source": []
  }
 ],
 "metadata": {
  "kernelspec": {
   "display_name": "mioflow",
   "language": "python",
   "name": "python3"
  },
  "language_info": {
   "codemirror_mode": {
    "name": "ipython",
    "version": 3
   },
   "file_extension": ".py",
   "mimetype": "text/x-python",
   "name": "python",
   "nbconvert_exporter": "python",
   "pygments_lexer": "ipython3",
   "version": "3.10.13"
  }
 },
 "nbformat": 4,
 "nbformat_minor": 2
}
