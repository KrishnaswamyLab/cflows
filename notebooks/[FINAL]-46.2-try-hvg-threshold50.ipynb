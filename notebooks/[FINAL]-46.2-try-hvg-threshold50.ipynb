{
 "cells": [
  {
   "cell_type": "code",
   "execution_count": 1,
   "metadata": {},
   "outputs": [],
   "source": [
    "import scanpy as sc\n",
    "import numpy as np\n",
    "import pandas as pd"
   ]
  },
  {
   "cell_type": "code",
   "execution_count": 2,
   "metadata": {},
   "outputs": [],
   "source": [
    "adata = sc.read_h5ad('../data/rna_figure_ready.h5ad')"
   ]
  },
  {
   "cell_type": "code",
   "execution_count": 3,
   "metadata": {},
   "outputs": [],
   "source": [
    "sc.pp.highly_variable_genes(adata, n_top_genes=None)  # No filtering yet"
   ]
  },
  {
   "cell_type": "code",
   "execution_count": 4,
   "metadata": {},
   "outputs": [
    {
     "data": {
      "text/plain": [
       "10701"
      ]
     },
     "execution_count": 4,
     "metadata": {},
     "output_type": "execute_result"
    }
   ],
   "source": [
    "threshold_50 = adata.var['dispersions_norm'].quantile(0.50)\n",
    "adata.var['highly_variable'] = adata.var['dispersions_norm'] > threshold_50\n",
    "hvg = adata.var_names[adata.var['highly_variable']]\n",
    "len(hvg)"
   ]
  },
  {
   "cell_type": "code",
   "execution_count": 5,
   "metadata": {},
   "outputs": [
    {
     "data": {
      "text/plain": [
       "3044"
      ]
     },
     "execution_count": 5,
     "metadata": {},
     "output_type": "execute_result"
    }
   ],
   "source": [
    "tf_df = pd.read_csv('../data/uniprotkb_organism_id_9606_AND_go_00037_2025_01_29.tsv', sep='\\t')\n",
    "tf_list = tf_df['Gene Names'].str.split().explode().tolist()\n",
    "len(tf_list)"
   ]
  },
  {
   "cell_type": "code",
   "execution_count": 6,
   "metadata": {},
   "outputs": [
    {
     "data": {
      "text/plain": [
       "1281"
      ]
     },
     "execution_count": 6,
     "metadata": {},
     "output_type": "execute_result"
    }
   ],
   "source": [
    "adata.var['is_tf'] = adata.var_names.isin(tf_list)\n",
    "adata.var['is_tf'].sum()"
   ]
  },
  {
   "cell_type": "code",
   "execution_count": 7,
   "metadata": {},
   "outputs": [
    {
     "data": {
      "text/plain": [
       "640"
      ]
     },
     "execution_count": 7,
     "metadata": {},
     "output_type": "execute_result"
    }
   ],
   "source": [
    "threshold = adata[:,adata.var['is_tf']].var['dispersions_norm'].quantile(0.50)\n",
    "adata.var['is_tf_hvg'] = adata.var['is_tf'] & (adata.var['dispersions_norm'] > threshold)\n",
    "hv_tf = adata.var_names[adata.var['is_tf_hvg']]\n",
    "len(hv_tf)"
   ]
  },
  {
   "cell_type": "code",
   "execution_count": 8,
   "metadata": {},
   "outputs": [
    {
     "name": "stdout",
     "output_type": "stream",
     "text": [
      "Intersection length: 640\n",
      "HVG length: 10701, HV TF length: 640\n"
     ]
    }
   ],
   "source": [
    "print(f\"Intersection length: {len(set(hvg).intersection(hv_tf))}\")\n",
    "print(f\"HVG length: {len(hvg)}, HV TF length: {len(hv_tf)}\")"
   ]
  },
  {
   "cell_type": "code",
   "execution_count": 9,
   "metadata": {},
   "outputs": [],
   "source": [
    "# Save HVGs and HV TFs to files\n",
    "with open('../data/hvg_50.txt', 'w') as f:\n",
    "    f.write('\\n'.join(hvg))\n",
    "    \n",
    "with open('../data/hv_tf_50.txt', 'w') as f:\n",
    "    f.write('\\n'.join(hv_tf))\n"
   ]
  },
  {
   "cell_type": "code",
   "execution_count": 10,
   "metadata": {},
   "outputs": [
    {
     "ename": "AssertionError",
     "evalue": "",
     "output_type": "error",
     "traceback": [
      "\u001b[0;31m---------------------------------------------------------------------------\u001b[0m",
      "\u001b[0;31mAssertionError\u001b[0m                            Traceback (most recent call last)",
      "Cell \u001b[0;32mIn[10], line 1\u001b[0m\n\u001b[0;32m----> 1\u001b[0m \u001b[38;5;28;01massert\u001b[39;00m \u001b[38;5;28;01mFalse\u001b[39;00m\n",
      "\u001b[0;31mAssertionError\u001b[0m: "
     ]
    }
   ],
   "source": [
    "assert False"
   ]
  },
  {
   "cell_type": "code",
   "execution_count": 11,
   "metadata": {},
   "outputs": [
    {
     "name": "stdout",
     "output_type": "stream",
     "text": [
      "Number of TFs: 3044\n",
      "Number of HVGs: 10701\n",
      "Number of TFs in HVGs: 655\n"
     ]
    }
   ],
   "source": [
    "tf_hvg_intersection = set(tf_list).intersection(hvg)\n",
    "print(f\"Number of TFs: {len(tf_list)}\")\n",
    "print(f\"Number of HVGs: {len(hvg)}\")\n",
    "print(f\"Number of TFs in HVGs: {len(tf_hvg_intersection)}\")"
   ]
  },
  {
   "cell_type": "code",
   "execution_count": 12,
   "metadata": {},
   "outputs": [],
   "source": [
    "# sc.pp.highly_variable_genes(adata, n_top_genes=400)\n",
    "alex_genes = open('../data/alex_genes.txt').read().splitlines()\n",
    "alex_tfs = open('../data/alex_tfs.txt').read().splitlines()"
   ]
  },
  {
   "cell_type": "code",
   "execution_count": 13,
   "metadata": {},
   "outputs": [
    {
     "name": "stdout",
     "output_type": "stream",
     "text": [
      "Number of Alex genes in HVG: 1809, total number of Alex genes: 1970\n",
      "Number of Alex TFS in HVG: 284, total number of Alex TFS: 331\n"
     ]
    }
   ],
   "source": [
    "alex_genes_in_hvg = [g for g in alex_genes if g in hvg]\n",
    "alex_tfs_in_hvg = [t for t in alex_tfs if t in hvg]\n",
    "print(f\"Number of Alex genes in HVG: {len(alex_genes_in_hvg)}, total number of Alex genes: {len(alex_genes)}\")\n",
    "print(f\"Number of Alex TFS in HVG: {len(alex_tfs_in_hvg)}, total number of Alex TFS: {len(alex_tfs)}\")"
   ]
  },
  {
   "cell_type": "code",
   "execution_count": 14,
   "metadata": {},
   "outputs": [
    {
     "name": "stdout",
     "output_type": "stream",
     "text": [
      "Number of TFs in HVGs: 655\n",
      "Number of Alex TFs: 331\n",
      "Number of TFs in both sets: 234\n"
     ]
    }
   ],
   "source": [
    "tf_hvg_intersection = set(tf_list).intersection(hvg)\n",
    "alex_tf_set = set(alex_tfs)\n",
    "common_tfs = tf_hvg_intersection.intersection(alex_tf_set)\n",
    "\n",
    "print(f\"Number of TFs in HVGs: {len(tf_hvg_intersection)}\")\n",
    "print(f\"Number of Alex TFs: {len(alex_tf_set)}\")\n",
    "print(f\"Number of TFs in both sets: {len(common_tfs)}\")\n"
   ]
  },
  {
   "cell_type": "code",
   "execution_count": 15,
   "metadata": {},
   "outputs": [
    {
     "data": {
      "text/plain": [
       "False"
      ]
     },
     "execution_count": 15,
     "metadata": {},
     "output_type": "execute_result"
    }
   ],
   "source": [
    "'ESRRA' in tf_hvg_intersection"
   ]
  },
  {
   "cell_type": "code",
   "execution_count": 16,
   "metadata": {},
   "outputs": [
    {
     "data": {
      "text/plain": [
       "False"
      ]
     },
     "execution_count": 16,
     "metadata": {},
     "output_type": "execute_result"
    }
   ],
   "source": [
    "'ESRRA' in hvg"
   ]
  },
  {
   "cell_type": "code",
   "execution_count": null,
   "metadata": {},
   "outputs": [],
   "source": []
  }
 ],
 "metadata": {
  "kernelspec": {
   "display_name": "mioflow",
   "language": "python",
   "name": "python3"
  },
  "language_info": {
   "codemirror_mode": {
    "name": "ipython",
    "version": 3
   },
   "file_extension": ".py",
   "mimetype": "text/x-python",
   "name": "python",
   "nbconvert_exporter": "python",
   "pygments_lexer": "ipython3",
   "version": "3.10.13"
  }
 },
 "nbformat": 4,
 "nbformat_minor": 2
}
