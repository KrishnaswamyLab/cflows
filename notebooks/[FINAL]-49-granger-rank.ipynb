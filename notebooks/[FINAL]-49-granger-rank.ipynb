{
 "cells": [
  {
   "cell_type": "code",
   "execution_count": 1,
   "metadata": {},
   "outputs": [],
   "source": [
    "import pandas as pd\n",
    "import seaborn as sns\n",
    "import matplotlib.pyplot as plt\n",
    "import numpy as np"
   ]
  },
  {
   "cell_type": "code",
   "execution_count": 2,
   "metadata": {},
   "outputs": [],
   "source": [
    "# save_path = '../results_final_Dec22/'\n",
    "save_path = '../results_final_Jan15/'\n",
    "signed_score_T_df = pd.read_csv(save_path + 'granger_hvg_T_signed_score.csv', index_col=0)\n",
    "signed_score_A_df = pd.read_csv(save_path + 'granger_hvg_A_signed_score.csv', index_col=0)"
   ]
  },
  {
   "cell_type": "code",
   "execution_count": 18,
   "metadata": {},
   "outputs": [],
   "source": [
    "# Convert to pairs with values for T\n",
    "pairs = [(idx, col, val) for idx in signed_score_T_df.index for col, val in signed_score_T_df.abs().loc[idx].items()]\n",
    "\n",
    "# Sort by absolute value\n",
    "pairs.sort(key=lambda x: x[2], reverse=True)\n",
    "\n",
    "# Get top pairs until we have 100 unique indices\n",
    "seen_indices = set()\n",
    "top_pairs = []\n",
    "for idx, col, val in pairs:\n",
    "    if idx not in seen_indices:\n",
    "        seen_indices.add(idx)\n",
    "        top_pairs.append((idx, col, val))\n",
    "    if len(seen_indices) == 100:\n",
    "        break\n",
    "\n",
    "# Convert result to DataFrame for easier viewing\n",
    "result = pd.DataFrame(top_pairs, columns=['Index', 'Column', 'Value'])\n",
    "top_100_T = result['Index'].to_list()\n",
    "\n",
    "# Now do the same for A\n",
    "pairs = [(idx, col, val) for idx in signed_score_A_df.index for col, val in signed_score_A_df.abs().loc[idx].items()]\n",
    "\n",
    "pairs.sort(key=lambda x: x[2], reverse=True)\n",
    "\n",
    "seen_indices = set()\n",
    "top_pairs = []\n",
    "for idx, col, val in pairs:\n",
    "    if idx not in seen_indices:\n",
    "        seen_indices.add(idx)\n",
    "        top_pairs.append((idx, col, val))\n",
    "    if len(seen_indices) == 100:\n",
    "        break\n",
    "\n",
    "result_A = pd.DataFrame(top_pairs, columns=['Index', 'Column', 'Value'])\n",
    "top_100_A = result_A['Index'].to_list()"
   ]
  },
  {
   "cell_type": "code",
   "execution_count": 19,
   "metadata": {},
   "outputs": [
    {
     "name": "stdout",
     "output_type": "stream",
     "text": [
      "Number of genes in intersection: 75\n"
     ]
    }
   ],
   "source": [
    "# Find intersection between top 100 genes from T and A\n",
    "intersection = set(top_100_T) & set(top_100_A)\n",
    "print(f\"Number of genes in intersection: {len(intersection)}\")"
   ]
  },
  {
   "cell_type": "code",
   "execution_count": 20,
   "metadata": {},
   "outputs": [],
   "source": [
    "unique_T = set(top_100_T) - intersection\n",
    "unique_A = set(top_100_A) - intersection\n",
    "intersection_list = list(intersection)\n",
    "unique_T_list = list(unique_T)\n",
    "unique_A_list = list(unique_A)\n",
    "\n"
   ]
  },
  {
   "cell_type": "code",
   "execution_count": 25,
   "metadata": {},
   "outputs": [],
   "source": [
    "# Create a dictionary of dataframes for each list\n",
    "data_dict = {\n",
    "    'Unique_T': pd.DataFrame(unique_T_list, columns=['Gene']),\n",
    "    'Unique_A': pd.DataFrame(unique_A_list, columns=['Gene']), \n",
    "    'Intersection': pd.DataFrame(intersection_list, columns=['Gene']),\n",
    "    'Top_100_T': pd.DataFrame(top_100_T, columns=['Gene']),\n",
    "    'Top_100_A': pd.DataFrame(top_100_A, columns=['Gene'])\n",
    "}\n",
    "\n",
    "# Save to Excel with multiple sheets\n",
    "with pd.ExcelWriter(save_path + 'granger_causality_rankings_hvg.xlsx') as writer:\n",
    "    for sheet_name, df in data_dict.items():\n",
    "        df.to_excel(writer, sheet_name=sheet_name, index=False)"
   ]
  },
  {
   "cell_type": "code",
   "execution_count": null,
   "metadata": {},
   "outputs": [],
   "source": []
  }
 ],
 "metadata": {
  "kernelspec": {
   "display_name": "mioflow",
   "language": "python",
   "name": "python3"
  },
  "language_info": {
   "codemirror_mode": {
    "name": "ipython",
    "version": 3
   },
   "file_extension": ".py",
   "mimetype": "text/x-python",
   "name": "python",
   "nbconvert_exporter": "python",
   "pygments_lexer": "ipython3",
   "version": "3.10.13"
  }
 },
 "nbformat": 4,
 "nbformat_minor": 2
}
