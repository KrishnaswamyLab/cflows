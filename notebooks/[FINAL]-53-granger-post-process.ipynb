{
 "cells": [
  {
   "cell_type": "code",
   "execution_count": 1,
   "metadata": {},
   "outputs": [],
   "source": [
    "import pandas as pd\n",
    "import numpy as np\n",
    "import scanpy as sc"
   ]
  },
  {
   "cell_type": "code",
   "execution_count": 2,
   "metadata": {},
   "outputs": [],
   "source": [
    "granger_df_all_T = pd.read_csv('../results_final_Jan15/granger_all_T_signed_score.csv', index_col=0)\n",
    "granger_df_all_A = pd.read_csv('../results_final_Jan15/granger_all_A_signed_score.csv', index_col=0)"
   ]
  },
  {
   "cell_type": "code",
   "execution_count": 4,
   "metadata": {},
   "outputs": [],
   "source": [
    "adata = sc.read_h5ad('../data/rna_figure_ready.h5ad')"
   ]
  },
  {
   "cell_type": "code",
   "execution_count": 5,
   "metadata": {},
   "outputs": [],
   "source": [
    "with open('../data/hvg_50.txt', 'r') as f:\n",
    "    hvg_50 = f.read().splitlines()\n",
    "\n",
    "with open('../data/hv_tf_50.txt', 'r') as f:\n",
    "    hv_tf_50 = f.read().splitlines()"
   ]
  },
  {
   "cell_type": "code",
   "execution_count": 25,
   "metadata": {},
   "outputs": [],
   "source": [
    "# Check if any gene_ids contain a period\n",
    "# Need to escape the period since it's a special regex character\n",
    "assert not adata.var['gene_ids'].str.contains('\\.').any()"
   ]
  },
  {
   "cell_type": "code",
   "execution_count": 19,
   "metadata": {},
   "outputs": [],
   "source": [
    "gene_name2id = adata.var['gene_ids'].to_dict()"
   ]
  },
  {
   "cell_type": "code",
   "execution_count": 21,
   "metadata": {},
   "outputs": [],
   "source": [
    "granger_df_all_T_id = granger_df_all_T.rename(index=gene_name2id, columns=gene_name2id)\n",
    "granger_df_all_T_id.to_csv('../results_final_Jan15/granger_all_T_signed_score_id.csv')"
   ]
  },
  {
   "cell_type": "code",
   "execution_count": 45,
   "metadata": {},
   "outputs": [],
   "source": [
    "granger_df_all_T_id.to_csv('../results_final_Jan15/granger_all_T_signed_score_id.csv')"
   ]
  },
  {
   "cell_type": "code",
   "execution_count": 26,
   "metadata": {},
   "outputs": [],
   "source": [
    "granger_df_all_A_id = granger_df_all_A.rename(index=gene_name2id, columns=gene_name2id)\n",
    "granger_df_all_A_id.to_csv('../results_final_Jan15/granger_all_A_signed_score_id.csv')"
   ]
  },
  {
   "cell_type": "code",
   "execution_count": 43,
   "metadata": {},
   "outputs": [],
   "source": [
    "granger_df_50_T = granger_df_all_T.loc[hv_tf_50, hvg_50]\n",
    "granger_df_50_T.to_csv('../results_final_Jan15/granger_50_T_signed_score.csv')\n",
    "granger_df_50_A = granger_df_all_A.loc[hv_tf_50, hvg_50]\n",
    "granger_df_50_A.to_csv('../results_final_Jan15/granger_50_A_signed_score.csv')"
   ]
  },
  {
   "cell_type": "code",
   "execution_count": null,
   "metadata": {},
   "outputs": [],
   "source": []
  },
  {
   "cell_type": "code",
   "execution_count": 34,
   "metadata": {},
   "outputs": [],
   "source": [
    "granger_df_50_T_id = granger_df_50_T.rename(index=gene_name2id, columns=gene_name2id)\n",
    "granger_df_50_T_id.to_csv('../results_final_Jan15/granger_50_T_signed_score_id.csv')\n",
    "granger_df_50_A_id = granger_df_50_A.rename(index=gene_name2id, columns=gene_name2id)\n",
    "granger_df_50_A_id.to_csv('../results_final_Jan15/granger_50_A_signed_score_id.csv')\n"
   ]
  },
  {
   "cell_type": "code",
   "execution_count": 36,
   "metadata": {},
   "outputs": [],
   "source": [
    "# Convert to pairs with values for T\n",
    "pairs = [(idx, col, val) for idx in granger_df_50_T.index for col, val in granger_df_50_T.abs().loc[idx].items()]\n",
    "\n",
    "# Sort by absolute value\n",
    "pairs.sort(key=lambda x: x[2], reverse=True)\n",
    "\n",
    "# Get top pairs until we have 100 unique indices\n",
    "seen_indices = set()\n",
    "top_pairs = []\n",
    "for idx, col, val in pairs:\n",
    "    if idx not in seen_indices:\n",
    "        seen_indices.add(idx)\n",
    "        top_pairs.append((idx, col, val))\n",
    "    if len(seen_indices) == 100:\n",
    "        break\n",
    "\n",
    "# Convert result to DataFrame for easier viewing\n",
    "result = pd.DataFrame(top_pairs, columns=['Index', 'Column', 'Value'])\n",
    "top_100_T = result['Index'].to_list()\n",
    "\n",
    "# Now do the same for A\n",
    "pairs = [(idx, col, val) for idx in granger_df_50_A.index for col, val in granger_df_50_A.abs().loc[idx].items()]\n",
    "\n",
    "pairs.sort(key=lambda x: x[2], reverse=True)\n",
    "\n",
    "seen_indices = set()\n",
    "top_pairs = []\n",
    "for idx, col, val in pairs:\n",
    "    if idx not in seen_indices:\n",
    "        seen_indices.add(idx)\n",
    "        top_pairs.append((idx, col, val))\n",
    "    if len(seen_indices) == 100:\n",
    "        break\n",
    "\n",
    "result_A = pd.DataFrame(top_pairs, columns=['Index', 'Column', 'Value'])\n",
    "top_100_A = result_A['Index'].to_list()"
   ]
  },
  {
   "cell_type": "code",
   "execution_count": 37,
   "metadata": {},
   "outputs": [
    {
     "name": "stdout",
     "output_type": "stream",
     "text": [
      "Number of genes in intersection: 87\n"
     ]
    }
   ],
   "source": [
    "# Find intersection between top 100 genes from T and A\n",
    "intersection = set(top_100_T) & set(top_100_A)\n",
    "print(f\"Number of genes in intersection: {len(intersection)}\")"
   ]
  },
  {
   "cell_type": "code",
   "execution_count": 38,
   "metadata": {},
   "outputs": [],
   "source": [
    "unique_T = set(top_100_T) - intersection\n",
    "unique_A = set(top_100_A) - intersection\n",
    "intersection_list = list(intersection)\n",
    "unique_T_list = list(unique_T)\n",
    "unique_A_list = list(unique_A)\n",
    "\n"
   ]
  },
  {
   "cell_type": "code",
   "execution_count": 42,
   "metadata": {},
   "outputs": [],
   "source": [
    "# Create a dictionary of dataframes for each list\n",
    "data_dict = {\n",
    "    'Unique_T': pd.DataFrame(unique_T_list, columns=['Gene']),\n",
    "    'Unique_A': pd.DataFrame(unique_A_list, columns=['Gene']), \n",
    "    'Intersection': pd.DataFrame(intersection_list, columns=['Gene']),\n",
    "    'Top_100_T': pd.DataFrame(top_100_T, columns=['Gene']),\n",
    "    'Top_100_A': pd.DataFrame(top_100_A, columns=['Gene'])\n",
    "}\n",
    "\n",
    "# Save to Excel with multiple sheets\n",
    "with pd.ExcelWriter('../results_final_Jan15/granger_causality_rankings_50.xlsx') as writer:\n",
    "    for sheet_name, df in data_dict.items():\n",
    "        df.to_excel(writer, sheet_name=sheet_name, index=False)\n",
    "\n",
    "# Convert gene names to IDs\n",
    "data_dict_ids = {}\n",
    "for name, df in data_dict.items():\n",
    "    df_ids = df.copy()\n",
    "    df_ids['Gene'] = df_ids['Gene'].map(gene_name2id)\n",
    "    data_dict_ids[name] = df_ids\n",
    "\n",
    "# Save version with gene IDs to Excel\n",
    "with pd.ExcelWriter('../results_final_Jan15/granger_causality_rankings_50_ids.xlsx') as writer:\n",
    "    for sheet_name, df in data_dict_ids.items():\n",
    "        df.to_excel(writer, sheet_name=sheet_name, index=False)"
   ]
  },
  {
   "cell_type": "code",
   "execution_count": 46,
   "metadata": {},
   "outputs": [
    {
     "name": "stdout",
     "output_type": "stream",
     "text": [
      "Number of genes in intersection: 173\n"
     ]
    }
   ],
   "source": [
    "# Convert to pairs with values for T\n",
    "pairs = [(idx, col, val) for idx in granger_df_50_T.index for col, val in granger_df_50_T.abs().loc[idx].items()]\n",
    "\n",
    "# Sort by absolute value\n",
    "pairs.sort(key=lambda x: x[2], reverse=True)\n",
    "\n",
    "# Get top pairs until we have 200 unique indices\n",
    "seen_indices = set()\n",
    "top_pairs = []\n",
    "for idx, col, val in pairs:\n",
    "    if idx not in seen_indices:\n",
    "        seen_indices.add(idx)\n",
    "        top_pairs.append((idx, col, val))\n",
    "    if len(seen_indices) == 200:\n",
    "        break\n",
    "\n",
    "# Convert result to DataFrame for easier viewing\n",
    "result = pd.DataFrame(top_pairs, columns=['Index', 'Column', 'Value'])\n",
    "top_200_T = result['Index'].to_list()\n",
    "\n",
    "# Now do the same for A\n",
    "pairs = [(idx, col, val) for idx in granger_df_50_A.index for col, val in granger_df_50_A.abs().loc[idx].items()]\n",
    "\n",
    "pairs.sort(key=lambda x: x[2], reverse=True)\n",
    "\n",
    "seen_indices = set()\n",
    "top_pairs = []\n",
    "for idx, col, val in pairs:\n",
    "    if idx not in seen_indices:\n",
    "        seen_indices.add(idx)\n",
    "        top_pairs.append((idx, col, val))\n",
    "    if len(seen_indices) == 200:\n",
    "        break\n",
    "\n",
    "result_A = pd.DataFrame(top_pairs, columns=['Index', 'Column', 'Value'])\n",
    "top_200_A = result_A['Index'].to_list()\n",
    "\n",
    "# Find intersection between top 200 genes from T and A\n",
    "intersection = set(top_200_T) & set(top_200_A)\n",
    "print(f\"Number of genes in intersection: {len(intersection)}\")\n",
    "\n",
    "unique_T = set(top_200_T) - intersection\n",
    "unique_A = set(top_200_A) - intersection\n",
    "intersection_list = list(intersection)\n",
    "unique_T_list = list(unique_T)\n",
    "unique_A_list = list(unique_A)\n",
    "\n",
    "\n",
    "# Create a dictionary of dataframes for each list\n",
    "data_dict = {\n",
    "    'Unique_T': pd.DataFrame(unique_T_list, columns=['Gene']),\n",
    "    'Unique_A': pd.DataFrame(unique_A_list, columns=['Gene']), \n",
    "    'Intersection': pd.DataFrame(intersection_list, columns=['Gene']),\n",
    "    'Top_200_T': pd.DataFrame(top_200_T, columns=['Gene']),\n",
    "    'Top_200_A': pd.DataFrame(top_200_A, columns=['Gene'])\n",
    "}\n",
    "\n",
    "# Save to Excel with multiple sheets\n",
    "with pd.ExcelWriter('../results_final_Jan15/granger_causality_rankings_50_top200.xlsx') as writer:\n",
    "    for sheet_name, df in data_dict.items():\n",
    "        df.to_excel(writer, sheet_name=sheet_name, index=False)\n",
    "\n",
    "# Convert gene names to IDs\n",
    "data_dict_ids = {}\n",
    "for name, df in data_dict.items():\n",
    "    df_ids = df.copy()\n",
    "    df_ids['Gene'] = df_ids['Gene'].map(gene_name2id)\n",
    "    data_dict_ids[name] = df_ids\n",
    "\n",
    "# Save version with gene IDs to Excel\n",
    "with pd.ExcelWriter('../results_final_Jan15/granger_causality_rankings_50_top200_ids.xlsx') as writer:\n",
    "    for sheet_name, df in data_dict_ids.items():\n",
    "        df.to_excel(writer, sheet_name=sheet_name, index=False)"
   ]
  },
  {
   "cell_type": "code",
   "execution_count": 48,
   "metadata": {},
   "outputs": [
    {
     "name": "stdout",
     "output_type": "stream",
     "text": [
      "27\n"
     ]
    }
   ],
   "source": [
    "print(len(unique_T_list))"
   ]
  },
  {
   "cell_type": "code",
   "execution_count": 49,
   "metadata": {},
   "outputs": [
    {
     "name": "stdout",
     "output_type": "stream",
     "text": [
      "Number of genes in intersection: 263\n"
     ]
    }
   ],
   "source": [
    "# Convert to pairs with values for T\n",
    "pairs = [(idx, col, val) for idx in granger_df_50_T.index for col, val in granger_df_50_T.abs().loc[idx].items()]\n",
    "\n",
    "# Sort by absolute value\n",
    "pairs.sort(key=lambda x: x[2], reverse=True)\n",
    "\n",
    "# Get top pairs until we have 300 unique indices\n",
    "seen_indices = set()\n",
    "top_pairs = []\n",
    "for idx, col, val in pairs:\n",
    "    if idx not in seen_indices:\n",
    "        seen_indices.add(idx)\n",
    "        top_pairs.append((idx, col, val))\n",
    "    if len(seen_indices) == 300:\n",
    "        break\n",
    "\n",
    "# Convert result to DataFrame for easier viewing\n",
    "result = pd.DataFrame(top_pairs, columns=['Index', 'Column', 'Value'])\n",
    "top_300_T = result['Index'].to_list()\n",
    "\n",
    "# Now do the same for A\n",
    "pairs = [(idx, col, val) for idx in granger_df_50_A.index for col, val in granger_df_50_A.abs().loc[idx].items()]\n",
    "\n",
    "pairs.sort(key=lambda x: x[2], reverse=True)\n",
    "\n",
    "seen_indices = set()\n",
    "top_pairs = []\n",
    "for idx, col, val in pairs:\n",
    "    if idx not in seen_indices:\n",
    "        seen_indices.add(idx)\n",
    "        top_pairs.append((idx, col, val))\n",
    "    if len(seen_indices) == 300:\n",
    "        break\n",
    "\n",
    "result_A = pd.DataFrame(top_pairs, columns=['Index', 'Column', 'Value'])\n",
    "top_300_A = result_A['Index'].to_list()\n",
    "\n",
    "# Find intersection between top 300 genes from T and A\n",
    "intersection = set(top_300_T) & set(top_300_A)\n",
    "print(f\"Number of genes in intersection: {len(intersection)}\")\n",
    "\n",
    "unique_T = set(top_300_T) - intersection\n",
    "unique_A = set(top_300_A) - intersection\n",
    "intersection_list = list(intersection)\n",
    "unique_T_list = list(unique_T)\n",
    "unique_A_list = list(unique_A)\n",
    "\n",
    "\n",
    "# Create a dictionary of dataframes for each list\n",
    "data_dict = {\n",
    "    'Unique_T': pd.DataFrame(unique_T_list, columns=['Gene']),\n",
    "    'Unique_A': pd.DataFrame(unique_A_list, columns=['Gene']), \n",
    "    'Intersection': pd.DataFrame(intersection_list, columns=['Gene']),\n",
    "    'Top_300_T': pd.DataFrame(top_300_T, columns=['Gene']),\n",
    "    'Top_300_A': pd.DataFrame(top_300_A, columns=['Gene'])\n",
    "}\n",
    "\n",
    "# Save to Excel with multiple sheets\n",
    "with pd.ExcelWriter('../results_final_Jan15/granger_causality_rankings_50_top300.xlsx') as writer:\n",
    "    for sheet_name, df in data_dict.items():\n",
    "        df.to_excel(writer, sheet_name=sheet_name, index=False)\n",
    "\n",
    "# Convert gene names to IDs\n",
    "data_dict_ids = {}\n",
    "for name, df in data_dict.items():\n",
    "    df_ids = df.copy()\n",
    "    df_ids['Gene'] = df_ids['Gene'].map(gene_name2id)\n",
    "    data_dict_ids[name] = df_ids\n",
    "\n",
    "# Save version with gene IDs to Excel\n",
    "with pd.ExcelWriter('../results_final_Jan15/granger_causality_rankings_50_top300_ids.xlsx') as writer:\n",
    "    for sheet_name, df in data_dict_ids.items():\n",
    "        df.to_excel(writer, sheet_name=sheet_name, index=False)"
   ]
  },
  {
   "cell_type": "code",
   "execution_count": 51,
   "metadata": {},
   "outputs": [
    {
     "name": "stdout",
     "output_type": "stream",
     "text": [
      "37\n"
     ]
    }
   ],
   "source": [
    "print(len(unique_T_list))"
   ]
  }
 ],
 "metadata": {
  "kernelspec": {
   "display_name": "mioflow",
   "language": "python",
   "name": "python3"
  },
  "language_info": {
   "codemirror_mode": {
    "name": "ipython",
    "version": 3
   },
   "file_extension": ".py",
   "mimetype": "text/x-python",
   "name": "python",
   "nbconvert_exporter": "python",
   "pygments_lexer": "ipython3",
   "version": "3.10.13"
  }
 },
 "nbformat": 4,
 "nbformat_minor": 2
}
