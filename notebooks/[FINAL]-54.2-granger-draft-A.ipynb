{
 "cells": [
  {
   "cell_type": "code",
   "execution_count": 1,
   "id": "fcf538ed",
   "metadata": {
    "execution": {
     "iopub.execute_input": "2025-02-06T00:59:51.309384Z",
     "iopub.status.busy": "2025-02-06T00:59:51.309070Z",
     "iopub.status.idle": "2025-02-06T01:00:03.676159Z",
     "shell.execute_reply": "2025-02-06T01:00:03.675599Z"
    },
    "papermill": {
     "duration": 12.400348,
     "end_time": "2025-02-06T01:00:03.677870",
     "exception": false,
     "start_time": "2025-02-06T00:59:51.277522",
     "status": "completed"
    },
    "tags": []
   },
   "outputs": [],
   "source": [
    "import pandas as pd\n",
    "import numpy as np\n",
    "import scanpy as sc\n",
    "import sys\n",
    "sys.path.append('../src')\n",
    "from granger import do_granger"
   ]
  },
  {
   "cell_type": "code",
   "execution_count": 2,
   "id": "6e8cfdcf",
   "metadata": {
    "execution": {
     "iopub.execute_input": "2025-02-06T01:00:03.735425Z",
     "iopub.status.busy": "2025-02-06T01:00:03.734963Z",
     "iopub.status.idle": "2025-02-06T01:00:06.450894Z",
     "shell.execute_reply": "2025-02-06T01:00:06.450115Z"
    },
    "papermill": {
     "duration": 2.748905,
     "end_time": "2025-02-06T01:00:06.452550",
     "exception": false,
     "start_time": "2025-02-06T01:00:03.703645",
     "status": "completed"
    },
    "tags": []
   },
   "outputs": [],
   "source": [
    "adata = sc.read_h5ad('../data/rna_figure_ready.h5ad')\n",
    "\n",
    "traj_gene_sp = np.load(f\"../results_final_Dec22/traj_gene_space_A_extreme.npy\", allow_pickle=True)"
   ]
  },
  {
   "cell_type": "code",
   "execution_count": 3,
   "id": "0d16702c",
   "metadata": {
    "execution": {
     "iopub.execute_input": "2025-02-06T01:00:06.515928Z",
     "iopub.status.busy": "2025-02-06T01:00:06.515435Z",
     "iopub.status.idle": "2025-02-06T01:00:07.198435Z",
     "shell.execute_reply": "2025-02-06T01:00:07.197792Z"
    },
    "papermill": {
     "duration": 0.715997,
     "end_time": "2025-02-06T01:00:07.200031",
     "exception": false,
     "start_time": "2025-02-06T01:00:06.484034",
     "status": "completed"
    },
    "tags": []
   },
   "outputs": [],
   "source": [
    "draft_matrix = pd.read_csv('../data/new_all_pval.csv', index_col=0)\n",
    "\n",
    "hvg = [c.strip('_y') for c in draft_matrix.columns]\n",
    "hv_tf = [c.strip('_x') for c in draft_matrix.index]"
   ]
  },
  {
   "cell_type": "code",
   "execution_count": 4,
   "id": "0156dd48",
   "metadata": {
    "execution": {
     "iopub.execute_input": "2025-02-06T01:00:07.267827Z",
     "iopub.status.busy": "2025-02-06T01:00:07.267321Z",
     "iopub.status.idle": "2025-02-06T01:00:10.033203Z",
     "shell.execute_reply": "2025-02-06T01:00:10.032439Z"
    },
    "papermill": {
     "duration": 2.805485,
     "end_time": "2025-02-06T01:00:10.034498",
     "exception": false,
     "start_time": "2025-02-06T01:00:07.229013",
     "status": "completed"
    },
    "tags": []
   },
   "outputs": [
    {
     "name": "stdout",
     "output_type": "stream",
     "text": [
      "Number of TFs in gene_names: 461\n",
      "Number of genes in gene_names: 5273\n"
     ]
    }
   ],
   "source": [
    "gene_all = list(set(hvg) | set(hv_tf))\n",
    "gene_all_mask = np.isin(adata.var_names, gene_all)\n",
    "traj_subset = traj_gene_sp[:, :, gene_all_mask]\n",
    "gene_names = adata.var_names[gene_all_mask]\n",
    "\n",
    "data = np.transpose(traj_subset, (1, 0, 2))\n",
    "valid_mask = (data.mean(axis=0).var(axis=0) != 0.0)\n",
    "data = data[:, :, valid_mask]\n",
    "gene_names = np.array(gene_names)[valid_mask]\n",
    "traj_df = pd.DataFrame(data.mean(axis=0), columns=gene_names)\n",
    "\n",
    "# Filter TFs and genes to only keep those present in gene_names\n",
    "hv_tf = [tf for tf in hv_tf if tf in gene_names]\n",
    "hvg = [g for g in hvg if g in gene_names]\n",
    "\n",
    "print(f\"Number of TFs in gene_names: {len(hv_tf)}\")\n",
    "print(f\"Number of genes in gene_names: {len(hvg)}\")\n"
   ]
  },
  {
   "cell_type": "code",
   "execution_count": 5,
   "id": "a4296c8e",
   "metadata": {
    "execution": {
     "iopub.execute_input": "2025-02-06T01:00:10.107679Z",
     "iopub.status.busy": "2025-02-06T01:00:10.107273Z",
     "iopub.status.idle": "2025-02-06T01:23:59.718176Z",
     "shell.execute_reply": "2025-02-06T01:23:59.717439Z"
    },
    "papermill": {
     "duration": 1429.645022,
     "end_time": "2025-02-06T01:23:59.719648",
     "exception": false,
     "start_time": "2025-02-06T01:00:10.074626",
     "status": "completed"
    },
    "tags": []
   },
   "outputs": [
    {
     "name": "stderr",
     "output_type": "stream",
     "text": [
      "\r",
      "Processing columns:   0%|          | 0/5273 [00:00<?, ?it/s]"
     ]
    },
    {
     "name": "stderr",
     "output_type": "stream",
     "text": [
      "\r",
      "Processing columns:   0%|          | 1/5273 [00:03<5:44:08,  3.92s/it]"
     ]
    },
    {
     "name": "stderr",
     "output_type": "stream",
     "text": [
      "\r",
      "Processing columns:   0%|          | 2/5273 [00:04<2:33:40,  1.75s/it]"
     ]
    },
    {
     "name": "stderr",
     "output_type": "stream",
     "text": [
      "\r",
      "Processing columns:   0%|          | 3/5273 [00:04<1:35:17,  1.08s/it]"
     ]
    },
    {
     "name": "stderr",
     "output_type": "stream",
     "text": [
      "\r",
      "Processing columns:   0%|          | 4/5273 [00:04<1:15:27,  1.16it/s]"
     ]
    },
    {
     "name": "stderr",
     "output_type": "stream",
     "text": [
      "\r",
      "Processing columns:   0%|          | 5/5273 [00:05<55:42,  1.58it/s]  "
     ]
    },
    {
     "name": "stderr",
     "output_type": "stream",
     "text": [
      "\r",
      "Processing columns:   0%|          | 6/5273 [00:05<43:31,  2.02it/s]"
     ]
    },
    {
     "name": "stderr",
     "output_type": "stream",
     "text": [
      "\r",
      "Processing columns:   0%|          | 7/5273 [00:05<36:36,  2.40it/s]"
     ]
    },
    {
     "name": "stderr",
     "output_type": "stream",
     "text": [
      "\r",
      "Processing columns:   0%|          | 8/5273 [00:05<31:01,  2.83it/s]"
     ]
    },
    {
     "name": "stderr",
     "output_type": "stream",
     "text": [
      "\r",
      "Processing columns:   0%|          | 9/5273 [00:06<27:26,  3.20it/s]"
     ]
    },
    {
     "name": "stderr",
     "output_type": "stream",
     "text": [
      "\r",
      "Processing columns:   0%|          | 10/5273 [00:06<24:22,  3.60it/s]"
     ]
    },
    {
     "name": "stderr",
     "output_type": "stream",
     "text": [
      "\r",
      "Processing columns:   0%|          | 11/5273 [00:06<25:44,  3.41it/s]"
     ]
    },
    {
     "name": "stderr",
     "output_type": "stream",
     "text": [
      "\r",
      "Processing columns:   0%|          | 12/5273 [00:06<24:32,  3.57it/s]"
     ]
    },
    {
     "name": "stderr",
     "output_type": "stream",
     "text": [
      "\r",
      "Processing columns:   0%|          | 13/5273 [00:07<23:48,  3.68it/s]"
     ]
    },
    {
     "name": "stderr",
     "output_type": "stream",
     "text": [
      "\r",
      "Processing columns:   0%|          | 14/5273 [00:07<25:05,  3.49it/s]"
     ]
    },
    {
     "name": "stderr",
     "output_type": "stream",
     "text": [
      "\r",
      "Processing columns:   0%|          | 15/5273 [00:07<24:44,  3.54it/s]"
     ]
    },
    {
     "name": "stderr",
     "output_type": "stream",
     "text": [
      "\r",
      "Processing columns:   0%|          | 16/5273 [00:08<24:12,  3.62it/s]"
     ]
    },
    {
     "name": "stderr",
     "output_type": "stream",
     "text": [
      "\r",
      "Processing columns:   0%|          | 17/5273 [00:08<27:59,  3.13it/s]"
     ]
    },
    {
     "name": "stderr",
     "output_type": "stream",
     "text": [
      "\r",
      "Processing columns:   0%|          | 18/5273 [00:08<26:11,  3.34it/s]"
     ]
    },
    {
     "name": "stderr",
     "output_type": "stream",
     "text": [
      "\r",
      "Processing columns:   0%|          | 19/5273 [00:08<26:26,  3.31it/s]"
     ]
    },
    {
     "name": "stderr",
     "output_type": "stream",
     "text": [
      "\r",
      "Processing columns:   0%|          | 20/5273 [00:09<23:30,  3.72it/s]"
     ]
    },
    {
     "name": "stderr",
     "output_type": "stream",
     "text": [
      "\r",
      "Processing columns:   0%|          | 21/5273 [00:09<23:48,  3.68it/s]"
     ]
    },
    {
     "name": "stderr",
     "output_type": "stream",
     "text": [
      "\r",
      "Processing columns:   0%|          | 22/5273 [00:09<22:41,  3.86it/s]"
     ]
    },
    {
     "name": "stderr",
     "output_type": "stream",
     "text": [
      "\r",
      "Processing columns:   0%|          | 23/5273 [00:09<22:28,  3.89it/s]"
     ]
    },
    {
     "name": "stderr",
     "output_type": "stream",
     "text": [
      "\r",
      "Processing columns:   0%|          | 24/5273 [00:10<22:47,  3.84it/s]"
     ]
    },
    {
     "name": "stderr",
     "output_type": "stream",
     "text": [
      "\r",
      "Processing columns:   0%|          | 25/5273 [00:10<21:21,  4.09it/s]"
     ]
    },
    {
     "name": "stderr",
     "output_type": "stream",
     "text": [
      "\r",
      "Processing columns:   0%|          | 26/5273 [00:10<22:11,  3.94it/s]"
     ]
    },
    {
     "name": "stderr",
     "output_type": "stream",
     "text": [
      "\r",
      "Processing columns:   1%|          | 27/5273 [00:10<22:04,  3.96it/s]"
     ]
    },
    {
     "name": "stderr",
     "output_type": "stream",
     "text": [
      "\r",
      "Processing columns:   1%|          | 28/5273 [00:11<21:02,  4.15it/s]"
     ]
    },
    {
     "name": "stderr",
     "output_type": "stream",
     "text": [
      "\r",
      "Processing columns:   1%|          | 29/5273 [00:11<22:20,  3.91it/s]"
     ]
    },
    {
     "name": "stderr",
     "output_type": "stream",
     "text": [
      "\r",
      "Processing columns:   1%|          | 30/5273 [00:11<27:44,  3.15it/s]"
     ]
    },
    {
     "name": "stderr",
     "output_type": "stream",
     "text": [
      "\r",
      "Processing columns:   1%|          | 31/5273 [00:12<25:14,  3.46it/s]"
     ]
    },
    {
     "name": "stderr",
     "output_type": "stream",
     "text": [
      "\r",
      "Processing columns:   1%|          | 32/5273 [00:12<24:17,  3.59it/s]"
     ]
    },
    {
     "name": "stderr",
     "output_type": "stream",
     "text": [
      "\r",
      "Processing columns:   1%|          | 33/5273 [00:12<25:47,  3.39it/s]"
     ]
    },
    {
     "name": "stderr",
     "output_type": "stream",
     "text": [
      "\r",
      "Processing columns:   1%|          | 34/5273 [00:12<24:34,  3.55it/s]"
     ]
    },
    {
     "name": "stderr",
     "output_type": "stream",
     "text": [
      "\r",
      "Processing columns:   1%|          | 35/5273 [00:13<24:12,  3.61it/s]"
     ]
    },
    {
     "name": "stderr",
     "output_type": "stream",
     "text": [
      "\r",
      "Processing columns:   1%|          | 36/5273 [00:13<23:16,  3.75it/s]"
     ]
    },
    {
     "name": "stderr",
     "output_type": "stream",
     "text": [
      "\r",
      "Processing columns:   1%|          | 37/5273 [00:13<21:47,  4.01it/s]"
     ]
    },
    {
     "name": "stderr",
     "output_type": "stream",
     "text": [
      "\r",
      "Processing columns:   1%|          | 38/5273 [00:13<21:27,  4.07it/s]"
     ]
    },
    {
     "name": "stderr",
     "output_type": "stream",
     "text": [
      "\r",
      "Processing columns:   1%|          | 39/5273 [00:14<22:41,  3.84it/s]"
     ]
    },
    {
     "name": "stderr",
     "output_type": "stream",
     "text": [
      "\r",
      "Processing columns:   1%|          | 40/5273 [00:14<22:29,  3.88it/s]"
     ]
    },
    {
     "name": "stderr",
     "output_type": "stream",
     "text": [
      "\r",
      "Processing columns:   1%|          | 41/5273 [00:14<22:20,  3.90it/s]"
     ]
    },
    {
     "name": "stderr",
     "output_type": "stream",
     "text": [
      "\r",
      "Processing columns:   1%|          | 42/5273 [00:14<21:34,  4.04it/s]"
     ]
    },
    {
     "name": "stderr",
     "output_type": "stream",
     "text": [
      "\r",
      "Processing columns:   1%|          | 43/5273 [00:15<21:21,  4.08it/s]"
     ]
    },
    {
     "name": "stderr",
     "output_type": "stream",
     "text": [
      "\r",
      "Processing columns:   1%|          | 44/5273 [00:15<25:17,  3.45it/s]"
     ]
    },
    {
     "name": "stderr",
     "output_type": "stream",
     "text": [
      "\r",
      "Processing columns:   1%|          | 45/5273 [00:15<23:52,  3.65it/s]"
     ]
    },
    {
     "name": "stderr",
     "output_type": "stream",
     "text": [
      "\r",
      "Processing columns:   1%|          | 46/5273 [00:16<23:23,  3.73it/s]"
     ]
    },
    {
     "name": "stderr",
     "output_type": "stream",
     "text": [
      "\r",
      "Processing columns:   1%|          | 47/5273 [00:16<22:54,  3.80it/s]"
     ]
    },
    {
     "name": "stderr",
     "output_type": "stream",
     "text": [
      "\r",
      "Processing columns:   1%|          | 48/5273 [00:16<23:39,  3.68it/s]"
     ]
    },
    {
     "name": "stderr",
     "output_type": "stream",
     "text": [
      "\r",
      "Processing columns:   1%|          | 49/5273 [00:16<22:28,  3.87it/s]"
     ]
    },
    {
     "name": "stderr",
     "output_type": "stream",
     "text": [
      "\r",
      "Processing columns:   1%|          | 50/5273 [00:17<21:08,  4.12it/s]"
     ]
    },
    {
     "name": "stderr",
     "output_type": "stream",
     "text": [
      "\r",
      "Processing columns:   1%|          | 51/5273 [00:17<22:07,  3.93it/s]"
     ]
    },
    {
     "name": "stderr",
     "output_type": "stream",
     "text": [
      "\r",
      "Processing columns:   1%|          | 52/5273 [00:17<21:24,  4.06it/s]"
     ]
    },
    {
     "name": "stderr",
     "output_type": "stream",
     "text": [
      "\r",
      "Processing columns:   1%|          | 53/5273 [00:17<21:40,  4.01it/s]"
     ]
    },
    {
     "name": "stderr",
     "output_type": "stream",
     "text": [
      "\r",
      "Processing columns:   1%|          | 54/5273 [00:18<20:45,  4.19it/s]"
     ]
    },
    {
     "name": "stderr",
     "output_type": "stream",
     "text": [
      "\r",
      "Processing columns:   1%|          | 55/5273 [00:18<20:17,  4.29it/s]"
     ]
    },
    {
     "name": "stderr",
     "output_type": "stream",
     "text": [
      "\r",
      "Processing columns:   1%|          | 56/5273 [00:18<21:03,  4.13it/s]"
     ]
    },
    {
     "name": "stderr",
     "output_type": "stream",
     "text": [
      "\r",
      "Processing columns:   1%|          | 57/5273 [00:19<27:40,  3.14it/s]"
     ]
    },
    {
     "name": "stderr",
     "output_type": "stream",
     "text": [
      "\r",
      "Processing columns:   1%|          | 58/5273 [00:19<25:32,  3.40it/s]"
     ]
    },
    {
     "name": "stderr",
     "output_type": "stream",
     "text": [
      "\r",
      "Processing columns:   1%|          | 59/5273 [00:19<23:48,  3.65it/s]"
     ]
    },
    {
     "name": "stderr",
     "output_type": "stream",
     "text": [
      "\r",
      "Processing columns:   1%|          | 60/5273 [00:19<22:14,  3.91it/s]"
     ]
    },
    {
     "name": "stderr",
     "output_type": "stream",
     "text": [
      "\r",
      "Processing columns:   1%|          | 61/5273 [00:19<21:30,  4.04it/s]"
     ]
    },
    {
     "name": "stderr",
     "output_type": "stream",
     "text": [
      "\r",
      "Processing columns:   1%|          | 62/5273 [00:20<21:59,  3.95it/s]"
     ]
    },
    {
     "name": "stderr",
     "output_type": "stream",
     "text": [
      "\r",
      "Processing columns:   1%|          | 63/5273 [00:20<22:12,  3.91it/s]"
     ]
    },
    {
     "name": "stderr",
     "output_type": "stream",
     "text": [
      "\r",
      "Processing columns:   1%|          | 64/5273 [00:20<21:56,  3.96it/s]"
     ]
    },
    {
     "name": "stderr",
     "output_type": "stream",
     "text": [
      "\r",
      "Processing columns:   1%|          | 65/5273 [00:20<21:34,  4.02it/s]"
     ]
    },
    {
     "name": "stderr",
     "output_type": "stream",
     "text": [
      "\r",
      "Processing columns:   1%|▏         | 66/5273 [00:21<20:58,  4.14it/s]"
     ]
    },
    {
     "name": "stderr",
     "output_type": "stream",
     "text": [
      "\r",
      "Processing columns:   1%|▏         | 67/5273 [00:21<20:29,  4.23it/s]"
     ]
    },
    {
     "name": "stderr",
     "output_type": "stream",
     "text": [
      "\r",
      "Processing columns:   1%|▏         | 68/5273 [00:21<22:14,  3.90it/s]"
     ]
    },
    {
     "name": "stderr",
     "output_type": "stream",
     "text": [
      "\r",
      "Processing columns:   1%|▏         | 69/5273 [00:21<21:35,  4.02it/s]"
     ]
    },
    {
     "name": "stderr",
     "output_type": "stream",
     "text": [
      "\r",
      "Processing columns:   1%|▏         | 70/5273 [00:22<26:26,  3.28it/s]"
     ]
    },
    {
     "name": "stderr",
     "output_type": "stream",
     "text": [
      "\r",
      "Processing columns:   1%|▏         | 71/5273 [00:22<25:44,  3.37it/s]"
     ]
    },
    {
     "name": "stderr",
     "output_type": "stream",
     "text": [
      "\r",
      "Processing columns:   1%|▏         | 72/5273 [00:22<24:15,  3.57it/s]"
     ]
    },
    {
     "name": "stderr",
     "output_type": "stream",
     "text": [
      "\r",
      "Processing columns:   1%|▏         | 73/5273 [00:23<22:44,  3.81it/s]"
     ]
    },
    {
     "name": "stderr",
     "output_type": "stream",
     "text": [
      "\r",
      "Processing columns:   1%|▏         | 74/5273 [00:23<22:11,  3.90it/s]"
     ]
    },
    {
     "name": "stderr",
     "output_type": "stream",
     "text": [
      "\r",
      "Processing columns:   1%|▏         | 75/5273 [00:23<21:40,  4.00it/s]"
     ]
    },
    {
     "name": "stderr",
     "output_type": "stream",
     "text": [
      "\r",
      "Processing columns:   1%|▏         | 76/5273 [00:23<22:04,  3.92it/s]"
     ]
    },
    {
     "name": "stderr",
     "output_type": "stream",
     "text": [
      "\r",
      "Processing columns:   1%|▏         | 77/5273 [00:24<20:58,  4.13it/s]"
     ]
    },
    {
     "name": "stderr",
     "output_type": "stream",
     "text": [
      "\r",
      "Processing columns:   1%|▏         | 78/5273 [00:24<21:57,  3.94it/s]"
     ]
    },
    {
     "name": "stderr",
     "output_type": "stream",
     "text": [
      "\r",
      "Processing columns:   1%|▏         | 79/5273 [00:24<21:39,  4.00it/s]"
     ]
    },
    {
     "name": "stderr",
     "output_type": "stream",
     "text": [
      "\r",
      "Processing columns:   2%|▏         | 80/5273 [00:24<21:43,  3.98it/s]"
     ]
    },
    {
     "name": "stderr",
     "output_type": "stream",
     "text": [
      "\r",
      "Processing columns:   2%|▏         | 81/5273 [00:25<21:46,  3.97it/s]"
     ]
    },
    {
     "name": "stderr",
     "output_type": "stream",
     "text": [
      "\r",
      "Processing columns:   2%|▏         | 82/5273 [00:25<21:07,  4.10it/s]"
     ]
    },
    {
     "name": "stderr",
     "output_type": "stream",
     "text": [
      "\r",
      "Processing columns:   2%|▏         | 83/5273 [00:25<26:49,  3.22it/s]"
     ]
    },
    {
     "name": "stderr",
     "output_type": "stream",
     "text": [
      "\r",
      "Processing columns:   2%|▏         | 84/5273 [00:25<24:56,  3.47it/s]"
     ]
    },
    {
     "name": "stderr",
     "output_type": "stream",
     "text": [
      "\r",
      "Processing columns:   2%|▏         | 85/5273 [00:26<24:16,  3.56it/s]"
     ]
    },
    {
     "name": "stderr",
     "output_type": "stream",
     "text": [
      "\r",
      "Processing columns:   2%|▏         | 86/5273 [00:26<23:06,  3.74it/s]"
     ]
    },
    {
     "name": "stderr",
     "output_type": "stream",
     "text": [
      "\r",
      "Processing columns:   2%|▏         | 87/5273 [00:26<22:36,  3.82it/s]"
     ]
    },
    {
     "name": "stderr",
     "output_type": "stream",
     "text": [
      "\r",
      "Processing columns:   2%|▏         | 88/5273 [00:26<22:22,  3.86it/s]"
     ]
    },
    {
     "name": "stderr",
     "output_type": "stream",
     "text": [
      "\r",
      "Processing columns:   2%|▏         | 89/5273 [00:27<21:55,  3.94it/s]"
     ]
    },
    {
     "name": "stderr",
     "output_type": "stream",
     "text": [
      "\r",
      "Processing columns:   2%|▏         | 90/5273 [00:27<21:44,  3.97it/s]"
     ]
    },
    {
     "name": "stderr",
     "output_type": "stream",
     "text": [
      "\r",
      "Processing columns:   2%|▏         | 91/5273 [00:27<21:30,  4.02it/s]"
     ]
    },
    {
     "name": "stderr",
     "output_type": "stream",
     "text": [
      "\r",
      "Processing columns:   2%|▏         | 92/5273 [00:27<20:36,  4.19it/s]"
     ]
    },
    {
     "name": "stderr",
     "output_type": "stream",
     "text": [
      "\r",
      "Processing columns:   2%|▏         | 93/5273 [00:28<21:10,  4.08it/s]"
     ]
    },
    {
     "name": "stderr",
     "output_type": "stream",
     "text": [
      "\r",
      "Processing columns:   2%|▏         | 94/5273 [00:28<20:17,  4.25it/s]"
     ]
    },
    {
     "name": "stderr",
     "output_type": "stream",
     "text": [
      "\r",
      "Processing columns:   2%|▏         | 95/5273 [00:28<21:10,  4.07it/s]"
     ]
    },
    {
     "name": "stderr",
     "output_type": "stream",
     "text": [
      "\r",
      "Processing columns:   2%|▏         | 96/5273 [00:29<25:45,  3.35it/s]"
     ]
    },
    {
     "name": "stderr",
     "output_type": "stream",
     "text": [
      "\r",
      "Processing columns:   2%|▏         | 97/5273 [00:29<24:59,  3.45it/s]"
     ]
    },
    {
     "name": "stderr",
     "output_type": "stream",
     "text": [
      "\r",
      "Processing columns:   2%|▏         | 98/5273 [00:29<23:22,  3.69it/s]"
     ]
    },
    {
     "name": "stderr",
     "output_type": "stream",
     "text": [
      "\r",
      "Processing columns:   2%|▏         | 99/5273 [00:29<22:49,  3.78it/s]"
     ]
    },
    {
     "name": "stderr",
     "output_type": "stream",
     "text": [
      "\r",
      "Processing columns:   2%|▏         | 100/5273 [00:30<24:17,  3.55it/s]"
     ]
    },
    {
     "name": "stderr",
     "output_type": "stream",
     "text": [
      "\r",
      "Processing columns:   2%|▏         | 101/5273 [00:30<24:07,  3.57it/s]"
     ]
    },
    {
     "name": "stderr",
     "output_type": "stream",
     "text": [
      "\r",
      "Processing columns:   2%|▏         | 102/5273 [00:30<22:38,  3.81it/s]"
     ]
    },
    {
     "name": "stderr",
     "output_type": "stream",
     "text": [
      "\r",
      "Processing columns:   2%|▏         | 103/5273 [00:30<21:56,  3.93it/s]"
     ]
    },
    {
     "name": "stderr",
     "output_type": "stream",
     "text": [
      "\r",
      "Processing columns:   2%|▏         | 104/5273 [00:31<22:11,  3.88it/s]"
     ]
    },
    {
     "name": "stderr",
     "output_type": "stream",
     "text": [
      "\r",
      "Processing columns:   2%|▏         | 105/5273 [00:31<22:10,  3.88it/s]"
     ]
    },
    {
     "name": "stderr",
     "output_type": "stream",
     "text": [
      "\r",
      "Processing columns:   2%|▏         | 106/5273 [00:31<22:13,  3.87it/s]"
     ]
    },
    {
     "name": "stderr",
     "output_type": "stream",
     "text": [
      "\r",
      "Processing columns:   2%|▏         | 107/5273 [00:31<22:11,  3.88it/s]"
     ]
    },
    {
     "name": "stderr",
     "output_type": "stream",
     "text": [
      "\r",
      "Processing columns:   2%|▏         | 108/5273 [00:32<22:34,  3.81it/s]"
     ]
    },
    {
     "name": "stderr",
     "output_type": "stream",
     "text": [
      "\r",
      "Processing columns:   2%|▏         | 109/5273 [00:32<28:46,  2.99it/s]"
     ]
    },
    {
     "name": "stderr",
     "output_type": "stream",
     "text": [
      "\r",
      "Processing columns:   2%|▏         | 110/5273 [00:32<27:06,  3.17it/s]"
     ]
    },
    {
     "name": "stderr",
     "output_type": "stream",
     "text": [
      "\r",
      "Processing columns:   2%|▏         | 111/5273 [00:33<24:34,  3.50it/s]"
     ]
    },
    {
     "name": "stderr",
     "output_type": "stream",
     "text": [
      "\r",
      "Processing columns:   2%|▏         | 112/5273 [00:33<24:20,  3.53it/s]"
     ]
    },
    {
     "name": "stderr",
     "output_type": "stream",
     "text": [
      "\r",
      "Processing columns:   2%|▏         | 113/5273 [00:33<22:46,  3.78it/s]"
     ]
    },
    {
     "name": "stderr",
     "output_type": "stream",
     "text": [
      "\r",
      "Processing columns:   2%|▏         | 114/5273 [00:33<21:43,  3.96it/s]"
     ]
    },
    {
     "name": "stderr",
     "output_type": "stream",
     "text": [
      "\r",
      "Processing columns:   2%|▏         | 115/5273 [00:34<21:46,  3.95it/s]"
     ]
    },
    {
     "name": "stderr",
     "output_type": "stream",
     "text": [
      "\r",
      "Processing columns:   2%|▏         | 116/5273 [00:34<21:23,  4.02it/s]"
     ]
    },
    {
     "name": "stderr",
     "output_type": "stream",
     "text": [
      "\r",
      "Processing columns:   2%|▏         | 117/5273 [00:34<22:47,  3.77it/s]"
     ]
    },
    {
     "name": "stderr",
     "output_type": "stream",
     "text": [
      "\r",
      "Processing columns:   2%|▏         | 118/5273 [00:35<23:08,  3.71it/s]"
     ]
    },
    {
     "name": "stderr",
     "output_type": "stream",
     "text": [
      "\r",
      "Processing columns:   2%|▏         | 119/5273 [00:35<21:28,  4.00it/s]"
     ]
    },
    {
     "name": "stderr",
     "output_type": "stream",
     "text": [
      "\r",
      "Processing columns:   2%|▏         | 120/5273 [00:35<20:54,  4.11it/s]"
     ]
    },
    {
     "name": "stderr",
     "output_type": "stream",
     "text": [
      "\r",
      "Processing columns:   2%|▏         | 121/5273 [00:35<20:08,  4.26it/s]"
     ]
    },
    {
     "name": "stderr",
     "output_type": "stream",
     "text": [
      "\r",
      "Processing columns:   2%|▏         | 122/5273 [00:35<22:03,  3.89it/s]"
     ]
    },
    {
     "name": "stderr",
     "output_type": "stream",
     "text": [
      "\r",
      "Processing columns:   2%|▏         | 123/5273 [00:36<28:40,  2.99it/s]"
     ]
    },
    {
     "name": "stderr",
     "output_type": "stream",
     "text": [
      "\r",
      "Processing columns:   2%|▏         | 124/5273 [00:36<26:02,  3.30it/s]"
     ]
    },
    {
     "name": "stderr",
     "output_type": "stream",
     "text": [
      "\r",
      "Processing columns:   2%|▏         | 125/5273 [00:36<24:51,  3.45it/s]"
     ]
    },
    {
     "name": "stderr",
     "output_type": "stream",
     "text": [
      "\r",
      "Processing columns:   2%|▏         | 126/5273 [00:37<25:08,  3.41it/s]"
     ]
    },
    {
     "name": "stderr",
     "output_type": "stream",
     "text": [
      "\r",
      "Processing columns:   2%|▏         | 127/5273 [00:37<23:47,  3.61it/s]"
     ]
    },
    {
     "name": "stderr",
     "output_type": "stream",
     "text": [
      "\r",
      "Processing columns:   2%|▏         | 128/5273 [00:37<22:31,  3.81it/s]"
     ]
    },
    {
     "name": "stderr",
     "output_type": "stream",
     "text": [
      "\r",
      "Processing columns:   2%|▏         | 129/5273 [00:37<22:27,  3.82it/s]"
     ]
    },
    {
     "name": "stderr",
     "output_type": "stream",
     "text": [
      "\r",
      "Processing columns:   2%|▏         | 130/5273 [00:38<21:43,  3.95it/s]"
     ]
    },
    {
     "name": "stderr",
     "output_type": "stream",
     "text": [
      "\r",
      "Processing columns:   2%|▏         | 131/5273 [00:38<21:49,  3.93it/s]"
     ]
    },
    {
     "name": "stderr",
     "output_type": "stream",
     "text": [
      "\r",
      "Processing columns:   3%|▎         | 132/5273 [00:38<21:03,  4.07it/s]"
     ]
    },
    {
     "name": "stderr",
     "output_type": "stream",
     "text": [
      "\r",
      "Processing columns:   3%|▎         | 133/5273 [00:38<20:27,  4.19it/s]"
     ]
    },
    {
     "name": "stderr",
     "output_type": "stream",
     "text": [
      "\r",
      "Processing columns:   3%|▎         | 134/5273 [00:39<20:24,  4.20it/s]"
     ]
    },
    {
     "name": "stderr",
     "output_type": "stream",
     "text": [
      "\r",
      "Processing columns:   3%|▎         | 135/5273 [00:39<20:27,  4.19it/s]"
     ]
    },
    {
     "name": "stderr",
     "output_type": "stream",
     "text": [
      "\r",
      "Processing columns:   3%|▎         | 136/5273 [00:39<27:34,  3.10it/s]"
     ]
    },
    {
     "name": "stderr",
     "output_type": "stream",
     "text": [
      "\r",
      "Processing columns:   3%|▎         | 137/5273 [00:40<26:00,  3.29it/s]"
     ]
    },
    {
     "name": "stderr",
     "output_type": "stream",
     "text": [
      "\r",
      "Processing columns:   3%|▎         | 138/5273 [00:40<24:38,  3.47it/s]"
     ]
    },
    {
     "name": "stderr",
     "output_type": "stream",
     "text": [
      "\r",
      "Processing columns:   3%|▎         | 139/5273 [00:40<23:45,  3.60it/s]"
     ]
    },
    {
     "name": "stderr",
     "output_type": "stream",
     "text": [
      "\r",
      "Processing columns:   3%|▎         | 140/5273 [00:40<23:19,  3.67it/s]"
     ]
    },
    {
     "name": "stderr",
     "output_type": "stream",
     "text": [
      "\r",
      "Processing columns:   3%|▎         | 141/5273 [00:41<21:23,  4.00it/s]"
     ]
    },
    {
     "name": "stderr",
     "output_type": "stream",
     "text": [
      "\r",
      "Processing columns:   3%|▎         | 142/5273 [00:41<20:46,  4.12it/s]"
     ]
    },
    {
     "name": "stderr",
     "output_type": "stream",
     "text": [
      "\r",
      "Processing columns:   3%|▎         | 143/5273 [00:41<22:53,  3.74it/s]"
     ]
    },
    {
     "name": "stderr",
     "output_type": "stream",
     "text": [
      "\r",
      "Processing columns:   3%|▎         | 144/5273 [00:41<23:37,  3.62it/s]"
     ]
    },
    {
     "name": "stderr",
     "output_type": "stream",
     "text": [
      "\r",
      "Processing columns:   3%|▎         | 145/5273 [00:42<21:56,  3.90it/s]"
     ]
    },
    {
     "name": "stderr",
     "output_type": "stream",
     "text": [
      "\r",
      "Processing columns:   3%|▎         | 146/5273 [00:42<21:40,  3.94it/s]"
     ]
    },
    {
     "name": "stderr",
     "output_type": "stream",
     "text": [
      "\r",
      "Processing columns:   3%|▎         | 147/5273 [00:42<21:21,  4.00it/s]"
     ]
    },
    {
     "name": "stderr",
     "output_type": "stream",
     "text": [
      "\r",
      "Processing columns:   3%|▎         | 148/5273 [00:43<22:47,  3.75it/s]"
     ]
    },
    {
     "name": "stderr",
     "output_type": "stream",
     "text": [
      "\r",
      "Processing columns:   3%|▎         | 149/5273 [00:43<27:30,  3.10it/s]"
     ]
    },
    {
     "name": "stderr",
     "output_type": "stream",
     "text": [
      "\r",
      "Processing columns:   3%|▎         | 150/5273 [00:43<26:14,  3.25it/s]"
     ]
    },
    {
     "name": "stderr",
     "output_type": "stream",
     "text": [
      "\r",
      "Processing columns:   3%|▎         | 151/5273 [00:43<24:38,  3.46it/s]"
     ]
    },
    {
     "name": "stderr",
     "output_type": "stream",
     "text": [
      "\r",
      "Processing columns:   3%|▎         | 152/5273 [00:44<22:51,  3.73it/s]"
     ]
    },
    {
     "name": "stderr",
     "output_type": "stream",
     "text": [
      "\r",
      "Processing columns:   3%|▎         | 153/5273 [00:44<22:34,  3.78it/s]"
     ]
    },
    {
     "name": "stderr",
     "output_type": "stream",
     "text": [
      "\r",
      "Processing columns:   3%|▎         | 154/5273 [00:44<22:57,  3.72it/s]"
     ]
    },
    {
     "name": "stderr",
     "output_type": "stream",
     "text": [
      "\r",
      "Processing columns:   3%|▎         | 155/5273 [00:45<23:16,  3.67it/s]"
     ]
    },
    {
     "name": "stderr",
     "output_type": "stream",
     "text": [
      "\r",
      "Processing columns:   3%|▎         | 156/5273 [00:45<21:33,  3.96it/s]"
     ]
    },
    {
     "name": "stderr",
     "output_type": "stream",
     "text": [
      "\r",
      "Processing columns:   3%|▎         | 157/5273 [00:45<20:52,  4.08it/s]"
     ]
    },
    {
     "name": "stderr",
     "output_type": "stream",
     "text": [
      "\r",
      "Processing columns:   3%|▎         | 158/5273 [00:45<20:33,  4.15it/s]"
     ]
    },
    {
     "name": "stderr",
     "output_type": "stream",
     "text": [
      "\r",
      "Processing columns:   3%|▎         | 159/5273 [00:46<23:52,  3.57it/s]"
     ]
    },
    {
     "name": "stderr",
     "output_type": "stream",
     "text": [
      "\r",
      "Processing columns:   3%|▎         | 160/5273 [00:46<22:23,  3.81it/s]"
     ]
    },
    {
     "name": "stderr",
     "output_type": "stream",
     "text": [
      "\r",
      "Processing columns:   3%|▎         | 161/5273 [00:46<21:49,  3.90it/s]"
     ]
    },
    {
     "name": "stderr",
     "output_type": "stream",
     "text": [
      "\r",
      "Processing columns:   3%|▎         | 162/5273 [00:46<26:02,  3.27it/s]"
     ]
    },
    {
     "name": "stderr",
     "output_type": "stream",
     "text": [
      "\r",
      "Processing columns:   3%|▎         | 163/5273 [00:47<24:16,  3.51it/s]"
     ]
    },
    {
     "name": "stderr",
     "output_type": "stream",
     "text": [
      "\r",
      "Processing columns:   3%|▎         | 164/5273 [00:47<22:45,  3.74it/s]"
     ]
    },
    {
     "name": "stderr",
     "output_type": "stream",
     "text": [
      "\r",
      "Processing columns:   3%|▎         | 165/5273 [00:47<23:13,  3.67it/s]"
     ]
    },
    {
     "name": "stderr",
     "output_type": "stream",
     "text": [
      "\r",
      "Processing columns:   3%|▎         | 166/5273 [00:47<22:17,  3.82it/s]"
     ]
    },
    {
     "name": "stderr",
     "output_type": "stream",
     "text": [
      "\r",
      "Processing columns:   3%|▎         | 167/5273 [00:48<22:36,  3.77it/s]"
     ]
    },
    {
     "name": "stderr",
     "output_type": "stream",
     "text": [
      "\r",
      "Processing columns:   3%|▎         | 168/5273 [00:48<21:32,  3.95it/s]"
     ]
    },
    {
     "name": "stderr",
     "output_type": "stream",
     "text": [
      "\r",
      "Processing columns:   3%|▎         | 169/5273 [00:48<21:21,  3.98it/s]"
     ]
    },
    {
     "name": "stderr",
     "output_type": "stream",
     "text": [
      "\r",
      "Processing columns:   3%|▎         | 170/5273 [00:48<22:40,  3.75it/s]"
     ]
    },
    {
     "name": "stderr",
     "output_type": "stream",
     "text": [
      "\r",
      "Processing columns:   3%|▎         | 171/5273 [00:49<22:12,  3.83it/s]"
     ]
    },
    {
     "name": "stderr",
     "output_type": "stream",
     "text": [
      "\r",
      "Processing columns:   3%|▎         | 172/5273 [00:49<22:26,  3.79it/s]"
     ]
    },
    {
     "name": "stderr",
     "output_type": "stream",
     "text": [
      "\r",
      "Processing columns:   3%|▎         | 173/5273 [00:49<21:11,  4.01it/s]"
     ]
    },
    {
     "name": "stderr",
     "output_type": "stream",
     "text": [
      "\r",
      "Processing columns:   3%|▎         | 174/5273 [00:49<22:26,  3.79it/s]"
     ]
    },
    {
     "name": "stderr",
     "output_type": "stream",
     "text": [
      "\r",
      "Processing columns:   3%|▎         | 175/5273 [00:50<25:36,  3.32it/s]"
     ]
    },
    {
     "name": "stderr",
     "output_type": "stream",
     "text": [
      "\r",
      "Processing columns:   3%|▎         | 176/5273 [00:50<23:50,  3.56it/s]"
     ]
    },
    {
     "name": "stderr",
     "output_type": "stream",
     "text": [
      "\r",
      "Processing columns:   3%|▎         | 177/5273 [00:50<22:38,  3.75it/s]"
     ]
    },
    {
     "name": "stderr",
     "output_type": "stream",
     "text": [
      "\r",
      "Processing columns:   3%|▎         | 178/5273 [00:51<22:43,  3.74it/s]"
     ]
    },
    {
     "name": "stderr",
     "output_type": "stream",
     "text": [
      "\r",
      "Processing columns:   3%|▎         | 179/5273 [00:51<21:15,  3.99it/s]"
     ]
    },
    {
     "name": "stderr",
     "output_type": "stream",
     "text": [
      "\r",
      "Processing columns:   3%|▎         | 180/5273 [00:51<20:36,  4.12it/s]"
     ]
    },
    {
     "name": "stderr",
     "output_type": "stream",
     "text": [
      "\r",
      "Processing columns:   3%|▎         | 181/5273 [00:51<19:21,  4.39it/s]"
     ]
    },
    {
     "name": "stderr",
     "output_type": "stream",
     "text": [
      "\r",
      "Processing columns:   3%|▎         | 182/5273 [00:52<23:10,  3.66it/s]"
     ]
    },
    {
     "name": "stderr",
     "output_type": "stream",
     "text": [
      "\r",
      "Processing columns:   3%|▎         | 183/5273 [00:52<21:46,  3.90it/s]"
     ]
    },
    {
     "name": "stderr",
     "output_type": "stream",
     "text": [
      "\r",
      "Processing columns:   3%|▎         | 184/5273 [00:52<24:01,  3.53it/s]"
     ]
    },
    {
     "name": "stderr",
     "output_type": "stream",
     "text": [
      "\r",
      "Processing columns:   4%|▎         | 185/5273 [00:52<22:32,  3.76it/s]"
     ]
    },
    {
     "name": "stderr",
     "output_type": "stream",
     "text": [
      "\r",
      "Processing columns:   4%|▎         | 186/5273 [00:53<23:16,  3.64it/s]"
     ]
    },
    {
     "name": "stderr",
     "output_type": "stream",
     "text": [
      "\r",
      "Processing columns:   4%|▎         | 187/5273 [00:53<21:37,  3.92it/s]"
     ]
    },
    {
     "name": "stderr",
     "output_type": "stream",
     "text": [
      "\r",
      "Processing columns:   4%|▎         | 188/5273 [00:53<20:30,  4.13it/s]"
     ]
    },
    {
     "name": "stderr",
     "output_type": "stream",
     "text": [
      "\r",
      "Processing columns:   4%|▎         | 189/5273 [00:54<27:48,  3.05it/s]"
     ]
    },
    {
     "name": "stderr",
     "output_type": "stream",
     "text": [
      "\r",
      "Processing columns:   4%|▎         | 190/5273 [00:54<26:41,  3.17it/s]"
     ]
    },
    {
     "name": "stderr",
     "output_type": "stream",
     "text": [
      "\r",
      "Processing columns:   4%|▎         | 191/5273 [00:54<24:55,  3.40it/s]"
     ]
    },
    {
     "name": "stderr",
     "output_type": "stream",
     "text": [
      "\r",
      "Processing columns:   4%|▎         | 192/5273 [00:54<24:39,  3.43it/s]"
     ]
    },
    {
     "name": "stderr",
     "output_type": "stream",
     "text": [
      "\r",
      "Processing columns:   4%|▎         | 193/5273 [00:55<23:01,  3.68it/s]"
     ]
    },
    {
     "name": "stderr",
     "output_type": "stream",
     "text": [
      "\r",
      "Processing columns:   4%|▎         | 194/5273 [00:55<22:24,  3.78it/s]"
     ]
    },
    {
     "name": "stderr",
     "output_type": "stream",
     "text": [
      "\r",
      "Processing columns:   4%|▎         | 195/5273 [00:55<21:28,  3.94it/s]"
     ]
    },
    {
     "name": "stderr",
     "output_type": "stream",
     "text": [
      "\r",
      "Processing columns:   4%|▎         | 196/5273 [00:55<20:57,  4.04it/s]"
     ]
    },
    {
     "name": "stderr",
     "output_type": "stream",
     "text": [
      "\r",
      "Processing columns:   4%|▎         | 197/5273 [00:56<21:57,  3.85it/s]"
     ]
    },
    {
     "name": "stderr",
     "output_type": "stream",
     "text": [
      "\r",
      "Processing columns:   4%|▍         | 198/5273 [00:56<20:51,  4.06it/s]"
     ]
    },
    {
     "name": "stderr",
     "output_type": "stream",
     "text": [
      "\r",
      "Processing columns:   4%|▍         | 199/5273 [00:56<21:51,  3.87it/s]"
     ]
    },
    {
     "name": "stderr",
     "output_type": "stream",
     "text": [
      "\r",
      "Processing columns:   4%|▍         | 200/5273 [00:56<20:47,  4.07it/s]"
     ]
    },
    {
     "name": "stderr",
     "output_type": "stream",
     "text": [
      "\r",
      "Processing columns:   4%|▍         | 201/5273 [00:57<19:56,  4.24it/s]"
     ]
    },
    {
     "name": "stderr",
     "output_type": "stream",
     "text": [
      "\r",
      "Processing columns:   4%|▍         | 202/5273 [00:57<24:35,  3.44it/s]"
     ]
    },
    {
     "name": "stderr",
     "output_type": "stream",
     "text": [
      "\r",
      "Processing columns:   4%|▍         | 203/5273 [00:57<23:28,  3.60it/s]"
     ]
    },
    {
     "name": "stderr",
     "output_type": "stream",
     "text": [
      "\r",
      "Processing columns:   4%|▍         | 204/5273 [00:58<22:51,  3.70it/s]"
     ]
    },
    {
     "name": "stderr",
     "output_type": "stream",
     "text": [
      "\r",
      "Processing columns:   4%|▍         | 205/5273 [00:58<23:24,  3.61it/s]"
     ]
    },
    {
     "name": "stderr",
     "output_type": "stream",
     "text": [
      "\r",
      "Processing columns:   4%|▍         | 206/5273 [00:58<21:41,  3.89it/s]"
     ]
    },
    {
     "name": "stderr",
     "output_type": "stream",
     "text": [
      "\r",
      "Processing columns:   4%|▍         | 207/5273 [00:58<22:28,  3.76it/s]"
     ]
    },
    {
     "name": "stderr",
     "output_type": "stream",
     "text": [
      "\r",
      "Processing columns:   4%|▍         | 208/5273 [00:59<22:33,  3.74it/s]"
     ]
    },
    {
     "name": "stderr",
     "output_type": "stream",
     "text": [
      "\r",
      "Processing columns:   4%|▍         | 209/5273 [00:59<22:11,  3.80it/s]"
     ]
    },
    {
     "name": "stderr",
     "output_type": "stream",
     "text": [
      "\r",
      "Processing columns:   4%|▍         | 210/5273 [00:59<21:41,  3.89it/s]"
     ]
    },
    {
     "name": "stderr",
     "output_type": "stream",
     "text": [
      "\r",
      "Processing columns:   4%|▍         | 211/5273 [00:59<21:24,  3.94it/s]"
     ]
    },
    {
     "name": "stderr",
     "output_type": "stream",
     "text": [
      "\r",
      "Processing columns:   4%|▍         | 212/5273 [01:00<20:17,  4.16it/s]"
     ]
    },
    {
     "name": "stderr",
     "output_type": "stream",
     "text": [
      "\r",
      "Processing columns:   4%|▍         | 213/5273 [01:00<20:15,  4.16it/s]"
     ]
    },
    {
     "name": "stderr",
     "output_type": "stream",
     "text": [
      "\r",
      "Processing columns:   4%|▍         | 214/5273 [01:00<20:06,  4.19it/s]"
     ]
    },
    {
     "name": "stderr",
     "output_type": "stream",
     "text": [
      "\r",
      "Processing columns:   4%|▍         | 215/5273 [01:01<28:51,  2.92it/s]"
     ]
    },
    {
     "name": "stderr",
     "output_type": "stream",
     "text": [
      "\r",
      "Processing columns:   4%|▍         | 216/5273 [01:01<25:45,  3.27it/s]"
     ]
    },
    {
     "name": "stderr",
     "output_type": "stream",
     "text": [
      "\r",
      "Processing columns:   4%|▍         | 217/5273 [01:01<24:54,  3.38it/s]"
     ]
    },
    {
     "name": "stderr",
     "output_type": "stream",
     "text": [
      "\r",
      "Processing columns:   4%|▍         | 218/5273 [01:01<22:43,  3.71it/s]"
     ]
    },
    {
     "name": "stderr",
     "output_type": "stream",
     "text": [
      "\r",
      "Processing columns:   4%|▍         | 219/5273 [01:02<21:57,  3.84it/s]"
     ]
    },
    {
     "name": "stderr",
     "output_type": "stream",
     "text": [
      "\r",
      "Processing columns:   4%|▍         | 220/5273 [01:02<24:17,  3.47it/s]"
     ]
    },
    {
     "name": "stderr",
     "output_type": "stream",
     "text": [
      "\r",
      "Processing columns:   4%|▍         | 221/5273 [01:02<23:19,  3.61it/s]"
     ]
    },
    {
     "name": "stderr",
     "output_type": "stream",
     "text": [
      "\r",
      "Processing columns:   4%|▍         | 222/5273 [01:02<22:16,  3.78it/s]"
     ]
    },
    {
     "name": "stderr",
     "output_type": "stream",
     "text": [
      "\r",
      "Processing columns:   4%|▍         | 223/5273 [01:03<21:55,  3.84it/s]"
     ]
    },
    {
     "name": "stderr",
     "output_type": "stream",
     "text": [
      "\r",
      "Processing columns:   4%|▍         | 224/5273 [01:03<20:49,  4.04it/s]"
     ]
    },
    {
     "name": "stderr",
     "output_type": "stream",
     "text": [
      "\r",
      "Processing columns:   4%|▍         | 225/5273 [01:03<20:41,  4.06it/s]"
     ]
    },
    {
     "name": "stderr",
     "output_type": "stream",
     "text": [
      "\r",
      "Processing columns:   4%|▍         | 226/5273 [01:03<22:00,  3.82it/s]"
     ]
    },
    {
     "name": "stderr",
     "output_type": "stream",
     "text": [
      "\r",
      "Processing columns:   4%|▍         | 227/5273 [01:04<22:37,  3.72it/s]"
     ]
    },
    {
     "name": "stderr",
     "output_type": "stream",
     "text": [
      "\r",
      "Processing columns:   4%|▍         | 228/5273 [01:04<28:38,  2.94it/s]"
     ]
    },
    {
     "name": "stderr",
     "output_type": "stream",
     "text": [
      "\r",
      "Processing columns:   4%|▍         | 229/5273 [01:05<27:30,  3.06it/s]"
     ]
    },
    {
     "name": "stderr",
     "output_type": "stream",
     "text": [
      "\r",
      "Processing columns:   4%|▍         | 230/5273 [01:05<25:14,  3.33it/s]"
     ]
    },
    {
     "name": "stderr",
     "output_type": "stream",
     "text": [
      "\r",
      "Processing columns:   4%|▍         | 231/5273 [01:05<23:54,  3.52it/s]"
     ]
    },
    {
     "name": "stderr",
     "output_type": "stream",
     "text": [
      "\r",
      "Processing columns:   4%|▍         | 232/5273 [01:05<23:21,  3.60it/s]"
     ]
    },
    {
     "name": "stderr",
     "output_type": "stream",
     "text": [
      "\r",
      "Processing columns:   4%|▍         | 233/5273 [01:05<22:01,  3.81it/s]"
     ]
    },
    {
     "name": "stderr",
     "output_type": "stream",
     "text": [
      "\r",
      "Processing columns:   4%|▍         | 234/5273 [01:06<22:11,  3.78it/s]"
     ]
    },
    {
     "name": "stderr",
     "output_type": "stream",
     "text": [
      "\r",
      "Processing columns:   4%|▍         | 235/5273 [01:06<23:32,  3.57it/s]"
     ]
    },
    {
     "name": "stderr",
     "output_type": "stream",
     "text": [
      "\r",
      "Processing columns:   4%|▍         | 236/5273 [01:06<23:23,  3.59it/s]"
     ]
    },
    {
     "name": "stderr",
     "output_type": "stream",
     "text": [
      "\r",
      "Processing columns:   4%|▍         | 237/5273 [01:07<21:36,  3.88it/s]"
     ]
    },
    {
     "name": "stderr",
     "output_type": "stream",
     "text": [
      "\r",
      "Processing columns:   5%|▍         | 238/5273 [01:07<21:32,  3.90it/s]"
     ]
    },
    {
     "name": "stderr",
     "output_type": "stream",
     "text": [
      "\r",
      "Processing columns:   5%|▍         | 239/5273 [01:07<23:01,  3.64it/s]"
     ]
    },
    {
     "name": "stderr",
     "output_type": "stream",
     "text": [
      "\r",
      "Processing columns:   5%|▍         | 240/5273 [01:07<22:21,  3.75it/s]"
     ]
    },
    {
     "name": "stderr",
     "output_type": "stream",
     "text": [
      "\r",
      "Processing columns:   5%|▍         | 241/5273 [01:08<25:37,  3.27it/s]"
     ]
    },
    {
     "name": "stderr",
     "output_type": "stream",
     "text": [
      "\r",
      "Processing columns:   5%|▍         | 242/5273 [01:08<23:04,  3.63it/s]"
     ]
    },
    {
     "name": "stderr",
     "output_type": "stream",
     "text": [
      "\r",
      "Processing columns:   5%|▍         | 243/5273 [01:08<23:49,  3.52it/s]"
     ]
    },
    {
     "name": "stderr",
     "output_type": "stream",
     "text": [
      "\r",
      "Processing columns:   5%|▍         | 244/5273 [01:09<23:36,  3.55it/s]"
     ]
    },
    {
     "name": "stderr",
     "output_type": "stream",
     "text": [
      "\r",
      "Processing columns:   5%|▍         | 245/5273 [01:09<23:10,  3.62it/s]"
     ]
    },
    {
     "name": "stderr",
     "output_type": "stream",
     "text": [
      "\r",
      "Processing columns:   5%|▍         | 246/5273 [01:09<22:47,  3.68it/s]"
     ]
    },
    {
     "name": "stderr",
     "output_type": "stream",
     "text": [
      "\r",
      "Processing columns:   5%|▍         | 247/5273 [01:09<21:30,  3.90it/s]"
     ]
    },
    {
     "name": "stderr",
     "output_type": "stream",
     "text": [
      "\r",
      "Processing columns:   5%|▍         | 248/5273 [01:10<20:31,  4.08it/s]"
     ]
    },
    {
     "name": "stderr",
     "output_type": "stream",
     "text": [
      "\r",
      "Processing columns:   5%|▍         | 249/5273 [01:10<24:47,  3.38it/s]"
     ]
    },
    {
     "name": "stderr",
     "output_type": "stream",
     "text": [
      "\r",
      "Processing columns:   5%|▍         | 250/5273 [01:10<22:43,  3.68it/s]"
     ]
    },
    {
     "name": "stderr",
     "output_type": "stream",
     "text": [
      "\r",
      "Processing columns:   5%|▍         | 251/5273 [01:10<21:29,  3.89it/s]"
     ]
    },
    {
     "name": "stderr",
     "output_type": "stream",
     "text": [
      "\r",
      "Processing columns:   5%|▍         | 252/5273 [01:11<22:51,  3.66it/s]"
     ]
    },
    {
     "name": "stderr",
     "output_type": "stream",
     "text": [
      "\r",
      "Processing columns:   5%|▍         | 253/5273 [01:11<21:40,  3.86it/s]"
     ]
    },
    {
     "name": "stderr",
     "output_type": "stream",
     "text": [
      "\r",
      "Processing columns:   5%|▍         | 254/5273 [01:11<20:40,  4.05it/s]"
     ]
    },
    {
     "name": "stderr",
     "output_type": "stream",
     "text": [
      "\r",
      "Processing columns:   5%|▍         | 255/5273 [01:12<27:29,  3.04it/s]"
     ]
    },
    {
     "name": "stderr",
     "output_type": "stream",
     "text": [
      "\r",
      "Processing columns:   5%|▍         | 256/5273 [01:12<25:15,  3.31it/s]"
     ]
    },
    {
     "name": "stderr",
     "output_type": "stream",
     "text": [
      "\r",
      "Processing columns:   5%|▍         | 257/5273 [01:12<23:42,  3.53it/s]"
     ]
    },
    {
     "name": "stderr",
     "output_type": "stream",
     "text": [
      "\r",
      "Processing columns:   5%|▍         | 258/5273 [01:12<23:02,  3.63it/s]"
     ]
    },
    {
     "name": "stderr",
     "output_type": "stream",
     "text": [
      "\r",
      "Processing columns:   5%|▍         | 259/5273 [01:13<22:06,  3.78it/s]"
     ]
    },
    {
     "name": "stderr",
     "output_type": "stream",
     "text": [
      "\r",
      "Processing columns:   5%|▍         | 260/5273 [01:13<21:41,  3.85it/s]"
     ]
    },
    {
     "name": "stderr",
     "output_type": "stream",
     "text": [
      "\r",
      "Processing columns:   5%|▍         | 261/5273 [01:13<21:14,  3.93it/s]"
     ]
    },
    {
     "name": "stderr",
     "output_type": "stream",
     "text": [
      "\r",
      "Processing columns:   5%|▍         | 262/5273 [01:13<20:41,  4.04it/s]"
     ]
    },
    {
     "name": "stderr",
     "output_type": "stream",
     "text": [
      "\r",
      "Processing columns:   5%|▍         | 263/5273 [01:14<20:12,  4.13it/s]"
     ]
    },
    {
     "name": "stderr",
     "output_type": "stream",
     "text": [
      "\r",
      "Processing columns:   5%|▌         | 264/5273 [01:14<20:03,  4.16it/s]"
     ]
    },
    {
     "name": "stderr",
     "output_type": "stream",
     "text": [
      "\r",
      "Processing columns:   5%|▌         | 265/5273 [01:14<19:52,  4.20it/s]"
     ]
    },
    {
     "name": "stderr",
     "output_type": "stream",
     "text": [
      "\r",
      "Processing columns:   5%|▌         | 266/5273 [01:14<21:26,  3.89it/s]"
     ]
    },
    {
     "name": "stderr",
     "output_type": "stream",
     "text": [
      "\r",
      "Processing columns:   5%|▌         | 267/5273 [01:15<21:02,  3.96it/s]"
     ]
    },
    {
     "name": "stderr",
     "output_type": "stream",
     "text": [
      "\r",
      "Processing columns:   5%|▌         | 268/5273 [01:15<28:52,  2.89it/s]"
     ]
    },
    {
     "name": "stderr",
     "output_type": "stream",
     "text": [
      "\r",
      "Processing columns:   5%|▌         | 269/5273 [01:15<26:04,  3.20it/s]"
     ]
    },
    {
     "name": "stderr",
     "output_type": "stream",
     "text": [
      "\r",
      "Processing columns:   5%|▌         | 270/5273 [01:16<24:46,  3.37it/s]"
     ]
    },
    {
     "name": "stderr",
     "output_type": "stream",
     "text": [
      "\r",
      "Processing columns:   5%|▌         | 271/5273 [01:16<22:37,  3.68it/s]"
     ]
    },
    {
     "name": "stderr",
     "output_type": "stream",
     "text": [
      "\r",
      "Processing columns:   5%|▌         | 272/5273 [01:16<21:54,  3.80it/s]"
     ]
    },
    {
     "name": "stderr",
     "output_type": "stream",
     "text": [
      "\r",
      "Processing columns:   5%|▌         | 273/5273 [01:16<21:33,  3.86it/s]"
     ]
    },
    {
     "name": "stderr",
     "output_type": "stream",
     "text": [
      "\r",
      "Processing columns:   5%|▌         | 274/5273 [01:17<22:01,  3.78it/s]"
     ]
    },
    {
     "name": "stderr",
     "output_type": "stream",
     "text": [
      "\r",
      "Processing columns:   5%|▌         | 275/5273 [01:17<22:14,  3.74it/s]"
     ]
    },
    {
     "name": "stderr",
     "output_type": "stream",
     "text": [
      "\r",
      "Processing columns:   5%|▌         | 276/5273 [01:17<22:48,  3.65it/s]"
     ]
    },
    {
     "name": "stderr",
     "output_type": "stream",
     "text": [
      "\r",
      "Processing columns:   5%|▌         | 277/5273 [01:17<21:33,  3.86it/s]"
     ]
    },
    {
     "name": "stderr",
     "output_type": "stream",
     "text": [
      "\r",
      "Processing columns:   5%|▌         | 278/5273 [01:18<21:01,  3.96it/s]"
     ]
    },
    {
     "name": "stderr",
     "output_type": "stream",
     "text": [
      "\r",
      "Processing columns:   5%|▌         | 279/5273 [01:18<22:38,  3.68it/s]"
     ]
    },
    {
     "name": "stderr",
     "output_type": "stream",
     "text": [
      "\r",
      "Processing columns:   5%|▌         | 280/5273 [01:18<21:06,  3.94it/s]"
     ]
    },
    {
     "name": "stderr",
     "output_type": "stream",
     "text": [
      "\r",
      "Processing columns:   5%|▌         | 281/5273 [01:19<23:24,  3.55it/s]"
     ]
    },
    {
     "name": "stderr",
     "output_type": "stream",
     "text": [
      "\r",
      "Processing columns:   5%|▌         | 282/5273 [01:19<22:02,  3.77it/s]"
     ]
    },
    {
     "name": "stderr",
     "output_type": "stream",
     "text": [
      "\r",
      "Processing columns:   5%|▌         | 283/5273 [01:19<22:08,  3.76it/s]"
     ]
    },
    {
     "name": "stderr",
     "output_type": "stream",
     "text": [
      "\r",
      "Processing columns:   5%|▌         | 284/5273 [01:19<22:34,  3.68it/s]"
     ]
    },
    {
     "name": "stderr",
     "output_type": "stream",
     "text": [
      "\r",
      "Processing columns:   5%|▌         | 285/5273 [01:20<22:33,  3.68it/s]"
     ]
    },
    {
     "name": "stderr",
     "output_type": "stream",
     "text": [
      "\r",
      "Processing columns:   5%|▌         | 286/5273 [01:20<21:33,  3.86it/s]"
     ]
    },
    {
     "name": "stderr",
     "output_type": "stream",
     "text": [
      "\r",
      "Processing columns:   5%|▌         | 287/5273 [01:20<21:02,  3.95it/s]"
     ]
    },
    {
     "name": "stderr",
     "output_type": "stream",
     "text": [
      "\r",
      "Processing columns:   5%|▌         | 288/5273 [01:20<20:33,  4.04it/s]"
     ]
    },
    {
     "name": "stderr",
     "output_type": "stream",
     "text": [
      "\r",
      "Processing columns:   5%|▌         | 289/5273 [01:21<20:42,  4.01it/s]"
     ]
    },
    {
     "name": "stderr",
     "output_type": "stream",
     "text": [
      "\r",
      "Processing columns:   5%|▌         | 290/5273 [01:21<20:40,  4.02it/s]"
     ]
    },
    {
     "name": "stderr",
     "output_type": "stream",
     "text": [
      "\r",
      "Processing columns:   6%|▌         | 291/5273 [01:21<20:14,  4.10it/s]"
     ]
    },
    {
     "name": "stderr",
     "output_type": "stream",
     "text": [
      "\r",
      "Processing columns:   6%|▌         | 292/5273 [01:21<19:38,  4.23it/s]"
     ]
    },
    {
     "name": "stderr",
     "output_type": "stream",
     "text": [
      "\r",
      "Processing columns:   6%|▌         | 293/5273 [01:21<19:36,  4.23it/s]"
     ]
    },
    {
     "name": "stderr",
     "output_type": "stream",
     "text": [
      "\r",
      "Processing columns:   6%|▌         | 294/5273 [01:22<25:30,  3.25it/s]"
     ]
    },
    {
     "name": "stderr",
     "output_type": "stream",
     "text": [
      "\r",
      "Processing columns:   6%|▌         | 295/5273 [01:22<22:59,  3.61it/s]"
     ]
    },
    {
     "name": "stderr",
     "output_type": "stream",
     "text": [
      "\r",
      "Processing columns:   6%|▌         | 296/5273 [01:22<21:45,  3.81it/s]"
     ]
    },
    {
     "name": "stderr",
     "output_type": "stream",
     "text": [
      "\r",
      "Processing columns:   6%|▌         | 297/5273 [01:23<21:19,  3.89it/s]"
     ]
    },
    {
     "name": "stderr",
     "output_type": "stream",
     "text": [
      "\r",
      "Processing columns:   6%|▌         | 298/5273 [01:23<21:41,  3.82it/s]"
     ]
    },
    {
     "name": "stderr",
     "output_type": "stream",
     "text": [
      "\r",
      "Processing columns:   6%|▌         | 299/5273 [01:23<22:45,  3.64it/s]"
     ]
    },
    {
     "name": "stderr",
     "output_type": "stream",
     "text": [
      "\r",
      "Processing columns:   6%|▌         | 300/5273 [01:23<21:21,  3.88it/s]"
     ]
    },
    {
     "name": "stderr",
     "output_type": "stream",
     "text": [
      "\r",
      "Processing columns:   6%|▌         | 301/5273 [01:24<20:12,  4.10it/s]"
     ]
    },
    {
     "name": "stderr",
     "output_type": "stream",
     "text": [
      "\r",
      "Processing columns:   6%|▌         | 302/5273 [01:24<19:28,  4.25it/s]"
     ]
    },
    {
     "name": "stderr",
     "output_type": "stream",
     "text": [
      "\r",
      "Processing columns:   6%|▌         | 303/5273 [01:24<19:33,  4.23it/s]"
     ]
    },
    {
     "name": "stderr",
     "output_type": "stream",
     "text": [
      "\r",
      "Processing columns:   6%|▌         | 304/5273 [01:24<22:23,  3.70it/s]"
     ]
    },
    {
     "name": "stderr",
     "output_type": "stream",
     "text": [
      "\r",
      "Processing columns:   6%|▌         | 305/5273 [01:25<21:30,  3.85it/s]"
     ]
    },
    {
     "name": "stderr",
     "output_type": "stream",
     "text": [
      "\r",
      "Processing columns:   6%|▌         | 306/5273 [01:25<20:27,  4.05it/s]"
     ]
    },
    {
     "name": "stderr",
     "output_type": "stream",
     "text": [
      "\r",
      "Processing columns:   6%|▌         | 307/5273 [01:25<26:35,  3.11it/s]"
     ]
    },
    {
     "name": "stderr",
     "output_type": "stream",
     "text": [
      "\r",
      "Processing columns:   6%|▌         | 308/5273 [01:26<24:35,  3.36it/s]"
     ]
    },
    {
     "name": "stderr",
     "output_type": "stream",
     "text": [
      "\r",
      "Processing columns:   6%|▌         | 309/5273 [01:26<23:44,  3.49it/s]"
     ]
    },
    {
     "name": "stderr",
     "output_type": "stream",
     "text": [
      "\r",
      "Processing columns:   6%|▌         | 310/5273 [01:26<23:17,  3.55it/s]"
     ]
    },
    {
     "name": "stderr",
     "output_type": "stream",
     "text": [
      "\r",
      "Processing columns:   6%|▌         | 311/5273 [01:26<21:31,  3.84it/s]"
     ]
    },
    {
     "name": "stderr",
     "output_type": "stream",
     "text": [
      "\r",
      "Processing columns:   6%|▌         | 312/5273 [01:27<21:07,  3.92it/s]"
     ]
    },
    {
     "name": "stderr",
     "output_type": "stream",
     "text": [
      "\r",
      "Processing columns:   6%|▌         | 313/5273 [01:27<20:42,  3.99it/s]"
     ]
    },
    {
     "name": "stderr",
     "output_type": "stream",
     "text": [
      "\r",
      "Processing columns:   6%|▌         | 314/5273 [01:27<23:09,  3.57it/s]"
     ]
    },
    {
     "name": "stderr",
     "output_type": "stream",
     "text": [
      "\r",
      "Processing columns:   6%|▌         | 315/5273 [01:27<21:50,  3.78it/s]"
     ]
    },
    {
     "name": "stderr",
     "output_type": "stream",
     "text": [
      "\r",
      "Processing columns:   6%|▌         | 316/5273 [01:28<21:39,  3.82it/s]"
     ]
    },
    {
     "name": "stderr",
     "output_type": "stream",
     "text": [
      "\r",
      "Processing columns:   6%|▌         | 317/5273 [01:28<20:31,  4.03it/s]"
     ]
    },
    {
     "name": "stderr",
     "output_type": "stream",
     "text": [
      "\r",
      "Processing columns:   6%|▌         | 318/5273 [01:28<21:47,  3.79it/s]"
     ]
    },
    {
     "name": "stderr",
     "output_type": "stream",
     "text": [
      "\r",
      "Processing columns:   6%|▌         | 319/5273 [01:28<22:09,  3.73it/s]"
     ]
    },
    {
     "name": "stderr",
     "output_type": "stream",
     "text": [
      "\r",
      "Processing columns:   6%|▌         | 320/5273 [01:29<20:36,  4.00it/s]"
     ]
    },
    {
     "name": "stderr",
     "output_type": "stream",
     "text": [
      "\r",
      "Processing columns:   6%|▌         | 321/5273 [01:29<24:29,  3.37it/s]"
     ]
    },
    {
     "name": "stderr",
     "output_type": "stream",
     "text": [
      "\r",
      "Processing columns:   6%|▌         | 322/5273 [01:29<24:08,  3.42it/s]"
     ]
    },
    {
     "name": "stderr",
     "output_type": "stream",
     "text": [
      "\r",
      "Processing columns:   6%|▌         | 323/5273 [01:30<23:51,  3.46it/s]"
     ]
    },
    {
     "name": "stderr",
     "output_type": "stream",
     "text": [
      "\r",
      "Processing columns:   6%|▌         | 324/5273 [01:30<23:28,  3.51it/s]"
     ]
    },
    {
     "name": "stderr",
     "output_type": "stream",
     "text": [
      "\r",
      "Processing columns:   6%|▌         | 325/5273 [01:30<22:13,  3.71it/s]"
     ]
    },
    {
     "name": "stderr",
     "output_type": "stream",
     "text": [
      "\r",
      "Processing columns:   6%|▌         | 326/5273 [01:30<21:21,  3.86it/s]"
     ]
    },
    {
     "name": "stderr",
     "output_type": "stream",
     "text": [
      "\r",
      "Processing columns:   6%|▌         | 327/5273 [01:31<20:11,  4.08it/s]"
     ]
    },
    {
     "name": "stderr",
     "output_type": "stream",
     "text": [
      "\r",
      "Processing columns:   6%|▌         | 328/5273 [01:31<19:49,  4.16it/s]"
     ]
    },
    {
     "name": "stderr",
     "output_type": "stream",
     "text": [
      "\r",
      "Processing columns:   6%|▌         | 329/5273 [01:31<21:28,  3.84it/s]"
     ]
    },
    {
     "name": "stderr",
     "output_type": "stream",
     "text": [
      "\r",
      "Processing columns:   6%|▋         | 330/5273 [01:31<20:12,  4.08it/s]"
     ]
    },
    {
     "name": "stderr",
     "output_type": "stream",
     "text": [
      "\r",
      "Processing columns:   6%|▋         | 331/5273 [01:32<20:00,  4.12it/s]"
     ]
    },
    {
     "name": "stderr",
     "output_type": "stream",
     "text": [
      "\r",
      "Processing columns:   6%|▋         | 332/5273 [01:32<19:13,  4.28it/s]"
     ]
    },
    {
     "name": "stderr",
     "output_type": "stream",
     "text": [
      "\r",
      "Processing columns:   6%|▋         | 333/5273 [01:32<19:52,  4.14it/s]"
     ]
    },
    {
     "name": "stderr",
     "output_type": "stream",
     "text": [
      "\r",
      "Processing columns:   6%|▋         | 334/5273 [01:32<24:29,  3.36it/s]"
     ]
    },
    {
     "name": "stderr",
     "output_type": "stream",
     "text": [
      "\r",
      "Processing columns:   6%|▋         | 335/5273 [01:33<22:39,  3.63it/s]"
     ]
    },
    {
     "name": "stderr",
     "output_type": "stream",
     "text": [
      "\r",
      "Processing columns:   6%|▋         | 336/5273 [01:33<21:19,  3.86it/s]"
     ]
    },
    {
     "name": "stderr",
     "output_type": "stream",
     "text": [
      "\r",
      "Processing columns:   6%|▋         | 337/5273 [01:33<21:42,  3.79it/s]"
     ]
    },
    {
     "name": "stderr",
     "output_type": "stream",
     "text": [
      "\r",
      "Processing columns:   6%|▋         | 338/5273 [01:33<20:33,  4.00it/s]"
     ]
    },
    {
     "name": "stderr",
     "output_type": "stream",
     "text": [
      "\r",
      "Processing columns:   6%|▋         | 339/5273 [01:34<21:54,  3.75it/s]"
     ]
    },
    {
     "name": "stderr",
     "output_type": "stream",
     "text": [
      "\r",
      "Processing columns:   6%|▋         | 340/5273 [01:34<20:55,  3.93it/s]"
     ]
    },
    {
     "name": "stderr",
     "output_type": "stream",
     "text": [
      "\r",
      "Processing columns:   6%|▋         | 341/5273 [01:34<20:27,  4.02it/s]"
     ]
    },
    {
     "name": "stderr",
     "output_type": "stream",
     "text": [
      "\r",
      "Processing columns:   6%|▋         | 342/5273 [01:34<19:31,  4.21it/s]"
     ]
    },
    {
     "name": "stderr",
     "output_type": "stream",
     "text": [
      "\r",
      "Processing columns:   7%|▋         | 343/5273 [01:35<19:05,  4.30it/s]"
     ]
    },
    {
     "name": "stderr",
     "output_type": "stream",
     "text": [
      "\r",
      "Processing columns:   7%|▋         | 344/5273 [01:35<19:08,  4.29it/s]"
     ]
    },
    {
     "name": "stderr",
     "output_type": "stream",
     "text": [
      "\r",
      "Processing columns:   7%|▋         | 345/5273 [01:35<20:37,  3.98it/s]"
     ]
    },
    {
     "name": "stderr",
     "output_type": "stream",
     "text": [
      "\r",
      "Processing columns:   7%|▋         | 346/5273 [01:35<19:57,  4.11it/s]"
     ]
    },
    {
     "name": "stderr",
     "output_type": "stream",
     "text": [
      "\r",
      "Processing columns:   7%|▋         | 347/5273 [01:36<24:27,  3.36it/s]"
     ]
    },
    {
     "name": "stderr",
     "output_type": "stream",
     "text": [
      "\r",
      "Processing columns:   7%|▋         | 348/5273 [01:36<23:18,  3.52it/s]"
     ]
    },
    {
     "name": "stderr",
     "output_type": "stream",
     "text": [
      "\r",
      "Processing columns:   7%|▋         | 349/5273 [01:36<21:28,  3.82it/s]"
     ]
    },
    {
     "name": "stderr",
     "output_type": "stream",
     "text": [
      "\r",
      "Processing columns:   7%|▋         | 350/5273 [01:37<21:13,  3.87it/s]"
     ]
    },
    {
     "name": "stderr",
     "output_type": "stream",
     "text": [
      "\r",
      "Processing columns:   7%|▋         | 351/5273 [01:37<21:00,  3.91it/s]"
     ]
    },
    {
     "name": "stderr",
     "output_type": "stream",
     "text": [
      "\r",
      "Processing columns:   7%|▋         | 352/5273 [01:37<19:45,  4.15it/s]"
     ]
    },
    {
     "name": "stderr",
     "output_type": "stream",
     "text": [
      "\r",
      "Processing columns:   7%|▋         | 353/5273 [01:37<20:59,  3.91it/s]"
     ]
    },
    {
     "name": "stderr",
     "output_type": "stream",
     "text": [
      "\r",
      "Processing columns:   7%|▋         | 354/5273 [01:37<19:53,  4.12it/s]"
     ]
    },
    {
     "name": "stderr",
     "output_type": "stream",
     "text": [
      "\r",
      "Processing columns:   7%|▋         | 355/5273 [01:38<19:22,  4.23it/s]"
     ]
    },
    {
     "name": "stderr",
     "output_type": "stream",
     "text": [
      "\r",
      "Processing columns:   7%|▋         | 356/5273 [01:38<20:24,  4.02it/s]"
     ]
    },
    {
     "name": "stderr",
     "output_type": "stream",
     "text": [
      "\r",
      "Processing columns:   7%|▋         | 357/5273 [01:38<20:02,  4.09it/s]"
     ]
    },
    {
     "name": "stderr",
     "output_type": "stream",
     "text": [
      "\r",
      "Processing columns:   7%|▋         | 358/5273 [01:38<20:13,  4.05it/s]"
     ]
    },
    {
     "name": "stderr",
     "output_type": "stream",
     "text": [
      "\r",
      "Processing columns:   7%|▋         | 359/5273 [01:39<19:44,  4.15it/s]"
     ]
    },
    {
     "name": "stderr",
     "output_type": "stream",
     "text": [
      "\r",
      "Processing columns:   7%|▋         | 360/5273 [01:39<26:43,  3.06it/s]"
     ]
    },
    {
     "name": "stderr",
     "output_type": "stream",
     "text": [
      "\r",
      "Processing columns:   7%|▋         | 361/5273 [01:39<24:56,  3.28it/s]"
     ]
    },
    {
     "name": "stderr",
     "output_type": "stream",
     "text": [
      "\r",
      "Processing columns:   7%|▋         | 362/5273 [01:40<23:01,  3.55it/s]"
     ]
    },
    {
     "name": "stderr",
     "output_type": "stream",
     "text": [
      "\r",
      "Processing columns:   7%|▋         | 363/5273 [01:40<21:54,  3.73it/s]"
     ]
    },
    {
     "name": "stderr",
     "output_type": "stream",
     "text": [
      "\r",
      "Processing columns:   7%|▋         | 364/5273 [01:40<20:59,  3.90it/s]"
     ]
    },
    {
     "name": "stderr",
     "output_type": "stream",
     "text": [
      "\r",
      "Processing columns:   7%|▋         | 365/5273 [01:40<19:59,  4.09it/s]"
     ]
    },
    {
     "name": "stderr",
     "output_type": "stream",
     "text": [
      "\r",
      "Processing columns:   7%|▋         | 366/5273 [01:41<21:06,  3.88it/s]"
     ]
    },
    {
     "name": "stderr",
     "output_type": "stream",
     "text": [
      "\r",
      "Processing columns:   7%|▋         | 367/5273 [01:41<20:02,  4.08it/s]"
     ]
    },
    {
     "name": "stderr",
     "output_type": "stream",
     "text": [
      "\r",
      "Processing columns:   7%|▋         | 368/5273 [01:41<20:58,  3.90it/s]"
     ]
    },
    {
     "name": "stderr",
     "output_type": "stream",
     "text": [
      "\r",
      "Processing columns:   7%|▋         | 369/5273 [01:41<20:19,  4.02it/s]"
     ]
    },
    {
     "name": "stderr",
     "output_type": "stream",
     "text": [
      "\r",
      "Processing columns:   7%|▋         | 370/5273 [01:42<20:30,  3.98it/s]"
     ]
    },
    {
     "name": "stderr",
     "output_type": "stream",
     "text": [
      "\r",
      "Processing columns:   7%|▋         | 371/5273 [01:42<20:27,  3.99it/s]"
     ]
    },
    {
     "name": "stderr",
     "output_type": "stream",
     "text": [
      "\r",
      "Processing columns:   7%|▋         | 372/5273 [01:42<19:42,  4.15it/s]"
     ]
    },
    {
     "name": "stderr",
     "output_type": "stream",
     "text": [
      "\r",
      "Processing columns:   7%|▋         | 373/5273 [01:43<26:57,  3.03it/s]"
     ]
    },
    {
     "name": "stderr",
     "output_type": "stream",
     "text": [
      "\r",
      "Processing columns:   7%|▋         | 374/5273 [01:43<25:13,  3.24it/s]"
     ]
    },
    {
     "name": "stderr",
     "output_type": "stream",
     "text": [
      "\r",
      "Processing columns:   7%|▋         | 375/5273 [01:43<23:40,  3.45it/s]"
     ]
    },
    {
     "name": "stderr",
     "output_type": "stream",
     "text": [
      "\r",
      "Processing columns:   7%|▋         | 376/5273 [01:43<22:19,  3.65it/s]"
     ]
    },
    {
     "name": "stderr",
     "output_type": "stream",
     "text": [
      "\r",
      "Processing columns:   7%|▋         | 377/5273 [01:44<22:11,  3.68it/s]"
     ]
    },
    {
     "name": "stderr",
     "output_type": "stream",
     "text": [
      "\r",
      "Processing columns:   7%|▋         | 378/5273 [01:44<20:52,  3.91it/s]"
     ]
    },
    {
     "name": "stderr",
     "output_type": "stream",
     "text": [
      "\r",
      "Processing columns:   7%|▋         | 379/5273 [01:44<21:25,  3.81it/s]"
     ]
    },
    {
     "name": "stderr",
     "output_type": "stream",
     "text": [
      "\r",
      "Processing columns:   7%|▋         | 380/5273 [01:44<21:02,  3.87it/s]"
     ]
    },
    {
     "name": "stderr",
     "output_type": "stream",
     "text": [
      "\r",
      "Processing columns:   7%|▋         | 381/5273 [01:45<20:43,  3.93it/s]"
     ]
    },
    {
     "name": "stderr",
     "output_type": "stream",
     "text": [
      "\r",
      "Processing columns:   7%|▋         | 382/5273 [01:45<19:31,  4.17it/s]"
     ]
    },
    {
     "name": "stderr",
     "output_type": "stream",
     "text": [
      "\r",
      "Processing columns:   7%|▋         | 383/5273 [01:45<20:52,  3.90it/s]"
     ]
    },
    {
     "name": "stderr",
     "output_type": "stream",
     "text": [
      "\r",
      "Processing columns:   7%|▋         | 384/5273 [01:45<20:50,  3.91it/s]"
     ]
    },
    {
     "name": "stderr",
     "output_type": "stream",
     "text": [
      "\r",
      "Processing columns:   7%|▋         | 385/5273 [01:46<20:40,  3.94it/s]"
     ]
    },
    {
     "name": "stderr",
     "output_type": "stream",
     "text": [
      "\r",
      "Processing columns:   7%|▋         | 386/5273 [01:46<20:08,  4.04it/s]"
     ]
    },
    {
     "name": "stderr",
     "output_type": "stream",
     "text": [
      "\r",
      "Processing columns:   7%|▋         | 387/5273 [01:46<27:58,  2.91it/s]"
     ]
    },
    {
     "name": "stderr",
     "output_type": "stream",
     "text": [
      "\r",
      "Processing columns:   7%|▋         | 388/5273 [01:47<25:38,  3.17it/s]"
     ]
    },
    {
     "name": "stderr",
     "output_type": "stream",
     "text": [
      "\r",
      "Processing columns:   7%|▋         | 389/5273 [01:47<24:00,  3.39it/s]"
     ]
    },
    {
     "name": "stderr",
     "output_type": "stream",
     "text": [
      "\r",
      "Processing columns:   7%|▋         | 390/5273 [01:47<22:53,  3.56it/s]"
     ]
    },
    {
     "name": "stderr",
     "output_type": "stream",
     "text": [
      "\r",
      "Processing columns:   7%|▋         | 391/5273 [01:47<22:13,  3.66it/s]"
     ]
    },
    {
     "name": "stderr",
     "output_type": "stream",
     "text": [
      "\r",
      "Processing columns:   7%|▋         | 392/5273 [01:48<20:31,  3.96it/s]"
     ]
    },
    {
     "name": "stderr",
     "output_type": "stream",
     "text": [
      "\r",
      "Processing columns:   7%|▋         | 393/5273 [01:48<21:09,  3.84it/s]"
     ]
    },
    {
     "name": "stderr",
     "output_type": "stream",
     "text": [
      "\r",
      "Processing columns:   7%|▋         | 394/5273 [01:48<19:44,  4.12it/s]"
     ]
    },
    {
     "name": "stderr",
     "output_type": "stream",
     "text": [
      "\r",
      "Processing columns:   7%|▋         | 395/5273 [01:48<21:38,  3.76it/s]"
     ]
    },
    {
     "name": "stderr",
     "output_type": "stream",
     "text": [
      "\r",
      "Processing columns:   8%|▊         | 396/5273 [01:49<21:30,  3.78it/s]"
     ]
    },
    {
     "name": "stderr",
     "output_type": "stream",
     "text": [
      "\r",
      "Processing columns:   8%|▊         | 397/5273 [01:49<20:11,  4.02it/s]"
     ]
    },
    {
     "name": "stderr",
     "output_type": "stream",
     "text": [
      "\r",
      "Processing columns:   8%|▊         | 398/5273 [01:49<22:15,  3.65it/s]"
     ]
    },
    {
     "name": "stderr",
     "output_type": "stream",
     "text": [
      "\r",
      "Processing columns:   8%|▊         | 399/5273 [01:49<21:00,  3.87it/s]"
     ]
    },
    {
     "name": "stderr",
     "output_type": "stream",
     "text": [
      "\r",
      "Processing columns:   8%|▊         | 400/5273 [01:50<26:20,  3.08it/s]"
     ]
    },
    {
     "name": "stderr",
     "output_type": "stream",
     "text": [
      "\r",
      "Processing columns:   8%|▊         | 401/5273 [01:50<24:41,  3.29it/s]"
     ]
    },
    {
     "name": "stderr",
     "output_type": "stream",
     "text": [
      "\r",
      "Processing columns:   8%|▊         | 402/5273 [01:50<23:12,  3.50it/s]"
     ]
    },
    {
     "name": "stderr",
     "output_type": "stream",
     "text": [
      "\r",
      "Processing columns:   8%|▊         | 403/5273 [01:51<22:11,  3.66it/s]"
     ]
    },
    {
     "name": "stderr",
     "output_type": "stream",
     "text": [
      "\r",
      "Processing columns:   8%|▊         | 404/5273 [01:51<21:00,  3.86it/s]"
     ]
    },
    {
     "name": "stderr",
     "output_type": "stream",
     "text": [
      "\r",
      "Processing columns:   8%|▊         | 405/5273 [01:51<21:38,  3.75it/s]"
     ]
    },
    {
     "name": "stderr",
     "output_type": "stream",
     "text": [
      "\r",
      "Processing columns:   8%|▊         | 406/5273 [01:52<22:01,  3.68it/s]"
     ]
    },
    {
     "name": "stderr",
     "output_type": "stream",
     "text": [
      "\r",
      "Processing columns:   8%|▊         | 407/5273 [01:52<20:45,  3.91it/s]"
     ]
    },
    {
     "name": "stderr",
     "output_type": "stream",
     "text": [
      "\r",
      "Processing columns:   8%|▊         | 408/5273 [01:52<21:32,  3.76it/s]"
     ]
    },
    {
     "name": "stderr",
     "output_type": "stream",
     "text": [
      "\r",
      "Processing columns:   8%|▊         | 409/5273 [01:52<21:14,  3.82it/s]"
     ]
    },
    {
     "name": "stderr",
     "output_type": "stream",
     "text": [
      "\r",
      "Processing columns:   8%|▊         | 410/5273 [01:53<20:50,  3.89it/s]"
     ]
    },
    {
     "name": "stderr",
     "output_type": "stream",
     "text": [
      "\r",
      "Processing columns:   8%|▊         | 411/5273 [01:53<20:20,  3.98it/s]"
     ]
    },
    {
     "name": "stderr",
     "output_type": "stream",
     "text": [
      "\r",
      "Processing columns:   8%|▊         | 412/5273 [01:53<19:37,  4.13it/s]"
     ]
    },
    {
     "name": "stderr",
     "output_type": "stream",
     "text": [
      "\r",
      "Processing columns:   8%|▊         | 413/5273 [01:53<25:57,  3.12it/s]"
     ]
    },
    {
     "name": "stderr",
     "output_type": "stream",
     "text": [
      "\r",
      "Processing columns:   8%|▊         | 414/5273 [01:54<24:35,  3.29it/s]"
     ]
    },
    {
     "name": "stderr",
     "output_type": "stream",
     "text": [
      "\r",
      "Processing columns:   8%|▊         | 415/5273 [01:54<23:20,  3.47it/s]"
     ]
    },
    {
     "name": "stderr",
     "output_type": "stream",
     "text": [
      "\r",
      "Processing columns:   8%|▊         | 416/5273 [01:54<22:24,  3.61it/s]"
     ]
    },
    {
     "name": "stderr",
     "output_type": "stream",
     "text": [
      "\r",
      "Processing columns:   8%|▊         | 417/5273 [01:54<21:53,  3.70it/s]"
     ]
    },
    {
     "name": "stderr",
     "output_type": "stream",
     "text": [
      "\r",
      "Processing columns:   8%|▊         | 418/5273 [01:55<20:12,  4.00it/s]"
     ]
    },
    {
     "name": "stderr",
     "output_type": "stream",
     "text": [
      "\r",
      "Processing columns:   8%|▊         | 419/5273 [01:55<19:46,  4.09it/s]"
     ]
    },
    {
     "name": "stderr",
     "output_type": "stream",
     "text": [
      "\r",
      "Processing columns:   8%|▊         | 420/5273 [01:55<22:07,  3.65it/s]"
     ]
    },
    {
     "name": "stderr",
     "output_type": "stream",
     "text": [
      "\r",
      "Processing columns:   8%|▊         | 421/5273 [01:55<20:50,  3.88it/s]"
     ]
    },
    {
     "name": "stderr",
     "output_type": "stream",
     "text": [
      "\r",
      "Processing columns:   8%|▊         | 422/5273 [01:56<21:15,  3.80it/s]"
     ]
    },
    {
     "name": "stderr",
     "output_type": "stream",
     "text": [
      "\r",
      "Processing columns:   8%|▊         | 423/5273 [01:56<19:59,  4.04it/s]"
     ]
    },
    {
     "name": "stderr",
     "output_type": "stream",
     "text": [
      "\r",
      "Processing columns:   8%|▊         | 424/5273 [01:56<19:15,  4.20it/s]"
     ]
    },
    {
     "name": "stderr",
     "output_type": "stream",
     "text": [
      "\r",
      "Processing columns:   8%|▊         | 425/5273 [01:57<22:14,  3.63it/s]"
     ]
    },
    {
     "name": "stderr",
     "output_type": "stream",
     "text": [
      "\r",
      "Processing columns:   8%|▊         | 426/5273 [01:57<26:02,  3.10it/s]"
     ]
    },
    {
     "name": "stderr",
     "output_type": "stream",
     "text": [
      "\r",
      "Processing columns:   8%|▊         | 427/5273 [01:57<25:22,  3.18it/s]"
     ]
    },
    {
     "name": "stderr",
     "output_type": "stream",
     "text": [
      "\r",
      "Processing columns:   8%|▊         | 428/5273 [01:58<23:42,  3.41it/s]"
     ]
    },
    {
     "name": "stderr",
     "output_type": "stream",
     "text": [
      "\r",
      "Processing columns:   8%|▊         | 429/5273 [01:58<22:44,  3.55it/s]"
     ]
    },
    {
     "name": "stderr",
     "output_type": "stream",
     "text": [
      "\r",
      "Processing columns:   8%|▊         | 430/5273 [01:58<21:11,  3.81it/s]"
     ]
    },
    {
     "name": "stderr",
     "output_type": "stream",
     "text": [
      "\r",
      "Processing columns:   8%|▊         | 431/5273 [01:58<21:52,  3.69it/s]"
     ]
    },
    {
     "name": "stderr",
     "output_type": "stream",
     "text": [
      "\r",
      "Processing columns:   8%|▊         | 432/5273 [01:59<20:35,  3.92it/s]"
     ]
    },
    {
     "name": "stderr",
     "output_type": "stream",
     "text": [
      "\r",
      "Processing columns:   8%|▊         | 433/5273 [01:59<20:58,  3.85it/s]"
     ]
    },
    {
     "name": "stderr",
     "output_type": "stream",
     "text": [
      "\r",
      "Processing columns:   8%|▊         | 434/5273 [01:59<19:47,  4.08it/s]"
     ]
    },
    {
     "name": "stderr",
     "output_type": "stream",
     "text": [
      "\r",
      "Processing columns:   8%|▊         | 435/5273 [01:59<19:33,  4.12it/s]"
     ]
    },
    {
     "name": "stderr",
     "output_type": "stream",
     "text": [
      "\r",
      "Processing columns:   8%|▊         | 436/5273 [01:59<19:26,  4.15it/s]"
     ]
    },
    {
     "name": "stderr",
     "output_type": "stream",
     "text": [
      "\r",
      "Processing columns:   8%|▊         | 437/5273 [02:00<22:19,  3.61it/s]"
     ]
    },
    {
     "name": "stderr",
     "output_type": "stream",
     "text": [
      "\r",
      "Processing columns:   8%|▊         | 438/5273 [02:00<20:58,  3.84it/s]"
     ]
    },
    {
     "name": "stderr",
     "output_type": "stream",
     "text": [
      "\r",
      "Processing columns:   8%|▊         | 439/5273 [02:00<24:31,  3.29it/s]"
     ]
    },
    {
     "name": "stderr",
     "output_type": "stream",
     "text": [
      "\r",
      "Processing columns:   8%|▊         | 440/5273 [02:01<23:36,  3.41it/s]"
     ]
    },
    {
     "name": "stderr",
     "output_type": "stream",
     "text": [
      "\r",
      "Processing columns:   8%|▊         | 441/5273 [02:01<22:31,  3.57it/s]"
     ]
    },
    {
     "name": "stderr",
     "output_type": "stream",
     "text": [
      "\r",
      "Processing columns:   8%|▊         | 442/5273 [02:01<21:00,  3.83it/s]"
     ]
    },
    {
     "name": "stderr",
     "output_type": "stream",
     "text": [
      "\r",
      "Processing columns:   8%|▊         | 443/5273 [02:01<20:59,  3.83it/s]"
     ]
    },
    {
     "name": "stderr",
     "output_type": "stream",
     "text": [
      "\r",
      "Processing columns:   8%|▊         | 444/5273 [02:02<19:53,  4.04it/s]"
     ]
    },
    {
     "name": "stderr",
     "output_type": "stream",
     "text": [
      "\r",
      "Processing columns:   8%|▊         | 445/5273 [02:02<19:27,  4.14it/s]"
     ]
    },
    {
     "name": "stderr",
     "output_type": "stream",
     "text": [
      "\r",
      "Processing columns:   8%|▊         | 446/5273 [02:02<19:47,  4.07it/s]"
     ]
    },
    {
     "name": "stderr",
     "output_type": "stream",
     "text": [
      "\r",
      "Processing columns:   8%|▊         | 447/5273 [02:02<19:13,  4.18it/s]"
     ]
    },
    {
     "name": "stderr",
     "output_type": "stream",
     "text": [
      "\r",
      "Processing columns:   8%|▊         | 448/5273 [02:03<19:22,  4.15it/s]"
     ]
    },
    {
     "name": "stderr",
     "output_type": "stream",
     "text": [
      "\r",
      "Processing columns:   9%|▊         | 449/5273 [02:03<20:09,  3.99it/s]"
     ]
    },
    {
     "name": "stderr",
     "output_type": "stream",
     "text": [
      "\r",
      "Processing columns:   9%|▊         | 450/5273 [02:03<19:44,  4.07it/s]"
     ]
    },
    {
     "name": "stderr",
     "output_type": "stream",
     "text": [
      "\r",
      "Processing columns:   9%|▊         | 451/5273 [02:03<20:40,  3.89it/s]"
     ]
    },
    {
     "name": "stderr",
     "output_type": "stream",
     "text": [
      "\r",
      "Processing columns:   9%|▊         | 452/5273 [02:04<25:10,  3.19it/s]"
     ]
    },
    {
     "name": "stderr",
     "output_type": "stream",
     "text": [
      "\r",
      "Processing columns:   9%|▊         | 453/5273 [02:04<22:36,  3.55it/s]"
     ]
    },
    {
     "name": "stderr",
     "output_type": "stream",
     "text": [
      "\r",
      "Processing columns:   9%|▊         | 454/5273 [02:04<22:40,  3.54it/s]"
     ]
    },
    {
     "name": "stderr",
     "output_type": "stream",
     "text": [
      "\r",
      "Processing columns:   9%|▊         | 455/5273 [02:05<21:20,  3.76it/s]"
     ]
    },
    {
     "name": "stderr",
     "output_type": "stream",
     "text": [
      "\r",
      "Processing columns:   9%|▊         | 456/5273 [02:05<20:19,  3.95it/s]"
     ]
    },
    {
     "name": "stderr",
     "output_type": "stream",
     "text": [
      "\r",
      "Processing columns:   9%|▊         | 457/5273 [02:05<20:20,  3.94it/s]"
     ]
    },
    {
     "name": "stderr",
     "output_type": "stream",
     "text": [
      "\r",
      "Processing columns:   9%|▊         | 458/5273 [02:05<20:21,  3.94it/s]"
     ]
    },
    {
     "name": "stderr",
     "output_type": "stream",
     "text": [
      "\r",
      "Processing columns:   9%|▊         | 459/5273 [02:06<19:34,  4.10it/s]"
     ]
    },
    {
     "name": "stderr",
     "output_type": "stream",
     "text": [
      "\r",
      "Processing columns:   9%|▊         | 460/5273 [02:06<19:50,  4.04it/s]"
     ]
    },
    {
     "name": "stderr",
     "output_type": "stream",
     "text": [
      "\r",
      "Processing columns:   9%|▊         | 461/5273 [02:06<20:07,  3.99it/s]"
     ]
    },
    {
     "name": "stderr",
     "output_type": "stream",
     "text": [
      "\r",
      "Processing columns:   9%|▉         | 462/5273 [02:06<20:38,  3.88it/s]"
     ]
    },
    {
     "name": "stderr",
     "output_type": "stream",
     "text": [
      "\r",
      "Processing columns:   9%|▉         | 463/5273 [02:07<19:24,  4.13it/s]"
     ]
    },
    {
     "name": "stderr",
     "output_type": "stream",
     "text": [
      "\r",
      "Processing columns:   9%|▉         | 464/5273 [02:07<18:39,  4.30it/s]"
     ]
    },
    {
     "name": "stderr",
     "output_type": "stream",
     "text": [
      "\r",
      "Processing columns:   9%|▉         | 465/5273 [02:07<21:50,  3.67it/s]"
     ]
    },
    {
     "name": "stderr",
     "output_type": "stream",
     "text": [
      "\r",
      "Processing columns:   9%|▉         | 466/5273 [02:08<26:38,  3.01it/s]"
     ]
    },
    {
     "name": "stderr",
     "output_type": "stream",
     "text": [
      "\r",
      "Processing columns:   9%|▉         | 467/5273 [02:08<24:26,  3.28it/s]"
     ]
    },
    {
     "name": "stderr",
     "output_type": "stream",
     "text": [
      "\r",
      "Processing columns:   9%|▉         | 468/5273 [02:08<22:57,  3.49it/s]"
     ]
    },
    {
     "name": "stderr",
     "output_type": "stream",
     "text": [
      "\r",
      "Processing columns:   9%|▉         | 469/5273 [02:08<22:08,  3.62it/s]"
     ]
    },
    {
     "name": "stderr",
     "output_type": "stream",
     "text": [
      "\r",
      "Processing columns:   9%|▉         | 470/5273 [02:09<21:06,  3.79it/s]"
     ]
    },
    {
     "name": "stderr",
     "output_type": "stream",
     "text": [
      "\r",
      "Processing columns:   9%|▉         | 471/5273 [02:09<20:13,  3.96it/s]"
     ]
    },
    {
     "name": "stderr",
     "output_type": "stream",
     "text": [
      "\r",
      "Processing columns:   9%|▉         | 472/5273 [02:09<19:23,  4.13it/s]"
     ]
    },
    {
     "name": "stderr",
     "output_type": "stream",
     "text": [
      "\r",
      "Processing columns:   9%|▉         | 473/5273 [02:09<19:42,  4.06it/s]"
     ]
    },
    {
     "name": "stderr",
     "output_type": "stream",
     "text": [
      "\r",
      "Processing columns:   9%|▉         | 474/5273 [02:09<19:25,  4.12it/s]"
     ]
    },
    {
     "name": "stderr",
     "output_type": "stream",
     "text": [
      "\r",
      "Processing columns:   9%|▉         | 475/5273 [02:10<18:44,  4.27it/s]"
     ]
    },
    {
     "name": "stderr",
     "output_type": "stream",
     "text": [
      "\r",
      "Processing columns:   9%|▉         | 476/5273 [02:10<18:58,  4.22it/s]"
     ]
    },
    {
     "name": "stderr",
     "output_type": "stream",
     "text": [
      "\r",
      "Processing columns:   9%|▉         | 477/5273 [02:10<21:07,  3.78it/s]"
     ]
    },
    {
     "name": "stderr",
     "output_type": "stream",
     "text": [
      "\r",
      "Processing columns:   9%|▉         | 478/5273 [02:11<21:23,  3.74it/s]"
     ]
    },
    {
     "name": "stderr",
     "output_type": "stream",
     "text": [
      "\r",
      "Processing columns:   9%|▉         | 479/5273 [02:11<25:57,  3.08it/s]"
     ]
    },
    {
     "name": "stderr",
     "output_type": "stream",
     "text": [
      "\r",
      "Processing columns:   9%|▉         | 480/5273 [02:11<23:28,  3.40it/s]"
     ]
    },
    {
     "name": "stderr",
     "output_type": "stream",
     "text": [
      "\r",
      "Processing columns:   9%|▉         | 481/5273 [02:11<22:03,  3.62it/s]"
     ]
    },
    {
     "name": "stderr",
     "output_type": "stream",
     "text": [
      "\r",
      "Processing columns:   9%|▉         | 482/5273 [02:12<21:19,  3.74it/s]"
     ]
    },
    {
     "name": "stderr",
     "output_type": "stream",
     "text": [
      "\r",
      "Processing columns:   9%|▉         | 483/5273 [02:12<20:14,  3.94it/s]"
     ]
    },
    {
     "name": "stderr",
     "output_type": "stream",
     "text": [
      "\r",
      "Processing columns:   9%|▉         | 484/5273 [02:12<22:40,  3.52it/s]"
     ]
    },
    {
     "name": "stderr",
     "output_type": "stream",
     "text": [
      "\r",
      "Processing columns:   9%|▉         | 485/5273 [02:12<21:05,  3.78it/s]"
     ]
    },
    {
     "name": "stderr",
     "output_type": "stream",
     "text": [
      "\r",
      "Processing columns:   9%|▉         | 486/5273 [02:13<20:46,  3.84it/s]"
     ]
    },
    {
     "name": "stderr",
     "output_type": "stream",
     "text": [
      "\r",
      "Processing columns:   9%|▉         | 487/5273 [02:13<20:21,  3.92it/s]"
     ]
    },
    {
     "name": "stderr",
     "output_type": "stream",
     "text": [
      "\r",
      "Processing columns:   9%|▉         | 488/5273 [02:13<20:23,  3.91it/s]"
     ]
    },
    {
     "name": "stderr",
     "output_type": "stream",
     "text": [
      "\r",
      "Processing columns:   9%|▉         | 489/5273 [02:13<20:20,  3.92it/s]"
     ]
    },
    {
     "name": "stderr",
     "output_type": "stream",
     "text": [
      "\r",
      "Processing columns:   9%|▉         | 490/5273 [02:14<19:47,  4.03it/s]"
     ]
    },
    {
     "name": "stderr",
     "output_type": "stream",
     "text": [
      "\r",
      "Processing columns:   9%|▉         | 491/5273 [02:14<20:46,  3.84it/s]"
     ]
    },
    {
     "name": "stderr",
     "output_type": "stream",
     "text": [
      "\r",
      "Processing columns:   9%|▉         | 492/5273 [02:14<24:07,  3.30it/s]"
     ]
    },
    {
     "name": "stderr",
     "output_type": "stream",
     "text": [
      "\r",
      "Processing columns:   9%|▉         | 493/5273 [02:15<21:52,  3.64it/s]"
     ]
    },
    {
     "name": "stderr",
     "output_type": "stream",
     "text": [
      "\r",
      "Processing columns:   9%|▉         | 494/5273 [02:15<20:44,  3.84it/s]"
     ]
    },
    {
     "name": "stderr",
     "output_type": "stream",
     "text": [
      "\r",
      "Processing columns:   9%|▉         | 495/5273 [02:15<21:25,  3.72it/s]"
     ]
    },
    {
     "name": "stderr",
     "output_type": "stream",
     "text": [
      "\r",
      "Processing columns:   9%|▉         | 496/5273 [02:15<19:58,  3.99it/s]"
     ]
    },
    {
     "name": "stderr",
     "output_type": "stream",
     "text": [
      "\r",
      "Processing columns:   9%|▉         | 497/5273 [02:16<23:11,  3.43it/s]"
     ]
    },
    {
     "name": "stderr",
     "output_type": "stream",
     "text": [
      "\r",
      "Processing columns:   9%|▉         | 498/5273 [02:16<22:47,  3.49it/s]"
     ]
    },
    {
     "name": "stderr",
     "output_type": "stream",
     "text": [
      "\r",
      "Processing columns:   9%|▉         | 499/5273 [02:16<20:57,  3.80it/s]"
     ]
    },
    {
     "name": "stderr",
     "output_type": "stream",
     "text": [
      "\r",
      "Processing columns:   9%|▉         | 500/5273 [02:16<20:37,  3.86it/s]"
     ]
    },
    {
     "name": "stderr",
     "output_type": "stream",
     "text": [
      "\r",
      "Processing columns:  10%|▉         | 501/5273 [02:17<20:04,  3.96it/s]"
     ]
    },
    {
     "name": "stderr",
     "output_type": "stream",
     "text": [
      "\r",
      "Processing columns:  10%|▉         | 502/5273 [02:17<18:41,  4.25it/s]"
     ]
    },
    {
     "name": "stderr",
     "output_type": "stream",
     "text": [
      "\r",
      "Processing columns:  10%|▉         | 503/5273 [02:17<19:01,  4.18it/s]"
     ]
    },
    {
     "name": "stderr",
     "output_type": "stream",
     "text": [
      "\r",
      "Processing columns:  10%|▉         | 504/5273 [02:17<21:20,  3.72it/s]"
     ]
    },
    {
     "name": "stderr",
     "output_type": "stream",
     "text": [
      "\r",
      "Processing columns:  10%|▉         | 505/5273 [02:18<24:52,  3.19it/s]"
     ]
    },
    {
     "name": "stderr",
     "output_type": "stream",
     "text": [
      "\r",
      "Processing columns:  10%|▉         | 506/5273 [02:18<23:04,  3.44it/s]"
     ]
    },
    {
     "name": "stderr",
     "output_type": "stream",
     "text": [
      "\r",
      "Processing columns:  10%|▉         | 507/5273 [02:18<21:46,  3.65it/s]"
     ]
    },
    {
     "name": "stderr",
     "output_type": "stream",
     "text": [
      "\r",
      "Processing columns:  10%|▉         | 508/5273 [02:19<21:14,  3.74it/s]"
     ]
    },
    {
     "name": "stderr",
     "output_type": "stream",
     "text": [
      "\r",
      "Processing columns:  10%|▉         | 509/5273 [02:19<20:52,  3.80it/s]"
     ]
    },
    {
     "name": "stderr",
     "output_type": "stream",
     "text": [
      "\r",
      "Processing columns:  10%|▉         | 510/5273 [02:19<20:13,  3.93it/s]"
     ]
    },
    {
     "name": "stderr",
     "output_type": "stream",
     "text": [
      "\r",
      "Processing columns:  10%|▉         | 511/5273 [02:19<19:36,  4.05it/s]"
     ]
    },
    {
     "name": "stderr",
     "output_type": "stream",
     "text": [
      "\r",
      "Processing columns:  10%|▉         | 512/5273 [02:20<18:28,  4.30it/s]"
     ]
    },
    {
     "name": "stderr",
     "output_type": "stream",
     "text": [
      "\r",
      "Processing columns:  10%|▉         | 513/5273 [02:20<18:17,  4.34it/s]"
     ]
    },
    {
     "name": "stderr",
     "output_type": "stream",
     "text": [
      "\r",
      "Processing columns:  10%|▉         | 514/5273 [02:20<20:10,  3.93it/s]"
     ]
    },
    {
     "name": "stderr",
     "output_type": "stream",
     "text": [
      "\r",
      "Processing columns:  10%|▉         | 515/5273 [02:20<19:53,  3.99it/s]"
     ]
    },
    {
     "name": "stderr",
     "output_type": "stream",
     "text": [
      "\r",
      "Processing columns:  10%|▉         | 516/5273 [02:21<19:15,  4.12it/s]"
     ]
    },
    {
     "name": "stderr",
     "output_type": "stream",
     "text": [
      "\r",
      "Processing columns:  10%|▉         | 517/5273 [02:21<19:51,  3.99it/s]"
     ]
    },
    {
     "name": "stderr",
     "output_type": "stream",
     "text": [
      "\r",
      "Processing columns:  10%|▉         | 518/5273 [02:21<24:51,  3.19it/s]"
     ]
    },
    {
     "name": "stderr",
     "output_type": "stream",
     "text": [
      "\r",
      "Processing columns:  10%|▉         | 519/5273 [02:22<23:53,  3.32it/s]"
     ]
    },
    {
     "name": "stderr",
     "output_type": "stream",
     "text": [
      "\r",
      "Processing columns:  10%|▉         | 520/5273 [02:22<22:36,  3.50it/s]"
     ]
    },
    {
     "name": "stderr",
     "output_type": "stream",
     "text": [
      "\r",
      "Processing columns:  10%|▉         | 521/5273 [02:22<21:59,  3.60it/s]"
     ]
    },
    {
     "name": "stderr",
     "output_type": "stream",
     "text": [
      "\r",
      "Processing columns:  10%|▉         | 522/5273 [02:22<21:05,  3.76it/s]"
     ]
    },
    {
     "name": "stderr",
     "output_type": "stream",
     "text": [
      "\r",
      "Processing columns:  10%|▉         | 523/5273 [02:23<20:10,  3.92it/s]"
     ]
    },
    {
     "name": "stderr",
     "output_type": "stream",
     "text": [
      "\r",
      "Processing columns:  10%|▉         | 524/5273 [02:23<21:31,  3.68it/s]"
     ]
    },
    {
     "name": "stderr",
     "output_type": "stream",
     "text": [
      "\r",
      "Processing columns:  10%|▉         | 525/5273 [02:23<20:58,  3.77it/s]"
     ]
    },
    {
     "name": "stderr",
     "output_type": "stream",
     "text": [
      "\r",
      "Processing columns:  10%|▉         | 526/5273 [02:23<20:02,  3.95it/s]"
     ]
    },
    {
     "name": "stderr",
     "output_type": "stream",
     "text": [
      "\r",
      "Processing columns:  10%|▉         | 527/5273 [02:24<19:17,  4.10it/s]"
     ]
    },
    {
     "name": "stderr",
     "output_type": "stream",
     "text": [
      "\r",
      "Processing columns:  10%|█         | 528/5273 [02:24<19:52,  3.98it/s]"
     ]
    },
    {
     "name": "stderr",
     "output_type": "stream",
     "text": [
      "\r",
      "Processing columns:  10%|█         | 529/5273 [02:24<19:42,  4.01it/s]"
     ]
    },
    {
     "name": "stderr",
     "output_type": "stream",
     "text": [
      "\r",
      "Processing columns:  10%|█         | 530/5273 [02:24<19:29,  4.05it/s]"
     ]
    },
    {
     "name": "stderr",
     "output_type": "stream",
     "text": [
      "\r",
      "Processing columns:  10%|█         | 531/5273 [02:25<19:22,  4.08it/s]"
     ]
    },
    {
     "name": "stderr",
     "output_type": "stream",
     "text": [
      "\r",
      "Processing columns:  10%|█         | 532/5273 [02:25<24:56,  3.17it/s]"
     ]
    },
    {
     "name": "stderr",
     "output_type": "stream",
     "text": [
      "\r",
      "Processing columns:  10%|█         | 533/5273 [02:25<23:41,  3.33it/s]"
     ]
    },
    {
     "name": "stderr",
     "output_type": "stream",
     "text": [
      "\r",
      "Processing columns:  10%|█         | 534/5273 [02:25<21:51,  3.61it/s]"
     ]
    },
    {
     "name": "stderr",
     "output_type": "stream",
     "text": [
      "\r",
      "Processing columns:  10%|█         | 535/5273 [02:26<21:29,  3.67it/s]"
     ]
    },
    {
     "name": "stderr",
     "output_type": "stream",
     "text": [
      "\r",
      "Processing columns:  10%|█         | 536/5273 [02:26<20:34,  3.84it/s]"
     ]
    },
    {
     "name": "stderr",
     "output_type": "stream",
     "text": [
      "\r",
      "Processing columns:  10%|█         | 537/5273 [02:26<20:48,  3.79it/s]"
     ]
    },
    {
     "name": "stderr",
     "output_type": "stream",
     "text": [
      "\r",
      "Processing columns:  10%|█         | 538/5273 [02:26<19:56,  3.96it/s]"
     ]
    },
    {
     "name": "stderr",
     "output_type": "stream",
     "text": [
      "\r",
      "Processing columns:  10%|█         | 539/5273 [02:27<19:48,  3.98it/s]"
     ]
    },
    {
     "name": "stderr",
     "output_type": "stream",
     "text": [
      "\r",
      "Processing columns:  10%|█         | 540/5273 [02:27<19:25,  4.06it/s]"
     ]
    },
    {
     "name": "stderr",
     "output_type": "stream",
     "text": [
      "\r",
      "Processing columns:  10%|█         | 541/5273 [02:27<20:30,  3.85it/s]"
     ]
    },
    {
     "name": "stderr",
     "output_type": "stream",
     "text": [
      "\r",
      "Processing columns:  10%|█         | 542/5273 [02:27<19:48,  3.98it/s]"
     ]
    },
    {
     "name": "stderr",
     "output_type": "stream",
     "text": [
      "\r",
      "Processing columns:  10%|█         | 543/5273 [02:28<18:53,  4.17it/s]"
     ]
    },
    {
     "name": "stderr",
     "output_type": "stream",
     "text": [
      "\r",
      "Processing columns:  10%|█         | 544/5273 [02:28<19:56,  3.95it/s]"
     ]
    },
    {
     "name": "stderr",
     "output_type": "stream",
     "text": [
      "\r",
      "Processing columns:  10%|█         | 545/5273 [02:28<25:48,  3.05it/s]"
     ]
    },
    {
     "name": "stderr",
     "output_type": "stream",
     "text": [
      "\r",
      "Processing columns:  10%|█         | 546/5273 [02:29<23:13,  3.39it/s]"
     ]
    },
    {
     "name": "stderr",
     "output_type": "stream",
     "text": [
      "\r",
      "Processing columns:  10%|█         | 547/5273 [02:29<25:10,  3.13it/s]"
     ]
    },
    {
     "name": "stderr",
     "output_type": "stream",
     "text": [
      "\r",
      "Processing columns:  10%|█         | 548/5273 [02:29<24:48,  3.17it/s]"
     ]
    },
    {
     "name": "stderr",
     "output_type": "stream",
     "text": [
      "\r",
      "Processing columns:  10%|█         | 549/5273 [02:30<22:06,  3.56it/s]"
     ]
    },
    {
     "name": "stderr",
     "output_type": "stream",
     "text": [
      "\r",
      "Processing columns:  10%|█         | 550/5273 [02:30<20:20,  3.87it/s]"
     ]
    },
    {
     "name": "stderr",
     "output_type": "stream",
     "text": [
      "\r",
      "Processing columns:  10%|█         | 551/5273 [02:30<22:37,  3.48it/s]"
     ]
    },
    {
     "name": "stderr",
     "output_type": "stream",
     "text": [
      "\r",
      "Processing columns:  10%|█         | 552/5273 [02:30<21:42,  3.62it/s]"
     ]
    },
    {
     "name": "stderr",
     "output_type": "stream",
     "text": [
      "\r",
      "Processing columns:  10%|█         | 553/5273 [02:31<20:02,  3.93it/s]"
     ]
    },
    {
     "name": "stderr",
     "output_type": "stream",
     "text": [
      "\r",
      "Processing columns:  11%|█         | 554/5273 [02:31<20:55,  3.76it/s]"
     ]
    },
    {
     "name": "stderr",
     "output_type": "stream",
     "text": [
      "\r",
      "Processing columns:  11%|█         | 555/5273 [02:31<19:39,  4.00it/s]"
     ]
    },
    {
     "name": "stderr",
     "output_type": "stream",
     "text": [
      "\r",
      "Processing columns:  11%|█         | 556/5273 [02:31<19:13,  4.09it/s]"
     ]
    },
    {
     "name": "stderr",
     "output_type": "stream",
     "text": [
      "\r",
      "Processing columns:  11%|█         | 557/5273 [02:32<21:05,  3.73it/s]"
     ]
    },
    {
     "name": "stderr",
     "output_type": "stream",
     "text": [
      "\r",
      "Processing columns:  11%|█         | 558/5273 [02:32<26:43,  2.94it/s]"
     ]
    },
    {
     "name": "stderr",
     "output_type": "stream",
     "text": [
      "\r",
      "Processing columns:  11%|█         | 559/5273 [02:32<24:13,  3.24it/s]"
     ]
    },
    {
     "name": "stderr",
     "output_type": "stream",
     "text": [
      "\r",
      "Processing columns:  11%|█         | 560/5273 [02:33<22:19,  3.52it/s]"
     ]
    },
    {
     "name": "stderr",
     "output_type": "stream",
     "text": [
      "\r",
      "Processing columns:  11%|█         | 561/5273 [02:33<23:13,  3.38it/s]"
     ]
    },
    {
     "name": "stderr",
     "output_type": "stream",
     "text": [
      "\r",
      "Processing columns:  11%|█         | 562/5273 [02:33<21:31,  3.65it/s]"
     ]
    },
    {
     "name": "stderr",
     "output_type": "stream",
     "text": [
      "\r",
      "Processing columns:  11%|█         | 563/5273 [02:34<22:52,  3.43it/s]"
     ]
    },
    {
     "name": "stderr",
     "output_type": "stream",
     "text": [
      "\r",
      "Processing columns:  11%|█         | 564/5273 [02:34<22:26,  3.50it/s]"
     ]
    },
    {
     "name": "stderr",
     "output_type": "stream",
     "text": [
      "\r",
      "Processing columns:  11%|█         | 565/5273 [02:34<20:47,  3.77it/s]"
     ]
    },
    {
     "name": "stderr",
     "output_type": "stream",
     "text": [
      "\r",
      "Processing columns:  11%|█         | 566/5273 [02:34<20:23,  3.85it/s]"
     ]
    },
    {
     "name": "stderr",
     "output_type": "stream",
     "text": [
      "\r",
      "Processing columns:  11%|█         | 567/5273 [02:34<19:47,  3.96it/s]"
     ]
    },
    {
     "name": "stderr",
     "output_type": "stream",
     "text": [
      "\r",
      "Processing columns:  11%|█         | 568/5273 [02:35<19:15,  4.07it/s]"
     ]
    },
    {
     "name": "stderr",
     "output_type": "stream",
     "text": [
      "\r",
      "Processing columns:  11%|█         | 569/5273 [02:35<20:56,  3.74it/s]"
     ]
    },
    {
     "name": "stderr",
     "output_type": "stream",
     "text": [
      "\r",
      "Processing columns:  11%|█         | 570/5273 [02:35<20:23,  3.84it/s]"
     ]
    },
    {
     "name": "stderr",
     "output_type": "stream",
     "text": [
      "\r",
      "Processing columns:  11%|█         | 571/5273 [02:36<24:45,  3.17it/s]"
     ]
    },
    {
     "name": "stderr",
     "output_type": "stream",
     "text": [
      "\r",
      "Processing columns:  11%|█         | 572/5273 [02:36<21:58,  3.57it/s]"
     ]
    },
    {
     "name": "stderr",
     "output_type": "stream",
     "text": [
      "\r",
      "Processing columns:  11%|█         | 573/5273 [02:36<20:45,  3.77it/s]"
     ]
    },
    {
     "name": "stderr",
     "output_type": "stream",
     "text": [
      "\r",
      "Processing columns:  11%|█         | 574/5273 [02:36<20:02,  3.91it/s]"
     ]
    },
    {
     "name": "stderr",
     "output_type": "stream",
     "text": [
      "\r",
      "Processing columns:  11%|█         | 575/5273 [02:37<20:30,  3.82it/s]"
     ]
    },
    {
     "name": "stderr",
     "output_type": "stream",
     "text": [
      "\r",
      "Processing columns:  11%|█         | 576/5273 [02:37<22:02,  3.55it/s]"
     ]
    },
    {
     "name": "stderr",
     "output_type": "stream",
     "text": [
      "\r",
      "Processing columns:  11%|█         | 577/5273 [02:37<20:19,  3.85it/s]"
     ]
    },
    {
     "name": "stderr",
     "output_type": "stream",
     "text": [
      "\r",
      "Processing columns:  11%|█         | 578/5273 [02:37<20:37,  3.80it/s]"
     ]
    },
    {
     "name": "stderr",
     "output_type": "stream",
     "text": [
      "\r",
      "Processing columns:  11%|█         | 579/5273 [02:38<19:23,  4.03it/s]"
     ]
    },
    {
     "name": "stderr",
     "output_type": "stream",
     "text": [
      "\r",
      "Processing columns:  11%|█         | 580/5273 [02:38<22:10,  3.53it/s]"
     ]
    },
    {
     "name": "stderr",
     "output_type": "stream",
     "text": [
      "\r",
      "Processing columns:  11%|█         | 581/5273 [02:38<21:34,  3.62it/s]"
     ]
    },
    {
     "name": "stderr",
     "output_type": "stream",
     "text": [
      "\r",
      "Processing columns:  11%|█         | 582/5273 [02:39<20:07,  3.89it/s]"
     ]
    },
    {
     "name": "stderr",
     "output_type": "stream",
     "text": [
      "\r",
      "Processing columns:  11%|█         | 583/5273 [02:39<19:55,  3.92it/s]"
     ]
    },
    {
     "name": "stderr",
     "output_type": "stream",
     "text": [
      "\r",
      "Processing columns:  11%|█         | 584/5273 [02:39<25:02,  3.12it/s]"
     ]
    },
    {
     "name": "stderr",
     "output_type": "stream",
     "text": [
      "\r",
      "Processing columns:  11%|█         | 585/5273 [02:40<23:40,  3.30it/s]"
     ]
    },
    {
     "name": "stderr",
     "output_type": "stream",
     "text": [
      "\r",
      "Processing columns:  11%|█         | 586/5273 [02:40<22:18,  3.50it/s]"
     ]
    },
    {
     "name": "stderr",
     "output_type": "stream",
     "text": [
      "\r",
      "Processing columns:  11%|█         | 587/5273 [02:40<21:00,  3.72it/s]"
     ]
    },
    {
     "name": "stderr",
     "output_type": "stream",
     "text": [
      "\r",
      "Processing columns:  11%|█         | 588/5273 [02:40<20:24,  3.83it/s]"
     ]
    },
    {
     "name": "stderr",
     "output_type": "stream",
     "text": [
      "\r",
      "Processing columns:  11%|█         | 589/5273 [02:40<19:26,  4.01it/s]"
     ]
    },
    {
     "name": "stderr",
     "output_type": "stream",
     "text": [
      "\r",
      "Processing columns:  11%|█         | 590/5273 [02:41<19:33,  3.99it/s]"
     ]
    },
    {
     "name": "stderr",
     "output_type": "stream",
     "text": [
      "\r",
      "Processing columns:  11%|█         | 591/5273 [02:41<18:43,  4.17it/s]"
     ]
    },
    {
     "name": "stderr",
     "output_type": "stream",
     "text": [
      "\r",
      "Processing columns:  11%|█         | 592/5273 [02:41<18:44,  4.16it/s]"
     ]
    },
    {
     "name": "stderr",
     "output_type": "stream",
     "text": [
      "\r",
      "Processing columns:  11%|█         | 593/5273 [02:41<18:44,  4.16it/s]"
     ]
    },
    {
     "name": "stderr",
     "output_type": "stream",
     "text": [
      "\r",
      "Processing columns:  11%|█▏        | 594/5273 [02:42<19:50,  3.93it/s]"
     ]
    },
    {
     "name": "stderr",
     "output_type": "stream",
     "text": [
      "\r",
      "Processing columns:  11%|█▏        | 595/5273 [02:42<18:51,  4.14it/s]"
     ]
    },
    {
     "name": "stderr",
     "output_type": "stream",
     "text": [
      "\r",
      "Processing columns:  11%|█▏        | 596/5273 [02:42<21:37,  3.61it/s]"
     ]
    },
    {
     "name": "stderr",
     "output_type": "stream",
     "text": [
      "\r",
      "Processing columns:  11%|█▏        | 597/5273 [02:43<25:19,  3.08it/s]"
     ]
    },
    {
     "name": "stderr",
     "output_type": "stream",
     "text": [
      "\r",
      "Processing columns:  11%|█▏        | 598/5273 [02:43<23:26,  3.32it/s]"
     ]
    },
    {
     "name": "stderr",
     "output_type": "stream",
     "text": [
      "\r",
      "Processing columns:  11%|█▏        | 599/5273 [02:43<21:31,  3.62it/s]"
     ]
    },
    {
     "name": "stderr",
     "output_type": "stream",
     "text": [
      "\r",
      "Processing columns:  11%|█▏        | 600/5273 [02:43<21:28,  3.63it/s]"
     ]
    },
    {
     "name": "stderr",
     "output_type": "stream",
     "text": [
      "\r",
      "Processing columns:  11%|█▏        | 601/5273 [02:44<20:32,  3.79it/s]"
     ]
    },
    {
     "name": "stderr",
     "output_type": "stream",
     "text": [
      "\r",
      "Processing columns:  11%|█▏        | 602/5273 [02:44<20:19,  3.83it/s]"
     ]
    },
    {
     "name": "stderr",
     "output_type": "stream",
     "text": [
      "\r",
      "Processing columns:  11%|█▏        | 603/5273 [02:44<18:57,  4.11it/s]"
     ]
    },
    {
     "name": "stderr",
     "output_type": "stream",
     "text": [
      "\r",
      "Processing columns:  11%|█▏        | 604/5273 [02:44<18:35,  4.19it/s]"
     ]
    },
    {
     "name": "stderr",
     "output_type": "stream",
     "text": [
      "\r",
      "Processing columns:  11%|█▏        | 605/5273 [02:45<20:32,  3.79it/s]"
     ]
    },
    {
     "name": "stderr",
     "output_type": "stream",
     "text": [
      "\r",
      "Processing columns:  11%|█▏        | 606/5273 [02:45<19:16,  4.03it/s]"
     ]
    },
    {
     "name": "stderr",
     "output_type": "stream",
     "text": [
      "\r",
      "Processing columns:  12%|█▏        | 607/5273 [02:45<19:20,  4.02it/s]"
     ]
    },
    {
     "name": "stderr",
     "output_type": "stream",
     "text": [
      "\r",
      "Processing columns:  12%|█▏        | 608/5273 [02:45<19:20,  4.02it/s]"
     ]
    },
    {
     "name": "stderr",
     "output_type": "stream",
     "text": [
      "\r",
      "Processing columns:  12%|█▏        | 609/5273 [02:46<19:17,  4.03it/s]"
     ]
    },
    {
     "name": "stderr",
     "output_type": "stream",
     "text": [
      "\r",
      "Processing columns:  12%|█▏        | 610/5273 [02:46<22:57,  3.39it/s]"
     ]
    },
    {
     "name": "stderr",
     "output_type": "stream",
     "text": [
      "\r",
      "Processing columns:  12%|█▏        | 611/5273 [02:46<23:34,  3.30it/s]"
     ]
    },
    {
     "name": "stderr",
     "output_type": "stream",
     "text": [
      "\r",
      "Processing columns:  12%|█▏        | 612/5273 [02:47<22:04,  3.52it/s]"
     ]
    },
    {
     "name": "stderr",
     "output_type": "stream",
     "text": [
      "\r",
      "Processing columns:  12%|█▏        | 613/5273 [02:47<20:52,  3.72it/s]"
     ]
    },
    {
     "name": "stderr",
     "output_type": "stream",
     "text": [
      "\r",
      "Processing columns:  12%|█▏        | 614/5273 [02:47<19:58,  3.89it/s]"
     ]
    },
    {
     "name": "stderr",
     "output_type": "stream",
     "text": [
      "\r",
      "Processing columns:  12%|█▏        | 615/5273 [02:47<19:02,  4.08it/s]"
     ]
    },
    {
     "name": "stderr",
     "output_type": "stream",
     "text": [
      "\r",
      "Processing columns:  12%|█▏        | 616/5273 [02:48<18:42,  4.15it/s]"
     ]
    },
    {
     "name": "stderr",
     "output_type": "stream",
     "text": [
      "\r",
      "Processing columns:  12%|█▏        | 617/5273 [02:48<20:16,  3.83it/s]"
     ]
    },
    {
     "name": "stderr",
     "output_type": "stream",
     "text": [
      "\r",
      "Processing columns:  12%|█▏        | 618/5273 [02:48<19:10,  4.05it/s]"
     ]
    },
    {
     "name": "stderr",
     "output_type": "stream",
     "text": [
      "\r",
      "Processing columns:  12%|█▏        | 619/5273 [02:48<23:09,  3.35it/s]"
     ]
    },
    {
     "name": "stderr",
     "output_type": "stream",
     "text": [
      "\r",
      "Processing columns:  12%|█▏        | 620/5273 [02:49<21:13,  3.65it/s]"
     ]
    },
    {
     "name": "stderr",
     "output_type": "stream",
     "text": [
      "\r",
      "Processing columns:  12%|█▏        | 621/5273 [02:49<19:38,  3.95it/s]"
     ]
    },
    {
     "name": "stderr",
     "output_type": "stream",
     "text": [
      "\r",
      "Processing columns:  12%|█▏        | 622/5273 [02:49<21:56,  3.53it/s]"
     ]
    },
    {
     "name": "stderr",
     "output_type": "stream",
     "text": [
      "\r",
      "Processing columns:  12%|█▏        | 623/5273 [02:49<20:41,  3.75it/s]"
     ]
    },
    {
     "name": "stderr",
     "output_type": "stream",
     "text": [
      "\r",
      "Processing columns:  12%|█▏        | 624/5273 [02:50<24:03,  3.22it/s]"
     ]
    },
    {
     "name": "stderr",
     "output_type": "stream",
     "text": [
      "\r",
      "Processing columns:  12%|█▏        | 625/5273 [02:50<24:51,  3.12it/s]"
     ]
    },
    {
     "name": "stderr",
     "output_type": "stream",
     "text": [
      "\r",
      "Processing columns:  12%|█▏        | 626/5273 [02:50<22:41,  3.41it/s]"
     ]
    },
    {
     "name": "stderr",
     "output_type": "stream",
     "text": [
      "\r",
      "Processing columns:  12%|█▏        | 627/5273 [02:51<21:31,  3.60it/s]"
     ]
    },
    {
     "name": "stderr",
     "output_type": "stream",
     "text": [
      "\r",
      "Processing columns:  12%|█▏        | 628/5273 [02:51<20:48,  3.72it/s]"
     ]
    },
    {
     "name": "stderr",
     "output_type": "stream",
     "text": [
      "\r",
      "Processing columns:  12%|█▏        | 629/5273 [02:51<20:07,  3.85it/s]"
     ]
    },
    {
     "name": "stderr",
     "output_type": "stream",
     "text": [
      "\r",
      "Processing columns:  12%|█▏        | 630/5273 [02:51<21:06,  3.67it/s]"
     ]
    },
    {
     "name": "stderr",
     "output_type": "stream",
     "text": [
      "\r",
      "Processing columns:  12%|█▏        | 631/5273 [02:52<19:59,  3.87it/s]"
     ]
    },
    {
     "name": "stderr",
     "output_type": "stream",
     "text": [
      "\r",
      "Processing columns:  12%|█▏        | 632/5273 [02:52<19:27,  3.97it/s]"
     ]
    },
    {
     "name": "stderr",
     "output_type": "stream",
     "text": [
      "\r",
      "Processing columns:  12%|█▏        | 633/5273 [02:52<18:26,  4.19it/s]"
     ]
    },
    {
     "name": "stderr",
     "output_type": "stream",
     "text": [
      "\r",
      "Processing columns:  12%|█▏        | 634/5273 [02:52<20:22,  3.79it/s]"
     ]
    },
    {
     "name": "stderr",
     "output_type": "stream",
     "text": [
      "\r",
      "Processing columns:  12%|█▏        | 635/5273 [02:53<20:31,  3.77it/s]"
     ]
    },
    {
     "name": "stderr",
     "output_type": "stream",
     "text": [
      "\r",
      "Processing columns:  12%|█▏        | 636/5273 [02:53<20:59,  3.68it/s]"
     ]
    },
    {
     "name": "stderr",
     "output_type": "stream",
     "text": [
      "\r",
      "Processing columns:  12%|█▏        | 637/5273 [02:54<26:12,  2.95it/s]"
     ]
    },
    {
     "name": "stderr",
     "output_type": "stream",
     "text": [
      "\r",
      "Processing columns:  12%|█▏        | 638/5273 [02:54<23:36,  3.27it/s]"
     ]
    },
    {
     "name": "stderr",
     "output_type": "stream",
     "text": [
      "\r",
      "Processing columns:  12%|█▏        | 639/5273 [02:54<24:38,  3.13it/s]"
     ]
    },
    {
     "name": "stderr",
     "output_type": "stream",
     "text": [
      "\r",
      "Processing columns:  12%|█▏        | 640/5273 [02:54<22:10,  3.48it/s]"
     ]
    },
    {
     "name": "stderr",
     "output_type": "stream",
     "text": [
      "\r",
      "Processing columns:  12%|█▏        | 641/5273 [02:55<23:21,  3.30it/s]"
     ]
    },
    {
     "name": "stderr",
     "output_type": "stream",
     "text": [
      "\r",
      "Processing columns:  12%|█▏        | 642/5273 [02:55<21:59,  3.51it/s]"
     ]
    },
    {
     "name": "stderr",
     "output_type": "stream",
     "text": [
      "\r",
      "Processing columns:  12%|█▏        | 643/5273 [02:55<20:03,  3.85it/s]"
     ]
    },
    {
     "name": "stderr",
     "output_type": "stream",
     "text": [
      "\r",
      "Processing columns:  12%|█▏        | 644/5273 [02:55<22:10,  3.48it/s]"
     ]
    },
    {
     "name": "stderr",
     "output_type": "stream",
     "text": [
      "\r",
      "Processing columns:  12%|█▏        | 645/5273 [02:56<20:35,  3.75it/s]"
     ]
    },
    {
     "name": "stderr",
     "output_type": "stream",
     "text": [
      "\r",
      "Processing columns:  12%|█▏        | 646/5273 [02:56<22:29,  3.43it/s]"
     ]
    },
    {
     "name": "stderr",
     "output_type": "stream",
     "text": [
      "\r",
      "Processing columns:  12%|█▏        | 647/5273 [02:56<21:02,  3.66it/s]"
     ]
    },
    {
     "name": "stderr",
     "output_type": "stream",
     "text": [
      "\r",
      "Processing columns:  12%|█▏        | 648/5273 [02:57<22:45,  3.39it/s]"
     ]
    },
    {
     "name": "stderr",
     "output_type": "stream",
     "text": [
      "\r",
      "Processing columns:  12%|█▏        | 649/5273 [02:57<20:38,  3.73it/s]"
     ]
    },
    {
     "name": "stderr",
     "output_type": "stream",
     "text": [
      "\r",
      "Processing columns:  12%|█▏        | 650/5273 [02:57<25:11,  3.06it/s]"
     ]
    },
    {
     "name": "stderr",
     "output_type": "stream",
     "text": [
      "\r",
      "Processing columns:  12%|█▏        | 651/5273 [02:58<23:40,  3.25it/s]"
     ]
    },
    {
     "name": "stderr",
     "output_type": "stream",
     "text": [
      "\r",
      "Processing columns:  12%|█▏        | 652/5273 [02:58<23:28,  3.28it/s]"
     ]
    },
    {
     "name": "stderr",
     "output_type": "stream",
     "text": [
      "\r",
      "Processing columns:  12%|█▏        | 653/5273 [02:58<21:02,  3.66it/s]"
     ]
    },
    {
     "name": "stderr",
     "output_type": "stream",
     "text": [
      "\r",
      "Processing columns:  12%|█▏        | 654/5273 [02:58<22:14,  3.46it/s]"
     ]
    },
    {
     "name": "stderr",
     "output_type": "stream",
     "text": [
      "\r",
      "Processing columns:  12%|█▏        | 655/5273 [02:59<20:53,  3.68it/s]"
     ]
    },
    {
     "name": "stderr",
     "output_type": "stream",
     "text": [
      "\r",
      "Processing columns:  12%|█▏        | 656/5273 [02:59<19:53,  3.87it/s]"
     ]
    },
    {
     "name": "stderr",
     "output_type": "stream",
     "text": [
      "\r",
      "Processing columns:  12%|█▏        | 657/5273 [02:59<19:42,  3.90it/s]"
     ]
    },
    {
     "name": "stderr",
     "output_type": "stream",
     "text": [
      "\r",
      "Processing columns:  12%|█▏        | 658/5273 [02:59<20:36,  3.73it/s]"
     ]
    },
    {
     "name": "stderr",
     "output_type": "stream",
     "text": [
      "\r",
      "Processing columns:  12%|█▏        | 659/5273 [03:00<20:33,  3.74it/s]"
     ]
    },
    {
     "name": "stderr",
     "output_type": "stream",
     "text": [
      "\r",
      "Processing columns:  13%|█▎        | 660/5273 [03:00<20:09,  3.81it/s]"
     ]
    },
    {
     "name": "stderr",
     "output_type": "stream",
     "text": [
      "\r",
      "Processing columns:  13%|█▎        | 661/5273 [03:00<19:08,  4.02it/s]"
     ]
    },
    {
     "name": "stderr",
     "output_type": "stream",
     "text": [
      "\r",
      "Processing columns:  13%|█▎        | 662/5273 [03:00<18:47,  4.09it/s]"
     ]
    },
    {
     "name": "stderr",
     "output_type": "stream",
     "text": [
      "\r",
      "Processing columns:  13%|█▎        | 663/5273 [03:01<22:04,  3.48it/s]"
     ]
    },
    {
     "name": "stderr",
     "output_type": "stream",
     "text": [
      "\r",
      "Processing columns:  13%|█▎        | 664/5273 [03:01<20:37,  3.73it/s]"
     ]
    },
    {
     "name": "stderr",
     "output_type": "stream",
     "text": [
      "\r",
      "Processing columns:  13%|█▎        | 665/5273 [03:01<22:27,  3.42it/s]"
     ]
    },
    {
     "name": "stderr",
     "output_type": "stream",
     "text": [
      "\r",
      "Processing columns:  13%|█▎        | 666/5273 [03:02<21:08,  3.63it/s]"
     ]
    },
    {
     "name": "stderr",
     "output_type": "stream",
     "text": [
      "\r",
      "Processing columns:  13%|█▎        | 667/5273 [03:02<21:23,  3.59it/s]"
     ]
    },
    {
     "name": "stderr",
     "output_type": "stream",
     "text": [
      "\r",
      "Processing columns:  13%|█▎        | 668/5273 [03:02<20:40,  3.71it/s]"
     ]
    },
    {
     "name": "stderr",
     "output_type": "stream",
     "text": [
      "\r",
      "Processing columns:  13%|█▎        | 669/5273 [03:02<19:52,  3.86it/s]"
     ]
    },
    {
     "name": "stderr",
     "output_type": "stream",
     "text": [
      "\r",
      "Processing columns:  13%|█▎        | 670/5273 [03:03<20:24,  3.76it/s]"
     ]
    },
    {
     "name": "stderr",
     "output_type": "stream",
     "text": [
      "\r",
      "Processing columns:  13%|█▎        | 671/5273 [03:03<18:55,  4.05it/s]"
     ]
    },
    {
     "name": "stderr",
     "output_type": "stream",
     "text": [
      "\r",
      "Processing columns:  13%|█▎        | 672/5273 [03:03<17:59,  4.26it/s]"
     ]
    },
    {
     "name": "stderr",
     "output_type": "stream",
     "text": [
      "\r",
      "Processing columns:  13%|█▎        | 673/5273 [03:03<17:18,  4.43it/s]"
     ]
    },
    {
     "name": "stderr",
     "output_type": "stream",
     "text": [
      "\r",
      "Processing columns:  13%|█▎        | 674/5273 [03:04<21:13,  3.61it/s]"
     ]
    },
    {
     "name": "stderr",
     "output_type": "stream",
     "text": [
      "\r",
      "Processing columns:  13%|█▎        | 675/5273 [03:04<21:26,  3.57it/s]"
     ]
    },
    {
     "name": "stderr",
     "output_type": "stream",
     "text": [
      "\r",
      "Processing columns:  13%|█▎        | 676/5273 [03:04<24:58,  3.07it/s]"
     ]
    },
    {
     "name": "stderr",
     "output_type": "stream",
     "text": [
      "\r",
      "Processing columns:  13%|█▎        | 677/5273 [03:05<23:38,  3.24it/s]"
     ]
    },
    {
     "name": "stderr",
     "output_type": "stream",
     "text": [
      "\r",
      "Processing columns:  13%|█▎        | 678/5273 [03:05<21:50,  3.51it/s]"
     ]
    },
    {
     "name": "stderr",
     "output_type": "stream",
     "text": [
      "\r",
      "Processing columns:  13%|█▎        | 679/5273 [03:05<20:53,  3.66it/s]"
     ]
    },
    {
     "name": "stderr",
     "output_type": "stream",
     "text": [
      "\r",
      "Processing columns:  13%|█▎        | 680/5273 [03:05<19:29,  3.93it/s]"
     ]
    },
    {
     "name": "stderr",
     "output_type": "stream",
     "text": [
      "\r",
      "Processing columns:  13%|█▎        | 681/5273 [03:06<19:28,  3.93it/s]"
     ]
    },
    {
     "name": "stderr",
     "output_type": "stream",
     "text": [
      "\r",
      "Processing columns:  13%|█▎        | 682/5273 [03:06<19:11,  3.99it/s]"
     ]
    },
    {
     "name": "stderr",
     "output_type": "stream",
     "text": [
      "\r",
      "Processing columns:  13%|█▎        | 683/5273 [03:06<19:08,  4.00it/s]"
     ]
    },
    {
     "name": "stderr",
     "output_type": "stream",
     "text": [
      "\r",
      "Processing columns:  13%|█▎        | 684/5273 [03:06<18:28,  4.14it/s]"
     ]
    },
    {
     "name": "stderr",
     "output_type": "stream",
     "text": [
      "\r",
      "Processing columns:  13%|█▎        | 685/5273 [03:06<18:13,  4.20it/s]"
     ]
    },
    {
     "name": "stderr",
     "output_type": "stream",
     "text": [
      "\r",
      "Processing columns:  13%|█▎        | 686/5273 [03:07<17:51,  4.28it/s]"
     ]
    },
    {
     "name": "stderr",
     "output_type": "stream",
     "text": [
      "\r",
      "Processing columns:  13%|█▎        | 687/5273 [03:07<20:38,  3.70it/s]"
     ]
    },
    {
     "name": "stderr",
     "output_type": "stream",
     "text": [
      "\r",
      "Processing columns:  13%|█▎        | 688/5273 [03:07<19:46,  3.86it/s]"
     ]
    },
    {
     "name": "stderr",
     "output_type": "stream",
     "text": [
      "\r",
      "Processing columns:  13%|█▎        | 689/5273 [03:08<23:44,  3.22it/s]"
     ]
    },
    {
     "name": "stderr",
     "output_type": "stream",
     "text": [
      "\r",
      "Processing columns:  13%|█▎        | 690/5273 [03:08<22:42,  3.36it/s]"
     ]
    },
    {
     "name": "stderr",
     "output_type": "stream",
     "text": [
      "\r",
      "Processing columns:  13%|█▎        | 691/5273 [03:08<21:29,  3.55it/s]"
     ]
    },
    {
     "name": "stderr",
     "output_type": "stream",
     "text": [
      "\r",
      "Processing columns:  13%|█▎        | 692/5273 [03:08<20:50,  3.66it/s]"
     ]
    },
    {
     "name": "stderr",
     "output_type": "stream",
     "text": [
      "\r",
      "Processing columns:  13%|█▎        | 693/5273 [03:09<19:05,  4.00it/s]"
     ]
    },
    {
     "name": "stderr",
     "output_type": "stream",
     "text": [
      "\r",
      "Processing columns:  13%|█▎        | 694/5273 [03:09<18:26,  4.14it/s]"
     ]
    },
    {
     "name": "stderr",
     "output_type": "stream",
     "text": [
      "\r",
      "Processing columns:  13%|█▎        | 695/5273 [03:09<21:37,  3.53it/s]"
     ]
    },
    {
     "name": "stderr",
     "output_type": "stream",
     "text": [
      "\r",
      "Processing columns:  13%|█▎        | 696/5273 [03:09<19:40,  3.88it/s]"
     ]
    },
    {
     "name": "stderr",
     "output_type": "stream",
     "text": [
      "\r",
      "Processing columns:  13%|█▎        | 697/5273 [03:10<21:33,  3.54it/s]"
     ]
    },
    {
     "name": "stderr",
     "output_type": "stream",
     "text": [
      "\r",
      "Processing columns:  13%|█▎        | 698/5273 [03:10<20:50,  3.66it/s]"
     ]
    },
    {
     "name": "stderr",
     "output_type": "stream",
     "text": [
      "\r",
      "Processing columns:  13%|█▎        | 699/5273 [03:10<23:23,  3.26it/s]"
     ]
    },
    {
     "name": "stderr",
     "output_type": "stream",
     "text": [
      "\r",
      "Processing columns:  13%|█▎        | 700/5273 [03:11<22:34,  3.38it/s]"
     ]
    },
    {
     "name": "stderr",
     "output_type": "stream",
     "text": [
      "\r",
      "Processing columns:  13%|█▎        | 701/5273 [03:11<20:26,  3.73it/s]"
     ]
    },
    {
     "name": "stderr",
     "output_type": "stream",
     "text": [
      "\r",
      "Processing columns:  13%|█▎        | 702/5273 [03:11<24:16,  3.14it/s]"
     ]
    },
    {
     "name": "stderr",
     "output_type": "stream",
     "text": [
      "\r",
      "Processing columns:  13%|█▎        | 703/5273 [03:12<23:00,  3.31it/s]"
     ]
    },
    {
     "name": "stderr",
     "output_type": "stream",
     "text": [
      "\r",
      "Processing columns:  13%|█▎        | 704/5273 [03:12<20:52,  3.65it/s]"
     ]
    },
    {
     "name": "stderr",
     "output_type": "stream",
     "text": [
      "\r",
      "Processing columns:  13%|█▎        | 705/5273 [03:12<21:14,  3.58it/s]"
     ]
    },
    {
     "name": "stderr",
     "output_type": "stream",
     "text": [
      "\r",
      "Processing columns:  13%|█▎        | 706/5273 [03:12<20:44,  3.67it/s]"
     ]
    },
    {
     "name": "stderr",
     "output_type": "stream",
     "text": [
      "\r",
      "Processing columns:  13%|█▎        | 707/5273 [03:13<20:12,  3.76it/s]"
     ]
    },
    {
     "name": "stderr",
     "output_type": "stream",
     "text": [
      "\r",
      "Processing columns:  13%|█▎        | 708/5273 [03:13<19:55,  3.82it/s]"
     ]
    },
    {
     "name": "stderr",
     "output_type": "stream",
     "text": [
      "\r",
      "Processing columns:  13%|█▎        | 709/5273 [03:13<20:03,  3.79it/s]"
     ]
    },
    {
     "name": "stderr",
     "output_type": "stream",
     "text": [
      "\r",
      "Processing columns:  13%|█▎        | 710/5273 [03:13<19:38,  3.87it/s]"
     ]
    },
    {
     "name": "stderr",
     "output_type": "stream",
     "text": [
      "\r",
      "Processing columns:  13%|█▎        | 711/5273 [03:14<21:35,  3.52it/s]"
     ]
    },
    {
     "name": "stderr",
     "output_type": "stream",
     "text": [
      "\r",
      "Processing columns:  14%|█▎        | 712/5273 [03:14<20:25,  3.72it/s]"
     ]
    },
    {
     "name": "stderr",
     "output_type": "stream",
     "text": [
      "\r",
      "Processing columns:  14%|█▎        | 713/5273 [03:14<19:12,  3.96it/s]"
     ]
    },
    {
     "name": "stderr",
     "output_type": "stream",
     "text": [
      "\r",
      "Processing columns:  14%|█▎        | 714/5273 [03:14<18:32,  4.10it/s]"
     ]
    },
    {
     "name": "stderr",
     "output_type": "stream",
     "text": [
      "\r",
      "Processing columns:  14%|█▎        | 715/5273 [03:15<23:51,  3.18it/s]"
     ]
    },
    {
     "name": "stderr",
     "output_type": "stream",
     "text": [
      "\r",
      "Processing columns:  14%|█▎        | 716/5273 [03:15<22:06,  3.44it/s]"
     ]
    },
    {
     "name": "stderr",
     "output_type": "stream",
     "text": [
      "\r",
      "Processing columns:  14%|█▎        | 717/5273 [03:15<21:14,  3.58it/s]"
     ]
    },
    {
     "name": "stderr",
     "output_type": "stream",
     "text": [
      "\r",
      "Processing columns:  14%|█▎        | 718/5273 [03:16<19:49,  3.83it/s]"
     ]
    },
    {
     "name": "stderr",
     "output_type": "stream",
     "text": [
      "\r",
      "Processing columns:  14%|█▎        | 719/5273 [03:16<19:29,  3.89it/s]"
     ]
    },
    {
     "name": "stderr",
     "output_type": "stream",
     "text": [
      "\r",
      "Processing columns:  14%|█▎        | 720/5273 [03:16<19:18,  3.93it/s]"
     ]
    },
    {
     "name": "stderr",
     "output_type": "stream",
     "text": [
      "\r",
      "Processing columns:  14%|█▎        | 721/5273 [03:16<19:36,  3.87it/s]"
     ]
    },
    {
     "name": "stderr",
     "output_type": "stream",
     "text": [
      "\r",
      "Processing columns:  14%|█▎        | 722/5273 [03:17<19:10,  3.95it/s]"
     ]
    },
    {
     "name": "stderr",
     "output_type": "stream",
     "text": [
      "\r",
      "Processing columns:  14%|█▎        | 723/5273 [03:17<19:41,  3.85it/s]"
     ]
    },
    {
     "name": "stderr",
     "output_type": "stream",
     "text": [
      "\r",
      "Processing columns:  14%|█▎        | 724/5273 [03:17<19:47,  3.83it/s]"
     ]
    },
    {
     "name": "stderr",
     "output_type": "stream",
     "text": [
      "\r",
      "Processing columns:  14%|█▎        | 725/5273 [03:17<18:52,  4.02it/s]"
     ]
    },
    {
     "name": "stderr",
     "output_type": "stream",
     "text": [
      "\r",
      "Processing columns:  14%|█▍        | 726/5273 [03:18<18:37,  4.07it/s]"
     ]
    },
    {
     "name": "stderr",
     "output_type": "stream",
     "text": [
      "\r",
      "Processing columns:  14%|█▍        | 727/5273 [03:18<18:52,  4.02it/s]"
     ]
    },
    {
     "name": "stderr",
     "output_type": "stream",
     "text": [
      "\r",
      "Processing columns:  14%|█▍        | 728/5273 [03:18<23:42,  3.19it/s]"
     ]
    },
    {
     "name": "stderr",
     "output_type": "stream",
     "text": [
      "\r",
      "Processing columns:  14%|█▍        | 729/5273 [03:19<21:49,  3.47it/s]"
     ]
    },
    {
     "name": "stderr",
     "output_type": "stream",
     "text": [
      "\r",
      "Processing columns:  14%|█▍        | 730/5273 [03:19<20:35,  3.68it/s]"
     ]
    },
    {
     "name": "stderr",
     "output_type": "stream",
     "text": [
      "\r",
      "Processing columns:  14%|█▍        | 731/5273 [03:19<20:50,  3.63it/s]"
     ]
    },
    {
     "name": "stderr",
     "output_type": "stream",
     "text": [
      "\r",
      "Processing columns:  14%|█▍        | 732/5273 [03:19<20:15,  3.74it/s]"
     ]
    },
    {
     "name": "stderr",
     "output_type": "stream",
     "text": [
      "\r",
      "Processing columns:  14%|█▍        | 733/5273 [03:19<18:42,  4.05it/s]"
     ]
    },
    {
     "name": "stderr",
     "output_type": "stream",
     "text": [
      "\r",
      "Processing columns:  14%|█▍        | 734/5273 [03:20<20:36,  3.67it/s]"
     ]
    },
    {
     "name": "stderr",
     "output_type": "stream",
     "text": [
      "\r",
      "Processing columns:  14%|█▍        | 735/5273 [03:20<18:58,  3.99it/s]"
     ]
    },
    {
     "name": "stderr",
     "output_type": "stream",
     "text": [
      "\r",
      "Processing columns:  14%|█▍        | 736/5273 [03:20<19:48,  3.82it/s]"
     ]
    },
    {
     "name": "stderr",
     "output_type": "stream",
     "text": [
      "\r",
      "Processing columns:  14%|█▍        | 737/5273 [03:21<21:08,  3.57it/s]"
     ]
    },
    {
     "name": "stderr",
     "output_type": "stream",
     "text": [
      "\r",
      "Processing columns:  14%|█▍        | 738/5273 [03:21<21:38,  3.49it/s]"
     ]
    },
    {
     "name": "stderr",
     "output_type": "stream",
     "text": [
      "\r",
      "Processing columns:  14%|█▍        | 739/5273 [03:21<20:58,  3.60it/s]"
     ]
    },
    {
     "name": "stderr",
     "output_type": "stream",
     "text": [
      "\r",
      "Processing columns:  14%|█▍        | 740/5273 [03:21<20:25,  3.70it/s]"
     ]
    },
    {
     "name": "stderr",
     "output_type": "stream",
     "text": [
      "\r",
      "Processing columns:  14%|█▍        | 741/5273 [03:22<19:42,  3.83it/s]"
     ]
    },
    {
     "name": "stderr",
     "output_type": "stream",
     "text": [
      "\r",
      "Processing columns:  14%|█▍        | 742/5273 [03:22<24:25,  3.09it/s]"
     ]
    },
    {
     "name": "stderr",
     "output_type": "stream",
     "text": [
      "\r",
      "Processing columns:  14%|█▍        | 743/5273 [03:22<21:28,  3.52it/s]"
     ]
    },
    {
     "name": "stderr",
     "output_type": "stream",
     "text": [
      "\r",
      "Processing columns:  14%|█▍        | 744/5273 [03:23<20:17,  3.72it/s]"
     ]
    },
    {
     "name": "stderr",
     "output_type": "stream",
     "text": [
      "\r",
      "Processing columns:  14%|█▍        | 745/5273 [03:23<20:38,  3.66it/s]"
     ]
    },
    {
     "name": "stderr",
     "output_type": "stream",
     "text": [
      "\r",
      "Processing columns:  14%|█▍        | 746/5273 [03:23<19:39,  3.84it/s]"
     ]
    },
    {
     "name": "stderr",
     "output_type": "stream",
     "text": [
      "\r",
      "Processing columns:  14%|█▍        | 747/5273 [03:23<19:26,  3.88it/s]"
     ]
    },
    {
     "name": "stderr",
     "output_type": "stream",
     "text": [
      "\r",
      "Processing columns:  14%|█▍        | 748/5273 [03:24<19:14,  3.92it/s]"
     ]
    },
    {
     "name": "stderr",
     "output_type": "stream",
     "text": [
      "\r",
      "Processing columns:  14%|█▍        | 749/5273 [03:24<18:31,  4.07it/s]"
     ]
    },
    {
     "name": "stderr",
     "output_type": "stream",
     "text": [
      "\r",
      "Processing columns:  14%|█▍        | 750/5273 [03:24<19:23,  3.89it/s]"
     ]
    },
    {
     "name": "stderr",
     "output_type": "stream",
     "text": [
      "\r",
      "Processing columns:  14%|█▍        | 751/5273 [03:24<19:38,  3.84it/s]"
     ]
    },
    {
     "name": "stderr",
     "output_type": "stream",
     "text": [
      "\r",
      "Processing columns:  14%|█▍        | 752/5273 [03:25<18:48,  4.01it/s]"
     ]
    },
    {
     "name": "stderr",
     "output_type": "stream",
     "text": [
      "\r",
      "Processing columns:  14%|█▍        | 753/5273 [03:25<18:16,  4.12it/s]"
     ]
    },
    {
     "name": "stderr",
     "output_type": "stream",
     "text": [
      "\r",
      "Processing columns:  14%|█▍        | 754/5273 [03:25<18:27,  4.08it/s]"
     ]
    },
    {
     "name": "stderr",
     "output_type": "stream",
     "text": [
      "\r",
      "Processing columns:  14%|█▍        | 755/5273 [03:26<22:36,  3.33it/s]"
     ]
    },
    {
     "name": "stderr",
     "output_type": "stream",
     "text": [
      "\r",
      "Processing columns:  14%|█▍        | 756/5273 [03:26<21:13,  3.55it/s]"
     ]
    },
    {
     "name": "stderr",
     "output_type": "stream",
     "text": [
      "\r",
      "Processing columns:  14%|█▍        | 757/5273 [03:26<20:10,  3.73it/s]"
     ]
    },
    {
     "name": "stderr",
     "output_type": "stream",
     "text": [
      "\r",
      "Processing columns:  14%|█▍        | 758/5273 [03:26<19:07,  3.94it/s]"
     ]
    },
    {
     "name": "stderr",
     "output_type": "stream",
     "text": [
      "\r",
      "Processing columns:  14%|█▍        | 759/5273 [03:27<20:21,  3.69it/s]"
     ]
    },
    {
     "name": "stderr",
     "output_type": "stream",
     "text": [
      "\r",
      "Processing columns:  14%|█▍        | 760/5273 [03:27<19:05,  3.94it/s]"
     ]
    },
    {
     "name": "stderr",
     "output_type": "stream",
     "text": [
      "\r",
      "Processing columns:  14%|█▍        | 761/5273 [03:27<21:18,  3.53it/s]"
     ]
    },
    {
     "name": "stderr",
     "output_type": "stream",
     "text": [
      "\r",
      "Processing columns:  14%|█▍        | 762/5273 [03:27<19:52,  3.78it/s]"
     ]
    },
    {
     "name": "stderr",
     "output_type": "stream",
     "text": [
      "\r",
      "Processing columns:  14%|█▍        | 763/5273 [03:27<18:22,  4.09it/s]"
     ]
    },
    {
     "name": "stderr",
     "output_type": "stream",
     "text": [
      "\r",
      "Processing columns:  14%|█▍        | 764/5273 [03:28<21:19,  3.52it/s]"
     ]
    },
    {
     "name": "stderr",
     "output_type": "stream",
     "text": [
      "\r",
      "Processing columns:  15%|█▍        | 765/5273 [03:28<19:35,  3.84it/s]"
     ]
    },
    {
     "name": "stderr",
     "output_type": "stream",
     "text": [
      "\r",
      "Processing columns:  15%|█▍        | 766/5273 [03:28<19:48,  3.79it/s]"
     ]
    },
    {
     "name": "stderr",
     "output_type": "stream",
     "text": [
      "\r",
      "Processing columns:  15%|█▍        | 767/5273 [03:29<19:13,  3.91it/s]"
     ]
    },
    {
     "name": "stderr",
     "output_type": "stream",
     "text": [
      "\r",
      "Processing columns:  15%|█▍        | 768/5273 [03:29<23:41,  3.17it/s]"
     ]
    },
    {
     "name": "stderr",
     "output_type": "stream",
     "text": [
      "\r",
      "Processing columns:  15%|█▍        | 769/5273 [03:29<21:41,  3.46it/s]"
     ]
    },
    {
     "name": "stderr",
     "output_type": "stream",
     "text": [
      "\r",
      "Processing columns:  15%|█▍        | 770/5273 [03:30<21:28,  3.49it/s]"
     ]
    },
    {
     "name": "stderr",
     "output_type": "stream",
     "text": [
      "\r",
      "Processing columns:  15%|█▍        | 771/5273 [03:30<20:10,  3.72it/s]"
     ]
    },
    {
     "name": "stderr",
     "output_type": "stream",
     "text": [
      "\r",
      "Processing columns:  15%|█▍        | 772/5273 [03:30<19:18,  3.89it/s]"
     ]
    },
    {
     "name": "stderr",
     "output_type": "stream",
     "text": [
      "\r",
      "Processing columns:  15%|█▍        | 773/5273 [03:30<18:09,  4.13it/s]"
     ]
    },
    {
     "name": "stderr",
     "output_type": "stream",
     "text": [
      "\r",
      "Processing columns:  15%|█▍        | 774/5273 [03:31<19:52,  3.77it/s]"
     ]
    },
    {
     "name": "stderr",
     "output_type": "stream",
     "text": [
      "\r",
      "Processing columns:  15%|█▍        | 775/5273 [03:31<18:54,  3.96it/s]"
     ]
    },
    {
     "name": "stderr",
     "output_type": "stream",
     "text": [
      "\r",
      "Processing columns:  15%|█▍        | 776/5273 [03:31<19:29,  3.85it/s]"
     ]
    },
    {
     "name": "stderr",
     "output_type": "stream",
     "text": [
      "\r",
      "Processing columns:  15%|█▍        | 777/5273 [03:31<19:51,  3.77it/s]"
     ]
    },
    {
     "name": "stderr",
     "output_type": "stream",
     "text": [
      "\r",
      "Processing columns:  15%|█▍        | 778/5273 [03:32<20:25,  3.67it/s]"
     ]
    },
    {
     "name": "stderr",
     "output_type": "stream",
     "text": [
      "\r",
      "Processing columns:  15%|█▍        | 779/5273 [03:32<18:46,  3.99it/s]"
     ]
    },
    {
     "name": "stderr",
     "output_type": "stream",
     "text": [
      "\r",
      "Processing columns:  15%|█▍        | 780/5273 [03:32<17:50,  4.20it/s]"
     ]
    },
    {
     "name": "stderr",
     "output_type": "stream",
     "text": [
      "\r",
      "Processing columns:  15%|█▍        | 781/5273 [03:33<24:30,  3.05it/s]"
     ]
    },
    {
     "name": "stderr",
     "output_type": "stream",
     "text": [
      "\r",
      "Processing columns:  15%|█▍        | 782/5273 [03:33<22:28,  3.33it/s]"
     ]
    },
    {
     "name": "stderr",
     "output_type": "stream",
     "text": [
      "\r",
      "Processing columns:  15%|█▍        | 783/5273 [03:33<21:19,  3.51it/s]"
     ]
    },
    {
     "name": "stderr",
     "output_type": "stream",
     "text": [
      "\r",
      "Processing columns:  15%|█▍        | 784/5273 [03:33<20:23,  3.67it/s]"
     ]
    },
    {
     "name": "stderr",
     "output_type": "stream",
     "text": [
      "\r",
      "Processing columns:  15%|█▍        | 785/5273 [03:33<19:22,  3.86it/s]"
     ]
    },
    {
     "name": "stderr",
     "output_type": "stream",
     "text": [
      "\r",
      "Processing columns:  15%|█▍        | 786/5273 [03:34<19:06,  3.92it/s]"
     ]
    },
    {
     "name": "stderr",
     "output_type": "stream",
     "text": [
      "\r",
      "Processing columns:  15%|█▍        | 787/5273 [03:34<22:00,  3.40it/s]"
     ]
    },
    {
     "name": "stderr",
     "output_type": "stream",
     "text": [
      "\r",
      "Processing columns:  15%|█▍        | 788/5273 [03:34<20:32,  3.64it/s]"
     ]
    },
    {
     "name": "stderr",
     "output_type": "stream",
     "text": [
      "\r",
      "Processing columns:  15%|█▍        | 789/5273 [03:35<19:47,  3.78it/s]"
     ]
    },
    {
     "name": "stderr",
     "output_type": "stream",
     "text": [
      "\r",
      "Processing columns:  15%|█▍        | 790/5273 [03:35<21:14,  3.52it/s]"
     ]
    },
    {
     "name": "stderr",
     "output_type": "stream",
     "text": [
      "\r",
      "Processing columns:  15%|█▌        | 791/5273 [03:35<19:37,  3.81it/s]"
     ]
    },
    {
     "name": "stderr",
     "output_type": "stream",
     "text": [
      "\r",
      "Processing columns:  15%|█▌        | 792/5273 [03:35<19:18,  3.87it/s]"
     ]
    },
    {
     "name": "stderr",
     "output_type": "stream",
     "text": [
      "\r",
      "Processing columns:  15%|█▌        | 793/5273 [03:36<18:12,  4.10it/s]"
     ]
    },
    {
     "name": "stderr",
     "output_type": "stream",
     "text": [
      "\r",
      "Processing columns:  15%|█▌        | 794/5273 [03:36<22:19,  3.34it/s]"
     ]
    },
    {
     "name": "stderr",
     "output_type": "stream",
     "text": [
      "\r",
      "Processing columns:  15%|█▌        | 795/5273 [03:36<24:08,  3.09it/s]"
     ]
    },
    {
     "name": "stderr",
     "output_type": "stream",
     "text": [
      "\r",
      "Processing columns:  15%|█▌        | 796/5273 [03:37<22:18,  3.35it/s]"
     ]
    },
    {
     "name": "stderr",
     "output_type": "stream",
     "text": [
      "\r",
      "Processing columns:  15%|█▌        | 797/5273 [03:37<21:31,  3.47it/s]"
     ]
    },
    {
     "name": "stderr",
     "output_type": "stream",
     "text": [
      "\r",
      "Processing columns:  15%|█▌        | 798/5273 [03:37<20:15,  3.68it/s]"
     ]
    },
    {
     "name": "stderr",
     "output_type": "stream",
     "text": [
      "\r",
      "Processing columns:  15%|█▌        | 799/5273 [03:37<19:34,  3.81it/s]"
     ]
    },
    {
     "name": "stderr",
     "output_type": "stream",
     "text": [
      "\r",
      "Processing columns:  15%|█▌        | 800/5273 [03:38<20:37,  3.61it/s]"
     ]
    },
    {
     "name": "stderr",
     "output_type": "stream",
     "text": [
      "\r",
      "Processing columns:  15%|█▌        | 801/5273 [03:38<19:01,  3.92it/s]"
     ]
    },
    {
     "name": "stderr",
     "output_type": "stream",
     "text": [
      "\r",
      "Processing columns:  15%|█▌        | 802/5273 [03:38<18:16,  4.08it/s]"
     ]
    },
    {
     "name": "stderr",
     "output_type": "stream",
     "text": [
      "\r",
      "Processing columns:  15%|█▌        | 803/5273 [03:38<18:20,  4.06it/s]"
     ]
    },
    {
     "name": "stderr",
     "output_type": "stream",
     "text": [
      "\r",
      "Processing columns:  15%|█▌        | 804/5273 [03:39<18:06,  4.11it/s]"
     ]
    },
    {
     "name": "stderr",
     "output_type": "stream",
     "text": [
      "\r",
      "Processing columns:  15%|█▌        | 805/5273 [03:39<17:45,  4.19it/s]"
     ]
    },
    {
     "name": "stderr",
     "output_type": "stream",
     "text": [
      "\r",
      "Processing columns:  15%|█▌        | 806/5273 [03:39<18:32,  4.02it/s]"
     ]
    },
    {
     "name": "stderr",
     "output_type": "stream",
     "text": [
      "\r",
      "Processing columns:  15%|█▌        | 807/5273 [03:40<24:22,  3.05it/s]"
     ]
    },
    {
     "name": "stderr",
     "output_type": "stream",
     "text": [
      "\r",
      "Processing columns:  15%|█▌        | 808/5273 [03:40<22:00,  3.38it/s]"
     ]
    },
    {
     "name": "stderr",
     "output_type": "stream",
     "text": [
      "\r",
      "Processing columns:  15%|█▌        | 809/5273 [03:40<20:57,  3.55it/s]"
     ]
    },
    {
     "name": "stderr",
     "output_type": "stream",
     "text": [
      "\r",
      "Processing columns:  15%|█▌        | 810/5273 [03:40<20:54,  3.56it/s]"
     ]
    },
    {
     "name": "stderr",
     "output_type": "stream",
     "text": [
      "\r",
      "Processing columns:  15%|█▌        | 811/5273 [03:41<19:06,  3.89it/s]"
     ]
    },
    {
     "name": "stderr",
     "output_type": "stream",
     "text": [
      "\r",
      "Processing columns:  15%|█▌        | 812/5273 [03:41<18:40,  3.98it/s]"
     ]
    },
    {
     "name": "stderr",
     "output_type": "stream",
     "text": [
      "\r",
      "Processing columns:  15%|█▌        | 813/5273 [03:41<18:46,  3.96it/s]"
     ]
    },
    {
     "name": "stderr",
     "output_type": "stream",
     "text": [
      "\r",
      "Processing columns:  15%|█▌        | 814/5273 [03:41<18:13,  4.08it/s]"
     ]
    },
    {
     "name": "stderr",
     "output_type": "stream",
     "text": [
      "\r",
      "Processing columns:  15%|█▌        | 815/5273 [03:42<17:43,  4.19it/s]"
     ]
    },
    {
     "name": "stderr",
     "output_type": "stream",
     "text": [
      "\r",
      "Processing columns:  15%|█▌        | 816/5273 [03:42<17:29,  4.25it/s]"
     ]
    },
    {
     "name": "stderr",
     "output_type": "stream",
     "text": [
      "\r",
      "Processing columns:  15%|█▌        | 817/5273 [03:42<18:51,  3.94it/s]"
     ]
    },
    {
     "name": "stderr",
     "output_type": "stream",
     "text": [
      "\r",
      "Processing columns:  16%|█▌        | 818/5273 [03:42<20:48,  3.57it/s]"
     ]
    },
    {
     "name": "stderr",
     "output_type": "stream",
     "text": [
      "\r",
      "Processing columns:  16%|█▌        | 819/5273 [03:43<20:31,  3.62it/s]"
     ]
    },
    {
     "name": "stderr",
     "output_type": "stream",
     "text": [
      "\r",
      "Processing columns:  16%|█▌        | 820/5273 [03:43<21:14,  3.49it/s]"
     ]
    },
    {
     "name": "stderr",
     "output_type": "stream",
     "text": [
      "\r",
      "Processing columns:  16%|█▌        | 821/5273 [03:43<24:23,  3.04it/s]"
     ]
    },
    {
     "name": "stderr",
     "output_type": "stream",
     "text": [
      "\r",
      "Processing columns:  16%|█▌        | 822/5273 [03:44<21:51,  3.39it/s]"
     ]
    },
    {
     "name": "stderr",
     "output_type": "stream",
     "text": [
      "\r",
      "Processing columns:  16%|█▌        | 823/5273 [03:44<21:48,  3.40it/s]"
     ]
    },
    {
     "name": "stderr",
     "output_type": "stream",
     "text": [
      "\r",
      "Processing columns:  16%|█▌        | 824/5273 [03:44<23:14,  3.19it/s]"
     ]
    },
    {
     "name": "stderr",
     "output_type": "stream",
     "text": [
      "\r",
      "Processing columns:  16%|█▌        | 825/5273 [03:44<21:09,  3.51it/s]"
     ]
    },
    {
     "name": "stderr",
     "output_type": "stream",
     "text": [
      "\r",
      "Processing columns:  16%|█▌        | 826/5273 [03:45<19:46,  3.75it/s]"
     ]
    },
    {
     "name": "stderr",
     "output_type": "stream",
     "text": [
      "\r",
      "Processing columns:  16%|█▌        | 827/5273 [03:45<21:12,  3.49it/s]"
     ]
    },
    {
     "name": "stderr",
     "output_type": "stream",
     "text": [
      "\r",
      "Processing columns:  16%|█▌        | 828/5273 [03:45<19:32,  3.79it/s]"
     ]
    },
    {
     "name": "stderr",
     "output_type": "stream",
     "text": [
      "\r",
      "Processing columns:  16%|█▌        | 829/5273 [03:46<19:38,  3.77it/s]"
     ]
    },
    {
     "name": "stderr",
     "output_type": "stream",
     "text": [
      "\r",
      "Processing columns:  16%|█▌        | 830/5273 [03:46<19:18,  3.84it/s]"
     ]
    },
    {
     "name": "stderr",
     "output_type": "stream",
     "text": [
      "\r",
      "Processing columns:  16%|█▌        | 831/5273 [03:46<18:16,  4.05it/s]"
     ]
    },
    {
     "name": "stderr",
     "output_type": "stream",
     "text": [
      "\r",
      "Processing columns:  16%|█▌        | 832/5273 [03:46<18:20,  4.04it/s]"
     ]
    },
    {
     "name": "stderr",
     "output_type": "stream",
     "text": [
      "\r",
      "Processing columns:  16%|█▌        | 833/5273 [03:47<21:23,  3.46it/s]"
     ]
    },
    {
     "name": "stderr",
     "output_type": "stream",
     "text": [
      "\r",
      "Processing columns:  16%|█▌        | 834/5273 [03:47<19:22,  3.82it/s]"
     ]
    },
    {
     "name": "stderr",
     "output_type": "stream",
     "text": [
      "\r",
      "Processing columns:  16%|█▌        | 835/5273 [03:47<21:25,  3.45it/s]"
     ]
    },
    {
     "name": "stderr",
     "output_type": "stream",
     "text": [
      "\r",
      "Processing columns:  16%|█▌        | 836/5273 [03:47<20:03,  3.69it/s]"
     ]
    },
    {
     "name": "stderr",
     "output_type": "stream",
     "text": [
      "\r",
      "Processing columns:  16%|█▌        | 837/5273 [03:48<19:29,  3.79it/s]"
     ]
    },
    {
     "name": "stderr",
     "output_type": "stream",
     "text": [
      "\r",
      "Processing columns:  16%|█▌        | 838/5273 [03:48<19:26,  3.80it/s]"
     ]
    },
    {
     "name": "stderr",
     "output_type": "stream",
     "text": [
      "\r",
      "Processing columns:  16%|█▌        | 839/5273 [03:48<18:37,  3.97it/s]"
     ]
    },
    {
     "name": "stderr",
     "output_type": "stream",
     "text": [
      "\r",
      "Processing columns:  16%|█▌        | 840/5273 [03:48<20:22,  3.63it/s]"
     ]
    },
    {
     "name": "stderr",
     "output_type": "stream",
     "text": [
      "\r",
      "Processing columns:  16%|█▌        | 841/5273 [03:49<20:59,  3.52it/s]"
     ]
    },
    {
     "name": "stderr",
     "output_type": "stream",
     "text": [
      "\r",
      "Processing columns:  16%|█▌        | 842/5273 [03:49<20:13,  3.65it/s]"
     ]
    },
    {
     "name": "stderr",
     "output_type": "stream",
     "text": [
      "\r",
      "Processing columns:  16%|█▌        | 843/5273 [03:49<18:55,  3.90it/s]"
     ]
    },
    {
     "name": "stderr",
     "output_type": "stream",
     "text": [
      "\r",
      "Processing columns:  16%|█▌        | 844/5273 [03:49<17:44,  4.16it/s]"
     ]
    },
    {
     "name": "stderr",
     "output_type": "stream",
     "text": [
      "\r",
      "Processing columns:  16%|█▌        | 845/5273 [03:50<17:29,  4.22it/s]"
     ]
    },
    {
     "name": "stderr",
     "output_type": "stream",
     "text": [
      "\r",
      "Processing columns:  16%|█▌        | 846/5273 [03:50<18:35,  3.97it/s]"
     ]
    },
    {
     "name": "stderr",
     "output_type": "stream",
     "text": [
      "\r",
      "Processing columns:  16%|█▌        | 847/5273 [03:50<21:45,  3.39it/s]"
     ]
    },
    {
     "name": "stderr",
     "output_type": "stream",
     "text": [
      "\r",
      "Processing columns:  16%|█▌        | 848/5273 [03:51<24:45,  2.98it/s]"
     ]
    },
    {
     "name": "stderr",
     "output_type": "stream",
     "text": [
      "\r",
      "Processing columns:  16%|█▌        | 849/5273 [03:51<22:16,  3.31it/s]"
     ]
    },
    {
     "name": "stderr",
     "output_type": "stream",
     "text": [
      "\r",
      "Processing columns:  16%|█▌        | 850/5273 [03:51<20:49,  3.54it/s]"
     ]
    },
    {
     "name": "stderr",
     "output_type": "stream",
     "text": [
      "\r",
      "Processing columns:  16%|█▌        | 851/5273 [03:52<20:35,  3.58it/s]"
     ]
    },
    {
     "name": "stderr",
     "output_type": "stream",
     "text": [
      "\r",
      "Processing columns:  16%|█▌        | 852/5273 [03:52<19:56,  3.70it/s]"
     ]
    },
    {
     "name": "stderr",
     "output_type": "stream",
     "text": [
      "\r",
      "Processing columns:  16%|█▌        | 853/5273 [03:52<19:14,  3.83it/s]"
     ]
    },
    {
     "name": "stderr",
     "output_type": "stream",
     "text": [
      "\r",
      "Processing columns:  16%|█▌        | 854/5273 [03:52<18:16,  4.03it/s]"
     ]
    },
    {
     "name": "stderr",
     "output_type": "stream",
     "text": [
      "\r",
      "Processing columns:  16%|█▌        | 855/5273 [03:52<19:04,  3.86it/s]"
     ]
    },
    {
     "name": "stderr",
     "output_type": "stream",
     "text": [
      "\r",
      "Processing columns:  16%|█▌        | 856/5273 [03:53<18:39,  3.94it/s]"
     ]
    },
    {
     "name": "stderr",
     "output_type": "stream",
     "text": [
      "\r",
      "Processing columns:  16%|█▋        | 857/5273 [03:53<18:13,  4.04it/s]"
     ]
    },
    {
     "name": "stderr",
     "output_type": "stream",
     "text": [
      "\r",
      "Processing columns:  16%|█▋        | 858/5273 [03:53<17:53,  4.11it/s]"
     ]
    },
    {
     "name": "stderr",
     "output_type": "stream",
     "text": [
      "\r",
      "Processing columns:  16%|█▋        | 859/5273 [03:53<17:44,  4.15it/s]"
     ]
    },
    {
     "name": "stderr",
     "output_type": "stream",
     "text": [
      "\r",
      "Processing columns:  16%|█▋        | 860/5273 [03:54<22:08,  3.32it/s]"
     ]
    },
    {
     "name": "stderr",
     "output_type": "stream",
     "text": [
      "\r",
      "Processing columns:  16%|█▋        | 861/5273 [03:54<20:37,  3.56it/s]"
     ]
    },
    {
     "name": "stderr",
     "output_type": "stream",
     "text": [
      "\r",
      "Processing columns:  16%|█▋        | 862/5273 [03:54<19:57,  3.68it/s]"
     ]
    },
    {
     "name": "stderr",
     "output_type": "stream",
     "text": [
      "\r",
      "Processing columns:  16%|█▋        | 863/5273 [03:55<19:10,  3.83it/s]"
     ]
    },
    {
     "name": "stderr",
     "output_type": "stream",
     "text": [
      "\r",
      "Processing columns:  16%|█▋        | 864/5273 [03:55<19:06,  3.85it/s]"
     ]
    },
    {
     "name": "stderr",
     "output_type": "stream",
     "text": [
      "\r",
      "Processing columns:  16%|█▋        | 865/5273 [03:55<18:07,  4.05it/s]"
     ]
    },
    {
     "name": "stderr",
     "output_type": "stream",
     "text": [
      "\r",
      "Processing columns:  16%|█▋        | 866/5273 [03:55<19:48,  3.71it/s]"
     ]
    },
    {
     "name": "stderr",
     "output_type": "stream",
     "text": [
      "\r",
      "Processing columns:  16%|█▋        | 867/5273 [03:56<20:46,  3.53it/s]"
     ]
    },
    {
     "name": "stderr",
     "output_type": "stream",
     "text": [
      "\r",
      "Processing columns:  16%|█▋        | 868/5273 [03:56<18:58,  3.87it/s]"
     ]
    },
    {
     "name": "stderr",
     "output_type": "stream",
     "text": [
      "\r",
      "Processing columns:  16%|█▋        | 869/5273 [03:56<19:56,  3.68it/s]"
     ]
    },
    {
     "name": "stderr",
     "output_type": "stream",
     "text": [
      "\r",
      "Processing columns:  16%|█▋        | 870/5273 [03:56<19:51,  3.69it/s]"
     ]
    },
    {
     "name": "stderr",
     "output_type": "stream",
     "text": [
      "\r",
      "Processing columns:  17%|█▋        | 871/5273 [03:57<19:27,  3.77it/s]"
     ]
    },
    {
     "name": "stderr",
     "output_type": "stream",
     "text": [
      "\r",
      "Processing columns:  17%|█▋        | 872/5273 [03:57<18:30,  3.96it/s]"
     ]
    },
    {
     "name": "stderr",
     "output_type": "stream",
     "text": [
      "\r",
      "Processing columns:  17%|█▋        | 873/5273 [03:57<20:39,  3.55it/s]"
     ]
    },
    {
     "name": "stderr",
     "output_type": "stream",
     "text": [
      "\r",
      "Processing columns:  17%|█▋        | 874/5273 [03:58<20:36,  3.56it/s]"
     ]
    },
    {
     "name": "stderr",
     "output_type": "stream",
     "text": [
      "\r",
      "Processing columns:  17%|█▋        | 875/5273 [03:58<18:58,  3.86it/s]"
     ]
    },
    {
     "name": "stderr",
     "output_type": "stream",
     "text": [
      "\r",
      "Processing columns:  17%|█▋        | 876/5273 [03:58<19:08,  3.83it/s]"
     ]
    },
    {
     "name": "stderr",
     "output_type": "stream",
     "text": [
      "\r",
      "Processing columns:  17%|█▋        | 877/5273 [03:58<18:01,  4.06it/s]"
     ]
    },
    {
     "name": "stderr",
     "output_type": "stream",
     "text": [
      "\r",
      "Processing columns:  17%|█▋        | 878/5273 [03:59<19:15,  3.80it/s]"
     ]
    },
    {
     "name": "stderr",
     "output_type": "stream",
     "text": [
      "\r",
      "Processing columns:  17%|█▋        | 879/5273 [03:59<19:12,  3.81it/s]"
     ]
    },
    {
     "name": "stderr",
     "output_type": "stream",
     "text": [
      "\r",
      "Processing columns:  17%|█▋        | 880/5273 [03:59<18:22,  3.98it/s]"
     ]
    },
    {
     "name": "stderr",
     "output_type": "stream",
     "text": [
      "\r",
      "Processing columns:  17%|█▋        | 881/5273 [03:59<17:15,  4.24it/s]"
     ]
    },
    {
     "name": "stderr",
     "output_type": "stream",
     "text": [
      "\r",
      "Processing columns:  17%|█▋        | 882/5273 [04:00<19:45,  3.70it/s]"
     ]
    },
    {
     "name": "stderr",
     "output_type": "stream",
     "text": [
      "\r",
      "Processing columns:  17%|█▋        | 883/5273 [04:00<19:10,  3.82it/s]"
     ]
    },
    {
     "name": "stderr",
     "output_type": "stream",
     "text": [
      "\r",
      "Processing columns:  17%|█▋        | 884/5273 [04:00<17:47,  4.11it/s]"
     ]
    },
    {
     "name": "stderr",
     "output_type": "stream",
     "text": [
      "\r",
      "Processing columns:  17%|█▋        | 885/5273 [04:00<17:34,  4.16it/s]"
     ]
    },
    {
     "name": "stderr",
     "output_type": "stream",
     "text": [
      "\r",
      "Processing columns:  17%|█▋        | 886/5273 [04:01<21:06,  3.46it/s]"
     ]
    },
    {
     "name": "stderr",
     "output_type": "stream",
     "text": [
      "\r",
      "Processing columns:  17%|█▋        | 887/5273 [04:01<24:03,  3.04it/s]"
     ]
    },
    {
     "name": "stderr",
     "output_type": "stream",
     "text": [
      "\r",
      "Processing columns:  17%|█▋        | 888/5273 [04:01<21:37,  3.38it/s]"
     ]
    },
    {
     "name": "stderr",
     "output_type": "stream",
     "text": [
      "\r",
      "Processing columns:  17%|█▋        | 889/5273 [04:02<20:14,  3.61it/s]"
     ]
    },
    {
     "name": "stderr",
     "output_type": "stream",
     "text": [
      "\r",
      "Processing columns:  17%|█▋        | 890/5273 [04:02<18:37,  3.92it/s]"
     ]
    },
    {
     "name": "stderr",
     "output_type": "stream",
     "text": [
      "\r",
      "Processing columns:  17%|█▋        | 891/5273 [04:02<19:49,  3.68it/s]"
     ]
    },
    {
     "name": "stderr",
     "output_type": "stream",
     "text": [
      "\r",
      "Processing columns:  17%|█▋        | 892/5273 [04:02<18:44,  3.90it/s]"
     ]
    },
    {
     "name": "stderr",
     "output_type": "stream",
     "text": [
      "\r",
      "Processing columns:  17%|█▋        | 893/5273 [04:03<20:40,  3.53it/s]"
     ]
    },
    {
     "name": "stderr",
     "output_type": "stream",
     "text": [
      "\r",
      "Processing columns:  17%|█▋        | 894/5273 [04:03<18:58,  3.85it/s]"
     ]
    },
    {
     "name": "stderr",
     "output_type": "stream",
     "text": [
      "\r",
      "Processing columns:  17%|█▋        | 895/5273 [04:03<18:15,  4.00it/s]"
     ]
    },
    {
     "name": "stderr",
     "output_type": "stream",
     "text": [
      "\r",
      "Processing columns:  17%|█▋        | 896/5273 [04:03<17:57,  4.06it/s]"
     ]
    },
    {
     "name": "stderr",
     "output_type": "stream",
     "text": [
      "\r",
      "Processing columns:  17%|█▋        | 897/5273 [04:04<17:31,  4.16it/s]"
     ]
    },
    {
     "name": "stderr",
     "output_type": "stream",
     "text": [
      "\r",
      "Processing columns:  17%|█▋        | 898/5273 [04:04<19:17,  3.78it/s]"
     ]
    },
    {
     "name": "stderr",
     "output_type": "stream",
     "text": [
      "\r",
      "Processing columns:  17%|█▋        | 899/5273 [04:04<24:03,  3.03it/s]"
     ]
    },
    {
     "name": "stderr",
     "output_type": "stream",
     "text": [
      "\r",
      "Processing columns:  17%|█▋        | 900/5273 [04:05<22:01,  3.31it/s]"
     ]
    },
    {
     "name": "stderr",
     "output_type": "stream",
     "text": [
      "\r",
      "Processing columns:  17%|█▋        | 901/5273 [04:05<21:25,  3.40it/s]"
     ]
    },
    {
     "name": "stderr",
     "output_type": "stream",
     "text": [
      "\r",
      "Processing columns:  17%|█▋        | 902/5273 [04:05<20:12,  3.61it/s]"
     ]
    },
    {
     "name": "stderr",
     "output_type": "stream",
     "text": [
      "\r",
      "Processing columns:  17%|█▋        | 903/5273 [04:05<20:31,  3.55it/s]"
     ]
    },
    {
     "name": "stderr",
     "output_type": "stream",
     "text": [
      "\r",
      "Processing columns:  17%|█▋        | 904/5273 [04:06<18:32,  3.93it/s]"
     ]
    },
    {
     "name": "stderr",
     "output_type": "stream",
     "text": [
      "\r",
      "Processing columns:  17%|█▋        | 905/5273 [04:06<17:58,  4.05it/s]"
     ]
    },
    {
     "name": "stderr",
     "output_type": "stream",
     "text": [
      "\r",
      "Processing columns:  17%|█▋        | 906/5273 [04:06<17:29,  4.16it/s]"
     ]
    },
    {
     "name": "stderr",
     "output_type": "stream",
     "text": [
      "\r",
      "Processing columns:  17%|█▋        | 907/5273 [04:06<18:21,  3.96it/s]"
     ]
    },
    {
     "name": "stderr",
     "output_type": "stream",
     "text": [
      "\r",
      "Processing columns:  17%|█▋        | 908/5273 [04:07<18:42,  3.89it/s]"
     ]
    },
    {
     "name": "stderr",
     "output_type": "stream",
     "text": [
      "\r",
      "Processing columns:  17%|█▋        | 909/5273 [04:07<18:13,  3.99it/s]"
     ]
    },
    {
     "name": "stderr",
     "output_type": "stream",
     "text": [
      "\r",
      "Processing columns:  17%|█▋        | 910/5273 [04:07<19:09,  3.80it/s]"
     ]
    },
    {
     "name": "stderr",
     "output_type": "stream",
     "text": [
      "\r",
      "Processing columns:  17%|█▋        | 911/5273 [04:07<18:14,  3.98it/s]"
     ]
    },
    {
     "name": "stderr",
     "output_type": "stream",
     "text": [
      "\r",
      "Processing columns:  17%|█▋        | 912/5273 [04:08<18:18,  3.97it/s]"
     ]
    },
    {
     "name": "stderr",
     "output_type": "stream",
     "text": [
      "\r",
      "Processing columns:  17%|█▋        | 913/5273 [04:08<22:14,  3.27it/s]"
     ]
    },
    {
     "name": "stderr",
     "output_type": "stream",
     "text": [
      "\r",
      "Processing columns:  17%|█▋        | 914/5273 [04:08<19:53,  3.65it/s]"
     ]
    },
    {
     "name": "stderr",
     "output_type": "stream",
     "text": [
      "\r",
      "Processing columns:  17%|█▋        | 915/5273 [04:08<18:55,  3.84it/s]"
     ]
    },
    {
     "name": "stderr",
     "output_type": "stream",
     "text": [
      "\r",
      "Processing columns:  17%|█▋        | 916/5273 [04:09<17:58,  4.04it/s]"
     ]
    },
    {
     "name": "stderr",
     "output_type": "stream",
     "text": [
      "\r",
      "Processing columns:  17%|█▋        | 917/5273 [04:09<17:51,  4.06it/s]"
     ]
    },
    {
     "name": "stderr",
     "output_type": "stream",
     "text": [
      "\r",
      "Processing columns:  17%|█▋        | 918/5273 [04:09<17:21,  4.18it/s]"
     ]
    },
    {
     "name": "stderr",
     "output_type": "stream",
     "text": [
      "\r",
      "Processing columns:  17%|█▋        | 919/5273 [04:09<18:27,  3.93it/s]"
     ]
    },
    {
     "name": "stderr",
     "output_type": "stream",
     "text": [
      "\r",
      "Processing columns:  17%|█▋        | 920/5273 [04:10<18:22,  3.95it/s]"
     ]
    },
    {
     "name": "stderr",
     "output_type": "stream",
     "text": [
      "\r",
      "Processing columns:  17%|█▋        | 921/5273 [04:10<17:30,  4.14it/s]"
     ]
    },
    {
     "name": "stderr",
     "output_type": "stream",
     "text": [
      "\r",
      "Processing columns:  17%|█▋        | 922/5273 [04:10<16:47,  4.32it/s]"
     ]
    },
    {
     "name": "stderr",
     "output_type": "stream",
     "text": [
      "\r",
      "Processing columns:  18%|█▊        | 923/5273 [04:10<19:02,  3.81it/s]"
     ]
    },
    {
     "name": "stderr",
     "output_type": "stream",
     "text": [
      "\r",
      "Processing columns:  18%|█▊        | 924/5273 [04:11<19:10,  3.78it/s]"
     ]
    },
    {
     "name": "stderr",
     "output_type": "stream",
     "text": [
      "\r",
      "Processing columns:  18%|█▊        | 925/5273 [04:11<17:59,  4.03it/s]"
     ]
    },
    {
     "name": "stderr",
     "output_type": "stream",
     "text": [
      "\r",
      "Processing columns:  18%|█▊        | 926/5273 [04:11<21:48,  3.32it/s]"
     ]
    },
    {
     "name": "stderr",
     "output_type": "stream",
     "text": [
      "\r",
      "Processing columns:  18%|█▊        | 927/5273 [04:12<21:22,  3.39it/s]"
     ]
    },
    {
     "name": "stderr",
     "output_type": "stream",
     "text": [
      "\r",
      "Processing columns:  18%|█▊        | 928/5273 [04:12<19:59,  3.62it/s]"
     ]
    },
    {
     "name": "stderr",
     "output_type": "stream",
     "text": [
      "\r",
      "Processing columns:  18%|█▊        | 929/5273 [04:12<18:43,  3.87it/s]"
     ]
    },
    {
     "name": "stderr",
     "output_type": "stream",
     "text": [
      "\r",
      "Processing columns:  18%|█▊        | 930/5273 [04:12<18:33,  3.90it/s]"
     ]
    },
    {
     "name": "stderr",
     "output_type": "stream",
     "text": [
      "\r",
      "Processing columns:  18%|█▊        | 931/5273 [04:13<20:08,  3.59it/s]"
     ]
    },
    {
     "name": "stderr",
     "output_type": "stream",
     "text": [
      "\r",
      "Processing columns:  18%|█▊        | 932/5273 [04:13<19:16,  3.75it/s]"
     ]
    },
    {
     "name": "stderr",
     "output_type": "stream",
     "text": [
      "\r",
      "Processing columns:  18%|█▊        | 933/5273 [04:13<18:49,  3.84it/s]"
     ]
    },
    {
     "name": "stderr",
     "output_type": "stream",
     "text": [
      "\r",
      "Processing columns:  18%|█▊        | 934/5273 [04:13<17:35,  4.11it/s]"
     ]
    },
    {
     "name": "stderr",
     "output_type": "stream",
     "text": [
      "\r",
      "Processing columns:  18%|█▊        | 935/5273 [04:14<18:55,  3.82it/s]"
     ]
    },
    {
     "name": "stderr",
     "output_type": "stream",
     "text": [
      "\r",
      "Processing columns:  18%|█▊        | 936/5273 [04:14<18:10,  3.98it/s]"
     ]
    },
    {
     "name": "stderr",
     "output_type": "stream",
     "text": [
      "\r",
      "Processing columns:  18%|█▊        | 937/5273 [04:14<17:09,  4.21it/s]"
     ]
    },
    {
     "name": "stderr",
     "output_type": "stream",
     "text": [
      "\r",
      "Processing columns:  18%|█▊        | 938/5273 [04:14<17:06,  4.22it/s]"
     ]
    },
    {
     "name": "stderr",
     "output_type": "stream",
     "text": [
      "\r",
      "Processing columns:  18%|█▊        | 939/5273 [04:15<23:11,  3.12it/s]"
     ]
    },
    {
     "name": "stderr",
     "output_type": "stream",
     "text": [
      "\r",
      "Processing columns:  18%|█▊        | 940/5273 [04:15<21:46,  3.32it/s]"
     ]
    },
    {
     "name": "stderr",
     "output_type": "stream",
     "text": [
      "\r",
      "Processing columns:  18%|█▊        | 941/5273 [04:15<20:52,  3.46it/s]"
     ]
    },
    {
     "name": "stderr",
     "output_type": "stream",
     "text": [
      "\r",
      "Processing columns:  18%|█▊        | 942/5273 [04:16<19:32,  3.69it/s]"
     ]
    },
    {
     "name": "stderr",
     "output_type": "stream",
     "text": [
      "\r",
      "Processing columns:  18%|█▊        | 943/5273 [04:16<18:00,  4.01it/s]"
     ]
    },
    {
     "name": "stderr",
     "output_type": "stream",
     "text": [
      "\r",
      "Processing columns:  18%|█▊        | 944/5273 [04:16<17:33,  4.11it/s]"
     ]
    },
    {
     "name": "stderr",
     "output_type": "stream",
     "text": [
      "\r",
      "Processing columns:  18%|█▊        | 945/5273 [04:16<18:57,  3.81it/s]"
     ]
    },
    {
     "name": "stderr",
     "output_type": "stream",
     "text": [
      "\r",
      "Processing columns:  18%|█▊        | 946/5273 [04:17<18:50,  3.83it/s]"
     ]
    },
    {
     "name": "stderr",
     "output_type": "stream",
     "text": [
      "\r",
      "Processing columns:  18%|█▊        | 947/5273 [04:17<19:24,  3.71it/s]"
     ]
    },
    {
     "name": "stderr",
     "output_type": "stream",
     "text": [
      "\r",
      "Processing columns:  18%|█▊        | 948/5273 [04:17<20:52,  3.45it/s]"
     ]
    },
    {
     "name": "stderr",
     "output_type": "stream",
     "text": [
      "\r",
      "Processing columns:  18%|█▊        | 949/5273 [04:17<19:04,  3.78it/s]"
     ]
    },
    {
     "name": "stderr",
     "output_type": "stream",
     "text": [
      "\r",
      "Processing columns:  18%|█▊        | 950/5273 [04:18<19:16,  3.74it/s]"
     ]
    },
    {
     "name": "stderr",
     "output_type": "stream",
     "text": [
      "\r",
      "Processing columns:  18%|█▊        | 951/5273 [04:18<18:46,  3.84it/s]"
     ]
    },
    {
     "name": "stderr",
     "output_type": "stream",
     "text": [
      "\r",
      "Processing columns:  18%|█▊        | 952/5273 [04:18<22:35,  3.19it/s]"
     ]
    },
    {
     "name": "stderr",
     "output_type": "stream",
     "text": [
      "\r",
      "Processing columns:  18%|█▊        | 953/5273 [04:19<20:23,  3.53it/s]"
     ]
    },
    {
     "name": "stderr",
     "output_type": "stream",
     "text": [
      "\r",
      "Processing columns:  18%|█▊        | 954/5273 [04:19<18:30,  3.89it/s]"
     ]
    },
    {
     "name": "stderr",
     "output_type": "stream",
     "text": [
      "\r",
      "Processing columns:  18%|█▊        | 955/5273 [04:19<20:50,  3.45it/s]"
     ]
    },
    {
     "name": "stderr",
     "output_type": "stream",
     "text": [
      "\r",
      "Processing columns:  18%|█▊        | 956/5273 [04:19<20:11,  3.56it/s]"
     ]
    },
    {
     "name": "stderr",
     "output_type": "stream",
     "text": [
      "\r",
      "Processing columns:  18%|█▊        | 957/5273 [04:20<20:50,  3.45it/s]"
     ]
    },
    {
     "name": "stderr",
     "output_type": "stream",
     "text": [
      "\r",
      "Processing columns:  18%|█▊        | 958/5273 [04:20<19:44,  3.64it/s]"
     ]
    },
    {
     "name": "stderr",
     "output_type": "stream",
     "text": [
      "\r",
      "Processing columns:  18%|█▊        | 959/5273 [04:20<19:17,  3.73it/s]"
     ]
    },
    {
     "name": "stderr",
     "output_type": "stream",
     "text": [
      "\r",
      "Processing columns:  18%|█▊        | 960/5273 [04:20<18:31,  3.88it/s]"
     ]
    },
    {
     "name": "stderr",
     "output_type": "stream",
     "text": [
      "\r",
      "Processing columns:  18%|█▊        | 961/5273 [04:21<18:15,  3.94it/s]"
     ]
    },
    {
     "name": "stderr",
     "output_type": "stream",
     "text": [
      "\r",
      "Processing columns:  18%|█▊        | 962/5273 [04:21<18:11,  3.95it/s]"
     ]
    },
    {
     "name": "stderr",
     "output_type": "stream",
     "text": [
      "\r",
      "Processing columns:  18%|█▊        | 963/5273 [04:21<17:36,  4.08it/s]"
     ]
    },
    {
     "name": "stderr",
     "output_type": "stream",
     "text": [
      "\r",
      "Processing columns:  18%|█▊        | 964/5273 [04:21<16:29,  4.35it/s]"
     ]
    },
    {
     "name": "stderr",
     "output_type": "stream",
     "text": [
      "\r",
      "Processing columns:  18%|█▊        | 965/5273 [04:22<27:07,  2.65it/s]"
     ]
    },
    {
     "name": "stderr",
     "output_type": "stream",
     "text": [
      "\r",
      "Processing columns:  18%|█▊        | 966/5273 [04:22<24:20,  2.95it/s]"
     ]
    },
    {
     "name": "stderr",
     "output_type": "stream",
     "text": [
      "\r",
      "Processing columns:  18%|█▊        | 967/5273 [04:23<24:23,  2.94it/s]"
     ]
    },
    {
     "name": "stderr",
     "output_type": "stream",
     "text": [
      "\r",
      "Processing columns:  18%|█▊        | 968/5273 [04:23<22:10,  3.24it/s]"
     ]
    },
    {
     "name": "stderr",
     "output_type": "stream",
     "text": [
      "\r",
      "Processing columns:  18%|█▊        | 969/5273 [04:23<20:46,  3.45it/s]"
     ]
    },
    {
     "name": "stderr",
     "output_type": "stream",
     "text": [
      "\r",
      "Processing columns:  18%|█▊        | 970/5273 [04:23<19:26,  3.69it/s]"
     ]
    },
    {
     "name": "stderr",
     "output_type": "stream",
     "text": [
      "\r",
      "Processing columns:  18%|█▊        | 971/5273 [04:24<20:16,  3.54it/s]"
     ]
    },
    {
     "name": "stderr",
     "output_type": "stream",
     "text": [
      "\r",
      "Processing columns:  18%|█▊        | 972/5273 [04:24<18:32,  3.87it/s]"
     ]
    },
    {
     "name": "stderr",
     "output_type": "stream",
     "text": [
      "\r",
      "Processing columns:  18%|█▊        | 973/5273 [04:24<18:25,  3.89it/s]"
     ]
    },
    {
     "name": "stderr",
     "output_type": "stream",
     "text": [
      "\r",
      "Processing columns:  18%|█▊        | 974/5273 [04:24<19:12,  3.73it/s]"
     ]
    },
    {
     "name": "stderr",
     "output_type": "stream",
     "text": [
      "\r",
      "Processing columns:  18%|█▊        | 975/5273 [04:25<18:06,  3.95it/s]"
     ]
    },
    {
     "name": "stderr",
     "output_type": "stream",
     "text": [
      "\r",
      "Processing columns:  19%|█▊        | 976/5273 [04:25<18:49,  3.80it/s]"
     ]
    },
    {
     "name": "stderr",
     "output_type": "stream",
     "text": [
      "\r",
      "Processing columns:  19%|█▊        | 977/5273 [04:25<17:59,  3.98it/s]"
     ]
    },
    {
     "name": "stderr",
     "output_type": "stream",
     "text": [
      "\r",
      "Processing columns:  19%|█▊        | 978/5273 [04:26<25:49,  2.77it/s]"
     ]
    },
    {
     "name": "stderr",
     "output_type": "stream",
     "text": [
      "\r",
      "Processing columns:  19%|█▊        | 979/5273 [04:26<24:53,  2.88it/s]"
     ]
    },
    {
     "name": "stderr",
     "output_type": "stream",
     "text": [
      "\r",
      "Processing columns:  19%|█▊        | 980/5273 [04:26<22:12,  3.22it/s]"
     ]
    },
    {
     "name": "stderr",
     "output_type": "stream",
     "text": [
      "\r",
      "Processing columns:  19%|█▊        | 981/5273 [04:27<20:33,  3.48it/s]"
     ]
    },
    {
     "name": "stderr",
     "output_type": "stream",
     "text": [
      "\r",
      "Processing columns:  19%|█▊        | 982/5273 [04:27<19:22,  3.69it/s]"
     ]
    },
    {
     "name": "stderr",
     "output_type": "stream",
     "text": [
      "\r",
      "Processing columns:  19%|█▊        | 983/5273 [04:27<18:33,  3.85it/s]"
     ]
    },
    {
     "name": "stderr",
     "output_type": "stream",
     "text": [
      "\r",
      "Processing columns:  19%|█▊        | 984/5273 [04:27<17:28,  4.09it/s]"
     ]
    },
    {
     "name": "stderr",
     "output_type": "stream",
     "text": [
      "\r",
      "Processing columns:  19%|█▊        | 985/5273 [04:27<17:09,  4.16it/s]"
     ]
    },
    {
     "name": "stderr",
     "output_type": "stream",
     "text": [
      "\r",
      "Processing columns:  19%|█▊        | 986/5273 [04:28<20:59,  3.40it/s]"
     ]
    },
    {
     "name": "stderr",
     "output_type": "stream",
     "text": [
      "\r",
      "Processing columns:  19%|█▊        | 987/5273 [04:28<19:25,  3.68it/s]"
     ]
    },
    {
     "name": "stderr",
     "output_type": "stream",
     "text": [
      "\r",
      "Processing columns:  19%|█▊        | 988/5273 [04:28<18:50,  3.79it/s]"
     ]
    },
    {
     "name": "stderr",
     "output_type": "stream",
     "text": [
      "\r",
      "Processing columns:  19%|█▉        | 989/5273 [04:29<18:12,  3.92it/s]"
     ]
    },
    {
     "name": "stderr",
     "output_type": "stream",
     "text": [
      "\r",
      "Processing columns:  19%|█▉        | 990/5273 [04:29<21:00,  3.40it/s]"
     ]
    },
    {
     "name": "stderr",
     "output_type": "stream",
     "text": [
      "\r",
      "Processing columns:  19%|█▉        | 991/5273 [04:29<25:25,  2.81it/s]"
     ]
    },
    {
     "name": "stderr",
     "output_type": "stream",
     "text": [
      "\r",
      "Processing columns:  19%|█▉        | 992/5273 [04:30<23:00,  3.10it/s]"
     ]
    },
    {
     "name": "stderr",
     "output_type": "stream",
     "text": [
      "\r",
      "Processing columns:  19%|█▉        | 993/5273 [04:30<21:57,  3.25it/s]"
     ]
    },
    {
     "name": "stderr",
     "output_type": "stream",
     "text": [
      "\r",
      "Processing columns:  19%|█▉        | 994/5273 [04:30<19:34,  3.64it/s]"
     ]
    },
    {
     "name": "stderr",
     "output_type": "stream",
     "text": [
      "\r",
      "Processing columns:  19%|█▉        | 995/5273 [04:30<20:34,  3.47it/s]"
     ]
    },
    {
     "name": "stderr",
     "output_type": "stream",
     "text": [
      "\r",
      "Processing columns:  19%|█▉        | 996/5273 [04:31<18:43,  3.81it/s]"
     ]
    },
    {
     "name": "stderr",
     "output_type": "stream",
     "text": [
      "\r",
      "Processing columns:  19%|█▉        | 997/5273 [04:31<18:14,  3.91it/s]"
     ]
    },
    {
     "name": "stderr",
     "output_type": "stream",
     "text": [
      "\r",
      "Processing columns:  19%|█▉        | 998/5273 [04:31<18:07,  3.93it/s]"
     ]
    },
    {
     "name": "stderr",
     "output_type": "stream",
     "text": [
      "\r",
      "Processing columns:  19%|█▉        | 999/5273 [04:31<18:10,  3.92it/s]"
     ]
    },
    {
     "name": "stderr",
     "output_type": "stream",
     "text": [
      "\r",
      "Processing columns:  19%|█▉        | 1000/5273 [04:32<19:28,  3.66it/s]"
     ]
    },
    {
     "name": "stderr",
     "output_type": "stream",
     "text": [
      "\r",
      "Processing columns:  19%|█▉        | 1001/5273 [04:32<18:00,  3.96it/s]"
     ]
    },
    {
     "name": "stderr",
     "output_type": "stream",
     "text": [
      "\r",
      "Processing columns:  19%|█▉        | 1002/5273 [04:32<21:30,  3.31it/s]"
     ]
    },
    {
     "name": "stderr",
     "output_type": "stream",
     "text": [
      "\r",
      "Processing columns:  19%|█▉        | 1003/5273 [04:33<22:04,  3.22it/s]"
     ]
    },
    {
     "name": "stderr",
     "output_type": "stream",
     "text": [
      "\r",
      "Processing columns:  19%|█▉        | 1004/5273 [04:33<19:40,  3.62it/s]"
     ]
    },
    {
     "name": "stderr",
     "output_type": "stream",
     "text": [
      "\r",
      "Processing columns:  19%|█▉        | 1005/5273 [04:33<24:26,  2.91it/s]"
     ]
    },
    {
     "name": "stderr",
     "output_type": "stream",
     "text": [
      "\r",
      "Processing columns:  19%|█▉        | 1006/5273 [04:34<22:42,  3.13it/s]"
     ]
    },
    {
     "name": "stderr",
     "output_type": "stream",
     "text": [
      "\r",
      "Processing columns:  19%|█▉        | 1007/5273 [04:34<22:39,  3.14it/s]"
     ]
    },
    {
     "name": "stderr",
     "output_type": "stream",
     "text": [
      "\r",
      "Processing columns:  19%|█▉        | 1008/5273 [04:34<20:56,  3.39it/s]"
     ]
    },
    {
     "name": "stderr",
     "output_type": "stream",
     "text": [
      "\r",
      "Processing columns:  19%|█▉        | 1009/5273 [04:34<19:28,  3.65it/s]"
     ]
    },
    {
     "name": "stderr",
     "output_type": "stream",
     "text": [
      "\r",
      "Processing columns:  19%|█▉        | 1010/5273 [04:35<20:01,  3.55it/s]"
     ]
    },
    {
     "name": "stderr",
     "output_type": "stream",
     "text": [
      "\r",
      "Processing columns:  19%|█▉        | 1011/5273 [04:35<18:42,  3.80it/s]"
     ]
    },
    {
     "name": "stderr",
     "output_type": "stream",
     "text": [
      "\r",
      "Processing columns:  19%|█▉        | 1012/5273 [04:35<18:28,  3.85it/s]"
     ]
    },
    {
     "name": "stderr",
     "output_type": "stream",
     "text": [
      "\r",
      "Processing columns:  19%|█▉        | 1013/5273 [04:35<18:49,  3.77it/s]"
     ]
    },
    {
     "name": "stderr",
     "output_type": "stream",
     "text": [
      "\r",
      "Processing columns:  19%|█▉        | 1014/5273 [04:36<17:30,  4.06it/s]"
     ]
    },
    {
     "name": "stderr",
     "output_type": "stream",
     "text": [
      "\r",
      "Processing columns:  19%|█▉        | 1015/5273 [04:36<16:31,  4.29it/s]"
     ]
    },
    {
     "name": "stderr",
     "output_type": "stream",
     "text": [
      "\r",
      "Processing columns:  19%|█▉        | 1016/5273 [04:36<19:57,  3.56it/s]"
     ]
    },
    {
     "name": "stderr",
     "output_type": "stream",
     "text": [
      "\r",
      "Processing columns:  19%|█▉        | 1017/5273 [04:37<19:14,  3.69it/s]"
     ]
    },
    {
     "name": "stderr",
     "output_type": "stream",
     "text": [
      "\r",
      "Processing columns:  19%|█▉        | 1018/5273 [04:37<22:59,  3.08it/s]"
     ]
    },
    {
     "name": "stderr",
     "output_type": "stream",
     "text": [
      "\r",
      "Processing columns:  19%|█▉        | 1019/5273 [04:37<21:01,  3.37it/s]"
     ]
    },
    {
     "name": "stderr",
     "output_type": "stream",
     "text": [
      "\r",
      "Processing columns:  19%|█▉        | 1020/5273 [04:38<22:08,  3.20it/s]"
     ]
    },
    {
     "name": "stderr",
     "output_type": "stream",
     "text": [
      "\r",
      "Processing columns:  19%|█▉        | 1021/5273 [04:38<20:12,  3.51it/s]"
     ]
    },
    {
     "name": "stderr",
     "output_type": "stream",
     "text": [
      "\r",
      "Processing columns:  19%|█▉        | 1022/5273 [04:38<19:16,  3.68it/s]"
     ]
    },
    {
     "name": "stderr",
     "output_type": "stream",
     "text": [
      "\r",
      "Processing columns:  19%|█▉        | 1023/5273 [04:38<20:04,  3.53it/s]"
     ]
    },
    {
     "name": "stderr",
     "output_type": "stream",
     "text": [
      "\r",
      "Processing columns:  19%|█▉        | 1024/5273 [04:39<18:38,  3.80it/s]"
     ]
    },
    {
     "name": "stderr",
     "output_type": "stream",
     "text": [
      "\r",
      "Processing columns:  19%|█▉        | 1025/5273 [04:39<17:36,  4.02it/s]"
     ]
    },
    {
     "name": "stderr",
     "output_type": "stream",
     "text": [
      "\r",
      "Processing columns:  19%|█▉        | 1026/5273 [04:39<19:32,  3.62it/s]"
     ]
    },
    {
     "name": "stderr",
     "output_type": "stream",
     "text": [
      "\r",
      "Processing columns:  19%|█▉        | 1027/5273 [04:39<19:06,  3.70it/s]"
     ]
    },
    {
     "name": "stderr",
     "output_type": "stream",
     "text": [
      "\r",
      "Processing columns:  19%|█▉        | 1028/5273 [04:40<18:38,  3.80it/s]"
     ]
    },
    {
     "name": "stderr",
     "output_type": "stream",
     "text": [
      "\r",
      "Processing columns:  20%|█▉        | 1029/5273 [04:40<17:52,  3.96it/s]"
     ]
    },
    {
     "name": "stderr",
     "output_type": "stream",
     "text": [
      "\r",
      "Processing columns:  20%|█▉        | 1030/5273 [04:40<16:51,  4.20it/s]"
     ]
    },
    {
     "name": "stderr",
     "output_type": "stream",
     "text": [
      "\r",
      "Processing columns:  20%|█▉        | 1031/5273 [04:40<20:46,  3.40it/s]"
     ]
    },
    {
     "name": "stderr",
     "output_type": "stream",
     "text": [
      "\r",
      "Processing columns:  20%|█▉        | 1032/5273 [04:41<21:29,  3.29it/s]"
     ]
    },
    {
     "name": "stderr",
     "output_type": "stream",
     "text": [
      "\r",
      "Processing columns:  20%|█▉        | 1033/5273 [04:41<20:06,  3.51it/s]"
     ]
    },
    {
     "name": "stderr",
     "output_type": "stream",
     "text": [
      "\r",
      "Processing columns:  20%|█▉        | 1034/5273 [04:41<18:25,  3.84it/s]"
     ]
    },
    {
     "name": "stderr",
     "output_type": "stream",
     "text": [
      "\r",
      "Processing columns:  20%|█▉        | 1035/5273 [04:41<17:01,  4.15it/s]"
     ]
    },
    {
     "name": "stderr",
     "output_type": "stream",
     "text": [
      "\r",
      "Processing columns:  20%|█▉        | 1036/5273 [04:42<19:37,  3.60it/s]"
     ]
    },
    {
     "name": "stderr",
     "output_type": "stream",
     "text": [
      "\r",
      "Processing columns:  20%|█▉        | 1037/5273 [04:42<18:21,  3.85it/s]"
     ]
    },
    {
     "name": "stderr",
     "output_type": "stream",
     "text": [
      "\r",
      "Processing columns:  20%|█▉        | 1038/5273 [04:42<20:25,  3.46it/s]"
     ]
    },
    {
     "name": "stderr",
     "output_type": "stream",
     "text": [
      "\r",
      "Processing columns:  20%|█▉        | 1039/5273 [04:43<19:54,  3.55it/s]"
     ]
    },
    {
     "name": "stderr",
     "output_type": "stream",
     "text": [
      "\r",
      "Processing columns:  20%|█▉        | 1040/5273 [04:43<18:42,  3.77it/s]"
     ]
    },
    {
     "name": "stderr",
     "output_type": "stream",
     "text": [
      "\r",
      "Processing columns:  20%|█▉        | 1041/5273 [04:43<20:47,  3.39it/s]"
     ]
    },
    {
     "name": "stderr",
     "output_type": "stream",
     "text": [
      "\r",
      "Processing columns:  20%|█▉        | 1042/5273 [04:43<19:32,  3.61it/s]"
     ]
    },
    {
     "name": "stderr",
     "output_type": "stream",
     "text": [
      "\r",
      "Processing columns:  20%|█▉        | 1043/5273 [04:44<19:34,  3.60it/s]"
     ]
    },
    {
     "name": "stderr",
     "output_type": "stream",
     "text": [
      "\r",
      "Processing columns:  20%|█▉        | 1044/5273 [04:44<25:45,  2.74it/s]"
     ]
    },
    {
     "name": "stderr",
     "output_type": "stream",
     "text": [
      "\r",
      "Processing columns:  20%|█▉        | 1045/5273 [04:45<22:39,  3.11it/s]"
     ]
    },
    {
     "name": "stderr",
     "output_type": "stream",
     "text": [
      "\r",
      "Processing columns:  20%|█▉        | 1046/5273 [04:45<21:34,  3.27it/s]"
     ]
    },
    {
     "name": "stderr",
     "output_type": "stream",
     "text": [
      "\r",
      "Processing columns:  20%|█▉        | 1047/5273 [04:45<20:09,  3.49it/s]"
     ]
    },
    {
     "name": "stderr",
     "output_type": "stream",
     "text": [
      "\r",
      "Processing columns:  20%|█▉        | 1048/5273 [04:45<19:58,  3.53it/s]"
     ]
    },
    {
     "name": "stderr",
     "output_type": "stream",
     "text": [
      "\r",
      "Processing columns:  20%|█▉        | 1049/5273 [04:46<19:15,  3.66it/s]"
     ]
    },
    {
     "name": "stderr",
     "output_type": "stream",
     "text": [
      "\r",
      "Processing columns:  20%|█▉        | 1050/5273 [04:46<18:27,  3.81it/s]"
     ]
    },
    {
     "name": "stderr",
     "output_type": "stream",
     "text": [
      "\r",
      "Processing columns:  20%|█▉        | 1051/5273 [04:46<18:08,  3.88it/s]"
     ]
    },
    {
     "name": "stderr",
     "output_type": "stream",
     "text": [
      "\r",
      "Processing columns:  20%|█▉        | 1052/5273 [04:46<17:52,  3.94it/s]"
     ]
    },
    {
     "name": "stderr",
     "output_type": "stream",
     "text": [
      "\r",
      "Processing columns:  20%|█▉        | 1053/5273 [04:47<17:15,  4.07it/s]"
     ]
    },
    {
     "name": "stderr",
     "output_type": "stream",
     "text": [
      "\r",
      "Processing columns:  20%|█▉        | 1054/5273 [04:47<16:34,  4.24it/s]"
     ]
    },
    {
     "name": "stderr",
     "output_type": "stream",
     "text": [
      "\r",
      "Processing columns:  20%|██        | 1055/5273 [04:47<16:31,  4.25it/s]"
     ]
    },
    {
     "name": "stderr",
     "output_type": "stream",
     "text": [
      "\r",
      "Processing columns:  20%|██        | 1056/5273 [04:47<16:33,  4.24it/s]"
     ]
    },
    {
     "name": "stderr",
     "output_type": "stream",
     "text": [
      "\r",
      "Processing columns:  20%|██        | 1057/5273 [04:48<21:18,  3.30it/s]"
     ]
    },
    {
     "name": "stderr",
     "output_type": "stream",
     "text": [
      "\r",
      "Processing columns:  20%|██        | 1058/5273 [04:48<19:15,  3.65it/s]"
     ]
    },
    {
     "name": "stderr",
     "output_type": "stream",
     "text": [
      "\r",
      "Processing columns:  20%|██        | 1059/5273 [04:48<18:21,  3.83it/s]"
     ]
    },
    {
     "name": "stderr",
     "output_type": "stream",
     "text": [
      "\r",
      "Processing columns:  20%|██        | 1060/5273 [04:48<18:01,  3.90it/s]"
     ]
    },
    {
     "name": "stderr",
     "output_type": "stream",
     "text": [
      "\r",
      "Processing columns:  20%|██        | 1061/5273 [04:49<17:54,  3.92it/s]"
     ]
    },
    {
     "name": "stderr",
     "output_type": "stream",
     "text": [
      "\r",
      "Processing columns:  20%|██        | 1062/5273 [04:49<18:18,  3.83it/s]"
     ]
    },
    {
     "name": "stderr",
     "output_type": "stream",
     "text": [
      "\r",
      "Processing columns:  20%|██        | 1063/5273 [04:49<17:45,  3.95it/s]"
     ]
    },
    {
     "name": "stderr",
     "output_type": "stream",
     "text": [
      "\r",
      "Processing columns:  20%|██        | 1064/5273 [04:49<16:28,  4.26it/s]"
     ]
    },
    {
     "name": "stderr",
     "output_type": "stream",
     "text": [
      "\r",
      "Processing columns:  20%|██        | 1065/5273 [04:50<16:13,  4.32it/s]"
     ]
    },
    {
     "name": "stderr",
     "output_type": "stream",
     "text": [
      "\r",
      "Processing columns:  20%|██        | 1066/5273 [04:50<16:04,  4.36it/s]"
     ]
    },
    {
     "name": "stderr",
     "output_type": "stream",
     "text": [
      "\r",
      "Processing columns:  20%|██        | 1067/5273 [04:50<16:00,  4.38it/s]"
     ]
    },
    {
     "name": "stderr",
     "output_type": "stream",
     "text": [
      "\r",
      "Processing columns:  20%|██        | 1068/5273 [04:50<15:56,  4.40it/s]"
     ]
    },
    {
     "name": "stderr",
     "output_type": "stream",
     "text": [
      "\r",
      "Processing columns:  20%|██        | 1069/5273 [04:50<16:06,  4.35it/s]"
     ]
    },
    {
     "name": "stderr",
     "output_type": "stream",
     "text": [
      "\r",
      "Processing columns:  20%|██        | 1070/5273 [04:51<22:20,  3.14it/s]"
     ]
    },
    {
     "name": "stderr",
     "output_type": "stream",
     "text": [
      "\r",
      "Processing columns:  20%|██        | 1071/5273 [04:51<20:41,  3.38it/s]"
     ]
    },
    {
     "name": "stderr",
     "output_type": "stream",
     "text": [
      "\r",
      "Processing columns:  20%|██        | 1072/5273 [04:51<19:24,  3.61it/s]"
     ]
    },
    {
     "name": "stderr",
     "output_type": "stream",
     "text": [
      "\r",
      "Processing columns:  20%|██        | 1073/5273 [04:52<18:46,  3.73it/s]"
     ]
    },
    {
     "name": "stderr",
     "output_type": "stream",
     "text": [
      "\r",
      "Processing columns:  20%|██        | 1074/5273 [04:52<17:28,  4.01it/s]"
     ]
    },
    {
     "name": "stderr",
     "output_type": "stream",
     "text": [
      "\r",
      "Processing columns:  20%|██        | 1075/5273 [04:52<17:41,  3.96it/s]"
     ]
    },
    {
     "name": "stderr",
     "output_type": "stream",
     "text": [
      "\r",
      "Processing columns:  20%|██        | 1076/5273 [04:52<18:47,  3.72it/s]"
     ]
    },
    {
     "name": "stderr",
     "output_type": "stream",
     "text": [
      "\r",
      "Processing columns:  20%|██        | 1077/5273 [04:53<18:26,  3.79it/s]"
     ]
    },
    {
     "name": "stderr",
     "output_type": "stream",
     "text": [
      "\r",
      "Processing columns:  20%|██        | 1078/5273 [04:53<17:49,  3.92it/s]"
     ]
    },
    {
     "name": "stderr",
     "output_type": "stream",
     "text": [
      "\r",
      "Processing columns:  20%|██        | 1079/5273 [04:53<17:04,  4.09it/s]"
     ]
    },
    {
     "name": "stderr",
     "output_type": "stream",
     "text": [
      "\r",
      "Processing columns:  20%|██        | 1080/5273 [04:53<18:42,  3.74it/s]"
     ]
    },
    {
     "name": "stderr",
     "output_type": "stream",
     "text": [
      "\r",
      "Processing columns:  21%|██        | 1081/5273 [04:54<17:39,  3.96it/s]"
     ]
    },
    {
     "name": "stderr",
     "output_type": "stream",
     "text": [
      "\r",
      "Processing columns:  21%|██        | 1082/5273 [04:54<17:03,  4.09it/s]"
     ]
    },
    {
     "name": "stderr",
     "output_type": "stream",
     "text": [
      "\r",
      "Processing columns:  21%|██        | 1083/5273 [04:54<22:43,  3.07it/s]"
     ]
    },
    {
     "name": "stderr",
     "output_type": "stream",
     "text": [
      "\r",
      "Processing columns:  21%|██        | 1084/5273 [04:55<20:26,  3.41it/s]"
     ]
    },
    {
     "name": "stderr",
     "output_type": "stream",
     "text": [
      "\r",
      "Processing columns:  21%|██        | 1085/5273 [04:55<19:13,  3.63it/s]"
     ]
    },
    {
     "name": "stderr",
     "output_type": "stream",
     "text": [
      "\r",
      "Processing columns:  21%|██        | 1086/5273 [04:55<18:40,  3.74it/s]"
     ]
    },
    {
     "name": "stderr",
     "output_type": "stream",
     "text": [
      "\r",
      "Processing columns:  21%|██        | 1087/5273 [04:55<18:01,  3.87it/s]"
     ]
    },
    {
     "name": "stderr",
     "output_type": "stream",
     "text": [
      "\r",
      "Processing columns:  21%|██        | 1088/5273 [04:56<17:27,  4.00it/s]"
     ]
    },
    {
     "name": "stderr",
     "output_type": "stream",
     "text": [
      "\r",
      "Processing columns:  21%|██        | 1089/5273 [04:56<17:14,  4.04it/s]"
     ]
    },
    {
     "name": "stderr",
     "output_type": "stream",
     "text": [
      "\r",
      "Processing columns:  21%|██        | 1090/5273 [04:56<17:12,  4.05it/s]"
     ]
    },
    {
     "name": "stderr",
     "output_type": "stream",
     "text": [
      "\r",
      "Processing columns:  21%|██        | 1091/5273 [04:56<17:22,  4.01it/s]"
     ]
    },
    {
     "name": "stderr",
     "output_type": "stream",
     "text": [
      "\r",
      "Processing columns:  21%|██        | 1092/5273 [04:57<16:50,  4.14it/s]"
     ]
    },
    {
     "name": "stderr",
     "output_type": "stream",
     "text": [
      "\r",
      "Processing columns:  21%|██        | 1093/5273 [04:57<16:24,  4.25it/s]"
     ]
    },
    {
     "name": "stderr",
     "output_type": "stream",
     "text": [
      "\r",
      "Processing columns:  21%|██        | 1094/5273 [04:57<15:52,  4.39it/s]"
     ]
    },
    {
     "name": "stderr",
     "output_type": "stream",
     "text": [
      "\r",
      "Processing columns:  21%|██        | 1095/5273 [04:57<15:55,  4.37it/s]"
     ]
    },
    {
     "name": "stderr",
     "output_type": "stream",
     "text": [
      "\r",
      "Processing columns:  21%|██        | 1096/5273 [04:58<22:35,  3.08it/s]"
     ]
    },
    {
     "name": "stderr",
     "output_type": "stream",
     "text": [
      "\r",
      "Processing columns:  21%|██        | 1097/5273 [04:58<21:27,  3.24it/s]"
     ]
    },
    {
     "name": "stderr",
     "output_type": "stream",
     "text": [
      "\r",
      "Processing columns:  21%|██        | 1098/5273 [04:58<19:24,  3.59it/s]"
     ]
    },
    {
     "name": "stderr",
     "output_type": "stream",
     "text": [
      "\r",
      "Processing columns:  21%|██        | 1099/5273 [04:59<18:34,  3.74it/s]"
     ]
    },
    {
     "name": "stderr",
     "output_type": "stream",
     "text": [
      "\r",
      "Processing columns:  21%|██        | 1100/5273 [04:59<17:50,  3.90it/s]"
     ]
    },
    {
     "name": "stderr",
     "output_type": "stream",
     "text": [
      "\r",
      "Processing columns:  21%|██        | 1101/5273 [04:59<17:13,  4.04it/s]"
     ]
    },
    {
     "name": "stderr",
     "output_type": "stream",
     "text": [
      "\r",
      "Processing columns:  21%|██        | 1102/5273 [04:59<17:21,  4.00it/s]"
     ]
    },
    {
     "name": "stderr",
     "output_type": "stream",
     "text": [
      "\r",
      "Processing columns:  21%|██        | 1103/5273 [04:59<16:30,  4.21it/s]"
     ]
    },
    {
     "name": "stderr",
     "output_type": "stream",
     "text": [
      "\r",
      "Processing columns:  21%|██        | 1104/5273 [05:00<17:41,  3.93it/s]"
     ]
    },
    {
     "name": "stderr",
     "output_type": "stream",
     "text": [
      "\r",
      "Processing columns:  21%|██        | 1105/5273 [05:00<17:29,  3.97it/s]"
     ]
    },
    {
     "name": "stderr",
     "output_type": "stream",
     "text": [
      "\r",
      "Processing columns:  21%|██        | 1106/5273 [05:00<16:41,  4.16it/s]"
     ]
    },
    {
     "name": "stderr",
     "output_type": "stream",
     "text": [
      "\r",
      "Processing columns:  21%|██        | 1107/5273 [05:00<17:13,  4.03it/s]"
     ]
    },
    {
     "name": "stderr",
     "output_type": "stream",
     "text": [
      "\r",
      "Processing columns:  21%|██        | 1108/5273 [05:01<16:34,  4.19it/s]"
     ]
    },
    {
     "name": "stderr",
     "output_type": "stream",
     "text": [
      "\r",
      "Processing columns:  21%|██        | 1109/5273 [05:01<18:52,  3.68it/s]"
     ]
    },
    {
     "name": "stderr",
     "output_type": "stream",
     "text": [
      "\r",
      "Processing columns:  21%|██        | 1110/5273 [05:01<22:45,  3.05it/s]"
     ]
    },
    {
     "name": "stderr",
     "output_type": "stream",
     "text": [
      "\r",
      "Processing columns:  21%|██        | 1111/5273 [05:02<21:00,  3.30it/s]"
     ]
    },
    {
     "name": "stderr",
     "output_type": "stream",
     "text": [
      "\r",
      "Processing columns:  21%|██        | 1112/5273 [05:02<20:01,  3.46it/s]"
     ]
    },
    {
     "name": "stderr",
     "output_type": "stream",
     "text": [
      "\r",
      "Processing columns:  21%|██        | 1113/5273 [05:02<19:07,  3.63it/s]"
     ]
    },
    {
     "name": "stderr",
     "output_type": "stream",
     "text": [
      "\r",
      "Processing columns:  21%|██        | 1114/5273 [05:03<19:07,  3.62it/s]"
     ]
    },
    {
     "name": "stderr",
     "output_type": "stream",
     "text": [
      "\r",
      "Processing columns:  21%|██        | 1115/5273 [05:03<18:03,  3.84it/s]"
     ]
    },
    {
     "name": "stderr",
     "output_type": "stream",
     "text": [
      "\r",
      "Processing columns:  21%|██        | 1116/5273 [05:03<17:45,  3.90it/s]"
     ]
    },
    {
     "name": "stderr",
     "output_type": "stream",
     "text": [
      "\r",
      "Processing columns:  21%|██        | 1117/5273 [05:03<17:09,  4.04it/s]"
     ]
    },
    {
     "name": "stderr",
     "output_type": "stream",
     "text": [
      "\r",
      "Processing columns:  21%|██        | 1118/5273 [05:03<16:45,  4.13it/s]"
     ]
    },
    {
     "name": "stderr",
     "output_type": "stream",
     "text": [
      "\r",
      "Processing columns:  21%|██        | 1119/5273 [05:04<17:11,  4.03it/s]"
     ]
    },
    {
     "name": "stderr",
     "output_type": "stream",
     "text": [
      "\r",
      "Processing columns:  21%|██        | 1120/5273 [05:04<16:38,  4.16it/s]"
     ]
    },
    {
     "name": "stderr",
     "output_type": "stream",
     "text": [
      "\r",
      "Processing columns:  21%|██▏       | 1121/5273 [05:04<16:32,  4.18it/s]"
     ]
    },
    {
     "name": "stderr",
     "output_type": "stream",
     "text": [
      "\r",
      "Processing columns:  21%|██▏       | 1122/5273 [05:04<17:44,  3.90it/s]"
     ]
    },
    {
     "name": "stderr",
     "output_type": "stream",
     "text": [
      "\r",
      "Processing columns:  21%|██▏       | 1123/5273 [05:05<21:50,  3.17it/s]"
     ]
    },
    {
     "name": "stderr",
     "output_type": "stream",
     "text": [
      "\r",
      "Processing columns:  21%|██▏       | 1124/5273 [05:05<20:43,  3.34it/s]"
     ]
    },
    {
     "name": "stderr",
     "output_type": "stream",
     "text": [
      "\r",
      "Processing columns:  21%|██▏       | 1125/5273 [05:05<19:29,  3.55it/s]"
     ]
    },
    {
     "name": "stderr",
     "output_type": "stream",
     "text": [
      "\r",
      "Processing columns:  21%|██▏       | 1126/5273 [05:06<17:55,  3.85it/s]"
     ]
    },
    {
     "name": "stderr",
     "output_type": "stream",
     "text": [
      "\r",
      "Processing columns:  21%|██▏       | 1127/5273 [05:06<17:49,  3.87it/s]"
     ]
    },
    {
     "name": "stderr",
     "output_type": "stream",
     "text": [
      "\r",
      "Processing columns:  21%|██▏       | 1128/5273 [05:06<17:35,  3.93it/s]"
     ]
    },
    {
     "name": "stderr",
     "output_type": "stream",
     "text": [
      "\r",
      "Processing columns:  21%|██▏       | 1129/5273 [05:06<17:32,  3.94it/s]"
     ]
    },
    {
     "name": "stderr",
     "output_type": "stream",
     "text": [
      "\r",
      "Processing columns:  21%|██▏       | 1130/5273 [05:07<17:41,  3.90it/s]"
     ]
    },
    {
     "name": "stderr",
     "output_type": "stream",
     "text": [
      "\r",
      "Processing columns:  21%|██▏       | 1131/5273 [05:07<18:27,  3.74it/s]"
     ]
    },
    {
     "name": "stderr",
     "output_type": "stream",
     "text": [
      "\r",
      "Processing columns:  21%|██▏       | 1132/5273 [05:07<17:34,  3.93it/s]"
     ]
    },
    {
     "name": "stderr",
     "output_type": "stream",
     "text": [
      "\r",
      "Processing columns:  21%|██▏       | 1133/5273 [05:07<17:25,  3.96it/s]"
     ]
    },
    {
     "name": "stderr",
     "output_type": "stream",
     "text": [
      "\r",
      "Processing columns:  22%|██▏       | 1134/5273 [05:08<17:36,  3.92it/s]"
     ]
    },
    {
     "name": "stderr",
     "output_type": "stream",
     "text": [
      "\r",
      "Processing columns:  22%|██▏       | 1135/5273 [05:08<16:41,  4.13it/s]"
     ]
    },
    {
     "name": "stderr",
     "output_type": "stream",
     "text": [
      "\r",
      "Processing columns:  22%|██▏       | 1136/5273 [05:08<22:06,  3.12it/s]"
     ]
    },
    {
     "name": "stderr",
     "output_type": "stream",
     "text": [
      "\r",
      "Processing columns:  22%|██▏       | 1137/5273 [05:09<20:36,  3.34it/s]"
     ]
    },
    {
     "name": "stderr",
     "output_type": "stream",
     "text": [
      "\r",
      "Processing columns:  22%|██▏       | 1138/5273 [05:09<18:56,  3.64it/s]"
     ]
    },
    {
     "name": "stderr",
     "output_type": "stream",
     "text": [
      "\r",
      "Processing columns:  22%|██▏       | 1139/5273 [05:09<18:14,  3.78it/s]"
     ]
    },
    {
     "name": "stderr",
     "output_type": "stream",
     "text": [
      "\r",
      "Processing columns:  22%|██▏       | 1140/5273 [05:09<17:53,  3.85it/s]"
     ]
    },
    {
     "name": "stderr",
     "output_type": "stream",
     "text": [
      "\r",
      "Processing columns:  22%|██▏       | 1141/5273 [05:10<17:29,  3.94it/s]"
     ]
    },
    {
     "name": "stderr",
     "output_type": "stream",
     "text": [
      "\r",
      "Processing columns:  22%|██▏       | 1142/5273 [05:10<17:02,  4.04it/s]"
     ]
    },
    {
     "name": "stderr",
     "output_type": "stream",
     "text": [
      "\r",
      "Processing columns:  22%|██▏       | 1143/5273 [05:10<16:44,  4.11it/s]"
     ]
    },
    {
     "name": "stderr",
     "output_type": "stream",
     "text": [
      "\r",
      "Processing columns:  22%|██▏       | 1144/5273 [05:10<17:00,  4.05it/s]"
     ]
    },
    {
     "name": "stderr",
     "output_type": "stream",
     "text": [
      "\r",
      "Processing columns:  22%|██▏       | 1145/5273 [05:11<17:16,  3.98it/s]"
     ]
    },
    {
     "name": "stderr",
     "output_type": "stream",
     "text": [
      "\r",
      "Processing columns:  22%|██▏       | 1146/5273 [05:11<17:06,  4.02it/s]"
     ]
    },
    {
     "name": "stderr",
     "output_type": "stream",
     "text": [
      "\r",
      "Processing columns:  22%|██▏       | 1147/5273 [05:11<16:33,  4.15it/s]"
     ]
    },
    {
     "name": "stderr",
     "output_type": "stream",
     "text": [
      "\r",
      "Processing columns:  22%|██▏       | 1148/5273 [05:11<16:32,  4.16it/s]"
     ]
    },
    {
     "name": "stderr",
     "output_type": "stream",
     "text": [
      "\r",
      "Processing columns:  22%|██▏       | 1149/5273 [05:12<20:29,  3.35it/s]"
     ]
    },
    {
     "name": "stderr",
     "output_type": "stream",
     "text": [
      "\r",
      "Processing columns:  22%|██▏       | 1150/5273 [05:12<19:15,  3.57it/s]"
     ]
    },
    {
     "name": "stderr",
     "output_type": "stream",
     "text": [
      "\r",
      "Processing columns:  22%|██▏       | 1151/5273 [05:12<18:36,  3.69it/s]"
     ]
    },
    {
     "name": "stderr",
     "output_type": "stream",
     "text": [
      "\r",
      "Processing columns:  22%|██▏       | 1152/5273 [05:12<18:12,  3.77it/s]"
     ]
    },
    {
     "name": "stderr",
     "output_type": "stream",
     "text": [
      "\r",
      "Processing columns:  22%|██▏       | 1153/5273 [05:13<17:14,  3.98it/s]"
     ]
    },
    {
     "name": "stderr",
     "output_type": "stream",
     "text": [
      "\r",
      "Processing columns:  22%|██▏       | 1154/5273 [05:13<17:10,  4.00it/s]"
     ]
    },
    {
     "name": "stderr",
     "output_type": "stream",
     "text": [
      "\r",
      "Processing columns:  22%|██▏       | 1155/5273 [05:13<17:12,  3.99it/s]"
     ]
    },
    {
     "name": "stderr",
     "output_type": "stream",
     "text": [
      "\r",
      "Processing columns:  22%|██▏       | 1156/5273 [05:13<16:39,  4.12it/s]"
     ]
    },
    {
     "name": "stderr",
     "output_type": "stream",
     "text": [
      "\r",
      "Processing columns:  22%|██▏       | 1157/5273 [05:14<15:55,  4.31it/s]"
     ]
    },
    {
     "name": "stderr",
     "output_type": "stream",
     "text": [
      "\r",
      "Processing columns:  22%|██▏       | 1158/5273 [05:14<16:03,  4.27it/s]"
     ]
    },
    {
     "name": "stderr",
     "output_type": "stream",
     "text": [
      "\r",
      "Processing columns:  22%|██▏       | 1159/5273 [05:14<15:45,  4.35it/s]"
     ]
    },
    {
     "name": "stderr",
     "output_type": "stream",
     "text": [
      "\r",
      "Processing columns:  22%|██▏       | 1160/5273 [05:14<16:42,  4.10it/s]"
     ]
    },
    {
     "name": "stderr",
     "output_type": "stream",
     "text": [
      "\r",
      "Processing columns:  22%|██▏       | 1161/5273 [05:15<16:36,  4.13it/s]"
     ]
    },
    {
     "name": "stderr",
     "output_type": "stream",
     "text": [
      "\r",
      "Processing columns:  22%|██▏       | 1162/5273 [05:15<21:42,  3.16it/s]"
     ]
    },
    {
     "name": "stderr",
     "output_type": "stream",
     "text": [
      "\r",
      "Processing columns:  22%|██▏       | 1163/5273 [05:15<20:47,  3.30it/s]"
     ]
    },
    {
     "name": "stderr",
     "output_type": "stream",
     "text": [
      "\r",
      "Processing columns:  22%|██▏       | 1164/5273 [05:16<19:17,  3.55it/s]"
     ]
    },
    {
     "name": "stderr",
     "output_type": "stream",
     "text": [
      "\r",
      "Processing columns:  22%|██▏       | 1165/5273 [05:16<17:51,  3.83it/s]"
     ]
    },
    {
     "name": "stderr",
     "output_type": "stream",
     "text": [
      "\r",
      "Processing columns:  22%|██▏       | 1166/5273 [05:16<17:29,  3.91it/s]"
     ]
    },
    {
     "name": "stderr",
     "output_type": "stream",
     "text": [
      "\r",
      "Processing columns:  22%|██▏       | 1167/5273 [05:16<17:23,  3.93it/s]"
     ]
    },
    {
     "name": "stderr",
     "output_type": "stream",
     "text": [
      "\r",
      "Processing columns:  22%|██▏       | 1168/5273 [05:17<17:47,  3.84it/s]"
     ]
    },
    {
     "name": "stderr",
     "output_type": "stream",
     "text": [
      "\r",
      "Processing columns:  22%|██▏       | 1169/5273 [05:17<17:00,  4.02it/s]"
     ]
    },
    {
     "name": "stderr",
     "output_type": "stream",
     "text": [
      "\r",
      "Processing columns:  22%|██▏       | 1170/5273 [05:17<18:13,  3.75it/s]"
     ]
    },
    {
     "name": "stderr",
     "output_type": "stream",
     "text": [
      "\r",
      "Processing columns:  22%|██▏       | 1171/5273 [05:17<17:04,  4.00it/s]"
     ]
    },
    {
     "name": "stderr",
     "output_type": "stream",
     "text": [
      "\r",
      "Processing columns:  22%|██▏       | 1172/5273 [05:18<17:06,  4.00it/s]"
     ]
    },
    {
     "name": "stderr",
     "output_type": "stream",
     "text": [
      "\r",
      "Processing columns:  22%|██▏       | 1173/5273 [05:18<16:44,  4.08it/s]"
     ]
    },
    {
     "name": "stderr",
     "output_type": "stream",
     "text": [
      "\r",
      "Processing columns:  22%|██▏       | 1174/5273 [05:18<17:02,  4.01it/s]"
     ]
    },
    {
     "name": "stderr",
     "output_type": "stream",
     "text": [
      "\r",
      "Processing columns:  22%|██▏       | 1175/5273 [05:18<20:48,  3.28it/s]"
     ]
    },
    {
     "name": "stderr",
     "output_type": "stream",
     "text": [
      "\r",
      "Processing columns:  22%|██▏       | 1176/5273 [05:19<20:04,  3.40it/s]"
     ]
    },
    {
     "name": "stderr",
     "output_type": "stream",
     "text": [
      "\r",
      "Processing columns:  22%|██▏       | 1177/5273 [05:19<18:12,  3.75it/s]"
     ]
    },
    {
     "name": "stderr",
     "output_type": "stream",
     "text": [
      "\r",
      "Processing columns:  22%|██▏       | 1178/5273 [05:19<17:28,  3.90it/s]"
     ]
    },
    {
     "name": "stderr",
     "output_type": "stream",
     "text": [
      "\r",
      "Processing columns:  22%|██▏       | 1179/5273 [05:19<17:16,  3.95it/s]"
     ]
    },
    {
     "name": "stderr",
     "output_type": "stream",
     "text": [
      "\r",
      "Processing columns:  22%|██▏       | 1180/5273 [05:20<16:56,  4.03it/s]"
     ]
    },
    {
     "name": "stderr",
     "output_type": "stream",
     "text": [
      "\r",
      "Processing columns:  22%|██▏       | 1181/5273 [05:20<16:47,  4.06it/s]"
     ]
    },
    {
     "name": "stderr",
     "output_type": "stream",
     "text": [
      "\r",
      "Processing columns:  22%|██▏       | 1182/5273 [05:20<16:45,  4.07it/s]"
     ]
    },
    {
     "name": "stderr",
     "output_type": "stream",
     "text": [
      "\r",
      "Processing columns:  22%|██▏       | 1183/5273 [05:20<16:57,  4.02it/s]"
     ]
    },
    {
     "name": "stderr",
     "output_type": "stream",
     "text": [
      "\r",
      "Processing columns:  22%|██▏       | 1184/5273 [05:21<16:52,  4.04it/s]"
     ]
    },
    {
     "name": "stderr",
     "output_type": "stream",
     "text": [
      "\r",
      "Processing columns:  22%|██▏       | 1185/5273 [05:21<16:41,  4.08it/s]"
     ]
    },
    {
     "name": "stderr",
     "output_type": "stream",
     "text": [
      "\r",
      "Processing columns:  22%|██▏       | 1186/5273 [05:21<16:00,  4.25it/s]"
     ]
    },
    {
     "name": "stderr",
     "output_type": "stream",
     "text": [
      "\r",
      "Processing columns:  23%|██▎       | 1187/5273 [05:21<17:29,  3.89it/s]"
     ]
    },
    {
     "name": "stderr",
     "output_type": "stream",
     "text": [
      "\r",
      "Processing columns:  23%|██▎       | 1188/5273 [05:22<20:12,  3.37it/s]"
     ]
    },
    {
     "name": "stderr",
     "output_type": "stream",
     "text": [
      "\r",
      "Processing columns:  23%|██▎       | 1189/5273 [05:22<19:04,  3.57it/s]"
     ]
    },
    {
     "name": "stderr",
     "output_type": "stream",
     "text": [
      "\r",
      "Processing columns:  23%|██▎       | 1190/5273 [05:22<18:22,  3.70it/s]"
     ]
    },
    {
     "name": "stderr",
     "output_type": "stream",
     "text": [
      "\r",
      "Processing columns:  23%|██▎       | 1191/5273 [05:22<17:42,  3.84it/s]"
     ]
    },
    {
     "name": "stderr",
     "output_type": "stream",
     "text": [
      "\r",
      "Processing columns:  23%|██▎       | 1192/5273 [05:23<17:29,  3.89it/s]"
     ]
    },
    {
     "name": "stderr",
     "output_type": "stream",
     "text": [
      "\r",
      "Processing columns:  23%|██▎       | 1193/5273 [05:23<17:39,  3.85it/s]"
     ]
    },
    {
     "name": "stderr",
     "output_type": "stream",
     "text": [
      "\r",
      "Processing columns:  23%|██▎       | 1194/5273 [05:23<17:28,  3.89it/s]"
     ]
    },
    {
     "name": "stderr",
     "output_type": "stream",
     "text": [
      "\r",
      "Processing columns:  23%|██▎       | 1195/5273 [05:23<16:07,  4.21it/s]"
     ]
    },
    {
     "name": "stderr",
     "output_type": "stream",
     "text": [
      "\r",
      "Processing columns:  23%|██▎       | 1196/5273 [05:24<16:33,  4.11it/s]"
     ]
    },
    {
     "name": "stderr",
     "output_type": "stream",
     "text": [
      "\r",
      "Processing columns:  23%|██▎       | 1197/5273 [05:24<16:14,  4.18it/s]"
     ]
    },
    {
     "name": "stderr",
     "output_type": "stream",
     "text": [
      "\r",
      "Processing columns:  23%|██▎       | 1198/5273 [05:24<17:24,  3.90it/s]"
     ]
    },
    {
     "name": "stderr",
     "output_type": "stream",
     "text": [
      "\r",
      "Processing columns:  23%|██▎       | 1199/5273 [05:24<16:38,  4.08it/s]"
     ]
    },
    {
     "name": "stderr",
     "output_type": "stream",
     "text": [
      "\r",
      "Processing columns:  23%|██▎       | 1200/5273 [05:25<16:39,  4.08it/s]"
     ]
    },
    {
     "name": "stderr",
     "output_type": "stream",
     "text": [
      "\r",
      "Processing columns:  23%|██▎       | 1201/5273 [05:25<20:50,  3.26it/s]"
     ]
    },
    {
     "name": "stderr",
     "output_type": "stream",
     "text": [
      "\r",
      "Processing columns:  23%|██▎       | 1202/5273 [05:25<19:13,  3.53it/s]"
     ]
    },
    {
     "name": "stderr",
     "output_type": "stream",
     "text": [
      "\r",
      "Processing columns:  23%|██▎       | 1203/5273 [05:26<18:43,  3.62it/s]"
     ]
    },
    {
     "name": "stderr",
     "output_type": "stream",
     "text": [
      "\r",
      "Processing columns:  23%|██▎       | 1204/5273 [05:26<17:54,  3.79it/s]"
     ]
    },
    {
     "name": "stderr",
     "output_type": "stream",
     "text": [
      "\r",
      "Processing columns:  23%|██▎       | 1205/5273 [05:26<16:49,  4.03it/s]"
     ]
    },
    {
     "name": "stderr",
     "output_type": "stream",
     "text": [
      "\r",
      "Processing columns:  23%|██▎       | 1206/5273 [05:26<16:45,  4.04it/s]"
     ]
    },
    {
     "name": "stderr",
     "output_type": "stream",
     "text": [
      "\r",
      "Processing columns:  23%|██▎       | 1207/5273 [05:27<17:19,  3.91it/s]"
     ]
    },
    {
     "name": "stderr",
     "output_type": "stream",
     "text": [
      "\r",
      "Processing columns:  23%|██▎       | 1208/5273 [05:27<16:49,  4.03it/s]"
     ]
    },
    {
     "name": "stderr",
     "output_type": "stream",
     "text": [
      "\r",
      "Processing columns:  23%|██▎       | 1209/5273 [05:27<16:23,  4.13it/s]"
     ]
    },
    {
     "name": "stderr",
     "output_type": "stream",
     "text": [
      "\r",
      "Processing columns:  23%|██▎       | 1210/5273 [05:27<16:24,  4.13it/s]"
     ]
    },
    {
     "name": "stderr",
     "output_type": "stream",
     "text": [
      "\r",
      "Processing columns:  23%|██▎       | 1211/5273 [05:28<16:31,  4.10it/s]"
     ]
    },
    {
     "name": "stderr",
     "output_type": "stream",
     "text": [
      "\r",
      "Processing columns:  23%|██▎       | 1212/5273 [05:28<16:08,  4.20it/s]"
     ]
    },
    {
     "name": "stderr",
     "output_type": "stream",
     "text": [
      "\r",
      "Processing columns:  23%|██▎       | 1213/5273 [05:28<16:11,  4.18it/s]"
     ]
    },
    {
     "name": "stderr",
     "output_type": "stream",
     "text": [
      "\r",
      "Processing columns:  23%|██▎       | 1214/5273 [05:28<15:33,  4.35it/s]"
     ]
    },
    {
     "name": "stderr",
     "output_type": "stream",
     "text": [
      "\r",
      "Processing columns:  23%|██▎       | 1215/5273 [05:29<22:22,  3.02it/s]"
     ]
    },
    {
     "name": "stderr",
     "output_type": "stream",
     "text": [
      "\r",
      "Processing columns:  23%|██▎       | 1216/5273 [05:29<19:48,  3.41it/s]"
     ]
    },
    {
     "name": "stderr",
     "output_type": "stream",
     "text": [
      "\r",
      "Processing columns:  23%|██▎       | 1217/5273 [05:29<19:49,  3.41it/s]"
     ]
    },
    {
     "name": "stderr",
     "output_type": "stream",
     "text": [
      "\r",
      "Processing columns:  23%|██▎       | 1218/5273 [05:30<18:30,  3.65it/s]"
     ]
    },
    {
     "name": "stderr",
     "output_type": "stream",
     "text": [
      "\r",
      "Processing columns:  23%|██▎       | 1219/5273 [05:30<18:16,  3.70it/s]"
     ]
    },
    {
     "name": "stderr",
     "output_type": "stream",
     "text": [
      "\r",
      "Processing columns:  23%|██▎       | 1220/5273 [05:30<17:43,  3.81it/s]"
     ]
    },
    {
     "name": "stderr",
     "output_type": "stream",
     "text": [
      "\r",
      "Processing columns:  23%|██▎       | 1221/5273 [05:30<17:01,  3.97it/s]"
     ]
    },
    {
     "name": "stderr",
     "output_type": "stream",
     "text": [
      "\r",
      "Processing columns:  23%|██▎       | 1222/5273 [05:31<18:09,  3.72it/s]"
     ]
    },
    {
     "name": "stderr",
     "output_type": "stream",
     "text": [
      "\r",
      "Processing columns:  23%|██▎       | 1223/5273 [05:31<16:59,  3.97it/s]"
     ]
    },
    {
     "name": "stderr",
     "output_type": "stream",
     "text": [
      "\r",
      "Processing columns:  23%|██▎       | 1224/5273 [05:31<16:30,  4.09it/s]"
     ]
    },
    {
     "name": "stderr",
     "output_type": "stream",
     "text": [
      "\r",
      "Processing columns:  23%|██▎       | 1225/5273 [05:31<16:05,  4.19it/s]"
     ]
    },
    {
     "name": "stderr",
     "output_type": "stream",
     "text": [
      "\r",
      "Processing columns:  23%|██▎       | 1226/5273 [05:31<15:24,  4.38it/s]"
     ]
    },
    {
     "name": "stderr",
     "output_type": "stream",
     "text": [
      "\r",
      "Processing columns:  23%|██▎       | 1227/5273 [05:32<17:12,  3.92it/s]"
     ]
    },
    {
     "name": "stderr",
     "output_type": "stream",
     "text": [
      "\r",
      "Processing columns:  23%|██▎       | 1228/5273 [05:32<21:28,  3.14it/s]"
     ]
    },
    {
     "name": "stderr",
     "output_type": "stream",
     "text": [
      "\r",
      "Processing columns:  23%|██▎       | 1229/5273 [05:32<19:49,  3.40it/s]"
     ]
    },
    {
     "name": "stderr",
     "output_type": "stream",
     "text": [
      "\r",
      "Processing columns:  23%|██▎       | 1230/5273 [05:33<20:57,  3.22it/s]"
     ]
    },
    {
     "name": "stderr",
     "output_type": "stream",
     "text": [
      "\r",
      "Processing columns:  23%|██▎       | 1231/5273 [05:33<19:54,  3.39it/s]"
     ]
    },
    {
     "name": "stderr",
     "output_type": "stream",
     "text": [
      "\r",
      "Processing columns:  23%|██▎       | 1232/5273 [05:33<18:29,  3.64it/s]"
     ]
    },
    {
     "name": "stderr",
     "output_type": "stream",
     "text": [
      "\r",
      "Processing columns:  23%|██▎       | 1233/5273 [05:34<17:57,  3.75it/s]"
     ]
    },
    {
     "name": "stderr",
     "output_type": "stream",
     "text": [
      "\r",
      "Processing columns:  23%|██▎       | 1234/5273 [05:34<17:23,  3.87it/s]"
     ]
    },
    {
     "name": "stderr",
     "output_type": "stream",
     "text": [
      "\r",
      "Processing columns:  23%|██▎       | 1235/5273 [05:34<16:12,  4.15it/s]"
     ]
    },
    {
     "name": "stderr",
     "output_type": "stream",
     "text": [
      "\r",
      "Processing columns:  23%|██▎       | 1236/5273 [05:34<18:03,  3.73it/s]"
     ]
    },
    {
     "name": "stderr",
     "output_type": "stream",
     "text": [
      "\r",
      "Processing columns:  23%|██▎       | 1237/5273 [05:35<17:25,  3.86it/s]"
     ]
    },
    {
     "name": "stderr",
     "output_type": "stream",
     "text": [
      "\r",
      "Processing columns:  23%|██▎       | 1238/5273 [05:35<16:13,  4.14it/s]"
     ]
    },
    {
     "name": "stderr",
     "output_type": "stream",
     "text": [
      "\r",
      "Processing columns:  23%|██▎       | 1239/5273 [05:35<15:41,  4.28it/s]"
     ]
    },
    {
     "name": "stderr",
     "output_type": "stream",
     "text": [
      "\r",
      "Processing columns:  24%|██▎       | 1240/5273 [05:35<19:27,  3.46it/s]"
     ]
    },
    {
     "name": "stderr",
     "output_type": "stream",
     "text": [
      "\r",
      "Processing columns:  24%|██▎       | 1241/5273 [05:36<24:19,  2.76it/s]"
     ]
    },
    {
     "name": "stderr",
     "output_type": "stream",
     "text": [
      "\r",
      "Processing columns:  24%|██▎       | 1242/5273 [05:36<22:10,  3.03it/s]"
     ]
    },
    {
     "name": "stderr",
     "output_type": "stream",
     "text": [
      "\r",
      "Processing columns:  24%|██▎       | 1243/5273 [05:36<20:06,  3.34it/s]"
     ]
    },
    {
     "name": "stderr",
     "output_type": "stream",
     "text": [
      "\r",
      "Processing columns:  24%|██▎       | 1244/5273 [05:37<19:04,  3.52it/s]"
     ]
    },
    {
     "name": "stderr",
     "output_type": "stream",
     "text": [
      "\r",
      "Processing columns:  24%|██▎       | 1245/5273 [05:37<17:27,  3.84it/s]"
     ]
    },
    {
     "name": "stderr",
     "output_type": "stream",
     "text": [
      "\r",
      "Processing columns:  24%|██▎       | 1246/5273 [05:37<16:33,  4.05it/s]"
     ]
    },
    {
     "name": "stderr",
     "output_type": "stream",
     "text": [
      "\r",
      "Processing columns:  24%|██▎       | 1247/5273 [05:37<15:37,  4.30it/s]"
     ]
    },
    {
     "name": "stderr",
     "output_type": "stream",
     "text": [
      "\r",
      "Processing columns:  24%|██▎       | 1248/5273 [05:38<17:33,  3.82it/s]"
     ]
    },
    {
     "name": "stderr",
     "output_type": "stream",
     "text": [
      "\r",
      "Processing columns:  24%|██▎       | 1249/5273 [05:38<16:53,  3.97it/s]"
     ]
    },
    {
     "name": "stderr",
     "output_type": "stream",
     "text": [
      "\r",
      "Processing columns:  24%|██▎       | 1250/5273 [05:38<16:39,  4.02it/s]"
     ]
    },
    {
     "name": "stderr",
     "output_type": "stream",
     "text": [
      "\r",
      "Processing columns:  24%|██▎       | 1251/5273 [05:38<17:01,  3.94it/s]"
     ]
    },
    {
     "name": "stderr",
     "output_type": "stream",
     "text": [
      "\r",
      "Processing columns:  24%|██▎       | 1252/5273 [05:39<16:36,  4.03it/s]"
     ]
    },
    {
     "name": "stderr",
     "output_type": "stream",
     "text": [
      "\r",
      "Processing columns:  24%|██▍       | 1253/5273 [05:39<16:59,  3.94it/s]"
     ]
    },
    {
     "name": "stderr",
     "output_type": "stream",
     "text": [
      "\r",
      "Processing columns:  24%|██▍       | 1254/5273 [05:39<21:20,  3.14it/s]"
     ]
    },
    {
     "name": "stderr",
     "output_type": "stream",
     "text": [
      "\r",
      "Processing columns:  24%|██▍       | 1255/5273 [05:40<19:03,  3.52it/s]"
     ]
    },
    {
     "name": "stderr",
     "output_type": "stream",
     "text": [
      "\r",
      "Processing columns:  24%|██▍       | 1256/5273 [05:40<19:13,  3.48it/s]"
     ]
    },
    {
     "name": "stderr",
     "output_type": "stream",
     "text": [
      "\r",
      "Processing columns:  24%|██▍       | 1257/5273 [05:40<17:46,  3.77it/s]"
     ]
    },
    {
     "name": "stderr",
     "output_type": "stream",
     "text": [
      "\r",
      "Processing columns:  24%|██▍       | 1258/5273 [05:40<19:56,  3.36it/s]"
     ]
    },
    {
     "name": "stderr",
     "output_type": "stream",
     "text": [
      "\r",
      "Processing columns:  24%|██▍       | 1259/5273 [05:41<18:18,  3.65it/s]"
     ]
    },
    {
     "name": "stderr",
     "output_type": "stream",
     "text": [
      "\r",
      "Processing columns:  24%|██▍       | 1260/5273 [05:41<19:17,  3.47it/s]"
     ]
    },
    {
     "name": "stderr",
     "output_type": "stream",
     "text": [
      "\r",
      "Processing columns:  24%|██▍       | 1261/5273 [05:41<20:17,  3.30it/s]"
     ]
    },
    {
     "name": "stderr",
     "output_type": "stream",
     "text": [
      "\r",
      "Processing columns:  24%|██▍       | 1262/5273 [05:42<20:55,  3.20it/s]"
     ]
    },
    {
     "name": "stderr",
     "output_type": "stream",
     "text": [
      "\r",
      "Processing columns:  24%|██▍       | 1263/5273 [05:42<19:35,  3.41it/s]"
     ]
    },
    {
     "name": "stderr",
     "output_type": "stream",
     "text": [
      "\r",
      "Processing columns:  24%|██▍       | 1264/5273 [05:42<18:50,  3.55it/s]"
     ]
    },
    {
     "name": "stderr",
     "output_type": "stream",
     "text": [
      "\r",
      "Processing columns:  24%|██▍       | 1265/5273 [05:42<17:29,  3.82it/s]"
     ]
    },
    {
     "name": "stderr",
     "output_type": "stream",
     "text": [
      "\r",
      "Processing columns:  24%|██▍       | 1266/5273 [05:43<16:47,  3.98it/s]"
     ]
    },
    {
     "name": "stderr",
     "output_type": "stream",
     "text": [
      "\r",
      "Processing columns:  24%|██▍       | 1267/5273 [05:43<20:16,  3.29it/s]"
     ]
    },
    {
     "name": "stderr",
     "output_type": "stream",
     "text": [
      "\r",
      "Processing columns:  24%|██▍       | 1268/5273 [05:43<19:58,  3.34it/s]"
     ]
    },
    {
     "name": "stderr",
     "output_type": "stream",
     "text": [
      "\r",
      "Processing columns:  24%|██▍       | 1269/5273 [05:43<18:28,  3.61it/s]"
     ]
    },
    {
     "name": "stderr",
     "output_type": "stream",
     "text": [
      "\r",
      "Processing columns:  24%|██▍       | 1270/5273 [05:44<18:12,  3.66it/s]"
     ]
    },
    {
     "name": "stderr",
     "output_type": "stream",
     "text": [
      "\r",
      "Processing columns:  24%|██▍       | 1271/5273 [05:44<17:06,  3.90it/s]"
     ]
    },
    {
     "name": "stderr",
     "output_type": "stream",
     "text": [
      "\r",
      "Processing columns:  24%|██▍       | 1272/5273 [05:44<17:13,  3.87it/s]"
     ]
    },
    {
     "name": "stderr",
     "output_type": "stream",
     "text": [
      "\r",
      "Processing columns:  24%|██▍       | 1273/5273 [05:44<17:06,  3.90it/s]"
     ]
    },
    {
     "name": "stderr",
     "output_type": "stream",
     "text": [
      "\r",
      "Processing columns:  24%|██▍       | 1274/5273 [05:45<16:56,  3.93it/s]"
     ]
    },
    {
     "name": "stderr",
     "output_type": "stream",
     "text": [
      "\r",
      "Processing columns:  24%|██▍       | 1275/5273 [05:45<16:24,  4.06it/s]"
     ]
    },
    {
     "name": "stderr",
     "output_type": "stream",
     "text": [
      "\r",
      "Processing columns:  24%|██▍       | 1276/5273 [05:45<16:50,  3.95it/s]"
     ]
    },
    {
     "name": "stderr",
     "output_type": "stream",
     "text": [
      "\r",
      "Processing columns:  24%|██▍       | 1277/5273 [05:45<16:16,  4.09it/s]"
     ]
    },
    {
     "name": "stderr",
     "output_type": "stream",
     "text": [
      "\r",
      "Processing columns:  24%|██▍       | 1278/5273 [05:46<16:29,  4.04it/s]"
     ]
    },
    {
     "name": "stderr",
     "output_type": "stream",
     "text": [
      "\r",
      "Processing columns:  24%|██▍       | 1279/5273 [05:46<16:15,  4.09it/s]"
     ]
    },
    {
     "name": "stderr",
     "output_type": "stream",
     "text": [
      "\r",
      "Processing columns:  24%|██▍       | 1280/5273 [05:46<20:34,  3.23it/s]"
     ]
    },
    {
     "name": "stderr",
     "output_type": "stream",
     "text": [
      "\r",
      "Processing columns:  24%|██▍       | 1281/5273 [05:47<19:04,  3.49it/s]"
     ]
    },
    {
     "name": "stderr",
     "output_type": "stream",
     "text": [
      "\r",
      "Processing columns:  24%|██▍       | 1282/5273 [05:47<17:40,  3.76it/s]"
     ]
    },
    {
     "name": "stderr",
     "output_type": "stream",
     "text": [
      "\r",
      "Processing columns:  24%|██▍       | 1283/5273 [05:47<16:56,  3.92it/s]"
     ]
    },
    {
     "name": "stderr",
     "output_type": "stream",
     "text": [
      "\r",
      "Processing columns:  24%|██▍       | 1284/5273 [05:47<16:33,  4.02it/s]"
     ]
    },
    {
     "name": "stderr",
     "output_type": "stream",
     "text": [
      "\r",
      "Processing columns:  24%|██▍       | 1285/5273 [05:48<16:45,  3.97it/s]"
     ]
    },
    {
     "name": "stderr",
     "output_type": "stream",
     "text": [
      "\r",
      "Processing columns:  24%|██▍       | 1286/5273 [05:48<15:52,  4.18it/s]"
     ]
    },
    {
     "name": "stderr",
     "output_type": "stream",
     "text": [
      "\r",
      "Processing columns:  24%|██▍       | 1287/5273 [05:48<15:25,  4.31it/s]"
     ]
    },
    {
     "name": "stderr",
     "output_type": "stream",
     "text": [
      "\r",
      "Processing columns:  24%|██▍       | 1288/5273 [05:48<19:12,  3.46it/s]"
     ]
    },
    {
     "name": "stderr",
     "output_type": "stream",
     "text": [
      "\r",
      "Processing columns:  24%|██▍       | 1289/5273 [05:49<18:49,  3.53it/s]"
     ]
    },
    {
     "name": "stderr",
     "output_type": "stream",
     "text": [
      "\r",
      "Processing columns:  24%|██▍       | 1290/5273 [05:49<17:38,  3.76it/s]"
     ]
    },
    {
     "name": "stderr",
     "output_type": "stream",
     "text": [
      "\r",
      "Processing columns:  24%|██▍       | 1291/5273 [05:49<18:15,  3.63it/s]"
     ]
    },
    {
     "name": "stderr",
     "output_type": "stream",
     "text": [
      "\r",
      "Processing columns:  25%|██▍       | 1292/5273 [05:49<18:19,  3.62it/s]"
     ]
    },
    {
     "name": "stderr",
     "output_type": "stream",
     "text": [
      "\r",
      "Processing columns:  25%|██▍       | 1293/5273 [05:50<21:55,  3.03it/s]"
     ]
    },
    {
     "name": "stderr",
     "output_type": "stream",
     "text": [
      "\r",
      "Processing columns:  25%|██▍       | 1294/5273 [05:50<19:33,  3.39it/s]"
     ]
    },
    {
     "name": "stderr",
     "output_type": "stream",
     "text": [
      "\r",
      "Processing columns:  25%|██▍       | 1295/5273 [05:50<18:16,  3.63it/s]"
     ]
    },
    {
     "name": "stderr",
     "output_type": "stream",
     "text": [
      "\r",
      "Processing columns:  25%|██▍       | 1296/5273 [05:51<17:12,  3.85it/s]"
     ]
    },
    {
     "name": "stderr",
     "output_type": "stream",
     "text": [
      "\r",
      "Processing columns:  25%|██▍       | 1297/5273 [05:51<16:35,  3.99it/s]"
     ]
    },
    {
     "name": "stderr",
     "output_type": "stream",
     "text": [
      "\r",
      "Processing columns:  25%|██▍       | 1298/5273 [05:51<16:20,  4.06it/s]"
     ]
    },
    {
     "name": "stderr",
     "output_type": "stream",
     "text": [
      "\r",
      "Processing columns:  25%|██▍       | 1299/5273 [05:51<18:49,  3.52it/s]"
     ]
    },
    {
     "name": "stderr",
     "output_type": "stream",
     "text": [
      "\r",
      "Processing columns:  25%|██▍       | 1300/5273 [05:52<17:36,  3.76it/s]"
     ]
    },
    {
     "name": "stderr",
     "output_type": "stream",
     "text": [
      "\r",
      "Processing columns:  25%|██▍       | 1301/5273 [05:52<17:48,  3.72it/s]"
     ]
    },
    {
     "name": "stderr",
     "output_type": "stream",
     "text": [
      "\r",
      "Processing columns:  25%|██▍       | 1302/5273 [05:52<17:58,  3.68it/s]"
     ]
    },
    {
     "name": "stderr",
     "output_type": "stream",
     "text": [
      "\r",
      "Processing columns:  25%|██▍       | 1303/5273 [05:53<19:07,  3.46it/s]"
     ]
    },
    {
     "name": "stderr",
     "output_type": "stream",
     "text": [
      "\r",
      "Processing columns:  25%|██▍       | 1304/5273 [05:53<18:01,  3.67it/s]"
     ]
    },
    {
     "name": "stderr",
     "output_type": "stream",
     "text": [
      "\r",
      "Processing columns:  25%|██▍       | 1305/5273 [05:53<17:01,  3.88it/s]"
     ]
    },
    {
     "name": "stderr",
     "output_type": "stream",
     "text": [
      "\r",
      "Processing columns:  25%|██▍       | 1306/5273 [05:53<15:48,  4.18it/s]"
     ]
    },
    {
     "name": "stderr",
     "output_type": "stream",
     "text": [
      "\r",
      "Processing columns:  25%|██▍       | 1307/5273 [05:54<21:12,  3.12it/s]"
     ]
    },
    {
     "name": "stderr",
     "output_type": "stream",
     "text": [
      "\r",
      "Processing columns:  25%|██▍       | 1308/5273 [05:54<19:02,  3.47it/s]"
     ]
    },
    {
     "name": "stderr",
     "output_type": "stream",
     "text": [
      "\r",
      "Processing columns:  25%|██▍       | 1309/5273 [05:54<21:08,  3.12it/s]"
     ]
    },
    {
     "name": "stderr",
     "output_type": "stream",
     "text": [
      "\r",
      "Processing columns:  25%|██▍       | 1310/5273 [05:55<19:29,  3.39it/s]"
     ]
    },
    {
     "name": "stderr",
     "output_type": "stream",
     "text": [
      "\r",
      "Processing columns:  25%|██▍       | 1311/5273 [05:55<18:25,  3.58it/s]"
     ]
    },
    {
     "name": "stderr",
     "output_type": "stream",
     "text": [
      "\r",
      "Processing columns:  25%|██▍       | 1312/5273 [05:55<18:14,  3.62it/s]"
     ]
    },
    {
     "name": "stderr",
     "output_type": "stream",
     "text": [
      "\r",
      "Processing columns:  25%|██▍       | 1313/5273 [05:55<19:52,  3.32it/s]"
     ]
    },
    {
     "name": "stderr",
     "output_type": "stream",
     "text": [
      "\r",
      "Processing columns:  25%|██▍       | 1314/5273 [05:56<18:28,  3.57it/s]"
     ]
    },
    {
     "name": "stderr",
     "output_type": "stream",
     "text": [
      "\r",
      "Processing columns:  25%|██▍       | 1315/5273 [05:56<17:28,  3.77it/s]"
     ]
    },
    {
     "name": "stderr",
     "output_type": "stream",
     "text": [
      "\r",
      "Processing columns:  25%|██▍       | 1316/5273 [05:56<19:25,  3.40it/s]"
     ]
    },
    {
     "name": "stderr",
     "output_type": "stream",
     "text": [
      "\r",
      "Processing columns:  25%|██▍       | 1317/5273 [05:57<18:19,  3.60it/s]"
     ]
    },
    {
     "name": "stderr",
     "output_type": "stream",
     "text": [
      "\r",
      "Processing columns:  25%|██▍       | 1318/5273 [05:57<17:51,  3.69it/s]"
     ]
    },
    {
     "name": "stderr",
     "output_type": "stream",
     "text": [
      "\r",
      "Processing columns:  25%|██▌       | 1319/5273 [05:57<16:57,  3.89it/s]"
     ]
    },
    {
     "name": "stderr",
     "output_type": "stream",
     "text": [
      "\r",
      "Processing columns:  25%|██▌       | 1320/5273 [05:57<20:16,  3.25it/s]"
     ]
    },
    {
     "name": "stderr",
     "output_type": "stream",
     "text": [
      "\r",
      "Processing columns:  25%|██▌       | 1321/5273 [05:58<18:51,  3.49it/s]"
     ]
    },
    {
     "name": "stderr",
     "output_type": "stream",
     "text": [
      "\r",
      "Processing columns:  25%|██▌       | 1322/5273 [05:58<18:48,  3.50it/s]"
     ]
    },
    {
     "name": "stderr",
     "output_type": "stream",
     "text": [
      "\r",
      "Processing columns:  25%|██▌       | 1323/5273 [05:58<17:49,  3.69it/s]"
     ]
    },
    {
     "name": "stderr",
     "output_type": "stream",
     "text": [
      "\r",
      "Processing columns:  25%|██▌       | 1324/5273 [05:58<18:02,  3.65it/s]"
     ]
    },
    {
     "name": "stderr",
     "output_type": "stream",
     "text": [
      "\r",
      "Processing columns:  25%|██▌       | 1325/5273 [05:59<16:22,  4.02it/s]"
     ]
    },
    {
     "name": "stderr",
     "output_type": "stream",
     "text": [
      "\r",
      "Processing columns:  25%|██▌       | 1326/5273 [05:59<16:24,  4.01it/s]"
     ]
    },
    {
     "name": "stderr",
     "output_type": "stream",
     "text": [
      "\r",
      "Processing columns:  25%|██▌       | 1327/5273 [05:59<16:14,  4.05it/s]"
     ]
    },
    {
     "name": "stderr",
     "output_type": "stream",
     "text": [
      "\r",
      "Processing columns:  25%|██▌       | 1328/5273 [05:59<15:48,  4.16it/s]"
     ]
    },
    {
     "name": "stderr",
     "output_type": "stream",
     "text": [
      "\r",
      "Processing columns:  25%|██▌       | 1329/5273 [06:00<15:17,  4.30it/s]"
     ]
    },
    {
     "name": "stderr",
     "output_type": "stream",
     "text": [
      "\r",
      "Processing columns:  25%|██▌       | 1330/5273 [06:00<17:04,  3.85it/s]"
     ]
    },
    {
     "name": "stderr",
     "output_type": "stream",
     "text": [
      "\r",
      "Processing columns:  25%|██▌       | 1331/5273 [06:00<17:03,  3.85it/s]"
     ]
    },
    {
     "name": "stderr",
     "output_type": "stream",
     "text": [
      "\r",
      "Processing columns:  25%|██▌       | 1332/5273 [06:00<16:49,  3.90it/s]"
     ]
    },
    {
     "name": "stderr",
     "output_type": "stream",
     "text": [
      "\r",
      "Processing columns:  25%|██▌       | 1333/5273 [06:01<20:31,  3.20it/s]"
     ]
    },
    {
     "name": "stderr",
     "output_type": "stream",
     "text": [
      "\r",
      "Processing columns:  25%|██▌       | 1334/5273 [06:01<18:44,  3.50it/s]"
     ]
    },
    {
     "name": "stderr",
     "output_type": "stream",
     "text": [
      "\r",
      "Processing columns:  25%|██▌       | 1335/5273 [06:01<17:49,  3.68it/s]"
     ]
    },
    {
     "name": "stderr",
     "output_type": "stream",
     "text": [
      "\r",
      "Processing columns:  25%|██▌       | 1336/5273 [06:02<18:54,  3.47it/s]"
     ]
    },
    {
     "name": "stderr",
     "output_type": "stream",
     "text": [
      "\r",
      "Processing columns:  25%|██▌       | 1337/5273 [06:02<17:39,  3.72it/s]"
     ]
    },
    {
     "name": "stderr",
     "output_type": "stream",
     "text": [
      "\r",
      "Processing columns:  25%|██▌       | 1338/5273 [06:02<20:01,  3.28it/s]"
     ]
    },
    {
     "name": "stderr",
     "output_type": "stream",
     "text": [
      "\r",
      "Processing columns:  25%|██▌       | 1339/5273 [06:02<17:57,  3.65it/s]"
     ]
    },
    {
     "name": "stderr",
     "output_type": "stream",
     "text": [
      "\r",
      "Processing columns:  25%|██▌       | 1340/5273 [06:03<16:55,  3.87it/s]"
     ]
    },
    {
     "name": "stderr",
     "output_type": "stream",
     "text": [
      "\r",
      "Processing columns:  25%|██▌       | 1341/5273 [06:03<19:21,  3.39it/s]"
     ]
    },
    {
     "name": "stderr",
     "output_type": "stream",
     "text": [
      "\r",
      "Processing columns:  25%|██▌       | 1342/5273 [06:03<17:54,  3.66it/s]"
     ]
    },
    {
     "name": "stderr",
     "output_type": "stream",
     "text": [
      "\r",
      "Processing columns:  25%|██▌       | 1343/5273 [06:04<17:56,  3.65it/s]"
     ]
    },
    {
     "name": "stderr",
     "output_type": "stream",
     "text": [
      "\r",
      "Processing columns:  25%|██▌       | 1344/5273 [06:04<16:50,  3.89it/s]"
     ]
    },
    {
     "name": "stderr",
     "output_type": "stream",
     "text": [
      "\r",
      "Processing columns:  26%|██▌       | 1345/5273 [06:04<16:13,  4.04it/s]"
     ]
    },
    {
     "name": "stderr",
     "output_type": "stream",
     "text": [
      "\r",
      "Processing columns:  26%|██▌       | 1346/5273 [06:05<23:26,  2.79it/s]"
     ]
    },
    {
     "name": "stderr",
     "output_type": "stream",
     "text": [
      "\r",
      "Processing columns:  26%|██▌       | 1347/5273 [06:05<20:56,  3.12it/s]"
     ]
    },
    {
     "name": "stderr",
     "output_type": "stream",
     "text": [
      "\r",
      "Processing columns:  26%|██▌       | 1348/5273 [06:05<19:00,  3.44it/s]"
     ]
    },
    {
     "name": "stderr",
     "output_type": "stream",
     "text": [
      "\r",
      "Processing columns:  26%|██▌       | 1349/5273 [06:05<18:15,  3.58it/s]"
     ]
    },
    {
     "name": "stderr",
     "output_type": "stream",
     "text": [
      "\r",
      "Processing columns:  26%|██▌       | 1350/5273 [06:06<17:40,  3.70it/s]"
     ]
    },
    {
     "name": "stderr",
     "output_type": "stream",
     "text": [
      "\r",
      "Processing columns:  26%|██▌       | 1351/5273 [06:06<16:54,  3.87it/s]"
     ]
    },
    {
     "name": "stderr",
     "output_type": "stream",
     "text": [
      "\r",
      "Processing columns:  26%|██▌       | 1352/5273 [06:06<16:34,  3.94it/s]"
     ]
    },
    {
     "name": "stderr",
     "output_type": "stream",
     "text": [
      "\r",
      "Processing columns:  26%|██▌       | 1353/5273 [06:06<16:21,  3.99it/s]"
     ]
    },
    {
     "name": "stderr",
     "output_type": "stream",
     "text": [
      "\r",
      "Processing columns:  26%|██▌       | 1354/5273 [06:07<17:03,  3.83it/s]"
     ]
    },
    {
     "name": "stderr",
     "output_type": "stream",
     "text": [
      "\r",
      "Processing columns:  26%|██▌       | 1355/5273 [06:07<15:42,  4.16it/s]"
     ]
    },
    {
     "name": "stderr",
     "output_type": "stream",
     "text": [
      "\r",
      "Processing columns:  26%|██▌       | 1356/5273 [06:07<15:05,  4.33it/s]"
     ]
    },
    {
     "name": "stderr",
     "output_type": "stream",
     "text": [
      "\r",
      "Processing columns:  26%|██▌       | 1357/5273 [06:07<18:46,  3.48it/s]"
     ]
    },
    {
     "name": "stderr",
     "output_type": "stream",
     "text": [
      "\r",
      "Processing columns:  26%|██▌       | 1358/5273 [06:08<17:37,  3.70it/s]"
     ]
    },
    {
     "name": "stderr",
     "output_type": "stream",
     "text": [
      "\r",
      "Processing columns:  26%|██▌       | 1359/5273 [06:08<21:48,  2.99it/s]"
     ]
    },
    {
     "name": "stderr",
     "output_type": "stream",
     "text": [
      "\r",
      "Processing columns:  26%|██▌       | 1360/5273 [06:08<19:55,  3.27it/s]"
     ]
    },
    {
     "name": "stderr",
     "output_type": "stream",
     "text": [
      "\r",
      "Processing columns:  26%|██▌       | 1361/5273 [06:09<18:28,  3.53it/s]"
     ]
    },
    {
     "name": "stderr",
     "output_type": "stream",
     "text": [
      "\r",
      "Processing columns:  26%|██▌       | 1362/5273 [06:09<17:37,  3.70it/s]"
     ]
    },
    {
     "name": "stderr",
     "output_type": "stream",
     "text": [
      "\r",
      "Processing columns:  26%|██▌       | 1363/5273 [06:09<18:08,  3.59it/s]"
     ]
    },
    {
     "name": "stderr",
     "output_type": "stream",
     "text": [
      "\r",
      "Processing columns:  26%|██▌       | 1364/5273 [06:09<17:42,  3.68it/s]"
     ]
    },
    {
     "name": "stderr",
     "output_type": "stream",
     "text": [
      "\r",
      "Processing columns:  26%|██▌       | 1365/5273 [06:10<17:42,  3.68it/s]"
     ]
    },
    {
     "name": "stderr",
     "output_type": "stream",
     "text": [
      "\r",
      "Processing columns:  26%|██▌       | 1366/5273 [06:10<16:32,  3.93it/s]"
     ]
    },
    {
     "name": "stderr",
     "output_type": "stream",
     "text": [
      "\r",
      "Processing columns:  26%|██▌       | 1367/5273 [06:10<17:15,  3.77it/s]"
     ]
    },
    {
     "name": "stderr",
     "output_type": "stream",
     "text": [
      "\r",
      "Processing columns:  26%|██▌       | 1368/5273 [06:10<16:07,  4.04it/s]"
     ]
    },
    {
     "name": "stderr",
     "output_type": "stream",
     "text": [
      "\r",
      "Processing columns:  26%|██▌       | 1369/5273 [06:11<16:24,  3.97it/s]"
     ]
    },
    {
     "name": "stderr",
     "output_type": "stream",
     "text": [
      "\r",
      "Processing columns:  26%|██▌       | 1370/5273 [06:11<15:48,  4.11it/s]"
     ]
    },
    {
     "name": "stderr",
     "output_type": "stream",
     "text": [
      "\r",
      "Processing columns:  26%|██▌       | 1371/5273 [06:11<17:18,  3.76it/s]"
     ]
    },
    {
     "name": "stderr",
     "output_type": "stream",
     "text": [
      "\r",
      "Processing columns:  26%|██▌       | 1372/5273 [06:12<21:11,  3.07it/s]"
     ]
    },
    {
     "name": "stderr",
     "output_type": "stream",
     "text": [
      "\r",
      "Processing columns:  26%|██▌       | 1373/5273 [06:12<19:24,  3.35it/s]"
     ]
    },
    {
     "name": "stderr",
     "output_type": "stream",
     "text": [
      "\r",
      "Processing columns:  26%|██▌       | 1374/5273 [06:12<18:25,  3.53it/s]"
     ]
    },
    {
     "name": "stderr",
     "output_type": "stream",
     "text": [
      "\r",
      "Processing columns:  26%|██▌       | 1375/5273 [06:12<17:29,  3.72it/s]"
     ]
    },
    {
     "name": "stderr",
     "output_type": "stream",
     "text": [
      "\r",
      "Processing columns:  26%|██▌       | 1376/5273 [06:13<16:13,  4.00it/s]"
     ]
    },
    {
     "name": "stderr",
     "output_type": "stream",
     "text": [
      "\r",
      "Processing columns:  26%|██▌       | 1377/5273 [06:13<15:48,  4.11it/s]"
     ]
    },
    {
     "name": "stderr",
     "output_type": "stream",
     "text": [
      "\r",
      "Processing columns:  26%|██▌       | 1378/5273 [06:13<16:14,  4.00it/s]"
     ]
    },
    {
     "name": "stderr",
     "output_type": "stream",
     "text": [
      "\r",
      "Processing columns:  26%|██▌       | 1379/5273 [06:13<17:59,  3.61it/s]"
     ]
    },
    {
     "name": "stderr",
     "output_type": "stream",
     "text": [
      "\r",
      "Processing columns:  26%|██▌       | 1380/5273 [06:14<16:29,  3.93it/s]"
     ]
    },
    {
     "name": "stderr",
     "output_type": "stream",
     "text": [
      "\r",
      "Processing columns:  26%|██▌       | 1381/5273 [06:14<16:45,  3.87it/s]"
     ]
    },
    {
     "name": "stderr",
     "output_type": "stream",
     "text": [
      "\r",
      "Processing columns:  26%|██▌       | 1382/5273 [06:14<16:35,  3.91it/s]"
     ]
    },
    {
     "name": "stderr",
     "output_type": "stream",
     "text": [
      "\r",
      "Processing columns:  26%|██▌       | 1383/5273 [06:14<16:04,  4.03it/s]"
     ]
    },
    {
     "name": "stderr",
     "output_type": "stream",
     "text": [
      "\r",
      "Processing columns:  26%|██▌       | 1384/5273 [06:15<16:56,  3.83it/s]"
     ]
    },
    {
     "name": "stderr",
     "output_type": "stream",
     "text": [
      "\r",
      "Processing columns:  26%|██▋       | 1385/5273 [06:15<19:57,  3.25it/s]"
     ]
    },
    {
     "name": "stderr",
     "output_type": "stream",
     "text": [
      "\r",
      "Processing columns:  26%|██▋       | 1386/5273 [06:15<18:34,  3.49it/s]"
     ]
    },
    {
     "name": "stderr",
     "output_type": "stream",
     "text": [
      "\r",
      "Processing columns:  26%|██▋       | 1387/5273 [06:15<17:28,  3.71it/s]"
     ]
    },
    {
     "name": "stderr",
     "output_type": "stream",
     "text": [
      "\r",
      "Processing columns:  26%|██▋       | 1388/5273 [06:16<16:19,  3.97it/s]"
     ]
    },
    {
     "name": "stderr",
     "output_type": "stream",
     "text": [
      "\r",
      "Processing columns:  26%|██▋       | 1389/5273 [06:16<18:10,  3.56it/s]"
     ]
    },
    {
     "name": "stderr",
     "output_type": "stream",
     "text": [
      "\r",
      "Processing columns:  26%|██▋       | 1390/5273 [06:16<17:27,  3.71it/s]"
     ]
    },
    {
     "name": "stderr",
     "output_type": "stream",
     "text": [
      "\r",
      "Processing columns:  26%|██▋       | 1391/5273 [06:17<16:39,  3.88it/s]"
     ]
    },
    {
     "name": "stderr",
     "output_type": "stream",
     "text": [
      "\r",
      "Processing columns:  26%|██▋       | 1392/5273 [06:17<16:00,  4.04it/s]"
     ]
    },
    {
     "name": "stderr",
     "output_type": "stream",
     "text": [
      "\r",
      "Processing columns:  26%|██▋       | 1393/5273 [06:17<15:36,  4.14it/s]"
     ]
    },
    {
     "name": "stderr",
     "output_type": "stream",
     "text": [
      "\r",
      "Processing columns:  26%|██▋       | 1394/5273 [06:17<14:54,  4.34it/s]"
     ]
    },
    {
     "name": "stderr",
     "output_type": "stream",
     "text": [
      "\r",
      "Processing columns:  26%|██▋       | 1395/5273 [06:18<18:53,  3.42it/s]"
     ]
    },
    {
     "name": "stderr",
     "output_type": "stream",
     "text": [
      "\r",
      "Processing columns:  26%|██▋       | 1396/5273 [06:18<17:23,  3.71it/s]"
     ]
    },
    {
     "name": "stderr",
     "output_type": "stream",
     "text": [
      "\r",
      "Processing columns:  26%|██▋       | 1397/5273 [06:18<18:34,  3.48it/s]"
     ]
    },
    {
     "name": "stderr",
     "output_type": "stream",
     "text": [
      "\r",
      "Processing columns:  27%|██▋       | 1398/5273 [06:18<17:17,  3.74it/s]"
     ]
    },
    {
     "name": "stderr",
     "output_type": "stream",
     "text": [
      "\r",
      "Processing columns:  27%|██▋       | 1399/5273 [06:19<21:36,  2.99it/s]"
     ]
    },
    {
     "name": "stderr",
     "output_type": "stream",
     "text": [
      "\r",
      "Processing columns:  27%|██▋       | 1400/5273 [06:19<20:31,  3.15it/s]"
     ]
    },
    {
     "name": "stderr",
     "output_type": "stream",
     "text": [
      "\r",
      "Processing columns:  27%|██▋       | 1401/5273 [06:19<18:20,  3.52it/s]"
     ]
    },
    {
     "name": "stderr",
     "output_type": "stream",
     "text": [
      "\r",
      "Processing columns:  27%|██▋       | 1402/5273 [06:20<17:04,  3.78it/s]"
     ]
    },
    {
     "name": "stderr",
     "output_type": "stream",
     "text": [
      "\r",
      "Processing columns:  27%|██▋       | 1403/5273 [06:20<16:47,  3.84it/s]"
     ]
    },
    {
     "name": "stderr",
     "output_type": "stream",
     "text": [
      "\r",
      "Processing columns:  27%|██▋       | 1404/5273 [06:20<18:11,  3.54it/s]"
     ]
    },
    {
     "name": "stderr",
     "output_type": "stream",
     "text": [
      "\r",
      "Processing columns:  27%|██▋       | 1405/5273 [06:20<17:45,  3.63it/s]"
     ]
    },
    {
     "name": "stderr",
     "output_type": "stream",
     "text": [
      "\r",
      "Processing columns:  27%|██▋       | 1406/5273 [06:21<16:21,  3.94it/s]"
     ]
    },
    {
     "name": "stderr",
     "output_type": "stream",
     "text": [
      "\r",
      "Processing columns:  27%|██▋       | 1407/5273 [06:21<15:41,  4.11it/s]"
     ]
    },
    {
     "name": "stderr",
     "output_type": "stream",
     "text": [
      "\r",
      "Processing columns:  27%|██▋       | 1408/5273 [06:21<17:13,  3.74it/s]"
     ]
    },
    {
     "name": "stderr",
     "output_type": "stream",
     "text": [
      "\r",
      "Processing columns:  27%|██▋       | 1409/5273 [06:21<16:48,  3.83it/s]"
     ]
    },
    {
     "name": "stderr",
     "output_type": "stream",
     "text": [
      "\r",
      "Processing columns:  27%|██▋       | 1410/5273 [06:22<16:11,  3.98it/s]"
     ]
    },
    {
     "name": "stderr",
     "output_type": "stream",
     "text": [
      "\r",
      "Processing columns:  27%|██▋       | 1411/5273 [06:22<16:01,  4.01it/s]"
     ]
    },
    {
     "name": "stderr",
     "output_type": "stream",
     "text": [
      "\r",
      "Processing columns:  27%|██▋       | 1412/5273 [06:22<20:09,  3.19it/s]"
     ]
    },
    {
     "name": "stderr",
     "output_type": "stream",
     "text": [
      "\r",
      "Processing columns:  27%|██▋       | 1413/5273 [06:23<18:42,  3.44it/s]"
     ]
    },
    {
     "name": "stderr",
     "output_type": "stream",
     "text": [
      "\r",
      "Processing columns:  27%|██▋       | 1414/5273 [06:23<17:57,  3.58it/s]"
     ]
    },
    {
     "name": "stderr",
     "output_type": "stream",
     "text": [
      "\r",
      "Processing columns:  27%|██▋       | 1415/5273 [06:23<16:54,  3.80it/s]"
     ]
    },
    {
     "name": "stderr",
     "output_type": "stream",
     "text": [
      "\r",
      "Processing columns:  27%|██▋       | 1416/5273 [06:23<16:01,  4.01it/s]"
     ]
    },
    {
     "name": "stderr",
     "output_type": "stream",
     "text": [
      "\r",
      "Processing columns:  27%|██▋       | 1417/5273 [06:24<15:50,  4.06it/s]"
     ]
    },
    {
     "name": "stderr",
     "output_type": "stream",
     "text": [
      "\r",
      "Processing columns:  27%|██▋       | 1418/5273 [06:24<15:33,  4.13it/s]"
     ]
    },
    {
     "name": "stderr",
     "output_type": "stream",
     "text": [
      "\r",
      "Processing columns:  27%|██▋       | 1419/5273 [06:24<15:29,  4.15it/s]"
     ]
    },
    {
     "name": "stderr",
     "output_type": "stream",
     "text": [
      "\r",
      "Processing columns:  27%|██▋       | 1420/5273 [06:24<15:16,  4.20it/s]"
     ]
    },
    {
     "name": "stderr",
     "output_type": "stream",
     "text": [
      "\r",
      "Processing columns:  27%|██▋       | 1421/5273 [06:24<15:32,  4.13it/s]"
     ]
    },
    {
     "name": "stderr",
     "output_type": "stream",
     "text": [
      "\r",
      "Processing columns:  27%|██▋       | 1422/5273 [06:25<15:16,  4.20it/s]"
     ]
    },
    {
     "name": "stderr",
     "output_type": "stream",
     "text": [
      "\r",
      "Processing columns:  27%|██▋       | 1423/5273 [06:25<15:35,  4.12it/s]"
     ]
    },
    {
     "name": "stderr",
     "output_type": "stream",
     "text": [
      "\r",
      "Processing columns:  27%|██▋       | 1424/5273 [06:25<15:41,  4.09it/s]"
     ]
    },
    {
     "name": "stderr",
     "output_type": "stream",
     "text": [
      "\r",
      "Processing columns:  27%|██▋       | 1425/5273 [06:26<19:20,  3.32it/s]"
     ]
    },
    {
     "name": "stderr",
     "output_type": "stream",
     "text": [
      "\r",
      "Processing columns:  27%|██▋       | 1426/5273 [06:26<17:23,  3.69it/s]"
     ]
    },
    {
     "name": "stderr",
     "output_type": "stream",
     "text": [
      "\r",
      "Processing columns:  27%|██▋       | 1427/5273 [06:26<16:22,  3.92it/s]"
     ]
    },
    {
     "name": "stderr",
     "output_type": "stream",
     "text": [
      "\r",
      "Processing columns:  27%|██▋       | 1428/5273 [06:26<16:06,  3.98it/s]"
     ]
    },
    {
     "name": "stderr",
     "output_type": "stream",
     "text": [
      "\r",
      "Processing columns:  27%|██▋       | 1429/5273 [06:27<16:04,  3.98it/s]"
     ]
    },
    {
     "name": "stderr",
     "output_type": "stream",
     "text": [
      "\r",
      "Processing columns:  27%|██▋       | 1430/5273 [06:27<16:30,  3.88it/s]"
     ]
    },
    {
     "name": "stderr",
     "output_type": "stream",
     "text": [
      "\r",
      "Processing columns:  27%|██▋       | 1431/5273 [06:27<16:16,  3.93it/s]"
     ]
    },
    {
     "name": "stderr",
     "output_type": "stream",
     "text": [
      "\r",
      "Processing columns:  27%|██▋       | 1432/5273 [06:27<16:03,  3.99it/s]"
     ]
    },
    {
     "name": "stderr",
     "output_type": "stream",
     "text": [
      "\r",
      "Processing columns:  27%|██▋       | 1433/5273 [06:28<15:45,  4.06it/s]"
     ]
    },
    {
     "name": "stderr",
     "output_type": "stream",
     "text": [
      "\r",
      "Processing columns:  27%|██▋       | 1434/5273 [06:28<16:30,  3.88it/s]"
     ]
    },
    {
     "name": "stderr",
     "output_type": "stream",
     "text": [
      "\r",
      "Processing columns:  27%|██▋       | 1435/5273 [06:28<16:47,  3.81it/s]"
     ]
    },
    {
     "name": "stderr",
     "output_type": "stream",
     "text": [
      "\r",
      "Processing columns:  27%|██▋       | 1436/5273 [06:28<16:33,  3.86it/s]"
     ]
    },
    {
     "name": "stderr",
     "output_type": "stream",
     "text": [
      "\r",
      "Processing columns:  27%|██▋       | 1437/5273 [06:29<15:35,  4.10it/s]"
     ]
    },
    {
     "name": "stderr",
     "output_type": "stream",
     "text": [
      "\r",
      "Processing columns:  27%|██▋       | 1438/5273 [06:29<20:14,  3.16it/s]"
     ]
    },
    {
     "name": "stderr",
     "output_type": "stream",
     "text": [
      "\r",
      "Processing columns:  27%|██▋       | 1439/5273 [06:29<18:56,  3.37it/s]"
     ]
    },
    {
     "name": "stderr",
     "output_type": "stream",
     "text": [
      "\r",
      "Processing columns:  27%|██▋       | 1440/5273 [06:30<17:48,  3.59it/s]"
     ]
    },
    {
     "name": "stderr",
     "output_type": "stream",
     "text": [
      "\r",
      "Processing columns:  27%|██▋       | 1441/5273 [06:30<17:14,  3.70it/s]"
     ]
    },
    {
     "name": "stderr",
     "output_type": "stream",
     "text": [
      "\r",
      "Processing columns:  27%|██▋       | 1442/5273 [06:30<16:43,  3.82it/s]"
     ]
    },
    {
     "name": "stderr",
     "output_type": "stream",
     "text": [
      "\r",
      "Processing columns:  27%|██▋       | 1443/5273 [06:30<16:43,  3.82it/s]"
     ]
    },
    {
     "name": "stderr",
     "output_type": "stream",
     "text": [
      "\r",
      "Processing columns:  27%|██▋       | 1444/5273 [06:31<16:15,  3.93it/s]"
     ]
    },
    {
     "name": "stderr",
     "output_type": "stream",
     "text": [
      "\r",
      "Processing columns:  27%|██▋       | 1445/5273 [06:31<16:00,  3.99it/s]"
     ]
    },
    {
     "name": "stderr",
     "output_type": "stream",
     "text": [
      "\r",
      "Processing columns:  27%|██▋       | 1446/5273 [06:31<15:09,  4.21it/s]"
     ]
    },
    {
     "name": "stderr",
     "output_type": "stream",
     "text": [
      "\r",
      "Processing columns:  27%|██▋       | 1447/5273 [06:31<15:42,  4.06it/s]"
     ]
    },
    {
     "name": "stderr",
     "output_type": "stream",
     "text": [
      "\r",
      "Processing columns:  27%|██▋       | 1448/5273 [06:32<16:38,  3.83it/s]"
     ]
    },
    {
     "name": "stderr",
     "output_type": "stream",
     "text": [
      "\r",
      "Processing columns:  27%|██▋       | 1449/5273 [06:32<16:11,  3.94it/s]"
     ]
    },
    {
     "name": "stderr",
     "output_type": "stream",
     "text": [
      "\r",
      "Processing columns:  27%|██▋       | 1450/5273 [06:32<16:09,  3.94it/s]"
     ]
    },
    {
     "name": "stderr",
     "output_type": "stream",
     "text": [
      "\r",
      "Processing columns:  28%|██▊       | 1451/5273 [06:33<20:45,  3.07it/s]"
     ]
    },
    {
     "name": "stderr",
     "output_type": "stream",
     "text": [
      "\r",
      "Processing columns:  28%|██▊       | 1452/5273 [06:33<19:08,  3.33it/s]"
     ]
    },
    {
     "name": "stderr",
     "output_type": "stream",
     "text": [
      "\r",
      "Processing columns:  28%|██▊       | 1453/5273 [06:33<17:39,  3.61it/s]"
     ]
    },
    {
     "name": "stderr",
     "output_type": "stream",
     "text": [
      "\r",
      "Processing columns:  28%|██▊       | 1454/5273 [06:33<16:56,  3.76it/s]"
     ]
    },
    {
     "name": "stderr",
     "output_type": "stream",
     "text": [
      "\r",
      "Processing columns:  28%|██▊       | 1455/5273 [06:33<16:11,  3.93it/s]"
     ]
    },
    {
     "name": "stderr",
     "output_type": "stream",
     "text": [
      "\r",
      "Processing columns:  28%|██▊       | 1456/5273 [06:34<15:48,  4.02it/s]"
     ]
    },
    {
     "name": "stderr",
     "output_type": "stream",
     "text": [
      "\r",
      "Processing columns:  28%|██▊       | 1457/5273 [06:34<15:27,  4.12it/s]"
     ]
    },
    {
     "name": "stderr",
     "output_type": "stream",
     "text": [
      "\r",
      "Processing columns:  28%|██▊       | 1458/5273 [06:34<15:14,  4.17it/s]"
     ]
    },
    {
     "name": "stderr",
     "output_type": "stream",
     "text": [
      "\r",
      "Processing columns:  28%|██▊       | 1459/5273 [06:34<15:36,  4.07it/s]"
     ]
    },
    {
     "name": "stderr",
     "output_type": "stream",
     "text": [
      "\r",
      "Processing columns:  28%|██▊       | 1460/5273 [06:35<15:27,  4.11it/s]"
     ]
    },
    {
     "name": "stderr",
     "output_type": "stream",
     "text": [
      "\r",
      "Processing columns:  28%|██▊       | 1461/5273 [06:35<14:44,  4.31it/s]"
     ]
    },
    {
     "name": "stderr",
     "output_type": "stream",
     "text": [
      "\r",
      "Processing columns:  28%|██▊       | 1462/5273 [06:35<17:14,  3.68it/s]"
     ]
    },
    {
     "name": "stderr",
     "output_type": "stream",
     "text": [
      "\r",
      "Processing columns:  28%|██▊       | 1463/5273 [06:35<16:50,  3.77it/s]"
     ]
    },
    {
     "name": "stderr",
     "output_type": "stream",
     "text": [
      "\r",
      "Processing columns:  28%|██▊       | 1464/5273 [06:36<20:48,  3.05it/s]"
     ]
    },
    {
     "name": "stderr",
     "output_type": "stream",
     "text": [
      "\r",
      "Processing columns:  28%|██▊       | 1465/5273 [06:36<18:59,  3.34it/s]"
     ]
    },
    {
     "name": "stderr",
     "output_type": "stream",
     "text": [
      "\r",
      "Processing columns:  28%|██▊       | 1466/5273 [06:36<17:37,  3.60it/s]"
     ]
    },
    {
     "name": "stderr",
     "output_type": "stream",
     "text": [
      "\r",
      "Processing columns:  28%|██▊       | 1467/5273 [06:37<17:02,  3.72it/s]"
     ]
    },
    {
     "name": "stderr",
     "output_type": "stream",
     "text": [
      "\r",
      "Processing columns:  28%|██▊       | 1468/5273 [06:37<16:44,  3.79it/s]"
     ]
    },
    {
     "name": "stderr",
     "output_type": "stream",
     "text": [
      "\r",
      "Processing columns:  28%|██▊       | 1469/5273 [06:37<16:29,  3.85it/s]"
     ]
    },
    {
     "name": "stderr",
     "output_type": "stream",
     "text": [
      "\r",
      "Processing columns:  28%|██▊       | 1470/5273 [06:37<16:15,  3.90it/s]"
     ]
    },
    {
     "name": "stderr",
     "output_type": "stream",
     "text": [
      "\r",
      "Processing columns:  28%|██▊       | 1471/5273 [06:38<15:57,  3.97it/s]"
     ]
    },
    {
     "name": "stderr",
     "output_type": "stream",
     "text": [
      "\r",
      "Processing columns:  28%|██▊       | 1472/5273 [06:38<16:07,  3.93it/s]"
     ]
    },
    {
     "name": "stderr",
     "output_type": "stream",
     "text": [
      "\r",
      "Processing columns:  28%|██▊       | 1473/5273 [06:38<15:16,  4.15it/s]"
     ]
    },
    {
     "name": "stderr",
     "output_type": "stream",
     "text": [
      "\r",
      "Processing columns:  28%|██▊       | 1474/5273 [06:38<15:21,  4.12it/s]"
     ]
    },
    {
     "name": "stderr",
     "output_type": "stream",
     "text": [
      "\r",
      "Processing columns:  28%|██▊       | 1475/5273 [06:39<15:14,  4.15it/s]"
     ]
    },
    {
     "name": "stderr",
     "output_type": "stream",
     "text": [
      "\r",
      "Processing columns:  28%|██▊       | 1476/5273 [06:39<14:29,  4.37it/s]"
     ]
    },
    {
     "name": "stderr",
     "output_type": "stream",
     "text": [
      "\r",
      "Processing columns:  28%|██▊       | 1477/5273 [06:39<18:23,  3.44it/s]"
     ]
    },
    {
     "name": "stderr",
     "output_type": "stream",
     "text": [
      "\r",
      "Processing columns:  28%|██▊       | 1478/5273 [06:40<17:48,  3.55it/s]"
     ]
    },
    {
     "name": "stderr",
     "output_type": "stream",
     "text": [
      "\r",
      "Processing columns:  28%|██▊       | 1479/5273 [06:40<16:38,  3.80it/s]"
     ]
    },
    {
     "name": "stderr",
     "output_type": "stream",
     "text": [
      "\r",
      "Processing columns:  28%|██▊       | 1480/5273 [06:40<15:31,  4.07it/s]"
     ]
    },
    {
     "name": "stderr",
     "output_type": "stream",
     "text": [
      "\r",
      "Processing columns:  28%|██▊       | 1481/5273 [06:40<18:01,  3.51it/s]"
     ]
    },
    {
     "name": "stderr",
     "output_type": "stream",
     "text": [
      "\r",
      "Processing columns:  28%|██▊       | 1482/5273 [06:41<17:29,  3.61it/s]"
     ]
    },
    {
     "name": "stderr",
     "output_type": "stream",
     "text": [
      "\r",
      "Processing columns:  28%|██▊       | 1483/5273 [06:41<16:39,  3.79it/s]"
     ]
    },
    {
     "name": "stderr",
     "output_type": "stream",
     "text": [
      "\r",
      "Processing columns:  28%|██▊       | 1484/5273 [06:41<15:46,  4.00it/s]"
     ]
    },
    {
     "name": "stderr",
     "output_type": "stream",
     "text": [
      "\r",
      "Processing columns:  28%|██▊       | 1485/5273 [06:41<17:28,  3.61it/s]"
     ]
    },
    {
     "name": "stderr",
     "output_type": "stream",
     "text": [
      "\r",
      "Processing columns:  28%|██▊       | 1486/5273 [06:42<16:07,  3.91it/s]"
     ]
    },
    {
     "name": "stderr",
     "output_type": "stream",
     "text": [
      "\r",
      "Processing columns:  28%|██▊       | 1487/5273 [06:42<16:04,  3.93it/s]"
     ]
    },
    {
     "name": "stderr",
     "output_type": "stream",
     "text": [
      "\r",
      "Processing columns:  28%|██▊       | 1488/5273 [06:42<15:01,  4.20it/s]"
     ]
    },
    {
     "name": "stderr",
     "output_type": "stream",
     "text": [
      "\r",
      "Processing columns:  28%|██▊       | 1489/5273 [06:42<14:45,  4.27it/s]"
     ]
    },
    {
     "name": "stderr",
     "output_type": "stream",
     "text": [
      "\r",
      "Processing columns:  28%|██▊       | 1490/5273 [06:42<15:07,  4.17it/s]"
     ]
    },
    {
     "name": "stderr",
     "output_type": "stream",
     "text": [
      "\r",
      "Processing columns:  28%|██▊       | 1491/5273 [06:43<19:12,  3.28it/s]"
     ]
    },
    {
     "name": "stderr",
     "output_type": "stream",
     "text": [
      "\r",
      "Processing columns:  28%|██▊       | 1492/5273 [06:43<18:14,  3.46it/s]"
     ]
    },
    {
     "name": "stderr",
     "output_type": "stream",
     "text": [
      "\r",
      "Processing columns:  28%|██▊       | 1493/5273 [06:43<18:15,  3.45it/s]"
     ]
    },
    {
     "name": "stderr",
     "output_type": "stream",
     "text": [
      "\r",
      "Processing columns:  28%|██▊       | 1494/5273 [06:44<17:00,  3.70it/s]"
     ]
    },
    {
     "name": "stderr",
     "output_type": "stream",
     "text": [
      "\r",
      "Processing columns:  28%|██▊       | 1495/5273 [06:44<16:40,  3.78it/s]"
     ]
    },
    {
     "name": "stderr",
     "output_type": "stream",
     "text": [
      "\r",
      "Processing columns:  28%|██▊       | 1496/5273 [06:44<15:49,  3.98it/s]"
     ]
    },
    {
     "name": "stderr",
     "output_type": "stream",
     "text": [
      "\r",
      "Processing columns:  28%|██▊       | 1497/5273 [06:44<15:33,  4.05it/s]"
     ]
    },
    {
     "name": "stderr",
     "output_type": "stream",
     "text": [
      "\r",
      "Processing columns:  28%|██▊       | 1498/5273 [06:45<16:13,  3.88it/s]"
     ]
    },
    {
     "name": "stderr",
     "output_type": "stream",
     "text": [
      "\r",
      "Processing columns:  28%|██▊       | 1499/5273 [06:45<15:53,  3.96it/s]"
     ]
    },
    {
     "name": "stderr",
     "output_type": "stream",
     "text": [
      "\r",
      "Processing columns:  28%|██▊       | 1500/5273 [06:45<15:27,  4.07it/s]"
     ]
    },
    {
     "name": "stderr",
     "output_type": "stream",
     "text": [
      "\r",
      "Processing columns:  28%|██▊       | 1501/5273 [06:45<14:54,  4.22it/s]"
     ]
    },
    {
     "name": "stderr",
     "output_type": "stream",
     "text": [
      "\r",
      "Processing columns:  28%|██▊       | 1502/5273 [06:46<17:41,  3.55it/s]"
     ]
    },
    {
     "name": "stderr",
     "output_type": "stream",
     "text": [
      "\r",
      "Processing columns:  29%|██▊       | 1503/5273 [06:46<16:47,  3.74it/s]"
     ]
    },
    {
     "name": "stderr",
     "output_type": "stream",
     "text": [
      "\r",
      "Processing columns:  29%|██▊       | 1504/5273 [06:46<20:52,  3.01it/s]"
     ]
    },
    {
     "name": "stderr",
     "output_type": "stream",
     "text": [
      "\r",
      "Processing columns:  29%|██▊       | 1505/5273 [06:47<20:19,  3.09it/s]"
     ]
    },
    {
     "name": "stderr",
     "output_type": "stream",
     "text": [
      "\r",
      "Processing columns:  29%|██▊       | 1506/5273 [06:47<18:13,  3.45it/s]"
     ]
    },
    {
     "name": "stderr",
     "output_type": "stream",
     "text": [
      "\r",
      "Processing columns:  29%|██▊       | 1507/5273 [06:47<16:59,  3.70it/s]"
     ]
    },
    {
     "name": "stderr",
     "output_type": "stream",
     "text": [
      "\r",
      "Processing columns:  29%|██▊       | 1508/5273 [06:47<16:19,  3.84it/s]"
     ]
    },
    {
     "name": "stderr",
     "output_type": "stream",
     "text": [
      "\r",
      "Processing columns:  29%|██▊       | 1509/5273 [06:48<16:00,  3.92it/s]"
     ]
    },
    {
     "name": "stderr",
     "output_type": "stream",
     "text": [
      "\r",
      "Processing columns:  29%|██▊       | 1510/5273 [06:48<15:52,  3.95it/s]"
     ]
    },
    {
     "name": "stderr",
     "output_type": "stream",
     "text": [
      "\r",
      "Processing columns:  29%|██▊       | 1511/5273 [06:48<15:41,  4.00it/s]"
     ]
    },
    {
     "name": "stderr",
     "output_type": "stream",
     "text": [
      "\r",
      "Processing columns:  29%|██▊       | 1512/5273 [06:48<15:29,  4.05it/s]"
     ]
    },
    {
     "name": "stderr",
     "output_type": "stream",
     "text": [
      "\r",
      "Processing columns:  29%|██▊       | 1513/5273 [06:49<14:48,  4.23it/s]"
     ]
    },
    {
     "name": "stderr",
     "output_type": "stream",
     "text": [
      "\r",
      "Processing columns:  29%|██▊       | 1514/5273 [06:49<14:54,  4.20it/s]"
     ]
    },
    {
     "name": "stderr",
     "output_type": "stream",
     "text": [
      "\r",
      "Processing columns:  29%|██▊       | 1515/5273 [06:49<14:34,  4.30it/s]"
     ]
    },
    {
     "name": "stderr",
     "output_type": "stream",
     "text": [
      "\r",
      "Processing columns:  29%|██▉       | 1516/5273 [06:49<14:07,  4.43it/s]"
     ]
    },
    {
     "name": "stderr",
     "output_type": "stream",
     "text": [
      "\r",
      "Processing columns:  29%|██▉       | 1517/5273 [06:50<22:32,  2.78it/s]"
     ]
    },
    {
     "name": "stderr",
     "output_type": "stream",
     "text": [
      "\r",
      "Processing columns:  29%|██▉       | 1518/5273 [06:50<19:53,  3.15it/s]"
     ]
    },
    {
     "name": "stderr",
     "output_type": "stream",
     "text": [
      "\r",
      "Processing columns:  29%|██▉       | 1519/5273 [06:51<19:11,  3.26it/s]"
     ]
    },
    {
     "name": "stderr",
     "output_type": "stream",
     "text": [
      "\r",
      "Processing columns:  29%|██▉       | 1520/5273 [06:51<18:03,  3.46it/s]"
     ]
    },
    {
     "name": "stderr",
     "output_type": "stream",
     "text": [
      "\r",
      "Processing columns:  29%|██▉       | 1521/5273 [06:51<17:27,  3.58it/s]"
     ]
    },
    {
     "name": "stderr",
     "output_type": "stream",
     "text": [
      "\r",
      "Processing columns:  29%|██▉       | 1522/5273 [06:51<17:02,  3.67it/s]"
     ]
    },
    {
     "name": "stderr",
     "output_type": "stream",
     "text": [
      "\r",
      "Processing columns:  29%|██▉       | 1523/5273 [06:52<17:18,  3.61it/s]"
     ]
    },
    {
     "name": "stderr",
     "output_type": "stream",
     "text": [
      "\r",
      "Processing columns:  29%|██▉       | 1524/5273 [06:52<16:19,  3.83it/s]"
     ]
    },
    {
     "name": "stderr",
     "output_type": "stream",
     "text": [
      "\r",
      "Processing columns:  29%|██▉       | 1525/5273 [06:52<15:53,  3.93it/s]"
     ]
    },
    {
     "name": "stderr",
     "output_type": "stream",
     "text": [
      "\r",
      "Processing columns:  29%|██▉       | 1526/5273 [06:52<15:19,  4.07it/s]"
     ]
    },
    {
     "name": "stderr",
     "output_type": "stream",
     "text": [
      "\r",
      "Processing columns:  29%|██▉       | 1527/5273 [06:53<15:35,  4.00it/s]"
     ]
    },
    {
     "name": "stderr",
     "output_type": "stream",
     "text": [
      "\r",
      "Processing columns:  29%|██▉       | 1528/5273 [06:53<15:12,  4.10it/s]"
     ]
    },
    {
     "name": "stderr",
     "output_type": "stream",
     "text": [
      "\r",
      "Processing columns:  29%|██▉       | 1529/5273 [06:53<17:05,  3.65it/s]"
     ]
    },
    {
     "name": "stderr",
     "output_type": "stream",
     "text": [
      "\r",
      "Processing columns:  29%|██▉       | 1530/5273 [06:54<20:18,  3.07it/s]"
     ]
    },
    {
     "name": "stderr",
     "output_type": "stream",
     "text": [
      "\r",
      "Processing columns:  29%|██▉       | 1531/5273 [06:54<18:30,  3.37it/s]"
     ]
    },
    {
     "name": "stderr",
     "output_type": "stream",
     "text": [
      "\r",
      "Processing columns:  29%|██▉       | 1532/5273 [06:54<18:03,  3.45it/s]"
     ]
    },
    {
     "name": "stderr",
     "output_type": "stream",
     "text": [
      "\r",
      "Processing columns:  29%|██▉       | 1533/5273 [06:54<16:57,  3.67it/s]"
     ]
    },
    {
     "name": "stderr",
     "output_type": "stream",
     "text": [
      "\r",
      "Processing columns:  29%|██▉       | 1534/5273 [06:55<18:23,  3.39it/s]"
     ]
    },
    {
     "name": "stderr",
     "output_type": "stream",
     "text": [
      "\r",
      "Processing columns:  29%|██▉       | 1535/5273 [06:55<17:02,  3.66it/s]"
     ]
    },
    {
     "name": "stderr",
     "output_type": "stream",
     "text": [
      "\r",
      "Processing columns:  29%|██▉       | 1536/5273 [06:55<15:48,  3.94it/s]"
     ]
    },
    {
     "name": "stderr",
     "output_type": "stream",
     "text": [
      "\r",
      "Processing columns:  29%|██▉       | 1537/5273 [06:56<19:56,  3.12it/s]"
     ]
    },
    {
     "name": "stderr",
     "output_type": "stream",
     "text": [
      "\r",
      "Processing columns:  29%|██▉       | 1538/5273 [06:56<17:46,  3.50it/s]"
     ]
    },
    {
     "name": "stderr",
     "output_type": "stream",
     "text": [
      "\r",
      "Processing columns:  29%|██▉       | 1539/5273 [06:56<17:25,  3.57it/s]"
     ]
    },
    {
     "name": "stderr",
     "output_type": "stream",
     "text": [
      "\r",
      "Processing columns:  29%|██▉       | 1540/5273 [06:56<17:50,  3.49it/s]"
     ]
    },
    {
     "name": "stderr",
     "output_type": "stream",
     "text": [
      "\r",
      "Processing columns:  29%|██▉       | 1541/5273 [06:56<16:25,  3.79it/s]"
     ]
    },
    {
     "name": "stderr",
     "output_type": "stream",
     "text": [
      "\r",
      "Processing columns:  29%|██▉       | 1542/5273 [06:57<16:28,  3.77it/s]"
     ]
    },
    {
     "name": "stderr",
     "output_type": "stream",
     "text": [
      "\r",
      "Processing columns:  29%|██▉       | 1543/5273 [06:57<20:46,  2.99it/s]"
     ]
    },
    {
     "name": "stderr",
     "output_type": "stream",
     "text": [
      "\r",
      "Processing columns:  29%|██▉       | 1544/5273 [06:58<19:03,  3.26it/s]"
     ]
    },
    {
     "name": "stderr",
     "output_type": "stream",
     "text": [
      "\r",
      "Processing columns:  29%|██▉       | 1545/5273 [06:58<18:22,  3.38it/s]"
     ]
    },
    {
     "name": "stderr",
     "output_type": "stream",
     "text": [
      "\r",
      "Processing columns:  29%|██▉       | 1546/5273 [06:58<16:38,  3.73it/s]"
     ]
    },
    {
     "name": "stderr",
     "output_type": "stream",
     "text": [
      "\r",
      "Processing columns:  29%|██▉       | 1547/5273 [06:58<15:30,  4.00it/s]"
     ]
    },
    {
     "name": "stderr",
     "output_type": "stream",
     "text": [
      "\r",
      "Processing columns:  29%|██▉       | 1548/5273 [06:58<16:43,  3.71it/s]"
     ]
    },
    {
     "name": "stderr",
     "output_type": "stream",
     "text": [
      "\r",
      "Processing columns:  29%|██▉       | 1549/5273 [06:59<16:12,  3.83it/s]"
     ]
    },
    {
     "name": "stderr",
     "output_type": "stream",
     "text": [
      "\r",
      "Processing columns:  29%|██▉       | 1550/5273 [06:59<15:51,  3.91it/s]"
     ]
    },
    {
     "name": "stderr",
     "output_type": "stream",
     "text": [
      "\r",
      "Processing columns:  29%|██▉       | 1551/5273 [06:59<15:32,  3.99it/s]"
     ]
    },
    {
     "name": "stderr",
     "output_type": "stream",
     "text": [
      "\r",
      "Processing columns:  29%|██▉       | 1552/5273 [07:00<16:21,  3.79it/s]"
     ]
    },
    {
     "name": "stderr",
     "output_type": "stream",
     "text": [
      "\r",
      "Processing columns:  29%|██▉       | 1553/5273 [07:00<15:36,  3.97it/s]"
     ]
    },
    {
     "name": "stderr",
     "output_type": "stream",
     "text": [
      "\r",
      "Processing columns:  29%|██▉       | 1554/5273 [07:00<15:40,  3.95it/s]"
     ]
    },
    {
     "name": "stderr",
     "output_type": "stream",
     "text": [
      "\r",
      "Processing columns:  29%|██▉       | 1555/5273 [07:00<16:01,  3.87it/s]"
     ]
    },
    {
     "name": "stderr",
     "output_type": "stream",
     "text": [
      "\r",
      "Processing columns:  30%|██▉       | 1556/5273 [07:01<19:17,  3.21it/s]"
     ]
    },
    {
     "name": "stderr",
     "output_type": "stream",
     "text": [
      "\r",
      "Processing columns:  30%|██▉       | 1557/5273 [07:01<17:34,  3.52it/s]"
     ]
    },
    {
     "name": "stderr",
     "output_type": "stream",
     "text": [
      "\r",
      "Processing columns:  30%|██▉       | 1558/5273 [07:01<16:45,  3.69it/s]"
     ]
    },
    {
     "name": "stderr",
     "output_type": "stream",
     "text": [
      "\r",
      "Processing columns:  30%|██▉       | 1559/5273 [07:01<15:54,  3.89it/s]"
     ]
    },
    {
     "name": "stderr",
     "output_type": "stream",
     "text": [
      "\r",
      "Processing columns:  30%|██▉       | 1560/5273 [07:02<15:26,  4.01it/s]"
     ]
    },
    {
     "name": "stderr",
     "output_type": "stream",
     "text": [
      "\r",
      "Processing columns:  30%|██▉       | 1561/5273 [07:02<15:41,  3.94it/s]"
     ]
    },
    {
     "name": "stderr",
     "output_type": "stream",
     "text": [
      "\r",
      "Processing columns:  30%|██▉       | 1562/5273 [07:02<15:37,  3.96it/s]"
     ]
    },
    {
     "name": "stderr",
     "output_type": "stream",
     "text": [
      "\r",
      "Processing columns:  30%|██▉       | 1563/5273 [07:02<16:11,  3.82it/s]"
     ]
    },
    {
     "name": "stderr",
     "output_type": "stream",
     "text": [
      "\r",
      "Processing columns:  30%|██▉       | 1564/5273 [07:03<16:11,  3.82it/s]"
     ]
    },
    {
     "name": "stderr",
     "output_type": "stream",
     "text": [
      "\r",
      "Processing columns:  30%|██▉       | 1565/5273 [07:03<16:25,  3.76it/s]"
     ]
    },
    {
     "name": "stderr",
     "output_type": "stream",
     "text": [
      "\r",
      "Processing columns:  30%|██▉       | 1566/5273 [07:03<15:12,  4.06it/s]"
     ]
    },
    {
     "name": "stderr",
     "output_type": "stream",
     "text": [
      "\r",
      "Processing columns:  30%|██▉       | 1567/5273 [07:03<15:48,  3.91it/s]"
     ]
    },
    {
     "name": "stderr",
     "output_type": "stream",
     "text": [
      "\r",
      "Processing columns:  30%|██▉       | 1568/5273 [07:04<14:54,  4.14it/s]"
     ]
    },
    {
     "name": "stderr",
     "output_type": "stream",
     "text": [
      "\r",
      "Processing columns:  30%|██▉       | 1569/5273 [07:04<18:03,  3.42it/s]"
     ]
    },
    {
     "name": "stderr",
     "output_type": "stream",
     "text": [
      "\r",
      "Processing columns:  30%|██▉       | 1570/5273 [07:04<16:52,  3.66it/s]"
     ]
    },
    {
     "name": "stderr",
     "output_type": "stream",
     "text": [
      "\r",
      "Processing columns:  30%|██▉       | 1571/5273 [07:05<16:14,  3.80it/s]"
     ]
    },
    {
     "name": "stderr",
     "output_type": "stream",
     "text": [
      "\r",
      "Processing columns:  30%|██▉       | 1572/5273 [07:05<16:12,  3.81it/s]"
     ]
    },
    {
     "name": "stderr",
     "output_type": "stream",
     "text": [
      "\r",
      "Processing columns:  30%|██▉       | 1573/5273 [07:05<17:27,  3.53it/s]"
     ]
    },
    {
     "name": "stderr",
     "output_type": "stream",
     "text": [
      "\r",
      "Processing columns:  30%|██▉       | 1574/5273 [07:05<16:01,  3.85it/s]"
     ]
    },
    {
     "name": "stderr",
     "output_type": "stream",
     "text": [
      "\r",
      "Processing columns:  30%|██▉       | 1575/5273 [07:06<15:43,  3.92it/s]"
     ]
    },
    {
     "name": "stderr",
     "output_type": "stream",
     "text": [
      "\r",
      "Processing columns:  30%|██▉       | 1576/5273 [07:06<15:33,  3.96it/s]"
     ]
    },
    {
     "name": "stderr",
     "output_type": "stream",
     "text": [
      "\r",
      "Processing columns:  30%|██▉       | 1577/5273 [07:06<14:48,  4.16it/s]"
     ]
    },
    {
     "name": "stderr",
     "output_type": "stream",
     "text": [
      "\r",
      "Processing columns:  30%|██▉       | 1578/5273 [07:06<15:44,  3.91it/s]"
     ]
    },
    {
     "name": "stderr",
     "output_type": "stream",
     "text": [
      "\r",
      "Processing columns:  30%|██▉       | 1579/5273 [07:07<16:06,  3.82it/s]"
     ]
    },
    {
     "name": "stderr",
     "output_type": "stream",
     "text": [
      "\r",
      "Processing columns:  30%|██▉       | 1580/5273 [07:07<15:03,  4.09it/s]"
     ]
    },
    {
     "name": "stderr",
     "output_type": "stream",
     "text": [
      "\r",
      "Processing columns:  30%|██▉       | 1581/5273 [07:07<18:10,  3.39it/s]"
     ]
    },
    {
     "name": "stderr",
     "output_type": "stream",
     "text": [
      "\r",
      "Processing columns:  30%|███       | 1582/5273 [07:08<22:13,  2.77it/s]"
     ]
    },
    {
     "name": "stderr",
     "output_type": "stream",
     "text": [
      "\r",
      "Processing columns:  30%|███       | 1583/5273 [07:08<21:08,  2.91it/s]"
     ]
    },
    {
     "name": "stderr",
     "output_type": "stream",
     "text": [
      "\r",
      "Processing columns:  30%|███       | 1584/5273 [07:08<19:13,  3.20it/s]"
     ]
    },
    {
     "name": "stderr",
     "output_type": "stream",
     "text": [
      "\r",
      "Processing columns:  30%|███       | 1585/5273 [07:09<18:22,  3.35it/s]"
     ]
    },
    {
     "name": "stderr",
     "output_type": "stream",
     "text": [
      "\r",
      "Processing columns:  30%|███       | 1586/5273 [07:09<16:37,  3.70it/s]"
     ]
    },
    {
     "name": "stderr",
     "output_type": "stream",
     "text": [
      "\r",
      "Processing columns:  30%|███       | 1587/5273 [07:09<15:18,  4.01it/s]"
     ]
    },
    {
     "name": "stderr",
     "output_type": "stream",
     "text": [
      "\r",
      "Processing columns:  30%|███       | 1588/5273 [07:09<14:27,  4.25it/s]"
     ]
    },
    {
     "name": "stderr",
     "output_type": "stream",
     "text": [
      "\r",
      "Processing columns:  30%|███       | 1589/5273 [07:10<17:51,  3.44it/s]"
     ]
    },
    {
     "name": "stderr",
     "output_type": "stream",
     "text": [
      "\r",
      "Processing columns:  30%|███       | 1590/5273 [07:10<16:18,  3.76it/s]"
     ]
    },
    {
     "name": "stderr",
     "output_type": "stream",
     "text": [
      "\r",
      "Processing columns:  30%|███       | 1591/5273 [07:10<15:42,  3.91it/s]"
     ]
    },
    {
     "name": "stderr",
     "output_type": "stream",
     "text": [
      "\r",
      "Processing columns:  30%|███       | 1592/5273 [07:10<17:19,  3.54it/s]"
     ]
    },
    {
     "name": "stderr",
     "output_type": "stream",
     "text": [
      "\r",
      "Processing columns:  30%|███       | 1593/5273 [07:11<16:37,  3.69it/s]"
     ]
    },
    {
     "name": "stderr",
     "output_type": "stream",
     "text": [
      "\r",
      "Processing columns:  30%|███       | 1594/5273 [07:11<15:53,  3.86it/s]"
     ]
    },
    {
     "name": "stderr",
     "output_type": "stream",
     "text": [
      "\r",
      "Processing columns:  30%|███       | 1595/5273 [07:11<19:25,  3.16it/s]"
     ]
    },
    {
     "name": "stderr",
     "output_type": "stream",
     "text": [
      "\r",
      "Processing columns:  30%|███       | 1596/5273 [07:11<17:43,  3.46it/s]"
     ]
    },
    {
     "name": "stderr",
     "output_type": "stream",
     "text": [
      "\r",
      "Processing columns:  30%|███       | 1597/5273 [07:12<16:29,  3.72it/s]"
     ]
    },
    {
     "name": "stderr",
     "output_type": "stream",
     "text": [
      "\r",
      "Processing columns:  30%|███       | 1598/5273 [07:12<16:00,  3.83it/s]"
     ]
    },
    {
     "name": "stderr",
     "output_type": "stream",
     "text": [
      "\r",
      "Processing columns:  30%|███       | 1599/5273 [07:12<15:28,  3.96it/s]"
     ]
    },
    {
     "name": "stderr",
     "output_type": "stream",
     "text": [
      "\r",
      "Processing columns:  30%|███       | 1600/5273 [07:12<15:17,  4.00it/s]"
     ]
    },
    {
     "name": "stderr",
     "output_type": "stream",
     "text": [
      "\r",
      "Processing columns:  30%|███       | 1601/5273 [07:13<15:23,  3.98it/s]"
     ]
    },
    {
     "name": "stderr",
     "output_type": "stream",
     "text": [
      "\r",
      "Processing columns:  30%|███       | 1602/5273 [07:13<15:06,  4.05it/s]"
     ]
    },
    {
     "name": "stderr",
     "output_type": "stream",
     "text": [
      "\r",
      "Processing columns:  30%|███       | 1603/5273 [07:13<15:56,  3.84it/s]"
     ]
    },
    {
     "name": "stderr",
     "output_type": "stream",
     "text": [
      "\r",
      "Processing columns:  30%|███       | 1604/5273 [07:13<14:56,  4.09it/s]"
     ]
    },
    {
     "name": "stderr",
     "output_type": "stream",
     "text": [
      "\r",
      "Processing columns:  30%|███       | 1605/5273 [07:14<15:51,  3.86it/s]"
     ]
    },
    {
     "name": "stderr",
     "output_type": "stream",
     "text": [
      "\r",
      "Processing columns:  30%|███       | 1606/5273 [07:14<15:30,  3.94it/s]"
     ]
    },
    {
     "name": "stderr",
     "output_type": "stream",
     "text": [
      "\r",
      "Processing columns:  30%|███       | 1607/5273 [07:14<15:18,  3.99it/s]"
     ]
    },
    {
     "name": "stderr",
     "output_type": "stream",
     "text": [
      "\r",
      "Processing columns:  30%|███       | 1608/5273 [07:14<14:29,  4.22it/s]"
     ]
    },
    {
     "name": "stderr",
     "output_type": "stream",
     "text": [
      "\r",
      "Processing columns:  31%|███       | 1609/5273 [07:15<18:34,  3.29it/s]"
     ]
    },
    {
     "name": "stderr",
     "output_type": "stream",
     "text": [
      "\r",
      "Processing columns:  31%|███       | 1610/5273 [07:15<18:11,  3.36it/s]"
     ]
    },
    {
     "name": "stderr",
     "output_type": "stream",
     "text": [
      "\r",
      "Processing columns:  31%|███       | 1611/5273 [07:15<16:58,  3.60it/s]"
     ]
    },
    {
     "name": "stderr",
     "output_type": "stream",
     "text": [
      "\r",
      "Processing columns:  31%|███       | 1612/5273 [07:16<16:17,  3.74it/s]"
     ]
    },
    {
     "name": "stderr",
     "output_type": "stream",
     "text": [
      "\r",
      "Processing columns:  31%|███       | 1613/5273 [07:16<16:19,  3.74it/s]"
     ]
    },
    {
     "name": "stderr",
     "output_type": "stream",
     "text": [
      "\r",
      "Processing columns:  31%|███       | 1614/5273 [07:16<16:12,  3.76it/s]"
     ]
    },
    {
     "name": "stderr",
     "output_type": "stream",
     "text": [
      "\r",
      "Processing columns:  31%|███       | 1615/5273 [07:16<16:19,  3.74it/s]"
     ]
    },
    {
     "name": "stderr",
     "output_type": "stream",
     "text": [
      "\r",
      "Processing columns:  31%|███       | 1616/5273 [07:17<15:34,  3.91it/s]"
     ]
    },
    {
     "name": "stderr",
     "output_type": "stream",
     "text": [
      "\r",
      "Processing columns:  31%|███       | 1617/5273 [07:17<14:38,  4.16it/s]"
     ]
    },
    {
     "name": "stderr",
     "output_type": "stream",
     "text": [
      "\r",
      "Processing columns:  31%|███       | 1618/5273 [07:17<17:06,  3.56it/s]"
     ]
    },
    {
     "name": "stderr",
     "output_type": "stream",
     "text": [
      "\r",
      "Processing columns:  31%|███       | 1619/5273 [07:18<17:29,  3.48it/s]"
     ]
    },
    {
     "name": "stderr",
     "output_type": "stream",
     "text": [
      "\r",
      "Processing columns:  31%|███       | 1620/5273 [07:18<16:08,  3.77it/s]"
     ]
    },
    {
     "name": "stderr",
     "output_type": "stream",
     "text": [
      "\r",
      "Processing columns:  31%|███       | 1621/5273 [07:18<17:11,  3.54it/s]"
     ]
    },
    {
     "name": "stderr",
     "output_type": "stream",
     "text": [
      "\r",
      "Processing columns:  31%|███       | 1622/5273 [07:19<20:11,  3.01it/s]"
     ]
    },
    {
     "name": "stderr",
     "output_type": "stream",
     "text": [
      "\r",
      "Processing columns:  31%|███       | 1623/5273 [07:19<19:20,  3.14it/s]"
     ]
    },
    {
     "name": "stderr",
     "output_type": "stream",
     "text": [
      "\r",
      "Processing columns:  31%|███       | 1624/5273 [07:19<18:15,  3.33it/s]"
     ]
    },
    {
     "name": "stderr",
     "output_type": "stream",
     "text": [
      "\r",
      "Processing columns:  31%|███       | 1625/5273 [07:19<17:29,  3.47it/s]"
     ]
    },
    {
     "name": "stderr",
     "output_type": "stream",
     "text": [
      "\r",
      "Processing columns:  31%|███       | 1626/5273 [07:20<16:31,  3.68it/s]"
     ]
    },
    {
     "name": "stderr",
     "output_type": "stream",
     "text": [
      "\r",
      "Processing columns:  31%|███       | 1627/5273 [07:20<15:38,  3.88it/s]"
     ]
    },
    {
     "name": "stderr",
     "output_type": "stream",
     "text": [
      "\r",
      "Processing columns:  31%|███       | 1628/5273 [07:20<14:58,  4.06it/s]"
     ]
    },
    {
     "name": "stderr",
     "output_type": "stream",
     "text": [
      "\r",
      "Processing columns:  31%|███       | 1629/5273 [07:20<14:33,  4.17it/s]"
     ]
    },
    {
     "name": "stderr",
     "output_type": "stream",
     "text": [
      "\r",
      "Processing columns:  31%|███       | 1630/5273 [07:20<14:27,  4.20it/s]"
     ]
    },
    {
     "name": "stderr",
     "output_type": "stream",
     "text": [
      "\r",
      "Processing columns:  31%|███       | 1631/5273 [07:21<14:46,  4.11it/s]"
     ]
    },
    {
     "name": "stderr",
     "output_type": "stream",
     "text": [
      "\r",
      "Processing columns:  31%|███       | 1632/5273 [07:21<14:50,  4.09it/s]"
     ]
    },
    {
     "name": "stderr",
     "output_type": "stream",
     "text": [
      "\r",
      "Processing columns:  31%|███       | 1633/5273 [07:21<15:15,  3.98it/s]"
     ]
    },
    {
     "name": "stderr",
     "output_type": "stream",
     "text": [
      "\r",
      "Processing columns:  31%|███       | 1634/5273 [07:22<15:35,  3.89it/s]"
     ]
    },
    {
     "name": "stderr",
     "output_type": "stream",
     "text": [
      "\r",
      "Processing columns:  31%|███       | 1635/5273 [07:22<19:06,  3.17it/s]"
     ]
    },
    {
     "name": "stderr",
     "output_type": "stream",
     "text": [
      "\r",
      "Processing columns:  31%|███       | 1636/5273 [07:22<18:34,  3.26it/s]"
     ]
    },
    {
     "name": "stderr",
     "output_type": "stream",
     "text": [
      "\r",
      "Processing columns:  31%|███       | 1637/5273 [07:23<18:03,  3.35it/s]"
     ]
    },
    {
     "name": "stderr",
     "output_type": "stream",
     "text": [
      "\r",
      "Processing columns:  31%|███       | 1638/5273 [07:23<17:36,  3.44it/s]"
     ]
    },
    {
     "name": "stderr",
     "output_type": "stream",
     "text": [
      "\r",
      "Processing columns:  31%|███       | 1639/5273 [07:23<16:33,  3.66it/s]"
     ]
    },
    {
     "name": "stderr",
     "output_type": "stream",
     "text": [
      "\r",
      "Processing columns:  31%|███       | 1640/5273 [07:23<15:38,  3.87it/s]"
     ]
    },
    {
     "name": "stderr",
     "output_type": "stream",
     "text": [
      "\r",
      "Processing columns:  31%|███       | 1641/5273 [07:24<15:48,  3.83it/s]"
     ]
    },
    {
     "name": "stderr",
     "output_type": "stream",
     "text": [
      "\r",
      "Processing columns:  31%|███       | 1642/5273 [07:24<14:58,  4.04it/s]"
     ]
    },
    {
     "name": "stderr",
     "output_type": "stream",
     "text": [
      "\r",
      "Processing columns:  31%|███       | 1643/5273 [07:24<16:19,  3.71it/s]"
     ]
    },
    {
     "name": "stderr",
     "output_type": "stream",
     "text": [
      "\r",
      "Processing columns:  31%|███       | 1644/5273 [07:24<16:06,  3.76it/s]"
     ]
    },
    {
     "name": "stderr",
     "output_type": "stream",
     "text": [
      "\r",
      "Processing columns:  31%|███       | 1645/5273 [07:25<17:56,  3.37it/s]"
     ]
    },
    {
     "name": "stderr",
     "output_type": "stream",
     "text": [
      "\r",
      "Processing columns:  31%|███       | 1646/5273 [07:25<16:45,  3.61it/s]"
     ]
    },
    {
     "name": "stderr",
     "output_type": "stream",
     "text": [
      "\r",
      "Processing columns:  31%|███       | 1647/5273 [07:25<15:14,  3.96it/s]"
     ]
    },
    {
     "name": "stderr",
     "output_type": "stream",
     "text": [
      "\r",
      "Processing columns:  31%|███▏      | 1648/5273 [07:26<19:14,  3.14it/s]"
     ]
    },
    {
     "name": "stderr",
     "output_type": "stream",
     "text": [
      "\r",
      "Processing columns:  31%|███▏      | 1649/5273 [07:26<18:19,  3.30it/s]"
     ]
    },
    {
     "name": "stderr",
     "output_type": "stream",
     "text": [
      "\r",
      "Processing columns:  31%|███▏      | 1650/5273 [07:26<17:17,  3.49it/s]"
     ]
    },
    {
     "name": "stderr",
     "output_type": "stream",
     "text": [
      "\r",
      "Processing columns:  31%|███▏      | 1651/5273 [07:26<16:23,  3.68it/s]"
     ]
    },
    {
     "name": "stderr",
     "output_type": "stream",
     "text": [
      "\r",
      "Processing columns:  31%|███▏      | 1652/5273 [07:27<16:24,  3.68it/s]"
     ]
    },
    {
     "name": "stderr",
     "output_type": "stream",
     "text": [
      "\r",
      "Processing columns:  31%|███▏      | 1653/5273 [07:27<16:01,  3.76it/s]"
     ]
    },
    {
     "name": "stderr",
     "output_type": "stream",
     "text": [
      "\r",
      "Processing columns:  31%|███▏      | 1654/5273 [07:27<15:41,  3.84it/s]"
     ]
    },
    {
     "name": "stderr",
     "output_type": "stream",
     "text": [
      "\r",
      "Processing columns:  31%|███▏      | 1655/5273 [07:27<15:26,  3.91it/s]"
     ]
    },
    {
     "name": "stderr",
     "output_type": "stream",
     "text": [
      "\r",
      "Processing columns:  31%|███▏      | 1656/5273 [07:28<15:06,  3.99it/s]"
     ]
    },
    {
     "name": "stderr",
     "output_type": "stream",
     "text": [
      "\r",
      "Processing columns:  31%|███▏      | 1657/5273 [07:28<14:27,  4.17it/s]"
     ]
    },
    {
     "name": "stderr",
     "output_type": "stream",
     "text": [
      "\r",
      "Processing columns:  31%|███▏      | 1658/5273 [07:28<14:08,  4.26it/s]"
     ]
    },
    {
     "name": "stderr",
     "output_type": "stream",
     "text": [
      "\r",
      "Processing columns:  31%|███▏      | 1659/5273 [07:28<14:57,  4.03it/s]"
     ]
    },
    {
     "name": "stderr",
     "output_type": "stream",
     "text": [
      "\r",
      "Processing columns:  31%|███▏      | 1660/5273 [07:29<14:32,  4.14it/s]"
     ]
    },
    {
     "name": "stderr",
     "output_type": "stream",
     "text": [
      "\r",
      "Processing columns:  32%|███▏      | 1661/5273 [07:29<19:34,  3.07it/s]"
     ]
    },
    {
     "name": "stderr",
     "output_type": "stream",
     "text": [
      "\r",
      "Processing columns:  32%|███▏      | 1662/5273 [07:29<19:05,  3.15it/s]"
     ]
    },
    {
     "name": "stderr",
     "output_type": "stream",
     "text": [
      "\r",
      "Processing columns:  32%|███▏      | 1663/5273 [07:30<18:38,  3.23it/s]"
     ]
    },
    {
     "name": "stderr",
     "output_type": "stream",
     "text": [
      "\r",
      "Processing columns:  32%|███▏      | 1664/5273 [07:30<17:55,  3.35it/s]"
     ]
    },
    {
     "name": "stderr",
     "output_type": "stream",
     "text": [
      "\r",
      "Processing columns:  32%|███▏      | 1665/5273 [07:30<16:29,  3.65it/s]"
     ]
    },
    {
     "name": "stderr",
     "output_type": "stream",
     "text": [
      "\r",
      "Processing columns:  32%|███▏      | 1666/5273 [07:30<16:37,  3.62it/s]"
     ]
    },
    {
     "name": "stderr",
     "output_type": "stream",
     "text": [
      "\r",
      "Processing columns:  32%|███▏      | 1667/5273 [07:31<15:13,  3.95it/s]"
     ]
    },
    {
     "name": "stderr",
     "output_type": "stream",
     "text": [
      "\r",
      "Processing columns:  32%|███▏      | 1668/5273 [07:31<16:13,  3.70it/s]"
     ]
    },
    {
     "name": "stderr",
     "output_type": "stream",
     "text": [
      "\r",
      "Processing columns:  32%|███▏      | 1669/5273 [07:31<15:33,  3.86it/s]"
     ]
    },
    {
     "name": "stderr",
     "output_type": "stream",
     "text": [
      "\r",
      "Processing columns:  32%|███▏      | 1670/5273 [07:31<15:02,  3.99it/s]"
     ]
    },
    {
     "name": "stderr",
     "output_type": "stream",
     "text": [
      "\r",
      "Processing columns:  32%|███▏      | 1671/5273 [07:32<15:04,  3.98it/s]"
     ]
    },
    {
     "name": "stderr",
     "output_type": "stream",
     "text": [
      "\r",
      "Processing columns:  32%|███▏      | 1672/5273 [07:32<15:11,  3.95it/s]"
     ]
    },
    {
     "name": "stderr",
     "output_type": "stream",
     "text": [
      "\r",
      "Processing columns:  32%|███▏      | 1673/5273 [07:32<14:53,  4.03it/s]"
     ]
    },
    {
     "name": "stderr",
     "output_type": "stream",
     "text": [
      "\r",
      "Processing columns:  32%|███▏      | 1674/5273 [07:32<14:25,  4.16it/s]"
     ]
    },
    {
     "name": "stderr",
     "output_type": "stream",
     "text": [
      "\r",
      "Processing columns:  32%|███▏      | 1675/5273 [07:33<18:07,  3.31it/s]"
     ]
    },
    {
     "name": "stderr",
     "output_type": "stream",
     "text": [
      "\r",
      "Processing columns:  32%|███▏      | 1676/5273 [07:33<17:03,  3.51it/s]"
     ]
    },
    {
     "name": "stderr",
     "output_type": "stream",
     "text": [
      "\r",
      "Processing columns:  32%|███▏      | 1677/5273 [07:33<16:25,  3.65it/s]"
     ]
    },
    {
     "name": "stderr",
     "output_type": "stream",
     "text": [
      "\r",
      "Processing columns:  32%|███▏      | 1678/5273 [07:34<15:54,  3.77it/s]"
     ]
    },
    {
     "name": "stderr",
     "output_type": "stream",
     "text": [
      "\r",
      "Processing columns:  32%|███▏      | 1679/5273 [07:34<15:14,  3.93it/s]"
     ]
    },
    {
     "name": "stderr",
     "output_type": "stream",
     "text": [
      "\r",
      "Processing columns:  32%|███▏      | 1680/5273 [07:34<15:02,  3.98it/s]"
     ]
    },
    {
     "name": "stderr",
     "output_type": "stream",
     "text": [
      "\r",
      "Processing columns:  32%|███▏      | 1681/5273 [07:34<14:39,  4.08it/s]"
     ]
    },
    {
     "name": "stderr",
     "output_type": "stream",
     "text": [
      "\r",
      "Processing columns:  32%|███▏      | 1682/5273 [07:34<14:04,  4.25it/s]"
     ]
    },
    {
     "name": "stderr",
     "output_type": "stream",
     "text": [
      "\r",
      "Processing columns:  32%|███▏      | 1683/5273 [07:35<16:07,  3.71it/s]"
     ]
    },
    {
     "name": "stderr",
     "output_type": "stream",
     "text": [
      "\r",
      "Processing columns:  32%|███▏      | 1684/5273 [07:35<15:29,  3.86it/s]"
     ]
    },
    {
     "name": "stderr",
     "output_type": "stream",
     "text": [
      "\r",
      "Processing columns:  32%|███▏      | 1685/5273 [07:35<15:03,  3.97it/s]"
     ]
    },
    {
     "name": "stderr",
     "output_type": "stream",
     "text": [
      "\r",
      "Processing columns:  32%|███▏      | 1686/5273 [07:36<15:14,  3.92it/s]"
     ]
    },
    {
     "name": "stderr",
     "output_type": "stream",
     "text": [
      "\r",
      "Processing columns:  32%|███▏      | 1687/5273 [07:36<14:20,  4.17it/s]"
     ]
    },
    {
     "name": "stderr",
     "output_type": "stream",
     "text": [
      "\r",
      "Processing columns:  32%|███▏      | 1688/5273 [07:36<18:10,  3.29it/s]"
     ]
    },
    {
     "name": "stderr",
     "output_type": "stream",
     "text": [
      "\r",
      "Processing columns:  32%|███▏      | 1689/5273 [07:36<17:00,  3.51it/s]"
     ]
    },
    {
     "name": "stderr",
     "output_type": "stream",
     "text": [
      "\r",
      "Processing columns:  32%|███▏      | 1690/5273 [07:37<16:46,  3.56it/s]"
     ]
    },
    {
     "name": "stderr",
     "output_type": "stream",
     "text": [
      "\r",
      "Processing columns:  32%|███▏      | 1691/5273 [07:37<15:39,  3.81it/s]"
     ]
    },
    {
     "name": "stderr",
     "output_type": "stream",
     "text": [
      "\r",
      "Processing columns:  32%|███▏      | 1692/5273 [07:37<15:39,  3.81it/s]"
     ]
    },
    {
     "name": "stderr",
     "output_type": "stream",
     "text": [
      "\r",
      "Processing columns:  32%|███▏      | 1693/5273 [07:37<15:17,  3.90it/s]"
     ]
    },
    {
     "name": "stderr",
     "output_type": "stream",
     "text": [
      "\r",
      "Processing columns:  32%|███▏      | 1694/5273 [07:38<14:56,  3.99it/s]"
     ]
    },
    {
     "name": "stderr",
     "output_type": "stream",
     "text": [
      "\r",
      "Processing columns:  32%|███▏      | 1695/5273 [07:38<14:58,  3.98it/s]"
     ]
    },
    {
     "name": "stderr",
     "output_type": "stream",
     "text": [
      "\r",
      "Processing columns:  32%|███▏      | 1696/5273 [07:38<15:47,  3.78it/s]"
     ]
    },
    {
     "name": "stderr",
     "output_type": "stream",
     "text": [
      "\r",
      "Processing columns:  32%|███▏      | 1697/5273 [07:39<16:14,  3.67it/s]"
     ]
    },
    {
     "name": "stderr",
     "output_type": "stream",
     "text": [
      "\r",
      "Processing columns:  32%|███▏      | 1698/5273 [07:39<15:20,  3.89it/s]"
     ]
    },
    {
     "name": "stderr",
     "output_type": "stream",
     "text": [
      "\r",
      "Processing columns:  32%|███▏      | 1699/5273 [07:39<15:25,  3.86it/s]"
     ]
    },
    {
     "name": "stderr",
     "output_type": "stream",
     "text": [
      "\r",
      "Processing columns:  32%|███▏      | 1700/5273 [07:39<16:39,  3.57it/s]"
     ]
    },
    {
     "name": "stderr",
     "output_type": "stream",
     "text": [
      "\r",
      "Processing columns:  32%|███▏      | 1701/5273 [07:40<21:39,  2.75it/s]"
     ]
    },
    {
     "name": "stderr",
     "output_type": "stream",
     "text": [
      "\r",
      "Processing columns:  32%|███▏      | 1702/5273 [07:40<19:24,  3.07it/s]"
     ]
    },
    {
     "name": "stderr",
     "output_type": "stream",
     "text": [
      "\r",
      "Processing columns:  32%|███▏      | 1703/5273 [07:40<18:07,  3.28it/s]"
     ]
    },
    {
     "name": "stderr",
     "output_type": "stream",
     "text": [
      "\r",
      "Processing columns:  32%|███▏      | 1704/5273 [07:41<16:48,  3.54it/s]"
     ]
    },
    {
     "name": "stderr",
     "output_type": "stream",
     "text": [
      "\r",
      "Processing columns:  32%|███▏      | 1705/5273 [07:41<16:00,  3.71it/s]"
     ]
    },
    {
     "name": "stderr",
     "output_type": "stream",
     "text": [
      "\r",
      "Processing columns:  32%|███▏      | 1706/5273 [07:41<16:38,  3.57it/s]"
     ]
    },
    {
     "name": "stderr",
     "output_type": "stream",
     "text": [
      "\r",
      "Processing columns:  32%|███▏      | 1707/5273 [07:41<16:05,  3.69it/s]"
     ]
    },
    {
     "name": "stderr",
     "output_type": "stream",
     "text": [
      "\r",
      "Processing columns:  32%|███▏      | 1708/5273 [07:42<15:13,  3.90it/s]"
     ]
    },
    {
     "name": "stderr",
     "output_type": "stream",
     "text": [
      "\r",
      "Processing columns:  32%|███▏      | 1709/5273 [07:42<16:46,  3.54it/s]"
     ]
    },
    {
     "name": "stderr",
     "output_type": "stream",
     "text": [
      "\r",
      "Processing columns:  32%|███▏      | 1710/5273 [07:42<15:33,  3.82it/s]"
     ]
    },
    {
     "name": "stderr",
     "output_type": "stream",
     "text": [
      "\r",
      "Processing columns:  32%|███▏      | 1711/5273 [07:42<14:46,  4.02it/s]"
     ]
    },
    {
     "name": "stderr",
     "output_type": "stream",
     "text": [
      "\r",
      "Processing columns:  32%|███▏      | 1712/5273 [07:43<17:39,  3.36it/s]"
     ]
    },
    {
     "name": "stderr",
     "output_type": "stream",
     "text": [
      "\r",
      "Processing columns:  32%|███▏      | 1713/5273 [07:43<16:16,  3.65it/s]"
     ]
    },
    {
     "name": "stderr",
     "output_type": "stream",
     "text": [
      "\r",
      "Processing columns:  33%|███▎      | 1714/5273 [07:44<21:47,  2.72it/s]"
     ]
    },
    {
     "name": "stderr",
     "output_type": "stream",
     "text": [
      "\r",
      "Processing columns:  33%|███▎      | 1715/5273 [07:44<21:18,  2.78it/s]"
     ]
    },
    {
     "name": "stderr",
     "output_type": "stream",
     "text": [
      "\r",
      "Processing columns:  33%|███▎      | 1716/5273 [07:44<19:00,  3.12it/s]"
     ]
    },
    {
     "name": "stderr",
     "output_type": "stream",
     "text": [
      "\r",
      "Processing columns:  33%|███▎      | 1717/5273 [07:44<17:47,  3.33it/s]"
     ]
    },
    {
     "name": "stderr",
     "output_type": "stream",
     "text": [
      "\r",
      "Processing columns:  33%|███▎      | 1718/5273 [07:45<17:45,  3.34it/s]"
     ]
    },
    {
     "name": "stderr",
     "output_type": "stream",
     "text": [
      "\r",
      "Processing columns:  33%|███▎      | 1719/5273 [07:45<16:43,  3.54it/s]"
     ]
    },
    {
     "name": "stderr",
     "output_type": "stream",
     "text": [
      "\r",
      "Processing columns:  33%|███▎      | 1720/5273 [07:45<15:32,  3.81it/s]"
     ]
    },
    {
     "name": "stderr",
     "output_type": "stream",
     "text": [
      "\r",
      "Processing columns:  33%|███▎      | 1721/5273 [07:45<15:08,  3.91it/s]"
     ]
    },
    {
     "name": "stderr",
     "output_type": "stream",
     "text": [
      "\r",
      "Processing columns:  33%|███▎      | 1722/5273 [07:46<15:22,  3.85it/s]"
     ]
    },
    {
     "name": "stderr",
     "output_type": "stream",
     "text": [
      "\r",
      "Processing columns:  33%|███▎      | 1723/5273 [07:46<14:55,  3.97it/s]"
     ]
    },
    {
     "name": "stderr",
     "output_type": "stream",
     "text": [
      "\r",
      "Processing columns:  33%|███▎      | 1724/5273 [07:46<15:37,  3.79it/s]"
     ]
    },
    {
     "name": "stderr",
     "output_type": "stream",
     "text": [
      "\r",
      "Processing columns:  33%|███▎      | 1725/5273 [07:46<15:03,  3.93it/s]"
     ]
    },
    {
     "name": "stderr",
     "output_type": "stream",
     "text": [
      "\r",
      "Processing columns:  33%|███▎      | 1726/5273 [07:47<15:11,  3.89it/s]"
     ]
    },
    {
     "name": "stderr",
     "output_type": "stream",
     "text": [
      "\r",
      "Processing columns:  33%|███▎      | 1727/5273 [07:47<18:08,  3.26it/s]"
     ]
    },
    {
     "name": "stderr",
     "output_type": "stream",
     "text": [
      "\r",
      "Processing columns:  33%|███▎      | 1728/5273 [07:47<17:02,  3.47it/s]"
     ]
    },
    {
     "name": "stderr",
     "output_type": "stream",
     "text": [
      "\r",
      "Processing columns:  33%|███▎      | 1729/5273 [07:48<16:06,  3.67it/s]"
     ]
    },
    {
     "name": "stderr",
     "output_type": "stream",
     "text": [
      "\r",
      "Processing columns:  33%|███▎      | 1730/5273 [07:48<15:27,  3.82it/s]"
     ]
    },
    {
     "name": "stderr",
     "output_type": "stream",
     "text": [
      "\r",
      "Processing columns:  33%|███▎      | 1731/5273 [07:48<14:58,  3.94it/s]"
     ]
    },
    {
     "name": "stderr",
     "output_type": "stream",
     "text": [
      "\r",
      "Processing columns:  33%|███▎      | 1732/5273 [07:48<14:47,  3.99it/s]"
     ]
    },
    {
     "name": "stderr",
     "output_type": "stream",
     "text": [
      "\r",
      "Processing columns:  33%|███▎      | 1733/5273 [07:49<14:37,  4.03it/s]"
     ]
    },
    {
     "name": "stderr",
     "output_type": "stream",
     "text": [
      "\r",
      "Processing columns:  33%|███▎      | 1734/5273 [07:49<14:51,  3.97it/s]"
     ]
    },
    {
     "name": "stderr",
     "output_type": "stream",
     "text": [
      "\r",
      "Processing columns:  33%|███▎      | 1735/5273 [07:49<14:52,  3.97it/s]"
     ]
    },
    {
     "name": "stderr",
     "output_type": "stream",
     "text": [
      "\r",
      "Processing columns:  33%|███▎      | 1736/5273 [07:49<14:26,  4.08it/s]"
     ]
    },
    {
     "name": "stderr",
     "output_type": "stream",
     "text": [
      "\r",
      "Processing columns:  33%|███▎      | 1737/5273 [07:50<15:20,  3.84it/s]"
     ]
    },
    {
     "name": "stderr",
     "output_type": "stream",
     "text": [
      "\r",
      "Processing columns:  33%|███▎      | 1738/5273 [07:50<14:22,  4.10it/s]"
     ]
    },
    {
     "name": "stderr",
     "output_type": "stream",
     "text": [
      "\r",
      "Processing columns:  33%|███▎      | 1739/5273 [07:50<13:58,  4.21it/s]"
     ]
    },
    {
     "name": "stderr",
     "output_type": "stream",
     "text": [
      "\r",
      "Processing columns:  33%|███▎      | 1740/5273 [07:51<20:10,  2.92it/s]"
     ]
    },
    {
     "name": "stderr",
     "output_type": "stream",
     "text": [
      "\r",
      "Processing columns:  33%|███▎      | 1741/5273 [07:51<18:37,  3.16it/s]"
     ]
    },
    {
     "name": "stderr",
     "output_type": "stream",
     "text": [
      "\r",
      "Processing columns:  33%|███▎      | 1742/5273 [07:51<18:59,  3.10it/s]"
     ]
    },
    {
     "name": "stderr",
     "output_type": "stream",
     "text": [
      "\r",
      "Processing columns:  33%|███▎      | 1743/5273 [07:51<16:51,  3.49it/s]"
     ]
    },
    {
     "name": "stderr",
     "output_type": "stream",
     "text": [
      "\r",
      "Processing columns:  33%|███▎      | 1744/5273 [07:52<16:41,  3.52it/s]"
     ]
    },
    {
     "name": "stderr",
     "output_type": "stream",
     "text": [
      "\r",
      "Processing columns:  33%|███▎      | 1745/5273 [07:52<15:28,  3.80it/s]"
     ]
    },
    {
     "name": "stderr",
     "output_type": "stream",
     "text": [
      "\r",
      "Processing columns:  33%|███▎      | 1746/5273 [07:52<15:09,  3.88it/s]"
     ]
    },
    {
     "name": "stderr",
     "output_type": "stream",
     "text": [
      "\r",
      "Processing columns:  33%|███▎      | 1747/5273 [07:52<14:02,  4.19it/s]"
     ]
    },
    {
     "name": "stderr",
     "output_type": "stream",
     "text": [
      "\r",
      "Processing columns:  33%|███▎      | 1748/5273 [07:53<13:53,  4.23it/s]"
     ]
    },
    {
     "name": "stderr",
     "output_type": "stream",
     "text": [
      "\r",
      "Processing columns:  33%|███▎      | 1749/5273 [07:53<13:45,  4.27it/s]"
     ]
    },
    {
     "name": "stderr",
     "output_type": "stream",
     "text": [
      "\r",
      "Processing columns:  33%|███▎      | 1750/5273 [07:53<15:41,  3.74it/s]"
     ]
    },
    {
     "name": "stderr",
     "output_type": "stream",
     "text": [
      "\r",
      "Processing columns:  33%|███▎      | 1751/5273 [07:53<14:39,  4.01it/s]"
     ]
    },
    {
     "name": "stderr",
     "output_type": "stream",
     "text": [
      "\r",
      "Processing columns:  33%|███▎      | 1752/5273 [07:54<14:22,  4.08it/s]"
     ]
    },
    {
     "name": "stderr",
     "output_type": "stream",
     "text": [
      "\r",
      "Processing columns:  33%|███▎      | 1753/5273 [07:54<19:28,  3.01it/s]"
     ]
    },
    {
     "name": "stderr",
     "output_type": "stream",
     "text": [
      "\r",
      "Processing columns:  33%|███▎      | 1754/5273 [07:54<17:39,  3.32it/s]"
     ]
    },
    {
     "name": "stderr",
     "output_type": "stream",
     "text": [
      "\r",
      "Processing columns:  33%|███▎      | 1755/5273 [07:55<18:12,  3.22it/s]"
     ]
    },
    {
     "name": "stderr",
     "output_type": "stream",
     "text": [
      "\r",
      "Processing columns:  33%|███▎      | 1756/5273 [07:55<17:32,  3.34it/s]"
     ]
    },
    {
     "name": "stderr",
     "output_type": "stream",
     "text": [
      "\r",
      "Processing columns:  33%|███▎      | 1757/5273 [07:55<16:00,  3.66it/s]"
     ]
    },
    {
     "name": "stderr",
     "output_type": "stream",
     "text": [
      "\r",
      "Processing columns:  33%|███▎      | 1758/5273 [07:55<15:05,  3.88it/s]"
     ]
    },
    {
     "name": "stderr",
     "output_type": "stream",
     "text": [
      "\r",
      "Processing columns:  33%|███▎      | 1759/5273 [07:56<14:39,  4.00it/s]"
     ]
    },
    {
     "name": "stderr",
     "output_type": "stream",
     "text": [
      "\r",
      "Processing columns:  33%|███▎      | 1760/5273 [07:56<14:50,  3.95it/s]"
     ]
    },
    {
     "name": "stderr",
     "output_type": "stream",
     "text": [
      "\r",
      "Processing columns:  33%|███▎      | 1761/5273 [07:56<16:35,  3.53it/s]"
     ]
    },
    {
     "name": "stderr",
     "output_type": "stream",
     "text": [
      "\r",
      "Processing columns:  33%|███▎      | 1762/5273 [07:56<15:29,  3.78it/s]"
     ]
    },
    {
     "name": "stderr",
     "output_type": "stream",
     "text": [
      "\r",
      "Processing columns:  33%|███▎      | 1763/5273 [07:57<16:10,  3.62it/s]"
     ]
    },
    {
     "name": "stderr",
     "output_type": "stream",
     "text": [
      "\r",
      "Processing columns:  33%|███▎      | 1764/5273 [07:57<15:06,  3.87it/s]"
     ]
    },
    {
     "name": "stderr",
     "output_type": "stream",
     "text": [
      "\r",
      "Processing columns:  33%|███▎      | 1765/5273 [07:57<16:18,  3.59it/s]"
     ]
    },
    {
     "name": "stderr",
     "output_type": "stream",
     "text": [
      "\r",
      "Processing columns:  33%|███▎      | 1766/5273 [07:58<15:42,  3.72it/s]"
     ]
    },
    {
     "name": "stderr",
     "output_type": "stream",
     "text": [
      "\r",
      "Processing columns:  34%|███▎      | 1767/5273 [07:58<18:57,  3.08it/s]"
     ]
    },
    {
     "name": "stderr",
     "output_type": "stream",
     "text": [
      "\r",
      "Processing columns:  34%|███▎      | 1768/5273 [07:58<17:10,  3.40it/s]"
     ]
    },
    {
     "name": "stderr",
     "output_type": "stream",
     "text": [
      "\r",
      "Processing columns:  34%|███▎      | 1769/5273 [07:58<16:14,  3.60it/s]"
     ]
    },
    {
     "name": "stderr",
     "output_type": "stream",
     "text": [
      "\r",
      "Processing columns:  34%|███▎      | 1770/5273 [07:59<16:13,  3.60it/s]"
     ]
    },
    {
     "name": "stderr",
     "output_type": "stream",
     "text": [
      "\r",
      "Processing columns:  34%|███▎      | 1771/5273 [07:59<15:33,  3.75it/s]"
     ]
    },
    {
     "name": "stderr",
     "output_type": "stream",
     "text": [
      "\r",
      "Processing columns:  34%|███▎      | 1772/5273 [07:59<17:37,  3.31it/s]"
     ]
    },
    {
     "name": "stderr",
     "output_type": "stream",
     "text": [
      "\r",
      "Processing columns:  34%|███▎      | 1773/5273 [08:00<16:59,  3.43it/s]"
     ]
    },
    {
     "name": "stderr",
     "output_type": "stream",
     "text": [
      "\r",
      "Processing columns:  34%|███▎      | 1774/5273 [08:00<16:03,  3.63it/s]"
     ]
    },
    {
     "name": "stderr",
     "output_type": "stream",
     "text": [
      "\r",
      "Processing columns:  34%|███▎      | 1775/5273 [08:00<16:00,  3.64it/s]"
     ]
    },
    {
     "name": "stderr",
     "output_type": "stream",
     "text": [
      "\r",
      "Processing columns:  34%|███▎      | 1776/5273 [08:00<15:47,  3.69it/s]"
     ]
    },
    {
     "name": "stderr",
     "output_type": "stream",
     "text": [
      "\r",
      "Processing columns:  34%|███▎      | 1777/5273 [08:01<15:16,  3.81it/s]"
     ]
    },
    {
     "name": "stderr",
     "output_type": "stream",
     "text": [
      "\r",
      "Processing columns:  34%|███▎      | 1778/5273 [08:01<14:18,  4.07it/s]"
     ]
    },
    {
     "name": "stderr",
     "output_type": "stream",
     "text": [
      "\r",
      "Processing columns:  34%|███▎      | 1779/5273 [08:01<13:59,  4.16it/s]"
     ]
    },
    {
     "name": "stderr",
     "output_type": "stream",
     "text": [
      "\r",
      "Processing columns:  34%|███▍      | 1780/5273 [08:02<17:20,  3.36it/s]"
     ]
    },
    {
     "name": "stderr",
     "output_type": "stream",
     "text": [
      "\r",
      "Processing columns:  34%|███▍      | 1781/5273 [08:02<16:43,  3.48it/s]"
     ]
    },
    {
     "name": "stderr",
     "output_type": "stream",
     "text": [
      "\r",
      "Processing columns:  34%|███▍      | 1782/5273 [08:02<16:02,  3.63it/s]"
     ]
    },
    {
     "name": "stderr",
     "output_type": "stream",
     "text": [
      "\r",
      "Processing columns:  34%|███▍      | 1783/5273 [08:02<15:14,  3.82it/s]"
     ]
    },
    {
     "name": "stderr",
     "output_type": "stream",
     "text": [
      "\r",
      "Processing columns:  34%|███▍      | 1784/5273 [08:02<14:26,  4.03it/s]"
     ]
    },
    {
     "name": "stderr",
     "output_type": "stream",
     "text": [
      "\r",
      "Processing columns:  34%|███▍      | 1785/5273 [08:03<14:40,  3.96it/s]"
     ]
    },
    {
     "name": "stderr",
     "output_type": "stream",
     "text": [
      "\r",
      "Processing columns:  34%|███▍      | 1786/5273 [08:03<14:58,  3.88it/s]"
     ]
    },
    {
     "name": "stderr",
     "output_type": "stream",
     "text": [
      "\r",
      "Processing columns:  34%|███▍      | 1787/5273 [08:03<14:38,  3.97it/s]"
     ]
    },
    {
     "name": "stderr",
     "output_type": "stream",
     "text": [
      "\r",
      "Processing columns:  34%|███▍      | 1788/5273 [08:03<13:48,  4.21it/s]"
     ]
    },
    {
     "name": "stderr",
     "output_type": "stream",
     "text": [
      "\r",
      "Processing columns:  34%|███▍      | 1789/5273 [08:04<15:25,  3.77it/s]"
     ]
    },
    {
     "name": "stderr",
     "output_type": "stream",
     "text": [
      "\r",
      "Processing columns:  34%|███▍      | 1790/5273 [08:04<14:22,  4.04it/s]"
     ]
    },
    {
     "name": "stderr",
     "output_type": "stream",
     "text": [
      "\r",
      "Processing columns:  34%|███▍      | 1791/5273 [08:04<14:05,  4.12it/s]"
     ]
    },
    {
     "name": "stderr",
     "output_type": "stream",
     "text": [
      "\r",
      "Processing columns:  34%|███▍      | 1792/5273 [08:05<16:06,  3.60it/s]"
     ]
    },
    {
     "name": "stderr",
     "output_type": "stream",
     "text": [
      "\r",
      "Processing columns:  34%|███▍      | 1793/5273 [08:05<18:59,  3.05it/s]"
     ]
    },
    {
     "name": "stderr",
     "output_type": "stream",
     "text": [
      "\r",
      "Processing columns:  34%|███▍      | 1794/5273 [08:05<16:55,  3.43it/s]"
     ]
    },
    {
     "name": "stderr",
     "output_type": "stream",
     "text": [
      "\r",
      "Processing columns:  34%|███▍      | 1795/5273 [08:06<16:15,  3.57it/s]"
     ]
    },
    {
     "name": "stderr",
     "output_type": "stream",
     "text": [
      "\r",
      "Processing columns:  34%|███▍      | 1796/5273 [08:06<16:06,  3.60it/s]"
     ]
    },
    {
     "name": "stderr",
     "output_type": "stream",
     "text": [
      "\r",
      "Processing columns:  34%|███▍      | 1797/5273 [08:06<16:44,  3.46it/s]"
     ]
    },
    {
     "name": "stderr",
     "output_type": "stream",
     "text": [
      "\r",
      "Processing columns:  34%|███▍      | 1798/5273 [08:06<15:37,  3.71it/s]"
     ]
    },
    {
     "name": "stderr",
     "output_type": "stream",
     "text": [
      "\r",
      "Processing columns:  34%|███▍      | 1799/5273 [08:07<16:03,  3.61it/s]"
     ]
    },
    {
     "name": "stderr",
     "output_type": "stream",
     "text": [
      "\r",
      "Processing columns:  34%|███▍      | 1800/5273 [08:07<14:42,  3.94it/s]"
     ]
    },
    {
     "name": "stderr",
     "output_type": "stream",
     "text": [
      "\r",
      "Processing columns:  34%|███▍      | 1801/5273 [08:07<14:21,  4.03it/s]"
     ]
    },
    {
     "name": "stderr",
     "output_type": "stream",
     "text": [
      "\r",
      "Processing columns:  34%|███▍      | 1802/5273 [08:07<15:44,  3.68it/s]"
     ]
    },
    {
     "name": "stderr",
     "output_type": "stream",
     "text": [
      "\r",
      "Processing columns:  34%|███▍      | 1803/5273 [08:08<15:13,  3.80it/s]"
     ]
    },
    {
     "name": "stderr",
     "output_type": "stream",
     "text": [
      "\r",
      "Processing columns:  34%|███▍      | 1804/5273 [08:08<14:25,  4.01it/s]"
     ]
    },
    {
     "name": "stderr",
     "output_type": "stream",
     "text": [
      "\r",
      "Processing columns:  34%|███▍      | 1805/5273 [08:08<14:15,  4.05it/s]"
     ]
    },
    {
     "name": "stderr",
     "output_type": "stream",
     "text": [
      "\r",
      "Processing columns:  34%|███▍      | 1806/5273 [08:09<18:28,  3.13it/s]"
     ]
    },
    {
     "name": "stderr",
     "output_type": "stream",
     "text": [
      "\r",
      "Processing columns:  34%|███▍      | 1807/5273 [08:09<16:44,  3.45it/s]"
     ]
    },
    {
     "name": "stderr",
     "output_type": "stream",
     "text": [
      "\r",
      "Processing columns:  34%|███▍      | 1808/5273 [08:09<17:20,  3.33it/s]"
     ]
    },
    {
     "name": "stderr",
     "output_type": "stream",
     "text": [
      "\r",
      "Processing columns:  34%|███▍      | 1809/5273 [08:09<15:56,  3.62it/s]"
     ]
    },
    {
     "name": "stderr",
     "output_type": "stream",
     "text": [
      "\r",
      "Processing columns:  34%|███▍      | 1810/5273 [08:10<16:29,  3.50it/s]"
     ]
    },
    {
     "name": "stderr",
     "output_type": "stream",
     "text": [
      "\r",
      "Processing columns:  34%|███▍      | 1811/5273 [08:10<15:28,  3.73it/s]"
     ]
    },
    {
     "name": "stderr",
     "output_type": "stream",
     "text": [
      "\r",
      "Processing columns:  34%|███▍      | 1812/5273 [08:10<15:02,  3.83it/s]"
     ]
    },
    {
     "name": "stderr",
     "output_type": "stream",
     "text": [
      "\r",
      "Processing columns:  34%|███▍      | 1813/5273 [08:10<14:54,  3.87it/s]"
     ]
    },
    {
     "name": "stderr",
     "output_type": "stream",
     "text": [
      "\r",
      "Processing columns:  34%|███▍      | 1814/5273 [08:11<15:34,  3.70it/s]"
     ]
    },
    {
     "name": "stderr",
     "output_type": "stream",
     "text": [
      "\r",
      "Processing columns:  34%|███▍      | 1815/5273 [08:11<14:22,  4.01it/s]"
     ]
    },
    {
     "name": "stderr",
     "output_type": "stream",
     "text": [
      "\r",
      "Processing columns:  34%|███▍      | 1816/5273 [08:11<14:31,  3.97it/s]"
     ]
    },
    {
     "name": "stderr",
     "output_type": "stream",
     "text": [
      "\r",
      "Processing columns:  34%|███▍      | 1817/5273 [08:11<14:00,  4.11it/s]"
     ]
    },
    {
     "name": "stderr",
     "output_type": "stream",
     "text": [
      "\r",
      "Processing columns:  34%|███▍      | 1818/5273 [08:12<13:44,  4.19it/s]"
     ]
    },
    {
     "name": "stderr",
     "output_type": "stream",
     "text": [
      "\r",
      "Processing columns:  34%|███▍      | 1819/5273 [08:12<17:21,  3.32it/s]"
     ]
    },
    {
     "name": "stderr",
     "output_type": "stream",
     "text": [
      "\r",
      "Processing columns:  35%|███▍      | 1820/5273 [08:12<16:59,  3.39it/s]"
     ]
    },
    {
     "name": "stderr",
     "output_type": "stream",
     "text": [
      "\r",
      "Processing columns:  35%|███▍      | 1821/5273 [08:13<15:46,  3.65it/s]"
     ]
    },
    {
     "name": "stderr",
     "output_type": "stream",
     "text": [
      "\r",
      "Processing columns:  35%|███▍      | 1822/5273 [08:13<14:52,  3.87it/s]"
     ]
    },
    {
     "name": "stderr",
     "output_type": "stream",
     "text": [
      "\r",
      "Processing columns:  35%|███▍      | 1823/5273 [08:13<14:50,  3.87it/s]"
     ]
    },
    {
     "name": "stderr",
     "output_type": "stream",
     "text": [
      "\r",
      "Processing columns:  35%|███▍      | 1824/5273 [08:13<14:34,  3.94it/s]"
     ]
    },
    {
     "name": "stderr",
     "output_type": "stream",
     "text": [
      "\r",
      "Processing columns:  35%|███▍      | 1825/5273 [08:14<14:37,  3.93it/s]"
     ]
    },
    {
     "name": "stderr",
     "output_type": "stream",
     "text": [
      "\r",
      "Processing columns:  35%|███▍      | 1826/5273 [08:14<14:20,  4.00it/s]"
     ]
    },
    {
     "name": "stderr",
     "output_type": "stream",
     "text": [
      "\r",
      "Processing columns:  35%|███▍      | 1827/5273 [08:14<13:28,  4.26it/s]"
     ]
    },
    {
     "name": "stderr",
     "output_type": "stream",
     "text": [
      "\r",
      "Processing columns:  35%|███▍      | 1828/5273 [08:14<14:21,  4.00it/s]"
     ]
    },
    {
     "name": "stderr",
     "output_type": "stream",
     "text": [
      "\r",
      "Processing columns:  35%|███▍      | 1829/5273 [08:14<14:13,  4.04it/s]"
     ]
    },
    {
     "name": "stderr",
     "output_type": "stream",
     "text": [
      "\r",
      "Processing columns:  35%|███▍      | 1830/5273 [08:15<14:18,  4.01it/s]"
     ]
    },
    {
     "name": "stderr",
     "output_type": "stream",
     "text": [
      "\r",
      "Processing columns:  35%|███▍      | 1831/5273 [08:15<13:50,  4.14it/s]"
     ]
    },
    {
     "name": "stderr",
     "output_type": "stream",
     "text": [
      "\r",
      "Processing columns:  35%|███▍      | 1832/5273 [08:15<17:40,  3.25it/s]"
     ]
    },
    {
     "name": "stderr",
     "output_type": "stream",
     "text": [
      "\r",
      "Processing columns:  35%|███▍      | 1833/5273 [08:16<16:30,  3.47it/s]"
     ]
    },
    {
     "name": "stderr",
     "output_type": "stream",
     "text": [
      "\r",
      "Processing columns:  35%|███▍      | 1834/5273 [08:16<15:39,  3.66it/s]"
     ]
    },
    {
     "name": "stderr",
     "output_type": "stream",
     "text": [
      "\r",
      "Processing columns:  35%|███▍      | 1835/5273 [08:16<15:18,  3.74it/s]"
     ]
    },
    {
     "name": "stderr",
     "output_type": "stream",
     "text": [
      "\r",
      "Processing columns:  35%|███▍      | 1836/5273 [08:16<15:20,  3.74it/s]"
     ]
    },
    {
     "name": "stderr",
     "output_type": "stream",
     "text": [
      "\r",
      "Processing columns:  35%|███▍      | 1837/5273 [08:17<14:28,  3.96it/s]"
     ]
    },
    {
     "name": "stderr",
     "output_type": "stream",
     "text": [
      "\r",
      "Processing columns:  35%|███▍      | 1838/5273 [08:17<13:46,  4.15it/s]"
     ]
    },
    {
     "name": "stderr",
     "output_type": "stream",
     "text": [
      "\r",
      "Processing columns:  35%|███▍      | 1839/5273 [08:17<14:01,  4.08it/s]"
     ]
    },
    {
     "name": "stderr",
     "output_type": "stream",
     "text": [
      "\r",
      "Processing columns:  35%|███▍      | 1840/5273 [08:17<14:18,  4.00it/s]"
     ]
    },
    {
     "name": "stderr",
     "output_type": "stream",
     "text": [
      "\r",
      "Processing columns:  35%|███▍      | 1841/5273 [08:18<13:57,  4.10it/s]"
     ]
    },
    {
     "name": "stderr",
     "output_type": "stream",
     "text": [
      "\r",
      "Processing columns:  35%|███▍      | 1842/5273 [08:18<13:12,  4.33it/s]"
     ]
    },
    {
     "name": "stderr",
     "output_type": "stream",
     "text": [
      "\r",
      "Processing columns:  35%|███▍      | 1843/5273 [08:18<15:19,  3.73it/s]"
     ]
    },
    {
     "name": "stderr",
     "output_type": "stream",
     "text": [
      "\r",
      "Processing columns:  35%|███▍      | 1844/5273 [08:18<14:38,  3.90it/s]"
     ]
    },
    {
     "name": "stderr",
     "output_type": "stream",
     "text": [
      "\r",
      "Processing columns:  35%|███▍      | 1845/5273 [08:19<14:35,  3.92it/s]"
     ]
    },
    {
     "name": "stderr",
     "output_type": "stream",
     "text": [
      "\r",
      "Processing columns:  35%|███▌      | 1846/5273 [08:19<18:07,  3.15it/s]"
     ]
    },
    {
     "name": "stderr",
     "output_type": "stream",
     "text": [
      "\r",
      "Processing columns:  35%|███▌      | 1847/5273 [08:19<16:28,  3.47it/s]"
     ]
    },
    {
     "name": "stderr",
     "output_type": "stream",
     "text": [
      "\r",
      "Processing columns:  35%|███▌      | 1848/5273 [08:20<16:17,  3.50it/s]"
     ]
    },
    {
     "name": "stderr",
     "output_type": "stream",
     "text": [
      "\r",
      "Processing columns:  35%|███▌      | 1849/5273 [08:20<16:29,  3.46it/s]"
     ]
    },
    {
     "name": "stderr",
     "output_type": "stream",
     "text": [
      "\r",
      "Processing columns:  35%|███▌      | 1850/5273 [08:20<15:00,  3.80it/s]"
     ]
    },
    {
     "name": "stderr",
     "output_type": "stream",
     "text": [
      "\r",
      "Processing columns:  35%|███▌      | 1851/5273 [08:20<14:22,  3.97it/s]"
     ]
    },
    {
     "name": "stderr",
     "output_type": "stream",
     "text": [
      "\r",
      "Processing columns:  35%|███▌      | 1852/5273 [08:21<15:01,  3.79it/s]"
     ]
    },
    {
     "name": "stderr",
     "output_type": "stream",
     "text": [
      "\r",
      "Processing columns:  35%|███▌      | 1853/5273 [08:21<16:04,  3.55it/s]"
     ]
    },
    {
     "name": "stderr",
     "output_type": "stream",
     "text": [
      "\r",
      "Processing columns:  35%|███▌      | 1854/5273 [08:21<15:39,  3.64it/s]"
     ]
    },
    {
     "name": "stderr",
     "output_type": "stream",
     "text": [
      "\r",
      "Processing columns:  35%|███▌      | 1855/5273 [08:21<15:03,  3.78it/s]"
     ]
    },
    {
     "name": "stderr",
     "output_type": "stream",
     "text": [
      "\r",
      "Processing columns:  35%|███▌      | 1856/5273 [08:22<15:22,  3.70it/s]"
     ]
    },
    {
     "name": "stderr",
     "output_type": "stream",
     "text": [
      "\r",
      "Processing columns:  35%|███▌      | 1857/5273 [08:22<14:26,  3.94it/s]"
     ]
    },
    {
     "name": "stderr",
     "output_type": "stream",
     "text": [
      "\r",
      "Processing columns:  35%|███▌      | 1858/5273 [08:22<14:08,  4.03it/s]"
     ]
    },
    {
     "name": "stderr",
     "output_type": "stream",
     "text": [
      "\r",
      "Processing columns:  35%|███▌      | 1859/5273 [08:23<17:30,  3.25it/s]"
     ]
    },
    {
     "name": "stderr",
     "output_type": "stream",
     "text": [
      "\r",
      "Processing columns:  35%|███▌      | 1860/5273 [08:23<17:34,  3.24it/s]"
     ]
    },
    {
     "name": "stderr",
     "output_type": "stream",
     "text": [
      "\r",
      "Processing columns:  35%|███▌      | 1861/5273 [08:23<16:20,  3.48it/s]"
     ]
    },
    {
     "name": "stderr",
     "output_type": "stream",
     "text": [
      "\r",
      "Processing columns:  35%|███▌      | 1862/5273 [08:23<15:42,  3.62it/s]"
     ]
    },
    {
     "name": "stderr",
     "output_type": "stream",
     "text": [
      "\r",
      "Processing columns:  35%|███▌      | 1863/5273 [08:24<15:18,  3.71it/s]"
     ]
    },
    {
     "name": "stderr",
     "output_type": "stream",
     "text": [
      "\r",
      "Processing columns:  35%|███▌      | 1864/5273 [08:24<15:09,  3.75it/s]"
     ]
    },
    {
     "name": "stderr",
     "output_type": "stream",
     "text": [
      "\r",
      "Processing columns:  35%|███▌      | 1865/5273 [08:24<14:56,  3.80it/s]"
     ]
    },
    {
     "name": "stderr",
     "output_type": "stream",
     "text": [
      "\r",
      "Processing columns:  35%|███▌      | 1866/5273 [08:24<14:32,  3.90it/s]"
     ]
    },
    {
     "name": "stderr",
     "output_type": "stream",
     "text": [
      "\r",
      "Processing columns:  35%|███▌      | 1867/5273 [08:25<13:33,  4.19it/s]"
     ]
    },
    {
     "name": "stderr",
     "output_type": "stream",
     "text": [
      "\r",
      "Processing columns:  35%|███▌      | 1868/5273 [08:25<13:35,  4.18it/s]"
     ]
    },
    {
     "name": "stderr",
     "output_type": "stream",
     "text": [
      "\r",
      "Processing columns:  35%|███▌      | 1869/5273 [08:25<14:31,  3.90it/s]"
     ]
    },
    {
     "name": "stderr",
     "output_type": "stream",
     "text": [
      "\r",
      "Processing columns:  35%|███▌      | 1870/5273 [08:25<13:52,  4.09it/s]"
     ]
    },
    {
     "name": "stderr",
     "output_type": "stream",
     "text": [
      "\r",
      "Processing columns:  35%|███▌      | 1871/5273 [08:26<14:42,  3.86it/s]"
     ]
    },
    {
     "name": "stderr",
     "output_type": "stream",
     "text": [
      "\r",
      "Processing columns:  36%|███▌      | 1872/5273 [08:26<18:22,  3.08it/s]"
     ]
    },
    {
     "name": "stderr",
     "output_type": "stream",
     "text": [
      "\r",
      "Processing columns:  36%|███▌      | 1873/5273 [08:26<17:58,  3.15it/s]"
     ]
    },
    {
     "name": "stderr",
     "output_type": "stream",
     "text": [
      "\r",
      "Processing columns:  36%|███▌      | 1874/5273 [08:27<16:00,  3.54it/s]"
     ]
    },
    {
     "name": "stderr",
     "output_type": "stream",
     "text": [
      "\r",
      "Processing columns:  36%|███▌      | 1875/5273 [08:27<15:30,  3.65it/s]"
     ]
    },
    {
     "name": "stderr",
     "output_type": "stream",
     "text": [
      "\r",
      "Processing columns:  36%|███▌      | 1876/5273 [08:27<15:02,  3.76it/s]"
     ]
    },
    {
     "name": "stderr",
     "output_type": "stream",
     "text": [
      "\r",
      "Processing columns:  36%|███▌      | 1877/5273 [08:27<14:41,  3.85it/s]"
     ]
    },
    {
     "name": "stderr",
     "output_type": "stream",
     "text": [
      "\r",
      "Processing columns:  36%|███▌      | 1878/5273 [08:28<13:39,  4.14it/s]"
     ]
    },
    {
     "name": "stderr",
     "output_type": "stream",
     "text": [
      "\r",
      "Processing columns:  36%|███▌      | 1879/5273 [08:28<14:02,  4.03it/s]"
     ]
    },
    {
     "name": "stderr",
     "output_type": "stream",
     "text": [
      "\r",
      "Processing columns:  36%|███▌      | 1880/5273 [08:28<14:18,  3.95it/s]"
     ]
    },
    {
     "name": "stderr",
     "output_type": "stream",
     "text": [
      "\r",
      "Processing columns:  36%|███▌      | 1881/5273 [08:28<14:23,  3.93it/s]"
     ]
    },
    {
     "name": "stderr",
     "output_type": "stream",
     "text": [
      "\r",
      "Processing columns:  36%|███▌      | 1882/5273 [08:29<13:53,  4.07it/s]"
     ]
    },
    {
     "name": "stderr",
     "output_type": "stream",
     "text": [
      "\r",
      "Processing columns:  36%|███▌      | 1883/5273 [08:29<14:28,  3.90it/s]"
     ]
    },
    {
     "name": "stderr",
     "output_type": "stream",
     "text": [
      "\r",
      "Processing columns:  36%|███▌      | 1884/5273 [08:29<14:04,  4.01it/s]"
     ]
    },
    {
     "name": "stderr",
     "output_type": "stream",
     "text": [
      "\r",
      "Processing columns:  36%|███▌      | 1885/5273 [08:30<17:19,  3.26it/s]"
     ]
    },
    {
     "name": "stderr",
     "output_type": "stream",
     "text": [
      "\r",
      "Processing columns:  36%|███▌      | 1886/5273 [08:30<15:40,  3.60it/s]"
     ]
    },
    {
     "name": "stderr",
     "output_type": "stream",
     "text": [
      "\r",
      "Processing columns:  36%|███▌      | 1887/5273 [08:30<17:25,  3.24it/s]"
     ]
    },
    {
     "name": "stderr",
     "output_type": "stream",
     "text": [
      "\r",
      "Processing columns:  36%|███▌      | 1888/5273 [08:30<15:55,  3.54it/s]"
     ]
    },
    {
     "name": "stderr",
     "output_type": "stream",
     "text": [
      "\r",
      "Processing columns:  36%|███▌      | 1889/5273 [08:31<14:58,  3.77it/s]"
     ]
    },
    {
     "name": "stderr",
     "output_type": "stream",
     "text": [
      "\r",
      "Processing columns:  36%|███▌      | 1890/5273 [08:31<14:20,  3.93it/s]"
     ]
    },
    {
     "name": "stderr",
     "output_type": "stream",
     "text": [
      "\r",
      "Processing columns:  36%|███▌      | 1891/5273 [08:31<13:52,  4.06it/s]"
     ]
    },
    {
     "name": "stderr",
     "output_type": "stream",
     "text": [
      "\r",
      "Processing columns:  36%|███▌      | 1892/5273 [08:31<13:35,  4.15it/s]"
     ]
    },
    {
     "name": "stderr",
     "output_type": "stream",
     "text": [
      "\r",
      "Processing columns:  36%|███▌      | 1893/5273 [08:31<13:01,  4.32it/s]"
     ]
    },
    {
     "name": "stderr",
     "output_type": "stream",
     "text": [
      "\r",
      "Processing columns:  36%|███▌      | 1894/5273 [08:32<15:52,  3.55it/s]"
     ]
    },
    {
     "name": "stderr",
     "output_type": "stream",
     "text": [
      "\r",
      "Processing columns:  36%|███▌      | 1895/5273 [08:32<15:26,  3.64it/s]"
     ]
    },
    {
     "name": "stderr",
     "output_type": "stream",
     "text": [
      "\r",
      "Processing columns:  36%|███▌      | 1896/5273 [08:32<14:49,  3.80it/s]"
     ]
    },
    {
     "name": "stderr",
     "output_type": "stream",
     "text": [
      "\r",
      "Processing columns:  36%|███▌      | 1897/5273 [08:33<14:14,  3.95it/s]"
     ]
    },
    {
     "name": "stderr",
     "output_type": "stream",
     "text": [
      "\r",
      "Processing columns:  36%|███▌      | 1898/5273 [08:33<17:01,  3.30it/s]"
     ]
    },
    {
     "name": "stderr",
     "output_type": "stream",
     "text": [
      "\r",
      "Processing columns:  36%|███▌      | 1899/5273 [08:33<15:43,  3.58it/s]"
     ]
    },
    {
     "name": "stderr",
     "output_type": "stream",
     "text": [
      "\r",
      "Processing columns:  36%|███▌      | 1900/5273 [08:33<14:51,  3.78it/s]"
     ]
    },
    {
     "name": "stderr",
     "output_type": "stream",
     "text": [
      "\r",
      "Processing columns:  36%|███▌      | 1901/5273 [08:34<14:09,  3.97it/s]"
     ]
    },
    {
     "name": "stderr",
     "output_type": "stream",
     "text": [
      "\r",
      "Processing columns:  36%|███▌      | 1902/5273 [08:34<14:00,  4.01it/s]"
     ]
    },
    {
     "name": "stderr",
     "output_type": "stream",
     "text": [
      "\r",
      "Processing columns:  36%|███▌      | 1903/5273 [08:34<13:52,  4.05it/s]"
     ]
    },
    {
     "name": "stderr",
     "output_type": "stream",
     "text": [
      "\r",
      "Processing columns:  36%|███▌      | 1904/5273 [08:34<14:39,  3.83it/s]"
     ]
    },
    {
     "name": "stderr",
     "output_type": "stream",
     "text": [
      "\r",
      "Processing columns:  36%|███▌      | 1905/5273 [08:35<13:56,  4.03it/s]"
     ]
    },
    {
     "name": "stderr",
     "output_type": "stream",
     "text": [
      "\r",
      "Processing columns:  36%|███▌      | 1906/5273 [08:35<13:41,  4.10it/s]"
     ]
    },
    {
     "name": "stderr",
     "output_type": "stream",
     "text": [
      "\r",
      "Processing columns:  36%|███▌      | 1907/5273 [08:35<13:31,  4.15it/s]"
     ]
    },
    {
     "name": "stderr",
     "output_type": "stream",
     "text": [
      "\r",
      "Processing columns:  36%|███▌      | 1908/5273 [08:35<13:22,  4.19it/s]"
     ]
    },
    {
     "name": "stderr",
     "output_type": "stream",
     "text": [
      "\r",
      "Processing columns:  36%|███▌      | 1909/5273 [08:36<13:15,  4.23it/s]"
     ]
    },
    {
     "name": "stderr",
     "output_type": "stream",
     "text": [
      "\r",
      "Processing columns:  36%|███▌      | 1910/5273 [08:36<13:40,  4.10it/s]"
     ]
    },
    {
     "name": "stderr",
     "output_type": "stream",
     "text": [
      "\r",
      "Processing columns:  36%|███▌      | 1911/5273 [08:36<16:17,  3.44it/s]"
     ]
    },
    {
     "name": "stderr",
     "output_type": "stream",
     "text": [
      "\r",
      "Processing columns:  36%|███▋      | 1912/5273 [08:37<15:45,  3.55it/s]"
     ]
    },
    {
     "name": "stderr",
     "output_type": "stream",
     "text": [
      "\r",
      "Processing columns:  36%|███▋      | 1913/5273 [08:37<14:32,  3.85it/s]"
     ]
    },
    {
     "name": "stderr",
     "output_type": "stream",
     "text": [
      "\r",
      "Processing columns:  36%|███▋      | 1914/5273 [08:37<14:25,  3.88it/s]"
     ]
    },
    {
     "name": "stderr",
     "output_type": "stream",
     "text": [
      "\r",
      "Processing columns:  36%|███▋      | 1915/5273 [08:37<14:00,  4.00it/s]"
     ]
    },
    {
     "name": "stderr",
     "output_type": "stream",
     "text": [
      "\r",
      "Processing columns:  36%|███▋      | 1916/5273 [08:37<14:03,  3.98it/s]"
     ]
    },
    {
     "name": "stderr",
     "output_type": "stream",
     "text": [
      "\r",
      "Processing columns:  36%|███▋      | 1917/5273 [08:38<14:03,  3.98it/s]"
     ]
    },
    {
     "name": "stderr",
     "output_type": "stream",
     "text": [
      "\r",
      "Processing columns:  36%|███▋      | 1918/5273 [08:38<13:09,  4.25it/s]"
     ]
    },
    {
     "name": "stderr",
     "output_type": "stream",
     "text": [
      "\r",
      "Processing columns:  36%|███▋      | 1919/5273 [08:38<13:03,  4.28it/s]"
     ]
    },
    {
     "name": "stderr",
     "output_type": "stream",
     "text": [
      "\r",
      "Processing columns:  36%|███▋      | 1920/5273 [08:38<14:13,  3.93it/s]"
     ]
    },
    {
     "name": "stderr",
     "output_type": "stream",
     "text": [
      "\r",
      "Processing columns:  36%|███▋      | 1921/5273 [08:39<14:41,  3.80it/s]"
     ]
    },
    {
     "name": "stderr",
     "output_type": "stream",
     "text": [
      "\r",
      "Processing columns:  36%|███▋      | 1922/5273 [08:39<13:39,  4.09it/s]"
     ]
    },
    {
     "name": "stderr",
     "output_type": "stream",
     "text": [
      "\r",
      "Processing columns:  36%|███▋      | 1923/5273 [08:39<16:24,  3.40it/s]"
     ]
    },
    {
     "name": "stderr",
     "output_type": "stream",
     "text": [
      "\r",
      "Processing columns:  36%|███▋      | 1924/5273 [08:40<18:53,  2.95it/s]"
     ]
    },
    {
     "name": "stderr",
     "output_type": "stream",
     "text": [
      "\r",
      "Processing columns:  37%|███▋      | 1925/5273 [08:40<17:40,  3.16it/s]"
     ]
    },
    {
     "name": "stderr",
     "output_type": "stream",
     "text": [
      "\r",
      "Processing columns:  37%|███▋      | 1926/5273 [08:40<16:17,  3.42it/s]"
     ]
    },
    {
     "name": "stderr",
     "output_type": "stream",
     "text": [
      "\r",
      "Processing columns:  37%|███▋      | 1927/5273 [08:41<15:30,  3.59it/s]"
     ]
    },
    {
     "name": "stderr",
     "output_type": "stream",
     "text": [
      "\r",
      "Processing columns:  37%|███▋      | 1928/5273 [08:41<14:12,  3.92it/s]"
     ]
    },
    {
     "name": "stderr",
     "output_type": "stream",
     "text": [
      "\r",
      "Processing columns:  37%|███▋      | 1929/5273 [08:41<13:49,  4.03it/s]"
     ]
    },
    {
     "name": "stderr",
     "output_type": "stream",
     "text": [
      "\r",
      "Processing columns:  37%|███▋      | 1930/5273 [08:41<13:46,  4.05it/s]"
     ]
    },
    {
     "name": "stderr",
     "output_type": "stream",
     "text": [
      "\r",
      "Processing columns:  37%|███▋      | 1931/5273 [08:41<13:49,  4.03it/s]"
     ]
    },
    {
     "name": "stderr",
     "output_type": "stream",
     "text": [
      "\r",
      "Processing columns:  37%|███▋      | 1932/5273 [08:42<13:33,  4.11it/s]"
     ]
    },
    {
     "name": "stderr",
     "output_type": "stream",
     "text": [
      "\r",
      "Processing columns:  37%|███▋      | 1933/5273 [08:42<13:52,  4.01it/s]"
     ]
    },
    {
     "name": "stderr",
     "output_type": "stream",
     "text": [
      "\r",
      "Processing columns:  37%|███▋      | 1934/5273 [08:42<13:08,  4.24it/s]"
     ]
    },
    {
     "name": "stderr",
     "output_type": "stream",
     "text": [
      "\r",
      "Processing columns:  37%|███▋      | 1935/5273 [08:42<13:42,  4.06it/s]"
     ]
    },
    {
     "name": "stderr",
     "output_type": "stream",
     "text": [
      "\r",
      "Processing columns:  37%|███▋      | 1936/5273 [08:43<13:44,  4.05it/s]"
     ]
    },
    {
     "name": "stderr",
     "output_type": "stream",
     "text": [
      "\r",
      "Processing columns:  37%|███▋      | 1937/5273 [08:43<17:20,  3.20it/s]"
     ]
    },
    {
     "name": "stderr",
     "output_type": "stream",
     "text": [
      "\r",
      "Processing columns:  37%|███▋      | 1938/5273 [08:43<15:59,  3.48it/s]"
     ]
    },
    {
     "name": "stderr",
     "output_type": "stream",
     "text": [
      "\r",
      "Processing columns:  37%|███▋      | 1939/5273 [08:44<14:38,  3.80it/s]"
     ]
    },
    {
     "name": "stderr",
     "output_type": "stream",
     "text": [
      "\r",
      "Processing columns:  37%|███▋      | 1940/5273 [08:44<14:05,  3.94it/s]"
     ]
    },
    {
     "name": "stderr",
     "output_type": "stream",
     "text": [
      "\r",
      "Processing columns:  37%|███▋      | 1941/5273 [08:44<16:13,  3.42it/s]"
     ]
    },
    {
     "name": "stderr",
     "output_type": "stream",
     "text": [
      "\r",
      "Processing columns:  37%|███▋      | 1942/5273 [08:45<16:36,  3.34it/s]"
     ]
    },
    {
     "name": "stderr",
     "output_type": "stream",
     "text": [
      "\r",
      "Processing columns:  37%|███▋      | 1943/5273 [08:45<15:31,  3.58it/s]"
     ]
    },
    {
     "name": "stderr",
     "output_type": "stream",
     "text": [
      "\r",
      "Processing columns:  37%|███▋      | 1944/5273 [08:45<15:16,  3.63it/s]"
     ]
    },
    {
     "name": "stderr",
     "output_type": "stream",
     "text": [
      "\r",
      "Processing columns:  37%|███▋      | 1945/5273 [08:45<15:21,  3.61it/s]"
     ]
    },
    {
     "name": "stderr",
     "output_type": "stream",
     "text": [
      "\r",
      "Processing columns:  37%|███▋      | 1946/5273 [08:46<14:29,  3.83it/s]"
     ]
    },
    {
     "name": "stderr",
     "output_type": "stream",
     "text": [
      "\r",
      "Processing columns:  37%|███▋      | 1947/5273 [08:46<13:56,  3.97it/s]"
     ]
    },
    {
     "name": "stderr",
     "output_type": "stream",
     "text": [
      "\r",
      "Processing columns:  37%|███▋      | 1948/5273 [08:46<14:00,  3.95it/s]"
     ]
    },
    {
     "name": "stderr",
     "output_type": "stream",
     "text": [
      "\r",
      "Processing columns:  37%|███▋      | 1949/5273 [08:46<13:25,  4.13it/s]"
     ]
    },
    {
     "name": "stderr",
     "output_type": "stream",
     "text": [
      "\r",
      "Processing columns:  37%|███▋      | 1950/5273 [08:46<13:14,  4.18it/s]"
     ]
    },
    {
     "name": "stderr",
     "output_type": "stream",
     "text": [
      "\r",
      "Processing columns:  37%|███▋      | 1951/5273 [08:47<17:20,  3.19it/s]"
     ]
    },
    {
     "name": "stderr",
     "output_type": "stream",
     "text": [
      "\r",
      "Processing columns:  37%|███▋      | 1952/5273 [08:47<16:39,  3.32it/s]"
     ]
    },
    {
     "name": "stderr",
     "output_type": "stream",
     "text": [
      "\r",
      "Processing columns:  37%|███▋      | 1953/5273 [08:47<14:58,  3.69it/s]"
     ]
    },
    {
     "name": "stderr",
     "output_type": "stream",
     "text": [
      "\r",
      "Processing columns:  37%|███▋      | 1954/5273 [08:48<14:29,  3.82it/s]"
     ]
    },
    {
     "name": "stderr",
     "output_type": "stream",
     "text": [
      "\r",
      "Processing columns:  37%|███▋      | 1955/5273 [08:48<14:09,  3.91it/s]"
     ]
    },
    {
     "name": "stderr",
     "output_type": "stream",
     "text": [
      "\r",
      "Processing columns:  37%|███▋      | 1956/5273 [08:48<13:57,  3.96it/s]"
     ]
    },
    {
     "name": "stderr",
     "output_type": "stream",
     "text": [
      "\r",
      "Processing columns:  37%|███▋      | 1957/5273 [08:48<14:26,  3.83it/s]"
     ]
    },
    {
     "name": "stderr",
     "output_type": "stream",
     "text": [
      "\r",
      "Processing columns:  37%|███▋      | 1958/5273 [08:49<13:25,  4.11it/s]"
     ]
    },
    {
     "name": "stderr",
     "output_type": "stream",
     "text": [
      "\r",
      "Processing columns:  37%|███▋      | 1959/5273 [08:49<13:42,  4.03it/s]"
     ]
    },
    {
     "name": "stderr",
     "output_type": "stream",
     "text": [
      "\r",
      "Processing columns:  37%|███▋      | 1960/5273 [08:49<13:55,  3.97it/s]"
     ]
    },
    {
     "name": "stderr",
     "output_type": "stream",
     "text": [
      "\r",
      "Processing columns:  37%|███▋      | 1961/5273 [08:49<13:06,  4.21it/s]"
     ]
    },
    {
     "name": "stderr",
     "output_type": "stream",
     "text": [
      "\r",
      "Processing columns:  37%|███▋      | 1962/5273 [08:50<13:52,  3.98it/s]"
     ]
    },
    {
     "name": "stderr",
     "output_type": "stream",
     "text": [
      "\r",
      "Processing columns:  37%|███▋      | 1963/5273 [08:50<13:43,  4.02it/s]"
     ]
    },
    {
     "name": "stderr",
     "output_type": "stream",
     "text": [
      "\r",
      "Processing columns:  37%|███▋      | 1964/5273 [08:50<17:19,  3.18it/s]"
     ]
    },
    {
     "name": "stderr",
     "output_type": "stream",
     "text": [
      "\r",
      "Processing columns:  37%|███▋      | 1965/5273 [08:51<15:57,  3.46it/s]"
     ]
    },
    {
     "name": "stderr",
     "output_type": "stream",
     "text": [
      "\r",
      "Processing columns:  37%|███▋      | 1966/5273 [08:51<15:53,  3.47it/s]"
     ]
    },
    {
     "name": "stderr",
     "output_type": "stream",
     "text": [
      "\r",
      "Processing columns:  37%|███▋      | 1967/5273 [08:51<14:53,  3.70it/s]"
     ]
    },
    {
     "name": "stderr",
     "output_type": "stream",
     "text": [
      "\r",
      "Processing columns:  37%|███▋      | 1968/5273 [08:51<14:00,  3.93it/s]"
     ]
    },
    {
     "name": "stderr",
     "output_type": "stream",
     "text": [
      "\r",
      "Processing columns:  37%|███▋      | 1969/5273 [08:52<14:10,  3.89it/s]"
     ]
    },
    {
     "name": "stderr",
     "output_type": "stream",
     "text": [
      "\r",
      "Processing columns:  37%|███▋      | 1970/5273 [08:52<14:12,  3.87it/s]"
     ]
    },
    {
     "name": "stderr",
     "output_type": "stream",
     "text": [
      "\r",
      "Processing columns:  37%|███▋      | 1971/5273 [08:52<15:01,  3.66it/s]"
     ]
    },
    {
     "name": "stderr",
     "output_type": "stream",
     "text": [
      "\r",
      "Processing columns:  37%|███▋      | 1972/5273 [08:52<14:07,  3.90it/s]"
     ]
    },
    {
     "name": "stderr",
     "output_type": "stream",
     "text": [
      "\r",
      "Processing columns:  37%|███▋      | 1973/5273 [08:53<14:15,  3.86it/s]"
     ]
    },
    {
     "name": "stderr",
     "output_type": "stream",
     "text": [
      "\r",
      "Processing columns:  37%|███▋      | 1974/5273 [08:53<13:33,  4.06it/s]"
     ]
    },
    {
     "name": "stderr",
     "output_type": "stream",
     "text": [
      "\r",
      "Processing columns:  37%|███▋      | 1975/5273 [08:53<13:46,  3.99it/s]"
     ]
    },
    {
     "name": "stderr",
     "output_type": "stream",
     "text": [
      "\r",
      "Processing columns:  37%|███▋      | 1976/5273 [08:53<13:34,  4.05it/s]"
     ]
    },
    {
     "name": "stderr",
     "output_type": "stream",
     "text": [
      "\r",
      "Processing columns:  37%|███▋      | 1977/5273 [08:54<17:35,  3.12it/s]"
     ]
    },
    {
     "name": "stderr",
     "output_type": "stream",
     "text": [
      "\r",
      "Processing columns:  38%|███▊      | 1978/5273 [08:54<15:51,  3.46it/s]"
     ]
    },
    {
     "name": "stderr",
     "output_type": "stream",
     "text": [
      "\r",
      "Processing columns:  38%|███▊      | 1979/5273 [08:54<15:00,  3.66it/s]"
     ]
    },
    {
     "name": "stderr",
     "output_type": "stream",
     "text": [
      "\r",
      "Processing columns:  38%|███▊      | 1980/5273 [08:55<14:12,  3.86it/s]"
     ]
    },
    {
     "name": "stderr",
     "output_type": "stream",
     "text": [
      "\r",
      "Processing columns:  38%|███▊      | 1981/5273 [08:55<13:54,  3.94it/s]"
     ]
    },
    {
     "name": "stderr",
     "output_type": "stream",
     "text": [
      "\r",
      "Processing columns:  38%|███▊      | 1982/5273 [08:55<14:10,  3.87it/s]"
     ]
    },
    {
     "name": "stderr",
     "output_type": "stream",
     "text": [
      "\r",
      "Processing columns:  38%|███▊      | 1983/5273 [08:55<14:42,  3.73it/s]"
     ]
    },
    {
     "name": "stderr",
     "output_type": "stream",
     "text": [
      "\r",
      "Processing columns:  38%|███▊      | 1984/5273 [08:56<14:21,  3.82it/s]"
     ]
    },
    {
     "name": "stderr",
     "output_type": "stream",
     "text": [
      "\r",
      "Processing columns:  38%|███▊      | 1985/5273 [08:56<13:28,  4.07it/s]"
     ]
    },
    {
     "name": "stderr",
     "output_type": "stream",
     "text": [
      "\r",
      "Processing columns:  38%|███▊      | 1986/5273 [08:56<13:27,  4.07it/s]"
     ]
    },
    {
     "name": "stderr",
     "output_type": "stream",
     "text": [
      "\r",
      "Processing columns:  38%|███▊      | 1987/5273 [08:56<13:42,  4.00it/s]"
     ]
    },
    {
     "name": "stderr",
     "output_type": "stream",
     "text": [
      "\r",
      "Processing columns:  38%|███▊      | 1988/5273 [08:57<13:02,  4.20it/s]"
     ]
    },
    {
     "name": "stderr",
     "output_type": "stream",
     "text": [
      "\r",
      "Processing columns:  38%|███▊      | 1989/5273 [08:57<12:59,  4.21it/s]"
     ]
    },
    {
     "name": "stderr",
     "output_type": "stream",
     "text": [
      "\r",
      "Processing columns:  38%|███▊      | 1990/5273 [08:57<16:43,  3.27it/s]"
     ]
    },
    {
     "name": "stderr",
     "output_type": "stream",
     "text": [
      "\r",
      "Processing columns:  38%|███▊      | 1991/5273 [08:57<15:41,  3.48it/s]"
     ]
    },
    {
     "name": "stderr",
     "output_type": "stream",
     "text": [
      "\r",
      "Processing columns:  38%|███▊      | 1992/5273 [08:58<14:43,  3.71it/s]"
     ]
    },
    {
     "name": "stderr",
     "output_type": "stream",
     "text": [
      "\r",
      "Processing columns:  38%|███▊      | 1993/5273 [08:58<15:23,  3.55it/s]"
     ]
    },
    {
     "name": "stderr",
     "output_type": "stream",
     "text": [
      "\r",
      "Processing columns:  38%|███▊      | 1994/5273 [08:58<14:49,  3.69it/s]"
     ]
    },
    {
     "name": "stderr",
     "output_type": "stream",
     "text": [
      "\r",
      "Processing columns:  38%|███▊      | 1995/5273 [08:58<14:20,  3.81it/s]"
     ]
    },
    {
     "name": "stderr",
     "output_type": "stream",
     "text": [
      "\r",
      "Processing columns:  38%|███▊      | 1996/5273 [08:59<14:02,  3.89it/s]"
     ]
    },
    {
     "name": "stderr",
     "output_type": "stream",
     "text": [
      "\r",
      "Processing columns:  38%|███▊      | 1997/5273 [08:59<14:09,  3.86it/s]"
     ]
    },
    {
     "name": "stderr",
     "output_type": "stream",
     "text": [
      "\r",
      "Processing columns:  38%|███▊      | 1998/5273 [08:59<13:35,  4.02it/s]"
     ]
    },
    {
     "name": "stderr",
     "output_type": "stream",
     "text": [
      "\r",
      "Processing columns:  38%|███▊      | 1999/5273 [08:59<13:49,  3.94it/s]"
     ]
    },
    {
     "name": "stderr",
     "output_type": "stream",
     "text": [
      "\r",
      "Processing columns:  38%|███▊      | 2000/5273 [09:00<13:54,  3.92it/s]"
     ]
    },
    {
     "name": "stderr",
     "output_type": "stream",
     "text": [
      "\r",
      "Processing columns:  38%|███▊      | 2001/5273 [09:00<13:24,  4.07it/s]"
     ]
    },
    {
     "name": "stderr",
     "output_type": "stream",
     "text": [
      "\r",
      "Processing columns:  38%|███▊      | 2002/5273 [09:00<14:00,  3.89it/s]"
     ]
    },
    {
     "name": "stderr",
     "output_type": "stream",
     "text": [
      "\r",
      "Processing columns:  38%|███▊      | 2003/5273 [09:01<16:48,  3.24it/s]"
     ]
    },
    {
     "name": "stderr",
     "output_type": "stream",
     "text": [
      "\r",
      "Processing columns:  38%|███▊      | 2004/5273 [09:01<15:44,  3.46it/s]"
     ]
    },
    {
     "name": "stderr",
     "output_type": "stream",
     "text": [
      "\r",
      "Processing columns:  38%|███▊      | 2005/5273 [09:01<15:38,  3.48it/s]"
     ]
    },
    {
     "name": "stderr",
     "output_type": "stream",
     "text": [
      "\r",
      "Processing columns:  38%|███▊      | 2006/5273 [09:01<15:13,  3.58it/s]"
     ]
    },
    {
     "name": "stderr",
     "output_type": "stream",
     "text": [
      "\r",
      "Processing columns:  38%|███▊      | 2007/5273 [09:02<15:09,  3.59it/s]"
     ]
    },
    {
     "name": "stderr",
     "output_type": "stream",
     "text": [
      "\r",
      "Processing columns:  38%|███▊      | 2008/5273 [09:02<14:19,  3.80it/s]"
     ]
    },
    {
     "name": "stderr",
     "output_type": "stream",
     "text": [
      "\r",
      "Processing columns:  38%|███▊      | 2009/5273 [09:02<13:43,  3.97it/s]"
     ]
    },
    {
     "name": "stderr",
     "output_type": "stream",
     "text": [
      "\r",
      "Processing columns:  38%|███▊      | 2010/5273 [09:02<14:06,  3.86it/s]"
     ]
    },
    {
     "name": "stderr",
     "output_type": "stream",
     "text": [
      "\r",
      "Processing columns:  38%|███▊      | 2011/5273 [09:03<14:04,  3.86it/s]"
     ]
    },
    {
     "name": "stderr",
     "output_type": "stream",
     "text": [
      "\r",
      "Processing columns:  38%|███▊      | 2012/5273 [09:03<13:32,  4.01it/s]"
     ]
    },
    {
     "name": "stderr",
     "output_type": "stream",
     "text": [
      "\r",
      "Processing columns:  38%|███▊      | 2013/5273 [09:03<13:10,  4.12it/s]"
     ]
    },
    {
     "name": "stderr",
     "output_type": "stream",
     "text": [
      "\r",
      "Processing columns:  38%|███▊      | 2014/5273 [09:03<14:26,  3.76it/s]"
     ]
    },
    {
     "name": "stderr",
     "output_type": "stream",
     "text": [
      "\r",
      "Processing columns:  38%|███▊      | 2015/5273 [09:04<13:51,  3.92it/s]"
     ]
    },
    {
     "name": "stderr",
     "output_type": "stream",
     "text": [
      "\r",
      "Processing columns:  38%|███▊      | 2016/5273 [09:04<16:23,  3.31it/s]"
     ]
    },
    {
     "name": "stderr",
     "output_type": "stream",
     "text": [
      "\r",
      "Processing columns:  38%|███▊      | 2017/5273 [09:04<15:09,  3.58it/s]"
     ]
    },
    {
     "name": "stderr",
     "output_type": "stream",
     "text": [
      "\r",
      "Processing columns:  38%|███▊      | 2018/5273 [09:05<14:46,  3.67it/s]"
     ]
    },
    {
     "name": "stderr",
     "output_type": "stream",
     "text": [
      "\r",
      "Processing columns:  38%|███▊      | 2019/5273 [09:05<13:59,  3.87it/s]"
     ]
    },
    {
     "name": "stderr",
     "output_type": "stream",
     "text": [
      "\r",
      "Processing columns:  38%|███▊      | 2020/5273 [09:05<13:57,  3.88it/s]"
     ]
    },
    {
     "name": "stderr",
     "output_type": "stream",
     "text": [
      "\r",
      "Processing columns:  38%|███▊      | 2021/5273 [09:05<13:19,  4.07it/s]"
     ]
    },
    {
     "name": "stderr",
     "output_type": "stream",
     "text": [
      "\r",
      "Processing columns:  38%|███▊      | 2022/5273 [09:06<13:13,  4.10it/s]"
     ]
    },
    {
     "name": "stderr",
     "output_type": "stream",
     "text": [
      "\r",
      "Processing columns:  38%|███▊      | 2023/5273 [09:06<13:01,  4.16it/s]"
     ]
    },
    {
     "name": "stderr",
     "output_type": "stream",
     "text": [
      "\r",
      "Processing columns:  38%|███▊      | 2024/5273 [09:06<14:30,  3.73it/s]"
     ]
    },
    {
     "name": "stderr",
     "output_type": "stream",
     "text": [
      "\r",
      "Processing columns:  38%|███▊      | 2025/5273 [09:06<14:06,  3.84it/s]"
     ]
    },
    {
     "name": "stderr",
     "output_type": "stream",
     "text": [
      "\r",
      "Processing columns:  38%|███▊      | 2026/5273 [09:07<13:20,  4.06it/s]"
     ]
    },
    {
     "name": "stderr",
     "output_type": "stream",
     "text": [
      "\r",
      "Processing columns:  38%|███▊      | 2027/5273 [09:07<15:13,  3.55it/s]"
     ]
    },
    {
     "name": "stderr",
     "output_type": "stream",
     "text": [
      "\r",
      "Processing columns:  38%|███▊      | 2028/5273 [09:07<14:56,  3.62it/s]"
     ]
    },
    {
     "name": "stderr",
     "output_type": "stream",
     "text": [
      "\r",
      "Processing columns:  38%|███▊      | 2029/5273 [09:07<13:49,  3.91it/s]"
     ]
    },
    {
     "name": "stderr",
     "output_type": "stream",
     "text": [
      "\r",
      "Processing columns:  38%|███▊      | 2030/5273 [09:08<18:36,  2.91it/s]"
     ]
    },
    {
     "name": "stderr",
     "output_type": "stream",
     "text": [
      "\r",
      "Processing columns:  39%|███▊      | 2031/5273 [09:08<16:53,  3.20it/s]"
     ]
    },
    {
     "name": "stderr",
     "output_type": "stream",
     "text": [
      "\r",
      "Processing columns:  39%|███▊      | 2032/5273 [09:08<15:34,  3.47it/s]"
     ]
    },
    {
     "name": "stderr",
     "output_type": "stream",
     "text": [
      "\r",
      "Processing columns:  39%|███▊      | 2033/5273 [09:09<15:56,  3.39it/s]"
     ]
    },
    {
     "name": "stderr",
     "output_type": "stream",
     "text": [
      "\r",
      "Processing columns:  39%|███▊      | 2034/5273 [09:09<16:03,  3.36it/s]"
     ]
    },
    {
     "name": "stderr",
     "output_type": "stream",
     "text": [
      "\r",
      "Processing columns:  39%|███▊      | 2035/5273 [09:09<15:46,  3.42it/s]"
     ]
    },
    {
     "name": "stderr",
     "output_type": "stream",
     "text": [
      "\r",
      "Processing columns:  39%|███▊      | 2036/5273 [09:10<14:32,  3.71it/s]"
     ]
    },
    {
     "name": "stderr",
     "output_type": "stream",
     "text": [
      "\r",
      "Processing columns:  39%|███▊      | 2037/5273 [09:10<14:02,  3.84it/s]"
     ]
    },
    {
     "name": "stderr",
     "output_type": "stream",
     "text": [
      "\r",
      "Processing columns:  39%|███▊      | 2038/5273 [09:10<13:06,  4.12it/s]"
     ]
    },
    {
     "name": "stderr",
     "output_type": "stream",
     "text": [
      "\r",
      "Processing columns:  39%|███▊      | 2039/5273 [09:10<12:49,  4.20it/s]"
     ]
    },
    {
     "name": "stderr",
     "output_type": "stream",
     "text": [
      "\r",
      "Processing columns:  39%|███▊      | 2040/5273 [09:11<15:24,  3.50it/s]"
     ]
    },
    {
     "name": "stderr",
     "output_type": "stream",
     "text": [
      "\r",
      "Processing columns:  39%|███▊      | 2041/5273 [09:11<14:00,  3.85it/s]"
     ]
    },
    {
     "name": "stderr",
     "output_type": "stream",
     "text": [
      "\r",
      "Processing columns:  39%|███▊      | 2042/5273 [09:11<13:39,  3.94it/s]"
     ]
    },
    {
     "name": "stderr",
     "output_type": "stream",
     "text": [
      "\r",
      "Processing columns:  39%|███▊      | 2043/5273 [09:12<17:17,  3.11it/s]"
     ]
    },
    {
     "name": "stderr",
     "output_type": "stream",
     "text": [
      "\r",
      "Processing columns:  39%|███▉      | 2044/5273 [09:12<16:01,  3.36it/s]"
     ]
    },
    {
     "name": "stderr",
     "output_type": "stream",
     "text": [
      "\r",
      "Processing columns:  39%|███▉      | 2045/5273 [09:12<14:32,  3.70it/s]"
     ]
    },
    {
     "name": "stderr",
     "output_type": "stream",
     "text": [
      "\r",
      "Processing columns:  39%|███▉      | 2046/5273 [09:12<15:05,  3.56it/s]"
     ]
    },
    {
     "name": "stderr",
     "output_type": "stream",
     "text": [
      "\r",
      "Processing columns:  39%|███▉      | 2047/5273 [09:13<14:49,  3.63it/s]"
     ]
    },
    {
     "name": "stderr",
     "output_type": "stream",
     "text": [
      "\r",
      "Processing columns:  39%|███▉      | 2048/5273 [09:13<13:35,  3.95it/s]"
     ]
    },
    {
     "name": "stderr",
     "output_type": "stream",
     "text": [
      "\r",
      "Processing columns:  39%|███▉      | 2049/5273 [09:13<13:04,  4.11it/s]"
     ]
    },
    {
     "name": "stderr",
     "output_type": "stream",
     "text": [
      "\r",
      "Processing columns:  39%|███▉      | 2050/5273 [09:13<12:56,  4.15it/s]"
     ]
    },
    {
     "name": "stderr",
     "output_type": "stream",
     "text": [
      "\r",
      "Processing columns:  39%|███▉      | 2051/5273 [09:13<12:54,  4.16it/s]"
     ]
    },
    {
     "name": "stderr",
     "output_type": "stream",
     "text": [
      "\r",
      "Processing columns:  39%|███▉      | 2052/5273 [09:14<13:08,  4.08it/s]"
     ]
    },
    {
     "name": "stderr",
     "output_type": "stream",
     "text": [
      "\r",
      "Processing columns:  39%|███▉      | 2053/5273 [09:14<13:12,  4.06it/s]"
     ]
    },
    {
     "name": "stderr",
     "output_type": "stream",
     "text": [
      "\r",
      "Processing columns:  39%|███▉      | 2054/5273 [09:14<13:03,  4.11it/s]"
     ]
    },
    {
     "name": "stderr",
     "output_type": "stream",
     "text": [
      "\r",
      "Processing columns:  39%|███▉      | 2055/5273 [09:14<12:59,  4.13it/s]"
     ]
    },
    {
     "name": "stderr",
     "output_type": "stream",
     "text": [
      "\r",
      "Processing columns:  39%|███▉      | 2056/5273 [09:15<16:43,  3.21it/s]"
     ]
    },
    {
     "name": "stderr",
     "output_type": "stream",
     "text": [
      "\r",
      "Processing columns:  39%|███▉      | 2057/5273 [09:15<15:44,  3.40it/s]"
     ]
    },
    {
     "name": "stderr",
     "output_type": "stream",
     "text": [
      "\r",
      "Processing columns:  39%|███▉      | 2058/5273 [09:15<14:38,  3.66it/s]"
     ]
    },
    {
     "name": "stderr",
     "output_type": "stream",
     "text": [
      "\r",
      "Processing columns:  39%|███▉      | 2059/5273 [09:16<14:21,  3.73it/s]"
     ]
    },
    {
     "name": "stderr",
     "output_type": "stream",
     "text": [
      "\r",
      "Processing columns:  39%|███▉      | 2060/5273 [09:16<14:14,  3.76it/s]"
     ]
    },
    {
     "name": "stderr",
     "output_type": "stream",
     "text": [
      "\r",
      "Processing columns:  39%|███▉      | 2061/5273 [09:16<13:31,  3.96it/s]"
     ]
    },
    {
     "name": "stderr",
     "output_type": "stream",
     "text": [
      "\r",
      "Processing columns:  39%|███▉      | 2062/5273 [09:16<14:34,  3.67it/s]"
     ]
    },
    {
     "name": "stderr",
     "output_type": "stream",
     "text": [
      "\r",
      "Processing columns:  39%|███▉      | 2063/5273 [09:17<13:40,  3.91it/s]"
     ]
    },
    {
     "name": "stderr",
     "output_type": "stream",
     "text": [
      "\r",
      "Processing columns:  39%|███▉      | 2064/5273 [09:17<13:36,  3.93it/s]"
     ]
    },
    {
     "name": "stderr",
     "output_type": "stream",
     "text": [
      "\r",
      "Processing columns:  39%|███▉      | 2065/5273 [09:17<12:57,  4.13it/s]"
     ]
    },
    {
     "name": "stderr",
     "output_type": "stream",
     "text": [
      "\r",
      "Processing columns:  39%|███▉      | 2066/5273 [09:17<13:00,  4.11it/s]"
     ]
    },
    {
     "name": "stderr",
     "output_type": "stream",
     "text": [
      "\r",
      "Processing columns:  39%|███▉      | 2067/5273 [09:18<13:32,  3.95it/s]"
     ]
    },
    {
     "name": "stderr",
     "output_type": "stream",
     "text": [
      "\r",
      "Processing columns:  39%|███▉      | 2068/5273 [09:18<13:22,  4.00it/s]"
     ]
    },
    {
     "name": "stderr",
     "output_type": "stream",
     "text": [
      "\r",
      "Processing columns:  39%|███▉      | 2069/5273 [09:18<16:57,  3.15it/s]"
     ]
    },
    {
     "name": "stderr",
     "output_type": "stream",
     "text": [
      "\r",
      "Processing columns:  39%|███▉      | 2070/5273 [09:19<15:23,  3.47it/s]"
     ]
    },
    {
     "name": "stderr",
     "output_type": "stream",
     "text": [
      "\r",
      "Processing columns:  39%|███▉      | 2071/5273 [09:19<15:39,  3.41it/s]"
     ]
    },
    {
     "name": "stderr",
     "output_type": "stream",
     "text": [
      "\r",
      "Processing columns:  39%|███▉      | 2072/5273 [09:19<14:42,  3.63it/s]"
     ]
    },
    {
     "name": "stderr",
     "output_type": "stream",
     "text": [
      "\r",
      "Processing columns:  39%|███▉      | 2073/5273 [09:19<14:46,  3.61it/s]"
     ]
    },
    {
     "name": "stderr",
     "output_type": "stream",
     "text": [
      "\r",
      "Processing columns:  39%|███▉      | 2074/5273 [09:20<13:35,  3.92it/s]"
     ]
    },
    {
     "name": "stderr",
     "output_type": "stream",
     "text": [
      "\r",
      "Processing columns:  39%|███▉      | 2075/5273 [09:20<13:23,  3.98it/s]"
     ]
    },
    {
     "name": "stderr",
     "output_type": "stream",
     "text": [
      "\r",
      "Processing columns:  39%|███▉      | 2076/5273 [09:20<13:09,  4.05it/s]"
     ]
    },
    {
     "name": "stderr",
     "output_type": "stream",
     "text": [
      "\r",
      "Processing columns:  39%|███▉      | 2077/5273 [09:20<13:41,  3.89it/s]"
     ]
    },
    {
     "name": "stderr",
     "output_type": "stream",
     "text": [
      "\r",
      "Processing columns:  39%|███▉      | 2078/5273 [09:21<12:50,  4.15it/s]"
     ]
    },
    {
     "name": "stderr",
     "output_type": "stream",
     "text": [
      "\r",
      "Processing columns:  39%|███▉      | 2079/5273 [09:21<13:00,  4.09it/s]"
     ]
    },
    {
     "name": "stderr",
     "output_type": "stream",
     "text": [
      "\r",
      "Processing columns:  39%|███▉      | 2080/5273 [09:21<13:00,  4.09it/s]"
     ]
    },
    {
     "name": "stderr",
     "output_type": "stream",
     "text": [
      "\r",
      "Processing columns:  39%|███▉      | 2081/5273 [09:21<15:27,  3.44it/s]"
     ]
    },
    {
     "name": "stderr",
     "output_type": "stream",
     "text": [
      "\r",
      "Processing columns:  39%|███▉      | 2082/5273 [09:22<19:00,  2.80it/s]"
     ]
    },
    {
     "name": "stderr",
     "output_type": "stream",
     "text": [
      "\r",
      "Processing columns:  40%|███▉      | 2083/5273 [09:22<16:31,  3.22it/s]"
     ]
    },
    {
     "name": "stderr",
     "output_type": "stream",
     "text": [
      "\r",
      "Processing columns:  40%|███▉      | 2084/5273 [09:22<16:00,  3.32it/s]"
     ]
    },
    {
     "name": "stderr",
     "output_type": "stream",
     "text": [
      "\r",
      "Processing columns:  40%|███▉      | 2085/5273 [09:23<16:11,  3.28it/s]"
     ]
    },
    {
     "name": "stderr",
     "output_type": "stream",
     "text": [
      "\r",
      "Processing columns:  40%|███▉      | 2086/5273 [09:23<15:27,  3.44it/s]"
     ]
    },
    {
     "name": "stderr",
     "output_type": "stream",
     "text": [
      "\r",
      "Processing columns:  40%|███▉      | 2087/5273 [09:23<14:14,  3.73it/s]"
     ]
    },
    {
     "name": "stderr",
     "output_type": "stream",
     "text": [
      "\r",
      "Processing columns:  40%|███▉      | 2088/5273 [09:23<13:49,  3.84it/s]"
     ]
    },
    {
     "name": "stderr",
     "output_type": "stream",
     "text": [
      "\r",
      "Processing columns:  40%|███▉      | 2089/5273 [09:24<13:27,  3.94it/s]"
     ]
    },
    {
     "name": "stderr",
     "output_type": "stream",
     "text": [
      "\r",
      "Processing columns:  40%|███▉      | 2090/5273 [09:24<12:59,  4.08it/s]"
     ]
    },
    {
     "name": "stderr",
     "output_type": "stream",
     "text": [
      "\r",
      "Processing columns:  40%|███▉      | 2091/5273 [09:24<14:14,  3.72it/s]"
     ]
    },
    {
     "name": "stderr",
     "output_type": "stream",
     "text": [
      "\r",
      "Processing columns:  40%|███▉      | 2092/5273 [09:25<15:06,  3.51it/s]"
     ]
    },
    {
     "name": "stderr",
     "output_type": "stream",
     "text": [
      "\r",
      "Processing columns:  40%|███▉      | 2093/5273 [09:25<14:48,  3.58it/s]"
     ]
    },
    {
     "name": "stderr",
     "output_type": "stream",
     "text": [
      "\r",
      "Processing columns:  40%|███▉      | 2094/5273 [09:25<13:51,  3.82it/s]"
     ]
    },
    {
     "name": "stderr",
     "output_type": "stream",
     "text": [
      "\r",
      "Processing columns:  40%|███▉      | 2095/5273 [09:26<17:46,  2.98it/s]"
     ]
    },
    {
     "name": "stderr",
     "output_type": "stream",
     "text": [
      "\r",
      "Processing columns:  40%|███▉      | 2096/5273 [09:26<17:34,  3.01it/s]"
     ]
    },
    {
     "name": "stderr",
     "output_type": "stream",
     "text": [
      "\r",
      "Processing columns:  40%|███▉      | 2097/5273 [09:26<16:18,  3.24it/s]"
     ]
    },
    {
     "name": "stderr",
     "output_type": "stream",
     "text": [
      "\r",
      "Processing columns:  40%|███▉      | 2098/5273 [09:26<15:05,  3.51it/s]"
     ]
    },
    {
     "name": "stderr",
     "output_type": "stream",
     "text": [
      "\r",
      "Processing columns:  40%|███▉      | 2099/5273 [09:27<13:59,  3.78it/s]"
     ]
    },
    {
     "name": "stderr",
     "output_type": "stream",
     "text": [
      "\r",
      "Processing columns:  40%|███▉      | 2100/5273 [09:27<15:33,  3.40it/s]"
     ]
    },
    {
     "name": "stderr",
     "output_type": "stream",
     "text": [
      "\r",
      "Processing columns:  40%|███▉      | 2101/5273 [09:27<15:05,  3.50it/s]"
     ]
    },
    {
     "name": "stderr",
     "output_type": "stream",
     "text": [
      "\r",
      "Processing columns:  40%|███▉      | 2102/5273 [09:27<14:11,  3.72it/s]"
     ]
    },
    {
     "name": "stderr",
     "output_type": "stream",
     "text": [
      "\r",
      "Processing columns:  40%|███▉      | 2103/5273 [09:28<13:06,  4.03it/s]"
     ]
    },
    {
     "name": "stderr",
     "output_type": "stream",
     "text": [
      "\r",
      "Processing columns:  40%|███▉      | 2104/5273 [09:28<13:23,  3.94it/s]"
     ]
    },
    {
     "name": "stderr",
     "output_type": "stream",
     "text": [
      "\r",
      "Processing columns:  40%|███▉      | 2105/5273 [09:28<13:10,  4.01it/s]"
     ]
    },
    {
     "name": "stderr",
     "output_type": "stream",
     "text": [
      "\r",
      "Processing columns:  40%|███▉      | 2106/5273 [09:28<12:59,  4.06it/s]"
     ]
    },
    {
     "name": "stderr",
     "output_type": "stream",
     "text": [
      "\r",
      "Processing columns:  40%|███▉      | 2107/5273 [09:29<12:54,  4.09it/s]"
     ]
    },
    {
     "name": "stderr",
     "output_type": "stream",
     "text": [
      "\r",
      "Processing columns:  40%|███▉      | 2108/5273 [09:29<15:59,  3.30it/s]"
     ]
    },
    {
     "name": "stderr",
     "output_type": "stream",
     "text": [
      "\r",
      "Processing columns:  40%|███▉      | 2109/5273 [09:29<14:51,  3.55it/s]"
     ]
    },
    {
     "name": "stderr",
     "output_type": "stream",
     "text": [
      "\r",
      "Processing columns:  40%|████      | 2110/5273 [09:30<14:02,  3.75it/s]"
     ]
    },
    {
     "name": "stderr",
     "output_type": "stream",
     "text": [
      "\r",
      "Processing columns:  40%|████      | 2111/5273 [09:30<14:11,  3.71it/s]"
     ]
    },
    {
     "name": "stderr",
     "output_type": "stream",
     "text": [
      "\r",
      "Processing columns:  40%|████      | 2112/5273 [09:30<14:03,  3.75it/s]"
     ]
    },
    {
     "name": "stderr",
     "output_type": "stream",
     "text": [
      "\r",
      "Processing columns:  40%|████      | 2113/5273 [09:30<14:02,  3.75it/s]"
     ]
    },
    {
     "name": "stderr",
     "output_type": "stream",
     "text": [
      "\r",
      "Processing columns:  40%|████      | 2114/5273 [09:31<13:34,  3.88it/s]"
     ]
    },
    {
     "name": "stderr",
     "output_type": "stream",
     "text": [
      "\r",
      "Processing columns:  40%|████      | 2115/5273 [09:31<13:15,  3.97it/s]"
     ]
    },
    {
     "name": "stderr",
     "output_type": "stream",
     "text": [
      "\r",
      "Processing columns:  40%|████      | 2116/5273 [09:31<13:00,  4.04it/s]"
     ]
    },
    {
     "name": "stderr",
     "output_type": "stream",
     "text": [
      "\r",
      "Processing columns:  40%|████      | 2117/5273 [09:31<13:19,  3.95it/s]"
     ]
    },
    {
     "name": "stderr",
     "output_type": "stream",
     "text": [
      "\r",
      "Processing columns:  40%|████      | 2118/5273 [09:32<13:09,  3.99it/s]"
     ]
    },
    {
     "name": "stderr",
     "output_type": "stream",
     "text": [
      "\r",
      "Processing columns:  40%|████      | 2119/5273 [09:32<12:30,  4.20it/s]"
     ]
    },
    {
     "name": "stderr",
     "output_type": "stream",
     "text": [
      "\r",
      "Processing columns:  40%|████      | 2120/5273 [09:32<13:14,  3.97it/s]"
     ]
    },
    {
     "name": "stderr",
     "output_type": "stream",
     "text": [
      "\r",
      "Processing columns:  40%|████      | 2121/5273 [09:33<16:25,  3.20it/s]"
     ]
    },
    {
     "name": "stderr",
     "output_type": "stream",
     "text": [
      "\r",
      "Processing columns:  40%|████      | 2122/5273 [09:33<14:58,  3.51it/s]"
     ]
    },
    {
     "name": "stderr",
     "output_type": "stream",
     "text": [
      "\r",
      "Processing columns:  40%|████      | 2123/5273 [09:33<14:43,  3.57it/s]"
     ]
    },
    {
     "name": "stderr",
     "output_type": "stream",
     "text": [
      "\r",
      "Processing columns:  40%|████      | 2124/5273 [09:33<14:25,  3.64it/s]"
     ]
    },
    {
     "name": "stderr",
     "output_type": "stream",
     "text": [
      "\r",
      "Processing columns:  40%|████      | 2125/5273 [09:33<13:23,  3.92it/s]"
     ]
    },
    {
     "name": "stderr",
     "output_type": "stream",
     "text": [
      "\r",
      "Processing columns:  40%|████      | 2126/5273 [09:34<13:07,  3.99it/s]"
     ]
    },
    {
     "name": "stderr",
     "output_type": "stream",
     "text": [
      "\r",
      "Processing columns:  40%|████      | 2127/5273 [09:34<14:43,  3.56it/s]"
     ]
    },
    {
     "name": "stderr",
     "output_type": "stream",
     "text": [
      "\r",
      "Processing columns:  40%|████      | 2128/5273 [09:34<14:19,  3.66it/s]"
     ]
    },
    {
     "name": "stderr",
     "output_type": "stream",
     "text": [
      "\r",
      "Processing columns:  40%|████      | 2129/5273 [09:35<14:10,  3.70it/s]"
     ]
    },
    {
     "name": "stderr",
     "output_type": "stream",
     "text": [
      "\r",
      "Processing columns:  40%|████      | 2130/5273 [09:35<14:31,  3.61it/s]"
     ]
    },
    {
     "name": "stderr",
     "output_type": "stream",
     "text": [
      "\r",
      "Processing columns:  40%|████      | 2131/5273 [09:35<14:13,  3.68it/s]"
     ]
    },
    {
     "name": "stderr",
     "output_type": "stream",
     "text": [
      "\r",
      "Processing columns:  40%|████      | 2132/5273 [09:35<13:48,  3.79it/s]"
     ]
    },
    {
     "name": "stderr",
     "output_type": "stream",
     "text": [
      "\r",
      "Processing columns:  40%|████      | 2133/5273 [09:36<13:49,  3.78it/s]"
     ]
    },
    {
     "name": "stderr",
     "output_type": "stream",
     "text": [
      "\r",
      "Processing columns:  40%|████      | 2134/5273 [09:36<13:13,  3.95it/s]"
     ]
    },
    {
     "name": "stderr",
     "output_type": "stream",
     "text": [
      "\r",
      "Processing columns:  40%|████      | 2135/5273 [09:36<16:28,  3.17it/s]"
     ]
    },
    {
     "name": "stderr",
     "output_type": "stream",
     "text": [
      "\r",
      "Processing columns:  41%|████      | 2136/5273 [09:37<15:32,  3.36it/s]"
     ]
    },
    {
     "name": "stderr",
     "output_type": "stream",
     "text": [
      "\r",
      "Processing columns:  41%|████      | 2137/5273 [09:37<14:29,  3.61it/s]"
     ]
    },
    {
     "name": "stderr",
     "output_type": "stream",
     "text": [
      "\r",
      "Processing columns:  41%|████      | 2138/5273 [09:37<13:45,  3.80it/s]"
     ]
    },
    {
     "name": "stderr",
     "output_type": "stream",
     "text": [
      "\r",
      "Processing columns:  41%|████      | 2139/5273 [09:37<12:59,  4.02it/s]"
     ]
    },
    {
     "name": "stderr",
     "output_type": "stream",
     "text": [
      "\r",
      "Processing columns:  41%|████      | 2140/5273 [09:38<12:51,  4.06it/s]"
     ]
    },
    {
     "name": "stderr",
     "output_type": "stream",
     "text": [
      "\r",
      "Processing columns:  41%|████      | 2141/5273 [09:38<13:26,  3.88it/s]"
     ]
    },
    {
     "name": "stderr",
     "output_type": "stream",
     "text": [
      "\r",
      "Processing columns:  41%|████      | 2142/5273 [09:38<12:41,  4.11it/s]"
     ]
    },
    {
     "name": "stderr",
     "output_type": "stream",
     "text": [
      "\r",
      "Processing columns:  41%|████      | 2143/5273 [09:38<12:04,  4.32it/s]"
     ]
    },
    {
     "name": "stderr",
     "output_type": "stream",
     "text": [
      "\r",
      "Processing columns:  41%|████      | 2144/5273 [09:38<12:41,  4.11it/s]"
     ]
    },
    {
     "name": "stderr",
     "output_type": "stream",
     "text": [
      "\r",
      "Processing columns:  41%|████      | 2145/5273 [09:39<14:34,  3.58it/s]"
     ]
    },
    {
     "name": "stderr",
     "output_type": "stream",
     "text": [
      "\r",
      "Processing columns:  41%|████      | 2146/5273 [09:39<13:40,  3.81it/s]"
     ]
    },
    {
     "name": "stderr",
     "output_type": "stream",
     "text": [
      "\r",
      "Processing columns:  41%|████      | 2147/5273 [09:39<14:15,  3.65it/s]"
     ]
    },
    {
     "name": "stderr",
     "output_type": "stream",
     "text": [
      "\r",
      "Processing columns:  41%|████      | 2148/5273 [09:40<17:00,  3.06it/s]"
     ]
    },
    {
     "name": "stderr",
     "output_type": "stream",
     "text": [
      "\r",
      "Processing columns:  41%|████      | 2149/5273 [09:40<15:26,  3.37it/s]"
     ]
    },
    {
     "name": "stderr",
     "output_type": "stream",
     "text": [
      "\r",
      "Processing columns:  41%|████      | 2150/5273 [09:40<14:25,  3.61it/s]"
     ]
    },
    {
     "name": "stderr",
     "output_type": "stream",
     "text": [
      "\r",
      "Processing columns:  41%|████      | 2151/5273 [09:41<15:56,  3.26it/s]"
     ]
    },
    {
     "name": "stderr",
     "output_type": "stream",
     "text": [
      "\r",
      "Processing columns:  41%|████      | 2152/5273 [09:41<15:08,  3.44it/s]"
     ]
    },
    {
     "name": "stderr",
     "output_type": "stream",
     "text": [
      "\r",
      "Processing columns:  41%|████      | 2153/5273 [09:41<13:44,  3.78it/s]"
     ]
    },
    {
     "name": "stderr",
     "output_type": "stream",
     "text": [
      "\r",
      "Processing columns:  41%|████      | 2154/5273 [09:41<13:34,  3.83it/s]"
     ]
    },
    {
     "name": "stderr",
     "output_type": "stream",
     "text": [
      "\r",
      "Processing columns:  41%|████      | 2155/5273 [09:42<13:13,  3.93it/s]"
     ]
    },
    {
     "name": "stderr",
     "output_type": "stream",
     "text": [
      "\r",
      "Processing columns:  41%|████      | 2156/5273 [09:42<13:45,  3.78it/s]"
     ]
    },
    {
     "name": "stderr",
     "output_type": "stream",
     "text": [
      "\r",
      "Processing columns:  41%|████      | 2157/5273 [09:42<12:47,  4.06it/s]"
     ]
    },
    {
     "name": "stderr",
     "output_type": "stream",
     "text": [
      "\r",
      "Processing columns:  41%|████      | 2158/5273 [09:42<13:11,  3.94it/s]"
     ]
    },
    {
     "name": "stderr",
     "output_type": "stream",
     "text": [
      "\r",
      "Processing columns:  41%|████      | 2159/5273 [09:43<12:19,  4.21it/s]"
     ]
    },
    {
     "name": "stderr",
     "output_type": "stream",
     "text": [
      "\r",
      "Processing columns:  41%|████      | 2160/5273 [09:43<13:54,  3.73it/s]"
     ]
    },
    {
     "name": "stderr",
     "output_type": "stream",
     "text": [
      "\r",
      "Processing columns:  41%|████      | 2161/5273 [09:43<16:54,  3.07it/s]"
     ]
    },
    {
     "name": "stderr",
     "output_type": "stream",
     "text": [
      "\r",
      "Processing columns:  41%|████      | 2162/5273 [09:44<15:39,  3.31it/s]"
     ]
    },
    {
     "name": "stderr",
     "output_type": "stream",
     "text": [
      "\r",
      "Processing columns:  41%|████      | 2163/5273 [09:44<14:56,  3.47it/s]"
     ]
    },
    {
     "name": "stderr",
     "output_type": "stream",
     "text": [
      "\r",
      "Processing columns:  41%|████      | 2164/5273 [09:44<13:39,  3.79it/s]"
     ]
    },
    {
     "name": "stderr",
     "output_type": "stream",
     "text": [
      "\r",
      "Processing columns:  41%|████      | 2165/5273 [09:44<15:05,  3.43it/s]"
     ]
    },
    {
     "name": "stderr",
     "output_type": "stream",
     "text": [
      "\r",
      "Processing columns:  41%|████      | 2166/5273 [09:45<13:58,  3.70it/s]"
     ]
    },
    {
     "name": "stderr",
     "output_type": "stream",
     "text": [
      "\r",
      "Processing columns:  41%|████      | 2167/5273 [09:45<14:53,  3.48it/s]"
     ]
    },
    {
     "name": "stderr",
     "output_type": "stream",
     "text": [
      "\r",
      "Processing columns:  41%|████      | 2168/5273 [09:45<14:03,  3.68it/s]"
     ]
    },
    {
     "name": "stderr",
     "output_type": "stream",
     "text": [
      "\r",
      "Processing columns:  41%|████      | 2169/5273 [09:45<12:55,  4.00it/s]"
     ]
    },
    {
     "name": "stderr",
     "output_type": "stream",
     "text": [
      "\r",
      "Processing columns:  41%|████      | 2170/5273 [09:46<12:18,  4.20it/s]"
     ]
    },
    {
     "name": "stderr",
     "output_type": "stream",
     "text": [
      "\r",
      "Processing columns:  41%|████      | 2171/5273 [09:46<15:05,  3.42it/s]"
     ]
    },
    {
     "name": "stderr",
     "output_type": "stream",
     "text": [
      "\r",
      "Processing columns:  41%|████      | 2172/5273 [09:46<13:43,  3.77it/s]"
     ]
    },
    {
     "name": "stderr",
     "output_type": "stream",
     "text": [
      "\r",
      "Processing columns:  41%|████      | 2173/5273 [09:46<13:18,  3.88it/s]"
     ]
    },
    {
     "name": "stderr",
     "output_type": "stream",
     "text": [
      "\r",
      "Processing columns:  41%|████      | 2174/5273 [09:47<17:55,  2.88it/s]"
     ]
    },
    {
     "name": "stderr",
     "output_type": "stream",
     "text": [
      "\r",
      "Processing columns:  41%|████      | 2175/5273 [09:47<16:19,  3.16it/s]"
     ]
    },
    {
     "name": "stderr",
     "output_type": "stream",
     "text": [
      "\r",
      "Processing columns:  41%|████▏     | 2176/5273 [09:48<16:22,  3.15it/s]"
     ]
    },
    {
     "name": "stderr",
     "output_type": "stream",
     "text": [
      "\r",
      "Processing columns:  41%|████▏     | 2177/5273 [09:48<15:03,  3.43it/s]"
     ]
    },
    {
     "name": "stderr",
     "output_type": "stream",
     "text": [
      "\r",
      "Processing columns:  41%|████▏     | 2178/5273 [09:48<16:03,  3.21it/s]"
     ]
    },
    {
     "name": "stderr",
     "output_type": "stream",
     "text": [
      "\r",
      "Processing columns:  41%|████▏     | 2179/5273 [09:48<14:53,  3.46it/s]"
     ]
    },
    {
     "name": "stderr",
     "output_type": "stream",
     "text": [
      "\r",
      "Processing columns:  41%|████▏     | 2180/5273 [09:49<13:36,  3.79it/s]"
     ]
    },
    {
     "name": "stderr",
     "output_type": "stream",
     "text": [
      "\r",
      "Processing columns:  41%|████▏     | 2181/5273 [09:49<12:53,  4.00it/s]"
     ]
    },
    {
     "name": "stderr",
     "output_type": "stream",
     "text": [
      "\r",
      "Processing columns:  41%|████▏     | 2182/5273 [09:49<15:36,  3.30it/s]"
     ]
    },
    {
     "name": "stderr",
     "output_type": "stream",
     "text": [
      "\r",
      "Processing columns:  41%|████▏     | 2183/5273 [09:50<14:49,  3.47it/s]"
     ]
    },
    {
     "name": "stderr",
     "output_type": "stream",
     "text": [
      "\r",
      "Processing columns:  41%|████▏     | 2184/5273 [09:50<13:56,  3.69it/s]"
     ]
    },
    {
     "name": "stderr",
     "output_type": "stream",
     "text": [
      "\r",
      "Processing columns:  41%|████▏     | 2185/5273 [09:50<13:09,  3.91it/s]"
     ]
    },
    {
     "name": "stderr",
     "output_type": "stream",
     "text": [
      "\r",
      "Processing columns:  41%|████▏     | 2186/5273 [09:50<13:30,  3.81it/s]"
     ]
    },
    {
     "name": "stderr",
     "output_type": "stream",
     "text": [
      "\r",
      "Processing columns:  41%|████▏     | 2187/5273 [09:51<17:13,  2.99it/s]"
     ]
    },
    {
     "name": "stderr",
     "output_type": "stream",
     "text": [
      "\r",
      "Processing columns:  41%|████▏     | 2188/5273 [09:51<15:46,  3.26it/s]"
     ]
    },
    {
     "name": "stderr",
     "output_type": "stream",
     "text": [
      "\r",
      "Processing columns:  42%|████▏     | 2189/5273 [09:51<14:16,  3.60it/s]"
     ]
    },
    {
     "name": "stderr",
     "output_type": "stream",
     "text": [
      "\r",
      "Processing columns:  42%|████▏     | 2190/5273 [09:51<13:58,  3.68it/s]"
     ]
    },
    {
     "name": "stderr",
     "output_type": "stream",
     "text": [
      "\r",
      "Processing columns:  42%|████▏     | 2191/5273 [09:52<13:32,  3.79it/s]"
     ]
    },
    {
     "name": "stderr",
     "output_type": "stream",
     "text": [
      "\r",
      "Processing columns:  42%|████▏     | 2192/5273 [09:52<13:10,  3.90it/s]"
     ]
    },
    {
     "name": "stderr",
     "output_type": "stream",
     "text": [
      "\r",
      "Processing columns:  42%|████▏     | 2193/5273 [09:52<12:53,  3.98it/s]"
     ]
    },
    {
     "name": "stderr",
     "output_type": "stream",
     "text": [
      "\r",
      "Processing columns:  42%|████▏     | 2194/5273 [09:53<14:07,  3.63it/s]"
     ]
    },
    {
     "name": "stderr",
     "output_type": "stream",
     "text": [
      "\r",
      "Processing columns:  42%|████▏     | 2195/5273 [09:53<13:30,  3.80it/s]"
     ]
    },
    {
     "name": "stderr",
     "output_type": "stream",
     "text": [
      "\r",
      "Processing columns:  42%|████▏     | 2196/5273 [09:53<12:59,  3.95it/s]"
     ]
    },
    {
     "name": "stderr",
     "output_type": "stream",
     "text": [
      "\r",
      "Processing columns:  42%|████▏     | 2197/5273 [09:53<13:17,  3.86it/s]"
     ]
    },
    {
     "name": "stderr",
     "output_type": "stream",
     "text": [
      "\r",
      "Processing columns:  42%|████▏     | 2198/5273 [09:54<13:10,  3.89it/s]"
     ]
    },
    {
     "name": "stderr",
     "output_type": "stream",
     "text": [
      "\r",
      "Processing columns:  42%|████▏     | 2199/5273 [09:54<12:35,  4.07it/s]"
     ]
    },
    {
     "name": "stderr",
     "output_type": "stream",
     "text": [
      "\r",
      "Processing columns:  42%|████▏     | 2200/5273 [09:54<15:56,  3.21it/s]"
     ]
    },
    {
     "name": "stderr",
     "output_type": "stream",
     "text": [
      "\r",
      "Processing columns:  42%|████▏     | 2201/5273 [09:54<15:31,  3.30it/s]"
     ]
    },
    {
     "name": "stderr",
     "output_type": "stream",
     "text": [
      "\r",
      "Processing columns:  42%|████▏     | 2202/5273 [09:55<14:22,  3.56it/s]"
     ]
    },
    {
     "name": "stderr",
     "output_type": "stream",
     "text": [
      "\r",
      "Processing columns:  42%|████▏     | 2203/5273 [09:55<13:34,  3.77it/s]"
     ]
    },
    {
     "name": "stderr",
     "output_type": "stream",
     "text": [
      "\r",
      "Processing columns:  42%|████▏     | 2204/5273 [09:55<13:24,  3.81it/s]"
     ]
    },
    {
     "name": "stderr",
     "output_type": "stream",
     "text": [
      "\r",
      "Processing columns:  42%|████▏     | 2205/5273 [09:55<12:59,  3.94it/s]"
     ]
    },
    {
     "name": "stderr",
     "output_type": "stream",
     "text": [
      "\r",
      "Processing columns:  42%|████▏     | 2206/5273 [09:56<12:29,  4.09it/s]"
     ]
    },
    {
     "name": "stderr",
     "output_type": "stream",
     "text": [
      "\r",
      "Processing columns:  42%|████▏     | 2207/5273 [09:56<13:29,  3.79it/s]"
     ]
    },
    {
     "name": "stderr",
     "output_type": "stream",
     "text": [
      "\r",
      "Processing columns:  42%|████▏     | 2208/5273 [09:56<13:38,  3.74it/s]"
     ]
    },
    {
     "name": "stderr",
     "output_type": "stream",
     "text": [
      "\r",
      "Processing columns:  42%|████▏     | 2209/5273 [09:56<13:20,  3.83it/s]"
     ]
    },
    {
     "name": "stderr",
     "output_type": "stream",
     "text": [
      "\r",
      "Processing columns:  42%|████▏     | 2210/5273 [09:57<12:41,  4.02it/s]"
     ]
    },
    {
     "name": "stderr",
     "output_type": "stream",
     "text": [
      "\r",
      "Processing columns:  42%|████▏     | 2211/5273 [09:57<12:54,  3.95it/s]"
     ]
    },
    {
     "name": "stderr",
     "output_type": "stream",
     "text": [
      "\r",
      "Processing columns:  42%|████▏     | 2212/5273 [09:57<14:04,  3.62it/s]"
     ]
    },
    {
     "name": "stderr",
     "output_type": "stream",
     "text": [
      "\r",
      "Processing columns:  42%|████▏     | 2213/5273 [09:58<13:17,  3.84it/s]"
     ]
    },
    {
     "name": "stderr",
     "output_type": "stream",
     "text": [
      "\r",
      "Processing columns:  42%|████▏     | 2214/5273 [09:58<16:06,  3.17it/s]"
     ]
    },
    {
     "name": "stderr",
     "output_type": "stream",
     "text": [
      "\r",
      "Processing columns:  42%|████▏     | 2215/5273 [09:58<16:33,  3.08it/s]"
     ]
    },
    {
     "name": "stderr",
     "output_type": "stream",
     "text": [
      "\r",
      "Processing columns:  42%|████▏     | 2216/5273 [09:59<15:44,  3.24it/s]"
     ]
    },
    {
     "name": "stderr",
     "output_type": "stream",
     "text": [
      "\r",
      "Processing columns:  42%|████▏     | 2217/5273 [09:59<14:21,  3.55it/s]"
     ]
    },
    {
     "name": "stderr",
     "output_type": "stream",
     "text": [
      "\r",
      "Processing columns:  42%|████▏     | 2218/5273 [09:59<13:47,  3.69it/s]"
     ]
    },
    {
     "name": "stderr",
     "output_type": "stream",
     "text": [
      "\r",
      "Processing columns:  42%|████▏     | 2219/5273 [09:59<12:45,  3.99it/s]"
     ]
    },
    {
     "name": "stderr",
     "output_type": "stream",
     "text": [
      "\r",
      "Processing columns:  42%|████▏     | 2220/5273 [09:59<12:24,  4.10it/s]"
     ]
    },
    {
     "name": "stderr",
     "output_type": "stream",
     "text": [
      "\r",
      "Processing columns:  42%|████▏     | 2221/5273 [10:00<12:06,  4.20it/s]"
     ]
    },
    {
     "name": "stderr",
     "output_type": "stream",
     "text": [
      "\r",
      "Processing columns:  42%|████▏     | 2222/5273 [10:00<12:01,  4.23it/s]"
     ]
    },
    {
     "name": "stderr",
     "output_type": "stream",
     "text": [
      "\r",
      "Processing columns:  42%|████▏     | 2223/5273 [10:00<13:28,  3.77it/s]"
     ]
    },
    {
     "name": "stderr",
     "output_type": "stream",
     "text": [
      "\r",
      "Processing columns:  42%|████▏     | 2224/5273 [10:01<13:25,  3.78it/s]"
     ]
    },
    {
     "name": "stderr",
     "output_type": "stream",
     "text": [
      "\r",
      "Processing columns:  42%|████▏     | 2225/5273 [10:01<12:33,  4.05it/s]"
     ]
    },
    {
     "name": "stderr",
     "output_type": "stream",
     "text": [
      "\r",
      "Processing columns:  42%|████▏     | 2226/5273 [10:01<12:08,  4.18it/s]"
     ]
    },
    {
     "name": "stderr",
     "output_type": "stream",
     "text": [
      "\r",
      "Processing columns:  42%|████▏     | 2227/5273 [10:02<16:45,  3.03it/s]"
     ]
    },
    {
     "name": "stderr",
     "output_type": "stream",
     "text": [
      "\r",
      "Processing columns:  42%|████▏     | 2228/5273 [10:02<15:37,  3.25it/s]"
     ]
    },
    {
     "name": "stderr",
     "output_type": "stream",
     "text": [
      "\r",
      "Processing columns:  42%|████▏     | 2229/5273 [10:02<14:10,  3.58it/s]"
     ]
    },
    {
     "name": "stderr",
     "output_type": "stream",
     "text": [
      "\r",
      "Processing columns:  42%|████▏     | 2230/5273 [10:02<13:31,  3.75it/s]"
     ]
    },
    {
     "name": "stderr",
     "output_type": "stream",
     "text": [
      "\r",
      "Processing columns:  42%|████▏     | 2231/5273 [10:03<15:13,  3.33it/s]"
     ]
    },
    {
     "name": "stderr",
     "output_type": "stream",
     "text": [
      "\r",
      "Processing columns:  42%|████▏     | 2232/5273 [10:03<13:51,  3.66it/s]"
     ]
    },
    {
     "name": "stderr",
     "output_type": "stream",
     "text": [
      "\r",
      "Processing columns:  42%|████▏     | 2233/5273 [10:03<13:37,  3.72it/s]"
     ]
    },
    {
     "name": "stderr",
     "output_type": "stream",
     "text": [
      "\r",
      "Processing columns:  42%|████▏     | 2234/5273 [10:03<14:29,  3.50it/s]"
     ]
    },
    {
     "name": "stderr",
     "output_type": "stream",
     "text": [
      "\r",
      "Processing columns:  42%|████▏     | 2235/5273 [10:04<15:00,  3.37it/s]"
     ]
    },
    {
     "name": "stderr",
     "output_type": "stream",
     "text": [
      "\r",
      "Processing columns:  42%|████▏     | 2236/5273 [10:04<13:38,  3.71it/s]"
     ]
    },
    {
     "name": "stderr",
     "output_type": "stream",
     "text": [
      "\r",
      "Processing columns:  42%|████▏     | 2237/5273 [10:04<13:08,  3.85it/s]"
     ]
    },
    {
     "name": "stderr",
     "output_type": "stream",
     "text": [
      "\r",
      "Processing columns:  42%|████▏     | 2238/5273 [10:04<13:58,  3.62it/s]"
     ]
    },
    {
     "name": "stderr",
     "output_type": "stream",
     "text": [
      "\r",
      "Processing columns:  42%|████▏     | 2239/5273 [10:05<12:45,  3.97it/s]"
     ]
    },
    {
     "name": "stderr",
     "output_type": "stream",
     "text": [
      "\r",
      "Processing columns:  42%|████▏     | 2240/5273 [10:05<15:44,  3.21it/s]"
     ]
    },
    {
     "name": "stderr",
     "output_type": "stream",
     "text": [
      "\r",
      "Processing columns:  42%|████▏     | 2241/5273 [10:05<15:11,  3.33it/s]"
     ]
    },
    {
     "name": "stderr",
     "output_type": "stream",
     "text": [
      "\r",
      "Processing columns:  43%|████▎     | 2242/5273 [10:06<14:04,  3.59it/s]"
     ]
    },
    {
     "name": "stderr",
     "output_type": "stream",
     "text": [
      "\r",
      "Processing columns:  43%|████▎     | 2243/5273 [10:06<13:46,  3.66it/s]"
     ]
    },
    {
     "name": "stderr",
     "output_type": "stream",
     "text": [
      "\r",
      "Processing columns:  43%|████▎     | 2244/5273 [10:06<13:00,  3.88it/s]"
     ]
    },
    {
     "name": "stderr",
     "output_type": "stream",
     "text": [
      "\r",
      "Processing columns:  43%|████▎     | 2245/5273 [10:06<13:41,  3.69it/s]"
     ]
    },
    {
     "name": "stderr",
     "output_type": "stream",
     "text": [
      "\r",
      "Processing columns:  43%|████▎     | 2246/5273 [10:07<13:04,  3.86it/s]"
     ]
    },
    {
     "name": "stderr",
     "output_type": "stream",
     "text": [
      "\r",
      "Processing columns:  43%|████▎     | 2247/5273 [10:07<12:32,  4.02it/s]"
     ]
    },
    {
     "name": "stderr",
     "output_type": "stream",
     "text": [
      "\r",
      "Processing columns:  43%|████▎     | 2248/5273 [10:07<12:35,  4.01it/s]"
     ]
    },
    {
     "name": "stderr",
     "output_type": "stream",
     "text": [
      "\r",
      "Processing columns:  43%|████▎     | 2249/5273 [10:07<11:48,  4.27it/s]"
     ]
    },
    {
     "name": "stderr",
     "output_type": "stream",
     "text": [
      "\r",
      "Processing columns:  43%|████▎     | 2250/5273 [10:08<13:25,  3.75it/s]"
     ]
    },
    {
     "name": "stderr",
     "output_type": "stream",
     "text": [
      "\r",
      "Processing columns:  43%|████▎     | 2251/5273 [10:08<15:04,  3.34it/s]"
     ]
    },
    {
     "name": "stderr",
     "output_type": "stream",
     "text": [
      "\r",
      "Processing columns:  43%|████▎     | 2252/5273 [10:08<13:51,  3.63it/s]"
     ]
    },
    {
     "name": "stderr",
     "output_type": "stream",
     "text": [
      "\r",
      "Processing columns:  43%|████▎     | 2253/5273 [10:09<13:39,  3.68it/s]"
     ]
    },
    {
     "name": "stderr",
     "output_type": "stream",
     "text": [
      "\r",
      "Processing columns:  43%|████▎     | 2254/5273 [10:09<16:17,  3.09it/s]"
     ]
    },
    {
     "name": "stderr",
     "output_type": "stream",
     "text": [
      "\r",
      "Processing columns:  43%|████▎     | 2255/5273 [10:09<16:05,  3.13it/s]"
     ]
    },
    {
     "name": "stderr",
     "output_type": "stream",
     "text": [
      "\r",
      "Processing columns:  43%|████▎     | 2256/5273 [10:09<14:43,  3.42it/s]"
     ]
    },
    {
     "name": "stderr",
     "output_type": "stream",
     "text": [
      "\r",
      "Processing columns:  43%|████▎     | 2257/5273 [10:10<13:45,  3.65it/s]"
     ]
    },
    {
     "name": "stderr",
     "output_type": "stream",
     "text": [
      "\r",
      "Processing columns:  43%|████▎     | 2258/5273 [10:10<13:07,  3.83it/s]"
     ]
    },
    {
     "name": "stderr",
     "output_type": "stream",
     "text": [
      "\r",
      "Processing columns:  43%|████▎     | 2259/5273 [10:10<13:03,  3.84it/s]"
     ]
    },
    {
     "name": "stderr",
     "output_type": "stream",
     "text": [
      "\r",
      "Processing columns:  43%|████▎     | 2260/5273 [10:10<12:13,  4.11it/s]"
     ]
    },
    {
     "name": "stderr",
     "output_type": "stream",
     "text": [
      "\r",
      "Processing columns:  43%|████▎     | 2261/5273 [10:11<11:33,  4.35it/s]"
     ]
    },
    {
     "name": "stderr",
     "output_type": "stream",
     "text": [
      "\r",
      "Processing columns:  43%|████▎     | 2262/5273 [10:11<13:36,  3.69it/s]"
     ]
    },
    {
     "name": "stderr",
     "output_type": "stream",
     "text": [
      "\r",
      "Processing columns:  43%|████▎     | 2263/5273 [10:11<12:36,  3.98it/s]"
     ]
    },
    {
     "name": "stderr",
     "output_type": "stream",
     "text": [
      "\r",
      "Processing columns:  43%|████▎     | 2264/5273 [10:11<13:00,  3.86it/s]"
     ]
    },
    {
     "name": "stderr",
     "output_type": "stream",
     "text": [
      "\r",
      "Processing columns:  43%|████▎     | 2265/5273 [10:12<12:19,  4.07it/s]"
     ]
    },
    {
     "name": "stderr",
     "output_type": "stream",
     "text": [
      "\r",
      "Processing columns:  43%|████▎     | 2266/5273 [10:12<12:05,  4.14it/s]"
     ]
    },
    {
     "name": "stderr",
     "output_type": "stream",
     "text": [
      "\r",
      "Processing columns:  43%|████▎     | 2267/5273 [10:12<16:49,  2.98it/s]"
     ]
    },
    {
     "name": "stderr",
     "output_type": "stream",
     "text": [
      "\r",
      "Processing columns:  43%|████▎     | 2268/5273 [10:13<15:00,  3.34it/s]"
     ]
    },
    {
     "name": "stderr",
     "output_type": "stream",
     "text": [
      "\r",
      "Processing columns:  43%|████▎     | 2269/5273 [10:13<13:28,  3.72it/s]"
     ]
    },
    {
     "name": "stderr",
     "output_type": "stream",
     "text": [
      "\r",
      "Processing columns:  43%|████▎     | 2270/5273 [10:13<13:06,  3.82it/s]"
     ]
    },
    {
     "name": "stderr",
     "output_type": "stream",
     "text": [
      "\r",
      "Processing columns:  43%|████▎     | 2271/5273 [10:13<12:35,  3.98it/s]"
     ]
    },
    {
     "name": "stderr",
     "output_type": "stream",
     "text": [
      "\r",
      "Processing columns:  43%|████▎     | 2272/5273 [10:14<13:11,  3.79it/s]"
     ]
    },
    {
     "name": "stderr",
     "output_type": "stream",
     "text": [
      "\r",
      "Processing columns:  43%|████▎     | 2273/5273 [10:14<12:31,  3.99it/s]"
     ]
    },
    {
     "name": "stderr",
     "output_type": "stream",
     "text": [
      "\r",
      "Processing columns:  43%|████▎     | 2274/5273 [10:14<12:39,  3.95it/s]"
     ]
    },
    {
     "name": "stderr",
     "output_type": "stream",
     "text": [
      "\r",
      "Processing columns:  43%|████▎     | 2275/5273 [10:14<12:09,  4.11it/s]"
     ]
    },
    {
     "name": "stderr",
     "output_type": "stream",
     "text": [
      "\r",
      "Processing columns:  43%|████▎     | 2276/5273 [10:15<13:23,  3.73it/s]"
     ]
    },
    {
     "name": "stderr",
     "output_type": "stream",
     "text": [
      "\r",
      "Processing columns:  43%|████▎     | 2277/5273 [10:15<12:53,  3.87it/s]"
     ]
    },
    {
     "name": "stderr",
     "output_type": "stream",
     "text": [
      "\r",
      "Processing columns:  43%|████▎     | 2278/5273 [10:15<13:04,  3.82it/s]"
     ]
    },
    {
     "name": "stderr",
     "output_type": "stream",
     "text": [
      "\r",
      "Processing columns:  43%|████▎     | 2279/5273 [10:15<12:26,  4.01it/s]"
     ]
    },
    {
     "name": "stderr",
     "output_type": "stream",
     "text": [
      "\r",
      "Processing columns:  43%|████▎     | 2280/5273 [10:16<15:12,  3.28it/s]"
     ]
    },
    {
     "name": "stderr",
     "output_type": "stream",
     "text": [
      "\r",
      "Processing columns:  43%|████▎     | 2281/5273 [10:16<15:22,  3.24it/s]"
     ]
    },
    {
     "name": "stderr",
     "output_type": "stream",
     "text": [
      "\r",
      "Processing columns:  43%|████▎     | 2282/5273 [10:16<14:04,  3.54it/s]"
     ]
    },
    {
     "name": "stderr",
     "output_type": "stream",
     "text": [
      "\r",
      "Processing columns:  43%|████▎     | 2283/5273 [10:17<16:07,  3.09it/s]"
     ]
    },
    {
     "name": "stderr",
     "output_type": "stream",
     "text": [
      "\r",
      "Processing columns:  43%|████▎     | 2284/5273 [10:17<14:23,  3.46it/s]"
     ]
    },
    {
     "name": "stderr",
     "output_type": "stream",
     "text": [
      "\r",
      "Processing columns:  43%|████▎     | 2285/5273 [10:17<13:40,  3.64it/s]"
     ]
    },
    {
     "name": "stderr",
     "output_type": "stream",
     "text": [
      "\r",
      "Processing columns:  43%|████▎     | 2286/5273 [10:17<13:05,  3.80it/s]"
     ]
    },
    {
     "name": "stderr",
     "output_type": "stream",
     "text": [
      "\r",
      "Processing columns:  43%|████▎     | 2287/5273 [10:18<12:41,  3.92it/s]"
     ]
    },
    {
     "name": "stderr",
     "output_type": "stream",
     "text": [
      "\r",
      "Processing columns:  43%|████▎     | 2288/5273 [10:18<14:20,  3.47it/s]"
     ]
    },
    {
     "name": "stderr",
     "output_type": "stream",
     "text": [
      "\r",
      "Processing columns:  43%|████▎     | 2289/5273 [10:18<12:59,  3.83it/s]"
     ]
    },
    {
     "name": "stderr",
     "output_type": "stream",
     "text": [
      "\r",
      "Processing columns:  43%|████▎     | 2290/5273 [10:18<12:04,  4.12it/s]"
     ]
    },
    {
     "name": "stderr",
     "output_type": "stream",
     "text": [
      "\r",
      "Processing columns:  43%|████▎     | 2291/5273 [10:19<11:30,  4.32it/s]"
     ]
    },
    {
     "name": "stderr",
     "output_type": "stream",
     "text": [
      "\r",
      "Processing columns:  43%|████▎     | 2292/5273 [10:19<13:29,  3.68it/s]"
     ]
    },
    {
     "name": "stderr",
     "output_type": "stream",
     "text": [
      "\r",
      "Processing columns:  43%|████▎     | 2293/5273 [10:20<16:30,  3.01it/s]"
     ]
    },
    {
     "name": "stderr",
     "output_type": "stream",
     "text": [
      "\r",
      "Processing columns:  44%|████▎     | 2294/5273 [10:20<15:05,  3.29it/s]"
     ]
    },
    {
     "name": "stderr",
     "output_type": "stream",
     "text": [
      "\r",
      "Processing columns:  44%|████▎     | 2295/5273 [10:20<14:14,  3.49it/s]"
     ]
    },
    {
     "name": "stderr",
     "output_type": "stream",
     "text": [
      "\r",
      "Processing columns:  44%|████▎     | 2296/5273 [10:20<13:28,  3.68it/s]"
     ]
    },
    {
     "name": "stderr",
     "output_type": "stream",
     "text": [
      "\r",
      "Processing columns:  44%|████▎     | 2297/5273 [10:20<13:05,  3.79it/s]"
     ]
    },
    {
     "name": "stderr",
     "output_type": "stream",
     "text": [
      "\r",
      "Processing columns:  44%|████▎     | 2298/5273 [10:21<12:35,  3.94it/s]"
     ]
    },
    {
     "name": "stderr",
     "output_type": "stream",
     "text": [
      "\r",
      "Processing columns:  44%|████▎     | 2299/5273 [10:21<12:54,  3.84it/s]"
     ]
    },
    {
     "name": "stderr",
     "output_type": "stream",
     "text": [
      "\r",
      "Processing columns:  44%|████▎     | 2300/5273 [10:21<12:21,  4.01it/s]"
     ]
    },
    {
     "name": "stderr",
     "output_type": "stream",
     "text": [
      "\r",
      "Processing columns:  44%|████▎     | 2301/5273 [10:21<11:40,  4.24it/s]"
     ]
    },
    {
     "name": "stderr",
     "output_type": "stream",
     "text": [
      "\r",
      "Processing columns:  44%|████▎     | 2302/5273 [10:22<13:09,  3.76it/s]"
     ]
    },
    {
     "name": "stderr",
     "output_type": "stream",
     "text": [
      "\r",
      "Processing columns:  44%|████▎     | 2303/5273 [10:22<13:56,  3.55it/s]"
     ]
    },
    {
     "name": "stderr",
     "output_type": "stream",
     "text": [
      "\r",
      "Processing columns:  44%|████▎     | 2304/5273 [10:22<13:05,  3.78it/s]"
     ]
    },
    {
     "name": "stderr",
     "output_type": "stream",
     "text": [
      "\r",
      "Processing columns:  44%|████▎     | 2305/5273 [10:23<12:26,  3.98it/s]"
     ]
    },
    {
     "name": "stderr",
     "output_type": "stream",
     "text": [
      "\r",
      "Processing columns:  44%|████▎     | 2306/5273 [10:23<15:56,  3.10it/s]"
     ]
    },
    {
     "name": "stderr",
     "output_type": "stream",
     "text": [
      "\r",
      "Processing columns:  44%|████▍     | 2307/5273 [10:23<14:32,  3.40it/s]"
     ]
    },
    {
     "name": "stderr",
     "output_type": "stream",
     "text": [
      "\r",
      "Processing columns:  44%|████▍     | 2308/5273 [10:23<13:38,  3.62it/s]"
     ]
    },
    {
     "name": "stderr",
     "output_type": "stream",
     "text": [
      "\r",
      "Processing columns:  44%|████▍     | 2309/5273 [10:24<13:22,  3.69it/s]"
     ]
    },
    {
     "name": "stderr",
     "output_type": "stream",
     "text": [
      "\r",
      "Processing columns:  44%|████▍     | 2310/5273 [10:24<13:38,  3.62it/s]"
     ]
    },
    {
     "name": "stderr",
     "output_type": "stream",
     "text": [
      "\r",
      "Processing columns:  44%|████▍     | 2311/5273 [10:24<12:42,  3.89it/s]"
     ]
    },
    {
     "name": "stderr",
     "output_type": "stream",
     "text": [
      "\r",
      "Processing columns:  44%|████▍     | 2312/5273 [10:24<12:20,  4.00it/s]"
     ]
    },
    {
     "name": "stderr",
     "output_type": "stream",
     "text": [
      "\r",
      "Processing columns:  44%|████▍     | 2313/5273 [10:25<12:08,  4.06it/s]"
     ]
    },
    {
     "name": "stderr",
     "output_type": "stream",
     "text": [
      "\r",
      "Processing columns:  44%|████▍     | 2314/5273 [10:25<12:27,  3.96it/s]"
     ]
    },
    {
     "name": "stderr",
     "output_type": "stream",
     "text": [
      "\r",
      "Processing columns:  44%|████▍     | 2315/5273 [10:25<12:07,  4.06it/s]"
     ]
    },
    {
     "name": "stderr",
     "output_type": "stream",
     "text": [
      "\r",
      "Processing columns:  44%|████▍     | 2316/5273 [10:25<12:27,  3.96it/s]"
     ]
    },
    {
     "name": "stderr",
     "output_type": "stream",
     "text": [
      "\r",
      "Processing columns:  44%|████▍     | 2317/5273 [10:26<12:56,  3.80it/s]"
     ]
    },
    {
     "name": "stderr",
     "output_type": "stream",
     "text": [
      "\r",
      "Processing columns:  44%|████▍     | 2318/5273 [10:26<12:20,  3.99it/s]"
     ]
    },
    {
     "name": "stderr",
     "output_type": "stream",
     "text": [
      "\r",
      "Processing columns:  44%|████▍     | 2319/5273 [10:26<14:57,  3.29it/s]"
     ]
    },
    {
     "name": "stderr",
     "output_type": "stream",
     "text": [
      "\r",
      "Processing columns:  44%|████▍     | 2320/5273 [10:27<14:17,  3.44it/s]"
     ]
    },
    {
     "name": "stderr",
     "output_type": "stream",
     "text": [
      "\r",
      "Processing columns:  44%|████▍     | 2321/5273 [10:27<13:37,  3.61it/s]"
     ]
    },
    {
     "name": "stderr",
     "output_type": "stream",
     "text": [
      "\r",
      "Processing columns:  44%|████▍     | 2322/5273 [10:27<13:19,  3.69it/s]"
     ]
    },
    {
     "name": "stderr",
     "output_type": "stream",
     "text": [
      "\r",
      "Processing columns:  44%|████▍     | 2323/5273 [10:27<12:40,  3.88it/s]"
     ]
    },
    {
     "name": "stderr",
     "output_type": "stream",
     "text": [
      "\r",
      "Processing columns:  44%|████▍     | 2324/5273 [10:28<13:11,  3.73it/s]"
     ]
    },
    {
     "name": "stderr",
     "output_type": "stream",
     "text": [
      "\r",
      "Processing columns:  44%|████▍     | 2325/5273 [10:28<12:58,  3.79it/s]"
     ]
    },
    {
     "name": "stderr",
     "output_type": "stream",
     "text": [
      "\r",
      "Processing columns:  44%|████▍     | 2326/5273 [10:28<12:38,  3.88it/s]"
     ]
    },
    {
     "name": "stderr",
     "output_type": "stream",
     "text": [
      "\r",
      "Processing columns:  44%|████▍     | 2327/5273 [10:28<12:22,  3.97it/s]"
     ]
    },
    {
     "name": "stderr",
     "output_type": "stream",
     "text": [
      "\r",
      "Processing columns:  44%|████▍     | 2328/5273 [10:29<12:14,  4.01it/s]"
     ]
    },
    {
     "name": "stderr",
     "output_type": "stream",
     "text": [
      "\r",
      "Processing columns:  44%|████▍     | 2329/5273 [10:29<11:45,  4.17it/s]"
     ]
    },
    {
     "name": "stderr",
     "output_type": "stream",
     "text": [
      "\r",
      "Processing columns:  44%|████▍     | 2330/5273 [10:29<11:25,  4.29it/s]"
     ]
    },
    {
     "name": "stderr",
     "output_type": "stream",
     "text": [
      "\r",
      "Processing columns:  44%|████▍     | 2331/5273 [10:29<11:34,  4.24it/s]"
     ]
    },
    {
     "name": "stderr",
     "output_type": "stream",
     "text": [
      "\r",
      "Processing columns:  44%|████▍     | 2332/5273 [10:30<15:14,  3.21it/s]"
     ]
    },
    {
     "name": "stderr",
     "output_type": "stream",
     "text": [
      "\r",
      "Processing columns:  44%|████▍     | 2333/5273 [10:30<14:00,  3.50it/s]"
     ]
    },
    {
     "name": "stderr",
     "output_type": "stream",
     "text": [
      "\r",
      "Processing columns:  44%|████▍     | 2334/5273 [10:30<13:20,  3.67it/s]"
     ]
    },
    {
     "name": "stderr",
     "output_type": "stream",
     "text": [
      "\r",
      "Processing columns:  44%|████▍     | 2335/5273 [10:31<14:21,  3.41it/s]"
     ]
    },
    {
     "name": "stderr",
     "output_type": "stream",
     "text": [
      "\r",
      "Processing columns:  44%|████▍     | 2336/5273 [10:31<13:12,  3.70it/s]"
     ]
    },
    {
     "name": "stderr",
     "output_type": "stream",
     "text": [
      "\r",
      "Processing columns:  44%|████▍     | 2337/5273 [10:31<14:18,  3.42it/s]"
     ]
    },
    {
     "name": "stderr",
     "output_type": "stream",
     "text": [
      "\r",
      "Processing columns:  44%|████▍     | 2338/5273 [10:31<14:11,  3.45it/s]"
     ]
    },
    {
     "name": "stderr",
     "output_type": "stream",
     "text": [
      "\r",
      "Processing columns:  44%|████▍     | 2339/5273 [10:32<13:00,  3.76it/s]"
     ]
    },
    {
     "name": "stderr",
     "output_type": "stream",
     "text": [
      "\r",
      "Processing columns:  44%|████▍     | 2340/5273 [10:32<12:16,  3.98it/s]"
     ]
    },
    {
     "name": "stderr",
     "output_type": "stream",
     "text": [
      "\r",
      "Processing columns:  44%|████▍     | 2341/5273 [10:32<12:35,  3.88it/s]"
     ]
    },
    {
     "name": "stderr",
     "output_type": "stream",
     "text": [
      "\r",
      "Processing columns:  44%|████▍     | 2342/5273 [10:32<12:04,  4.05it/s]"
     ]
    },
    {
     "name": "stderr",
     "output_type": "stream",
     "text": [
      "\r",
      "Processing columns:  44%|████▍     | 2343/5273 [10:33<12:03,  4.05it/s]"
     ]
    },
    {
     "name": "stderr",
     "output_type": "stream",
     "text": [
      "\r",
      "Processing columns:  44%|████▍     | 2344/5273 [10:33<12:20,  3.95it/s]"
     ]
    },
    {
     "name": "stderr",
     "output_type": "stream",
     "text": [
      "\r",
      "Processing columns:  44%|████▍     | 2345/5273 [10:33<16:27,  2.96it/s]"
     ]
    },
    {
     "name": "stderr",
     "output_type": "stream",
     "text": [
      "\r",
      "Processing columns:  44%|████▍     | 2346/5273 [10:34<15:03,  3.24it/s]"
     ]
    },
    {
     "name": "stderr",
     "output_type": "stream",
     "text": [
      "\r",
      "Processing columns:  45%|████▍     | 2347/5273 [10:34<14:05,  3.46it/s]"
     ]
    },
    {
     "name": "stderr",
     "output_type": "stream",
     "text": [
      "\r",
      "Processing columns:  45%|████▍     | 2348/5273 [10:34<13:18,  3.67it/s]"
     ]
    },
    {
     "name": "stderr",
     "output_type": "stream",
     "text": [
      "\r",
      "Processing columns:  45%|████▍     | 2349/5273 [10:34<13:09,  3.71it/s]"
     ]
    },
    {
     "name": "stderr",
     "output_type": "stream",
     "text": [
      "\r",
      "Processing columns:  45%|████▍     | 2350/5273 [10:35<12:10,  4.00it/s]"
     ]
    },
    {
     "name": "stderr",
     "output_type": "stream",
     "text": [
      "\r",
      "Processing columns:  45%|████▍     | 2351/5273 [10:35<13:18,  3.66it/s]"
     ]
    },
    {
     "name": "stderr",
     "output_type": "stream",
     "text": [
      "\r",
      "Processing columns:  45%|████▍     | 2352/5273 [10:35<12:29,  3.90it/s]"
     ]
    },
    {
     "name": "stderr",
     "output_type": "stream",
     "text": [
      "\r",
      "Processing columns:  45%|████▍     | 2353/5273 [10:35<12:06,  4.02it/s]"
     ]
    },
    {
     "name": "stderr",
     "output_type": "stream",
     "text": [
      "\r",
      "Processing columns:  45%|████▍     | 2354/5273 [10:36<11:58,  4.06it/s]"
     ]
    },
    {
     "name": "stderr",
     "output_type": "stream",
     "text": [
      "\r",
      "Processing columns:  45%|████▍     | 2355/5273 [10:36<12:08,  4.00it/s]"
     ]
    },
    {
     "name": "stderr",
     "output_type": "stream",
     "text": [
      "\r",
      "Processing columns:  45%|████▍     | 2356/5273 [10:36<11:43,  4.15it/s]"
     ]
    },
    {
     "name": "stderr",
     "output_type": "stream",
     "text": [
      "\r",
      "Processing columns:  45%|████▍     | 2357/5273 [10:36<11:29,  4.23it/s]"
     ]
    },
    {
     "name": "stderr",
     "output_type": "stream",
     "text": [
      "\r",
      "Processing columns:  45%|████▍     | 2358/5273 [10:37<11:30,  4.22it/s]"
     ]
    },
    {
     "name": "stderr",
     "output_type": "stream",
     "text": [
      "\r",
      "Processing columns:  45%|████▍     | 2359/5273 [10:37<14:23,  3.37it/s]"
     ]
    },
    {
     "name": "stderr",
     "output_type": "stream",
     "text": [
      "\r",
      "Processing columns:  45%|████▍     | 2360/5273 [10:37<13:22,  3.63it/s]"
     ]
    },
    {
     "name": "stderr",
     "output_type": "stream",
     "text": [
      "\r",
      "Processing columns:  45%|████▍     | 2361/5273 [10:37<12:52,  3.77it/s]"
     ]
    },
    {
     "name": "stderr",
     "output_type": "stream",
     "text": [
      "\r",
      "Processing columns:  45%|████▍     | 2362/5273 [10:38<12:21,  3.93it/s]"
     ]
    },
    {
     "name": "stderr",
     "output_type": "stream",
     "text": [
      "\r",
      "Processing columns:  45%|████▍     | 2363/5273 [10:38<12:02,  4.03it/s]"
     ]
    },
    {
     "name": "stderr",
     "output_type": "stream",
     "text": [
      "\r",
      "Processing columns:  45%|████▍     | 2364/5273 [10:38<11:54,  4.07it/s]"
     ]
    },
    {
     "name": "stderr",
     "output_type": "stream",
     "text": [
      "\r",
      "Processing columns:  45%|████▍     | 2365/5273 [10:38<11:47,  4.11it/s]"
     ]
    },
    {
     "name": "stderr",
     "output_type": "stream",
     "text": [
      "\r",
      "Processing columns:  45%|████▍     | 2366/5273 [10:39<11:47,  4.11it/s]"
     ]
    },
    {
     "name": "stderr",
     "output_type": "stream",
     "text": [
      "\r",
      "Processing columns:  45%|████▍     | 2367/5273 [10:39<11:58,  4.05it/s]"
     ]
    },
    {
     "name": "stderr",
     "output_type": "stream",
     "text": [
      "\r",
      "Processing columns:  45%|████▍     | 2368/5273 [10:39<11:47,  4.11it/s]"
     ]
    },
    {
     "name": "stderr",
     "output_type": "stream",
     "text": [
      "\r",
      "Processing columns:  45%|████▍     | 2369/5273 [10:39<11:12,  4.32it/s]"
     ]
    },
    {
     "name": "stderr",
     "output_type": "stream",
     "text": [
      "\r",
      "Processing columns:  45%|████▍     | 2370/5273 [10:40<12:20,  3.92it/s]"
     ]
    },
    {
     "name": "stderr",
     "output_type": "stream",
     "text": [
      "\r",
      "Processing columns:  45%|████▍     | 2371/5273 [10:40<11:32,  4.19it/s]"
     ]
    },
    {
     "name": "stderr",
     "output_type": "stream",
     "text": [
      "\r",
      "Processing columns:  45%|████▍     | 2372/5273 [10:40<13:51,  3.49it/s]"
     ]
    },
    {
     "name": "stderr",
     "output_type": "stream",
     "text": [
      "\r",
      "Processing columns:  45%|████▌     | 2373/5273 [10:41<13:25,  3.60it/s]"
     ]
    },
    {
     "name": "stderr",
     "output_type": "stream",
     "text": [
      "\r",
      "Processing columns:  45%|████▌     | 2374/5273 [10:41<13:48,  3.50it/s]"
     ]
    },
    {
     "name": "stderr",
     "output_type": "stream",
     "text": [
      "\r",
      "Processing columns:  45%|████▌     | 2375/5273 [10:41<13:26,  3.60it/s]"
     ]
    },
    {
     "name": "stderr",
     "output_type": "stream",
     "text": [
      "\r",
      "Processing columns:  45%|████▌     | 2376/5273 [10:41<13:21,  3.62it/s]"
     ]
    },
    {
     "name": "stderr",
     "output_type": "stream",
     "text": [
      "\r",
      "Processing columns:  45%|████▌     | 2377/5273 [10:42<12:55,  3.73it/s]"
     ]
    },
    {
     "name": "stderr",
     "output_type": "stream",
     "text": [
      "\r",
      "Processing columns:  45%|████▌     | 2378/5273 [10:42<12:38,  3.81it/s]"
     ]
    },
    {
     "name": "stderr",
     "output_type": "stream",
     "text": [
      "\r",
      "Processing columns:  45%|████▌     | 2379/5273 [10:42<12:26,  3.88it/s]"
     ]
    },
    {
     "name": "stderr",
     "output_type": "stream",
     "text": [
      "\r",
      "Processing columns:  45%|████▌     | 2380/5273 [10:42<11:53,  4.05it/s]"
     ]
    },
    {
     "name": "stderr",
     "output_type": "stream",
     "text": [
      "\r",
      "Processing columns:  45%|████▌     | 2381/5273 [10:43<11:32,  4.18it/s]"
     ]
    },
    {
     "name": "stderr",
     "output_type": "stream",
     "text": [
      "\r",
      "Processing columns:  45%|████▌     | 2382/5273 [10:43<11:17,  4.27it/s]"
     ]
    },
    {
     "name": "stderr",
     "output_type": "stream",
     "text": [
      "\r",
      "Processing columns:  45%|████▌     | 2383/5273 [10:43<11:26,  4.21it/s]"
     ]
    },
    {
     "name": "stderr",
     "output_type": "stream",
     "text": [
      "\r",
      "Processing columns:  45%|████▌     | 2384/5273 [10:43<11:27,  4.20it/s]"
     ]
    },
    {
     "name": "stderr",
     "output_type": "stream",
     "text": [
      "\r",
      "Processing columns:  45%|████▌     | 2385/5273 [10:44<14:16,  3.37it/s]"
     ]
    },
    {
     "name": "stderr",
     "output_type": "stream",
     "text": [
      "\r",
      "Processing columns:  45%|████▌     | 2386/5273 [10:44<15:48,  3.04it/s]"
     ]
    },
    {
     "name": "stderr",
     "output_type": "stream",
     "text": [
      "\r",
      "Processing columns:  45%|████▌     | 2387/5273 [10:44<14:51,  3.24it/s]"
     ]
    },
    {
     "name": "stderr",
     "output_type": "stream",
     "text": [
      "\r",
      "Processing columns:  45%|████▌     | 2388/5273 [10:45<14:58,  3.21it/s]"
     ]
    },
    {
     "name": "stderr",
     "output_type": "stream",
     "text": [
      "\r",
      "Processing columns:  45%|████▌     | 2389/5273 [10:45<14:29,  3.32it/s]"
     ]
    },
    {
     "name": "stderr",
     "output_type": "stream",
     "text": [
      "\r",
      "Processing columns:  45%|████▌     | 2390/5273 [10:45<14:08,  3.40it/s]"
     ]
    },
    {
     "name": "stderr",
     "output_type": "stream",
     "text": [
      "\r",
      "Processing columns:  45%|████▌     | 2391/5273 [10:45<12:58,  3.70it/s]"
     ]
    },
    {
     "name": "stderr",
     "output_type": "stream",
     "text": [
      "\r",
      "Processing columns:  45%|████▌     | 2392/5273 [10:46<12:15,  3.92it/s]"
     ]
    },
    {
     "name": "stderr",
     "output_type": "stream",
     "text": [
      "\r",
      "Processing columns:  45%|████▌     | 2393/5273 [10:46<12:07,  3.96it/s]"
     ]
    },
    {
     "name": "stderr",
     "output_type": "stream",
     "text": [
      "\r",
      "Processing columns:  45%|████▌     | 2394/5273 [10:46<12:09,  3.95it/s]"
     ]
    },
    {
     "name": "stderr",
     "output_type": "stream",
     "text": [
      "\r",
      "Processing columns:  45%|████▌     | 2395/5273 [10:47<13:30,  3.55it/s]"
     ]
    },
    {
     "name": "stderr",
     "output_type": "stream",
     "text": [
      "\r",
      "Processing columns:  45%|████▌     | 2396/5273 [10:47<13:28,  3.56it/s]"
     ]
    },
    {
     "name": "stderr",
     "output_type": "stream",
     "text": [
      "\r",
      "Processing columns:  45%|████▌     | 2397/5273 [10:47<12:28,  3.84it/s]"
     ]
    },
    {
     "name": "stderr",
     "output_type": "stream",
     "text": [
      "\r",
      "Processing columns:  45%|████▌     | 2398/5273 [10:48<16:21,  2.93it/s]"
     ]
    },
    {
     "name": "stderr",
     "output_type": "stream",
     "text": [
      "\r",
      "Processing columns:  45%|████▌     | 2399/5273 [10:48<16:01,  2.99it/s]"
     ]
    },
    {
     "name": "stderr",
     "output_type": "stream",
     "text": [
      "\r",
      "Processing columns:  46%|████▌     | 2400/5273 [10:48<15:15,  3.14it/s]"
     ]
    },
    {
     "name": "stderr",
     "output_type": "stream",
     "text": [
      "\r",
      "Processing columns:  46%|████▌     | 2401/5273 [10:48<13:47,  3.47it/s]"
     ]
    },
    {
     "name": "stderr",
     "output_type": "stream",
     "text": [
      "\r",
      "Processing columns:  46%|████▌     | 2402/5273 [10:49<15:36,  3.07it/s]"
     ]
    },
    {
     "name": "stderr",
     "output_type": "stream",
     "text": [
      "\r",
      "Processing columns:  46%|████▌     | 2403/5273 [10:49<13:48,  3.47it/s]"
     ]
    },
    {
     "name": "stderr",
     "output_type": "stream",
     "text": [
      "\r",
      "Processing columns:  46%|████▌     | 2404/5273 [10:49<13:37,  3.51it/s]"
     ]
    },
    {
     "name": "stderr",
     "output_type": "stream",
     "text": [
      "\r",
      "Processing columns:  46%|████▌     | 2405/5273 [10:50<12:58,  3.69it/s]"
     ]
    },
    {
     "name": "stderr",
     "output_type": "stream",
     "text": [
      "\r",
      "Processing columns:  46%|████▌     | 2406/5273 [10:50<12:35,  3.80it/s]"
     ]
    },
    {
     "name": "stderr",
     "output_type": "stream",
     "text": [
      "\r",
      "Processing columns:  46%|████▌     | 2407/5273 [10:50<12:13,  3.91it/s]"
     ]
    },
    {
     "name": "stderr",
     "output_type": "stream",
     "text": [
      "\r",
      "Processing columns:  46%|████▌     | 2408/5273 [10:50<11:45,  4.06it/s]"
     ]
    },
    {
     "name": "stderr",
     "output_type": "stream",
     "text": [
      "\r",
      "Processing columns:  46%|████▌     | 2409/5273 [10:50<12:02,  3.97it/s]"
     ]
    },
    {
     "name": "stderr",
     "output_type": "stream",
     "text": [
      "\r",
      "Processing columns:  46%|████▌     | 2410/5273 [10:51<11:26,  4.17it/s]"
     ]
    },
    {
     "name": "stderr",
     "output_type": "stream",
     "text": [
      "\r",
      "Processing columns:  46%|████▌     | 2411/5273 [10:51<15:13,  3.13it/s]"
     ]
    },
    {
     "name": "stderr",
     "output_type": "stream",
     "text": [
      "\r",
      "Processing columns:  46%|████▌     | 2412/5273 [10:51<14:26,  3.30it/s]"
     ]
    },
    {
     "name": "stderr",
     "output_type": "stream",
     "text": [
      "\r",
      "Processing columns:  46%|████▌     | 2413/5273 [10:52<13:15,  3.60it/s]"
     ]
    },
    {
     "name": "stderr",
     "output_type": "stream",
     "text": [
      "\r",
      "Processing columns:  46%|████▌     | 2414/5273 [10:52<12:48,  3.72it/s]"
     ]
    },
    {
     "name": "stderr",
     "output_type": "stream",
     "text": [
      "\r",
      "Processing columns:  46%|████▌     | 2415/5273 [10:52<12:32,  3.80it/s]"
     ]
    },
    {
     "name": "stderr",
     "output_type": "stream",
     "text": [
      "\r",
      "Processing columns:  46%|████▌     | 2416/5273 [10:52<12:26,  3.83it/s]"
     ]
    },
    {
     "name": "stderr",
     "output_type": "stream",
     "text": [
      "\r",
      "Processing columns:  46%|████▌     | 2417/5273 [10:53<12:17,  3.87it/s]"
     ]
    },
    {
     "name": "stderr",
     "output_type": "stream",
     "text": [
      "\r",
      "Processing columns:  46%|████▌     | 2418/5273 [10:53<12:07,  3.93it/s]"
     ]
    },
    {
     "name": "stderr",
     "output_type": "stream",
     "text": [
      "\r",
      "Processing columns:  46%|████▌     | 2419/5273 [10:53<12:07,  3.92it/s]"
     ]
    },
    {
     "name": "stderr",
     "output_type": "stream",
     "text": [
      "\r",
      "Processing columns:  46%|████▌     | 2420/5273 [10:53<11:53,  4.00it/s]"
     ]
    },
    {
     "name": "stderr",
     "output_type": "stream",
     "text": [
      "\r",
      "Processing columns:  46%|████▌     | 2421/5273 [10:54<11:35,  4.10it/s]"
     ]
    },
    {
     "name": "stderr",
     "output_type": "stream",
     "text": [
      "\r",
      "Processing columns:  46%|████▌     | 2422/5273 [10:54<12:14,  3.88it/s]"
     ]
    },
    {
     "name": "stderr",
     "output_type": "stream",
     "text": [
      "\r",
      "Processing columns:  46%|████▌     | 2423/5273 [10:54<11:39,  4.07it/s]"
     ]
    },
    {
     "name": "stderr",
     "output_type": "stream",
     "text": [
      "\r",
      "Processing columns:  46%|████▌     | 2424/5273 [10:55<14:50,  3.20it/s]"
     ]
    },
    {
     "name": "stderr",
     "output_type": "stream",
     "text": [
      "\r",
      "Processing columns:  46%|████▌     | 2425/5273 [10:55<13:50,  3.43it/s]"
     ]
    },
    {
     "name": "stderr",
     "output_type": "stream",
     "text": [
      "\r",
      "Processing columns:  46%|████▌     | 2426/5273 [10:55<12:57,  3.66it/s]"
     ]
    },
    {
     "name": "stderr",
     "output_type": "stream",
     "text": [
      "\r",
      "Processing columns:  46%|████▌     | 2427/5273 [10:55<12:29,  3.80it/s]"
     ]
    },
    {
     "name": "stderr",
     "output_type": "stream",
     "text": [
      "\r",
      "Processing columns:  46%|████▌     | 2428/5273 [10:56<12:52,  3.68it/s]"
     ]
    },
    {
     "name": "stderr",
     "output_type": "stream",
     "text": [
      "\r",
      "Processing columns:  46%|████▌     | 2429/5273 [10:56<12:10,  3.89it/s]"
     ]
    },
    {
     "name": "stderr",
     "output_type": "stream",
     "text": [
      "\r",
      "Processing columns:  46%|████▌     | 2430/5273 [10:56<11:17,  4.20it/s]"
     ]
    },
    {
     "name": "stderr",
     "output_type": "stream",
     "text": [
      "\r",
      "Processing columns:  46%|████▌     | 2431/5273 [10:56<11:01,  4.30it/s]"
     ]
    },
    {
     "name": "stderr",
     "output_type": "stream",
     "text": [
      "\r",
      "Processing columns:  46%|████▌     | 2432/5273 [10:57<13:43,  3.45it/s]"
     ]
    },
    {
     "name": "stderr",
     "output_type": "stream",
     "text": [
      "\r",
      "Processing columns:  46%|████▌     | 2433/5273 [10:57<14:50,  3.19it/s]"
     ]
    },
    {
     "name": "stderr",
     "output_type": "stream",
     "text": [
      "\r",
      "Processing columns:  46%|████▌     | 2434/5273 [10:57<13:31,  3.50it/s]"
     ]
    },
    {
     "name": "stderr",
     "output_type": "stream",
     "text": [
      "\r",
      "Processing columns:  46%|████▌     | 2435/5273 [10:58<12:55,  3.66it/s]"
     ]
    },
    {
     "name": "stderr",
     "output_type": "stream",
     "text": [
      "\r",
      "Processing columns:  46%|████▌     | 2436/5273 [10:58<12:18,  3.84it/s]"
     ]
    },
    {
     "name": "stderr",
     "output_type": "stream",
     "text": [
      "\r",
      "Processing columns:  46%|████▌     | 2437/5273 [10:58<11:46,  4.01it/s]"
     ]
    },
    {
     "name": "stderr",
     "output_type": "stream",
     "text": [
      "\r",
      "Processing columns:  46%|████▌     | 2438/5273 [10:59<16:10,  2.92it/s]"
     ]
    },
    {
     "name": "stderr",
     "output_type": "stream",
     "text": [
      "\r",
      "Processing columns:  46%|████▋     | 2439/5273 [10:59<14:23,  3.28it/s]"
     ]
    },
    {
     "name": "stderr",
     "output_type": "stream",
     "text": [
      "\r",
      "Processing columns:  46%|████▋     | 2440/5273 [10:59<13:11,  3.58it/s]"
     ]
    },
    {
     "name": "stderr",
     "output_type": "stream",
     "text": [
      "\r",
      "Processing columns:  46%|████▋     | 2441/5273 [10:59<12:37,  3.74it/s]"
     ]
    },
    {
     "name": "stderr",
     "output_type": "stream",
     "text": [
      "\r",
      "Processing columns:  46%|████▋     | 2442/5273 [10:59<12:50,  3.68it/s]"
     ]
    },
    {
     "name": "stderr",
     "output_type": "stream",
     "text": [
      "\r",
      "Processing columns:  46%|████▋     | 2443/5273 [11:00<12:34,  3.75it/s]"
     ]
    },
    {
     "name": "stderr",
     "output_type": "stream",
     "text": [
      "\r",
      "Processing columns:  46%|████▋     | 2444/5273 [11:00<13:40,  3.45it/s]"
     ]
    },
    {
     "name": "stderr",
     "output_type": "stream",
     "text": [
      "\r",
      "Processing columns:  46%|████▋     | 2445/5273 [11:00<12:38,  3.73it/s]"
     ]
    },
    {
     "name": "stderr",
     "output_type": "stream",
     "text": [
      "\r",
      "Processing columns:  46%|████▋     | 2446/5273 [11:01<13:16,  3.55it/s]"
     ]
    },
    {
     "name": "stderr",
     "output_type": "stream",
     "text": [
      "\r",
      "Processing columns:  46%|████▋     | 2447/5273 [11:01<12:37,  3.73it/s]"
     ]
    },
    {
     "name": "stderr",
     "output_type": "stream",
     "text": [
      "\r",
      "Processing columns:  46%|████▋     | 2448/5273 [11:01<12:01,  3.92it/s]"
     ]
    },
    {
     "name": "stderr",
     "output_type": "stream",
     "text": [
      "\r",
      "Processing columns:  46%|████▋     | 2449/5273 [11:01<11:43,  4.02it/s]"
     ]
    },
    {
     "name": "stderr",
     "output_type": "stream",
     "text": [
      "\r",
      "Processing columns:  46%|████▋     | 2450/5273 [11:02<11:30,  4.09it/s]"
     ]
    },
    {
     "name": "stderr",
     "output_type": "stream",
     "text": [
      "\r",
      "Processing columns:  46%|████▋     | 2451/5273 [11:02<15:17,  3.08it/s]"
     ]
    },
    {
     "name": "stderr",
     "output_type": "stream",
     "text": [
      "\r",
      "Processing columns:  47%|████▋     | 2452/5273 [11:02<13:54,  3.38it/s]"
     ]
    },
    {
     "name": "stderr",
     "output_type": "stream",
     "text": [
      "\r",
      "Processing columns:  47%|████▋     | 2453/5273 [11:03<12:51,  3.66it/s]"
     ]
    },
    {
     "name": "stderr",
     "output_type": "stream",
     "text": [
      "\r",
      "Processing columns:  47%|████▋     | 2454/5273 [11:03<12:12,  3.85it/s]"
     ]
    },
    {
     "name": "stderr",
     "output_type": "stream",
     "text": [
      "\r",
      "Processing columns:  47%|████▋     | 2455/5273 [11:03<12:31,  3.75it/s]"
     ]
    },
    {
     "name": "stderr",
     "output_type": "stream",
     "text": [
      "\r",
      "Processing columns:  47%|████▋     | 2456/5273 [11:03<12:59,  3.62it/s]"
     ]
    },
    {
     "name": "stderr",
     "output_type": "stream",
     "text": [
      "\r",
      "Processing columns:  47%|████▋     | 2457/5273 [11:04<11:55,  3.94it/s]"
     ]
    },
    {
     "name": "stderr",
     "output_type": "stream",
     "text": [
      "\r",
      "Processing columns:  47%|████▋     | 2458/5273 [11:04<11:44,  4.00it/s]"
     ]
    },
    {
     "name": "stderr",
     "output_type": "stream",
     "text": [
      "\r",
      "Processing columns:  47%|████▋     | 2459/5273 [11:04<11:28,  4.09it/s]"
     ]
    },
    {
     "name": "stderr",
     "output_type": "stream",
     "text": [
      "\r",
      "Processing columns:  47%|████▋     | 2460/5273 [11:04<11:05,  4.22it/s]"
     ]
    },
    {
     "name": "stderr",
     "output_type": "stream",
     "text": [
      "\r",
      "Processing columns:  47%|████▋     | 2461/5273 [11:05<11:59,  3.91it/s]"
     ]
    },
    {
     "name": "stderr",
     "output_type": "stream",
     "text": [
      "\r",
      "Processing columns:  47%|████▋     | 2462/5273 [11:05<13:04,  3.58it/s]"
     ]
    },
    {
     "name": "stderr",
     "output_type": "stream",
     "text": [
      "\r",
      "Processing columns:  47%|████▋     | 2463/5273 [11:05<12:18,  3.80it/s]"
     ]
    },
    {
     "name": "stderr",
     "output_type": "stream",
     "text": [
      "\r",
      "Processing columns:  47%|████▋     | 2464/5273 [11:06<14:59,  3.12it/s]"
     ]
    },
    {
     "name": "stderr",
     "output_type": "stream",
     "text": [
      "\r",
      "Processing columns:  47%|████▋     | 2465/5273 [11:06<13:47,  3.39it/s]"
     ]
    },
    {
     "name": "stderr",
     "output_type": "stream",
     "text": [
      "\r",
      "Processing columns:  47%|████▋     | 2466/5273 [11:06<13:10,  3.55it/s]"
     ]
    },
    {
     "name": "stderr",
     "output_type": "stream",
     "text": [
      "\r",
      "Processing columns:  47%|████▋     | 2467/5273 [11:06<12:07,  3.86it/s]"
     ]
    },
    {
     "name": "stderr",
     "output_type": "stream",
     "text": [
      "\r",
      "Processing columns:  47%|████▋     | 2468/5273 [11:06<11:52,  3.94it/s]"
     ]
    },
    {
     "name": "stderr",
     "output_type": "stream",
     "text": [
      "\r",
      "Processing columns:  47%|████▋     | 2469/5273 [11:07<11:32,  4.05it/s]"
     ]
    },
    {
     "name": "stderr",
     "output_type": "stream",
     "text": [
      "\r",
      "Processing columns:  47%|████▋     | 2470/5273 [11:07<11:29,  4.07it/s]"
     ]
    },
    {
     "name": "stderr",
     "output_type": "stream",
     "text": [
      "\r",
      "Processing columns:  47%|████▋     | 2471/5273 [11:07<10:56,  4.27it/s]"
     ]
    },
    {
     "name": "stderr",
     "output_type": "stream",
     "text": [
      "\r",
      "Processing columns:  47%|████▋     | 2472/5273 [11:07<11:43,  3.98it/s]"
     ]
    },
    {
     "name": "stderr",
     "output_type": "stream",
     "text": [
      "\r",
      "Processing columns:  47%|████▋     | 2473/5273 [11:08<11:40,  4.00it/s]"
     ]
    },
    {
     "name": "stderr",
     "output_type": "stream",
     "text": [
      "\r",
      "Processing columns:  47%|████▋     | 2474/5273 [11:08<11:24,  4.09it/s]"
     ]
    },
    {
     "name": "stderr",
     "output_type": "stream",
     "text": [
      "\r",
      "Processing columns:  47%|████▋     | 2475/5273 [11:08<11:33,  4.03it/s]"
     ]
    },
    {
     "name": "stderr",
     "output_type": "stream",
     "text": [
      "\r",
      "Processing columns:  47%|████▋     | 2476/5273 [11:08<11:08,  4.18it/s]"
     ]
    },
    {
     "name": "stderr",
     "output_type": "stream",
     "text": [
      "\r",
      "Processing columns:  47%|████▋     | 2477/5273 [11:09<13:58,  3.33it/s]"
     ]
    },
    {
     "name": "stderr",
     "output_type": "stream",
     "text": [
      "\r",
      "Processing columns:  47%|████▋     | 2478/5273 [11:09<13:40,  3.41it/s]"
     ]
    },
    {
     "name": "stderr",
     "output_type": "stream",
     "text": [
      "\r",
      "Processing columns:  47%|████▋     | 2479/5273 [11:09<14:10,  3.29it/s]"
     ]
    },
    {
     "name": "stderr",
     "output_type": "stream",
     "text": [
      "\r",
      "Processing columns:  47%|████▋     | 2480/5273 [11:10<13:40,  3.40it/s]"
     ]
    },
    {
     "name": "stderr",
     "output_type": "stream",
     "text": [
      "\r",
      "Processing columns:  47%|████▋     | 2481/5273 [11:10<12:37,  3.68it/s]"
     ]
    },
    {
     "name": "stderr",
     "output_type": "stream",
     "text": [
      "\r",
      "Processing columns:  47%|████▋     | 2482/5273 [11:10<12:08,  3.83it/s]"
     ]
    },
    {
     "name": "stderr",
     "output_type": "stream",
     "text": [
      "\r",
      "Processing columns:  47%|████▋     | 2483/5273 [11:10<11:47,  3.94it/s]"
     ]
    },
    {
     "name": "stderr",
     "output_type": "stream",
     "text": [
      "\r",
      "Processing columns:  47%|████▋     | 2484/5273 [11:11<11:59,  3.88it/s]"
     ]
    },
    {
     "name": "stderr",
     "output_type": "stream",
     "text": [
      "\r",
      "Processing columns:  47%|████▋     | 2485/5273 [11:11<11:25,  4.07it/s]"
     ]
    },
    {
     "name": "stderr",
     "output_type": "stream",
     "text": [
      "\r",
      "Processing columns:  47%|████▋     | 2486/5273 [11:11<11:53,  3.91it/s]"
     ]
    },
    {
     "name": "stderr",
     "output_type": "stream",
     "text": [
      "\r",
      "Processing columns:  47%|████▋     | 2487/5273 [11:11<11:25,  4.06it/s]"
     ]
    },
    {
     "name": "stderr",
     "output_type": "stream",
     "text": [
      "\r",
      "Processing columns:  47%|████▋     | 2488/5273 [11:12<11:02,  4.21it/s]"
     ]
    },
    {
     "name": "stderr",
     "output_type": "stream",
     "text": [
      "\r",
      "Processing columns:  47%|████▋     | 2489/5273 [11:12<12:51,  3.61it/s]"
     ]
    },
    {
     "name": "stderr",
     "output_type": "stream",
     "text": [
      "\r",
      "Processing columns:  47%|████▋     | 2490/5273 [11:12<15:15,  3.04it/s]"
     ]
    },
    {
     "name": "stderr",
     "output_type": "stream",
     "text": [
      "\r",
      "Processing columns:  47%|████▋     | 2491/5273 [11:13<13:45,  3.37it/s]"
     ]
    },
    {
     "name": "stderr",
     "output_type": "stream",
     "text": [
      "\r",
      "Processing columns:  47%|████▋     | 2492/5273 [11:13<12:43,  3.64it/s]"
     ]
    },
    {
     "name": "stderr",
     "output_type": "stream",
     "text": [
      "\r",
      "Processing columns:  47%|████▋     | 2493/5273 [11:13<12:03,  3.84it/s]"
     ]
    },
    {
     "name": "stderr",
     "output_type": "stream",
     "text": [
      "\r",
      "Processing columns:  47%|████▋     | 2494/5273 [11:13<11:48,  3.92it/s]"
     ]
    },
    {
     "name": "stderr",
     "output_type": "stream",
     "text": [
      "\r",
      "Processing columns:  47%|████▋     | 2495/5273 [11:14<13:18,  3.48it/s]"
     ]
    },
    {
     "name": "stderr",
     "output_type": "stream",
     "text": [
      "\r",
      "Processing columns:  47%|████▋     | 2496/5273 [11:14<12:41,  3.65it/s]"
     ]
    },
    {
     "name": "stderr",
     "output_type": "stream",
     "text": [
      "\r",
      "Processing columns:  47%|████▋     | 2497/5273 [11:14<12:01,  3.85it/s]"
     ]
    },
    {
     "name": "stderr",
     "output_type": "stream",
     "text": [
      "\r",
      "Processing columns:  47%|████▋     | 2498/5273 [11:14<11:37,  3.98it/s]"
     ]
    },
    {
     "name": "stderr",
     "output_type": "stream",
     "text": [
      "\r",
      "Processing columns:  47%|████▋     | 2499/5273 [11:15<12:12,  3.79it/s]"
     ]
    },
    {
     "name": "stderr",
     "output_type": "stream",
     "text": [
      "\r",
      "Processing columns:  47%|████▋     | 2500/5273 [11:15<11:49,  3.91it/s]"
     ]
    },
    {
     "name": "stderr",
     "output_type": "stream",
     "text": [
      "\r",
      "Processing columns:  47%|████▋     | 2501/5273 [11:15<11:28,  4.03it/s]"
     ]
    },
    {
     "name": "stderr",
     "output_type": "stream",
     "text": [
      "\r",
      "Processing columns:  47%|████▋     | 2502/5273 [11:15<11:13,  4.11it/s]"
     ]
    },
    {
     "name": "stderr",
     "output_type": "stream",
     "text": [
      "\r",
      "Processing columns:  47%|████▋     | 2503/5273 [11:16<14:21,  3.21it/s]"
     ]
    },
    {
     "name": "stderr",
     "output_type": "stream",
     "text": [
      "\r",
      "Processing columns:  47%|████▋     | 2504/5273 [11:16<13:03,  3.53it/s]"
     ]
    },
    {
     "name": "stderr",
     "output_type": "stream",
     "text": [
      "\r",
      "Processing columns:  48%|████▊     | 2505/5273 [11:16<13:48,  3.34it/s]"
     ]
    },
    {
     "name": "stderr",
     "output_type": "stream",
     "text": [
      "\r",
      "Processing columns:  48%|████▊     | 2506/5273 [11:17<13:02,  3.53it/s]"
     ]
    },
    {
     "name": "stderr",
     "output_type": "stream",
     "text": [
      "\r",
      "Processing columns:  48%|████▊     | 2507/5273 [11:17<13:38,  3.38it/s]"
     ]
    },
    {
     "name": "stderr",
     "output_type": "stream",
     "text": [
      "\r",
      "Processing columns:  48%|████▊     | 2508/5273 [11:17<13:11,  3.49it/s]"
     ]
    },
    {
     "name": "stderr",
     "output_type": "stream",
     "text": [
      "\r",
      "Processing columns:  48%|████▊     | 2509/5273 [11:18<13:00,  3.54it/s]"
     ]
    },
    {
     "name": "stderr",
     "output_type": "stream",
     "text": [
      "\r",
      "Processing columns:  48%|████▊     | 2510/5273 [11:18<11:54,  3.87it/s]"
     ]
    },
    {
     "name": "stderr",
     "output_type": "stream",
     "text": [
      "\r",
      "Processing columns:  48%|████▊     | 2511/5273 [11:18<11:17,  4.08it/s]"
     ]
    },
    {
     "name": "stderr",
     "output_type": "stream",
     "text": [
      "\r",
      "Processing columns:  48%|████▊     | 2512/5273 [11:18<11:07,  4.13it/s]"
     ]
    },
    {
     "name": "stderr",
     "output_type": "stream",
     "text": [
      "\r",
      "Processing columns:  48%|████▊     | 2513/5273 [11:19<12:36,  3.65it/s]"
     ]
    },
    {
     "name": "stderr",
     "output_type": "stream",
     "text": [
      "\r",
      "Processing columns:  48%|████▊     | 2514/5273 [11:19<12:23,  3.71it/s]"
     ]
    },
    {
     "name": "stderr",
     "output_type": "stream",
     "text": [
      "\r",
      "Processing columns:  48%|████▊     | 2515/5273 [11:19<11:25,  4.03it/s]"
     ]
    },
    {
     "name": "stderr",
     "output_type": "stream",
     "text": [
      "\r",
      "Processing columns:  48%|████▊     | 2516/5273 [11:19<11:57,  3.84it/s]"
     ]
    },
    {
     "name": "stderr",
     "output_type": "stream",
     "text": [
      "\r",
      "Processing columns:  48%|████▊     | 2517/5273 [11:20<14:38,  3.14it/s]"
     ]
    },
    {
     "name": "stderr",
     "output_type": "stream",
     "text": [
      "\r",
      "Processing columns:  48%|████▊     | 2518/5273 [11:20<13:30,  3.40it/s]"
     ]
    },
    {
     "name": "stderr",
     "output_type": "stream",
     "text": [
      "\r",
      "Processing columns:  48%|████▊     | 2519/5273 [11:20<12:39,  3.63it/s]"
     ]
    },
    {
     "name": "stderr",
     "output_type": "stream",
     "text": [
      "\r",
      "Processing columns:  48%|████▊     | 2520/5273 [11:20<11:50,  3.88it/s]"
     ]
    },
    {
     "name": "stderr",
     "output_type": "stream",
     "text": [
      "\r",
      "Processing columns:  48%|████▊     | 2521/5273 [11:21<11:21,  4.04it/s]"
     ]
    },
    {
     "name": "stderr",
     "output_type": "stream",
     "text": [
      "\r",
      "Processing columns:  48%|████▊     | 2522/5273 [11:21<10:59,  4.17it/s]"
     ]
    },
    {
     "name": "stderr",
     "output_type": "stream",
     "text": [
      "\r",
      "Processing columns:  48%|████▊     | 2523/5273 [11:21<12:10,  3.76it/s]"
     ]
    },
    {
     "name": "stderr",
     "output_type": "stream",
     "text": [
      "\r",
      "Processing columns:  48%|████▊     | 2524/5273 [11:21<12:06,  3.78it/s]"
     ]
    },
    {
     "name": "stderr",
     "output_type": "stream",
     "text": [
      "\r",
      "Processing columns:  48%|████▊     | 2525/5273 [11:22<13:04,  3.50it/s]"
     ]
    },
    {
     "name": "stderr",
     "output_type": "stream",
     "text": [
      "\r",
      "Processing columns:  48%|████▊     | 2526/5273 [11:22<12:08,  3.77it/s]"
     ]
    },
    {
     "name": "stderr",
     "output_type": "stream",
     "text": [
      "\r",
      "Processing columns:  48%|████▊     | 2527/5273 [11:22<12:32,  3.65it/s]"
     ]
    },
    {
     "name": "stderr",
     "output_type": "stream",
     "text": [
      "\r",
      "Processing columns:  48%|████▊     | 2528/5273 [11:23<12:03,  3.79it/s]"
     ]
    },
    {
     "name": "stderr",
     "output_type": "stream",
     "text": [
      "\r",
      "Processing columns:  48%|████▊     | 2529/5273 [11:23<11:45,  3.89it/s]"
     ]
    },
    {
     "name": "stderr",
     "output_type": "stream",
     "text": [
      "\r",
      "Processing columns:  48%|████▊     | 2530/5273 [11:23<14:14,  3.21it/s]"
     ]
    },
    {
     "name": "stderr",
     "output_type": "stream",
     "text": [
      "\r",
      "Processing columns:  48%|████▊     | 2531/5273 [11:23<13:12,  3.46it/s]"
     ]
    },
    {
     "name": "stderr",
     "output_type": "stream",
     "text": [
      "\r",
      "Processing columns:  48%|████▊     | 2532/5273 [11:24<12:48,  3.57it/s]"
     ]
    },
    {
     "name": "stderr",
     "output_type": "stream",
     "text": [
      "\r",
      "Processing columns:  48%|████▊     | 2533/5273 [11:24<12:03,  3.79it/s]"
     ]
    },
    {
     "name": "stderr",
     "output_type": "stream",
     "text": [
      "\r",
      "Processing columns:  48%|████▊     | 2534/5273 [11:24<12:02,  3.79it/s]"
     ]
    },
    {
     "name": "stderr",
     "output_type": "stream",
     "text": [
      "\r",
      "Processing columns:  48%|████▊     | 2535/5273 [11:25<12:39,  3.60it/s]"
     ]
    },
    {
     "name": "stderr",
     "output_type": "stream",
     "text": [
      "\r",
      "Processing columns:  48%|████▊     | 2536/5273 [11:25<11:35,  3.94it/s]"
     ]
    },
    {
     "name": "stderr",
     "output_type": "stream",
     "text": [
      "\r",
      "Processing columns:  48%|████▊     | 2537/5273 [11:25<11:45,  3.88it/s]"
     ]
    },
    {
     "name": "stderr",
     "output_type": "stream",
     "text": [
      "\r",
      "Processing columns:  48%|████▊     | 2538/5273 [11:25<11:37,  3.92it/s]"
     ]
    },
    {
     "name": "stderr",
     "output_type": "stream",
     "text": [
      "\r",
      "Processing columns:  48%|████▊     | 2539/5273 [11:25<11:27,  3.98it/s]"
     ]
    },
    {
     "name": "stderr",
     "output_type": "stream",
     "text": [
      "\r",
      "Processing columns:  48%|████▊     | 2540/5273 [11:26<11:01,  4.13it/s]"
     ]
    },
    {
     "name": "stderr",
     "output_type": "stream",
     "text": [
      "\r",
      "Processing columns:  48%|████▊     | 2541/5273 [11:26<10:50,  4.20it/s]"
     ]
    },
    {
     "name": "stderr",
     "output_type": "stream",
     "text": [
      "\r",
      "Processing columns:  48%|████▊     | 2542/5273 [11:26<10:55,  4.16it/s]"
     ]
    },
    {
     "name": "stderr",
     "output_type": "stream",
     "text": [
      "\r",
      "Processing columns:  48%|████▊     | 2543/5273 [11:27<14:00,  3.25it/s]"
     ]
    },
    {
     "name": "stderr",
     "output_type": "stream",
     "text": [
      "\r",
      "Processing columns:  48%|████▊     | 2544/5273 [11:27<13:39,  3.33it/s]"
     ]
    },
    {
     "name": "stderr",
     "output_type": "stream",
     "text": [
      "\r",
      "Processing columns:  48%|████▊     | 2545/5273 [11:27<12:29,  3.64it/s]"
     ]
    },
    {
     "name": "stderr",
     "output_type": "stream",
     "text": [
      "\r",
      "Processing columns:  48%|████▊     | 2546/5273 [11:27<11:31,  3.94it/s]"
     ]
    },
    {
     "name": "stderr",
     "output_type": "stream",
     "text": [
      "\r",
      "Processing columns:  48%|████▊     | 2547/5273 [11:28<12:47,  3.55it/s]"
     ]
    },
    {
     "name": "stderr",
     "output_type": "stream",
     "text": [
      "\r",
      "Processing columns:  48%|████▊     | 2548/5273 [11:28<13:19,  3.41it/s]"
     ]
    },
    {
     "name": "stderr",
     "output_type": "stream",
     "text": [
      "\r",
      "Processing columns:  48%|████▊     | 2549/5273 [11:28<12:25,  3.66it/s]"
     ]
    },
    {
     "name": "stderr",
     "output_type": "stream",
     "text": [
      "\r",
      "Processing columns:  48%|████▊     | 2550/5273 [11:28<11:30,  3.94it/s]"
     ]
    },
    {
     "name": "stderr",
     "output_type": "stream",
     "text": [
      "\r",
      "Processing columns:  48%|████▊     | 2551/5273 [11:29<12:17,  3.69it/s]"
     ]
    },
    {
     "name": "stderr",
     "output_type": "stream",
     "text": [
      "\r",
      "Processing columns:  48%|████▊     | 2552/5273 [11:29<12:35,  3.60it/s]"
     ]
    },
    {
     "name": "stderr",
     "output_type": "stream",
     "text": [
      "\r",
      "Processing columns:  48%|████▊     | 2553/5273 [11:29<12:24,  3.65it/s]"
     ]
    },
    {
     "name": "stderr",
     "output_type": "stream",
     "text": [
      "\r",
      "Processing columns:  48%|████▊     | 2554/5273 [11:30<11:44,  3.86it/s]"
     ]
    },
    {
     "name": "stderr",
     "output_type": "stream",
     "text": [
      "\r",
      "Processing columns:  48%|████▊     | 2555/5273 [11:30<11:22,  3.98it/s]"
     ]
    },
    {
     "name": "stderr",
     "output_type": "stream",
     "text": [
      "\r",
      "Processing columns:  48%|████▊     | 2556/5273 [11:30<16:47,  2.70it/s]"
     ]
    },
    {
     "name": "stderr",
     "output_type": "stream",
     "text": [
      "\r",
      "Processing columns:  48%|████▊     | 2557/5273 [11:31<15:17,  2.96it/s]"
     ]
    },
    {
     "name": "stderr",
     "output_type": "stream",
     "text": [
      "\r",
      "Processing columns:  49%|████▊     | 2558/5273 [11:31<13:49,  3.27it/s]"
     ]
    },
    {
     "name": "stderr",
     "output_type": "stream",
     "text": [
      "\r",
      "Processing columns:  49%|████▊     | 2559/5273 [11:31<13:09,  3.44it/s]"
     ]
    },
    {
     "name": "stderr",
     "output_type": "stream",
     "text": [
      "\r",
      "Processing columns:  49%|████▊     | 2560/5273 [11:31<12:01,  3.76it/s]"
     ]
    },
    {
     "name": "stderr",
     "output_type": "stream",
     "text": [
      "\r",
      "Processing columns:  49%|████▊     | 2561/5273 [11:32<11:37,  3.89it/s]"
     ]
    },
    {
     "name": "stderr",
     "output_type": "stream",
     "text": [
      "\r",
      "Processing columns:  49%|████▊     | 2562/5273 [11:32<10:55,  4.13it/s]"
     ]
    },
    {
     "name": "stderr",
     "output_type": "stream",
     "text": [
      "\r",
      "Processing columns:  49%|████▊     | 2563/5273 [11:32<12:13,  3.69it/s]"
     ]
    },
    {
     "name": "stderr",
     "output_type": "stream",
     "text": [
      "\r",
      "Processing columns:  49%|████▊     | 2564/5273 [11:32<12:04,  3.74it/s]"
     ]
    },
    {
     "name": "stderr",
     "output_type": "stream",
     "text": [
      "\r",
      "Processing columns:  49%|████▊     | 2565/5273 [11:33<11:42,  3.85it/s]"
     ]
    },
    {
     "name": "stderr",
     "output_type": "stream",
     "text": [
      "\r",
      "Processing columns:  49%|████▊     | 2566/5273 [11:33<12:08,  3.72it/s]"
     ]
    },
    {
     "name": "stderr",
     "output_type": "stream",
     "text": [
      "\r",
      "Processing columns:  49%|████▊     | 2567/5273 [11:33<13:26,  3.35it/s]"
     ]
    },
    {
     "name": "stderr",
     "output_type": "stream",
     "text": [
      "\r",
      "Processing columns:  49%|████▊     | 2568/5273 [11:34<12:35,  3.58it/s]"
     ]
    },
    {
     "name": "stderr",
     "output_type": "stream",
     "text": [
      "\r",
      "Processing columns:  49%|████▊     | 2569/5273 [11:34<15:57,  2.83it/s]"
     ]
    },
    {
     "name": "stderr",
     "output_type": "stream",
     "text": [
      "\r",
      "Processing columns:  49%|████▊     | 2570/5273 [11:34<14:07,  3.19it/s]"
     ]
    },
    {
     "name": "stderr",
     "output_type": "stream",
     "text": [
      "\r",
      "Processing columns:  49%|████▉     | 2571/5273 [11:35<12:57,  3.48it/s]"
     ]
    },
    {
     "name": "stderr",
     "output_type": "stream",
     "text": [
      "\r",
      "Processing columns:  49%|████▉     | 2572/5273 [11:35<13:10,  3.42it/s]"
     ]
    },
    {
     "name": "stderr",
     "output_type": "stream",
     "text": [
      "\r",
      "Processing columns:  49%|████▉     | 2573/5273 [11:35<12:12,  3.69it/s]"
     ]
    },
    {
     "name": "stderr",
     "output_type": "stream",
     "text": [
      "\r",
      "Processing columns:  49%|████▉     | 2574/5273 [11:35<11:57,  3.76it/s]"
     ]
    },
    {
     "name": "stderr",
     "output_type": "stream",
     "text": [
      "\r",
      "Processing columns:  49%|████▉     | 2575/5273 [11:36<13:49,  3.25it/s]"
     ]
    },
    {
     "name": "stderr",
     "output_type": "stream",
     "text": [
      "\r",
      "Processing columns:  49%|████▉     | 2576/5273 [11:36<12:22,  3.63it/s]"
     ]
    },
    {
     "name": "stderr",
     "output_type": "stream",
     "text": [
      "\r",
      "Processing columns:  49%|████▉     | 2577/5273 [11:36<12:39,  3.55it/s]"
     ]
    },
    {
     "name": "stderr",
     "output_type": "stream",
     "text": [
      "\r",
      "Processing columns:  49%|████▉     | 2578/5273 [11:36<11:57,  3.76it/s]"
     ]
    },
    {
     "name": "stderr",
     "output_type": "stream",
     "text": [
      "\r",
      "Processing columns:  49%|████▉     | 2579/5273 [11:37<12:00,  3.74it/s]"
     ]
    },
    {
     "name": "stderr",
     "output_type": "stream",
     "text": [
      "\r",
      "Processing columns:  49%|████▉     | 2580/5273 [11:37<11:03,  4.06it/s]"
     ]
    },
    {
     "name": "stderr",
     "output_type": "stream",
     "text": [
      "\r",
      "Processing columns:  49%|████▉     | 2581/5273 [11:37<11:58,  3.75it/s]"
     ]
    },
    {
     "name": "stderr",
     "output_type": "stream",
     "text": [
      "\r",
      "Processing columns:  49%|████▉     | 2582/5273 [11:38<15:27,  2.90it/s]"
     ]
    },
    {
     "name": "stderr",
     "output_type": "stream",
     "text": [
      "\r",
      "Processing columns:  49%|████▉     | 2583/5273 [11:38<13:55,  3.22it/s]"
     ]
    },
    {
     "name": "stderr",
     "output_type": "stream",
     "text": [
      "\r",
      "Processing columns:  49%|████▉     | 2584/5273 [11:38<14:11,  3.16it/s]"
     ]
    },
    {
     "name": "stderr",
     "output_type": "stream",
     "text": [
      "\r",
      "Processing columns:  49%|████▉     | 2585/5273 [11:39<13:55,  3.22it/s]"
     ]
    },
    {
     "name": "stderr",
     "output_type": "stream",
     "text": [
      "\r",
      "Processing columns:  49%|████▉     | 2586/5273 [11:39<12:26,  3.60it/s]"
     ]
    },
    {
     "name": "stderr",
     "output_type": "stream",
     "text": [
      "\r",
      "Processing columns:  49%|████▉     | 2587/5273 [11:39<14:51,  3.01it/s]"
     ]
    },
    {
     "name": "stderr",
     "output_type": "stream",
     "text": [
      "\r",
      "Processing columns:  49%|████▉     | 2588/5273 [11:39<13:18,  3.36it/s]"
     ]
    },
    {
     "name": "stderr",
     "output_type": "stream",
     "text": [
      "\r",
      "Processing columns:  49%|████▉     | 2589/5273 [11:40<12:18,  3.63it/s]"
     ]
    },
    {
     "name": "stderr",
     "output_type": "stream",
     "text": [
      "\r",
      "Processing columns:  49%|████▉     | 2590/5273 [11:40<11:27,  3.90it/s]"
     ]
    },
    {
     "name": "stderr",
     "output_type": "stream",
     "text": [
      "\r",
      "Processing columns:  49%|████▉     | 2591/5273 [11:40<11:45,  3.80it/s]"
     ]
    },
    {
     "name": "stderr",
     "output_type": "stream",
     "text": [
      "\r",
      "Processing columns:  49%|████▉     | 2592/5273 [11:40<11:04,  4.03it/s]"
     ]
    },
    {
     "name": "stderr",
     "output_type": "stream",
     "text": [
      "\r",
      "Processing columns:  49%|████▉     | 2593/5273 [11:41<10:54,  4.09it/s]"
     ]
    },
    {
     "name": "stderr",
     "output_type": "stream",
     "text": [
      "\r",
      "Processing columns:  49%|████▉     | 2594/5273 [11:41<10:49,  4.13it/s]"
     ]
    },
    {
     "name": "stderr",
     "output_type": "stream",
     "text": [
      "\r",
      "Processing columns:  49%|████▉     | 2595/5273 [11:41<10:53,  4.10it/s]"
     ]
    },
    {
     "name": "stderr",
     "output_type": "stream",
     "text": [
      "\r",
      "Processing columns:  49%|████▉     | 2596/5273 [11:42<14:27,  3.09it/s]"
     ]
    },
    {
     "name": "stderr",
     "output_type": "stream",
     "text": [
      "\r",
      "Processing columns:  49%|████▉     | 2597/5273 [11:42<13:17,  3.36it/s]"
     ]
    },
    {
     "name": "stderr",
     "output_type": "stream",
     "text": [
      "\r",
      "Processing columns:  49%|████▉     | 2598/5273 [11:42<12:30,  3.57it/s]"
     ]
    },
    {
     "name": "stderr",
     "output_type": "stream",
     "text": [
      "\r",
      "Processing columns:  49%|████▉     | 2599/5273 [11:42<12:13,  3.65it/s]"
     ]
    },
    {
     "name": "stderr",
     "output_type": "stream",
     "text": [
      "\r",
      "Processing columns:  49%|████▉     | 2600/5273 [11:43<11:31,  3.87it/s]"
     ]
    },
    {
     "name": "stderr",
     "output_type": "stream",
     "text": [
      "\r",
      "Processing columns:  49%|████▉     | 2601/5273 [11:43<10:45,  4.14it/s]"
     ]
    },
    {
     "name": "stderr",
     "output_type": "stream",
     "text": [
      "\r",
      "Processing columns:  49%|████▉     | 2602/5273 [11:43<10:33,  4.22it/s]"
     ]
    },
    {
     "name": "stderr",
     "output_type": "stream",
     "text": [
      "\r",
      "Processing columns:  49%|████▉     | 2603/5273 [11:43<10:59,  4.05it/s]"
     ]
    },
    {
     "name": "stderr",
     "output_type": "stream",
     "text": [
      "\r",
      "Processing columns:  49%|████▉     | 2604/5273 [11:44<12:20,  3.60it/s]"
     ]
    },
    {
     "name": "stderr",
     "output_type": "stream",
     "text": [
      "\r",
      "Processing columns:  49%|████▉     | 2605/5273 [11:44<11:24,  3.90it/s]"
     ]
    },
    {
     "name": "stderr",
     "output_type": "stream",
     "text": [
      "\r",
      "Processing columns:  49%|████▉     | 2606/5273 [11:44<13:54,  3.19it/s]"
     ]
    },
    {
     "name": "stderr",
     "output_type": "stream",
     "text": [
      "\r",
      "Processing columns:  49%|████▉     | 2607/5273 [11:44<12:24,  3.58it/s]"
     ]
    },
    {
     "name": "stderr",
     "output_type": "stream",
     "text": [
      "\r",
      "Processing columns:  49%|████▉     | 2608/5273 [11:45<12:25,  3.57it/s]"
     ]
    },
    {
     "name": "stderr",
     "output_type": "stream",
     "text": [
      "\r",
      "Processing columns:  49%|████▉     | 2609/5273 [11:45<15:05,  2.94it/s]"
     ]
    },
    {
     "name": "stderr",
     "output_type": "stream",
     "text": [
      "\r",
      "Processing columns:  49%|████▉     | 2610/5273 [11:45<13:28,  3.30it/s]"
     ]
    },
    {
     "name": "stderr",
     "output_type": "stream",
     "text": [
      "\r",
      "Processing columns:  50%|████▉     | 2611/5273 [11:46<12:26,  3.57it/s]"
     ]
    },
    {
     "name": "stderr",
     "output_type": "stream",
     "text": [
      "\r",
      "Processing columns:  50%|████▉     | 2612/5273 [11:46<11:41,  3.79it/s]"
     ]
    },
    {
     "name": "stderr",
     "output_type": "stream",
     "text": [
      "\r",
      "Processing columns:  50%|████▉     | 2613/5273 [11:46<11:05,  4.00it/s]"
     ]
    },
    {
     "name": "stderr",
     "output_type": "stream",
     "text": [
      "\r",
      "Processing columns:  50%|████▉     | 2614/5273 [11:46<11:51,  3.74it/s]"
     ]
    },
    {
     "name": "stderr",
     "output_type": "stream",
     "text": [
      "\r",
      "Processing columns:  50%|████▉     | 2615/5273 [11:47<11:46,  3.76it/s]"
     ]
    },
    {
     "name": "stderr",
     "output_type": "stream",
     "text": [
      "\r",
      "Processing columns:  50%|████▉     | 2616/5273 [11:47<11:12,  3.95it/s]"
     ]
    },
    {
     "name": "stderr",
     "output_type": "stream",
     "text": [
      "\r",
      "Processing columns:  50%|████▉     | 2617/5273 [11:47<10:52,  4.07it/s]"
     ]
    },
    {
     "name": "stderr",
     "output_type": "stream",
     "text": [
      "\r",
      "Processing columns:  50%|████▉     | 2618/5273 [11:47<11:24,  3.88it/s]"
     ]
    },
    {
     "name": "stderr",
     "output_type": "stream",
     "text": [
      "\r",
      "Processing columns:  50%|████▉     | 2619/5273 [11:48<10:42,  4.13it/s]"
     ]
    },
    {
     "name": "stderr",
     "output_type": "stream",
     "text": [
      "\r",
      "Processing columns:  50%|████▉     | 2620/5273 [11:48<10:07,  4.36it/s]"
     ]
    },
    {
     "name": "stderr",
     "output_type": "stream",
     "text": [
      "\r",
      "Processing columns:  50%|████▉     | 2621/5273 [11:48<10:56,  4.04it/s]"
     ]
    },
    {
     "name": "stderr",
     "output_type": "stream",
     "text": [
      "\r",
      "Processing columns:  50%|████▉     | 2622/5273 [11:49<14:30,  3.05it/s]"
     ]
    },
    {
     "name": "stderr",
     "output_type": "stream",
     "text": [
      "\r",
      "Processing columns:  50%|████▉     | 2623/5273 [11:49<13:02,  3.39it/s]"
     ]
    },
    {
     "name": "stderr",
     "output_type": "stream",
     "text": [
      "\r",
      "Processing columns:  50%|████▉     | 2624/5273 [11:49<13:24,  3.29it/s]"
     ]
    },
    {
     "name": "stderr",
     "output_type": "stream",
     "text": [
      "\r",
      "Processing columns:  50%|████▉     | 2625/5273 [11:49<12:18,  3.59it/s]"
     ]
    },
    {
     "name": "stderr",
     "output_type": "stream",
     "text": [
      "\r",
      "Processing columns:  50%|████▉     | 2626/5273 [11:50<13:47,  3.20it/s]"
     ]
    },
    {
     "name": "stderr",
     "output_type": "stream",
     "text": [
      "\r",
      "Processing columns:  50%|████▉     | 2627/5273 [11:50<12:40,  3.48it/s]"
     ]
    },
    {
     "name": "stderr",
     "output_type": "stream",
     "text": [
      "\r",
      "Processing columns:  50%|████▉     | 2628/5273 [11:50<12:26,  3.54it/s]"
     ]
    },
    {
     "name": "stderr",
     "output_type": "stream",
     "text": [
      "\r",
      "Processing columns:  50%|████▉     | 2629/5273 [11:51<12:08,  3.63it/s]"
     ]
    },
    {
     "name": "stderr",
     "output_type": "stream",
     "text": [
      "\r",
      "Processing columns:  50%|████▉     | 2630/5273 [11:51<12:05,  3.64it/s]"
     ]
    },
    {
     "name": "stderr",
     "output_type": "stream",
     "text": [
      "\r",
      "Processing columns:  50%|████▉     | 2631/5273 [11:51<11:16,  3.91it/s]"
     ]
    },
    {
     "name": "stderr",
     "output_type": "stream",
     "text": [
      "\r",
      "Processing columns:  50%|████▉     | 2632/5273 [11:51<10:43,  4.11it/s]"
     ]
    },
    {
     "name": "stderr",
     "output_type": "stream",
     "text": [
      "\r",
      "Processing columns:  50%|████▉     | 2633/5273 [11:52<11:22,  3.87it/s]"
     ]
    },
    {
     "name": "stderr",
     "output_type": "stream",
     "text": [
      "\r",
      "Processing columns:  50%|████▉     | 2634/5273 [11:52<11:18,  3.89it/s]"
     ]
    },
    {
     "name": "stderr",
     "output_type": "stream",
     "text": [
      "\r",
      "Processing columns:  50%|████▉     | 2635/5273 [11:52<15:22,  2.86it/s]"
     ]
    },
    {
     "name": "stderr",
     "output_type": "stream",
     "text": [
      "\r",
      "Processing columns:  50%|████▉     | 2636/5273 [11:53<13:32,  3.25it/s]"
     ]
    },
    {
     "name": "stderr",
     "output_type": "stream",
     "text": [
      "\r",
      "Processing columns:  50%|█████     | 2637/5273 [11:53<12:29,  3.52it/s]"
     ]
    },
    {
     "name": "stderr",
     "output_type": "stream",
     "text": [
      "\r",
      "Processing columns:  50%|█████     | 2638/5273 [11:53<12:16,  3.58it/s]"
     ]
    },
    {
     "name": "stderr",
     "output_type": "stream",
     "text": [
      "\r",
      "Processing columns:  50%|█████     | 2639/5273 [11:53<11:41,  3.75it/s]"
     ]
    },
    {
     "name": "stderr",
     "output_type": "stream",
     "text": [
      "\r",
      "Processing columns:  50%|█████     | 2640/5273 [11:54<11:22,  3.86it/s]"
     ]
    },
    {
     "name": "stderr",
     "output_type": "stream",
     "text": [
      "\r",
      "Processing columns:  50%|█████     | 2641/5273 [11:54<10:55,  4.01it/s]"
     ]
    },
    {
     "name": "stderr",
     "output_type": "stream",
     "text": [
      "\r",
      "Processing columns:  50%|█████     | 2642/5273 [11:54<10:52,  4.03it/s]"
     ]
    },
    {
     "name": "stderr",
     "output_type": "stream",
     "text": [
      "\r",
      "Processing columns:  50%|█████     | 2643/5273 [11:54<11:55,  3.67it/s]"
     ]
    },
    {
     "name": "stderr",
     "output_type": "stream",
     "text": [
      "\r",
      "Processing columns:  50%|█████     | 2644/5273 [11:55<11:30,  3.81it/s]"
     ]
    },
    {
     "name": "stderr",
     "output_type": "stream",
     "text": [
      "\r",
      "Processing columns:  50%|█████     | 2645/5273 [11:55<10:50,  4.04it/s]"
     ]
    },
    {
     "name": "stderr",
     "output_type": "stream",
     "text": [
      "\r",
      "Processing columns:  50%|█████     | 2646/5273 [11:55<11:40,  3.75it/s]"
     ]
    },
    {
     "name": "stderr",
     "output_type": "stream",
     "text": [
      "\r",
      "Processing columns:  50%|█████     | 2647/5273 [11:55<11:41,  3.74it/s]"
     ]
    },
    {
     "name": "stderr",
     "output_type": "stream",
     "text": [
      "\r",
      "Processing columns:  50%|█████     | 2648/5273 [11:56<14:29,  3.02it/s]"
     ]
    },
    {
     "name": "stderr",
     "output_type": "stream",
     "text": [
      "\r",
      "Processing columns:  50%|█████     | 2649/5273 [11:56<13:12,  3.31it/s]"
     ]
    },
    {
     "name": "stderr",
     "output_type": "stream",
     "text": [
      "\r",
      "Processing columns:  50%|█████     | 2650/5273 [11:56<12:34,  3.48it/s]"
     ]
    },
    {
     "name": "stderr",
     "output_type": "stream",
     "text": [
      "\r",
      "Processing columns:  50%|█████     | 2651/5273 [11:57<11:30,  3.80it/s]"
     ]
    },
    {
     "name": "stderr",
     "output_type": "stream",
     "text": [
      "\r",
      "Processing columns:  50%|█████     | 2652/5273 [11:57<12:47,  3.42it/s]"
     ]
    },
    {
     "name": "stderr",
     "output_type": "stream",
     "text": [
      "\r",
      "Processing columns:  50%|█████     | 2653/5273 [11:57<11:38,  3.75it/s]"
     ]
    },
    {
     "name": "stderr",
     "output_type": "stream",
     "text": [
      "\r",
      "Processing columns:  50%|█████     | 2654/5273 [11:57<11:42,  3.73it/s]"
     ]
    },
    {
     "name": "stderr",
     "output_type": "stream",
     "text": [
      "\r",
      "Processing columns:  50%|█████     | 2655/5273 [11:58<11:46,  3.71it/s]"
     ]
    },
    {
     "name": "stderr",
     "output_type": "stream",
     "text": [
      "\r",
      "Processing columns:  50%|█████     | 2656/5273 [11:58<11:26,  3.81it/s]"
     ]
    },
    {
     "name": "stderr",
     "output_type": "stream",
     "text": [
      "\r",
      "Processing columns:  50%|█████     | 2657/5273 [11:58<10:54,  3.99it/s]"
     ]
    },
    {
     "name": "stderr",
     "output_type": "stream",
     "text": [
      "\r",
      "Processing columns:  50%|█████     | 2658/5273 [11:58<11:36,  3.75it/s]"
     ]
    },
    {
     "name": "stderr",
     "output_type": "stream",
     "text": [
      "\r",
      "Processing columns:  50%|█████     | 2659/5273 [11:59<11:02,  3.95it/s]"
     ]
    },
    {
     "name": "stderr",
     "output_type": "stream",
     "text": [
      "\r",
      "Processing columns:  50%|█████     | 2660/5273 [11:59<10:50,  4.02it/s]"
     ]
    },
    {
     "name": "stderr",
     "output_type": "stream",
     "text": [
      "\r",
      "Processing columns:  50%|█████     | 2661/5273 [11:59<13:35,  3.20it/s]"
     ]
    },
    {
     "name": "stderr",
     "output_type": "stream",
     "text": [
      "\r",
      "Processing columns:  50%|█████     | 2662/5273 [12:00<12:24,  3.51it/s]"
     ]
    },
    {
     "name": "stderr",
     "output_type": "stream",
     "text": [
      "\r",
      "Processing columns:  51%|█████     | 2663/5273 [12:00<11:41,  3.72it/s]"
     ]
    },
    {
     "name": "stderr",
     "output_type": "stream",
     "text": [
      "\r",
      "Processing columns:  51%|█████     | 2664/5273 [12:00<11:04,  3.93it/s]"
     ]
    },
    {
     "name": "stderr",
     "output_type": "stream",
     "text": [
      "\r",
      "Processing columns:  51%|█████     | 2665/5273 [12:00<11:38,  3.73it/s]"
     ]
    },
    {
     "name": "stderr",
     "output_type": "stream",
     "text": [
      "\r",
      "Processing columns:  51%|█████     | 2666/5273 [12:01<11:57,  3.63it/s]"
     ]
    },
    {
     "name": "stderr",
     "output_type": "stream",
     "text": [
      "\r",
      "Processing columns:  51%|█████     | 2667/5273 [12:01<11:08,  3.90it/s]"
     ]
    },
    {
     "name": "stderr",
     "output_type": "stream",
     "text": [
      "\r",
      "Processing columns:  51%|█████     | 2668/5273 [12:01<10:51,  4.00it/s]"
     ]
    },
    {
     "name": "stderr",
     "output_type": "stream",
     "text": [
      "\r",
      "Processing columns:  51%|█████     | 2669/5273 [12:01<10:56,  3.96it/s]"
     ]
    },
    {
     "name": "stderr",
     "output_type": "stream",
     "text": [
      "\r",
      "Processing columns:  51%|█████     | 2670/5273 [12:02<12:03,  3.60it/s]"
     ]
    },
    {
     "name": "stderr",
     "output_type": "stream",
     "text": [
      "\r",
      "Processing columns:  51%|█████     | 2671/5273 [12:02<11:16,  3.85it/s]"
     ]
    },
    {
     "name": "stderr",
     "output_type": "stream",
     "text": [
      "\r",
      "Processing columns:  51%|█████     | 2672/5273 [12:02<10:40,  4.06it/s]"
     ]
    },
    {
     "name": "stderr",
     "output_type": "stream",
     "text": [
      "\r",
      "Processing columns:  51%|█████     | 2673/5273 [12:02<10:26,  4.15it/s]"
     ]
    },
    {
     "name": "stderr",
     "output_type": "stream",
     "text": [
      "\r",
      "Processing columns:  51%|█████     | 2674/5273 [12:03<11:03,  3.92it/s]"
     ]
    },
    {
     "name": "stderr",
     "output_type": "stream",
     "text": [
      "\r",
      "Processing columns:  51%|█████     | 2675/5273 [12:03<14:13,  3.04it/s]"
     ]
    },
    {
     "name": "stderr",
     "output_type": "stream",
     "text": [
      "\r",
      "Processing columns:  51%|█████     | 2676/5273 [12:03<13:01,  3.32it/s]"
     ]
    },
    {
     "name": "stderr",
     "output_type": "stream",
     "text": [
      "\r",
      "Processing columns:  51%|█████     | 2677/5273 [12:04<12:07,  3.57it/s]"
     ]
    },
    {
     "name": "stderr",
     "output_type": "stream",
     "text": [
      "\r",
      "Processing columns:  51%|█████     | 2678/5273 [12:04<11:30,  3.76it/s]"
     ]
    },
    {
     "name": "stderr",
     "output_type": "stream",
     "text": [
      "\r",
      "Processing columns:  51%|█████     | 2679/5273 [12:04<11:14,  3.85it/s]"
     ]
    },
    {
     "name": "stderr",
     "output_type": "stream",
     "text": [
      "\r",
      "Processing columns:  51%|█████     | 2680/5273 [12:04<11:17,  3.83it/s]"
     ]
    },
    {
     "name": "stderr",
     "output_type": "stream",
     "text": [
      "\r",
      "Processing columns:  51%|█████     | 2681/5273 [12:05<10:49,  3.99it/s]"
     ]
    },
    {
     "name": "stderr",
     "output_type": "stream",
     "text": [
      "\r",
      "Processing columns:  51%|█████     | 2682/5273 [12:05<10:28,  4.13it/s]"
     ]
    },
    {
     "name": "stderr",
     "output_type": "stream",
     "text": [
      "\r",
      "Processing columns:  51%|█████     | 2683/5273 [12:05<10:29,  4.12it/s]"
     ]
    },
    {
     "name": "stderr",
     "output_type": "stream",
     "text": [
      "\r",
      "Processing columns:  51%|█████     | 2684/5273 [12:05<10:21,  4.17it/s]"
     ]
    },
    {
     "name": "stderr",
     "output_type": "stream",
     "text": [
      "\r",
      "Processing columns:  51%|█████     | 2685/5273 [12:06<10:25,  4.14it/s]"
     ]
    },
    {
     "name": "stderr",
     "output_type": "stream",
     "text": [
      "\r",
      "Processing columns:  51%|█████     | 2686/5273 [12:06<10:25,  4.14it/s]"
     ]
    },
    {
     "name": "stderr",
     "output_type": "stream",
     "text": [
      "\r",
      "Processing columns:  51%|█████     | 2687/5273 [12:06<10:59,  3.92it/s]"
     ]
    },
    {
     "name": "stderr",
     "output_type": "stream",
     "text": [
      "\r",
      "Processing columns:  51%|█████     | 2688/5273 [12:06<13:27,  3.20it/s]"
     ]
    },
    {
     "name": "stderr",
     "output_type": "stream",
     "text": [
      "\r",
      "Processing columns:  51%|█████     | 2689/5273 [12:07<13:28,  3.20it/s]"
     ]
    },
    {
     "name": "stderr",
     "output_type": "stream",
     "text": [
      "\r",
      "Processing columns:  51%|█████     | 2690/5273 [12:07<12:15,  3.51it/s]"
     ]
    },
    {
     "name": "stderr",
     "output_type": "stream",
     "text": [
      "\r",
      "Processing columns:  51%|█████     | 2691/5273 [12:07<11:08,  3.86it/s]"
     ]
    },
    {
     "name": "stderr",
     "output_type": "stream",
     "text": [
      "\r",
      "Processing columns:  51%|█████     | 2692/5273 [12:07<10:48,  3.98it/s]"
     ]
    },
    {
     "name": "stderr",
     "output_type": "stream",
     "text": [
      "\r",
      "Processing columns:  51%|█████     | 2693/5273 [12:08<11:04,  3.89it/s]"
     ]
    },
    {
     "name": "stderr",
     "output_type": "stream",
     "text": [
      "\r",
      "Processing columns:  51%|█████     | 2694/5273 [12:08<10:56,  3.93it/s]"
     ]
    },
    {
     "name": "stderr",
     "output_type": "stream",
     "text": [
      "\r",
      "Processing columns:  51%|█████     | 2695/5273 [12:08<11:44,  3.66it/s]"
     ]
    },
    {
     "name": "stderr",
     "output_type": "stream",
     "text": [
      "\r",
      "Processing columns:  51%|█████     | 2696/5273 [12:09<12:32,  3.42it/s]"
     ]
    },
    {
     "name": "stderr",
     "output_type": "stream",
     "text": [
      "\r",
      "Processing columns:  51%|█████     | 2697/5273 [12:09<11:25,  3.76it/s]"
     ]
    },
    {
     "name": "stderr",
     "output_type": "stream",
     "text": [
      "\r",
      "Processing columns:  51%|█████     | 2698/5273 [12:09<11:25,  3.76it/s]"
     ]
    },
    {
     "name": "stderr",
     "output_type": "stream",
     "text": [
      "\r",
      "Processing columns:  51%|█████     | 2699/5273 [12:09<11:02,  3.89it/s]"
     ]
    },
    {
     "name": "stderr",
     "output_type": "stream",
     "text": [
      "\r",
      "Processing columns:  51%|█████     | 2700/5273 [12:10<10:46,  3.98it/s]"
     ]
    },
    {
     "name": "stderr",
     "output_type": "stream",
     "text": [
      "\r",
      "Processing columns:  51%|█████     | 2701/5273 [12:10<12:59,  3.30it/s]"
     ]
    },
    {
     "name": "stderr",
     "output_type": "stream",
     "text": [
      "\r",
      "Processing columns:  51%|█████     | 2702/5273 [12:10<12:12,  3.51it/s]"
     ]
    },
    {
     "name": "stderr",
     "output_type": "stream",
     "text": [
      "\r",
      "Processing columns:  51%|█████▏    | 2703/5273 [12:10<11:23,  3.76it/s]"
     ]
    },
    {
     "name": "stderr",
     "output_type": "stream",
     "text": [
      "\r",
      "Processing columns:  51%|█████▏    | 2704/5273 [12:11<11:27,  3.73it/s]"
     ]
    },
    {
     "name": "stderr",
     "output_type": "stream",
     "text": [
      "\r",
      "Processing columns:  51%|█████▏    | 2705/5273 [12:11<11:07,  3.85it/s]"
     ]
    },
    {
     "name": "stderr",
     "output_type": "stream",
     "text": [
      "\r",
      "Processing columns:  51%|█████▏    | 2706/5273 [12:11<10:49,  3.95it/s]"
     ]
    },
    {
     "name": "stderr",
     "output_type": "stream",
     "text": [
      "\r",
      "Processing columns:  51%|█████▏    | 2707/5273 [12:11<10:50,  3.95it/s]"
     ]
    },
    {
     "name": "stderr",
     "output_type": "stream",
     "text": [
      "\r",
      "Processing columns:  51%|█████▏    | 2708/5273 [12:12<10:50,  3.94it/s]"
     ]
    },
    {
     "name": "stderr",
     "output_type": "stream",
     "text": [
      "\r",
      "Processing columns:  51%|█████▏    | 2709/5273 [12:12<10:42,  3.99it/s]"
     ]
    },
    {
     "name": "stderr",
     "output_type": "stream",
     "text": [
      "\r",
      "Processing columns:  51%|█████▏    | 2710/5273 [12:12<10:54,  3.91it/s]"
     ]
    },
    {
     "name": "stderr",
     "output_type": "stream",
     "text": [
      "\r",
      "Processing columns:  51%|█████▏    | 2711/5273 [12:12<10:22,  4.12it/s]"
     ]
    },
    {
     "name": "stderr",
     "output_type": "stream",
     "text": [
      "\r",
      "Processing columns:  51%|█████▏    | 2712/5273 [12:13<10:58,  3.89it/s]"
     ]
    },
    {
     "name": "stderr",
     "output_type": "stream",
     "text": [
      "\r",
      "Processing columns:  51%|█████▏    | 2713/5273 [12:13<10:53,  3.92it/s]"
     ]
    },
    {
     "name": "stderr",
     "output_type": "stream",
     "text": [
      "\r",
      "Processing columns:  51%|█████▏    | 2714/5273 [12:13<13:12,  3.23it/s]"
     ]
    },
    {
     "name": "stderr",
     "output_type": "stream",
     "text": [
      "\r",
      "Processing columns:  51%|█████▏    | 2715/5273 [12:14<11:51,  3.60it/s]"
     ]
    },
    {
     "name": "stderr",
     "output_type": "stream",
     "text": [
      "\r",
      "Processing columns:  52%|█████▏    | 2716/5273 [12:14<12:55,  3.30it/s]"
     ]
    },
    {
     "name": "stderr",
     "output_type": "stream",
     "text": [
      "\r",
      "Processing columns:  52%|█████▏    | 2717/5273 [12:14<11:50,  3.60it/s]"
     ]
    },
    {
     "name": "stderr",
     "output_type": "stream",
     "text": [
      "\r",
      "Processing columns:  52%|█████▏    | 2718/5273 [12:15<13:16,  3.21it/s]"
     ]
    },
    {
     "name": "stderr",
     "output_type": "stream",
     "text": [
      "\r",
      "Processing columns:  52%|█████▏    | 2719/5273 [12:15<12:31,  3.40it/s]"
     ]
    },
    {
     "name": "stderr",
     "output_type": "stream",
     "text": [
      "\r",
      "Processing columns:  52%|█████▏    | 2720/5273 [12:15<12:44,  3.34it/s]"
     ]
    },
    {
     "name": "stderr",
     "output_type": "stream",
     "text": [
      "\r",
      "Processing columns:  52%|█████▏    | 2721/5273 [12:15<11:40,  3.64it/s]"
     ]
    },
    {
     "name": "stderr",
     "output_type": "stream",
     "text": [
      "\r",
      "Processing columns:  52%|█████▏    | 2722/5273 [12:16<10:54,  3.90it/s]"
     ]
    },
    {
     "name": "stderr",
     "output_type": "stream",
     "text": [
      "\r",
      "Processing columns:  52%|█████▏    | 2723/5273 [12:16<10:32,  4.03it/s]"
     ]
    },
    {
     "name": "stderr",
     "output_type": "stream",
     "text": [
      "\r",
      "Processing columns:  52%|█████▏    | 2724/5273 [12:16<10:37,  4.00it/s]"
     ]
    },
    {
     "name": "stderr",
     "output_type": "stream",
     "text": [
      "\r",
      "Processing columns:  52%|█████▏    | 2725/5273 [12:16<11:44,  3.62it/s]"
     ]
    },
    {
     "name": "stderr",
     "output_type": "stream",
     "text": [
      "\r",
      "Processing columns:  52%|█████▏    | 2726/5273 [12:17<11:08,  3.81it/s]"
     ]
    },
    {
     "name": "stderr",
     "output_type": "stream",
     "text": [
      "\r",
      "Processing columns:  52%|█████▏    | 2727/5273 [12:17<14:16,  2.97it/s]"
     ]
    },
    {
     "name": "stderr",
     "output_type": "stream",
     "text": [
      "\r",
      "Processing columns:  52%|█████▏    | 2728/5273 [12:17<12:59,  3.27it/s]"
     ]
    },
    {
     "name": "stderr",
     "output_type": "stream",
     "text": [
      "\r",
      "Processing columns:  52%|█████▏    | 2729/5273 [12:18<12:00,  3.53it/s]"
     ]
    },
    {
     "name": "stderr",
     "output_type": "stream",
     "text": [
      "\r",
      "Processing columns:  52%|█████▏    | 2730/5273 [12:18<11:18,  3.75it/s]"
     ]
    },
    {
     "name": "stderr",
     "output_type": "stream",
     "text": [
      "\r",
      "Processing columns:  52%|█████▏    | 2731/5273 [12:18<10:34,  4.00it/s]"
     ]
    },
    {
     "name": "stderr",
     "output_type": "stream",
     "text": [
      "\r",
      "Processing columns:  52%|█████▏    | 2732/5273 [12:18<10:15,  4.13it/s]"
     ]
    },
    {
     "name": "stderr",
     "output_type": "stream",
     "text": [
      "\r",
      "Processing columns:  52%|█████▏    | 2733/5273 [12:19<11:30,  3.68it/s]"
     ]
    },
    {
     "name": "stderr",
     "output_type": "stream",
     "text": [
      "\r",
      "Processing columns:  52%|█████▏    | 2734/5273 [12:19<10:48,  3.92it/s]"
     ]
    },
    {
     "name": "stderr",
     "output_type": "stream",
     "text": [
      "\r",
      "Processing columns:  52%|█████▏    | 2735/5273 [12:19<10:59,  3.85it/s]"
     ]
    },
    {
     "name": "stderr",
     "output_type": "stream",
     "text": [
      "\r",
      "Processing columns:  52%|█████▏    | 2736/5273 [12:19<10:36,  3.99it/s]"
     ]
    },
    {
     "name": "stderr",
     "output_type": "stream",
     "text": [
      "\r",
      "Processing columns:  52%|█████▏    | 2737/5273 [12:20<10:27,  4.04it/s]"
     ]
    },
    {
     "name": "stderr",
     "output_type": "stream",
     "text": [
      "\r",
      "Processing columns:  52%|█████▏    | 2738/5273 [12:20<10:33,  4.00it/s]"
     ]
    },
    {
     "name": "stderr",
     "output_type": "stream",
     "text": [
      "\r",
      "Processing columns:  52%|█████▏    | 2739/5273 [12:20<10:17,  4.10it/s]"
     ]
    },
    {
     "name": "stderr",
     "output_type": "stream",
     "text": [
      "\r",
      "Processing columns:  52%|█████▏    | 2740/5273 [12:21<15:01,  2.81it/s]"
     ]
    },
    {
     "name": "stderr",
     "output_type": "stream",
     "text": [
      "\r",
      "Processing columns:  52%|█████▏    | 2741/5273 [12:21<13:41,  3.08it/s]"
     ]
    },
    {
     "name": "stderr",
     "output_type": "stream",
     "text": [
      "\r",
      "Processing columns:  52%|█████▏    | 2742/5273 [12:21<12:31,  3.37it/s]"
     ]
    },
    {
     "name": "stderr",
     "output_type": "stream",
     "text": [
      "\r",
      "Processing columns:  52%|█████▏    | 2743/5273 [12:21<11:31,  3.66it/s]"
     ]
    },
    {
     "name": "stderr",
     "output_type": "stream",
     "text": [
      "\r",
      "Processing columns:  52%|█████▏    | 2744/5273 [12:22<12:05,  3.49it/s]"
     ]
    },
    {
     "name": "stderr",
     "output_type": "stream",
     "text": [
      "\r",
      "Processing columns:  52%|█████▏    | 2745/5273 [12:22<12:22,  3.40it/s]"
     ]
    },
    {
     "name": "stderr",
     "output_type": "stream",
     "text": [
      "\r",
      "Processing columns:  52%|█████▏    | 2746/5273 [12:22<11:36,  3.63it/s]"
     ]
    },
    {
     "name": "stderr",
     "output_type": "stream",
     "text": [
      "\r",
      "Processing columns:  52%|█████▏    | 2747/5273 [12:22<11:06,  3.79it/s]"
     ]
    },
    {
     "name": "stderr",
     "output_type": "stream",
     "text": [
      "\r",
      "Processing columns:  52%|█████▏    | 2748/5273 [12:23<11:17,  3.73it/s]"
     ]
    },
    {
     "name": "stderr",
     "output_type": "stream",
     "text": [
      "\r",
      "Processing columns:  52%|█████▏    | 2749/5273 [12:23<11:03,  3.80it/s]"
     ]
    },
    {
     "name": "stderr",
     "output_type": "stream",
     "text": [
      "\r",
      "Processing columns:  52%|█████▏    | 2750/5273 [12:23<10:58,  3.83it/s]"
     ]
    },
    {
     "name": "stderr",
     "output_type": "stream",
     "text": [
      "\r",
      "Processing columns:  52%|█████▏    | 2751/5273 [12:24<10:30,  4.00it/s]"
     ]
    },
    {
     "name": "stderr",
     "output_type": "stream",
     "text": [
      "\r",
      "Processing columns:  52%|█████▏    | 2752/5273 [12:24<10:49,  3.88it/s]"
     ]
    },
    {
     "name": "stderr",
     "output_type": "stream",
     "text": [
      "\r",
      "Processing columns:  52%|█████▏    | 2753/5273 [12:24<13:47,  3.04it/s]"
     ]
    },
    {
     "name": "stderr",
     "output_type": "stream",
     "text": [
      "\r",
      "Processing columns:  52%|█████▏    | 2754/5273 [12:25<12:41,  3.31it/s]"
     ]
    },
    {
     "name": "stderr",
     "output_type": "stream",
     "text": [
      "\r",
      "Processing columns:  52%|█████▏    | 2755/5273 [12:25<12:15,  3.43it/s]"
     ]
    },
    {
     "name": "stderr",
     "output_type": "stream",
     "text": [
      "\r",
      "Processing columns:  52%|█████▏    | 2756/5273 [12:25<12:02,  3.48it/s]"
     ]
    },
    {
     "name": "stderr",
     "output_type": "stream",
     "text": [
      "\r",
      "Processing columns:  52%|█████▏    | 2757/5273 [12:25<11:05,  3.78it/s]"
     ]
    },
    {
     "name": "stderr",
     "output_type": "stream",
     "text": [
      "\r",
      "Processing columns:  52%|█████▏    | 2758/5273 [12:25<10:32,  3.98it/s]"
     ]
    },
    {
     "name": "stderr",
     "output_type": "stream",
     "text": [
      "\r",
      "Processing columns:  52%|█████▏    | 2759/5273 [12:26<10:09,  4.13it/s]"
     ]
    },
    {
     "name": "stderr",
     "output_type": "stream",
     "text": [
      "\r",
      "Processing columns:  52%|█████▏    | 2760/5273 [12:26<11:58,  3.50it/s]"
     ]
    },
    {
     "name": "stderr",
     "output_type": "stream",
     "text": [
      "\r",
      "Processing columns:  52%|█████▏    | 2761/5273 [12:26<11:15,  3.72it/s]"
     ]
    },
    {
     "name": "stderr",
     "output_type": "stream",
     "text": [
      "\r",
      "Processing columns:  52%|█████▏    | 2762/5273 [12:27<10:52,  3.85it/s]"
     ]
    },
    {
     "name": "stderr",
     "output_type": "stream",
     "text": [
      "\r",
      "Processing columns:  52%|█████▏    | 2763/5273 [12:27<10:11,  4.11it/s]"
     ]
    },
    {
     "name": "stderr",
     "output_type": "stream",
     "text": [
      "\r",
      "Processing columns:  52%|█████▏    | 2764/5273 [12:27<10:29,  3.99it/s]"
     ]
    },
    {
     "name": "stderr",
     "output_type": "stream",
     "text": [
      "\r",
      "Processing columns:  52%|█████▏    | 2765/5273 [12:27<11:49,  3.53it/s]"
     ]
    },
    {
     "name": "stderr",
     "output_type": "stream",
     "text": [
      "\r",
      "Processing columns:  52%|█████▏    | 2766/5273 [12:28<10:58,  3.81it/s]"
     ]
    },
    {
     "name": "stderr",
     "output_type": "stream",
     "text": [
      "\r",
      "Processing columns:  52%|█████▏    | 2767/5273 [12:28<15:05,  2.77it/s]"
     ]
    },
    {
     "name": "stderr",
     "output_type": "stream",
     "text": [
      "\r",
      "Processing columns:  52%|█████▏    | 2768/5273 [12:28<13:09,  3.17it/s]"
     ]
    },
    {
     "name": "stderr",
     "output_type": "stream",
     "text": [
      "\r",
      "Processing columns:  53%|█████▎    | 2769/5273 [12:29<12:02,  3.46it/s]"
     ]
    },
    {
     "name": "stderr",
     "output_type": "stream",
     "text": [
      "\r",
      "Processing columns:  53%|█████▎    | 2770/5273 [12:29<11:14,  3.71it/s]"
     ]
    },
    {
     "name": "stderr",
     "output_type": "stream",
     "text": [
      "\r",
      "Processing columns:  53%|█████▎    | 2771/5273 [12:29<10:37,  3.93it/s]"
     ]
    },
    {
     "name": "stderr",
     "output_type": "stream",
     "text": [
      "\r",
      "Processing columns:  53%|█████▎    | 2772/5273 [12:29<11:19,  3.68it/s]"
     ]
    },
    {
     "name": "stderr",
     "output_type": "stream",
     "text": [
      "\r",
      "Processing columns:  53%|█████▎    | 2773/5273 [12:30<10:22,  4.01it/s]"
     ]
    },
    {
     "name": "stderr",
     "output_type": "stream",
     "text": [
      "\r",
      "Processing columns:  53%|█████▎    | 2774/5273 [12:30<11:18,  3.69it/s]"
     ]
    },
    {
     "name": "stderr",
     "output_type": "stream",
     "text": [
      "\r",
      "Processing columns:  53%|█████▎    | 2775/5273 [12:30<10:28,  3.98it/s]"
     ]
    },
    {
     "name": "stderr",
     "output_type": "stream",
     "text": [
      "\r",
      "Processing columns:  53%|█████▎    | 2776/5273 [12:30<10:23,  4.00it/s]"
     ]
    },
    {
     "name": "stderr",
     "output_type": "stream",
     "text": [
      "\r",
      "Processing columns:  53%|█████▎    | 2777/5273 [12:31<11:15,  3.70it/s]"
     ]
    },
    {
     "name": "stderr",
     "output_type": "stream",
     "text": [
      "\r",
      "Processing columns:  53%|█████▎    | 2778/5273 [12:31<12:05,  3.44it/s]"
     ]
    },
    {
     "name": "stderr",
     "output_type": "stream",
     "text": [
      "\r",
      "Processing columns:  53%|█████▎    | 2779/5273 [12:31<11:18,  3.68it/s]"
     ]
    },
    {
     "name": "stderr",
     "output_type": "stream",
     "text": [
      "\r",
      "Processing columns:  53%|█████▎    | 2780/5273 [12:32<14:07,  2.94it/s]"
     ]
    },
    {
     "name": "stderr",
     "output_type": "stream",
     "text": [
      "\r",
      "Processing columns:  53%|█████▎    | 2781/5273 [12:32<12:42,  3.27it/s]"
     ]
    },
    {
     "name": "stderr",
     "output_type": "stream",
     "text": [
      "\r",
      "Processing columns:  53%|█████▎    | 2782/5273 [12:32<11:42,  3.55it/s]"
     ]
    },
    {
     "name": "stderr",
     "output_type": "stream",
     "text": [
      "\r",
      "Processing columns:  53%|█████▎    | 2783/5273 [12:32<11:15,  3.69it/s]"
     ]
    },
    {
     "name": "stderr",
     "output_type": "stream",
     "text": [
      "\r",
      "Processing columns:  53%|█████▎    | 2784/5273 [12:33<11:21,  3.65it/s]"
     ]
    },
    {
     "name": "stderr",
     "output_type": "stream",
     "text": [
      "\r",
      "Processing columns:  53%|█████▎    | 2785/5273 [12:33<11:11,  3.71it/s]"
     ]
    },
    {
     "name": "stderr",
     "output_type": "stream",
     "text": [
      "\r",
      "Processing columns:  53%|█████▎    | 2786/5273 [12:33<10:46,  3.85it/s]"
     ]
    },
    {
     "name": "stderr",
     "output_type": "stream",
     "text": [
      "\r",
      "Processing columns:  53%|█████▎    | 2787/5273 [12:33<10:03,  4.12it/s]"
     ]
    },
    {
     "name": "stderr",
     "output_type": "stream",
     "text": [
      "\r",
      "Processing columns:  53%|█████▎    | 2788/5273 [12:34<10:07,  4.09it/s]"
     ]
    },
    {
     "name": "stderr",
     "output_type": "stream",
     "text": [
      "\r",
      "Processing columns:  53%|█████▎    | 2789/5273 [12:34<11:09,  3.71it/s]"
     ]
    },
    {
     "name": "stderr",
     "output_type": "stream",
     "text": [
      "\r",
      "Processing columns:  53%|█████▎    | 2790/5273 [12:34<11:49,  3.50it/s]"
     ]
    },
    {
     "name": "stderr",
     "output_type": "stream",
     "text": [
      "\r",
      "Processing columns:  53%|█████▎    | 2791/5273 [12:35<10:53,  3.80it/s]"
     ]
    },
    {
     "name": "stderr",
     "output_type": "stream",
     "text": [
      "\r",
      "Processing columns:  53%|█████▎    | 2792/5273 [12:35<10:30,  3.93it/s]"
     ]
    },
    {
     "name": "stderr",
     "output_type": "stream",
     "text": [
      "\r",
      "Processing columns:  53%|█████▎    | 2793/5273 [12:35<13:50,  2.99it/s]"
     ]
    },
    {
     "name": "stderr",
     "output_type": "stream",
     "text": [
      "\r",
      "Processing columns:  53%|█████▎    | 2794/5273 [12:36<12:34,  3.29it/s]"
     ]
    },
    {
     "name": "stderr",
     "output_type": "stream",
     "text": [
      "\r",
      "Processing columns:  53%|█████▎    | 2795/5273 [12:36<11:35,  3.57it/s]"
     ]
    },
    {
     "name": "stderr",
     "output_type": "stream",
     "text": [
      "\r",
      "Processing columns:  53%|█████▎    | 2796/5273 [12:36<10:43,  3.85it/s]"
     ]
    },
    {
     "name": "stderr",
     "output_type": "stream",
     "text": [
      "\r",
      "Processing columns:  53%|█████▎    | 2797/5273 [12:36<10:47,  3.82it/s]"
     ]
    },
    {
     "name": "stderr",
     "output_type": "stream",
     "text": [
      "\r",
      "Processing columns:  53%|█████▎    | 2798/5273 [12:36<10:51,  3.80it/s]"
     ]
    },
    {
     "name": "stderr",
     "output_type": "stream",
     "text": [
      "\r",
      "Processing columns:  53%|█████▎    | 2799/5273 [12:37<10:32,  3.91it/s]"
     ]
    },
    {
     "name": "stderr",
     "output_type": "stream",
     "text": [
      "\r",
      "Processing columns:  53%|█████▎    | 2800/5273 [12:37<10:33,  3.91it/s]"
     ]
    },
    {
     "name": "stderr",
     "output_type": "stream",
     "text": [
      "\r",
      "Processing columns:  53%|█████▎    | 2801/5273 [12:37<09:51,  4.18it/s]"
     ]
    },
    {
     "name": "stderr",
     "output_type": "stream",
     "text": [
      "\r",
      "Processing columns:  53%|█████▎    | 2802/5273 [12:37<09:46,  4.21it/s]"
     ]
    },
    {
     "name": "stderr",
     "output_type": "stream",
     "text": [
      "\r",
      "Processing columns:  53%|█████▎    | 2803/5273 [12:38<10:49,  3.80it/s]"
     ]
    },
    {
     "name": "stderr",
     "output_type": "stream",
     "text": [
      "\r",
      "Processing columns:  53%|█████▎    | 2804/5273 [12:38<10:29,  3.92it/s]"
     ]
    },
    {
     "name": "stderr",
     "output_type": "stream",
     "text": [
      "\r",
      "Processing columns:  53%|█████▎    | 2805/5273 [12:38<10:57,  3.75it/s]"
     ]
    },
    {
     "name": "stderr",
     "output_type": "stream",
     "text": [
      "\r",
      "Processing columns:  53%|█████▎    | 2806/5273 [12:39<13:56,  2.95it/s]"
     ]
    },
    {
     "name": "stderr",
     "output_type": "stream",
     "text": [
      "\r",
      "Processing columns:  53%|█████▎    | 2807/5273 [12:39<12:37,  3.26it/s]"
     ]
    },
    {
     "name": "stderr",
     "output_type": "stream",
     "text": [
      "\r",
      "Processing columns:  53%|█████▎    | 2808/5273 [12:39<11:37,  3.54it/s]"
     ]
    },
    {
     "name": "stderr",
     "output_type": "stream",
     "text": [
      "\r",
      "Processing columns:  53%|█████▎    | 2809/5273 [12:40<11:23,  3.61it/s]"
     ]
    },
    {
     "name": "stderr",
     "output_type": "stream",
     "text": [
      "\r",
      "Processing columns:  53%|█████▎    | 2810/5273 [12:40<11:30,  3.57it/s]"
     ]
    },
    {
     "name": "stderr",
     "output_type": "stream",
     "text": [
      "\r",
      "Processing columns:  53%|█████▎    | 2811/5273 [12:40<10:53,  3.77it/s]"
     ]
    },
    {
     "name": "stderr",
     "output_type": "stream",
     "text": [
      "\r",
      "Processing columns:  53%|█████▎    | 2812/5273 [12:40<10:25,  3.93it/s]"
     ]
    },
    {
     "name": "stderr",
     "output_type": "stream",
     "text": [
      "\r",
      "Processing columns:  53%|█████▎    | 2813/5273 [12:41<10:19,  3.97it/s]"
     ]
    },
    {
     "name": "stderr",
     "output_type": "stream",
     "text": [
      "\r",
      "Processing columns:  53%|█████▎    | 2814/5273 [12:41<10:17,  3.98it/s]"
     ]
    },
    {
     "name": "stderr",
     "output_type": "stream",
     "text": [
      "\r",
      "Processing columns:  53%|█████▎    | 2815/5273 [12:41<10:05,  4.06it/s]"
     ]
    },
    {
     "name": "stderr",
     "output_type": "stream",
     "text": [
      "\r",
      "Processing columns:  53%|█████▎    | 2816/5273 [12:41<10:01,  4.08it/s]"
     ]
    },
    {
     "name": "stderr",
     "output_type": "stream",
     "text": [
      "\r",
      "Processing columns:  53%|█████▎    | 2817/5273 [12:42<10:26,  3.92it/s]"
     ]
    },
    {
     "name": "stderr",
     "output_type": "stream",
     "text": [
      "\r",
      "Processing columns:  53%|█████▎    | 2818/5273 [12:42<10:25,  3.92it/s]"
     ]
    },
    {
     "name": "stderr",
     "output_type": "stream",
     "text": [
      "\r",
      "Processing columns:  53%|█████▎    | 2819/5273 [12:42<13:22,  3.06it/s]"
     ]
    },
    {
     "name": "stderr",
     "output_type": "stream",
     "text": [
      "\r",
      "Processing columns:  53%|█████▎    | 2820/5273 [12:43<12:26,  3.29it/s]"
     ]
    },
    {
     "name": "stderr",
     "output_type": "stream",
     "text": [
      "\r",
      "Processing columns:  53%|█████▎    | 2821/5273 [12:43<11:11,  3.65it/s]"
     ]
    },
    {
     "name": "stderr",
     "output_type": "stream",
     "text": [
      "\r",
      "Processing columns:  54%|█████▎    | 2822/5273 [12:43<10:52,  3.76it/s]"
     ]
    },
    {
     "name": "stderr",
     "output_type": "stream",
     "text": [
      "\r",
      "Processing columns:  54%|█████▎    | 2823/5273 [12:43<10:32,  3.87it/s]"
     ]
    },
    {
     "name": "stderr",
     "output_type": "stream",
     "text": [
      "\r",
      "Processing columns:  54%|█████▎    | 2824/5273 [12:43<09:53,  4.12it/s]"
     ]
    },
    {
     "name": "stderr",
     "output_type": "stream",
     "text": [
      "\r",
      "Processing columns:  54%|█████▎    | 2825/5273 [12:44<11:14,  3.63it/s]"
     ]
    },
    {
     "name": "stderr",
     "output_type": "stream",
     "text": [
      "\r",
      "Processing columns:  54%|█████▎    | 2826/5273 [12:44<11:44,  3.47it/s]"
     ]
    },
    {
     "name": "stderr",
     "output_type": "stream",
     "text": [
      "\r",
      "Processing columns:  54%|█████▎    | 2827/5273 [12:44<11:13,  3.63it/s]"
     ]
    },
    {
     "name": "stderr",
     "output_type": "stream",
     "text": [
      "\r",
      "Processing columns:  54%|█████▎    | 2828/5273 [12:45<10:42,  3.80it/s]"
     ]
    },
    {
     "name": "stderr",
     "output_type": "stream",
     "text": [
      "\r",
      "Processing columns:  54%|█████▎    | 2829/5273 [12:45<10:08,  4.02it/s]"
     ]
    },
    {
     "name": "stderr",
     "output_type": "stream",
     "text": [
      "\r",
      "Processing columns:  54%|█████▎    | 2830/5273 [12:45<10:37,  3.83it/s]"
     ]
    },
    {
     "name": "stderr",
     "output_type": "stream",
     "text": [
      "\r",
      "Processing columns:  54%|█████▎    | 2831/5273 [12:45<10:17,  3.95it/s]"
     ]
    },
    {
     "name": "stderr",
     "output_type": "stream",
     "text": [
      "\r",
      "Processing columns:  54%|█████▎    | 2832/5273 [12:46<12:57,  3.14it/s]"
     ]
    },
    {
     "name": "stderr",
     "output_type": "stream",
     "text": [
      "\r",
      "Processing columns:  54%|█████▎    | 2833/5273 [12:46<11:38,  3.49it/s]"
     ]
    },
    {
     "name": "stderr",
     "output_type": "stream",
     "text": [
      "\r",
      "Processing columns:  54%|█████▎    | 2834/5273 [12:46<12:17,  3.31it/s]"
     ]
    },
    {
     "name": "stderr",
     "output_type": "stream",
     "text": [
      "\r",
      "Processing columns:  54%|█████▍    | 2835/5273 [12:47<11:49,  3.44it/s]"
     ]
    },
    {
     "name": "stderr",
     "output_type": "stream",
     "text": [
      "\r",
      "Processing columns:  54%|█████▍    | 2836/5273 [12:47<11:11,  3.63it/s]"
     ]
    },
    {
     "name": "stderr",
     "output_type": "stream",
     "text": [
      "\r",
      "Processing columns:  54%|█████▍    | 2837/5273 [12:47<10:27,  3.88it/s]"
     ]
    },
    {
     "name": "stderr",
     "output_type": "stream",
     "text": [
      "\r",
      "Processing columns:  54%|█████▍    | 2838/5273 [12:47<10:12,  3.98it/s]"
     ]
    },
    {
     "name": "stderr",
     "output_type": "stream",
     "text": [
      "\r",
      "Processing columns:  54%|█████▍    | 2839/5273 [12:48<10:25,  3.89it/s]"
     ]
    },
    {
     "name": "stderr",
     "output_type": "stream",
     "text": [
      "\r",
      "Processing columns:  54%|█████▍    | 2840/5273 [12:48<10:31,  3.85it/s]"
     ]
    },
    {
     "name": "stderr",
     "output_type": "stream",
     "text": [
      "\r",
      "Processing columns:  54%|█████▍    | 2841/5273 [12:48<10:14,  3.96it/s]"
     ]
    },
    {
     "name": "stderr",
     "output_type": "stream",
     "text": [
      "\r",
      "Processing columns:  54%|█████▍    | 2842/5273 [12:48<09:33,  4.24it/s]"
     ]
    },
    {
     "name": "stderr",
     "output_type": "stream",
     "text": [
      "\r",
      "Processing columns:  54%|█████▍    | 2843/5273 [12:49<10:09,  3.99it/s]"
     ]
    },
    {
     "name": "stderr",
     "output_type": "stream",
     "text": [
      "\r",
      "Processing columns:  54%|█████▍    | 2844/5273 [12:49<10:18,  3.93it/s]"
     ]
    },
    {
     "name": "stderr",
     "output_type": "stream",
     "text": [
      "\r",
      "Processing columns:  54%|█████▍    | 2845/5273 [12:49<09:59,  4.05it/s]"
     ]
    },
    {
     "name": "stderr",
     "output_type": "stream",
     "text": [
      "\r",
      "Processing columns:  54%|█████▍    | 2846/5273 [12:50<15:13,  2.66it/s]"
     ]
    },
    {
     "name": "stderr",
     "output_type": "stream",
     "text": [
      "\r",
      "Processing columns:  54%|█████▍    | 2847/5273 [12:50<13:16,  3.05it/s]"
     ]
    },
    {
     "name": "stderr",
     "output_type": "stream",
     "text": [
      "\r",
      "Processing columns:  54%|█████▍    | 2848/5273 [12:50<12:05,  3.34it/s]"
     ]
    },
    {
     "name": "stderr",
     "output_type": "stream",
     "text": [
      "\r",
      "Processing columns:  54%|█████▍    | 2849/5273 [12:50<11:39,  3.46it/s]"
     ]
    },
    {
     "name": "stderr",
     "output_type": "stream",
     "text": [
      "\r",
      "Processing columns:  54%|█████▍    | 2850/5273 [12:51<11:19,  3.57it/s]"
     ]
    },
    {
     "name": "stderr",
     "output_type": "stream",
     "text": [
      "\r",
      "Processing columns:  54%|█████▍    | 2851/5273 [12:51<10:23,  3.89it/s]"
     ]
    },
    {
     "name": "stderr",
     "output_type": "stream",
     "text": [
      "\r",
      "Processing columns:  54%|█████▍    | 2852/5273 [12:51<09:57,  4.05it/s]"
     ]
    },
    {
     "name": "stderr",
     "output_type": "stream",
     "text": [
      "\r",
      "Processing columns:  54%|█████▍    | 2853/5273 [12:51<09:44,  4.14it/s]"
     ]
    },
    {
     "name": "stderr",
     "output_type": "stream",
     "text": [
      "\r",
      "Processing columns:  54%|█████▍    | 2854/5273 [12:52<09:48,  4.11it/s]"
     ]
    },
    {
     "name": "stderr",
     "output_type": "stream",
     "text": [
      "\r",
      "Processing columns:  54%|█████▍    | 2855/5273 [12:52<09:36,  4.19it/s]"
     ]
    },
    {
     "name": "stderr",
     "output_type": "stream",
     "text": [
      "\r",
      "Processing columns:  54%|█████▍    | 2856/5273 [12:52<09:51,  4.08it/s]"
     ]
    },
    {
     "name": "stderr",
     "output_type": "stream",
     "text": [
      "\r",
      "Processing columns:  54%|█████▍    | 2857/5273 [12:52<10:01,  4.01it/s]"
     ]
    },
    {
     "name": "stderr",
     "output_type": "stream",
     "text": [
      "\r",
      "Processing columns:  54%|█████▍    | 2858/5273 [12:53<09:42,  4.15it/s]"
     ]
    },
    {
     "name": "stderr",
     "output_type": "stream",
     "text": [
      "\r",
      "Processing columns:  54%|█████▍    | 2859/5273 [12:53<13:34,  2.97it/s]"
     ]
    },
    {
     "name": "stderr",
     "output_type": "stream",
     "text": [
      "\r",
      "Processing columns:  54%|█████▍    | 2860/5273 [12:53<12:28,  3.22it/s]"
     ]
    },
    {
     "name": "stderr",
     "output_type": "stream",
     "text": [
      "\r",
      "Processing columns:  54%|█████▍    | 2861/5273 [12:54<11:06,  3.62it/s]"
     ]
    },
    {
     "name": "stderr",
     "output_type": "stream",
     "text": [
      "\r",
      "Processing columns:  54%|█████▍    | 2862/5273 [12:54<10:29,  3.83it/s]"
     ]
    },
    {
     "name": "stderr",
     "output_type": "stream",
     "text": [
      "\r",
      "Processing columns:  54%|█████▍    | 2863/5273 [12:54<09:58,  4.03it/s]"
     ]
    },
    {
     "name": "stderr",
     "output_type": "stream",
     "text": [
      "\r",
      "Processing columns:  54%|█████▍    | 2864/5273 [12:54<10:05,  3.98it/s]"
     ]
    },
    {
     "name": "stderr",
     "output_type": "stream",
     "text": [
      "\r",
      "Processing columns:  54%|█████▍    | 2865/5273 [12:55<10:07,  3.97it/s]"
     ]
    },
    {
     "name": "stderr",
     "output_type": "stream",
     "text": [
      "\r",
      "Processing columns:  54%|█████▍    | 2866/5273 [12:55<09:45,  4.11it/s]"
     ]
    },
    {
     "name": "stderr",
     "output_type": "stream",
     "text": [
      "\r",
      "Processing columns:  54%|█████▍    | 2867/5273 [12:55<11:03,  3.62it/s]"
     ]
    },
    {
     "name": "stderr",
     "output_type": "stream",
     "text": [
      "\r",
      "Processing columns:  54%|█████▍    | 2868/5273 [12:55<10:52,  3.69it/s]"
     ]
    },
    {
     "name": "stderr",
     "output_type": "stream",
     "text": [
      "\r",
      "Processing columns:  54%|█████▍    | 2869/5273 [12:56<10:27,  3.83it/s]"
     ]
    },
    {
     "name": "stderr",
     "output_type": "stream",
     "text": [
      "\r",
      "Processing columns:  54%|█████▍    | 2870/5273 [12:56<10:21,  3.87it/s]"
     ]
    },
    {
     "name": "stderr",
     "output_type": "stream",
     "text": [
      "\r",
      "Processing columns:  54%|█████▍    | 2871/5273 [12:56<10:24,  3.84it/s]"
     ]
    },
    {
     "name": "stderr",
     "output_type": "stream",
     "text": [
      "\r",
      "Processing columns:  54%|█████▍    | 2872/5273 [12:57<13:44,  2.91it/s]"
     ]
    },
    {
     "name": "stderr",
     "output_type": "stream",
     "text": [
      "\r",
      "Processing columns:  54%|█████▍    | 2873/5273 [12:57<12:02,  3.32it/s]"
     ]
    },
    {
     "name": "stderr",
     "output_type": "stream",
     "text": [
      "\r",
      "Processing columns:  55%|█████▍    | 2874/5273 [12:57<13:33,  2.95it/s]"
     ]
    },
    {
     "name": "stderr",
     "output_type": "stream",
     "text": [
      "\r",
      "Processing columns:  55%|█████▍    | 2875/5273 [12:57<12:13,  3.27it/s]"
     ]
    },
    {
     "name": "stderr",
     "output_type": "stream",
     "text": [
      "\r",
      "Processing columns:  55%|█████▍    | 2876/5273 [12:58<12:01,  3.32it/s]"
     ]
    },
    {
     "name": "stderr",
     "output_type": "stream",
     "text": [
      "\r",
      "Processing columns:  55%|█████▍    | 2877/5273 [12:58<11:29,  3.47it/s]"
     ]
    },
    {
     "name": "stderr",
     "output_type": "stream",
     "text": [
      "\r",
      "Processing columns:  55%|█████▍    | 2878/5273 [12:58<10:57,  3.64it/s]"
     ]
    },
    {
     "name": "stderr",
     "output_type": "stream",
     "text": [
      "\r",
      "Processing columns:  55%|█████▍    | 2879/5273 [12:59<10:28,  3.81it/s]"
     ]
    },
    {
     "name": "stderr",
     "output_type": "stream",
     "text": [
      "\r",
      "Processing columns:  55%|█████▍    | 2880/5273 [12:59<10:13,  3.90it/s]"
     ]
    },
    {
     "name": "stderr",
     "output_type": "stream",
     "text": [
      "\r",
      "Processing columns:  55%|█████▍    | 2881/5273 [12:59<09:47,  4.07it/s]"
     ]
    },
    {
     "name": "stderr",
     "output_type": "stream",
     "text": [
      "\r",
      "Processing columns:  55%|█████▍    | 2882/5273 [12:59<10:58,  3.63it/s]"
     ]
    },
    {
     "name": "stderr",
     "output_type": "stream",
     "text": [
      "\r",
      "Processing columns:  55%|█████▍    | 2883/5273 [13:00<10:46,  3.70it/s]"
     ]
    },
    {
     "name": "stderr",
     "output_type": "stream",
     "text": [
      "\r",
      "Processing columns:  55%|█████▍    | 2884/5273 [13:00<10:26,  3.81it/s]"
     ]
    },
    {
     "name": "stderr",
     "output_type": "stream",
     "text": [
      "\r",
      "Processing columns:  55%|█████▍    | 2885/5273 [13:00<13:17,  2.99it/s]"
     ]
    },
    {
     "name": "stderr",
     "output_type": "stream",
     "text": [
      "\r",
      "Processing columns:  55%|█████▍    | 2886/5273 [13:01<12:28,  3.19it/s]"
     ]
    },
    {
     "name": "stderr",
     "output_type": "stream",
     "text": [
      "\r",
      "Processing columns:  55%|█████▍    | 2887/5273 [13:01<11:22,  3.50it/s]"
     ]
    },
    {
     "name": "stderr",
     "output_type": "stream",
     "text": [
      "\r",
      "Processing columns:  55%|█████▍    | 2888/5273 [13:01<10:41,  3.72it/s]"
     ]
    },
    {
     "name": "stderr",
     "output_type": "stream",
     "text": [
      "\r",
      "Processing columns:  55%|█████▍    | 2889/5273 [13:01<10:27,  3.80it/s]"
     ]
    },
    {
     "name": "stderr",
     "output_type": "stream",
     "text": [
      "\r",
      "Processing columns:  55%|█████▍    | 2890/5273 [13:02<10:56,  3.63it/s]"
     ]
    },
    {
     "name": "stderr",
     "output_type": "stream",
     "text": [
      "\r",
      "Processing columns:  55%|█████▍    | 2891/5273 [13:02<10:31,  3.77it/s]"
     ]
    },
    {
     "name": "stderr",
     "output_type": "stream",
     "text": [
      "\r",
      "Processing columns:  55%|█████▍    | 2892/5273 [13:02<10:07,  3.92it/s]"
     ]
    },
    {
     "name": "stderr",
     "output_type": "stream",
     "text": [
      "\r",
      "Processing columns:  55%|█████▍    | 2893/5273 [13:02<09:55,  4.00it/s]"
     ]
    },
    {
     "name": "stderr",
     "output_type": "stream",
     "text": [
      "\r",
      "Processing columns:  55%|█████▍    | 2894/5273 [13:03<10:02,  3.95it/s]"
     ]
    },
    {
     "name": "stderr",
     "output_type": "stream",
     "text": [
      "\r",
      "Processing columns:  55%|█████▍    | 2895/5273 [13:03<09:28,  4.18it/s]"
     ]
    },
    {
     "name": "stderr",
     "output_type": "stream",
     "text": [
      "\r",
      "Processing columns:  55%|█████▍    | 2896/5273 [13:03<10:40,  3.71it/s]"
     ]
    },
    {
     "name": "stderr",
     "output_type": "stream",
     "text": [
      "\r",
      "Processing columns:  55%|█████▍    | 2897/5273 [13:03<11:47,  3.36it/s]"
     ]
    },
    {
     "name": "stderr",
     "output_type": "stream",
     "text": [
      "\r",
      "Processing columns:  55%|█████▍    | 2898/5273 [13:04<13:38,  2.90it/s]"
     ]
    },
    {
     "name": "stderr",
     "output_type": "stream",
     "text": [
      "\r",
      "Processing columns:  55%|█████▍    | 2899/5273 [13:04<12:42,  3.11it/s]"
     ]
    },
    {
     "name": "stderr",
     "output_type": "stream",
     "text": [
      "\r",
      "Processing columns:  55%|█████▍    | 2900/5273 [13:04<12:09,  3.25it/s]"
     ]
    },
    {
     "name": "stderr",
     "output_type": "stream",
     "text": [
      "\r",
      "Processing columns:  55%|█████▌    | 2901/5273 [13:05<11:22,  3.47it/s]"
     ]
    },
    {
     "name": "stderr",
     "output_type": "stream",
     "text": [
      "\r",
      "Processing columns:  55%|█████▌    | 2902/5273 [13:05<10:50,  3.65it/s]"
     ]
    },
    {
     "name": "stderr",
     "output_type": "stream",
     "text": [
      "\r",
      "Processing columns:  55%|█████▌    | 2903/5273 [13:05<10:17,  3.84it/s]"
     ]
    },
    {
     "name": "stderr",
     "output_type": "stream",
     "text": [
      "\r",
      "Processing columns:  55%|█████▌    | 2904/5273 [13:05<09:41,  4.07it/s]"
     ]
    },
    {
     "name": "stderr",
     "output_type": "stream",
     "text": [
      "\r",
      "Processing columns:  55%|█████▌    | 2905/5273 [13:06<11:20,  3.48it/s]"
     ]
    },
    {
     "name": "stderr",
     "output_type": "stream",
     "text": [
      "\r",
      "Processing columns:  55%|█████▌    | 2906/5273 [13:06<10:23,  3.80it/s]"
     ]
    },
    {
     "name": "stderr",
     "output_type": "stream",
     "text": [
      "\r",
      "Processing columns:  55%|█████▌    | 2907/5273 [13:06<10:53,  3.62it/s]"
     ]
    },
    {
     "name": "stderr",
     "output_type": "stream",
     "text": [
      "\r",
      "Processing columns:  55%|█████▌    | 2908/5273 [13:07<11:10,  3.53it/s]"
     ]
    },
    {
     "name": "stderr",
     "output_type": "stream",
     "text": [
      "\r",
      "Processing columns:  55%|█████▌    | 2909/5273 [13:07<10:10,  3.87it/s]"
     ]
    },
    {
     "name": "stderr",
     "output_type": "stream",
     "text": [
      "\r",
      "Processing columns:  55%|█████▌    | 2910/5273 [13:07<10:42,  3.68it/s]"
     ]
    },
    {
     "name": "stderr",
     "output_type": "stream",
     "text": [
      "\r",
      "Processing columns:  55%|█████▌    | 2911/5273 [13:08<13:33,  2.90it/s]"
     ]
    },
    {
     "name": "stderr",
     "output_type": "stream",
     "text": [
      "\r",
      "Processing columns:  55%|█████▌    | 2912/5273 [13:08<12:04,  3.26it/s]"
     ]
    },
    {
     "name": "stderr",
     "output_type": "stream",
     "text": [
      "\r",
      "Processing columns:  55%|█████▌    | 2913/5273 [13:08<11:50,  3.32it/s]"
     ]
    },
    {
     "name": "stderr",
     "output_type": "stream",
     "text": [
      "\r",
      "Processing columns:  55%|█████▌    | 2914/5273 [13:08<10:45,  3.65it/s]"
     ]
    },
    {
     "name": "stderr",
     "output_type": "stream",
     "text": [
      "\r",
      "Processing columns:  55%|█████▌    | 2915/5273 [13:09<10:15,  3.83it/s]"
     ]
    },
    {
     "name": "stderr",
     "output_type": "stream",
     "text": [
      "\r",
      "Processing columns:  55%|█████▌    | 2916/5273 [13:09<10:01,  3.92it/s]"
     ]
    },
    {
     "name": "stderr",
     "output_type": "stream",
     "text": [
      "\r",
      "Processing columns:  55%|█████▌    | 2917/5273 [13:09<09:54,  3.96it/s]"
     ]
    },
    {
     "name": "stderr",
     "output_type": "stream",
     "text": [
      "\r",
      "Processing columns:  55%|█████▌    | 2918/5273 [13:09<09:35,  4.09it/s]"
     ]
    },
    {
     "name": "stderr",
     "output_type": "stream",
     "text": [
      "\r",
      "Processing columns:  55%|█████▌    | 2919/5273 [13:10<10:08,  3.87it/s]"
     ]
    },
    {
     "name": "stderr",
     "output_type": "stream",
     "text": [
      "\r",
      "Processing columns:  55%|█████▌    | 2920/5273 [13:10<09:47,  4.00it/s]"
     ]
    },
    {
     "name": "stderr",
     "output_type": "stream",
     "text": [
      "\r",
      "Processing columns:  55%|█████▌    | 2921/5273 [13:10<09:29,  4.13it/s]"
     ]
    },
    {
     "name": "stderr",
     "output_type": "stream",
     "text": [
      "\r",
      "Processing columns:  55%|█████▌    | 2922/5273 [13:10<09:02,  4.33it/s]"
     ]
    },
    {
     "name": "stderr",
     "output_type": "stream",
     "text": [
      "\r",
      "Processing columns:  55%|█████▌    | 2923/5273 [13:10<09:27,  4.14it/s]"
     ]
    },
    {
     "name": "stderr",
     "output_type": "stream",
     "text": [
      "\r",
      "Processing columns:  55%|█████▌    | 2924/5273 [13:11<11:23,  3.43it/s]"
     ]
    },
    {
     "name": "stderr",
     "output_type": "stream",
     "text": [
      "\r",
      "Processing columns:  55%|█████▌    | 2925/5273 [13:11<10:44,  3.64it/s]"
     ]
    },
    {
     "name": "stderr",
     "output_type": "stream",
     "text": [
      "\r",
      "Processing columns:  55%|█████▌    | 2926/5273 [13:11<11:04,  3.53it/s]"
     ]
    },
    {
     "name": "stderr",
     "output_type": "stream",
     "text": [
      "\r",
      "Processing columns:  56%|█████▌    | 2927/5273 [13:12<10:26,  3.74it/s]"
     ]
    },
    {
     "name": "stderr",
     "output_type": "stream",
     "text": [
      "\r",
      "Processing columns:  56%|█████▌    | 2928/5273 [13:12<10:13,  3.82it/s]"
     ]
    },
    {
     "name": "stderr",
     "output_type": "stream",
     "text": [
      "\r",
      "Processing columns:  56%|█████▌    | 2929/5273 [13:12<10:18,  3.79it/s]"
     ]
    },
    {
     "name": "stderr",
     "output_type": "stream",
     "text": [
      "\r",
      "Processing columns:  56%|█████▌    | 2930/5273 [13:12<09:53,  3.95it/s]"
     ]
    },
    {
     "name": "stderr",
     "output_type": "stream",
     "text": [
      "\r",
      "Processing columns:  56%|█████▌    | 2931/5273 [13:13<09:49,  3.97it/s]"
     ]
    },
    {
     "name": "stderr",
     "output_type": "stream",
     "text": [
      "\r",
      "Processing columns:  56%|█████▌    | 2932/5273 [13:13<09:54,  3.93it/s]"
     ]
    },
    {
     "name": "stderr",
     "output_type": "stream",
     "text": [
      "\r",
      "Processing columns:  56%|█████▌    | 2933/5273 [13:13<09:36,  4.06it/s]"
     ]
    },
    {
     "name": "stderr",
     "output_type": "stream",
     "text": [
      "\r",
      "Processing columns:  56%|█████▌    | 2934/5273 [13:13<09:23,  4.15it/s]"
     ]
    },
    {
     "name": "stderr",
     "output_type": "stream",
     "text": [
      "\r",
      "Processing columns:  56%|█████▌    | 2935/5273 [13:14<09:09,  4.25it/s]"
     ]
    },
    {
     "name": "stderr",
     "output_type": "stream",
     "text": [
      "\r",
      "Processing columns:  56%|█████▌    | 2936/5273 [13:14<09:01,  4.31it/s]"
     ]
    },
    {
     "name": "stderr",
     "output_type": "stream",
     "text": [
      "\r",
      "Processing columns:  56%|█████▌    | 2937/5273 [13:14<10:21,  3.76it/s]"
     ]
    },
    {
     "name": "stderr",
     "output_type": "stream",
     "text": [
      "\r",
      "Processing columns:  56%|█████▌    | 2938/5273 [13:15<12:48,  3.04it/s]"
     ]
    },
    {
     "name": "stderr",
     "output_type": "stream",
     "text": [
      "\r",
      "Processing columns:  56%|█████▌    | 2939/5273 [13:15<11:47,  3.30it/s]"
     ]
    },
    {
     "name": "stderr",
     "output_type": "stream",
     "text": [
      "\r",
      "Processing columns:  56%|█████▌    | 2940/5273 [13:15<11:08,  3.49it/s]"
     ]
    },
    {
     "name": "stderr",
     "output_type": "stream",
     "text": [
      "\r",
      "Processing columns:  56%|█████▌    | 2941/5273 [13:15<10:43,  3.62it/s]"
     ]
    },
    {
     "name": "stderr",
     "output_type": "stream",
     "text": [
      "\r",
      "Processing columns:  56%|█████▌    | 2942/5273 [13:16<09:48,  3.96it/s]"
     ]
    },
    {
     "name": "stderr",
     "output_type": "stream",
     "text": [
      "\r",
      "Processing columns:  56%|█████▌    | 2943/5273 [13:16<09:43,  4.00it/s]"
     ]
    },
    {
     "name": "stderr",
     "output_type": "stream",
     "text": [
      "\r",
      "Processing columns:  56%|█████▌    | 2944/5273 [13:16<10:03,  3.86it/s]"
     ]
    },
    {
     "name": "stderr",
     "output_type": "stream",
     "text": [
      "\r",
      "Processing columns:  56%|█████▌    | 2945/5273 [13:16<10:03,  3.86it/s]"
     ]
    },
    {
     "name": "stderr",
     "output_type": "stream",
     "text": [
      "\r",
      "Processing columns:  56%|█████▌    | 2946/5273 [13:17<10:25,  3.72it/s]"
     ]
    },
    {
     "name": "stderr",
     "output_type": "stream",
     "text": [
      "\r",
      "Processing columns:  56%|█████▌    | 2947/5273 [13:17<10:06,  3.84it/s]"
     ]
    },
    {
     "name": "stderr",
     "output_type": "stream",
     "text": [
      "\r",
      "Processing columns:  56%|█████▌    | 2948/5273 [13:17<09:44,  3.98it/s]"
     ]
    },
    {
     "name": "stderr",
     "output_type": "stream",
     "text": [
      "\r",
      "Processing columns:  56%|█████▌    | 2949/5273 [13:17<09:38,  4.02it/s]"
     ]
    },
    {
     "name": "stderr",
     "output_type": "stream",
     "text": [
      "\r",
      "Processing columns:  56%|█████▌    | 2950/5273 [13:18<09:31,  4.06it/s]"
     ]
    },
    {
     "name": "stderr",
     "output_type": "stream",
     "text": [
      "\r",
      "Processing columns:  56%|█████▌    | 2951/5273 [13:18<13:29,  2.87it/s]"
     ]
    },
    {
     "name": "stderr",
     "output_type": "stream",
     "text": [
      "\r",
      "Processing columns:  56%|█████▌    | 2952/5273 [13:18<12:07,  3.19it/s]"
     ]
    },
    {
     "name": "stderr",
     "output_type": "stream",
     "text": [
      "\r",
      "Processing columns:  56%|█████▌    | 2953/5273 [13:19<10:53,  3.55it/s]"
     ]
    },
    {
     "name": "stderr",
     "output_type": "stream",
     "text": [
      "\r",
      "Processing columns:  56%|█████▌    | 2954/5273 [13:19<10:01,  3.85it/s]"
     ]
    },
    {
     "name": "stderr",
     "output_type": "stream",
     "text": [
      "\r",
      "Processing columns:  56%|█████▌    | 2955/5273 [13:19<10:14,  3.77it/s]"
     ]
    },
    {
     "name": "stderr",
     "output_type": "stream",
     "text": [
      "\r",
      "Processing columns:  56%|█████▌    | 2956/5273 [13:19<09:47,  3.94it/s]"
     ]
    },
    {
     "name": "stderr",
     "output_type": "stream",
     "text": [
      "\r",
      "Processing columns:  56%|█████▌    | 2957/5273 [13:20<09:39,  4.00it/s]"
     ]
    },
    {
     "name": "stderr",
     "output_type": "stream",
     "text": [
      "\r",
      "Processing columns:  56%|█████▌    | 2958/5273 [13:20<10:20,  3.73it/s]"
     ]
    },
    {
     "name": "stderr",
     "output_type": "stream",
     "text": [
      "\r",
      "Processing columns:  56%|█████▌    | 2959/5273 [13:20<09:33,  4.03it/s]"
     ]
    },
    {
     "name": "stderr",
     "output_type": "stream",
     "text": [
      "\r",
      "Processing columns:  56%|█████▌    | 2960/5273 [13:20<09:38,  4.00it/s]"
     ]
    },
    {
     "name": "stderr",
     "output_type": "stream",
     "text": [
      "\r",
      "Processing columns:  56%|█████▌    | 2961/5273 [13:21<09:24,  4.10it/s]"
     ]
    },
    {
     "name": "stderr",
     "output_type": "stream",
     "text": [
      "\r",
      "Processing columns:  56%|█████▌    | 2962/5273 [13:21<09:01,  4.27it/s]"
     ]
    },
    {
     "name": "stderr",
     "output_type": "stream",
     "text": [
      "\r",
      "Processing columns:  56%|█████▌    | 2963/5273 [13:21<09:01,  4.26it/s]"
     ]
    },
    {
     "name": "stderr",
     "output_type": "stream",
     "text": [
      "\r",
      "Processing columns:  56%|█████▌    | 2964/5273 [13:22<12:42,  3.03it/s]"
     ]
    },
    {
     "name": "stderr",
     "output_type": "stream",
     "text": [
      "\r",
      "Processing columns:  56%|█████▌    | 2965/5273 [13:22<11:21,  3.39it/s]"
     ]
    },
    {
     "name": "stderr",
     "output_type": "stream",
     "text": [
      "\r",
      "Processing columns:  56%|█████▌    | 2966/5273 [13:22<11:42,  3.28it/s]"
     ]
    },
    {
     "name": "stderr",
     "output_type": "stream",
     "text": [
      "\r",
      "Processing columns:  56%|█████▋    | 2967/5273 [13:22<11:49,  3.25it/s]"
     ]
    },
    {
     "name": "stderr",
     "output_type": "stream",
     "text": [
      "\r",
      "Processing columns:  56%|█████▋    | 2968/5273 [13:23<10:35,  3.62it/s]"
     ]
    },
    {
     "name": "stderr",
     "output_type": "stream",
     "text": [
      "\r",
      "Processing columns:  56%|█████▋    | 2969/5273 [13:23<10:06,  3.80it/s]"
     ]
    },
    {
     "name": "stderr",
     "output_type": "stream",
     "text": [
      "\r",
      "Processing columns:  56%|█████▋    | 2970/5273 [13:23<09:47,  3.92it/s]"
     ]
    },
    {
     "name": "stderr",
     "output_type": "stream",
     "text": [
      "\r",
      "Processing columns:  56%|█████▋    | 2971/5273 [13:23<10:04,  3.81it/s]"
     ]
    },
    {
     "name": "stderr",
     "output_type": "stream",
     "text": [
      "\r",
      "Processing columns:  56%|█████▋    | 2972/5273 [13:24<09:19,  4.12it/s]"
     ]
    },
    {
     "name": "stderr",
     "output_type": "stream",
     "text": [
      "\r",
      "Processing columns:  56%|█████▋    | 2973/5273 [13:24<09:27,  4.06it/s]"
     ]
    },
    {
     "name": "stderr",
     "output_type": "stream",
     "text": [
      "\r",
      "Processing columns:  56%|█████▋    | 2974/5273 [13:24<09:17,  4.13it/s]"
     ]
    },
    {
     "name": "stderr",
     "output_type": "stream",
     "text": [
      "\r",
      "Processing columns:  56%|█████▋    | 2975/5273 [13:24<09:27,  4.05it/s]"
     ]
    },
    {
     "name": "stderr",
     "output_type": "stream",
     "text": [
      "\r",
      "Processing columns:  56%|█████▋    | 2976/5273 [13:25<09:16,  4.13it/s]"
     ]
    },
    {
     "name": "stderr",
     "output_type": "stream",
     "text": [
      "\r",
      "Processing columns:  56%|█████▋    | 2977/5273 [13:25<12:09,  3.15it/s]"
     ]
    },
    {
     "name": "stderr",
     "output_type": "stream",
     "text": [
      "\r",
      "Processing columns:  56%|█████▋    | 2978/5273 [13:25<11:18,  3.38it/s]"
     ]
    },
    {
     "name": "stderr",
     "output_type": "stream",
     "text": [
      "\r",
      "Processing columns:  56%|█████▋    | 2979/5273 [13:26<10:39,  3.59it/s]"
     ]
    },
    {
     "name": "stderr",
     "output_type": "stream",
     "text": [
      "\r",
      "Processing columns:  57%|█████▋    | 2980/5273 [13:26<10:02,  3.81it/s]"
     ]
    },
    {
     "name": "stderr",
     "output_type": "stream",
     "text": [
      "\r",
      "Processing columns:  57%|█████▋    | 2981/5273 [13:26<09:38,  3.96it/s]"
     ]
    },
    {
     "name": "stderr",
     "output_type": "stream",
     "text": [
      "\r",
      "Processing columns:  57%|█████▋    | 2982/5273 [13:26<09:53,  3.86it/s]"
     ]
    },
    {
     "name": "stderr",
     "output_type": "stream",
     "text": [
      "\r",
      "Processing columns:  57%|█████▋    | 2983/5273 [13:27<09:28,  4.03it/s]"
     ]
    },
    {
     "name": "stderr",
     "output_type": "stream",
     "text": [
      "\r",
      "Processing columns:  57%|█████▋    | 2984/5273 [13:27<08:55,  4.27it/s]"
     ]
    },
    {
     "name": "stderr",
     "output_type": "stream",
     "text": [
      "\r",
      "Processing columns:  57%|█████▋    | 2985/5273 [13:27<09:37,  3.96it/s]"
     ]
    },
    {
     "name": "stderr",
     "output_type": "stream",
     "text": [
      "\r",
      "Processing columns:  57%|█████▋    | 2986/5273 [13:27<09:18,  4.10it/s]"
     ]
    },
    {
     "name": "stderr",
     "output_type": "stream",
     "text": [
      "\r",
      "Processing columns:  57%|█████▋    | 2987/5273 [13:27<09:26,  4.04it/s]"
     ]
    },
    {
     "name": "stderr",
     "output_type": "stream",
     "text": [
      "\r",
      "Processing columns:  57%|█████▋    | 2988/5273 [13:28<09:19,  4.09it/s]"
     ]
    },
    {
     "name": "stderr",
     "output_type": "stream",
     "text": [
      "\r",
      "Processing columns:  57%|█████▋    | 2989/5273 [13:28<09:27,  4.02it/s]"
     ]
    },
    {
     "name": "stderr",
     "output_type": "stream",
     "text": [
      "\r",
      "Processing columns:  57%|█████▋    | 2990/5273 [13:28<12:21,  3.08it/s]"
     ]
    },
    {
     "name": "stderr",
     "output_type": "stream",
     "text": [
      "\r",
      "Processing columns:  57%|█████▋    | 2991/5273 [13:29<10:55,  3.48it/s]"
     ]
    },
    {
     "name": "stderr",
     "output_type": "stream",
     "text": [
      "\r",
      "Processing columns:  57%|█████▋    | 2992/5273 [13:29<10:00,  3.80it/s]"
     ]
    },
    {
     "name": "stderr",
     "output_type": "stream",
     "text": [
      "\r",
      "Processing columns:  57%|█████▋    | 2993/5273 [13:29<10:39,  3.56it/s]"
     ]
    },
    {
     "name": "stderr",
     "output_type": "stream",
     "text": [
      "\r",
      "Processing columns:  57%|█████▋    | 2994/5273 [13:29<10:03,  3.78it/s]"
     ]
    },
    {
     "name": "stderr",
     "output_type": "stream",
     "text": [
      "\r",
      "Processing columns:  57%|█████▋    | 2995/5273 [13:30<09:34,  3.96it/s]"
     ]
    },
    {
     "name": "stderr",
     "output_type": "stream",
     "text": [
      "\r",
      "Processing columns:  57%|█████▋    | 2996/5273 [13:30<10:44,  3.53it/s]"
     ]
    },
    {
     "name": "stderr",
     "output_type": "stream",
     "text": [
      "\r",
      "Processing columns:  57%|█████▋    | 2997/5273 [13:30<10:16,  3.69it/s]"
     ]
    },
    {
     "name": "stderr",
     "output_type": "stream",
     "text": [
      "\r",
      "Processing columns:  57%|█████▋    | 2998/5273 [13:31<10:59,  3.45it/s]"
     ]
    },
    {
     "name": "stderr",
     "output_type": "stream",
     "text": [
      "\r",
      "Processing columns:  57%|█████▋    | 2999/5273 [13:31<10:25,  3.64it/s]"
     ]
    },
    {
     "name": "stderr",
     "output_type": "stream",
     "text": [
      "\r",
      "Processing columns:  57%|█████▋    | 3000/5273 [13:31<10:37,  3.57it/s]"
     ]
    },
    {
     "name": "stderr",
     "output_type": "stream",
     "text": [
      "\r",
      "Processing columns:  57%|█████▋    | 3001/5273 [13:31<10:43,  3.53it/s]"
     ]
    },
    {
     "name": "stderr",
     "output_type": "stream",
     "text": [
      "\r",
      "Processing columns:  57%|█████▋    | 3002/5273 [13:32<09:51,  3.84it/s]"
     ]
    },
    {
     "name": "stderr",
     "output_type": "stream",
     "text": [
      "\r",
      "Processing columns:  57%|█████▋    | 3003/5273 [13:32<12:09,  3.11it/s]"
     ]
    },
    {
     "name": "stderr",
     "output_type": "stream",
     "text": [
      "\r",
      "Processing columns:  57%|█████▋    | 3004/5273 [13:32<10:56,  3.45it/s]"
     ]
    },
    {
     "name": "stderr",
     "output_type": "stream",
     "text": [
      "\r",
      "Processing columns:  57%|█████▋    | 3005/5273 [13:33<10:26,  3.62it/s]"
     ]
    },
    {
     "name": "stderr",
     "output_type": "stream",
     "text": [
      "\r",
      "Processing columns:  57%|█████▋    | 3006/5273 [13:33<10:09,  3.72it/s]"
     ]
    },
    {
     "name": "stderr",
     "output_type": "stream",
     "text": [
      "\r",
      "Processing columns:  57%|█████▋    | 3007/5273 [13:33<09:49,  3.85it/s]"
     ]
    },
    {
     "name": "stderr",
     "output_type": "stream",
     "text": [
      "\r",
      "Processing columns:  57%|█████▋    | 3008/5273 [13:33<09:42,  3.89it/s]"
     ]
    },
    {
     "name": "stderr",
     "output_type": "stream",
     "text": [
      "\r",
      "Processing columns:  57%|█████▋    | 3009/5273 [13:34<09:23,  4.02it/s]"
     ]
    },
    {
     "name": "stderr",
     "output_type": "stream",
     "text": [
      "\r",
      "Processing columns:  57%|█████▋    | 3010/5273 [13:34<09:30,  3.97it/s]"
     ]
    },
    {
     "name": "stderr",
     "output_type": "stream",
     "text": [
      "\r",
      "Processing columns:  57%|█████▋    | 3011/5273 [13:34<09:16,  4.06it/s]"
     ]
    },
    {
     "name": "stderr",
     "output_type": "stream",
     "text": [
      "\r",
      "Processing columns:  57%|█████▋    | 3012/5273 [13:34<08:51,  4.26it/s]"
     ]
    },
    {
     "name": "stderr",
     "output_type": "stream",
     "text": [
      "\r",
      "Processing columns:  57%|█████▋    | 3013/5273 [13:34<08:43,  4.32it/s]"
     ]
    },
    {
     "name": "stderr",
     "output_type": "stream",
     "text": [
      "\r",
      "Processing columns:  57%|█████▋    | 3014/5273 [13:35<08:46,  4.29it/s]"
     ]
    },
    {
     "name": "stderr",
     "output_type": "stream",
     "text": [
      "\r",
      "Processing columns:  57%|█████▋    | 3015/5273 [13:35<08:28,  4.44it/s]"
     ]
    },
    {
     "name": "stderr",
     "output_type": "stream",
     "text": [
      "\r",
      "Processing columns:  57%|█████▋    | 3016/5273 [13:35<12:39,  2.97it/s]"
     ]
    },
    {
     "name": "stderr",
     "output_type": "stream",
     "text": [
      "\r",
      "Processing columns:  57%|█████▋    | 3017/5273 [13:36<11:32,  3.26it/s]"
     ]
    },
    {
     "name": "stderr",
     "output_type": "stream",
     "text": [
      "\r",
      "Processing columns:  57%|█████▋    | 3018/5273 [13:36<10:49,  3.47it/s]"
     ]
    },
    {
     "name": "stderr",
     "output_type": "stream",
     "text": [
      "\r",
      "Processing columns:  57%|█████▋    | 3019/5273 [13:36<10:40,  3.52it/s]"
     ]
    },
    {
     "name": "stderr",
     "output_type": "stream",
     "text": [
      "\r",
      "Processing columns:  57%|█████▋    | 3020/5273 [13:36<10:10,  3.69it/s]"
     ]
    },
    {
     "name": "stderr",
     "output_type": "stream",
     "text": [
      "\r",
      "Processing columns:  57%|█████▋    | 3021/5273 [13:37<09:59,  3.76it/s]"
     ]
    },
    {
     "name": "stderr",
     "output_type": "stream",
     "text": [
      "\r",
      "Processing columns:  57%|█████▋    | 3022/5273 [13:37<09:20,  4.02it/s]"
     ]
    },
    {
     "name": "stderr",
     "output_type": "stream",
     "text": [
      "\r",
      "Processing columns:  57%|█████▋    | 3023/5273 [13:37<08:51,  4.23it/s]"
     ]
    },
    {
     "name": "stderr",
     "output_type": "stream",
     "text": [
      "\r",
      "Processing columns:  57%|█████▋    | 3024/5273 [13:37<09:57,  3.77it/s]"
     ]
    },
    {
     "name": "stderr",
     "output_type": "stream",
     "text": [
      "\r",
      "Processing columns:  57%|█████▋    | 3025/5273 [13:38<09:37,  3.89it/s]"
     ]
    },
    {
     "name": "stderr",
     "output_type": "stream",
     "text": [
      "\r",
      "Processing columns:  57%|█████▋    | 3026/5273 [13:38<09:48,  3.82it/s]"
     ]
    },
    {
     "name": "stderr",
     "output_type": "stream",
     "text": [
      "\r",
      "Processing columns:  57%|█████▋    | 3027/5273 [13:38<09:16,  4.04it/s]"
     ]
    },
    {
     "name": "stderr",
     "output_type": "stream",
     "text": [
      "\r",
      "Processing columns:  57%|█████▋    | 3028/5273 [13:39<11:00,  3.40it/s]"
     ]
    },
    {
     "name": "stderr",
     "output_type": "stream",
     "text": [
      "\r",
      "Processing columns:  57%|█████▋    | 3029/5273 [13:39<10:41,  3.50it/s]"
     ]
    },
    {
     "name": "stderr",
     "output_type": "stream",
     "text": [
      "\r",
      "Processing columns:  57%|█████▋    | 3030/5273 [13:39<14:05,  2.65it/s]"
     ]
    },
    {
     "name": "stderr",
     "output_type": "stream",
     "text": [
      "\r",
      "Processing columns:  57%|█████▋    | 3031/5273 [13:40<12:40,  2.95it/s]"
     ]
    },
    {
     "name": "stderr",
     "output_type": "stream",
     "text": [
      "\r",
      "Processing columns:  58%|█████▊    | 3032/5273 [13:40<11:10,  3.34it/s]"
     ]
    },
    {
     "name": "stderr",
     "output_type": "stream",
     "text": [
      "\r",
      "Processing columns:  58%|█████▊    | 3033/5273 [13:40<10:45,  3.47it/s]"
     ]
    },
    {
     "name": "stderr",
     "output_type": "stream",
     "text": [
      "\r",
      "Processing columns:  58%|█████▊    | 3034/5273 [13:40<10:46,  3.46it/s]"
     ]
    },
    {
     "name": "stderr",
     "output_type": "stream",
     "text": [
      "\r",
      "Processing columns:  58%|█████▊    | 3035/5273 [13:41<10:14,  3.64it/s]"
     ]
    },
    {
     "name": "stderr",
     "output_type": "stream",
     "text": [
      "\r",
      "Processing columns:  58%|█████▊    | 3036/5273 [13:41<09:37,  3.87it/s]"
     ]
    },
    {
     "name": "stderr",
     "output_type": "stream",
     "text": [
      "\r",
      "Processing columns:  58%|█████▊    | 3037/5273 [13:41<09:40,  3.85it/s]"
     ]
    },
    {
     "name": "stderr",
     "output_type": "stream",
     "text": [
      "\r",
      "Processing columns:  58%|█████▊    | 3038/5273 [13:42<10:40,  3.49it/s]"
     ]
    },
    {
     "name": "stderr",
     "output_type": "stream",
     "text": [
      "\r",
      "Processing columns:  58%|█████▊    | 3039/5273 [13:42<10:36,  3.51it/s]"
     ]
    },
    {
     "name": "stderr",
     "output_type": "stream",
     "text": [
      "\r",
      "Processing columns:  58%|█████▊    | 3040/5273 [13:42<10:33,  3.53it/s]"
     ]
    },
    {
     "name": "stderr",
     "output_type": "stream",
     "text": [
      "\r",
      "Processing columns:  58%|█████▊    | 3041/5273 [13:42<10:14,  3.63it/s]"
     ]
    },
    {
     "name": "stderr",
     "output_type": "stream",
     "text": [
      "\r",
      "Processing columns:  58%|█████▊    | 3042/5273 [13:43<10:15,  3.63it/s]"
     ]
    },
    {
     "name": "stderr",
     "output_type": "stream",
     "text": [
      "\r",
      "Processing columns:  58%|█████▊    | 3043/5273 [13:43<09:36,  3.87it/s]"
     ]
    },
    {
     "name": "stderr",
     "output_type": "stream",
     "text": [
      "\r",
      "Processing columns:  58%|█████▊    | 3044/5273 [13:43<12:28,  2.98it/s]"
     ]
    },
    {
     "name": "stderr",
     "output_type": "stream",
     "text": [
      "\r",
      "Processing columns:  58%|█████▊    | 3045/5273 [13:44<12:21,  3.00it/s]"
     ]
    },
    {
     "name": "stderr",
     "output_type": "stream",
     "text": [
      "\r",
      "Processing columns:  58%|█████▊    | 3046/5273 [13:44<11:39,  3.18it/s]"
     ]
    },
    {
     "name": "stderr",
     "output_type": "stream",
     "text": [
      "\r",
      "Processing columns:  58%|█████▊    | 3047/5273 [13:44<10:56,  3.39it/s]"
     ]
    },
    {
     "name": "stderr",
     "output_type": "stream",
     "text": [
      "\r",
      "Processing columns:  58%|█████▊    | 3048/5273 [13:44<10:11,  3.64it/s]"
     ]
    },
    {
     "name": "stderr",
     "output_type": "stream",
     "text": [
      "\r",
      "Processing columns:  58%|█████▊    | 3049/5273 [13:45<11:19,  3.27it/s]"
     ]
    },
    {
     "name": "stderr",
     "output_type": "stream",
     "text": [
      "\r",
      "Processing columns:  58%|█████▊    | 3050/5273 [13:45<10:45,  3.44it/s]"
     ]
    },
    {
     "name": "stderr",
     "output_type": "stream",
     "text": [
      "\r",
      "Processing columns:  58%|█████▊    | 3051/5273 [13:45<10:25,  3.55it/s]"
     ]
    },
    {
     "name": "stderr",
     "output_type": "stream",
     "text": [
      "\r",
      "Processing columns:  58%|█████▊    | 3052/5273 [13:46<09:35,  3.86it/s]"
     ]
    },
    {
     "name": "stderr",
     "output_type": "stream",
     "text": [
      "\r",
      "Processing columns:  58%|█████▊    | 3053/5273 [13:46<10:59,  3.37it/s]"
     ]
    },
    {
     "name": "stderr",
     "output_type": "stream",
     "text": [
      "\r",
      "Processing columns:  58%|█████▊    | 3054/5273 [13:46<09:58,  3.71it/s]"
     ]
    },
    {
     "name": "stderr",
     "output_type": "stream",
     "text": [
      "\r",
      "Processing columns:  58%|█████▊    | 3055/5273 [13:46<09:15,  3.99it/s]"
     ]
    },
    {
     "name": "stderr",
     "output_type": "stream",
     "text": [
      "\r",
      "Processing columns:  58%|█████▊    | 3056/5273 [13:47<10:58,  3.37it/s]"
     ]
    },
    {
     "name": "stderr",
     "output_type": "stream",
     "text": [
      "\r",
      "Processing columns:  58%|█████▊    | 3057/5273 [13:47<12:57,  2.85it/s]"
     ]
    },
    {
     "name": "stderr",
     "output_type": "stream",
     "text": [
      "\r",
      "Processing columns:  58%|█████▊    | 3058/5273 [13:47<11:35,  3.19it/s]"
     ]
    },
    {
     "name": "stderr",
     "output_type": "stream",
     "text": [
      "\r",
      "Processing columns:  58%|█████▊    | 3059/5273 [13:48<11:02,  3.34it/s]"
     ]
    },
    {
     "name": "stderr",
     "output_type": "stream",
     "text": [
      "\r",
      "Processing columns:  58%|█████▊    | 3060/5273 [13:48<10:10,  3.63it/s]"
     ]
    },
    {
     "name": "stderr",
     "output_type": "stream",
     "text": [
      "\r",
      "Processing columns:  58%|█████▊    | 3061/5273 [13:48<09:42,  3.80it/s]"
     ]
    },
    {
     "name": "stderr",
     "output_type": "stream",
     "text": [
      "\r",
      "Processing columns:  58%|█████▊    | 3062/5273 [13:48<09:05,  4.05it/s]"
     ]
    },
    {
     "name": "stderr",
     "output_type": "stream",
     "text": [
      "\r",
      "Processing columns:  58%|█████▊    | 3063/5273 [13:49<08:50,  4.17it/s]"
     ]
    },
    {
     "name": "stderr",
     "output_type": "stream",
     "text": [
      "\r",
      "Processing columns:  58%|█████▊    | 3064/5273 [13:49<09:26,  3.90it/s]"
     ]
    },
    {
     "name": "stderr",
     "output_type": "stream",
     "text": [
      "\r",
      "Processing columns:  58%|█████▊    | 3065/5273 [13:49<09:05,  4.05it/s]"
     ]
    },
    {
     "name": "stderr",
     "output_type": "stream",
     "text": [
      "\r",
      "Processing columns:  58%|█████▊    | 3066/5273 [13:49<08:56,  4.12it/s]"
     ]
    },
    {
     "name": "stderr",
     "output_type": "stream",
     "text": [
      "\r",
      "Processing columns:  58%|█████▊    | 3067/5273 [13:50<08:55,  4.12it/s]"
     ]
    },
    {
     "name": "stderr",
     "output_type": "stream",
     "text": [
      "\r",
      "Processing columns:  58%|█████▊    | 3068/5273 [13:50<08:57,  4.10it/s]"
     ]
    },
    {
     "name": "stderr",
     "output_type": "stream",
     "text": [
      "\r",
      "Processing columns:  58%|█████▊    | 3069/5273 [13:50<09:19,  3.94it/s]"
     ]
    },
    {
     "name": "stderr",
     "output_type": "stream",
     "text": [
      "\r",
      "Processing columns:  58%|█████▊    | 3070/5273 [13:51<11:03,  3.32it/s]"
     ]
    },
    {
     "name": "stderr",
     "output_type": "stream",
     "text": [
      "\r",
      "Processing columns:  58%|█████▊    | 3071/5273 [13:51<10:19,  3.55it/s]"
     ]
    },
    {
     "name": "stderr",
     "output_type": "stream",
     "text": [
      "\r",
      "Processing columns:  58%|█████▊    | 3072/5273 [13:51<09:43,  3.77it/s]"
     ]
    },
    {
     "name": "stderr",
     "output_type": "stream",
     "text": [
      "\r",
      "Processing columns:  58%|█████▊    | 3073/5273 [13:51<09:09,  4.00it/s]"
     ]
    },
    {
     "name": "stderr",
     "output_type": "stream",
     "text": [
      "\r",
      "Processing columns:  58%|█████▊    | 3074/5273 [13:51<08:53,  4.12it/s]"
     ]
    },
    {
     "name": "stderr",
     "output_type": "stream",
     "text": [
      "\r",
      "Processing columns:  58%|█████▊    | 3075/5273 [13:52<08:45,  4.18it/s]"
     ]
    },
    {
     "name": "stderr",
     "output_type": "stream",
     "text": [
      "\r",
      "Processing columns:  58%|█████▊    | 3076/5273 [13:52<08:41,  4.22it/s]"
     ]
    },
    {
     "name": "stderr",
     "output_type": "stream",
     "text": [
      "\r",
      "Processing columns:  58%|█████▊    | 3077/5273 [13:52<09:32,  3.84it/s]"
     ]
    },
    {
     "name": "stderr",
     "output_type": "stream",
     "text": [
      "\r",
      "Processing columns:  58%|█████▊    | 3078/5273 [13:52<09:28,  3.86it/s]"
     ]
    },
    {
     "name": "stderr",
     "output_type": "stream",
     "text": [
      "\r",
      "Processing columns:  58%|█████▊    | 3079/5273 [13:53<09:35,  3.81it/s]"
     ]
    },
    {
     "name": "stderr",
     "output_type": "stream",
     "text": [
      "\r",
      "Processing columns:  58%|█████▊    | 3080/5273 [13:53<09:42,  3.77it/s]"
     ]
    },
    {
     "name": "stderr",
     "output_type": "stream",
     "text": [
      "\r",
      "Processing columns:  58%|█████▊    | 3081/5273 [13:53<09:13,  3.96it/s]"
     ]
    },
    {
     "name": "stderr",
     "output_type": "stream",
     "text": [
      "\r",
      "Processing columns:  58%|█████▊    | 3082/5273 [13:53<09:04,  4.02it/s]"
     ]
    },
    {
     "name": "stderr",
     "output_type": "stream",
     "text": [
      "\r",
      "Processing columns:  58%|█████▊    | 3083/5273 [13:54<11:13,  3.25it/s]"
     ]
    },
    {
     "name": "stderr",
     "output_type": "stream",
     "text": [
      "\r",
      "Processing columns:  58%|█████▊    | 3084/5273 [13:54<10:54,  3.34it/s]"
     ]
    },
    {
     "name": "stderr",
     "output_type": "stream",
     "text": [
      "\r",
      "Processing columns:  59%|█████▊    | 3085/5273 [13:55<10:59,  3.32it/s]"
     ]
    },
    {
     "name": "stderr",
     "output_type": "stream",
     "text": [
      "\r",
      "Processing columns:  59%|█████▊    | 3086/5273 [13:55<10:50,  3.36it/s]"
     ]
    },
    {
     "name": "stderr",
     "output_type": "stream",
     "text": [
      "\r",
      "Processing columns:  59%|█████▊    | 3087/5273 [13:55<10:04,  3.62it/s]"
     ]
    },
    {
     "name": "stderr",
     "output_type": "stream",
     "text": [
      "\r",
      "Processing columns:  59%|█████▊    | 3088/5273 [13:55<09:16,  3.93it/s]"
     ]
    },
    {
     "name": "stderr",
     "output_type": "stream",
     "text": [
      "\r",
      "Processing columns:  59%|█████▊    | 3089/5273 [13:56<09:55,  3.67it/s]"
     ]
    },
    {
     "name": "stderr",
     "output_type": "stream",
     "text": [
      "\r",
      "Processing columns:  59%|█████▊    | 3090/5273 [13:56<09:28,  3.84it/s]"
     ]
    },
    {
     "name": "stderr",
     "output_type": "stream",
     "text": [
      "\r",
      "Processing columns:  59%|█████▊    | 3091/5273 [13:56<08:51,  4.10it/s]"
     ]
    },
    {
     "name": "stderr",
     "output_type": "stream",
     "text": [
      "\r",
      "Processing columns:  59%|█████▊    | 3092/5273 [13:56<08:43,  4.16it/s]"
     ]
    },
    {
     "name": "stderr",
     "output_type": "stream",
     "text": [
      "\r",
      "Processing columns:  59%|█████▊    | 3093/5273 [13:56<08:31,  4.26it/s]"
     ]
    },
    {
     "name": "stderr",
     "output_type": "stream",
     "text": [
      "\r",
      "Processing columns:  59%|█████▊    | 3094/5273 [13:57<09:24,  3.86it/s]"
     ]
    },
    {
     "name": "stderr",
     "output_type": "stream",
     "text": [
      "\r",
      "Processing columns:  59%|█████▊    | 3095/5273 [13:57<09:37,  3.77it/s]"
     ]
    },
    {
     "name": "stderr",
     "output_type": "stream",
     "text": [
      "\r",
      "Processing columns:  59%|█████▊    | 3096/5273 [13:57<09:10,  3.96it/s]"
     ]
    },
    {
     "name": "stderr",
     "output_type": "stream",
     "text": [
      "\r",
      "Processing columns:  59%|█████▊    | 3097/5273 [13:58<11:47,  3.08it/s]"
     ]
    },
    {
     "name": "stderr",
     "output_type": "stream",
     "text": [
      "\r",
      "Processing columns:  59%|█████▉    | 3098/5273 [13:58<11:11,  3.24it/s]"
     ]
    },
    {
     "name": "stderr",
     "output_type": "stream",
     "text": [
      "\r",
      "Processing columns:  59%|█████▉    | 3099/5273 [13:58<10:42,  3.39it/s]"
     ]
    },
    {
     "name": "stderr",
     "output_type": "stream",
     "text": [
      "\r",
      "Processing columns:  59%|█████▉    | 3100/5273 [13:59<09:58,  3.63it/s]"
     ]
    },
    {
     "name": "stderr",
     "output_type": "stream",
     "text": [
      "\r",
      "Processing columns:  59%|█████▉    | 3101/5273 [13:59<09:56,  3.64it/s]"
     ]
    },
    {
     "name": "stderr",
     "output_type": "stream",
     "text": [
      "\r",
      "Processing columns:  59%|█████▉    | 3102/5273 [13:59<09:26,  3.83it/s]"
     ]
    },
    {
     "name": "stderr",
     "output_type": "stream",
     "text": [
      "\r",
      "Processing columns:  59%|█████▉    | 3103/5273 [13:59<09:44,  3.71it/s]"
     ]
    },
    {
     "name": "stderr",
     "output_type": "stream",
     "text": [
      "\r",
      "Processing columns:  59%|█████▉    | 3104/5273 [14:00<09:21,  3.86it/s]"
     ]
    },
    {
     "name": "stderr",
     "output_type": "stream",
     "text": [
      "\r",
      "Processing columns:  59%|█████▉    | 3105/5273 [14:00<09:59,  3.62it/s]"
     ]
    },
    {
     "name": "stderr",
     "output_type": "stream",
     "text": [
      "\r",
      "Processing columns:  59%|█████▉    | 3106/5273 [14:00<09:41,  3.73it/s]"
     ]
    },
    {
     "name": "stderr",
     "output_type": "stream",
     "text": [
      "\r",
      "Processing columns:  59%|█████▉    | 3107/5273 [14:00<09:14,  3.91it/s]"
     ]
    },
    {
     "name": "stderr",
     "output_type": "stream",
     "text": [
      "\r",
      "Processing columns:  59%|█████▉    | 3108/5273 [14:01<09:02,  3.99it/s]"
     ]
    },
    {
     "name": "stderr",
     "output_type": "stream",
     "text": [
      "\r",
      "Processing columns:  59%|█████▉    | 3109/5273 [14:01<09:00,  4.01it/s]"
     ]
    },
    {
     "name": "stderr",
     "output_type": "stream",
     "text": [
      "\r",
      "Processing columns:  59%|█████▉    | 3110/5273 [14:01<10:57,  3.29it/s]"
     ]
    },
    {
     "name": "stderr",
     "output_type": "stream",
     "text": [
      "\r",
      "Processing columns:  59%|█████▉    | 3111/5273 [14:01<10:11,  3.54it/s]"
     ]
    },
    {
     "name": "stderr",
     "output_type": "stream",
     "text": [
      "\r",
      "Processing columns:  59%|█████▉    | 3112/5273 [14:02<09:53,  3.64it/s]"
     ]
    },
    {
     "name": "stderr",
     "output_type": "stream",
     "text": [
      "\r",
      "Processing columns:  59%|█████▉    | 3113/5273 [14:02<09:23,  3.83it/s]"
     ]
    },
    {
     "name": "stderr",
     "output_type": "stream",
     "text": [
      "\r",
      "Processing columns:  59%|█████▉    | 3114/5273 [14:02<09:01,  3.99it/s]"
     ]
    },
    {
     "name": "stderr",
     "output_type": "stream",
     "text": [
      "\r",
      "Processing columns:  59%|█████▉    | 3115/5273 [14:02<09:18,  3.86it/s]"
     ]
    },
    {
     "name": "stderr",
     "output_type": "stream",
     "text": [
      "\r",
      "Processing columns:  59%|█████▉    | 3116/5273 [14:03<09:27,  3.80it/s]"
     ]
    },
    {
     "name": "stderr",
     "output_type": "stream",
     "text": [
      "\r",
      "Processing columns:  59%|█████▉    | 3117/5273 [14:03<10:02,  3.58it/s]"
     ]
    },
    {
     "name": "stderr",
     "output_type": "stream",
     "text": [
      "\r",
      "Processing columns:  59%|█████▉    | 3118/5273 [14:03<09:29,  3.78it/s]"
     ]
    },
    {
     "name": "stderr",
     "output_type": "stream",
     "text": [
      "\r",
      "Processing columns:  59%|█████▉    | 3119/5273 [14:04<09:23,  3.82it/s]"
     ]
    },
    {
     "name": "stderr",
     "output_type": "stream",
     "text": [
      "\r",
      "Processing columns:  59%|█████▉    | 3120/5273 [14:04<09:23,  3.82it/s]"
     ]
    },
    {
     "name": "stderr",
     "output_type": "stream",
     "text": [
      "\r",
      "Processing columns:  59%|█████▉    | 3121/5273 [14:04<09:08,  3.92it/s]"
     ]
    },
    {
     "name": "stderr",
     "output_type": "stream",
     "text": [
      "\r",
      "Processing columns:  59%|█████▉    | 3122/5273 [14:04<08:45,  4.09it/s]"
     ]
    },
    {
     "name": "stderr",
     "output_type": "stream",
     "text": [
      "\r",
      "Processing columns:  59%|█████▉    | 3123/5273 [14:05<12:02,  2.98it/s]"
     ]
    },
    {
     "name": "stderr",
     "output_type": "stream",
     "text": [
      "\r",
      "Processing columns:  59%|█████▉    | 3124/5273 [14:05<10:45,  3.33it/s]"
     ]
    },
    {
     "name": "stderr",
     "output_type": "stream",
     "text": [
      "\r",
      "Processing columns:  59%|█████▉    | 3125/5273 [14:05<10:39,  3.36it/s]"
     ]
    },
    {
     "name": "stderr",
     "output_type": "stream",
     "text": [
      "\r",
      "Processing columns:  59%|█████▉    | 3126/5273 [14:06<09:58,  3.59it/s]"
     ]
    },
    {
     "name": "stderr",
     "output_type": "stream",
     "text": [
      "\r",
      "Processing columns:  59%|█████▉    | 3127/5273 [14:06<09:07,  3.92it/s]"
     ]
    },
    {
     "name": "stderr",
     "output_type": "stream",
     "text": [
      "\r",
      "Processing columns:  59%|█████▉    | 3128/5273 [14:06<11:01,  3.24it/s]"
     ]
    },
    {
     "name": "stderr",
     "output_type": "stream",
     "text": [
      "\r",
      "Processing columns:  59%|█████▉    | 3129/5273 [14:06<10:20,  3.45it/s]"
     ]
    },
    {
     "name": "stderr",
     "output_type": "stream",
     "text": [
      "\r",
      "Processing columns:  59%|█████▉    | 3130/5273 [14:07<09:33,  3.74it/s]"
     ]
    },
    {
     "name": "stderr",
     "output_type": "stream",
     "text": [
      "\r",
      "Processing columns:  59%|█████▉    | 3131/5273 [14:07<09:11,  3.88it/s]"
     ]
    },
    {
     "name": "stderr",
     "output_type": "stream",
     "text": [
      "\r",
      "Processing columns:  59%|█████▉    | 3132/5273 [14:07<08:32,  4.18it/s]"
     ]
    },
    {
     "name": "stderr",
     "output_type": "stream",
     "text": [
      "\r",
      "Processing columns:  59%|█████▉    | 3133/5273 [14:07<08:22,  4.26it/s]"
     ]
    },
    {
     "name": "stderr",
     "output_type": "stream",
     "text": [
      "\r",
      "Processing columns:  59%|█████▉    | 3134/5273 [14:08<10:10,  3.50it/s]"
     ]
    },
    {
     "name": "stderr",
     "output_type": "stream",
     "text": [
      "\r",
      "Processing columns:  59%|█████▉    | 3135/5273 [14:08<09:28,  3.76it/s]"
     ]
    },
    {
     "name": "stderr",
     "output_type": "stream",
     "text": [
      "\r",
      "Processing columns:  59%|█████▉    | 3136/5273 [14:08<11:10,  3.19it/s]"
     ]
    },
    {
     "name": "stderr",
     "output_type": "stream",
     "text": [
      "\r",
      "Processing columns:  59%|█████▉    | 3137/5273 [14:09<10:38,  3.35it/s]"
     ]
    },
    {
     "name": "stderr",
     "output_type": "stream",
     "text": [
      "\r",
      "Processing columns:  60%|█████▉    | 3138/5273 [14:09<09:36,  3.70it/s]"
     ]
    },
    {
     "name": "stderr",
     "output_type": "stream",
     "text": [
      "\r",
      "Processing columns:  60%|█████▉    | 3139/5273 [14:09<10:47,  3.29it/s]"
     ]
    },
    {
     "name": "stderr",
     "output_type": "stream",
     "text": [
      "\r",
      "Processing columns:  60%|█████▉    | 3140/5273 [14:09<10:03,  3.53it/s]"
     ]
    },
    {
     "name": "stderr",
     "output_type": "stream",
     "text": [
      "\r",
      "Processing columns:  60%|█████▉    | 3141/5273 [14:10<09:37,  3.69it/s]"
     ]
    },
    {
     "name": "stderr",
     "output_type": "stream",
     "text": [
      "\r",
      "Processing columns:  60%|█████▉    | 3142/5273 [14:10<09:07,  3.89it/s]"
     ]
    },
    {
     "name": "stderr",
     "output_type": "stream",
     "text": [
      "\r",
      "Processing columns:  60%|█████▉    | 3143/5273 [14:10<08:46,  4.04it/s]"
     ]
    },
    {
     "name": "stderr",
     "output_type": "stream",
     "text": [
      "\r",
      "Processing columns:  60%|█████▉    | 3144/5273 [14:10<09:05,  3.91it/s]"
     ]
    },
    {
     "name": "stderr",
     "output_type": "stream",
     "text": [
      "\r",
      "Processing columns:  60%|█████▉    | 3145/5273 [14:11<08:28,  4.18it/s]"
     ]
    },
    {
     "name": "stderr",
     "output_type": "stream",
     "text": [
      "\r",
      "Processing columns:  60%|█████▉    | 3146/5273 [14:11<09:55,  3.57it/s]"
     ]
    },
    {
     "name": "stderr",
     "output_type": "stream",
     "text": [
      "\r",
      "Processing columns:  60%|█████▉    | 3147/5273 [14:11<09:31,  3.72it/s]"
     ]
    },
    {
     "name": "stderr",
     "output_type": "stream",
     "text": [
      "\r",
      "Processing columns:  60%|█████▉    | 3148/5273 [14:11<08:48,  4.02it/s]"
     ]
    },
    {
     "name": "stderr",
     "output_type": "stream",
     "text": [
      "\r",
      "Processing columns:  60%|█████▉    | 3149/5273 [14:12<12:03,  2.94it/s]"
     ]
    },
    {
     "name": "stderr",
     "output_type": "stream",
     "text": [
      "\r",
      "Processing columns:  60%|█████▉    | 3150/5273 [14:12<10:39,  3.32it/s]"
     ]
    },
    {
     "name": "stderr",
     "output_type": "stream",
     "text": [
      "\r",
      "Processing columns:  60%|█████▉    | 3151/5273 [14:13<11:09,  3.17it/s]"
     ]
    },
    {
     "name": "stderr",
     "output_type": "stream",
     "text": [
      "\r",
      "Processing columns:  60%|█████▉    | 3152/5273 [14:13<10:10,  3.48it/s]"
     ]
    },
    {
     "name": "stderr",
     "output_type": "stream",
     "text": [
      "\r",
      "Processing columns:  60%|█████▉    | 3153/5273 [14:13<09:25,  3.75it/s]"
     ]
    },
    {
     "name": "stderr",
     "output_type": "stream",
     "text": [
      "\r",
      "Processing columns:  60%|█████▉    | 3154/5273 [14:13<09:35,  3.68it/s]"
     ]
    },
    {
     "name": "stderr",
     "output_type": "stream",
     "text": [
      "\r",
      "Processing columns:  60%|█████▉    | 3155/5273 [14:13<09:00,  3.92it/s]"
     ]
    },
    {
     "name": "stderr",
     "output_type": "stream",
     "text": [
      "\r",
      "Processing columns:  60%|█████▉    | 3156/5273 [14:14<08:44,  4.03it/s]"
     ]
    },
    {
     "name": "stderr",
     "output_type": "stream",
     "text": [
      "\r",
      "Processing columns:  60%|█████▉    | 3157/5273 [14:14<08:46,  4.02it/s]"
     ]
    },
    {
     "name": "stderr",
     "output_type": "stream",
     "text": [
      "\r",
      "Processing columns:  60%|█████▉    | 3158/5273 [14:14<08:41,  4.06it/s]"
     ]
    },
    {
     "name": "stderr",
     "output_type": "stream",
     "text": [
      "\r",
      "Processing columns:  60%|█████▉    | 3159/5273 [14:14<08:56,  3.94it/s]"
     ]
    },
    {
     "name": "stderr",
     "output_type": "stream",
     "text": [
      "\r",
      "Processing columns:  60%|█████▉    | 3160/5273 [14:15<08:38,  4.07it/s]"
     ]
    },
    {
     "name": "stderr",
     "output_type": "stream",
     "text": [
      "\r",
      "Processing columns:  60%|█████▉    | 3161/5273 [14:15<08:15,  4.27it/s]"
     ]
    },
    {
     "name": "stderr",
     "output_type": "stream",
     "text": [
      "\r",
      "Processing columns:  60%|█████▉    | 3162/5273 [14:15<10:17,  3.42it/s]"
     ]
    },
    {
     "name": "stderr",
     "output_type": "stream",
     "text": [
      "\r",
      "Processing columns:  60%|█████▉    | 3163/5273 [14:16<09:13,  3.81it/s]"
     ]
    },
    {
     "name": "stderr",
     "output_type": "stream",
     "text": [
      "\r",
      "Processing columns:  60%|██████    | 3164/5273 [14:16<08:35,  4.09it/s]"
     ]
    },
    {
     "name": "stderr",
     "output_type": "stream",
     "text": [
      "\r",
      "Processing columns:  60%|██████    | 3165/5273 [14:16<10:08,  3.46it/s]"
     ]
    },
    {
     "name": "stderr",
     "output_type": "stream",
     "text": [
      "\r",
      "Processing columns:  60%|██████    | 3166/5273 [14:16<09:39,  3.63it/s]"
     ]
    },
    {
     "name": "stderr",
     "output_type": "stream",
     "text": [
      "\r",
      "Processing columns:  60%|██████    | 3167/5273 [14:17<10:11,  3.44it/s]"
     ]
    },
    {
     "name": "stderr",
     "output_type": "stream",
     "text": [
      "\r",
      "Processing columns:  60%|██████    | 3168/5273 [14:17<09:33,  3.67it/s]"
     ]
    },
    {
     "name": "stderr",
     "output_type": "stream",
     "text": [
      "\r",
      "Processing columns:  60%|██████    | 3169/5273 [14:17<09:48,  3.57it/s]"
     ]
    },
    {
     "name": "stderr",
     "output_type": "stream",
     "text": [
      "\r",
      "Processing columns:  60%|██████    | 3170/5273 [14:17<09:13,  3.80it/s]"
     ]
    },
    {
     "name": "stderr",
     "output_type": "stream",
     "text": [
      "\r",
      "Processing columns:  60%|██████    | 3171/5273 [14:18<09:04,  3.86it/s]"
     ]
    },
    {
     "name": "stderr",
     "output_type": "stream",
     "text": [
      "\r",
      "Processing columns:  60%|██████    | 3172/5273 [14:18<08:50,  3.96it/s]"
     ]
    },
    {
     "name": "stderr",
     "output_type": "stream",
     "text": [
      "\r",
      "Processing columns:  60%|██████    | 3173/5273 [14:18<08:16,  4.23it/s]"
     ]
    },
    {
     "name": "stderr",
     "output_type": "stream",
     "text": [
      "\r",
      "Processing columns:  60%|██████    | 3174/5273 [14:18<07:53,  4.43it/s]"
     ]
    },
    {
     "name": "stderr",
     "output_type": "stream",
     "text": [
      "\r",
      "Processing columns:  60%|██████    | 3175/5273 [14:19<08:40,  4.03it/s]"
     ]
    },
    {
     "name": "stderr",
     "output_type": "stream",
     "text": [
      "\r",
      "Processing columns:  60%|██████    | 3176/5273 [14:19<10:26,  3.35it/s]"
     ]
    },
    {
     "name": "stderr",
     "output_type": "stream",
     "text": [
      "\r",
      "Processing columns:  60%|██████    | 3177/5273 [14:19<10:42,  3.26it/s]"
     ]
    },
    {
     "name": "stderr",
     "output_type": "stream",
     "text": [
      "\r",
      "Processing columns:  60%|██████    | 3178/5273 [14:20<10:55,  3.20it/s]"
     ]
    },
    {
     "name": "stderr",
     "output_type": "stream",
     "text": [
      "\r",
      "Processing columns:  60%|██████    | 3179/5273 [14:20<10:18,  3.39it/s]"
     ]
    },
    {
     "name": "stderr",
     "output_type": "stream",
     "text": [
      "\r",
      "Processing columns:  60%|██████    | 3180/5273 [14:20<09:33,  3.65it/s]"
     ]
    },
    {
     "name": "stderr",
     "output_type": "stream",
     "text": [
      "\r",
      "Processing columns:  60%|██████    | 3181/5273 [14:20<09:07,  3.82it/s]"
     ]
    },
    {
     "name": "stderr",
     "output_type": "stream",
     "text": [
      "\r",
      "Processing columns:  60%|██████    | 3182/5273 [14:21<09:10,  3.80it/s]"
     ]
    },
    {
     "name": "stderr",
     "output_type": "stream",
     "text": [
      "\r",
      "Processing columns:  60%|██████    | 3183/5273 [14:21<09:06,  3.82it/s]"
     ]
    },
    {
     "name": "stderr",
     "output_type": "stream",
     "text": [
      "\r",
      "Processing columns:  60%|██████    | 3184/5273 [14:21<08:51,  3.93it/s]"
     ]
    },
    {
     "name": "stderr",
     "output_type": "stream",
     "text": [
      "\r",
      "Processing columns:  60%|██████    | 3185/5273 [14:21<08:43,  3.99it/s]"
     ]
    },
    {
     "name": "stderr",
     "output_type": "stream",
     "text": [
      "\r",
      "Processing columns:  60%|██████    | 3186/5273 [14:22<08:34,  4.06it/s]"
     ]
    },
    {
     "name": "stderr",
     "output_type": "stream",
     "text": [
      "\r",
      "Processing columns:  60%|██████    | 3187/5273 [14:22<08:22,  4.15it/s]"
     ]
    },
    {
     "name": "stderr",
     "output_type": "stream",
     "text": [
      "\r",
      "Processing columns:  60%|██████    | 3188/5273 [14:22<08:31,  4.08it/s]"
     ]
    },
    {
     "name": "stderr",
     "output_type": "stream",
     "text": [
      "\r",
      "Processing columns:  60%|██████    | 3189/5273 [14:23<10:48,  3.21it/s]"
     ]
    },
    {
     "name": "stderr",
     "output_type": "stream",
     "text": [
      "\r",
      "Processing columns:  60%|██████    | 3190/5273 [14:23<10:08,  3.42it/s]"
     ]
    },
    {
     "name": "stderr",
     "output_type": "stream",
     "text": [
      "\r",
      "Processing columns:  61%|██████    | 3191/5273 [14:23<09:28,  3.66it/s]"
     ]
    },
    {
     "name": "stderr",
     "output_type": "stream",
     "text": [
      "\r",
      "Processing columns:  61%|██████    | 3192/5273 [14:23<09:26,  3.67it/s]"
     ]
    },
    {
     "name": "stderr",
     "output_type": "stream",
     "text": [
      "\r",
      "Processing columns:  61%|██████    | 3193/5273 [14:24<08:40,  3.99it/s]"
     ]
    },
    {
     "name": "stderr",
     "output_type": "stream",
     "text": [
      "\r",
      "Processing columns:  61%|██████    | 3194/5273 [14:24<08:08,  4.26it/s]"
     ]
    },
    {
     "name": "stderr",
     "output_type": "stream",
     "text": [
      "\r",
      "Processing columns:  61%|██████    | 3195/5273 [14:24<09:43,  3.56it/s]"
     ]
    },
    {
     "name": "stderr",
     "output_type": "stream",
     "text": [
      "\r",
      "Processing columns:  61%|██████    | 3196/5273 [14:24<09:31,  3.63it/s]"
     ]
    },
    {
     "name": "stderr",
     "output_type": "stream",
     "text": [
      "\r",
      "Processing columns:  61%|██████    | 3197/5273 [14:25<09:37,  3.60it/s]"
     ]
    },
    {
     "name": "stderr",
     "output_type": "stream",
     "text": [
      "\r",
      "Processing columns:  61%|██████    | 3198/5273 [14:25<09:12,  3.75it/s]"
     ]
    },
    {
     "name": "stderr",
     "output_type": "stream",
     "text": [
      "\r",
      "Processing columns:  61%|██████    | 3199/5273 [14:25<08:52,  3.89it/s]"
     ]
    },
    {
     "name": "stderr",
     "output_type": "stream",
     "text": [
      "\r",
      "Processing columns:  61%|██████    | 3200/5273 [14:25<08:29,  4.06it/s]"
     ]
    },
    {
     "name": "stderr",
     "output_type": "stream",
     "text": [
      "\r",
      "Processing columns:  61%|██████    | 3201/5273 [14:26<08:33,  4.03it/s]"
     ]
    },
    {
     "name": "stderr",
     "output_type": "stream",
     "text": [
      "\r",
      "Processing columns:  61%|██████    | 3202/5273 [14:26<10:54,  3.16it/s]"
     ]
    },
    {
     "name": "stderr",
     "output_type": "stream",
     "text": [
      "\r",
      "Processing columns:  61%|██████    | 3203/5273 [14:26<09:46,  3.53it/s]"
     ]
    },
    {
     "name": "stderr",
     "output_type": "stream",
     "text": [
      "\r",
      "Processing columns:  61%|██████    | 3204/5273 [14:27<09:12,  3.75it/s]"
     ]
    },
    {
     "name": "stderr",
     "output_type": "stream",
     "text": [
      "\r",
      "Processing columns:  61%|██████    | 3205/5273 [14:27<08:52,  3.88it/s]"
     ]
    },
    {
     "name": "stderr",
     "output_type": "stream",
     "text": [
      "\r",
      "Processing columns:  61%|██████    | 3206/5273 [14:27<08:36,  4.00it/s]"
     ]
    },
    {
     "name": "stderr",
     "output_type": "stream",
     "text": [
      "\r",
      "Processing columns:  61%|██████    | 3207/5273 [14:27<08:32,  4.03it/s]"
     ]
    },
    {
     "name": "stderr",
     "output_type": "stream",
     "text": [
      "\r",
      "Processing columns:  61%|██████    | 3208/5273 [14:28<08:45,  3.93it/s]"
     ]
    },
    {
     "name": "stderr",
     "output_type": "stream",
     "text": [
      "\r",
      "Processing columns:  61%|██████    | 3209/5273 [14:28<08:37,  3.99it/s]"
     ]
    },
    {
     "name": "stderr",
     "output_type": "stream",
     "text": [
      "\r",
      "Processing columns:  61%|██████    | 3210/5273 [14:28<08:40,  3.97it/s]"
     ]
    },
    {
     "name": "stderr",
     "output_type": "stream",
     "text": [
      "\r",
      "Processing columns:  61%|██████    | 3211/5273 [14:28<08:21,  4.11it/s]"
     ]
    },
    {
     "name": "stderr",
     "output_type": "stream",
     "text": [
      "\r",
      "Processing columns:  61%|██████    | 3212/5273 [14:28<08:04,  4.25it/s]"
     ]
    },
    {
     "name": "stderr",
     "output_type": "stream",
     "text": [
      "\r",
      "Processing columns:  61%|██████    | 3213/5273 [14:29<08:14,  4.16it/s]"
     ]
    },
    {
     "name": "stderr",
     "output_type": "stream",
     "text": [
      "\r",
      "Processing columns:  61%|██████    | 3214/5273 [14:29<08:05,  4.24it/s]"
     ]
    },
    {
     "name": "stderr",
     "output_type": "stream",
     "text": [
      "\r",
      "Processing columns:  61%|██████    | 3215/5273 [14:29<10:38,  3.22it/s]"
     ]
    },
    {
     "name": "stderr",
     "output_type": "stream",
     "text": [
      "\r",
      "Processing columns:  61%|██████    | 3216/5273 [14:30<09:35,  3.57it/s]"
     ]
    },
    {
     "name": "stderr",
     "output_type": "stream",
     "text": [
      "\r",
      "Processing columns:  61%|██████    | 3217/5273 [14:30<09:07,  3.76it/s]"
     ]
    },
    {
     "name": "stderr",
     "output_type": "stream",
     "text": [
      "\r",
      "Processing columns:  61%|██████    | 3218/5273 [14:30<08:48,  3.89it/s]"
     ]
    },
    {
     "name": "stderr",
     "output_type": "stream",
     "text": [
      "\r",
      "Processing columns:  61%|██████    | 3219/5273 [14:30<08:30,  4.02it/s]"
     ]
    },
    {
     "name": "stderr",
     "output_type": "stream",
     "text": [
      "\r",
      "Processing columns:  61%|██████    | 3220/5273 [14:31<09:22,  3.65it/s]"
     ]
    },
    {
     "name": "stderr",
     "output_type": "stream",
     "text": [
      "\r",
      "Processing columns:  61%|██████    | 3221/5273 [14:31<09:01,  3.79it/s]"
     ]
    },
    {
     "name": "stderr",
     "output_type": "stream",
     "text": [
      "\r",
      "Processing columns:  61%|██████    | 3222/5273 [14:31<08:47,  3.89it/s]"
     ]
    },
    {
     "name": "stderr",
     "output_type": "stream",
     "text": [
      "\r",
      "Processing columns:  61%|██████    | 3223/5273 [14:31<08:40,  3.93it/s]"
     ]
    },
    {
     "name": "stderr",
     "output_type": "stream",
     "text": [
      "\r",
      "Processing columns:  61%|██████    | 3224/5273 [14:32<08:27,  4.03it/s]"
     ]
    },
    {
     "name": "stderr",
     "output_type": "stream",
     "text": [
      "\r",
      "Processing columns:  61%|██████    | 3225/5273 [14:32<08:15,  4.13it/s]"
     ]
    },
    {
     "name": "stderr",
     "output_type": "stream",
     "text": [
      "\r",
      "Processing columns:  61%|██████    | 3226/5273 [14:32<08:11,  4.17it/s]"
     ]
    },
    {
     "name": "stderr",
     "output_type": "stream",
     "text": [
      "\r",
      "Processing columns:  61%|██████    | 3227/5273 [14:32<08:08,  4.19it/s]"
     ]
    },
    {
     "name": "stderr",
     "output_type": "stream",
     "text": [
      "\r",
      "Processing columns:  61%|██████    | 3228/5273 [14:33<10:05,  3.38it/s]"
     ]
    },
    {
     "name": "stderr",
     "output_type": "stream",
     "text": [
      "\r",
      "Processing columns:  61%|██████    | 3229/5273 [14:33<09:55,  3.43it/s]"
     ]
    },
    {
     "name": "stderr",
     "output_type": "stream",
     "text": [
      "\r",
      "Processing columns:  61%|██████▏   | 3230/5273 [14:33<10:09,  3.35it/s]"
     ]
    },
    {
     "name": "stderr",
     "output_type": "stream",
     "text": [
      "\r",
      "Processing columns:  61%|██████▏   | 3231/5273 [14:34<09:29,  3.58it/s]"
     ]
    },
    {
     "name": "stderr",
     "output_type": "stream",
     "text": [
      "\r",
      "Processing columns:  61%|██████▏   | 3232/5273 [14:34<08:52,  3.83it/s]"
     ]
    },
    {
     "name": "stderr",
     "output_type": "stream",
     "text": [
      "\r",
      "Processing columns:  61%|██████▏   | 3233/5273 [14:34<08:10,  4.16it/s]"
     ]
    },
    {
     "name": "stderr",
     "output_type": "stream",
     "text": [
      "\r",
      "Processing columns:  61%|██████▏   | 3234/5273 [14:34<07:50,  4.34it/s]"
     ]
    },
    {
     "name": "stderr",
     "output_type": "stream",
     "text": [
      "\r",
      "Processing columns:  61%|██████▏   | 3235/5273 [14:35<08:53,  3.82it/s]"
     ]
    },
    {
     "name": "stderr",
     "output_type": "stream",
     "text": [
      "\r",
      "Processing columns:  61%|██████▏   | 3236/5273 [14:35<08:32,  3.98it/s]"
     ]
    },
    {
     "name": "stderr",
     "output_type": "stream",
     "text": [
      "\r",
      "Processing columns:  61%|██████▏   | 3237/5273 [14:35<08:20,  4.07it/s]"
     ]
    },
    {
     "name": "stderr",
     "output_type": "stream",
     "text": [
      "\r",
      "Processing columns:  61%|██████▏   | 3238/5273 [14:35<09:03,  3.74it/s]"
     ]
    },
    {
     "name": "stderr",
     "output_type": "stream",
     "text": [
      "\r",
      "Processing columns:  61%|██████▏   | 3239/5273 [14:36<08:33,  3.96it/s]"
     ]
    },
    {
     "name": "stderr",
     "output_type": "stream",
     "text": [
      "\r",
      "Processing columns:  61%|██████▏   | 3240/5273 [14:36<08:10,  4.14it/s]"
     ]
    },
    {
     "name": "stderr",
     "output_type": "stream",
     "text": [
      "\r",
      "Processing columns:  61%|██████▏   | 3241/5273 [14:36<10:36,  3.19it/s]"
     ]
    },
    {
     "name": "stderr",
     "output_type": "stream",
     "text": [
      "\r",
      "Processing columns:  61%|██████▏   | 3242/5273 [14:37<10:17,  3.29it/s]"
     ]
    },
    {
     "name": "stderr",
     "output_type": "stream",
     "text": [
      "\r",
      "Processing columns:  62%|██████▏   | 3243/5273 [14:37<10:31,  3.22it/s]"
     ]
    },
    {
     "name": "stderr",
     "output_type": "stream",
     "text": [
      "\r",
      "Processing columns:  62%|██████▏   | 3244/5273 [14:37<09:23,  3.60it/s]"
     ]
    },
    {
     "name": "stderr",
     "output_type": "stream",
     "text": [
      "\r",
      "Processing columns:  62%|██████▏   | 3245/5273 [14:37<09:28,  3.57it/s]"
     ]
    },
    {
     "name": "stderr",
     "output_type": "stream",
     "text": [
      "\r",
      "Processing columns:  62%|██████▏   | 3246/5273 [14:38<08:54,  3.79it/s]"
     ]
    },
    {
     "name": "stderr",
     "output_type": "stream",
     "text": [
      "\r",
      "Processing columns:  62%|██████▏   | 3247/5273 [14:38<08:34,  3.94it/s]"
     ]
    },
    {
     "name": "stderr",
     "output_type": "stream",
     "text": [
      "\r",
      "Processing columns:  62%|██████▏   | 3248/5273 [14:38<08:26,  4.00it/s]"
     ]
    },
    {
     "name": "stderr",
     "output_type": "stream",
     "text": [
      "\r",
      "Processing columns:  62%|██████▏   | 3249/5273 [14:38<08:13,  4.11it/s]"
     ]
    },
    {
     "name": "stderr",
     "output_type": "stream",
     "text": [
      "\r",
      "Processing columns:  62%|██████▏   | 3250/5273 [14:38<07:56,  4.25it/s]"
     ]
    },
    {
     "name": "stderr",
     "output_type": "stream",
     "text": [
      "\r",
      "Processing columns:  62%|██████▏   | 3251/5273 [14:39<08:27,  3.98it/s]"
     ]
    },
    {
     "name": "stderr",
     "output_type": "stream",
     "text": [
      "\r",
      "Processing columns:  62%|██████▏   | 3252/5273 [14:39<08:12,  4.10it/s]"
     ]
    },
    {
     "name": "stderr",
     "output_type": "stream",
     "text": [
      "\r",
      "Processing columns:  62%|██████▏   | 3253/5273 [14:39<08:09,  4.13it/s]"
     ]
    },
    {
     "name": "stderr",
     "output_type": "stream",
     "text": [
      "\r",
      "Processing columns:  62%|██████▏   | 3254/5273 [14:39<07:58,  4.22it/s]"
     ]
    },
    {
     "name": "stderr",
     "output_type": "stream",
     "text": [
      "\r",
      "Processing columns:  62%|██████▏   | 3255/5273 [14:40<10:52,  3.09it/s]"
     ]
    },
    {
     "name": "stderr",
     "output_type": "stream",
     "text": [
      "\r",
      "Processing columns:  62%|██████▏   | 3256/5273 [14:40<09:35,  3.51it/s]"
     ]
    },
    {
     "name": "stderr",
     "output_type": "stream",
     "text": [
      "\r",
      "Processing columns:  62%|██████▏   | 3257/5273 [14:40<09:50,  3.41it/s]"
     ]
    },
    {
     "name": "stderr",
     "output_type": "stream",
     "text": [
      "\r",
      "Processing columns:  62%|██████▏   | 3258/5273 [14:41<09:22,  3.58it/s]"
     ]
    },
    {
     "name": "stderr",
     "output_type": "stream",
     "text": [
      "\r",
      "Processing columns:  62%|██████▏   | 3259/5273 [14:41<09:03,  3.71it/s]"
     ]
    },
    {
     "name": "stderr",
     "output_type": "stream",
     "text": [
      "\r",
      "Processing columns:  62%|██████▏   | 3260/5273 [14:41<09:03,  3.70it/s]"
     ]
    },
    {
     "name": "stderr",
     "output_type": "stream",
     "text": [
      "\r",
      "Processing columns:  62%|██████▏   | 3261/5273 [14:41<08:35,  3.90it/s]"
     ]
    },
    {
     "name": "stderr",
     "output_type": "stream",
     "text": [
      "\r",
      "Processing columns:  62%|██████▏   | 3262/5273 [14:42<09:29,  3.53it/s]"
     ]
    },
    {
     "name": "stderr",
     "output_type": "stream",
     "text": [
      "\r",
      "Processing columns:  62%|██████▏   | 3263/5273 [14:42<08:51,  3.78it/s]"
     ]
    },
    {
     "name": "stderr",
     "output_type": "stream",
     "text": [
      "\r",
      "Processing columns:  62%|██████▏   | 3264/5273 [14:42<08:33,  3.91it/s]"
     ]
    },
    {
     "name": "stderr",
     "output_type": "stream",
     "text": [
      "\r",
      "Processing columns:  62%|██████▏   | 3265/5273 [14:43<08:33,  3.91it/s]"
     ]
    },
    {
     "name": "stderr",
     "output_type": "stream",
     "text": [
      "\r",
      "Processing columns:  62%|██████▏   | 3266/5273 [14:43<08:13,  4.07it/s]"
     ]
    },
    {
     "name": "stderr",
     "output_type": "stream",
     "text": [
      "\r",
      "Processing columns:  62%|██████▏   | 3267/5273 [14:43<08:03,  4.15it/s]"
     ]
    },
    {
     "name": "stderr",
     "output_type": "stream",
     "text": [
      "\r",
      "Processing columns:  62%|██████▏   | 3268/5273 [14:43<10:42,  3.12it/s]"
     ]
    },
    {
     "name": "stderr",
     "output_type": "stream",
     "text": [
      "\r",
      "Processing columns:  62%|██████▏   | 3269/5273 [14:44<10:25,  3.20it/s]"
     ]
    },
    {
     "name": "stderr",
     "output_type": "stream",
     "text": [
      "\r",
      "Processing columns:  62%|██████▏   | 3270/5273 [14:44<09:30,  3.51it/s]"
     ]
    },
    {
     "name": "stderr",
     "output_type": "stream",
     "text": [
      "\r",
      "Processing columns:  62%|██████▏   | 3271/5273 [14:44<09:56,  3.36it/s]"
     ]
    },
    {
     "name": "stderr",
     "output_type": "stream",
     "text": [
      "\r",
      "Processing columns:  62%|██████▏   | 3272/5273 [14:45<09:37,  3.47it/s]"
     ]
    },
    {
     "name": "stderr",
     "output_type": "stream",
     "text": [
      "\r",
      "Processing columns:  62%|██████▏   | 3273/5273 [14:45<08:48,  3.79it/s]"
     ]
    },
    {
     "name": "stderr",
     "output_type": "stream",
     "text": [
      "\r",
      "Processing columns:  62%|██████▏   | 3274/5273 [14:45<08:29,  3.93it/s]"
     ]
    },
    {
     "name": "stderr",
     "output_type": "stream",
     "text": [
      "\r",
      "Processing columns:  62%|██████▏   | 3275/5273 [14:45<08:16,  4.03it/s]"
     ]
    },
    {
     "name": "stderr",
     "output_type": "stream",
     "text": [
      "\r",
      "Processing columns:  62%|██████▏   | 3276/5273 [14:46<09:09,  3.64it/s]"
     ]
    },
    {
     "name": "stderr",
     "output_type": "stream",
     "text": [
      "\r",
      "Processing columns:  62%|██████▏   | 3277/5273 [14:46<08:37,  3.86it/s]"
     ]
    },
    {
     "name": "stderr",
     "output_type": "stream",
     "text": [
      "\r",
      "Processing columns:  62%|██████▏   | 3278/5273 [14:46<08:19,  4.00it/s]"
     ]
    },
    {
     "name": "stderr",
     "output_type": "stream",
     "text": [
      "\r",
      "Processing columns:  62%|██████▏   | 3279/5273 [14:46<08:07,  4.09it/s]"
     ]
    },
    {
     "name": "stderr",
     "output_type": "stream",
     "text": [
      "\r",
      "Processing columns:  62%|██████▏   | 3280/5273 [14:47<08:43,  3.81it/s]"
     ]
    },
    {
     "name": "stderr",
     "output_type": "stream",
     "text": [
      "\r",
      "Processing columns:  62%|██████▏   | 3281/5273 [14:47<10:23,  3.19it/s]"
     ]
    },
    {
     "name": "stderr",
     "output_type": "stream",
     "text": [
      "\r",
      "Processing columns:  62%|██████▏   | 3282/5273 [14:47<09:40,  3.43it/s]"
     ]
    },
    {
     "name": "stderr",
     "output_type": "stream",
     "text": [
      "\r",
      "Processing columns:  62%|██████▏   | 3283/5273 [14:47<08:42,  3.81it/s]"
     ]
    },
    {
     "name": "stderr",
     "output_type": "stream",
     "text": [
      "\r",
      "Processing columns:  62%|██████▏   | 3284/5273 [14:48<08:23,  3.95it/s]"
     ]
    },
    {
     "name": "stderr",
     "output_type": "stream",
     "text": [
      "\r",
      "Processing columns:  62%|██████▏   | 3285/5273 [14:48<09:37,  3.44it/s]"
     ]
    },
    {
     "name": "stderr",
     "output_type": "stream",
     "text": [
      "\r",
      "Processing columns:  62%|██████▏   | 3286/5273 [14:48<08:59,  3.69it/s]"
     ]
    },
    {
     "name": "stderr",
     "output_type": "stream",
     "text": [
      "\r",
      "Processing columns:  62%|██████▏   | 3287/5273 [14:49<08:36,  3.84it/s]"
     ]
    },
    {
     "name": "stderr",
     "output_type": "stream",
     "text": [
      "\r",
      "Processing columns:  62%|██████▏   | 3288/5273 [14:49<09:06,  3.63it/s]"
     ]
    },
    {
     "name": "stderr",
     "output_type": "stream",
     "text": [
      "\r",
      "Processing columns:  62%|██████▏   | 3289/5273 [14:49<08:42,  3.80it/s]"
     ]
    },
    {
     "name": "stderr",
     "output_type": "stream",
     "text": [
      "\r",
      "Processing columns:  62%|██████▏   | 3290/5273 [14:49<08:23,  3.94it/s]"
     ]
    },
    {
     "name": "stderr",
     "output_type": "stream",
     "text": [
      "\r",
      "Processing columns:  62%|██████▏   | 3291/5273 [14:50<08:23,  3.93it/s]"
     ]
    },
    {
     "name": "stderr",
     "output_type": "stream",
     "text": [
      "\r",
      "Processing columns:  62%|██████▏   | 3292/5273 [14:50<08:24,  3.93it/s]"
     ]
    },
    {
     "name": "stderr",
     "output_type": "stream",
     "text": [
      "\r",
      "Processing columns:  62%|██████▏   | 3293/5273 [14:50<08:34,  3.85it/s]"
     ]
    },
    {
     "name": "stderr",
     "output_type": "stream",
     "text": [
      "\r",
      "Processing columns:  62%|██████▏   | 3294/5273 [14:51<10:09,  3.25it/s]"
     ]
    },
    {
     "name": "stderr",
     "output_type": "stream",
     "text": [
      "\r",
      "Processing columns:  62%|██████▏   | 3295/5273 [14:51<09:06,  3.62it/s]"
     ]
    },
    {
     "name": "stderr",
     "output_type": "stream",
     "text": [
      "\r",
      "Processing columns:  63%|██████▎   | 3296/5273 [14:51<09:53,  3.33it/s]"
     ]
    },
    {
     "name": "stderr",
     "output_type": "stream",
     "text": [
      "\r",
      "Processing columns:  63%|██████▎   | 3297/5273 [14:51<09:02,  3.64it/s]"
     ]
    },
    {
     "name": "stderr",
     "output_type": "stream",
     "text": [
      "\r",
      "Processing columns:  63%|██████▎   | 3298/5273 [14:52<09:27,  3.48it/s]"
     ]
    },
    {
     "name": "stderr",
     "output_type": "stream",
     "text": [
      "\r",
      "Processing columns:  63%|██████▎   | 3299/5273 [14:52<09:32,  3.45it/s]"
     ]
    },
    {
     "name": "stderr",
     "output_type": "stream",
     "text": [
      "\r",
      "Processing columns:  63%|██████▎   | 3300/5273 [14:52<09:54,  3.32it/s]"
     ]
    },
    {
     "name": "stderr",
     "output_type": "stream",
     "text": [
      "\r",
      "Processing columns:  63%|██████▎   | 3301/5273 [14:52<08:55,  3.68it/s]"
     ]
    },
    {
     "name": "stderr",
     "output_type": "stream",
     "text": [
      "\r",
      "Processing columns:  63%|██████▎   | 3302/5273 [14:53<09:10,  3.58it/s]"
     ]
    },
    {
     "name": "stderr",
     "output_type": "stream",
     "text": [
      "\r",
      "Processing columns:  63%|██████▎   | 3303/5273 [14:53<08:48,  3.73it/s]"
     ]
    },
    {
     "name": "stderr",
     "output_type": "stream",
     "text": [
      "\r",
      "Processing columns:  63%|██████▎   | 3304/5273 [14:53<08:19,  3.94it/s]"
     ]
    },
    {
     "name": "stderr",
     "output_type": "stream",
     "text": [
      "\r",
      "Processing columns:  63%|██████▎   | 3305/5273 [14:53<08:07,  4.04it/s]"
     ]
    },
    {
     "name": "stderr",
     "output_type": "stream",
     "text": [
      "\r",
      "Processing columns:  63%|██████▎   | 3306/5273 [14:54<08:14,  3.98it/s]"
     ]
    },
    {
     "name": "stderr",
     "output_type": "stream",
     "text": [
      "\r",
      "Processing columns:  63%|██████▎   | 3307/5273 [14:54<10:56,  2.99it/s]"
     ]
    },
    {
     "name": "stderr",
     "output_type": "stream",
     "text": [
      "\r",
      "Processing columns:  63%|██████▎   | 3308/5273 [14:55<11:03,  2.96it/s]"
     ]
    },
    {
     "name": "stderr",
     "output_type": "stream",
     "text": [
      "\r",
      "Processing columns:  63%|██████▎   | 3309/5273 [14:55<10:02,  3.26it/s]"
     ]
    },
    {
     "name": "stderr",
     "output_type": "stream",
     "text": [
      "\r",
      "Processing columns:  63%|██████▎   | 3310/5273 [14:55<09:22,  3.49it/s]"
     ]
    },
    {
     "name": "stderr",
     "output_type": "stream",
     "text": [
      "\r",
      "Processing columns:  63%|██████▎   | 3311/5273 [14:55<08:49,  3.70it/s]"
     ]
    },
    {
     "name": "stderr",
     "output_type": "stream",
     "text": [
      "\r",
      "Processing columns:  63%|██████▎   | 3312/5273 [14:55<08:32,  3.82it/s]"
     ]
    },
    {
     "name": "stderr",
     "output_type": "stream",
     "text": [
      "\r",
      "Processing columns:  63%|██████▎   | 3313/5273 [14:56<08:22,  3.90it/s]"
     ]
    },
    {
     "name": "stderr",
     "output_type": "stream",
     "text": [
      "\r",
      "Processing columns:  63%|██████▎   | 3314/5273 [14:56<08:18,  3.93it/s]"
     ]
    },
    {
     "name": "stderr",
     "output_type": "stream",
     "text": [
      "\r",
      "Processing columns:  63%|██████▎   | 3315/5273 [14:56<08:47,  3.71it/s]"
     ]
    },
    {
     "name": "stderr",
     "output_type": "stream",
     "text": [
      "\r",
      "Processing columns:  63%|██████▎   | 3316/5273 [14:57<08:15,  3.95it/s]"
     ]
    },
    {
     "name": "stderr",
     "output_type": "stream",
     "text": [
      "\r",
      "Processing columns:  63%|██████▎   | 3317/5273 [14:57<08:31,  3.82it/s]"
     ]
    },
    {
     "name": "stderr",
     "output_type": "stream",
     "text": [
      "\r",
      "Processing columns:  63%|██████▎   | 3318/5273 [14:57<08:06,  4.02it/s]"
     ]
    },
    {
     "name": "stderr",
     "output_type": "stream",
     "text": [
      "\r",
      "Processing columns:  63%|██████▎   | 3319/5273 [14:57<09:10,  3.55it/s]"
     ]
    },
    {
     "name": "stderr",
     "output_type": "stream",
     "text": [
      "\r",
      "Processing columns:  63%|██████▎   | 3320/5273 [14:58<11:21,  2.87it/s]"
     ]
    },
    {
     "name": "stderr",
     "output_type": "stream",
     "text": [
      "\r",
      "Processing columns:  63%|██████▎   | 3321/5273 [14:58<10:41,  3.04it/s]"
     ]
    },
    {
     "name": "stderr",
     "output_type": "stream",
     "text": [
      "\r",
      "Processing columns:  63%|██████▎   | 3322/5273 [14:58<09:26,  3.45it/s]"
     ]
    },
    {
     "name": "stderr",
     "output_type": "stream",
     "text": [
      "\r",
      "Processing columns:  63%|██████▎   | 3323/5273 [14:59<08:28,  3.83it/s]"
     ]
    },
    {
     "name": "stderr",
     "output_type": "stream",
     "text": [
      "\r",
      "Processing columns:  63%|██████▎   | 3324/5273 [14:59<09:52,  3.29it/s]"
     ]
    },
    {
     "name": "stderr",
     "output_type": "stream",
     "text": [
      "\r",
      "Processing columns:  63%|██████▎   | 3325/5273 [14:59<09:10,  3.54it/s]"
     ]
    },
    {
     "name": "stderr",
     "output_type": "stream",
     "text": [
      "\r",
      "Processing columns:  63%|██████▎   | 3326/5273 [14:59<09:04,  3.57it/s]"
     ]
    },
    {
     "name": "stderr",
     "output_type": "stream",
     "text": [
      "\r",
      "Processing columns:  63%|██████▎   | 3327/5273 [15:00<08:48,  3.68it/s]"
     ]
    },
    {
     "name": "stderr",
     "output_type": "stream",
     "text": [
      "\r",
      "Processing columns:  63%|██████▎   | 3328/5273 [15:00<09:26,  3.43it/s]"
     ]
    },
    {
     "name": "stderr",
     "output_type": "stream",
     "text": [
      "\r",
      "Processing columns:  63%|██████▎   | 3329/5273 [15:00<08:49,  3.67it/s]"
     ]
    },
    {
     "name": "stderr",
     "output_type": "stream",
     "text": [
      "\r",
      "Processing columns:  63%|██████▎   | 3330/5273 [15:01<08:26,  3.84it/s]"
     ]
    },
    {
     "name": "stderr",
     "output_type": "stream",
     "text": [
      "\r",
      "Processing columns:  63%|██████▎   | 3331/5273 [15:01<08:42,  3.71it/s]"
     ]
    },
    {
     "name": "stderr",
     "output_type": "stream",
     "text": [
      "\r",
      "Processing columns:  63%|██████▎   | 3332/5273 [15:01<08:54,  3.63it/s]"
     ]
    },
    {
     "name": "stderr",
     "output_type": "stream",
     "text": [
      "\r",
      "Processing columns:  63%|██████▎   | 3333/5273 [15:01<08:25,  3.84it/s]"
     ]
    },
    {
     "name": "stderr",
     "output_type": "stream",
     "text": [
      "\r",
      "Processing columns:  63%|██████▎   | 3334/5273 [15:02<10:32,  3.07it/s]"
     ]
    },
    {
     "name": "stderr",
     "output_type": "stream",
     "text": [
      "\r",
      "Processing columns:  63%|██████▎   | 3335/5273 [15:02<09:53,  3.27it/s]"
     ]
    },
    {
     "name": "stderr",
     "output_type": "stream",
     "text": [
      "\r",
      "Processing columns:  63%|██████▎   | 3336/5273 [15:02<10:28,  3.08it/s]"
     ]
    },
    {
     "name": "stderr",
     "output_type": "stream",
     "text": [
      "\r",
      "Processing columns:  63%|██████▎   | 3337/5273 [15:03<09:45,  3.31it/s]"
     ]
    },
    {
     "name": "stderr",
     "output_type": "stream",
     "text": [
      "\r",
      "Processing columns:  63%|██████▎   | 3338/5273 [15:03<09:10,  3.52it/s]"
     ]
    },
    {
     "name": "stderr",
     "output_type": "stream",
     "text": [
      "\r",
      "Processing columns:  63%|██████▎   | 3339/5273 [15:03<09:16,  3.47it/s]"
     ]
    },
    {
     "name": "stderr",
     "output_type": "stream",
     "text": [
      "\r",
      "Processing columns:  63%|██████▎   | 3340/5273 [15:03<08:42,  3.70it/s]"
     ]
    },
    {
     "name": "stderr",
     "output_type": "stream",
     "text": [
      "\r",
      "Processing columns:  63%|██████▎   | 3341/5273 [15:04<08:10,  3.94it/s]"
     ]
    },
    {
     "name": "stderr",
     "output_type": "stream",
     "text": [
      "\r",
      "Processing columns:  63%|██████▎   | 3342/5273 [15:04<08:05,  3.97it/s]"
     ]
    },
    {
     "name": "stderr",
     "output_type": "stream",
     "text": [
      "\r",
      "Processing columns:  63%|██████▎   | 3343/5273 [15:04<07:46,  4.14it/s]"
     ]
    },
    {
     "name": "stderr",
     "output_type": "stream",
     "text": [
      "\r",
      "Processing columns:  63%|██████▎   | 3344/5273 [15:04<07:41,  4.18it/s]"
     ]
    },
    {
     "name": "stderr",
     "output_type": "stream",
     "text": [
      "\r",
      "Processing columns:  63%|██████▎   | 3345/5273 [15:05<08:26,  3.81it/s]"
     ]
    },
    {
     "name": "stderr",
     "output_type": "stream",
     "text": [
      "\r",
      "Processing columns:  63%|██████▎   | 3346/5273 [15:05<08:45,  3.67it/s]"
     ]
    },
    {
     "name": "stderr",
     "output_type": "stream",
     "text": [
      "\r",
      "Processing columns:  63%|██████▎   | 3347/5273 [15:05<10:55,  2.94it/s]"
     ]
    },
    {
     "name": "stderr",
     "output_type": "stream",
     "text": [
      "\r",
      "Processing columns:  63%|██████▎   | 3348/5273 [15:06<10:03,  3.19it/s]"
     ]
    },
    {
     "name": "stderr",
     "output_type": "stream",
     "text": [
      "\r",
      "Processing columns:  64%|██████▎   | 3349/5273 [15:06<09:19,  3.44it/s]"
     ]
    },
    {
     "name": "stderr",
     "output_type": "stream",
     "text": [
      "\r",
      "Processing columns:  64%|██████▎   | 3350/5273 [15:06<08:45,  3.66it/s]"
     ]
    },
    {
     "name": "stderr",
     "output_type": "stream",
     "text": [
      "\r",
      "Processing columns:  64%|██████▎   | 3351/5273 [15:06<08:23,  3.82it/s]"
     ]
    },
    {
     "name": "stderr",
     "output_type": "stream",
     "text": [
      "\r",
      "Processing columns:  64%|██████▎   | 3352/5273 [15:07<08:09,  3.92it/s]"
     ]
    },
    {
     "name": "stderr",
     "output_type": "stream",
     "text": [
      "\r",
      "Processing columns:  64%|██████▎   | 3353/5273 [15:07<07:52,  4.07it/s]"
     ]
    },
    {
     "name": "stderr",
     "output_type": "stream",
     "text": [
      "\r",
      "Processing columns:  64%|██████▎   | 3354/5273 [15:07<07:35,  4.21it/s]"
     ]
    },
    {
     "name": "stderr",
     "output_type": "stream",
     "text": [
      "\r",
      "Processing columns:  64%|██████▎   | 3355/5273 [15:07<07:27,  4.29it/s]"
     ]
    },
    {
     "name": "stderr",
     "output_type": "stream",
     "text": [
      "\r",
      "Processing columns:  64%|██████▎   | 3356/5273 [15:08<07:40,  4.16it/s]"
     ]
    },
    {
     "name": "stderr",
     "output_type": "stream",
     "text": [
      "\r",
      "Processing columns:  64%|██████▎   | 3357/5273 [15:08<07:39,  4.17it/s]"
     ]
    },
    {
     "name": "stderr",
     "output_type": "stream",
     "text": [
      "\r",
      "Processing columns:  64%|██████▎   | 3358/5273 [15:08<07:45,  4.12it/s]"
     ]
    },
    {
     "name": "stderr",
     "output_type": "stream",
     "text": [
      "\r",
      "Processing columns:  64%|██████▎   | 3359/5273 [15:08<07:48,  4.09it/s]"
     ]
    },
    {
     "name": "stderr",
     "output_type": "stream",
     "text": [
      "\r",
      "Processing columns:  64%|██████▎   | 3360/5273 [15:09<09:47,  3.25it/s]"
     ]
    },
    {
     "name": "stderr",
     "output_type": "stream",
     "text": [
      "\r",
      "Processing columns:  64%|██████▎   | 3361/5273 [15:09<09:10,  3.48it/s]"
     ]
    },
    {
     "name": "stderr",
     "output_type": "stream",
     "text": [
      "\r",
      "Processing columns:  64%|██████▍   | 3362/5273 [15:09<08:42,  3.65it/s]"
     ]
    },
    {
     "name": "stderr",
     "output_type": "stream",
     "text": [
      "\r",
      "Processing columns:  64%|██████▍   | 3363/5273 [15:09<07:59,  3.98it/s]"
     ]
    },
    {
     "name": "stderr",
     "output_type": "stream",
     "text": [
      "\r",
      "Processing columns:  64%|██████▍   | 3364/5273 [15:10<08:18,  3.83it/s]"
     ]
    },
    {
     "name": "stderr",
     "output_type": "stream",
     "text": [
      "\r",
      "Processing columns:  64%|██████▍   | 3365/5273 [15:10<08:03,  3.95it/s]"
     ]
    },
    {
     "name": "stderr",
     "output_type": "stream",
     "text": [
      "\r",
      "Processing columns:  64%|██████▍   | 3366/5273 [15:10<07:55,  4.01it/s]"
     ]
    },
    {
     "name": "stderr",
     "output_type": "stream",
     "text": [
      "\r",
      "Processing columns:  64%|██████▍   | 3367/5273 [15:10<07:44,  4.11it/s]"
     ]
    },
    {
     "name": "stderr",
     "output_type": "stream",
     "text": [
      "\r",
      "Processing columns:  64%|██████▍   | 3368/5273 [15:11<07:43,  4.11it/s]"
     ]
    },
    {
     "name": "stderr",
     "output_type": "stream",
     "text": [
      "\r",
      "Processing columns:  64%|██████▍   | 3369/5273 [15:11<08:26,  3.76it/s]"
     ]
    },
    {
     "name": "stderr",
     "output_type": "stream",
     "text": [
      "\r",
      "Processing columns:  64%|██████▍   | 3370/5273 [15:11<08:06,  3.91it/s]"
     ]
    },
    {
     "name": "stderr",
     "output_type": "stream",
     "text": [
      "\r",
      "Processing columns:  64%|██████▍   | 3371/5273 [15:11<07:53,  4.02it/s]"
     ]
    },
    {
     "name": "stderr",
     "output_type": "stream",
     "text": [
      "\r",
      "Processing columns:  64%|██████▍   | 3372/5273 [15:12<07:42,  4.11it/s]"
     ]
    },
    {
     "name": "stderr",
     "output_type": "stream",
     "text": [
      "\r",
      "Processing columns:  64%|██████▍   | 3373/5273 [15:12<09:16,  3.41it/s]"
     ]
    },
    {
     "name": "stderr",
     "output_type": "stream",
     "text": [
      "\r",
      "Processing columns:  64%|██████▍   | 3374/5273 [15:12<08:35,  3.69it/s]"
     ]
    },
    {
     "name": "stderr",
     "output_type": "stream",
     "text": [
      "\r",
      "Processing columns:  64%|██████▍   | 3375/5273 [15:13<08:18,  3.81it/s]"
     ]
    },
    {
     "name": "stderr",
     "output_type": "stream",
     "text": [
      "\r",
      "Processing columns:  64%|██████▍   | 3376/5273 [15:13<09:05,  3.48it/s]"
     ]
    },
    {
     "name": "stderr",
     "output_type": "stream",
     "text": [
      "\r",
      "Processing columns:  64%|██████▍   | 3377/5273 [15:13<08:23,  3.76it/s]"
     ]
    },
    {
     "name": "stderr",
     "output_type": "stream",
     "text": [
      "\r",
      "Processing columns:  64%|██████▍   | 3378/5273 [15:13<08:37,  3.66it/s]"
     ]
    },
    {
     "name": "stderr",
     "output_type": "stream",
     "text": [
      "\r",
      "Processing columns:  64%|██████▍   | 3379/5273 [15:14<09:34,  3.29it/s]"
     ]
    },
    {
     "name": "stderr",
     "output_type": "stream",
     "text": [
      "\r",
      "Processing columns:  64%|██████▍   | 3380/5273 [15:14<08:48,  3.58it/s]"
     ]
    },
    {
     "name": "stderr",
     "output_type": "stream",
     "text": [
      "\r",
      "Processing columns:  64%|██████▍   | 3381/5273 [15:14<08:10,  3.86it/s]"
     ]
    },
    {
     "name": "stderr",
     "output_type": "stream",
     "text": [
      "\r",
      "Processing columns:  64%|██████▍   | 3382/5273 [15:15<08:45,  3.60it/s]"
     ]
    },
    {
     "name": "stderr",
     "output_type": "stream",
     "text": [
      "\r",
      "Processing columns:  64%|██████▍   | 3383/5273 [15:15<07:59,  3.94it/s]"
     ]
    },
    {
     "name": "stderr",
     "output_type": "stream",
     "text": [
      "\r",
      "Processing columns:  64%|██████▍   | 3384/5273 [15:15<07:40,  4.10it/s]"
     ]
    },
    {
     "name": "stderr",
     "output_type": "stream",
     "text": [
      "\r",
      "Processing columns:  64%|██████▍   | 3385/5273 [15:15<08:22,  3.76it/s]"
     ]
    },
    {
     "name": "stderr",
     "output_type": "stream",
     "text": [
      "\r",
      "Processing columns:  64%|██████▍   | 3386/5273 [15:16<10:40,  2.95it/s]"
     ]
    },
    {
     "name": "stderr",
     "output_type": "stream",
     "text": [
      "\r",
      "Processing columns:  64%|██████▍   | 3387/5273 [15:16<09:37,  3.27it/s]"
     ]
    },
    {
     "name": "stderr",
     "output_type": "stream",
     "text": [
      "\r",
      "Processing columns:  64%|██████▍   | 3388/5273 [15:16<08:51,  3.55it/s]"
     ]
    },
    {
     "name": "stderr",
     "output_type": "stream",
     "text": [
      "\r",
      "Processing columns:  64%|██████▍   | 3389/5273 [15:16<08:25,  3.73it/s]"
     ]
    },
    {
     "name": "stderr",
     "output_type": "stream",
     "text": [
      "\r",
      "Processing columns:  64%|██████▍   | 3390/5273 [15:17<08:22,  3.75it/s]"
     ]
    },
    {
     "name": "stderr",
     "output_type": "stream",
     "text": [
      "\r",
      "Processing columns:  64%|██████▍   | 3391/5273 [15:17<08:07,  3.86it/s]"
     ]
    },
    {
     "name": "stderr",
     "output_type": "stream",
     "text": [
      "\r",
      "Processing columns:  64%|██████▍   | 3392/5273 [15:17<07:56,  3.95it/s]"
     ]
    },
    {
     "name": "stderr",
     "output_type": "stream",
     "text": [
      "\r",
      "Processing columns:  64%|██████▍   | 3393/5273 [15:17<07:25,  4.22it/s]"
     ]
    },
    {
     "name": "stderr",
     "output_type": "stream",
     "text": [
      "\r",
      "Processing columns:  64%|██████▍   | 3394/5273 [15:18<07:05,  4.41it/s]"
     ]
    },
    {
     "name": "stderr",
     "output_type": "stream",
     "text": [
      "\r",
      "Processing columns:  64%|██████▍   | 3395/5273 [15:18<08:33,  3.65it/s]"
     ]
    },
    {
     "name": "stderr",
     "output_type": "stream",
     "text": [
      "\r",
      "Processing columns:  64%|██████▍   | 3396/5273 [15:18<08:07,  3.85it/s]"
     ]
    },
    {
     "name": "stderr",
     "output_type": "stream",
     "text": [
      "\r",
      "Processing columns:  64%|██████▍   | 3397/5273 [15:18<07:48,  4.00it/s]"
     ]
    },
    {
     "name": "stderr",
     "output_type": "stream",
     "text": [
      "\r",
      "Processing columns:  64%|██████▍   | 3398/5273 [15:19<07:55,  3.94it/s]"
     ]
    },
    {
     "name": "stderr",
     "output_type": "stream",
     "text": [
      "\r",
      "Processing columns:  64%|██████▍   | 3399/5273 [15:19<10:00,  3.12it/s]"
     ]
    },
    {
     "name": "stderr",
     "output_type": "stream",
     "text": [
      "\r",
      "Processing columns:  64%|██████▍   | 3400/5273 [15:19<09:09,  3.41it/s]"
     ]
    },
    {
     "name": "stderr",
     "output_type": "stream",
     "text": [
      "\r",
      "Processing columns:  64%|██████▍   | 3401/5273 [15:20<08:34,  3.64it/s]"
     ]
    },
    {
     "name": "stderr",
     "output_type": "stream",
     "text": [
      "\r",
      "Processing columns:  65%|██████▍   | 3402/5273 [15:20<08:04,  3.86it/s]"
     ]
    },
    {
     "name": "stderr",
     "output_type": "stream",
     "text": [
      "\r",
      "Processing columns:  65%|██████▍   | 3403/5273 [15:20<07:39,  4.07it/s]"
     ]
    },
    {
     "name": "stderr",
     "output_type": "stream",
     "text": [
      "\r",
      "Processing columns:  65%|██████▍   | 3404/5273 [15:20<07:20,  4.24it/s]"
     ]
    },
    {
     "name": "stderr",
     "output_type": "stream",
     "text": [
      "\r",
      "Processing columns:  65%|██████▍   | 3405/5273 [15:21<07:18,  4.26it/s]"
     ]
    },
    {
     "name": "stderr",
     "output_type": "stream",
     "text": [
      "\r",
      "Processing columns:  65%|██████▍   | 3406/5273 [15:21<07:16,  4.27it/s]"
     ]
    },
    {
     "name": "stderr",
     "output_type": "stream",
     "text": [
      "\r",
      "Processing columns:  65%|██████▍   | 3407/5273 [15:21<08:10,  3.80it/s]"
     ]
    },
    {
     "name": "stderr",
     "output_type": "stream",
     "text": [
      "\r",
      "Processing columns:  65%|██████▍   | 3408/5273 [15:21<07:50,  3.97it/s]"
     ]
    },
    {
     "name": "stderr",
     "output_type": "stream",
     "text": [
      "\r",
      "Processing columns:  65%|██████▍   | 3409/5273 [15:22<07:40,  4.05it/s]"
     ]
    },
    {
     "name": "stderr",
     "output_type": "stream",
     "text": [
      "\r",
      "Processing columns:  65%|██████▍   | 3410/5273 [15:22<07:37,  4.07it/s]"
     ]
    },
    {
     "name": "stderr",
     "output_type": "stream",
     "text": [
      "\r",
      "Processing columns:  65%|██████▍   | 3411/5273 [15:22<07:33,  4.10it/s]"
     ]
    },
    {
     "name": "stderr",
     "output_type": "stream",
     "text": [
      "\r",
      "Processing columns:  65%|██████▍   | 3412/5273 [15:22<08:04,  3.84it/s]"
     ]
    },
    {
     "name": "stderr",
     "output_type": "stream",
     "text": [
      "\r",
      "Processing columns:  65%|██████▍   | 3413/5273 [15:23<09:37,  3.22it/s]"
     ]
    },
    {
     "name": "stderr",
     "output_type": "stream",
     "text": [
      "\r",
      "Processing columns:  65%|██████▍   | 3414/5273 [15:23<08:39,  3.58it/s]"
     ]
    },
    {
     "name": "stderr",
     "output_type": "stream",
     "text": [
      "\r",
      "Processing columns:  65%|██████▍   | 3415/5273 [15:23<08:16,  3.74it/s]"
     ]
    },
    {
     "name": "stderr",
     "output_type": "stream",
     "text": [
      "\r",
      "Processing columns:  65%|██████▍   | 3416/5273 [15:23<07:43,  4.01it/s]"
     ]
    },
    {
     "name": "stderr",
     "output_type": "stream",
     "text": [
      "\r",
      "Processing columns:  65%|██████▍   | 3417/5273 [15:24<08:02,  3.85it/s]"
     ]
    },
    {
     "name": "stderr",
     "output_type": "stream",
     "text": [
      "\r",
      "Processing columns:  65%|██████▍   | 3418/5273 [15:24<07:49,  3.95it/s]"
     ]
    },
    {
     "name": "stderr",
     "output_type": "stream",
     "text": [
      "\r",
      "Processing columns:  65%|██████▍   | 3419/5273 [15:24<07:56,  3.89it/s]"
     ]
    },
    {
     "name": "stderr",
     "output_type": "stream",
     "text": [
      "\r",
      "Processing columns:  65%|██████▍   | 3420/5273 [15:24<07:42,  4.00it/s]"
     ]
    },
    {
     "name": "stderr",
     "output_type": "stream",
     "text": [
      "\r",
      "Processing columns:  65%|██████▍   | 3421/5273 [15:25<07:45,  3.98it/s]"
     ]
    },
    {
     "name": "stderr",
     "output_type": "stream",
     "text": [
      "\r",
      "Processing columns:  65%|██████▍   | 3422/5273 [15:25<08:16,  3.73it/s]"
     ]
    },
    {
     "name": "stderr",
     "output_type": "stream",
     "text": [
      "\r",
      "Processing columns:  65%|██████▍   | 3423/5273 [15:25<08:02,  3.83it/s]"
     ]
    },
    {
     "name": "stderr",
     "output_type": "stream",
     "text": [
      "\r",
      "Processing columns:  65%|██████▍   | 3424/5273 [15:25<07:28,  4.12it/s]"
     ]
    },
    {
     "name": "stderr",
     "output_type": "stream",
     "text": [
      "\r",
      "Processing columns:  65%|██████▍   | 3425/5273 [15:26<07:15,  4.25it/s]"
     ]
    },
    {
     "name": "stderr",
     "output_type": "stream",
     "text": [
      "\r",
      "Processing columns:  65%|██████▍   | 3426/5273 [15:26<10:49,  2.84it/s]"
     ]
    },
    {
     "name": "stderr",
     "output_type": "stream",
     "text": [
      "\r",
      "Processing columns:  65%|██████▍   | 3427/5273 [15:27<09:34,  3.21it/s]"
     ]
    },
    {
     "name": "stderr",
     "output_type": "stream",
     "text": [
      "\r",
      "Processing columns:  65%|██████▌   | 3428/5273 [15:27<09:04,  3.39it/s]"
     ]
    },
    {
     "name": "stderr",
     "output_type": "stream",
     "text": [
      "\r",
      "Processing columns:  65%|██████▌   | 3429/5273 [15:27<08:46,  3.51it/s]"
     ]
    },
    {
     "name": "stderr",
     "output_type": "stream",
     "text": [
      "\r",
      "Processing columns:  65%|██████▌   | 3430/5273 [15:27<07:59,  3.84it/s]"
     ]
    },
    {
     "name": "stderr",
     "output_type": "stream",
     "text": [
      "\r",
      "Processing columns:  65%|██████▌   | 3431/5273 [15:28<08:08,  3.77it/s]"
     ]
    },
    {
     "name": "stderr",
     "output_type": "stream",
     "text": [
      "\r",
      "Processing columns:  65%|██████▌   | 3432/5273 [15:28<08:01,  3.82it/s]"
     ]
    },
    {
     "name": "stderr",
     "output_type": "stream",
     "text": [
      "\r",
      "Processing columns:  65%|██████▌   | 3433/5273 [15:28<08:12,  3.74it/s]"
     ]
    },
    {
     "name": "stderr",
     "output_type": "stream",
     "text": [
      "\r",
      "Processing columns:  65%|██████▌   | 3434/5273 [15:28<07:58,  3.85it/s]"
     ]
    },
    {
     "name": "stderr",
     "output_type": "stream",
     "text": [
      "\r",
      "Processing columns:  65%|██████▌   | 3435/5273 [15:29<07:41,  3.98it/s]"
     ]
    },
    {
     "name": "stderr",
     "output_type": "stream",
     "text": [
      "\r",
      "Processing columns:  65%|██████▌   | 3436/5273 [15:29<07:30,  4.08it/s]"
     ]
    },
    {
     "name": "stderr",
     "output_type": "stream",
     "text": [
      "\r",
      "Processing columns:  65%|██████▌   | 3437/5273 [15:29<07:24,  4.13it/s]"
     ]
    },
    {
     "name": "stderr",
     "output_type": "stream",
     "text": [
      "\r",
      "Processing columns:  65%|██████▌   | 3438/5273 [15:29<08:02,  3.80it/s]"
     ]
    },
    {
     "name": "stderr",
     "output_type": "stream",
     "text": [
      "\r",
      "Processing columns:  65%|██████▌   | 3439/5273 [15:30<09:51,  3.10it/s]"
     ]
    },
    {
     "name": "stderr",
     "output_type": "stream",
     "text": [
      "\r",
      "Processing columns:  65%|██████▌   | 3440/5273 [15:30<09:10,  3.33it/s]"
     ]
    },
    {
     "name": "stderr",
     "output_type": "stream",
     "text": [
      "\r",
      "Processing columns:  65%|██████▌   | 3441/5273 [15:30<08:38,  3.53it/s]"
     ]
    },
    {
     "name": "stderr",
     "output_type": "stream",
     "text": [
      "\r",
      "Processing columns:  65%|██████▌   | 3442/5273 [15:31<08:29,  3.59it/s]"
     ]
    },
    {
     "name": "stderr",
     "output_type": "stream",
     "text": [
      "\r",
      "Processing columns:  65%|██████▌   | 3443/5273 [15:31<08:05,  3.77it/s]"
     ]
    },
    {
     "name": "stderr",
     "output_type": "stream",
     "text": [
      "\r",
      "Processing columns:  65%|██████▌   | 3444/5273 [15:31<07:38,  3.99it/s]"
     ]
    },
    {
     "name": "stderr",
     "output_type": "stream",
     "text": [
      "\r",
      "Processing columns:  65%|██████▌   | 3445/5273 [15:31<08:11,  3.72it/s]"
     ]
    },
    {
     "name": "stderr",
     "output_type": "stream",
     "text": [
      "\r",
      "Processing columns:  65%|██████▌   | 3446/5273 [15:32<07:48,  3.90it/s]"
     ]
    },
    {
     "name": "stderr",
     "output_type": "stream",
     "text": [
      "\r",
      "Processing columns:  65%|██████▌   | 3447/5273 [15:32<07:35,  4.01it/s]"
     ]
    },
    {
     "name": "stderr",
     "output_type": "stream",
     "text": [
      "\r",
      "Processing columns:  65%|██████▌   | 3448/5273 [15:32<07:26,  4.09it/s]"
     ]
    },
    {
     "name": "stderr",
     "output_type": "stream",
     "text": [
      "\r",
      "Processing columns:  65%|██████▌   | 3449/5273 [15:32<07:25,  4.10it/s]"
     ]
    },
    {
     "name": "stderr",
     "output_type": "stream",
     "text": [
      "\r",
      "Processing columns:  65%|██████▌   | 3450/5273 [15:32<07:26,  4.09it/s]"
     ]
    },
    {
     "name": "stderr",
     "output_type": "stream",
     "text": [
      "\r",
      "Processing columns:  65%|██████▌   | 3451/5273 [15:33<07:02,  4.31it/s]"
     ]
    },
    {
     "name": "stderr",
     "output_type": "stream",
     "text": [
      "\r",
      "Processing columns:  65%|██████▌   | 3452/5273 [15:33<08:52,  3.42it/s]"
     ]
    },
    {
     "name": "stderr",
     "output_type": "stream",
     "text": [
      "\r",
      "Processing columns:  65%|██████▌   | 3453/5273 [15:33<09:16,  3.27it/s]"
     ]
    },
    {
     "name": "stderr",
     "output_type": "stream",
     "text": [
      "\r",
      "Processing columns:  66%|██████▌   | 3454/5273 [15:34<08:49,  3.43it/s]"
     ]
    },
    {
     "name": "stderr",
     "output_type": "stream",
     "text": [
      "\r",
      "Processing columns:  66%|██████▌   | 3455/5273 [15:34<08:00,  3.78it/s]"
     ]
    },
    {
     "name": "stderr",
     "output_type": "stream",
     "text": [
      "\r",
      "Processing columns:  66%|██████▌   | 3456/5273 [15:34<07:44,  3.91it/s]"
     ]
    },
    {
     "name": "stderr",
     "output_type": "stream",
     "text": [
      "\r",
      "Processing columns:  66%|██████▌   | 3457/5273 [15:34<07:53,  3.83it/s]"
     ]
    },
    {
     "name": "stderr",
     "output_type": "stream",
     "text": [
      "\r",
      "Processing columns:  66%|██████▌   | 3458/5273 [15:35<07:36,  3.97it/s]"
     ]
    },
    {
     "name": "stderr",
     "output_type": "stream",
     "text": [
      "\r",
      "Processing columns:  66%|██████▌   | 3459/5273 [15:35<08:11,  3.69it/s]"
     ]
    },
    {
     "name": "stderr",
     "output_type": "stream",
     "text": [
      "\r",
      "Processing columns:  66%|██████▌   | 3460/5273 [15:35<07:46,  3.88it/s]"
     ]
    },
    {
     "name": "stderr",
     "output_type": "stream",
     "text": [
      "\r",
      "Processing columns:  66%|██████▌   | 3461/5273 [15:35<07:48,  3.87it/s]"
     ]
    },
    {
     "name": "stderr",
     "output_type": "stream",
     "text": [
      "\r",
      "Processing columns:  66%|██████▌   | 3462/5273 [15:36<07:34,  3.99it/s]"
     ]
    },
    {
     "name": "stderr",
     "output_type": "stream",
     "text": [
      "\r",
      "Processing columns:  66%|██████▌   | 3463/5273 [15:36<07:51,  3.84it/s]"
     ]
    },
    {
     "name": "stderr",
     "output_type": "stream",
     "text": [
      "\r",
      "Processing columns:  66%|██████▌   | 3464/5273 [15:36<07:15,  4.15it/s]"
     ]
    },
    {
     "name": "stderr",
     "output_type": "stream",
     "text": [
      "\r",
      "Processing columns:  66%|██████▌   | 3465/5273 [15:37<08:58,  3.36it/s]"
     ]
    },
    {
     "name": "stderr",
     "output_type": "stream",
     "text": [
      "\r",
      "Processing columns:  66%|██████▌   | 3466/5273 [15:37<08:20,  3.61it/s]"
     ]
    },
    {
     "name": "stderr",
     "output_type": "stream",
     "text": [
      "\r",
      "Processing columns:  66%|██████▌   | 3467/5273 [15:37<08:09,  3.69it/s]"
     ]
    },
    {
     "name": "stderr",
     "output_type": "stream",
     "text": [
      "\r",
      "Processing columns:  66%|██████▌   | 3468/5273 [15:37<08:12,  3.67it/s]"
     ]
    },
    {
     "name": "stderr",
     "output_type": "stream",
     "text": [
      "\r",
      "Processing columns:  66%|██████▌   | 3469/5273 [15:38<08:05,  3.71it/s]"
     ]
    },
    {
     "name": "stderr",
     "output_type": "stream",
     "text": [
      "\r",
      "Processing columns:  66%|██████▌   | 3470/5273 [15:38<07:45,  3.87it/s]"
     ]
    },
    {
     "name": "stderr",
     "output_type": "stream",
     "text": [
      "\r",
      "Processing columns:  66%|██████▌   | 3471/5273 [15:38<07:31,  3.99it/s]"
     ]
    },
    {
     "name": "stderr",
     "output_type": "stream",
     "text": [
      "\r",
      "Processing columns:  66%|██████▌   | 3472/5273 [15:38<07:50,  3.83it/s]"
     ]
    },
    {
     "name": "stderr",
     "output_type": "stream",
     "text": [
      "\r",
      "Processing columns:  66%|██████▌   | 3473/5273 [15:39<07:38,  3.93it/s]"
     ]
    },
    {
     "name": "stderr",
     "output_type": "stream",
     "text": [
      "\r",
      "Processing columns:  66%|██████▌   | 3474/5273 [15:39<07:21,  4.08it/s]"
     ]
    },
    {
     "name": "stderr",
     "output_type": "stream",
     "text": [
      "\r",
      "Processing columns:  66%|██████▌   | 3475/5273 [15:39<07:18,  4.10it/s]"
     ]
    },
    {
     "name": "stderr",
     "output_type": "stream",
     "text": [
      "\r",
      "Processing columns:  66%|██████▌   | 3476/5273 [15:39<07:42,  3.88it/s]"
     ]
    },
    {
     "name": "stderr",
     "output_type": "stream",
     "text": [
      "\r",
      "Processing columns:  66%|██████▌   | 3477/5273 [15:40<07:28,  4.00it/s]"
     ]
    },
    {
     "name": "stderr",
     "output_type": "stream",
     "text": [
      "\r",
      "Processing columns:  66%|██████▌   | 3478/5273 [15:40<09:09,  3.27it/s]"
     ]
    },
    {
     "name": "stderr",
     "output_type": "stream",
     "text": [
      "\r",
      "Processing columns:  66%|██████▌   | 3479/5273 [15:40<08:27,  3.54it/s]"
     ]
    },
    {
     "name": "stderr",
     "output_type": "stream",
     "text": [
      "\r",
      "Processing columns:  66%|██████▌   | 3480/5273 [15:41<08:26,  3.54it/s]"
     ]
    },
    {
     "name": "stderr",
     "output_type": "stream",
     "text": [
      "\r",
      "Processing columns:  66%|██████▌   | 3481/5273 [15:41<07:57,  3.75it/s]"
     ]
    },
    {
     "name": "stderr",
     "output_type": "stream",
     "text": [
      "\r",
      "Processing columns:  66%|██████▌   | 3482/5273 [15:41<07:40,  3.89it/s]"
     ]
    },
    {
     "name": "stderr",
     "output_type": "stream",
     "text": [
      "\r",
      "Processing columns:  66%|██████▌   | 3483/5273 [15:41<07:34,  3.94it/s]"
     ]
    },
    {
     "name": "stderr",
     "output_type": "stream",
     "text": [
      "\r",
      "Processing columns:  66%|██████▌   | 3484/5273 [15:41<07:22,  4.05it/s]"
     ]
    },
    {
     "name": "stderr",
     "output_type": "stream",
     "text": [
      "\r",
      "Processing columns:  66%|██████▌   | 3485/5273 [15:42<07:13,  4.12it/s]"
     ]
    },
    {
     "name": "stderr",
     "output_type": "stream",
     "text": [
      "\r",
      "Processing columns:  66%|██████▌   | 3486/5273 [15:42<07:15,  4.10it/s]"
     ]
    },
    {
     "name": "stderr",
     "output_type": "stream",
     "text": [
      "\r",
      "Processing columns:  66%|██████▌   | 3487/5273 [15:42<07:08,  4.17it/s]"
     ]
    },
    {
     "name": "stderr",
     "output_type": "stream",
     "text": [
      "\r",
      "Processing columns:  66%|██████▌   | 3488/5273 [15:42<07:07,  4.17it/s]"
     ]
    },
    {
     "name": "stderr",
     "output_type": "stream",
     "text": [
      "\r",
      "Processing columns:  66%|██████▌   | 3489/5273 [15:43<07:16,  4.09it/s]"
     ]
    },
    {
     "name": "stderr",
     "output_type": "stream",
     "text": [
      "\r",
      "Processing columns:  66%|██████▌   | 3490/5273 [15:43<07:21,  4.04it/s]"
     ]
    },
    {
     "name": "stderr",
     "output_type": "stream",
     "text": [
      "\r",
      "Processing columns:  66%|██████▌   | 3491/5273 [15:43<08:52,  3.35it/s]"
     ]
    },
    {
     "name": "stderr",
     "output_type": "stream",
     "text": [
      "\r",
      "Processing columns:  66%|██████▌   | 3492/5273 [15:44<08:28,  3.50it/s]"
     ]
    },
    {
     "name": "stderr",
     "output_type": "stream",
     "text": [
      "\r",
      "Processing columns:  66%|██████▌   | 3493/5273 [15:44<08:00,  3.70it/s]"
     ]
    },
    {
     "name": "stderr",
     "output_type": "stream",
     "text": [
      "\r",
      "Processing columns:  66%|██████▋   | 3494/5273 [15:44<08:20,  3.56it/s]"
     ]
    },
    {
     "name": "stderr",
     "output_type": "stream",
     "text": [
      "\r",
      "Processing columns:  66%|██████▋   | 3495/5273 [15:44<07:52,  3.76it/s]"
     ]
    },
    {
     "name": "stderr",
     "output_type": "stream",
     "text": [
      "\r",
      "Processing columns:  66%|██████▋   | 3496/5273 [15:45<07:24,  4.00it/s]"
     ]
    },
    {
     "name": "stderr",
     "output_type": "stream",
     "text": [
      "\r",
      "Processing columns:  66%|██████▋   | 3497/5273 [15:45<07:13,  4.10it/s]"
     ]
    },
    {
     "name": "stderr",
     "output_type": "stream",
     "text": [
      "\r",
      "Processing columns:  66%|██████▋   | 3498/5273 [15:45<07:18,  4.05it/s]"
     ]
    },
    {
     "name": "stderr",
     "output_type": "stream",
     "text": [
      "\r",
      "Processing columns:  66%|██████▋   | 3499/5273 [15:45<07:14,  4.08it/s]"
     ]
    },
    {
     "name": "stderr",
     "output_type": "stream",
     "text": [
      "\r",
      "Processing columns:  66%|██████▋   | 3500/5273 [15:46<07:15,  4.07it/s]"
     ]
    },
    {
     "name": "stderr",
     "output_type": "stream",
     "text": [
      "\r",
      "Processing columns:  66%|██████▋   | 3501/5273 [15:46<06:57,  4.24it/s]"
     ]
    },
    {
     "name": "stderr",
     "output_type": "stream",
     "text": [
      "\r",
      "Processing columns:  66%|██████▋   | 3502/5273 [15:46<07:10,  4.12it/s]"
     ]
    },
    {
     "name": "stderr",
     "output_type": "stream",
     "text": [
      "\r",
      "Processing columns:  66%|██████▋   | 3503/5273 [15:46<07:33,  3.90it/s]"
     ]
    },
    {
     "name": "stderr",
     "output_type": "stream",
     "text": [
      "\r",
      "Processing columns:  66%|██████▋   | 3504/5273 [15:47<09:30,  3.10it/s]"
     ]
    },
    {
     "name": "stderr",
     "output_type": "stream",
     "text": [
      "\r",
      "Processing columns:  66%|██████▋   | 3505/5273 [15:47<08:34,  3.43it/s]"
     ]
    },
    {
     "name": "stderr",
     "output_type": "stream",
     "text": [
      "\r",
      "Processing columns:  66%|██████▋   | 3506/5273 [15:47<08:11,  3.59it/s]"
     ]
    },
    {
     "name": "stderr",
     "output_type": "stream",
     "text": [
      "\r",
      "Processing columns:  67%|██████▋   | 3507/5273 [15:48<07:49,  3.76it/s]"
     ]
    },
    {
     "name": "stderr",
     "output_type": "stream",
     "text": [
      "\r",
      "Processing columns:  67%|██████▋   | 3508/5273 [15:48<07:31,  3.91it/s]"
     ]
    },
    {
     "name": "stderr",
     "output_type": "stream",
     "text": [
      "\r",
      "Processing columns:  67%|██████▋   | 3509/5273 [15:48<07:49,  3.76it/s]"
     ]
    },
    {
     "name": "stderr",
     "output_type": "stream",
     "text": [
      "\r",
      "Processing columns:  67%|██████▋   | 3510/5273 [15:48<07:38,  3.85it/s]"
     ]
    },
    {
     "name": "stderr",
     "output_type": "stream",
     "text": [
      "\r",
      "Processing columns:  67%|██████▋   | 3511/5273 [15:49<07:25,  3.95it/s]"
     ]
    },
    {
     "name": "stderr",
     "output_type": "stream",
     "text": [
      "\r",
      "Processing columns:  67%|██████▋   | 3512/5273 [15:49<07:11,  4.08it/s]"
     ]
    },
    {
     "name": "stderr",
     "output_type": "stream",
     "text": [
      "\r",
      "Processing columns:  67%|██████▋   | 3513/5273 [15:49<07:14,  4.05it/s]"
     ]
    },
    {
     "name": "stderr",
     "output_type": "stream",
     "text": [
      "\r",
      "Processing columns:  67%|██████▋   | 3514/5273 [15:49<06:50,  4.29it/s]"
     ]
    },
    {
     "name": "stderr",
     "output_type": "stream",
     "text": [
      "\r",
      "Processing columns:  67%|██████▋   | 3515/5273 [15:49<07:02,  4.16it/s]"
     ]
    },
    {
     "name": "stderr",
     "output_type": "stream",
     "text": [
      "\r",
      "Processing columns:  67%|██████▋   | 3516/5273 [15:50<07:51,  3.72it/s]"
     ]
    },
    {
     "name": "stderr",
     "output_type": "stream",
     "text": [
      "\r",
      "Processing columns:  67%|██████▋   | 3517/5273 [15:50<09:44,  3.00it/s]"
     ]
    },
    {
     "name": "stderr",
     "output_type": "stream",
     "text": [
      "\r",
      "Processing columns:  67%|██████▋   | 3518/5273 [15:51<08:55,  3.28it/s]"
     ]
    },
    {
     "name": "stderr",
     "output_type": "stream",
     "text": [
      "\r",
      "Processing columns:  67%|██████▋   | 3519/5273 [15:51<08:19,  3.51it/s]"
     ]
    },
    {
     "name": "stderr",
     "output_type": "stream",
     "text": [
      "\r",
      "Processing columns:  67%|██████▋   | 3520/5273 [15:51<08:01,  3.64it/s]"
     ]
    },
    {
     "name": "stderr",
     "output_type": "stream",
     "text": [
      "\r",
      "Processing columns:  67%|██████▋   | 3521/5273 [15:51<07:45,  3.77it/s]"
     ]
    },
    {
     "name": "stderr",
     "output_type": "stream",
     "text": [
      "\r",
      "Processing columns:  67%|██████▋   | 3522/5273 [15:51<07:17,  4.00it/s]"
     ]
    },
    {
     "name": "stderr",
     "output_type": "stream",
     "text": [
      "\r",
      "Processing columns:  67%|██████▋   | 3523/5273 [15:52<08:09,  3.58it/s]"
     ]
    },
    {
     "name": "stderr",
     "output_type": "stream",
     "text": [
      "\r",
      "Processing columns:  67%|██████▋   | 3524/5273 [15:52<08:00,  3.64it/s]"
     ]
    },
    {
     "name": "stderr",
     "output_type": "stream",
     "text": [
      "\r",
      "Processing columns:  67%|██████▋   | 3525/5273 [15:52<07:32,  3.86it/s]"
     ]
    },
    {
     "name": "stderr",
     "output_type": "stream",
     "text": [
      "\r",
      "Processing columns:  67%|██████▋   | 3526/5273 [15:53<07:20,  3.97it/s]"
     ]
    },
    {
     "name": "stderr",
     "output_type": "stream",
     "text": [
      "\r",
      "Processing columns:  67%|██████▋   | 3527/5273 [15:53<07:08,  4.08it/s]"
     ]
    },
    {
     "name": "stderr",
     "output_type": "stream",
     "text": [
      "\r",
      "Processing columns:  67%|██████▋   | 3528/5273 [15:53<07:21,  3.96it/s]"
     ]
    },
    {
     "name": "stderr",
     "output_type": "stream",
     "text": [
      "\r",
      "Processing columns:  67%|██████▋   | 3529/5273 [15:53<07:01,  4.14it/s]"
     ]
    },
    {
     "name": "stderr",
     "output_type": "stream",
     "text": [
      "\r",
      "Processing columns:  67%|██████▋   | 3530/5273 [15:54<09:28,  3.07it/s]"
     ]
    },
    {
     "name": "stderr",
     "output_type": "stream",
     "text": [
      "\r",
      "Processing columns:  67%|██████▋   | 3531/5273 [15:54<08:36,  3.38it/s]"
     ]
    },
    {
     "name": "stderr",
     "output_type": "stream",
     "text": [
      "\r",
      "Processing columns:  67%|██████▋   | 3532/5273 [15:54<08:01,  3.62it/s]"
     ]
    },
    {
     "name": "stderr",
     "output_type": "stream",
     "text": [
      "\r",
      "Processing columns:  67%|██████▋   | 3533/5273 [15:55<08:07,  3.57it/s]"
     ]
    },
    {
     "name": "stderr",
     "output_type": "stream",
     "text": [
      "\r",
      "Processing columns:  67%|██████▋   | 3534/5273 [15:55<07:32,  3.84it/s]"
     ]
    },
    {
     "name": "stderr",
     "output_type": "stream",
     "text": [
      "\r",
      "Processing columns:  67%|██████▋   | 3535/5273 [15:55<07:14,  4.00it/s]"
     ]
    },
    {
     "name": "stderr",
     "output_type": "stream",
     "text": [
      "\r",
      "Processing columns:  67%|██████▋   | 3536/5273 [15:55<07:13,  4.01it/s]"
     ]
    },
    {
     "name": "stderr",
     "output_type": "stream",
     "text": [
      "\r",
      "Processing columns:  67%|██████▋   | 3537/5273 [15:55<07:06,  4.07it/s]"
     ]
    },
    {
     "name": "stderr",
     "output_type": "stream",
     "text": [
      "\r",
      "Processing columns:  67%|██████▋   | 3538/5273 [15:56<06:58,  4.15it/s]"
     ]
    },
    {
     "name": "stderr",
     "output_type": "stream",
     "text": [
      "\r",
      "Processing columns:  67%|██████▋   | 3539/5273 [15:56<07:11,  4.02it/s]"
     ]
    },
    {
     "name": "stderr",
     "output_type": "stream",
     "text": [
      "\r",
      "Processing columns:  67%|██████▋   | 3540/5273 [15:56<07:02,  4.10it/s]"
     ]
    },
    {
     "name": "stderr",
     "output_type": "stream",
     "text": [
      "\r",
      "Processing columns:  67%|██████▋   | 3541/5273 [15:56<06:54,  4.17it/s]"
     ]
    },
    {
     "name": "stderr",
     "output_type": "stream",
     "text": [
      "\r",
      "Processing columns:  67%|██████▋   | 3542/5273 [15:57<06:47,  4.25it/s]"
     ]
    },
    {
     "name": "stderr",
     "output_type": "stream",
     "text": [
      "\r",
      "Processing columns:  67%|██████▋   | 3543/5273 [15:57<08:53,  3.24it/s]"
     ]
    },
    {
     "name": "stderr",
     "output_type": "stream",
     "text": [
      "\r",
      "Processing columns:  67%|██████▋   | 3544/5273 [15:57<08:27,  3.40it/s]"
     ]
    },
    {
     "name": "stderr",
     "output_type": "stream",
     "text": [
      "\r",
      "Processing columns:  67%|██████▋   | 3545/5273 [15:58<07:52,  3.66it/s]"
     ]
    },
    {
     "name": "stderr",
     "output_type": "stream",
     "text": [
      "\r",
      "Processing columns:  67%|██████▋   | 3546/5273 [15:58<07:30,  3.83it/s]"
     ]
    },
    {
     "name": "stderr",
     "output_type": "stream",
     "text": [
      "\r",
      "Processing columns:  67%|██████▋   | 3547/5273 [15:58<07:07,  4.04it/s]"
     ]
    },
    {
     "name": "stderr",
     "output_type": "stream",
     "text": [
      "\r",
      "Processing columns:  67%|██████▋   | 3548/5273 [15:58<07:09,  4.02it/s]"
     ]
    },
    {
     "name": "stderr",
     "output_type": "stream",
     "text": [
      "\r",
      "Processing columns:  67%|██████▋   | 3549/5273 [15:59<07:40,  3.74it/s]"
     ]
    },
    {
     "name": "stderr",
     "output_type": "stream",
     "text": [
      "\r",
      "Processing columns:  67%|██████▋   | 3550/5273 [15:59<08:04,  3.56it/s]"
     ]
    },
    {
     "name": "stderr",
     "output_type": "stream",
     "text": [
      "\r",
      "Processing columns:  67%|██████▋   | 3551/5273 [15:59<07:35,  3.78it/s]"
     ]
    },
    {
     "name": "stderr",
     "output_type": "stream",
     "text": [
      "\r",
      "Processing columns:  67%|██████▋   | 3552/5273 [15:59<07:30,  3.82it/s]"
     ]
    },
    {
     "name": "stderr",
     "output_type": "stream",
     "text": [
      "\r",
      "Processing columns:  67%|██████▋   | 3553/5273 [16:00<07:13,  3.97it/s]"
     ]
    },
    {
     "name": "stderr",
     "output_type": "stream",
     "text": [
      "\r",
      "Processing columns:  67%|██████▋   | 3554/5273 [16:00<06:46,  4.23it/s]"
     ]
    },
    {
     "name": "stderr",
     "output_type": "stream",
     "text": [
      "\r",
      "Processing columns:  67%|██████▋   | 3555/5273 [16:00<06:42,  4.27it/s]"
     ]
    },
    {
     "name": "stderr",
     "output_type": "stream",
     "text": [
      "\r",
      "Processing columns:  67%|██████▋   | 3556/5273 [16:01<09:42,  2.95it/s]"
     ]
    },
    {
     "name": "stderr",
     "output_type": "stream",
     "text": [
      "\r",
      "Processing columns:  67%|██████▋   | 3557/5273 [16:01<08:31,  3.35it/s]"
     ]
    },
    {
     "name": "stderr",
     "output_type": "stream",
     "text": [
      "\r",
      "Processing columns:  67%|██████▋   | 3558/5273 [16:01<08:03,  3.55it/s]"
     ]
    },
    {
     "name": "stderr",
     "output_type": "stream",
     "text": [
      "\r",
      "Processing columns:  67%|██████▋   | 3559/5273 [16:01<07:31,  3.79it/s]"
     ]
    },
    {
     "name": "stderr",
     "output_type": "stream",
     "text": [
      "\r",
      "Processing columns:  68%|██████▊   | 3560/5273 [16:02<07:11,  3.97it/s]"
     ]
    },
    {
     "name": "stderr",
     "output_type": "stream",
     "text": [
      "\r",
      "Processing columns:  68%|██████▊   | 3561/5273 [16:02<08:09,  3.50it/s]"
     ]
    },
    {
     "name": "stderr",
     "output_type": "stream",
     "text": [
      "\r",
      "Processing columns:  68%|██████▊   | 3562/5273 [16:02<07:52,  3.62it/s]"
     ]
    },
    {
     "name": "stderr",
     "output_type": "stream",
     "text": [
      "\r",
      "Processing columns:  68%|██████▊   | 3563/5273 [16:02<07:35,  3.75it/s]"
     ]
    },
    {
     "name": "stderr",
     "output_type": "stream",
     "text": [
      "\r",
      "Processing columns:  68%|██████▊   | 3564/5273 [16:03<07:02,  4.05it/s]"
     ]
    },
    {
     "name": "stderr",
     "output_type": "stream",
     "text": [
      "\r",
      "Processing columns:  68%|██████▊   | 3565/5273 [16:03<06:52,  4.14it/s]"
     ]
    },
    {
     "name": "stderr",
     "output_type": "stream",
     "text": [
      "\r",
      "Processing columns:  68%|██████▊   | 3566/5273 [16:03<06:35,  4.31it/s]"
     ]
    },
    {
     "name": "stderr",
     "output_type": "stream",
     "text": [
      "\r",
      "Processing columns:  68%|██████▊   | 3567/5273 [16:03<06:47,  4.18it/s]"
     ]
    },
    {
     "name": "stderr",
     "output_type": "stream",
     "text": [
      "\r",
      "Processing columns:  68%|██████▊   | 3568/5273 [16:04<06:52,  4.13it/s]"
     ]
    },
    {
     "name": "stderr",
     "output_type": "stream",
     "text": [
      "\r",
      "Processing columns:  68%|██████▊   | 3569/5273 [16:04<08:54,  3.19it/s]"
     ]
    },
    {
     "name": "stderr",
     "output_type": "stream",
     "text": [
      "\r",
      "Processing columns:  68%|██████▊   | 3570/5273 [16:04<09:08,  3.10it/s]"
     ]
    },
    {
     "name": "stderr",
     "output_type": "stream",
     "text": [
      "\r",
      "Processing columns:  68%|██████▊   | 3571/5273 [16:05<08:36,  3.29it/s]"
     ]
    },
    {
     "name": "stderr",
     "output_type": "stream",
     "text": [
      "\r",
      "Processing columns:  68%|██████▊   | 3572/5273 [16:05<07:59,  3.55it/s]"
     ]
    },
    {
     "name": "stderr",
     "output_type": "stream",
     "text": [
      "\r",
      "Processing columns:  68%|██████▊   | 3573/5273 [16:05<07:35,  3.73it/s]"
     ]
    },
    {
     "name": "stderr",
     "output_type": "stream",
     "text": [
      "\r",
      "Processing columns:  68%|██████▊   | 3574/5273 [16:05<07:17,  3.89it/s]"
     ]
    },
    {
     "name": "stderr",
     "output_type": "stream",
     "text": [
      "\r",
      "Processing columns:  68%|██████▊   | 3575/5273 [16:06<06:58,  4.06it/s]"
     ]
    },
    {
     "name": "stderr",
     "output_type": "stream",
     "text": [
      "\r",
      "Processing columns:  68%|██████▊   | 3576/5273 [16:06<06:46,  4.18it/s]"
     ]
    },
    {
     "name": "stderr",
     "output_type": "stream",
     "text": [
      "\r",
      "Processing columns:  68%|██████▊   | 3577/5273 [16:06<07:35,  3.72it/s]"
     ]
    },
    {
     "name": "stderr",
     "output_type": "stream",
     "text": [
      "\r",
      "Processing columns:  68%|██████▊   | 3578/5273 [16:06<07:23,  3.82it/s]"
     ]
    },
    {
     "name": "stderr",
     "output_type": "stream",
     "text": [
      "\r",
      "Processing columns:  68%|██████▊   | 3579/5273 [16:07<07:41,  3.67it/s]"
     ]
    },
    {
     "name": "stderr",
     "output_type": "stream",
     "text": [
      "\r",
      "Processing columns:  68%|██████▊   | 3580/5273 [16:07<07:10,  3.93it/s]"
     ]
    },
    {
     "name": "stderr",
     "output_type": "stream",
     "text": [
      "\r",
      "Processing columns:  68%|██████▊   | 3581/5273 [16:07<06:55,  4.07it/s]"
     ]
    },
    {
     "name": "stderr",
     "output_type": "stream",
     "text": [
      "\r",
      "Processing columns:  68%|██████▊   | 3582/5273 [16:07<06:56,  4.06it/s]"
     ]
    },
    {
     "name": "stderr",
     "output_type": "stream",
     "text": [
      "\r",
      "Processing columns:  68%|██████▊   | 3583/5273 [16:08<08:57,  3.14it/s]"
     ]
    },
    {
     "name": "stderr",
     "output_type": "stream",
     "text": [
      "\r",
      "Processing columns:  68%|██████▊   | 3584/5273 [16:08<08:22,  3.36it/s]"
     ]
    },
    {
     "name": "stderr",
     "output_type": "stream",
     "text": [
      "\r",
      "Processing columns:  68%|██████▊   | 3585/5273 [16:08<07:34,  3.72it/s]"
     ]
    },
    {
     "name": "stderr",
     "output_type": "stream",
     "text": [
      "\r",
      "Processing columns:  68%|██████▊   | 3586/5273 [16:08<07:14,  3.88it/s]"
     ]
    },
    {
     "name": "stderr",
     "output_type": "stream",
     "text": [
      "\r",
      "Processing columns:  68%|██████▊   | 3587/5273 [16:09<07:29,  3.75it/s]"
     ]
    },
    {
     "name": "stderr",
     "output_type": "stream",
     "text": [
      "\r",
      "Processing columns:  68%|██████▊   | 3588/5273 [16:09<07:06,  3.95it/s]"
     ]
    },
    {
     "name": "stderr",
     "output_type": "stream",
     "text": [
      "\r",
      "Processing columns:  68%|██████▊   | 3589/5273 [16:09<07:30,  3.74it/s]"
     ]
    },
    {
     "name": "stderr",
     "output_type": "stream",
     "text": [
      "\r",
      "Processing columns:  68%|██████▊   | 3590/5273 [16:10<07:47,  3.60it/s]"
     ]
    },
    {
     "name": "stderr",
     "output_type": "stream",
     "text": [
      "\r",
      "Processing columns:  68%|██████▊   | 3591/5273 [16:10<07:24,  3.78it/s]"
     ]
    },
    {
     "name": "stderr",
     "output_type": "stream",
     "text": [
      "\r",
      "Processing columns:  68%|██████▊   | 3592/5273 [16:10<07:13,  3.88it/s]"
     ]
    },
    {
     "name": "stderr",
     "output_type": "stream",
     "text": [
      "\r",
      "Processing columns:  68%|██████▊   | 3593/5273 [16:10<07:04,  3.96it/s]"
     ]
    },
    {
     "name": "stderr",
     "output_type": "stream",
     "text": [
      "\r",
      "Processing columns:  68%|██████▊   | 3594/5273 [16:11<06:59,  4.00it/s]"
     ]
    },
    {
     "name": "stderr",
     "output_type": "stream",
     "text": [
      "\r",
      "Processing columns:  68%|██████▊   | 3595/5273 [16:11<07:06,  3.94it/s]"
     ]
    },
    {
     "name": "stderr",
     "output_type": "stream",
     "text": [
      "\r",
      "Processing columns:  68%|██████▊   | 3596/5273 [16:11<09:27,  2.95it/s]"
     ]
    },
    {
     "name": "stderr",
     "output_type": "stream",
     "text": [
      "\r",
      "Processing columns:  68%|██████▊   | 3597/5273 [16:12<08:49,  3.17it/s]"
     ]
    },
    {
     "name": "stderr",
     "output_type": "stream",
     "text": [
      "\r",
      "Processing columns:  68%|██████▊   | 3598/5273 [16:12<08:05,  3.45it/s]"
     ]
    },
    {
     "name": "stderr",
     "output_type": "stream",
     "text": [
      "\r",
      "Processing columns:  68%|██████▊   | 3599/5273 [16:12<07:49,  3.57it/s]"
     ]
    },
    {
     "name": "stderr",
     "output_type": "stream",
     "text": [
      "\r",
      "Processing columns:  68%|██████▊   | 3600/5273 [16:12<07:33,  3.69it/s]"
     ]
    },
    {
     "name": "stderr",
     "output_type": "stream",
     "text": [
      "\r",
      "Processing columns:  68%|██████▊   | 3601/5273 [16:13<07:29,  3.72it/s]"
     ]
    },
    {
     "name": "stderr",
     "output_type": "stream",
     "text": [
      "\r",
      "Processing columns:  68%|██████▊   | 3602/5273 [16:13<06:57,  4.00it/s]"
     ]
    },
    {
     "name": "stderr",
     "output_type": "stream",
     "text": [
      "\r",
      "Processing columns:  68%|██████▊   | 3603/5273 [16:13<06:48,  4.08it/s]"
     ]
    },
    {
     "name": "stderr",
     "output_type": "stream",
     "text": [
      "\r",
      "Processing columns:  68%|██████▊   | 3604/5273 [16:13<06:25,  4.33it/s]"
     ]
    },
    {
     "name": "stderr",
     "output_type": "stream",
     "text": [
      "\r",
      "Processing columns:  68%|██████▊   | 3605/5273 [16:13<06:26,  4.31it/s]"
     ]
    },
    {
     "name": "stderr",
     "output_type": "stream",
     "text": [
      "\r",
      "Processing columns:  68%|██████▊   | 3606/5273 [16:14<07:21,  3.77it/s]"
     ]
    },
    {
     "name": "stderr",
     "output_type": "stream",
     "text": [
      "\r",
      "Processing columns:  68%|██████▊   | 3607/5273 [16:14<06:49,  4.07it/s]"
     ]
    },
    {
     "name": "stderr",
     "output_type": "stream",
     "text": [
      "\r",
      "Processing columns:  68%|██████▊   | 3608/5273 [16:14<07:28,  3.72it/s]"
     ]
    },
    {
     "name": "stderr",
     "output_type": "stream",
     "text": [
      "\r",
      "Processing columns:  68%|██████▊   | 3609/5273 [16:15<10:19,  2.69it/s]"
     ]
    },
    {
     "name": "stderr",
     "output_type": "stream",
     "text": [
      "\r",
      "Processing columns:  68%|██████▊   | 3610/5273 [16:15<09:18,  2.98it/s]"
     ]
    },
    {
     "name": "stderr",
     "output_type": "stream",
     "text": [
      "\r",
      "Processing columns:  68%|██████▊   | 3611/5273 [16:15<08:35,  3.23it/s]"
     ]
    },
    {
     "name": "stderr",
     "output_type": "stream",
     "text": [
      "\r",
      "Processing columns:  68%|██████▊   | 3612/5273 [16:16<07:54,  3.50it/s]"
     ]
    },
    {
     "name": "stderr",
     "output_type": "stream",
     "text": [
      "\r",
      "Processing columns:  69%|██████▊   | 3613/5273 [16:16<07:29,  3.69it/s]"
     ]
    },
    {
     "name": "stderr",
     "output_type": "stream",
     "text": [
      "\r",
      "Processing columns:  69%|██████▊   | 3614/5273 [16:16<07:03,  3.92it/s]"
     ]
    },
    {
     "name": "stderr",
     "output_type": "stream",
     "text": [
      "\r",
      "Processing columns:  69%|██████▊   | 3615/5273 [16:16<06:48,  4.06it/s]"
     ]
    },
    {
     "name": "stderr",
     "output_type": "stream",
     "text": [
      "\r",
      "Processing columns:  69%|██████▊   | 3616/5273 [16:17<06:58,  3.96it/s]"
     ]
    },
    {
     "name": "stderr",
     "output_type": "stream",
     "text": [
      "\r",
      "Processing columns:  69%|██████▊   | 3617/5273 [16:17<07:01,  3.93it/s]"
     ]
    },
    {
     "name": "stderr",
     "output_type": "stream",
     "text": [
      "\r",
      "Processing columns:  69%|██████▊   | 3618/5273 [16:17<06:56,  3.97it/s]"
     ]
    },
    {
     "name": "stderr",
     "output_type": "stream",
     "text": [
      "\r",
      "Processing columns:  69%|██████▊   | 3619/5273 [16:17<06:52,  4.01it/s]"
     ]
    },
    {
     "name": "stderr",
     "output_type": "stream",
     "text": [
      "\r",
      "Processing columns:  69%|██████▊   | 3620/5273 [16:18<06:43,  4.09it/s]"
     ]
    },
    {
     "name": "stderr",
     "output_type": "stream",
     "text": [
      "\r",
      "Processing columns:  69%|██████▊   | 3621/5273 [16:18<07:12,  3.82it/s]"
     ]
    },
    {
     "name": "stderr",
     "output_type": "stream",
     "text": [
      "\r",
      "Processing columns:  69%|██████▊   | 3622/5273 [16:18<09:03,  3.04it/s]"
     ]
    },
    {
     "name": "stderr",
     "output_type": "stream",
     "text": [
      "\r",
      "Processing columns:  69%|██████▊   | 3623/5273 [16:19<08:17,  3.32it/s]"
     ]
    },
    {
     "name": "stderr",
     "output_type": "stream",
     "text": [
      "\r",
      "Processing columns:  69%|██████▊   | 3624/5273 [16:19<07:42,  3.57it/s]"
     ]
    },
    {
     "name": "stderr",
     "output_type": "stream",
     "text": [
      "\r",
      "Processing columns:  69%|██████▊   | 3625/5273 [16:19<07:24,  3.71it/s]"
     ]
    },
    {
     "name": "stderr",
     "output_type": "stream",
     "text": [
      "\r",
      "Processing columns:  69%|██████▉   | 3626/5273 [16:19<07:02,  3.90it/s]"
     ]
    },
    {
     "name": "stderr",
     "output_type": "stream",
     "text": [
      "\r",
      "Processing columns:  69%|██████▉   | 3627/5273 [16:20<06:59,  3.92it/s]"
     ]
    },
    {
     "name": "stderr",
     "output_type": "stream",
     "text": [
      "\r",
      "Processing columns:  69%|██████▉   | 3628/5273 [16:20<07:12,  3.81it/s]"
     ]
    },
    {
     "name": "stderr",
     "output_type": "stream",
     "text": [
      "\r",
      "Processing columns:  69%|██████▉   | 3629/5273 [16:20<06:59,  3.92it/s]"
     ]
    },
    {
     "name": "stderr",
     "output_type": "stream",
     "text": [
      "\r",
      "Processing columns:  69%|██████▉   | 3630/5273 [16:20<06:57,  3.94it/s]"
     ]
    },
    {
     "name": "stderr",
     "output_type": "stream",
     "text": [
      "\r",
      "Processing columns:  69%|██████▉   | 3631/5273 [16:21<07:12,  3.80it/s]"
     ]
    },
    {
     "name": "stderr",
     "output_type": "stream",
     "text": [
      "\r",
      "Processing columns:  69%|██████▉   | 3632/5273 [16:21<06:41,  4.09it/s]"
     ]
    },
    {
     "name": "stderr",
     "output_type": "stream",
     "text": [
      "\r",
      "Processing columns:  69%|██████▉   | 3633/5273 [16:21<06:42,  4.07it/s]"
     ]
    },
    {
     "name": "stderr",
     "output_type": "stream",
     "text": [
      "\r",
      "Processing columns:  69%|██████▉   | 3634/5273 [16:21<06:38,  4.12it/s]"
     ]
    },
    {
     "name": "stderr",
     "output_type": "stream",
     "text": [
      "\r",
      "Processing columns:  69%|██████▉   | 3635/5273 [16:22<08:28,  3.22it/s]"
     ]
    },
    {
     "name": "stderr",
     "output_type": "stream",
     "text": [
      "\r",
      "Processing columns:  69%|██████▉   | 3636/5273 [16:22<07:44,  3.53it/s]"
     ]
    },
    {
     "name": "stderr",
     "output_type": "stream",
     "text": [
      "\r",
      "Processing columns:  69%|██████▉   | 3637/5273 [16:22<07:20,  3.71it/s]"
     ]
    },
    {
     "name": "stderr",
     "output_type": "stream",
     "text": [
      "\r",
      "Processing columns:  69%|██████▉   | 3638/5273 [16:22<06:56,  3.92it/s]"
     ]
    },
    {
     "name": "stderr",
     "output_type": "stream",
     "text": [
      "\r",
      "Processing columns:  69%|██████▉   | 3639/5273 [16:23<06:42,  4.06it/s]"
     ]
    },
    {
     "name": "stderr",
     "output_type": "stream",
     "text": [
      "\r",
      "Processing columns:  69%|██████▉   | 3640/5273 [16:23<06:56,  3.92it/s]"
     ]
    },
    {
     "name": "stderr",
     "output_type": "stream",
     "text": [
      "\r",
      "Processing columns:  69%|██████▉   | 3641/5273 [16:23<07:16,  3.74it/s]"
     ]
    },
    {
     "name": "stderr",
     "output_type": "stream",
     "text": [
      "\r",
      "Processing columns:  69%|██████▉   | 3642/5273 [16:24<07:14,  3.75it/s]"
     ]
    },
    {
     "name": "stderr",
     "output_type": "stream",
     "text": [
      "\r",
      "Processing columns:  69%|██████▉   | 3643/5273 [16:24<07:04,  3.84it/s]"
     ]
    },
    {
     "name": "stderr",
     "output_type": "stream",
     "text": [
      "\r",
      "Processing columns:  69%|██████▉   | 3644/5273 [16:24<06:50,  3.97it/s]"
     ]
    },
    {
     "name": "stderr",
     "output_type": "stream",
     "text": [
      "\r",
      "Processing columns:  69%|██████▉   | 3645/5273 [16:24<06:31,  4.15it/s]"
     ]
    },
    {
     "name": "stderr",
     "output_type": "stream",
     "text": [
      "\r",
      "Processing columns:  69%|██████▉   | 3646/5273 [16:25<06:35,  4.11it/s]"
     ]
    },
    {
     "name": "stderr",
     "output_type": "stream",
     "text": [
      "\r",
      "Processing columns:  69%|██████▉   | 3647/5273 [16:25<06:38,  4.08it/s]"
     ]
    },
    {
     "name": "stderr",
     "output_type": "stream",
     "text": [
      "\r",
      "Processing columns:  69%|██████▉   | 3648/5273 [16:25<08:10,  3.31it/s]"
     ]
    },
    {
     "name": "stderr",
     "output_type": "stream",
     "text": [
      "\r",
      "Processing columns:  69%|██████▉   | 3649/5273 [16:25<07:55,  3.42it/s]"
     ]
    },
    {
     "name": "stderr",
     "output_type": "stream",
     "text": [
      "\r",
      "Processing columns:  69%|██████▉   | 3650/5273 [16:26<07:35,  3.56it/s]"
     ]
    },
    {
     "name": "stderr",
     "output_type": "stream",
     "text": [
      "\r",
      "Processing columns:  69%|██████▉   | 3651/5273 [16:26<07:15,  3.72it/s]"
     ]
    },
    {
     "name": "stderr",
     "output_type": "stream",
     "text": [
      "\r",
      "Processing columns:  69%|██████▉   | 3652/5273 [16:26<06:57,  3.88it/s]"
     ]
    },
    {
     "name": "stderr",
     "output_type": "stream",
     "text": [
      "\r",
      "Processing columns:  69%|██████▉   | 3653/5273 [16:26<06:52,  3.93it/s]"
     ]
    },
    {
     "name": "stderr",
     "output_type": "stream",
     "text": [
      "\r",
      "Processing columns:  69%|██████▉   | 3654/5273 [16:27<06:32,  4.13it/s]"
     ]
    },
    {
     "name": "stderr",
     "output_type": "stream",
     "text": [
      "\r",
      "Processing columns:  69%|██████▉   | 3655/5273 [16:27<06:49,  3.95it/s]"
     ]
    },
    {
     "name": "stderr",
     "output_type": "stream",
     "text": [
      "\r",
      "Processing columns:  69%|██████▉   | 3656/5273 [16:27<06:43,  4.01it/s]"
     ]
    },
    {
     "name": "stderr",
     "output_type": "stream",
     "text": [
      "\r",
      "Processing columns:  69%|██████▉   | 3657/5273 [16:27<07:11,  3.75it/s]"
     ]
    },
    {
     "name": "stderr",
     "output_type": "stream",
     "text": [
      "\r",
      "Processing columns:  69%|██████▉   | 3658/5273 [16:28<06:50,  3.94it/s]"
     ]
    },
    {
     "name": "stderr",
     "output_type": "stream",
     "text": [
      "\r",
      "Processing columns:  69%|██████▉   | 3659/5273 [16:28<06:35,  4.08it/s]"
     ]
    },
    {
     "name": "stderr",
     "output_type": "stream",
     "text": [
      "\r",
      "Processing columns:  69%|██████▉   | 3660/5273 [16:28<06:33,  4.10it/s]"
     ]
    },
    {
     "name": "stderr",
     "output_type": "stream",
     "text": [
      "\r",
      "Processing columns:  69%|██████▉   | 3661/5273 [16:29<08:21,  3.21it/s]"
     ]
    },
    {
     "name": "stderr",
     "output_type": "stream",
     "text": [
      "\r",
      "Processing columns:  69%|██████▉   | 3662/5273 [16:29<07:47,  3.45it/s]"
     ]
    },
    {
     "name": "stderr",
     "output_type": "stream",
     "text": [
      "\r",
      "Processing columns:  69%|██████▉   | 3663/5273 [16:29<07:32,  3.56it/s]"
     ]
    },
    {
     "name": "stderr",
     "output_type": "stream",
     "text": [
      "\r",
      "Processing columns:  69%|██████▉   | 3664/5273 [16:29<07:09,  3.75it/s]"
     ]
    },
    {
     "name": "stderr",
     "output_type": "stream",
     "text": [
      "\r",
      "Processing columns:  70%|██████▉   | 3665/5273 [16:30<06:50,  3.92it/s]"
     ]
    },
    {
     "name": "stderr",
     "output_type": "stream",
     "text": [
      "\r",
      "Processing columns:  70%|██████▉   | 3666/5273 [16:30<06:58,  3.84it/s]"
     ]
    },
    {
     "name": "stderr",
     "output_type": "stream",
     "text": [
      "\r",
      "Processing columns:  70%|██████▉   | 3667/5273 [16:30<06:53,  3.88it/s]"
     ]
    },
    {
     "name": "stderr",
     "output_type": "stream",
     "text": [
      "\r",
      "Processing columns:  70%|██████▉   | 3668/5273 [16:30<06:38,  4.03it/s]"
     ]
    },
    {
     "name": "stderr",
     "output_type": "stream",
     "text": [
      "\r",
      "Processing columns:  70%|██████▉   | 3669/5273 [16:31<06:44,  3.96it/s]"
     ]
    },
    {
     "name": "stderr",
     "output_type": "stream",
     "text": [
      "\r",
      "Processing columns:  70%|██████▉   | 3670/5273 [16:31<06:39,  4.01it/s]"
     ]
    },
    {
     "name": "stderr",
     "output_type": "stream",
     "text": [
      "\r",
      "Processing columns:  70%|██████▉   | 3671/5273 [16:31<06:56,  3.85it/s]"
     ]
    },
    {
     "name": "stderr",
     "output_type": "stream",
     "text": [
      "\r",
      "Processing columns:  70%|██████▉   | 3672/5273 [16:31<07:10,  3.72it/s]"
     ]
    },
    {
     "name": "stderr",
     "output_type": "stream",
     "text": [
      "\r",
      "Processing columns:  70%|██████▉   | 3673/5273 [16:32<06:48,  3.92it/s]"
     ]
    },
    {
     "name": "stderr",
     "output_type": "stream",
     "text": [
      "\r",
      "Processing columns:  70%|██████▉   | 3674/5273 [16:32<08:19,  3.20it/s]"
     ]
    },
    {
     "name": "stderr",
     "output_type": "stream",
     "text": [
      "\r",
      "Processing columns:  70%|██████▉   | 3675/5273 [16:32<07:25,  3.59it/s]"
     ]
    },
    {
     "name": "stderr",
     "output_type": "stream",
     "text": [
      "\r",
      "Processing columns:  70%|██████▉   | 3676/5273 [16:33<07:09,  3.72it/s]"
     ]
    },
    {
     "name": "stderr",
     "output_type": "stream",
     "text": [
      "\r",
      "Processing columns:  70%|██████▉   | 3677/5273 [16:33<07:09,  3.72it/s]"
     ]
    },
    {
     "name": "stderr",
     "output_type": "stream",
     "text": [
      "\r",
      "Processing columns:  70%|██████▉   | 3678/5273 [16:33<06:47,  3.92it/s]"
     ]
    },
    {
     "name": "stderr",
     "output_type": "stream",
     "text": [
      "\r",
      "Processing columns:  70%|██████▉   | 3679/5273 [16:33<07:02,  3.77it/s]"
     ]
    },
    {
     "name": "stderr",
     "output_type": "stream",
     "text": [
      "\r",
      "Processing columns:  70%|██████▉   | 3680/5273 [16:34<07:16,  3.65it/s]"
     ]
    },
    {
     "name": "stderr",
     "output_type": "stream",
     "text": [
      "\r",
      "Processing columns:  70%|██████▉   | 3681/5273 [16:34<07:02,  3.77it/s]"
     ]
    },
    {
     "name": "stderr",
     "output_type": "stream",
     "text": [
      "\r",
      "Processing columns:  70%|██████▉   | 3682/5273 [16:34<06:53,  3.85it/s]"
     ]
    },
    {
     "name": "stderr",
     "output_type": "stream",
     "text": [
      "\r",
      "Processing columns:  70%|██████▉   | 3683/5273 [16:34<06:32,  4.05it/s]"
     ]
    },
    {
     "name": "stderr",
     "output_type": "stream",
     "text": [
      "\r",
      "Processing columns:  70%|██████▉   | 3684/5273 [16:35<06:23,  4.15it/s]"
     ]
    },
    {
     "name": "stderr",
     "output_type": "stream",
     "text": [
      "\r",
      "Processing columns:  70%|██████▉   | 3685/5273 [16:35<06:36,  4.01it/s]"
     ]
    },
    {
     "name": "stderr",
     "output_type": "stream",
     "text": [
      "\r",
      "Processing columns:  70%|██████▉   | 3686/5273 [16:35<06:29,  4.08it/s]"
     ]
    },
    {
     "name": "stderr",
     "output_type": "stream",
     "text": [
      "\r",
      "Processing columns:  70%|██████▉   | 3687/5273 [16:35<06:33,  4.03it/s]"
     ]
    },
    {
     "name": "stderr",
     "output_type": "stream",
     "text": [
      "\r",
      "Processing columns:  70%|██████▉   | 3688/5273 [16:36<08:26,  3.13it/s]"
     ]
    },
    {
     "name": "stderr",
     "output_type": "stream",
     "text": [
      "\r",
      "Processing columns:  70%|██████▉   | 3689/5273 [16:36<07:55,  3.33it/s]"
     ]
    },
    {
     "name": "stderr",
     "output_type": "stream",
     "text": [
      "\r",
      "Processing columns:  70%|██████▉   | 3690/5273 [16:36<07:38,  3.45it/s]"
     ]
    },
    {
     "name": "stderr",
     "output_type": "stream",
     "text": [
      "\r",
      "Processing columns:  70%|██████▉   | 3691/5273 [16:37<07:08,  3.69it/s]"
     ]
    },
    {
     "name": "stderr",
     "output_type": "stream",
     "text": [
      "\r",
      "Processing columns:  70%|███████   | 3692/5273 [16:37<06:51,  3.84it/s]"
     ]
    },
    {
     "name": "stderr",
     "output_type": "stream",
     "text": [
      "\r",
      "Processing columns:  70%|███████   | 3693/5273 [16:37<06:54,  3.81it/s]"
     ]
    },
    {
     "name": "stderr",
     "output_type": "stream",
     "text": [
      "\r",
      "Processing columns:  70%|███████   | 3694/5273 [16:37<06:43,  3.91it/s]"
     ]
    },
    {
     "name": "stderr",
     "output_type": "stream",
     "text": [
      "\r",
      "Processing columns:  70%|███████   | 3695/5273 [16:37<06:17,  4.18it/s]"
     ]
    },
    {
     "name": "stderr",
     "output_type": "stream",
     "text": [
      "\r",
      "Processing columns:  70%|███████   | 3696/5273 [16:38<06:21,  4.13it/s]"
     ]
    },
    {
     "name": "stderr",
     "output_type": "stream",
     "text": [
      "\r",
      "Processing columns:  70%|███████   | 3697/5273 [16:38<06:12,  4.23it/s]"
     ]
    },
    {
     "name": "stderr",
     "output_type": "stream",
     "text": [
      "\r",
      "Processing columns:  70%|███████   | 3698/5273 [16:38<06:19,  4.15it/s]"
     ]
    },
    {
     "name": "stderr",
     "output_type": "stream",
     "text": [
      "\r",
      "Processing columns:  70%|███████   | 3699/5273 [16:38<06:13,  4.21it/s]"
     ]
    },
    {
     "name": "stderr",
     "output_type": "stream",
     "text": [
      "\r",
      "Processing columns:  70%|███████   | 3700/5273 [16:39<06:10,  4.24it/s]"
     ]
    },
    {
     "name": "stderr",
     "output_type": "stream",
     "text": [
      "\r",
      "Processing columns:  70%|███████   | 3701/5273 [16:39<08:02,  3.25it/s]"
     ]
    },
    {
     "name": "stderr",
     "output_type": "stream",
     "text": [
      "\r",
      "Processing columns:  70%|███████   | 3702/5273 [16:39<07:32,  3.47it/s]"
     ]
    },
    {
     "name": "stderr",
     "output_type": "stream",
     "text": [
      "\r",
      "Processing columns:  70%|███████   | 3703/5273 [16:40<07:25,  3.52it/s]"
     ]
    },
    {
     "name": "stderr",
     "output_type": "stream",
     "text": [
      "\r",
      "Processing columns:  70%|███████   | 3704/5273 [16:40<07:15,  3.60it/s]"
     ]
    },
    {
     "name": "stderr",
     "output_type": "stream",
     "text": [
      "\r",
      "Processing columns:  70%|███████   | 3705/5273 [16:40<06:56,  3.77it/s]"
     ]
    },
    {
     "name": "stderr",
     "output_type": "stream",
     "text": [
      "\r",
      "Processing columns:  70%|███████   | 3706/5273 [16:40<06:36,  3.95it/s]"
     ]
    },
    {
     "name": "stderr",
     "output_type": "stream",
     "text": [
      "\r",
      "Processing columns:  70%|███████   | 3707/5273 [16:41<06:33,  3.98it/s]"
     ]
    },
    {
     "name": "stderr",
     "output_type": "stream",
     "text": [
      "\r",
      "Processing columns:  70%|███████   | 3708/5273 [16:41<06:23,  4.08it/s]"
     ]
    },
    {
     "name": "stderr",
     "output_type": "stream",
     "text": [
      "\r",
      "Processing columns:  70%|███████   | 3709/5273 [16:41<06:40,  3.90it/s]"
     ]
    },
    {
     "name": "stderr",
     "output_type": "stream",
     "text": [
      "\r",
      "Processing columns:  70%|███████   | 3710/5273 [16:41<06:32,  3.98it/s]"
     ]
    },
    {
     "name": "stderr",
     "output_type": "stream",
     "text": [
      "\r",
      "Processing columns:  70%|███████   | 3711/5273 [16:42<06:25,  4.05it/s]"
     ]
    },
    {
     "name": "stderr",
     "output_type": "stream",
     "text": [
      "\r",
      "Processing columns:  70%|███████   | 3712/5273 [16:42<06:18,  4.12it/s]"
     ]
    },
    {
     "name": "stderr",
     "output_type": "stream",
     "text": [
      "\r",
      "Processing columns:  70%|███████   | 3713/5273 [16:42<06:11,  4.20it/s]"
     ]
    },
    {
     "name": "stderr",
     "output_type": "stream",
     "text": [
      "\r",
      "Processing columns:  70%|███████   | 3714/5273 [16:42<06:17,  4.13it/s]"
     ]
    },
    {
     "name": "stderr",
     "output_type": "stream",
     "text": [
      "\r",
      "Processing columns:  70%|███████   | 3715/5273 [16:43<08:33,  3.03it/s]"
     ]
    },
    {
     "name": "stderr",
     "output_type": "stream",
     "text": [
      "\r",
      "Processing columns:  70%|███████   | 3716/5273 [16:43<07:33,  3.43it/s]"
     ]
    },
    {
     "name": "stderr",
     "output_type": "stream",
     "text": [
      "\r",
      "Processing columns:  70%|███████   | 3717/5273 [16:43<07:22,  3.52it/s]"
     ]
    },
    {
     "name": "stderr",
     "output_type": "stream",
     "text": [
      "\r",
      "Processing columns:  71%|███████   | 3718/5273 [16:44<06:56,  3.74it/s]"
     ]
    },
    {
     "name": "stderr",
     "output_type": "stream",
     "text": [
      "\r",
      "Processing columns:  71%|███████   | 3719/5273 [16:44<06:43,  3.85it/s]"
     ]
    },
    {
     "name": "stderr",
     "output_type": "stream",
     "text": [
      "\r",
      "Processing columns:  71%|███████   | 3720/5273 [16:44<06:40,  3.87it/s]"
     ]
    },
    {
     "name": "stderr",
     "output_type": "stream",
     "text": [
      "\r",
      "Processing columns:  71%|███████   | 3721/5273 [16:44<06:37,  3.91it/s]"
     ]
    },
    {
     "name": "stderr",
     "output_type": "stream",
     "text": [
      "\r",
      "Processing columns:  71%|███████   | 3722/5273 [16:45<06:41,  3.86it/s]"
     ]
    },
    {
     "name": "stderr",
     "output_type": "stream",
     "text": [
      "\r",
      "Processing columns:  71%|███████   | 3723/5273 [16:45<06:27,  4.00it/s]"
     ]
    },
    {
     "name": "stderr",
     "output_type": "stream",
     "text": [
      "\r",
      "Processing columns:  71%|███████   | 3724/5273 [16:45<07:15,  3.55it/s]"
     ]
    },
    {
     "name": "stderr",
     "output_type": "stream",
     "text": [
      "\r",
      "Processing columns:  71%|███████   | 3725/5273 [16:45<06:44,  3.83it/s]"
     ]
    },
    {
     "name": "stderr",
     "output_type": "stream",
     "text": [
      "\r",
      "Processing columns:  71%|███████   | 3726/5273 [16:46<06:24,  4.03it/s]"
     ]
    },
    {
     "name": "stderr",
     "output_type": "stream",
     "text": [
      "\r",
      "Processing columns:  71%|███████   | 3727/5273 [16:46<07:14,  3.56it/s]"
     ]
    },
    {
     "name": "stderr",
     "output_type": "stream",
     "text": [
      "\r",
      "Processing columns:  71%|███████   | 3728/5273 [16:46<08:35,  3.00it/s]"
     ]
    },
    {
     "name": "stderr",
     "output_type": "stream",
     "text": [
      "\r",
      "Processing columns:  71%|███████   | 3729/5273 [16:47<07:36,  3.38it/s]"
     ]
    },
    {
     "name": "stderr",
     "output_type": "stream",
     "text": [
      "\r",
      "Processing columns:  71%|███████   | 3730/5273 [16:47<07:08,  3.60it/s]"
     ]
    },
    {
     "name": "stderr",
     "output_type": "stream",
     "text": [
      "\r",
      "Processing columns:  71%|███████   | 3731/5273 [16:47<06:45,  3.80it/s]"
     ]
    },
    {
     "name": "stderr",
     "output_type": "stream",
     "text": [
      "\r",
      "Processing columns:  71%|███████   | 3732/5273 [16:47<06:29,  3.96it/s]"
     ]
    },
    {
     "name": "stderr",
     "output_type": "stream",
     "text": [
      "\r",
      "Processing columns:  71%|███████   | 3733/5273 [16:48<06:43,  3.82it/s]"
     ]
    },
    {
     "name": "stderr",
     "output_type": "stream",
     "text": [
      "\r",
      "Processing columns:  71%|███████   | 3734/5273 [16:48<06:27,  3.97it/s]"
     ]
    },
    {
     "name": "stderr",
     "output_type": "stream",
     "text": [
      "\r",
      "Processing columns:  71%|███████   | 3735/5273 [16:48<06:24,  4.00it/s]"
     ]
    },
    {
     "name": "stderr",
     "output_type": "stream",
     "text": [
      "\r",
      "Processing columns:  71%|███████   | 3736/5273 [16:48<06:16,  4.08it/s]"
     ]
    },
    {
     "name": "stderr",
     "output_type": "stream",
     "text": [
      "\r",
      "Processing columns:  71%|███████   | 3737/5273 [16:49<06:01,  4.25it/s]"
     ]
    },
    {
     "name": "stderr",
     "output_type": "stream",
     "text": [
      "\r",
      "Processing columns:  71%|███████   | 3738/5273 [16:49<06:55,  3.70it/s]"
     ]
    },
    {
     "name": "stderr",
     "output_type": "stream",
     "text": [
      "\r",
      "Processing columns:  71%|███████   | 3739/5273 [16:49<06:36,  3.87it/s]"
     ]
    },
    {
     "name": "stderr",
     "output_type": "stream",
     "text": [
      "\r",
      "Processing columns:  71%|███████   | 3740/5273 [16:49<07:31,  3.40it/s]"
     ]
    },
    {
     "name": "stderr",
     "output_type": "stream",
     "text": [
      "\r",
      "Processing columns:  71%|███████   | 3741/5273 [16:50<09:54,  2.58it/s]"
     ]
    },
    {
     "name": "stderr",
     "output_type": "stream",
     "text": [
      "\r",
      "Processing columns:  71%|███████   | 3742/5273 [16:50<08:52,  2.88it/s]"
     ]
    },
    {
     "name": "stderr",
     "output_type": "stream",
     "text": [
      "\r",
      "Processing columns:  71%|███████   | 3743/5273 [16:51<07:58,  3.20it/s]"
     ]
    },
    {
     "name": "stderr",
     "output_type": "stream",
     "text": [
      "\r",
      "Processing columns:  71%|███████   | 3744/5273 [16:51<08:50,  2.88it/s]"
     ]
    },
    {
     "name": "stderr",
     "output_type": "stream",
     "text": [
      "\r",
      "Processing columns:  71%|███████   | 3745/5273 [16:51<08:08,  3.12it/s]"
     ]
    },
    {
     "name": "stderr",
     "output_type": "stream",
     "text": [
      "\r",
      "Processing columns:  71%|███████   | 3746/5273 [16:51<07:18,  3.48it/s]"
     ]
    },
    {
     "name": "stderr",
     "output_type": "stream",
     "text": [
      "\r",
      "Processing columns:  71%|███████   | 3747/5273 [16:52<06:39,  3.82it/s]"
     ]
    },
    {
     "name": "stderr",
     "output_type": "stream",
     "text": [
      "\r",
      "Processing columns:  71%|███████   | 3748/5273 [16:52<06:52,  3.70it/s]"
     ]
    },
    {
     "name": "stderr",
     "output_type": "stream",
     "text": [
      "\r",
      "Processing columns:  71%|███████   | 3749/5273 [16:52<06:33,  3.87it/s]"
     ]
    },
    {
     "name": "stderr",
     "output_type": "stream",
     "text": [
      "\r",
      "Processing columns:  71%|███████   | 3750/5273 [16:52<06:12,  4.08it/s]"
     ]
    },
    {
     "name": "stderr",
     "output_type": "stream",
     "text": [
      "\r",
      "Processing columns:  71%|███████   | 3751/5273 [16:53<07:20,  3.45it/s]"
     ]
    },
    {
     "name": "stderr",
     "output_type": "stream",
     "text": [
      "\r",
      "Processing columns:  71%|███████   | 3752/5273 [16:53<06:48,  3.73it/s]"
     ]
    },
    {
     "name": "stderr",
     "output_type": "stream",
     "text": [
      "\r",
      "Processing columns:  71%|███████   | 3753/5273 [16:53<07:38,  3.32it/s]"
     ]
    },
    {
     "name": "stderr",
     "output_type": "stream",
     "text": [
      "\r",
      "Processing columns:  71%|███████   | 3754/5273 [16:54<07:02,  3.59it/s]"
     ]
    },
    {
     "name": "stderr",
     "output_type": "stream",
     "text": [
      "\r",
      "Processing columns:  71%|███████   | 3755/5273 [16:54<09:08,  2.77it/s]"
     ]
    },
    {
     "name": "stderr",
     "output_type": "stream",
     "text": [
      "\r",
      "Processing columns:  71%|███████   | 3756/5273 [16:54<08:08,  3.11it/s]"
     ]
    },
    {
     "name": "stderr",
     "output_type": "stream",
     "text": [
      "\r",
      "Processing columns:  71%|███████   | 3757/5273 [16:55<08:31,  2.96it/s]"
     ]
    },
    {
     "name": "stderr",
     "output_type": "stream",
     "text": [
      "\r",
      "Processing columns:  71%|███████▏  | 3758/5273 [16:55<07:52,  3.21it/s]"
     ]
    },
    {
     "name": "stderr",
     "output_type": "stream",
     "text": [
      "\r",
      "Processing columns:  71%|███████▏  | 3759/5273 [16:55<07:17,  3.46it/s]"
     ]
    },
    {
     "name": "stderr",
     "output_type": "stream",
     "text": [
      "\r",
      "Processing columns:  71%|███████▏  | 3760/5273 [16:55<06:55,  3.64it/s]"
     ]
    },
    {
     "name": "stderr",
     "output_type": "stream",
     "text": [
      "\r",
      "Processing columns:  71%|███████▏  | 3761/5273 [16:56<06:42,  3.76it/s]"
     ]
    },
    {
     "name": "stderr",
     "output_type": "stream",
     "text": [
      "\r",
      "Processing columns:  71%|███████▏  | 3762/5273 [16:56<06:51,  3.67it/s]"
     ]
    },
    {
     "name": "stderr",
     "output_type": "stream",
     "text": [
      "\r",
      "Processing columns:  71%|███████▏  | 3763/5273 [16:56<07:28,  3.37it/s]"
     ]
    },
    {
     "name": "stderr",
     "output_type": "stream",
     "text": [
      "\r",
      "Processing columns:  71%|███████▏  | 3764/5273 [16:57<07:13,  3.48it/s]"
     ]
    },
    {
     "name": "stderr",
     "output_type": "stream",
     "text": [
      "\r",
      "Processing columns:  71%|███████▏  | 3765/5273 [16:57<06:57,  3.62it/s]"
     ]
    },
    {
     "name": "stderr",
     "output_type": "stream",
     "text": [
      "\r",
      "Processing columns:  71%|███████▏  | 3766/5273 [16:57<06:36,  3.80it/s]"
     ]
    },
    {
     "name": "stderr",
     "output_type": "stream",
     "text": [
      "\r",
      "Processing columns:  71%|███████▏  | 3767/5273 [16:57<06:17,  3.99it/s]"
     ]
    },
    {
     "name": "stderr",
     "output_type": "stream",
     "text": [
      "\r",
      "Processing columns:  71%|███████▏  | 3768/5273 [16:58<09:09,  2.74it/s]"
     ]
    },
    {
     "name": "stderr",
     "output_type": "stream",
     "text": [
      "\r",
      "Processing columns:  71%|███████▏  | 3769/5273 [16:58<08:07,  3.09it/s]"
     ]
    },
    {
     "name": "stderr",
     "output_type": "stream",
     "text": [
      "\r",
      "Processing columns:  71%|███████▏  | 3770/5273 [16:58<07:26,  3.37it/s]"
     ]
    },
    {
     "name": "stderr",
     "output_type": "stream",
     "text": [
      "\r",
      "Processing columns:  72%|███████▏  | 3771/5273 [16:59<06:59,  3.58it/s]"
     ]
    },
    {
     "name": "stderr",
     "output_type": "stream",
     "text": [
      "\r",
      "Processing columns:  72%|███████▏  | 3772/5273 [16:59<06:49,  3.66it/s]"
     ]
    },
    {
     "name": "stderr",
     "output_type": "stream",
     "text": [
      "\r",
      "Processing columns:  72%|███████▏  | 3773/5273 [16:59<06:36,  3.78it/s]"
     ]
    },
    {
     "name": "stderr",
     "output_type": "stream",
     "text": [
      "\r",
      "Processing columns:  72%|███████▏  | 3774/5273 [16:59<06:35,  3.79it/s]"
     ]
    },
    {
     "name": "stderr",
     "output_type": "stream",
     "text": [
      "\r",
      "Processing columns:  72%|███████▏  | 3775/5273 [17:00<06:04,  4.11it/s]"
     ]
    },
    {
     "name": "stderr",
     "output_type": "stream",
     "text": [
      "\r",
      "Processing columns:  72%|███████▏  | 3776/5273 [17:00<05:52,  4.24it/s]"
     ]
    },
    {
     "name": "stderr",
     "output_type": "stream",
     "text": [
      "\r",
      "Processing columns:  72%|███████▏  | 3777/5273 [17:00<06:21,  3.92it/s]"
     ]
    },
    {
     "name": "stderr",
     "output_type": "stream",
     "text": [
      "\r",
      "Processing columns:  72%|███████▏  | 3778/5273 [17:00<06:08,  4.05it/s]"
     ]
    },
    {
     "name": "stderr",
     "output_type": "stream",
     "text": [
      "\r",
      "Processing columns:  72%|███████▏  | 3779/5273 [17:01<05:59,  4.16it/s]"
     ]
    },
    {
     "name": "stderr",
     "output_type": "stream",
     "text": [
      "\r",
      "Processing columns:  72%|███████▏  | 3780/5273 [17:01<06:02,  4.12it/s]"
     ]
    },
    {
     "name": "stderr",
     "output_type": "stream",
     "text": [
      "\r",
      "Processing columns:  72%|███████▏  | 3781/5273 [17:01<08:02,  3.09it/s]"
     ]
    },
    {
     "name": "stderr",
     "output_type": "stream",
     "text": [
      "\r",
      "Processing columns:  72%|███████▏  | 3782/5273 [17:02<07:31,  3.30it/s]"
     ]
    },
    {
     "name": "stderr",
     "output_type": "stream",
     "text": [
      "\r",
      "Processing columns:  72%|███████▏  | 3783/5273 [17:02<07:05,  3.51it/s]"
     ]
    },
    {
     "name": "stderr",
     "output_type": "stream",
     "text": [
      "\r",
      "Processing columns:  72%|███████▏  | 3784/5273 [17:02<06:44,  3.68it/s]"
     ]
    },
    {
     "name": "stderr",
     "output_type": "stream",
     "text": [
      "\r",
      "Processing columns:  72%|███████▏  | 3785/5273 [17:02<06:11,  4.01it/s]"
     ]
    },
    {
     "name": "stderr",
     "output_type": "stream",
     "text": [
      "\r",
      "Processing columns:  72%|███████▏  | 3786/5273 [17:03<05:59,  4.13it/s]"
     ]
    },
    {
     "name": "stderr",
     "output_type": "stream",
     "text": [
      "\r",
      "Processing columns:  72%|███████▏  | 3787/5273 [17:03<05:51,  4.23it/s]"
     ]
    },
    {
     "name": "stderr",
     "output_type": "stream",
     "text": [
      "\r",
      "Processing columns:  72%|███████▏  | 3788/5273 [17:03<05:59,  4.13it/s]"
     ]
    },
    {
     "name": "stderr",
     "output_type": "stream",
     "text": [
      "\r",
      "Processing columns:  72%|███████▏  | 3789/5273 [17:03<05:51,  4.22it/s]"
     ]
    },
    {
     "name": "stderr",
     "output_type": "stream",
     "text": [
      "\r",
      "Processing columns:  72%|███████▏  | 3790/5273 [17:03<05:59,  4.12it/s]"
     ]
    },
    {
     "name": "stderr",
     "output_type": "stream",
     "text": [
      "\r",
      "Processing columns:  72%|███████▏  | 3791/5273 [17:04<06:09,  4.01it/s]"
     ]
    },
    {
     "name": "stderr",
     "output_type": "stream",
     "text": [
      "\r",
      "Processing columns:  72%|███████▏  | 3792/5273 [17:04<06:01,  4.10it/s]"
     ]
    },
    {
     "name": "stderr",
     "output_type": "stream",
     "text": [
      "\r",
      "Processing columns:  72%|███████▏  | 3793/5273 [17:04<05:58,  4.13it/s]"
     ]
    },
    {
     "name": "stderr",
     "output_type": "stream",
     "text": [
      "\r",
      "Processing columns:  72%|███████▏  | 3794/5273 [17:05<07:38,  3.22it/s]"
     ]
    },
    {
     "name": "stderr",
     "output_type": "stream",
     "text": [
      "\r",
      "Processing columns:  72%|███████▏  | 3795/5273 [17:05<06:51,  3.60it/s]"
     ]
    },
    {
     "name": "stderr",
     "output_type": "stream",
     "text": [
      "\r",
      "Processing columns:  72%|███████▏  | 3796/5273 [17:05<06:21,  3.87it/s]"
     ]
    },
    {
     "name": "stderr",
     "output_type": "stream",
     "text": [
      "\r",
      "Processing columns:  72%|███████▏  | 3797/5273 [17:05<05:57,  4.13it/s]"
     ]
    },
    {
     "name": "stderr",
     "output_type": "stream",
     "text": [
      "\r",
      "Processing columns:  72%|███████▏  | 3798/5273 [17:06<06:46,  3.63it/s]"
     ]
    },
    {
     "name": "stderr",
     "output_type": "stream",
     "text": [
      "\r",
      "Processing columns:  72%|███████▏  | 3799/5273 [17:06<06:20,  3.87it/s]"
     ]
    },
    {
     "name": "stderr",
     "output_type": "stream",
     "text": [
      "\r",
      "Processing columns:  72%|███████▏  | 3800/5273 [17:06<07:05,  3.46it/s]"
     ]
    },
    {
     "name": "stderr",
     "output_type": "stream",
     "text": [
      "\r",
      "Processing columns:  72%|███████▏  | 3801/5273 [17:07<06:55,  3.55it/s]"
     ]
    },
    {
     "name": "stderr",
     "output_type": "stream",
     "text": [
      "\r",
      "Processing columns:  72%|███████▏  | 3802/5273 [17:07<06:44,  3.64it/s]"
     ]
    },
    {
     "name": "stderr",
     "output_type": "stream",
     "text": [
      "\r",
      "Processing columns:  72%|███████▏  | 3803/5273 [17:07<06:32,  3.74it/s]"
     ]
    },
    {
     "name": "stderr",
     "output_type": "stream",
     "text": [
      "\r",
      "Processing columns:  72%|███████▏  | 3804/5273 [17:07<06:31,  3.75it/s]"
     ]
    },
    {
     "name": "stderr",
     "output_type": "stream",
     "text": [
      "\r",
      "Processing columns:  72%|███████▏  | 3805/5273 [17:08<06:12,  3.94it/s]"
     ]
    },
    {
     "name": "stderr",
     "output_type": "stream",
     "text": [
      "\r",
      "Processing columns:  72%|███████▏  | 3806/5273 [17:08<06:12,  3.94it/s]"
     ]
    },
    {
     "name": "stderr",
     "output_type": "stream",
     "text": [
      "\r",
      "Processing columns:  72%|███████▏  | 3807/5273 [17:08<09:27,  2.58it/s]"
     ]
    },
    {
     "name": "stderr",
     "output_type": "stream",
     "text": [
      "\r",
      "Processing columns:  72%|███████▏  | 3808/5273 [17:09<08:08,  3.00it/s]"
     ]
    },
    {
     "name": "stderr",
     "output_type": "stream",
     "text": [
      "\r",
      "Processing columns:  72%|███████▏  | 3809/5273 [17:09<08:22,  2.91it/s]"
     ]
    },
    {
     "name": "stderr",
     "output_type": "stream",
     "text": [
      "\r",
      "Processing columns:  72%|███████▏  | 3810/5273 [17:09<07:41,  3.17it/s]"
     ]
    },
    {
     "name": "stderr",
     "output_type": "stream",
     "text": [
      "\r",
      "Processing columns:  72%|███████▏  | 3811/5273 [17:10<07:10,  3.39it/s]"
     ]
    },
    {
     "name": "stderr",
     "output_type": "stream",
     "text": [
      "\r",
      "Processing columns:  72%|███████▏  | 3812/5273 [17:10<06:54,  3.53it/s]"
     ]
    },
    {
     "name": "stderr",
     "output_type": "stream",
     "text": [
      "\r",
      "Processing columns:  72%|███████▏  | 3813/5273 [17:10<06:42,  3.63it/s]"
     ]
    },
    {
     "name": "stderr",
     "output_type": "stream",
     "text": [
      "\r",
      "Processing columns:  72%|███████▏  | 3814/5273 [17:10<06:56,  3.50it/s]"
     ]
    },
    {
     "name": "stderr",
     "output_type": "stream",
     "text": [
      "\r",
      "Processing columns:  72%|███████▏  | 3815/5273 [17:11<06:26,  3.78it/s]"
     ]
    },
    {
     "name": "stderr",
     "output_type": "stream",
     "text": [
      "\r",
      "Processing columns:  72%|███████▏  | 3816/5273 [17:11<06:08,  3.96it/s]"
     ]
    },
    {
     "name": "stderr",
     "output_type": "stream",
     "text": [
      "\r",
      "Processing columns:  72%|███████▏  | 3817/5273 [17:11<05:59,  4.05it/s]"
     ]
    },
    {
     "name": "stderr",
     "output_type": "stream",
     "text": [
      "\r",
      "Processing columns:  72%|███████▏  | 3818/5273 [17:11<06:16,  3.87it/s]"
     ]
    },
    {
     "name": "stderr",
     "output_type": "stream",
     "text": [
      "\r",
      "Processing columns:  72%|███████▏  | 3819/5273 [17:12<05:56,  4.08it/s]"
     ]
    },
    {
     "name": "stderr",
     "output_type": "stream",
     "text": [
      "\r",
      "Processing columns:  72%|███████▏  | 3820/5273 [17:12<08:11,  2.96it/s]"
     ]
    },
    {
     "name": "stderr",
     "output_type": "stream",
     "text": [
      "\r",
      "Processing columns:  72%|███████▏  | 3821/5273 [17:12<07:20,  3.30it/s]"
     ]
    },
    {
     "name": "stderr",
     "output_type": "stream",
     "text": [
      "\r",
      "Processing columns:  72%|███████▏  | 3822/5273 [17:13<07:04,  3.42it/s]"
     ]
    },
    {
     "name": "stderr",
     "output_type": "stream",
     "text": [
      "\r",
      "Processing columns:  73%|███████▎  | 3823/5273 [17:13<06:35,  3.67it/s]"
     ]
    },
    {
     "name": "stderr",
     "output_type": "stream",
     "text": [
      "\r",
      "Processing columns:  73%|███████▎  | 3824/5273 [17:13<06:21,  3.80it/s]"
     ]
    },
    {
     "name": "stderr",
     "output_type": "stream",
     "text": [
      "\r",
      "Processing columns:  73%|███████▎  | 3825/5273 [17:13<05:52,  4.11it/s]"
     ]
    },
    {
     "name": "stderr",
     "output_type": "stream",
     "text": [
      "\r",
      "Processing columns:  73%|███████▎  | 3826/5273 [17:13<05:54,  4.08it/s]"
     ]
    },
    {
     "name": "stderr",
     "output_type": "stream",
     "text": [
      "\r",
      "Processing columns:  73%|███████▎  | 3827/5273 [17:14<05:53,  4.09it/s]"
     ]
    },
    {
     "name": "stderr",
     "output_type": "stream",
     "text": [
      "\r",
      "Processing columns:  73%|███████▎  | 3828/5273 [17:14<06:02,  3.98it/s]"
     ]
    },
    {
     "name": "stderr",
     "output_type": "stream",
     "text": [
      "\r",
      "Processing columns:  73%|███████▎  | 3829/5273 [17:14<05:55,  4.06it/s]"
     ]
    },
    {
     "name": "stderr",
     "output_type": "stream",
     "text": [
      "\r",
      "Processing columns:  73%|███████▎  | 3830/5273 [17:14<05:59,  4.01it/s]"
     ]
    },
    {
     "name": "stderr",
     "output_type": "stream",
     "text": [
      "\r",
      "Processing columns:  73%|███████▎  | 3831/5273 [17:15<05:44,  4.19it/s]"
     ]
    },
    {
     "name": "stderr",
     "output_type": "stream",
     "text": [
      "\r",
      "Processing columns:  73%|███████▎  | 3832/5273 [17:15<06:14,  3.85it/s]"
     ]
    },
    {
     "name": "stderr",
     "output_type": "stream",
     "text": [
      "\r",
      "Processing columns:  73%|███████▎  | 3833/5273 [17:16<08:02,  2.99it/s]"
     ]
    },
    {
     "name": "stderr",
     "output_type": "stream",
     "text": [
      "\r",
      "Processing columns:  73%|███████▎  | 3834/5273 [17:16<07:11,  3.33it/s]"
     ]
    },
    {
     "name": "stderr",
     "output_type": "stream",
     "text": [
      "\r",
      "Processing columns:  73%|███████▎  | 3835/5273 [17:16<06:25,  3.73it/s]"
     ]
    },
    {
     "name": "stderr",
     "output_type": "stream",
     "text": [
      "\r",
      "Processing columns:  73%|███████▎  | 3836/5273 [17:16<06:08,  3.90it/s]"
     ]
    },
    {
     "name": "stderr",
     "output_type": "stream",
     "text": [
      "\r",
      "Processing columns:  73%|███████▎  | 3837/5273 [17:16<06:35,  3.64it/s]"
     ]
    },
    {
     "name": "stderr",
     "output_type": "stream",
     "text": [
      "\r",
      "Processing columns:  73%|███████▎  | 3838/5273 [17:17<06:10,  3.87it/s]"
     ]
    },
    {
     "name": "stderr",
     "output_type": "stream",
     "text": [
      "\r",
      "Processing columns:  73%|███████▎  | 3839/5273 [17:17<06:01,  3.97it/s]"
     ]
    },
    {
     "name": "stderr",
     "output_type": "stream",
     "text": [
      "\r",
      "Processing columns:  73%|███████▎  | 3840/5273 [17:17<06:32,  3.66it/s]"
     ]
    },
    {
     "name": "stderr",
     "output_type": "stream",
     "text": [
      "\r",
      "Processing columns:  73%|███████▎  | 3841/5273 [17:17<06:11,  3.86it/s]"
     ]
    },
    {
     "name": "stderr",
     "output_type": "stream",
     "text": [
      "\r",
      "Processing columns:  73%|███████▎  | 3842/5273 [17:18<06:06,  3.91it/s]"
     ]
    },
    {
     "name": "stderr",
     "output_type": "stream",
     "text": [
      "\r",
      "Processing columns:  73%|███████▎  | 3843/5273 [17:18<06:15,  3.80it/s]"
     ]
    },
    {
     "name": "stderr",
     "output_type": "stream",
     "text": [
      "\r",
      "Processing columns:  73%|███████▎  | 3844/5273 [17:18<06:11,  3.85it/s]"
     ]
    },
    {
     "name": "stderr",
     "output_type": "stream",
     "text": [
      "\r",
      "Processing columns:  73%|███████▎  | 3845/5273 [17:18<05:48,  4.10it/s]"
     ]
    },
    {
     "name": "stderr",
     "output_type": "stream",
     "text": [
      "\r",
      "Processing columns:  73%|███████▎  | 3846/5273 [17:19<05:48,  4.09it/s]"
     ]
    },
    {
     "name": "stderr",
     "output_type": "stream",
     "text": [
      "\r",
      "Processing columns:  73%|███████▎  | 3847/5273 [17:19<08:03,  2.95it/s]"
     ]
    },
    {
     "name": "stderr",
     "output_type": "stream",
     "text": [
      "\r",
      "Processing columns:  73%|███████▎  | 3848/5273 [17:20<08:17,  2.86it/s]"
     ]
    },
    {
     "name": "stderr",
     "output_type": "stream",
     "text": [
      "\r",
      "Processing columns:  73%|███████▎  | 3849/5273 [17:20<07:13,  3.28it/s]"
     ]
    },
    {
     "name": "stderr",
     "output_type": "stream",
     "text": [
      "\r",
      "Processing columns:  73%|███████▎  | 3850/5273 [17:20<06:41,  3.55it/s]"
     ]
    },
    {
     "name": "stderr",
     "output_type": "stream",
     "text": [
      "\r",
      "Processing columns:  73%|███████▎  | 3851/5273 [17:20<06:17,  3.76it/s]"
     ]
    },
    {
     "name": "stderr",
     "output_type": "stream",
     "text": [
      "\r",
      "Processing columns:  73%|███████▎  | 3852/5273 [17:21<06:00,  3.94it/s]"
     ]
    },
    {
     "name": "stderr",
     "output_type": "stream",
     "text": [
      "\r",
      "Processing columns:  73%|███████▎  | 3853/5273 [17:21<06:32,  3.62it/s]"
     ]
    },
    {
     "name": "stderr",
     "output_type": "stream",
     "text": [
      "\r",
      "Processing columns:  73%|███████▎  | 3854/5273 [17:21<06:12,  3.81it/s]"
     ]
    },
    {
     "name": "stderr",
     "output_type": "stream",
     "text": [
      "\r",
      "Processing columns:  73%|███████▎  | 3855/5273 [17:21<05:45,  4.11it/s]"
     ]
    },
    {
     "name": "stderr",
     "output_type": "stream",
     "text": [
      "\r",
      "Processing columns:  73%|███████▎  | 3856/5273 [17:22<05:44,  4.12it/s]"
     ]
    },
    {
     "name": "stderr",
     "output_type": "stream",
     "text": [
      "\r",
      "Processing columns:  73%|███████▎  | 3857/5273 [17:22<05:50,  4.04it/s]"
     ]
    },
    {
     "name": "stderr",
     "output_type": "stream",
     "text": [
      "\r",
      "Processing columns:  73%|███████▎  | 3858/5273 [17:22<05:40,  4.15it/s]"
     ]
    },
    {
     "name": "stderr",
     "output_type": "stream",
     "text": [
      "\r",
      "Processing columns:  73%|███████▎  | 3859/5273 [17:22<05:48,  4.06it/s]"
     ]
    },
    {
     "name": "stderr",
     "output_type": "stream",
     "text": [
      "\r",
      "Processing columns:  73%|███████▎  | 3860/5273 [17:23<08:51,  2.66it/s]"
     ]
    },
    {
     "name": "stderr",
     "output_type": "stream",
     "text": [
      "\r",
      "Processing columns:  73%|███████▎  | 3861/5273 [17:23<07:51,  2.99it/s]"
     ]
    },
    {
     "name": "stderr",
     "output_type": "stream",
     "text": [
      "\r",
      "Processing columns:  73%|███████▎  | 3862/5273 [17:23<07:17,  3.23it/s]"
     ]
    },
    {
     "name": "stderr",
     "output_type": "stream",
     "text": [
      "\r",
      "Processing columns:  73%|███████▎  | 3863/5273 [17:24<06:39,  3.53it/s]"
     ]
    },
    {
     "name": "stderr",
     "output_type": "stream",
     "text": [
      "\r",
      "Processing columns:  73%|███████▎  | 3864/5273 [17:24<06:36,  3.56it/s]"
     ]
    },
    {
     "name": "stderr",
     "output_type": "stream",
     "text": [
      "\r",
      "Processing columns:  73%|███████▎  | 3865/5273 [17:24<05:58,  3.92it/s]"
     ]
    },
    {
     "name": "stderr",
     "output_type": "stream",
     "text": [
      "\r",
      "Processing columns:  73%|███████▎  | 3866/5273 [17:25<07:17,  3.22it/s]"
     ]
    },
    {
     "name": "stderr",
     "output_type": "stream",
     "text": [
      "\r",
      "Processing columns:  73%|███████▎  | 3867/5273 [17:25<06:45,  3.46it/s]"
     ]
    },
    {
     "name": "stderr",
     "output_type": "stream",
     "text": [
      "\r",
      "Processing columns:  73%|███████▎  | 3868/5273 [17:25<06:07,  3.82it/s]"
     ]
    },
    {
     "name": "stderr",
     "output_type": "stream",
     "text": [
      "\r",
      "Processing columns:  73%|███████▎  | 3869/5273 [17:25<06:00,  3.90it/s]"
     ]
    },
    {
     "name": "stderr",
     "output_type": "stream",
     "text": [
      "\r",
      "Processing columns:  73%|███████▎  | 3870/5273 [17:26<06:30,  3.59it/s]"
     ]
    },
    {
     "name": "stderr",
     "output_type": "stream",
     "text": [
      "\r",
      "Processing columns:  73%|███████▎  | 3871/5273 [17:26<06:19,  3.69it/s]"
     ]
    },
    {
     "name": "stderr",
     "output_type": "stream",
     "text": [
      "\r",
      "Processing columns:  73%|███████▎  | 3872/5273 [17:26<06:33,  3.56it/s]"
     ]
    },
    {
     "name": "stderr",
     "output_type": "stream",
     "text": [
      "\r",
      "Processing columns:  73%|███████▎  | 3873/5273 [17:27<08:05,  2.88it/s]"
     ]
    },
    {
     "name": "stderr",
     "output_type": "stream",
     "text": [
      "\r",
      "Processing columns:  73%|███████▎  | 3874/5273 [17:27<07:35,  3.07it/s]"
     ]
    },
    {
     "name": "stderr",
     "output_type": "stream",
     "text": [
      "\r",
      "Processing columns:  73%|███████▎  | 3875/5273 [17:27<06:40,  3.49it/s]"
     ]
    },
    {
     "name": "stderr",
     "output_type": "stream",
     "text": [
      "\r",
      "Processing columns:  74%|███████▎  | 3876/5273 [17:27<06:49,  3.41it/s]"
     ]
    },
    {
     "name": "stderr",
     "output_type": "stream",
     "text": [
      "\r",
      "Processing columns:  74%|███████▎  | 3877/5273 [17:28<06:36,  3.52it/s]"
     ]
    },
    {
     "name": "stderr",
     "output_type": "stream",
     "text": [
      "\r",
      "Processing columns:  74%|███████▎  | 3878/5273 [17:28<06:19,  3.68it/s]"
     ]
    },
    {
     "name": "stderr",
     "output_type": "stream",
     "text": [
      "\r",
      "Processing columns:  74%|███████▎  | 3879/5273 [17:28<06:00,  3.86it/s]"
     ]
    },
    {
     "name": "stderr",
     "output_type": "stream",
     "text": [
      "\r",
      "Processing columns:  74%|███████▎  | 3880/5273 [17:28<05:48,  3.99it/s]"
     ]
    },
    {
     "name": "stderr",
     "output_type": "stream",
     "text": [
      "\r",
      "Processing columns:  74%|███████▎  | 3881/5273 [17:29<05:39,  4.10it/s]"
     ]
    },
    {
     "name": "stderr",
     "output_type": "stream",
     "text": [
      "\r",
      "Processing columns:  74%|███████▎  | 3882/5273 [17:29<05:41,  4.08it/s]"
     ]
    },
    {
     "name": "stderr",
     "output_type": "stream",
     "text": [
      "\r",
      "Processing columns:  74%|███████▎  | 3883/5273 [17:29<05:36,  4.14it/s]"
     ]
    },
    {
     "name": "stderr",
     "output_type": "stream",
     "text": [
      "\r",
      "Processing columns:  74%|███████▎  | 3884/5273 [17:29<06:00,  3.86it/s]"
     ]
    },
    {
     "name": "stderr",
     "output_type": "stream",
     "text": [
      "\r",
      "Processing columns:  74%|███████▎  | 3885/5273 [17:30<05:44,  4.02it/s]"
     ]
    },
    {
     "name": "stderr",
     "output_type": "stream",
     "text": [
      "\r",
      "Processing columns:  74%|███████▎  | 3886/5273 [17:30<07:01,  3.29it/s]"
     ]
    },
    {
     "name": "stderr",
     "output_type": "stream",
     "text": [
      "\r",
      "Processing columns:  74%|███████▎  | 3887/5273 [17:30<07:15,  3.19it/s]"
     ]
    },
    {
     "name": "stderr",
     "output_type": "stream",
     "text": [
      "\r",
      "Processing columns:  74%|███████▎  | 3888/5273 [17:31<06:38,  3.47it/s]"
     ]
    },
    {
     "name": "stderr",
     "output_type": "stream",
     "text": [
      "\r",
      "Processing columns:  74%|███████▍  | 3889/5273 [17:31<06:20,  3.64it/s]"
     ]
    },
    {
     "name": "stderr",
     "output_type": "stream",
     "text": [
      "\r",
      "Processing columns:  74%|███████▍  | 3890/5273 [17:31<06:01,  3.83it/s]"
     ]
    },
    {
     "name": "stderr",
     "output_type": "stream",
     "text": [
      "\r",
      "Processing columns:  74%|███████▍  | 3891/5273 [17:31<05:52,  3.92it/s]"
     ]
    },
    {
     "name": "stderr",
     "output_type": "stream",
     "text": [
      "\r",
      "Processing columns:  74%|███████▍  | 3892/5273 [17:32<05:43,  4.02it/s]"
     ]
    },
    {
     "name": "stderr",
     "output_type": "stream",
     "text": [
      "\r",
      "Processing columns:  74%|███████▍  | 3893/5273 [17:32<06:06,  3.76it/s]"
     ]
    },
    {
     "name": "stderr",
     "output_type": "stream",
     "text": [
      "\r",
      "Processing columns:  74%|███████▍  | 3894/5273 [17:32<05:47,  3.97it/s]"
     ]
    },
    {
     "name": "stderr",
     "output_type": "stream",
     "text": [
      "\r",
      "Processing columns:  74%|███████▍  | 3895/5273 [17:32<05:31,  4.16it/s]"
     ]
    },
    {
     "name": "stderr",
     "output_type": "stream",
     "text": [
      "\r",
      "Processing columns:  74%|███████▍  | 3896/5273 [17:33<06:00,  3.82it/s]"
     ]
    },
    {
     "name": "stderr",
     "output_type": "stream",
     "text": [
      "\r",
      "Processing columns:  74%|███████▍  | 3897/5273 [17:33<05:44,  3.99it/s]"
     ]
    },
    {
     "name": "stderr",
     "output_type": "stream",
     "text": [
      "\r",
      "Processing columns:  74%|███████▍  | 3898/5273 [17:33<05:56,  3.86it/s]"
     ]
    },
    {
     "name": "stderr",
     "output_type": "stream",
     "text": [
      "\r",
      "Processing columns:  74%|███████▍  | 3899/5273 [17:34<07:40,  2.99it/s]"
     ]
    },
    {
     "name": "stderr",
     "output_type": "stream",
     "text": [
      "\r",
      "Processing columns:  74%|███████▍  | 3900/5273 [17:34<06:56,  3.30it/s]"
     ]
    },
    {
     "name": "stderr",
     "output_type": "stream",
     "text": [
      "\r",
      "Processing columns:  74%|███████▍  | 3901/5273 [17:34<06:34,  3.47it/s]"
     ]
    },
    {
     "name": "stderr",
     "output_type": "stream",
     "text": [
      "\r",
      "Processing columns:  74%|███████▍  | 3902/5273 [17:34<06:35,  3.47it/s]"
     ]
    },
    {
     "name": "stderr",
     "output_type": "stream",
     "text": [
      "\r",
      "Processing columns:  74%|███████▍  | 3903/5273 [17:35<06:13,  3.67it/s]"
     ]
    },
    {
     "name": "stderr",
     "output_type": "stream",
     "text": [
      "\r",
      "Processing columns:  74%|███████▍  | 3904/5273 [17:35<06:08,  3.72it/s]"
     ]
    },
    {
     "name": "stderr",
     "output_type": "stream",
     "text": [
      "\r",
      "Processing columns:  74%|███████▍  | 3905/5273 [17:35<05:54,  3.86it/s]"
     ]
    },
    {
     "name": "stderr",
     "output_type": "stream",
     "text": [
      "\r",
      "Processing columns:  74%|███████▍  | 3906/5273 [17:35<05:40,  4.02it/s]"
     ]
    },
    {
     "name": "stderr",
     "output_type": "stream",
     "text": [
      "\r",
      "Processing columns:  74%|███████▍  | 3907/5273 [17:36<05:30,  4.14it/s]"
     ]
    },
    {
     "name": "stderr",
     "output_type": "stream",
     "text": [
      "\r",
      "Processing columns:  74%|███████▍  | 3908/5273 [17:36<05:28,  4.16it/s]"
     ]
    },
    {
     "name": "stderr",
     "output_type": "stream",
     "text": [
      "\r",
      "Processing columns:  74%|███████▍  | 3909/5273 [17:36<05:24,  4.21it/s]"
     ]
    },
    {
     "name": "stderr",
     "output_type": "stream",
     "text": [
      "\r",
      "Processing columns:  74%|███████▍  | 3910/5273 [17:36<05:57,  3.82it/s]"
     ]
    },
    {
     "name": "stderr",
     "output_type": "stream",
     "text": [
      "\r",
      "Processing columns:  74%|███████▍  | 3911/5273 [17:37<05:43,  3.96it/s]"
     ]
    },
    {
     "name": "stderr",
     "output_type": "stream",
     "text": [
      "\r",
      "Processing columns:  74%|███████▍  | 3912/5273 [17:37<07:11,  3.16it/s]"
     ]
    },
    {
     "name": "stderr",
     "output_type": "stream",
     "text": [
      "\r",
      "Processing columns:  74%|███████▍  | 3913/5273 [17:37<06:43,  3.37it/s]"
     ]
    },
    {
     "name": "stderr",
     "output_type": "stream",
     "text": [
      "\r",
      "Processing columns:  74%|███████▍  | 3914/5273 [17:38<06:14,  3.63it/s]"
     ]
    },
    {
     "name": "stderr",
     "output_type": "stream",
     "text": [
      "\r",
      "Processing columns:  74%|███████▍  | 3915/5273 [17:38<06:05,  3.71it/s]"
     ]
    },
    {
     "name": "stderr",
     "output_type": "stream",
     "text": [
      "\r",
      "Processing columns:  74%|███████▍  | 3916/5273 [17:38<05:46,  3.92it/s]"
     ]
    },
    {
     "name": "stderr",
     "output_type": "stream",
     "text": [
      "\r",
      "Processing columns:  74%|███████▍  | 3917/5273 [17:38<05:33,  4.06it/s]"
     ]
    },
    {
     "name": "stderr",
     "output_type": "stream",
     "text": [
      "\r",
      "Processing columns:  74%|███████▍  | 3918/5273 [17:39<05:38,  4.00it/s]"
     ]
    },
    {
     "name": "stderr",
     "output_type": "stream",
     "text": [
      "\r",
      "Processing columns:  74%|███████▍  | 3919/5273 [17:39<05:34,  4.05it/s]"
     ]
    },
    {
     "name": "stderr",
     "output_type": "stream",
     "text": [
      "\r",
      "Processing columns:  74%|███████▍  | 3920/5273 [17:39<05:33,  4.06it/s]"
     ]
    },
    {
     "name": "stderr",
     "output_type": "stream",
     "text": [
      "\r",
      "Processing columns:  74%|███████▍  | 3921/5273 [17:39<05:33,  4.05it/s]"
     ]
    },
    {
     "name": "stderr",
     "output_type": "stream",
     "text": [
      "\r",
      "Processing columns:  74%|███████▍  | 3922/5273 [17:40<05:41,  3.95it/s]"
     ]
    },
    {
     "name": "stderr",
     "output_type": "stream",
     "text": [
      "\r",
      "Processing columns:  74%|███████▍  | 3923/5273 [17:40<05:37,  4.00it/s]"
     ]
    },
    {
     "name": "stderr",
     "output_type": "stream",
     "text": [
      "\r",
      "Processing columns:  74%|███████▍  | 3924/5273 [17:40<05:35,  4.02it/s]"
     ]
    },
    {
     "name": "stderr",
     "output_type": "stream",
     "text": [
      "\r",
      "Processing columns:  74%|███████▍  | 3925/5273 [17:40<05:30,  4.08it/s]"
     ]
    },
    {
     "name": "stderr",
     "output_type": "stream",
     "text": [
      "\r",
      "Processing columns:  74%|███████▍  | 3926/5273 [17:41<06:37,  3.39it/s]"
     ]
    },
    {
     "name": "stderr",
     "output_type": "stream",
     "text": [
      "\r",
      "Processing columns:  74%|███████▍  | 3927/5273 [17:41<06:14,  3.60it/s]"
     ]
    },
    {
     "name": "stderr",
     "output_type": "stream",
     "text": [
      "\r",
      "Processing columns:  74%|███████▍  | 3928/5273 [17:41<05:58,  3.76it/s]"
     ]
    },
    {
     "name": "stderr",
     "output_type": "stream",
     "text": [
      "\r",
      "Processing columns:  75%|███████▍  | 3929/5273 [17:41<05:47,  3.86it/s]"
     ]
    },
    {
     "name": "stderr",
     "output_type": "stream",
     "text": [
      "\r",
      "Processing columns:  75%|███████▍  | 3930/5273 [17:42<05:46,  3.87it/s]"
     ]
    },
    {
     "name": "stderr",
     "output_type": "stream",
     "text": [
      "\r",
      "Processing columns:  75%|███████▍  | 3931/5273 [17:42<06:07,  3.65it/s]"
     ]
    },
    {
     "name": "stderr",
     "output_type": "stream",
     "text": [
      "\r",
      "Processing columns:  75%|███████▍  | 3932/5273 [17:42<05:43,  3.90it/s]"
     ]
    },
    {
     "name": "stderr",
     "output_type": "stream",
     "text": [
      "\r",
      "Processing columns:  75%|███████▍  | 3933/5273 [17:42<05:36,  3.99it/s]"
     ]
    },
    {
     "name": "stderr",
     "output_type": "stream",
     "text": [
      "\r",
      "Processing columns:  75%|███████▍  | 3934/5273 [17:43<05:33,  4.01it/s]"
     ]
    },
    {
     "name": "stderr",
     "output_type": "stream",
     "text": [
      "\r",
      "Processing columns:  75%|███████▍  | 3935/5273 [17:43<05:38,  3.95it/s]"
     ]
    },
    {
     "name": "stderr",
     "output_type": "stream",
     "text": [
      "\r",
      "Processing columns:  75%|███████▍  | 3936/5273 [17:43<05:22,  4.14it/s]"
     ]
    },
    {
     "name": "stderr",
     "output_type": "stream",
     "text": [
      "\r",
      "Processing columns:  75%|███████▍  | 3937/5273 [17:43<05:43,  3.89it/s]"
     ]
    },
    {
     "name": "stderr",
     "output_type": "stream",
     "text": [
      "\r",
      "Processing columns:  75%|███████▍  | 3938/5273 [17:44<05:32,  4.02it/s]"
     ]
    },
    {
     "name": "stderr",
     "output_type": "stream",
     "text": [
      "\r",
      "Processing columns:  75%|███████▍  | 3939/5273 [17:44<08:07,  2.73it/s]"
     ]
    },
    {
     "name": "stderr",
     "output_type": "stream",
     "text": [
      "\r",
      "Processing columns:  75%|███████▍  | 3940/5273 [17:45<07:11,  3.09it/s]"
     ]
    },
    {
     "name": "stderr",
     "output_type": "stream",
     "text": [
      "\r",
      "Processing columns:  75%|███████▍  | 3941/5273 [17:45<07:04,  3.14it/s]"
     ]
    },
    {
     "name": "stderr",
     "output_type": "stream",
     "text": [
      "\r",
      "Processing columns:  75%|███████▍  | 3942/5273 [17:45<06:19,  3.50it/s]"
     ]
    },
    {
     "name": "stderr",
     "output_type": "stream",
     "text": [
      "\r",
      "Processing columns:  75%|███████▍  | 3943/5273 [17:45<06:25,  3.45it/s]"
     ]
    },
    {
     "name": "stderr",
     "output_type": "stream",
     "text": [
      "\r",
      "Processing columns:  75%|███████▍  | 3944/5273 [17:46<06:07,  3.62it/s]"
     ]
    },
    {
     "name": "stderr",
     "output_type": "stream",
     "text": [
      "\r",
      "Processing columns:  75%|███████▍  | 3945/5273 [17:46<05:57,  3.71it/s]"
     ]
    },
    {
     "name": "stderr",
     "output_type": "stream",
     "text": [
      "\r",
      "Processing columns:  75%|███████▍  | 3946/5273 [17:46<05:54,  3.74it/s]"
     ]
    },
    {
     "name": "stderr",
     "output_type": "stream",
     "text": [
      "\r",
      "Processing columns:  75%|███████▍  | 3947/5273 [17:46<05:34,  3.96it/s]"
     ]
    },
    {
     "name": "stderr",
     "output_type": "stream",
     "text": [
      "\r",
      "Processing columns:  75%|███████▍  | 3948/5273 [17:47<05:35,  3.95it/s]"
     ]
    },
    {
     "name": "stderr",
     "output_type": "stream",
     "text": [
      "\r",
      "Processing columns:  75%|███████▍  | 3949/5273 [17:47<06:00,  3.67it/s]"
     ]
    },
    {
     "name": "stderr",
     "output_type": "stream",
     "text": [
      "\r",
      "Processing columns:  75%|███████▍  | 3950/5273 [17:47<05:38,  3.91it/s]"
     ]
    },
    {
     "name": "stderr",
     "output_type": "stream",
     "text": [
      "\r",
      "Processing columns:  75%|███████▍  | 3951/5273 [17:47<05:29,  4.01it/s]"
     ]
    },
    {
     "name": "stderr",
     "output_type": "stream",
     "text": [
      "\r",
      "Processing columns:  75%|███████▍  | 3952/5273 [17:48<07:40,  2.87it/s]"
     ]
    },
    {
     "name": "stderr",
     "output_type": "stream",
     "text": [
      "\r",
      "Processing columns:  75%|███████▍  | 3953/5273 [17:48<07:01,  3.13it/s]"
     ]
    },
    {
     "name": "stderr",
     "output_type": "stream",
     "text": [
      "\r",
      "Processing columns:  75%|███████▍  | 3954/5273 [17:48<06:52,  3.20it/s]"
     ]
    },
    {
     "name": "stderr",
     "output_type": "stream",
     "text": [
      "\r",
      "Processing columns:  75%|███████▌  | 3955/5273 [17:49<06:22,  3.45it/s]"
     ]
    },
    {
     "name": "stderr",
     "output_type": "stream",
     "text": [
      "\r",
      "Processing columns:  75%|███████▌  | 3956/5273 [17:49<05:44,  3.83it/s]"
     ]
    },
    {
     "name": "stderr",
     "output_type": "stream",
     "text": [
      "\r",
      "Processing columns:  75%|███████▌  | 3957/5273 [17:49<06:06,  3.59it/s]"
     ]
    },
    {
     "name": "stderr",
     "output_type": "stream",
     "text": [
      "\r",
      "Processing columns:  75%|███████▌  | 3958/5273 [17:49<05:43,  3.83it/s]"
     ]
    },
    {
     "name": "stderr",
     "output_type": "stream",
     "text": [
      "\r",
      "Processing columns:  75%|███████▌  | 3959/5273 [17:50<05:43,  3.83it/s]"
     ]
    },
    {
     "name": "stderr",
     "output_type": "stream",
     "text": [
      "\r",
      "Processing columns:  75%|███████▌  | 3960/5273 [17:50<05:42,  3.83it/s]"
     ]
    },
    {
     "name": "stderr",
     "output_type": "stream",
     "text": [
      "\r",
      "Processing columns:  75%|███████▌  | 3961/5273 [17:50<05:34,  3.92it/s]"
     ]
    },
    {
     "name": "stderr",
     "output_type": "stream",
     "text": [
      "\r",
      "Processing columns:  75%|███████▌  | 3962/5273 [17:50<05:26,  4.02it/s]"
     ]
    },
    {
     "name": "stderr",
     "output_type": "stream",
     "text": [
      "\r",
      "Processing columns:  75%|███████▌  | 3963/5273 [17:51<05:27,  4.00it/s]"
     ]
    },
    {
     "name": "stderr",
     "output_type": "stream",
     "text": [
      "\r",
      "Processing columns:  75%|███████▌  | 3964/5273 [17:51<05:15,  4.15it/s]"
     ]
    },
    {
     "name": "stderr",
     "output_type": "stream",
     "text": [
      "\r",
      "Processing columns:  75%|███████▌  | 3965/5273 [17:51<06:59,  3.12it/s]"
     ]
    },
    {
     "name": "stderr",
     "output_type": "stream",
     "text": [
      "\r",
      "Processing columns:  75%|███████▌  | 3966/5273 [17:52<06:33,  3.32it/s]"
     ]
    },
    {
     "name": "stderr",
     "output_type": "stream",
     "text": [
      "\r",
      "Processing columns:  75%|███████▌  | 3967/5273 [17:52<06:08,  3.54it/s]"
     ]
    },
    {
     "name": "stderr",
     "output_type": "stream",
     "text": [
      "\r",
      "Processing columns:  75%|███████▌  | 3968/5273 [17:52<05:46,  3.76it/s]"
     ]
    },
    {
     "name": "stderr",
     "output_type": "stream",
     "text": [
      "\r",
      "Processing columns:  75%|███████▌  | 3969/5273 [17:52<05:34,  3.90it/s]"
     ]
    },
    {
     "name": "stderr",
     "output_type": "stream",
     "text": [
      "\r",
      "Processing columns:  75%|███████▌  | 3970/5273 [17:53<05:23,  4.03it/s]"
     ]
    },
    {
     "name": "stderr",
     "output_type": "stream",
     "text": [
      "\r",
      "Processing columns:  75%|███████▌  | 3971/5273 [17:53<05:57,  3.64it/s]"
     ]
    },
    {
     "name": "stderr",
     "output_type": "stream",
     "text": [
      "\r",
      "Processing columns:  75%|███████▌  | 3972/5273 [17:53<05:44,  3.78it/s]"
     ]
    },
    {
     "name": "stderr",
     "output_type": "stream",
     "text": [
      "\r",
      "Processing columns:  75%|███████▌  | 3973/5273 [17:53<05:43,  3.78it/s]"
     ]
    },
    {
     "name": "stderr",
     "output_type": "stream",
     "text": [
      "\r",
      "Processing columns:  75%|███████▌  | 3974/5273 [17:54<06:07,  3.54it/s]"
     ]
    },
    {
     "name": "stderr",
     "output_type": "stream",
     "text": [
      "\r",
      "Processing columns:  75%|███████▌  | 3975/5273 [17:54<05:41,  3.80it/s]"
     ]
    },
    {
     "name": "stderr",
     "output_type": "stream",
     "text": [
      "\r",
      "Processing columns:  75%|███████▌  | 3976/5273 [17:54<05:20,  4.04it/s]"
     ]
    },
    {
     "name": "stderr",
     "output_type": "stream",
     "text": [
      "\r",
      "Processing columns:  75%|███████▌  | 3977/5273 [17:54<05:40,  3.81it/s]"
     ]
    },
    {
     "name": "stderr",
     "output_type": "stream",
     "text": [
      "\r",
      "Processing columns:  75%|███████▌  | 3978/5273 [17:55<06:52,  3.14it/s]"
     ]
    },
    {
     "name": "stderr",
     "output_type": "stream",
     "text": [
      "\r",
      "Processing columns:  75%|███████▌  | 3979/5273 [17:55<07:21,  2.93it/s]"
     ]
    },
    {
     "name": "stderr",
     "output_type": "stream",
     "text": [
      "\r",
      "Processing columns:  75%|███████▌  | 3980/5273 [17:56<06:28,  3.33it/s]"
     ]
    },
    {
     "name": "stderr",
     "output_type": "stream",
     "text": [
      "\r",
      "Processing columns:  75%|███████▌  | 3981/5273 [17:56<06:13,  3.46it/s]"
     ]
    },
    {
     "name": "stderr",
     "output_type": "stream",
     "text": [
      "\r",
      "Processing columns:  76%|███████▌  | 3982/5273 [17:56<05:56,  3.62it/s]"
     ]
    },
    {
     "name": "stderr",
     "output_type": "stream",
     "text": [
      "\r",
      "Processing columns:  76%|███████▌  | 3983/5273 [17:56<05:52,  3.66it/s]"
     ]
    },
    {
     "name": "stderr",
     "output_type": "stream",
     "text": [
      "\r",
      "Processing columns:  76%|███████▌  | 3984/5273 [17:57<05:42,  3.76it/s]"
     ]
    },
    {
     "name": "stderr",
     "output_type": "stream",
     "text": [
      "\r",
      "Processing columns:  76%|███████▌  | 3985/5273 [17:57<05:26,  3.94it/s]"
     ]
    },
    {
     "name": "stderr",
     "output_type": "stream",
     "text": [
      "\r",
      "Processing columns:  76%|███████▌  | 3986/5273 [17:57<05:03,  4.24it/s]"
     ]
    },
    {
     "name": "stderr",
     "output_type": "stream",
     "text": [
      "\r",
      "Processing columns:  76%|███████▌  | 3987/5273 [17:57<05:10,  4.15it/s]"
     ]
    },
    {
     "name": "stderr",
     "output_type": "stream",
     "text": [
      "\r",
      "Processing columns:  76%|███████▌  | 3988/5273 [17:57<05:16,  4.06it/s]"
     ]
    },
    {
     "name": "stderr",
     "output_type": "stream",
     "text": [
      "\r",
      "Processing columns:  76%|███████▌  | 3989/5273 [17:58<05:15,  4.07it/s]"
     ]
    },
    {
     "name": "stderr",
     "output_type": "stream",
     "text": [
      "\r",
      "Processing columns:  76%|███████▌  | 3990/5273 [17:58<05:15,  4.07it/s]"
     ]
    },
    {
     "name": "stderr",
     "output_type": "stream",
     "text": [
      "\r",
      "Processing columns:  76%|███████▌  | 3991/5273 [17:58<06:38,  3.22it/s]"
     ]
    },
    {
     "name": "stderr",
     "output_type": "stream",
     "text": [
      "\r",
      "Processing columns:  76%|███████▌  | 3992/5273 [17:59<06:23,  3.34it/s]"
     ]
    },
    {
     "name": "stderr",
     "output_type": "stream",
     "text": [
      "\r",
      "Processing columns:  76%|███████▌  | 3993/5273 [17:59<06:19,  3.37it/s]"
     ]
    },
    {
     "name": "stderr",
     "output_type": "stream",
     "text": [
      "\r",
      "Processing columns:  76%|███████▌  | 3994/5273 [17:59<05:55,  3.60it/s]"
     ]
    },
    {
     "name": "stderr",
     "output_type": "stream",
     "text": [
      "\r",
      "Processing columns:  76%|███████▌  | 3995/5273 [17:59<05:42,  3.73it/s]"
     ]
    },
    {
     "name": "stderr",
     "output_type": "stream",
     "text": [
      "\r",
      "Processing columns:  76%|███████▌  | 3996/5273 [18:00<05:33,  3.83it/s]"
     ]
    },
    {
     "name": "stderr",
     "output_type": "stream",
     "text": [
      "\r",
      "Processing columns:  76%|███████▌  | 3997/5273 [18:00<05:44,  3.70it/s]"
     ]
    },
    {
     "name": "stderr",
     "output_type": "stream",
     "text": [
      "\r",
      "Processing columns:  76%|███████▌  | 3998/5273 [18:00<05:44,  3.70it/s]"
     ]
    },
    {
     "name": "stderr",
     "output_type": "stream",
     "text": [
      "\r",
      "Processing columns:  76%|███████▌  | 3999/5273 [18:00<05:18,  4.00it/s]"
     ]
    },
    {
     "name": "stderr",
     "output_type": "stream",
     "text": [
      "\r",
      "Processing columns:  76%|███████▌  | 4000/5273 [18:01<05:31,  3.84it/s]"
     ]
    },
    {
     "name": "stderr",
     "output_type": "stream",
     "text": [
      "\r",
      "Processing columns:  76%|███████▌  | 4001/5273 [18:01<05:38,  3.76it/s]"
     ]
    },
    {
     "name": "stderr",
     "output_type": "stream",
     "text": [
      "\r",
      "Processing columns:  76%|███████▌  | 4002/5273 [18:01<05:15,  4.03it/s]"
     ]
    },
    {
     "name": "stderr",
     "output_type": "stream",
     "text": [
      "\r",
      "Processing columns:  76%|███████▌  | 4003/5273 [18:01<05:09,  4.11it/s]"
     ]
    },
    {
     "name": "stderr",
     "output_type": "stream",
     "text": [
      "\r",
      "Processing columns:  76%|███████▌  | 4004/5273 [18:02<06:38,  3.18it/s]"
     ]
    },
    {
     "name": "stderr",
     "output_type": "stream",
     "text": [
      "\r",
      "Processing columns:  76%|███████▌  | 4005/5273 [18:02<06:06,  3.46it/s]"
     ]
    },
    {
     "name": "stderr",
     "output_type": "stream",
     "text": [
      "\r",
      "Processing columns:  76%|███████▌  | 4006/5273 [18:02<05:38,  3.75it/s]"
     ]
    },
    {
     "name": "stderr",
     "output_type": "stream",
     "text": [
      "\r",
      "Processing columns:  76%|███████▌  | 4007/5273 [18:03<05:28,  3.85it/s]"
     ]
    },
    {
     "name": "stderr",
     "output_type": "stream",
     "text": [
      "\r",
      "Processing columns:  76%|███████▌  | 4008/5273 [18:03<05:37,  3.75it/s]"
     ]
    },
    {
     "name": "stderr",
     "output_type": "stream",
     "text": [
      "\r",
      "Processing columns:  76%|███████▌  | 4009/5273 [18:03<05:25,  3.89it/s]"
     ]
    },
    {
     "name": "stderr",
     "output_type": "stream",
     "text": [
      "\r",
      "Processing columns:  76%|███████▌  | 4010/5273 [18:03<05:26,  3.86it/s]"
     ]
    },
    {
     "name": "stderr",
     "output_type": "stream",
     "text": [
      "\r",
      "Processing columns:  76%|███████▌  | 4011/5273 [18:04<05:13,  4.02it/s]"
     ]
    },
    {
     "name": "stderr",
     "output_type": "stream",
     "text": [
      "\r",
      "Processing columns:  76%|███████▌  | 4012/5273 [18:04<05:10,  4.06it/s]"
     ]
    },
    {
     "name": "stderr",
     "output_type": "stream",
     "text": [
      "\r",
      "Processing columns:  76%|███████▌  | 4013/5273 [18:04<05:19,  3.95it/s]"
     ]
    },
    {
     "name": "stderr",
     "output_type": "stream",
     "text": [
      "\r",
      "Processing columns:  76%|███████▌  | 4014/5273 [18:04<05:12,  4.03it/s]"
     ]
    },
    {
     "name": "stderr",
     "output_type": "stream",
     "text": [
      "\r",
      "Processing columns:  76%|███████▌  | 4015/5273 [18:05<05:09,  4.07it/s]"
     ]
    },
    {
     "name": "stderr",
     "output_type": "stream",
     "text": [
      "\r",
      "Processing columns:  76%|███████▌  | 4016/5273 [18:05<04:49,  4.34it/s]"
     ]
    },
    {
     "name": "stderr",
     "output_type": "stream",
     "text": [
      "\r",
      "Processing columns:  76%|███████▌  | 4017/5273 [18:05<06:24,  3.27it/s]"
     ]
    },
    {
     "name": "stderr",
     "output_type": "stream",
     "text": [
      "\r",
      "Processing columns:  76%|███████▌  | 4018/5273 [18:06<06:03,  3.45it/s]"
     ]
    },
    {
     "name": "stderr",
     "output_type": "stream",
     "text": [
      "\r",
      "Processing columns:  76%|███████▌  | 4019/5273 [18:06<06:07,  3.41it/s]"
     ]
    },
    {
     "name": "stderr",
     "output_type": "stream",
     "text": [
      "\r",
      "Processing columns:  76%|███████▌  | 4020/5273 [18:06<05:50,  3.58it/s]"
     ]
    },
    {
     "name": "stderr",
     "output_type": "stream",
     "text": [
      "\r",
      "Processing columns:  76%|███████▋  | 4021/5273 [18:06<05:51,  3.57it/s]"
     ]
    },
    {
     "name": "stderr",
     "output_type": "stream",
     "text": [
      "\r",
      "Processing columns:  76%|███████▋  | 4022/5273 [18:07<05:32,  3.76it/s]"
     ]
    },
    {
     "name": "stderr",
     "output_type": "stream",
     "text": [
      "\r",
      "Processing columns:  76%|███████▋  | 4023/5273 [18:07<05:18,  3.93it/s]"
     ]
    },
    {
     "name": "stderr",
     "output_type": "stream",
     "text": [
      "\r",
      "Processing columns:  76%|███████▋  | 4024/5273 [18:07<05:20,  3.90it/s]"
     ]
    },
    {
     "name": "stderr",
     "output_type": "stream",
     "text": [
      "\r",
      "Processing columns:  76%|███████▋  | 4025/5273 [18:07<05:13,  3.98it/s]"
     ]
    },
    {
     "name": "stderr",
     "output_type": "stream",
     "text": [
      "\r",
      "Processing columns:  76%|███████▋  | 4026/5273 [18:08<04:57,  4.19it/s]"
     ]
    },
    {
     "name": "stderr",
     "output_type": "stream",
     "text": [
      "\r",
      "Processing columns:  76%|███████▋  | 4027/5273 [18:08<05:11,  4.00it/s]"
     ]
    },
    {
     "name": "stderr",
     "output_type": "stream",
     "text": [
      "\r",
      "Processing columns:  76%|███████▋  | 4028/5273 [18:08<05:13,  3.97it/s]"
     ]
    },
    {
     "name": "stderr",
     "output_type": "stream",
     "text": [
      "\r",
      "Processing columns:  76%|███████▋  | 4029/5273 [18:08<05:23,  3.84it/s]"
     ]
    },
    {
     "name": "stderr",
     "output_type": "stream",
     "text": [
      "\r",
      "Processing columns:  76%|███████▋  | 4030/5273 [18:09<07:07,  2.91it/s]"
     ]
    },
    {
     "name": "stderr",
     "output_type": "stream",
     "text": [
      "\r",
      "Processing columns:  76%|███████▋  | 4031/5273 [18:09<07:03,  2.93it/s]"
     ]
    },
    {
     "name": "stderr",
     "output_type": "stream",
     "text": [
      "\r",
      "Processing columns:  76%|███████▋  | 4032/5273 [18:10<06:31,  3.17it/s]"
     ]
    },
    {
     "name": "stderr",
     "output_type": "stream",
     "text": [
      "\r",
      "Processing columns:  76%|███████▋  | 4033/5273 [18:10<06:19,  3.27it/s]"
     ]
    },
    {
     "name": "stderr",
     "output_type": "stream",
     "text": [
      "\r",
      "Processing columns:  77%|███████▋  | 4034/5273 [18:10<05:46,  3.58it/s]"
     ]
    },
    {
     "name": "stderr",
     "output_type": "stream",
     "text": [
      "\r",
      "Processing columns:  77%|███████▋  | 4035/5273 [18:10<05:41,  3.63it/s]"
     ]
    },
    {
     "name": "stderr",
     "output_type": "stream",
     "text": [
      "\r",
      "Processing columns:  77%|███████▋  | 4036/5273 [18:10<05:15,  3.92it/s]"
     ]
    },
    {
     "name": "stderr",
     "output_type": "stream",
     "text": [
      "\r",
      "Processing columns:  77%|███████▋  | 4037/5273 [18:11<04:57,  4.15it/s]"
     ]
    },
    {
     "name": "stderr",
     "output_type": "stream",
     "text": [
      "\r",
      "Processing columns:  77%|███████▋  | 4038/5273 [18:11<04:58,  4.13it/s]"
     ]
    },
    {
     "name": "stderr",
     "output_type": "stream",
     "text": [
      "\r",
      "Processing columns:  77%|███████▋  | 4039/5273 [18:11<05:28,  3.76it/s]"
     ]
    },
    {
     "name": "stderr",
     "output_type": "stream",
     "text": [
      "\r",
      "Processing columns:  77%|███████▋  | 4040/5273 [18:12<05:36,  3.66it/s]"
     ]
    },
    {
     "name": "stderr",
     "output_type": "stream",
     "text": [
      "\r",
      "Processing columns:  77%|███████▋  | 4041/5273 [18:12<05:15,  3.90it/s]"
     ]
    },
    {
     "name": "stderr",
     "output_type": "stream",
     "text": [
      "\r",
      "Processing columns:  77%|███████▋  | 4042/5273 [18:12<05:09,  3.97it/s]"
     ]
    },
    {
     "name": "stderr",
     "output_type": "stream",
     "text": [
      "\r",
      "Processing columns:  77%|███████▋  | 4043/5273 [18:12<05:02,  4.07it/s]"
     ]
    },
    {
     "name": "stderr",
     "output_type": "stream",
     "text": [
      "\r",
      "Processing columns:  77%|███████▋  | 4044/5273 [18:13<06:55,  2.96it/s]"
     ]
    },
    {
     "name": "stderr",
     "output_type": "stream",
     "text": [
      "\r",
      "Processing columns:  77%|███████▋  | 4045/5273 [18:13<06:22,  3.21it/s]"
     ]
    },
    {
     "name": "stderr",
     "output_type": "stream",
     "text": [
      "\r",
      "Processing columns:  77%|███████▋  | 4046/5273 [18:13<05:41,  3.59it/s]"
     ]
    },
    {
     "name": "stderr",
     "output_type": "stream",
     "text": [
      "\r",
      "Processing columns:  77%|███████▋  | 4047/5273 [18:13<05:21,  3.82it/s]"
     ]
    },
    {
     "name": "stderr",
     "output_type": "stream",
     "text": [
      "\r",
      "Processing columns:  77%|███████▋  | 4048/5273 [18:14<05:32,  3.68it/s]"
     ]
    },
    {
     "name": "stderr",
     "output_type": "stream",
     "text": [
      "\r",
      "Processing columns:  77%|███████▋  | 4049/5273 [18:14<05:18,  3.85it/s]"
     ]
    },
    {
     "name": "stderr",
     "output_type": "stream",
     "text": [
      "\r",
      "Processing columns:  77%|███████▋  | 4050/5273 [18:14<05:05,  4.01it/s]"
     ]
    },
    {
     "name": "stderr",
     "output_type": "stream",
     "text": [
      "\r",
      "Processing columns:  77%|███████▋  | 4051/5273 [18:14<05:01,  4.05it/s]"
     ]
    },
    {
     "name": "stderr",
     "output_type": "stream",
     "text": [
      "\r",
      "Processing columns:  77%|███████▋  | 4052/5273 [18:15<04:56,  4.12it/s]"
     ]
    },
    {
     "name": "stderr",
     "output_type": "stream",
     "text": [
      "\r",
      "Processing columns:  77%|███████▋  | 4053/5273 [18:15<05:10,  3.93it/s]"
     ]
    },
    {
     "name": "stderr",
     "output_type": "stream",
     "text": [
      "\r",
      "Processing columns:  77%|███████▋  | 4054/5273 [18:15<05:04,  4.00it/s]"
     ]
    },
    {
     "name": "stderr",
     "output_type": "stream",
     "text": [
      "\r",
      "Processing columns:  77%|███████▋  | 4055/5273 [18:16<05:14,  3.88it/s]"
     ]
    },
    {
     "name": "stderr",
     "output_type": "stream",
     "text": [
      "\r",
      "Processing columns:  77%|███████▋  | 4056/5273 [18:16<04:58,  4.08it/s]"
     ]
    },
    {
     "name": "stderr",
     "output_type": "stream",
     "text": [
      "\r",
      "Processing columns:  77%|███████▋  | 4057/5273 [18:16<07:33,  2.68it/s]"
     ]
    },
    {
     "name": "stderr",
     "output_type": "stream",
     "text": [
      "\r",
      "Processing columns:  77%|███████▋  | 4058/5273 [18:17<06:35,  3.07it/s]"
     ]
    },
    {
     "name": "stderr",
     "output_type": "stream",
     "text": [
      "\r",
      "Processing columns:  77%|███████▋  | 4059/5273 [18:17<06:36,  3.06it/s]"
     ]
    },
    {
     "name": "stderr",
     "output_type": "stream",
     "text": [
      "\r",
      "Processing columns:  77%|███████▋  | 4060/5273 [18:17<06:00,  3.36it/s]"
     ]
    },
    {
     "name": "stderr",
     "output_type": "stream",
     "text": [
      "\r",
      "Processing columns:  77%|███████▋  | 4061/5273 [18:17<05:47,  3.49it/s]"
     ]
    },
    {
     "name": "stderr",
     "output_type": "stream",
     "text": [
      "\r",
      "Processing columns:  77%|███████▋  | 4062/5273 [18:18<05:29,  3.68it/s]"
     ]
    },
    {
     "name": "stderr",
     "output_type": "stream",
     "text": [
      "\r",
      "Processing columns:  77%|███████▋  | 4063/5273 [18:18<05:23,  3.74it/s]"
     ]
    },
    {
     "name": "stderr",
     "output_type": "stream",
     "text": [
      "\r",
      "Processing columns:  77%|███████▋  | 4064/5273 [18:18<05:19,  3.79it/s]"
     ]
    },
    {
     "name": "stderr",
     "output_type": "stream",
     "text": [
      "\r",
      "Processing columns:  77%|███████▋  | 4065/5273 [18:18<05:14,  3.84it/s]"
     ]
    },
    {
     "name": "stderr",
     "output_type": "stream",
     "text": [
      "\r",
      "Processing columns:  77%|███████▋  | 4066/5273 [18:19<05:01,  4.01it/s]"
     ]
    },
    {
     "name": "stderr",
     "output_type": "stream",
     "text": [
      "\r",
      "Processing columns:  77%|███████▋  | 4067/5273 [18:19<05:14,  3.84it/s]"
     ]
    },
    {
     "name": "stderr",
     "output_type": "stream",
     "text": [
      "\r",
      "Processing columns:  77%|███████▋  | 4068/5273 [18:19<05:01,  4.00it/s]"
     ]
    },
    {
     "name": "stderr",
     "output_type": "stream",
     "text": [
      "\r",
      "Processing columns:  77%|███████▋  | 4069/5273 [18:19<04:59,  4.03it/s]"
     ]
    },
    {
     "name": "stderr",
     "output_type": "stream",
     "text": [
      "\r",
      "Processing columns:  77%|███████▋  | 4070/5273 [18:20<07:33,  2.65it/s]"
     ]
    },
    {
     "name": "stderr",
     "output_type": "stream",
     "text": [
      "\r",
      "Processing columns:  77%|███████▋  | 4071/5273 [18:20<06:37,  3.02it/s]"
     ]
    },
    {
     "name": "stderr",
     "output_type": "stream",
     "text": [
      "\r",
      "Processing columns:  77%|███████▋  | 4072/5273 [18:21<06:14,  3.21it/s]"
     ]
    },
    {
     "name": "stderr",
     "output_type": "stream",
     "text": [
      "\r",
      "Processing columns:  77%|███████▋  | 4073/5273 [18:21<05:44,  3.49it/s]"
     ]
    },
    {
     "name": "stderr",
     "output_type": "stream",
     "text": [
      "\r",
      "Processing columns:  77%|███████▋  | 4074/5273 [18:21<05:17,  3.77it/s]"
     ]
    },
    {
     "name": "stderr",
     "output_type": "stream",
     "text": [
      "\r",
      "Processing columns:  77%|███████▋  | 4075/5273 [18:21<05:10,  3.86it/s]"
     ]
    },
    {
     "name": "stderr",
     "output_type": "stream",
     "text": [
      "\r",
      "Processing columns:  77%|███████▋  | 4076/5273 [18:21<04:48,  4.15it/s]"
     ]
    },
    {
     "name": "stderr",
     "output_type": "stream",
     "text": [
      "\r",
      "Processing columns:  77%|███████▋  | 4077/5273 [18:22<05:34,  3.57it/s]"
     ]
    },
    {
     "name": "stderr",
     "output_type": "stream",
     "text": [
      "\r",
      "Processing columns:  77%|███████▋  | 4078/5273 [18:22<05:24,  3.69it/s]"
     ]
    },
    {
     "name": "stderr",
     "output_type": "stream",
     "text": [
      "\r",
      "Processing columns:  77%|███████▋  | 4079/5273 [18:22<05:17,  3.77it/s]"
     ]
    },
    {
     "name": "stderr",
     "output_type": "stream",
     "text": [
      "\r",
      "Processing columns:  77%|███████▋  | 4080/5273 [18:23<05:01,  3.95it/s]"
     ]
    },
    {
     "name": "stderr",
     "output_type": "stream",
     "text": [
      "\r",
      "Processing columns:  77%|███████▋  | 4081/5273 [18:23<04:57,  4.01it/s]"
     ]
    },
    {
     "name": "stderr",
     "output_type": "stream",
     "text": [
      "\r",
      "Processing columns:  77%|███████▋  | 4082/5273 [18:23<05:11,  3.83it/s]"
     ]
    },
    {
     "name": "stderr",
     "output_type": "stream",
     "text": [
      "\r",
      "Processing columns:  77%|███████▋  | 4083/5273 [18:24<06:47,  2.92it/s]"
     ]
    },
    {
     "name": "stderr",
     "output_type": "stream",
     "text": [
      "\r",
      "Processing columns:  77%|███████▋  | 4084/5273 [18:24<06:09,  3.22it/s]"
     ]
    },
    {
     "name": "stderr",
     "output_type": "stream",
     "text": [
      "\r",
      "Processing columns:  77%|███████▋  | 4085/5273 [18:24<05:45,  3.43it/s]"
     ]
    },
    {
     "name": "stderr",
     "output_type": "stream",
     "text": [
      "\r",
      "Processing columns:  77%|███████▋  | 4086/5273 [18:24<05:21,  3.69it/s]"
     ]
    },
    {
     "name": "stderr",
     "output_type": "stream",
     "text": [
      "\r",
      "Processing columns:  78%|███████▊  | 4087/5273 [18:25<05:19,  3.72it/s]"
     ]
    },
    {
     "name": "stderr",
     "output_type": "stream",
     "text": [
      "\r",
      "Processing columns:  78%|███████▊  | 4088/5273 [18:25<05:02,  3.92it/s]"
     ]
    },
    {
     "name": "stderr",
     "output_type": "stream",
     "text": [
      "\r",
      "Processing columns:  78%|███████▊  | 4089/5273 [18:25<04:51,  4.06it/s]"
     ]
    },
    {
     "name": "stderr",
     "output_type": "stream",
     "text": [
      "\r",
      "Processing columns:  78%|███████▊  | 4090/5273 [18:25<04:50,  4.08it/s]"
     ]
    },
    {
     "name": "stderr",
     "output_type": "stream",
     "text": [
      "\r",
      "Processing columns:  78%|███████▊  | 4091/5273 [18:26<05:20,  3.69it/s]"
     ]
    },
    {
     "name": "stderr",
     "output_type": "stream",
     "text": [
      "\r",
      "Processing columns:  78%|███████▊  | 4092/5273 [18:26<05:08,  3.83it/s]"
     ]
    },
    {
     "name": "stderr",
     "output_type": "stream",
     "text": [
      "\r",
      "Processing columns:  78%|███████▊  | 4093/5273 [18:26<04:53,  4.02it/s]"
     ]
    },
    {
     "name": "stderr",
     "output_type": "stream",
     "text": [
      "\r",
      "Processing columns:  78%|███████▊  | 4094/5273 [18:26<04:46,  4.11it/s]"
     ]
    },
    {
     "name": "stderr",
     "output_type": "stream",
     "text": [
      "\r",
      "Processing columns:  78%|███████▊  | 4095/5273 [18:27<05:13,  3.76it/s]"
     ]
    },
    {
     "name": "stderr",
     "output_type": "stream",
     "text": [
      "\r",
      "Processing columns:  78%|███████▊  | 4096/5273 [18:27<06:20,  3.09it/s]"
     ]
    },
    {
     "name": "stderr",
     "output_type": "stream",
     "text": [
      "\r",
      "Processing columns:  78%|███████▊  | 4097/5273 [18:27<05:45,  3.41it/s]"
     ]
    },
    {
     "name": "stderr",
     "output_type": "stream",
     "text": [
      "\r",
      "Processing columns:  78%|███████▊  | 4098/5273 [18:28<05:15,  3.72it/s]"
     ]
    },
    {
     "name": "stderr",
     "output_type": "stream",
     "text": [
      "\r",
      "Processing columns:  78%|███████▊  | 4099/5273 [18:28<05:21,  3.65it/s]"
     ]
    },
    {
     "name": "stderr",
     "output_type": "stream",
     "text": [
      "\r",
      "Processing columns:  78%|███████▊  | 4100/5273 [18:28<05:22,  3.64it/s]"
     ]
    },
    {
     "name": "stderr",
     "output_type": "stream",
     "text": [
      "\r",
      "Processing columns:  78%|███████▊  | 4101/5273 [18:28<05:09,  3.78it/s]"
     ]
    },
    {
     "name": "stderr",
     "output_type": "stream",
     "text": [
      "\r",
      "Processing columns:  78%|███████▊  | 4102/5273 [18:29<04:58,  3.92it/s]"
     ]
    },
    {
     "name": "stderr",
     "output_type": "stream",
     "text": [
      "\r",
      "Processing columns:  78%|███████▊  | 4103/5273 [18:29<05:02,  3.87it/s]"
     ]
    },
    {
     "name": "stderr",
     "output_type": "stream",
     "text": [
      "\r",
      "Processing columns:  78%|███████▊  | 4104/5273 [18:29<04:59,  3.90it/s]"
     ]
    },
    {
     "name": "stderr",
     "output_type": "stream",
     "text": [
      "\r",
      "Processing columns:  78%|███████▊  | 4105/5273 [18:29<04:51,  4.00it/s]"
     ]
    },
    {
     "name": "stderr",
     "output_type": "stream",
     "text": [
      "\r",
      "Processing columns:  78%|███████▊  | 4106/5273 [18:30<04:37,  4.21it/s]"
     ]
    },
    {
     "name": "stderr",
     "output_type": "stream",
     "text": [
      "\r",
      "Processing columns:  78%|███████▊  | 4107/5273 [18:30<04:38,  4.18it/s]"
     ]
    },
    {
     "name": "stderr",
     "output_type": "stream",
     "text": [
      "\r",
      "Processing columns:  78%|███████▊  | 4108/5273 [18:30<04:40,  4.16it/s]"
     ]
    },
    {
     "name": "stderr",
     "output_type": "stream",
     "text": [
      "\r",
      "Processing columns:  78%|███████▊  | 4109/5273 [18:30<06:08,  3.16it/s]"
     ]
    },
    {
     "name": "stderr",
     "output_type": "stream",
     "text": [
      "\r",
      "Processing columns:  78%|███████▊  | 4110/5273 [18:31<05:36,  3.46it/s]"
     ]
    },
    {
     "name": "stderr",
     "output_type": "stream",
     "text": [
      "\r",
      "Processing columns:  78%|███████▊  | 4111/5273 [18:31<05:24,  3.58it/s]"
     ]
    },
    {
     "name": "stderr",
     "output_type": "stream",
     "text": [
      "\r",
      "Processing columns:  78%|███████▊  | 4112/5273 [18:31<05:12,  3.72it/s]"
     ]
    },
    {
     "name": "stderr",
     "output_type": "stream",
     "text": [
      "\r",
      "Processing columns:  78%|███████▊  | 4113/5273 [18:31<04:57,  3.90it/s]"
     ]
    },
    {
     "name": "stderr",
     "output_type": "stream",
     "text": [
      "\r",
      "Processing columns:  78%|███████▊  | 4114/5273 [18:32<04:52,  3.96it/s]"
     ]
    },
    {
     "name": "stderr",
     "output_type": "stream",
     "text": [
      "\r",
      "Processing columns:  78%|███████▊  | 4115/5273 [18:32<05:01,  3.84it/s]"
     ]
    },
    {
     "name": "stderr",
     "output_type": "stream",
     "text": [
      "\r",
      "Processing columns:  78%|███████▊  | 4116/5273 [18:32<04:54,  3.93it/s]"
     ]
    },
    {
     "name": "stderr",
     "output_type": "stream",
     "text": [
      "\r",
      "Processing columns:  78%|███████▊  | 4117/5273 [18:32<05:05,  3.78it/s]"
     ]
    },
    {
     "name": "stderr",
     "output_type": "stream",
     "text": [
      "\r",
      "Processing columns:  78%|███████▊  | 4118/5273 [18:33<04:57,  3.88it/s]"
     ]
    },
    {
     "name": "stderr",
     "output_type": "stream",
     "text": [
      "\r",
      "Processing columns:  78%|███████▊  | 4119/5273 [18:33<04:51,  3.97it/s]"
     ]
    },
    {
     "name": "stderr",
     "output_type": "stream",
     "text": [
      "\r",
      "Processing columns:  78%|███████▊  | 4120/5273 [18:33<04:43,  4.07it/s]"
     ]
    },
    {
     "name": "stderr",
     "output_type": "stream",
     "text": [
      "\r",
      "Processing columns:  78%|███████▊  | 4121/5273 [18:33<04:39,  4.13it/s]"
     ]
    },
    {
     "name": "stderr",
     "output_type": "stream",
     "text": [
      "\r",
      "Processing columns:  78%|███████▊  | 4122/5273 [18:34<04:49,  3.98it/s]"
     ]
    },
    {
     "name": "stderr",
     "output_type": "stream",
     "text": [
      "\r",
      "Processing columns:  78%|███████▊  | 4123/5273 [18:34<06:42,  2.86it/s]"
     ]
    },
    {
     "name": "stderr",
     "output_type": "stream",
     "text": [
      "\r",
      "Processing columns:  78%|███████▊  | 4124/5273 [18:35<06:10,  3.10it/s]"
     ]
    },
    {
     "name": "stderr",
     "output_type": "stream",
     "text": [
      "\r",
      "Processing columns:  78%|███████▊  | 4125/5273 [18:35<05:49,  3.28it/s]"
     ]
    },
    {
     "name": "stderr",
     "output_type": "stream",
     "text": [
      "\r",
      "Processing columns:  78%|███████▊  | 4126/5273 [18:35<05:25,  3.53it/s]"
     ]
    },
    {
     "name": "stderr",
     "output_type": "stream",
     "text": [
      "\r",
      "Processing columns:  78%|███████▊  | 4127/5273 [18:35<05:13,  3.65it/s]"
     ]
    },
    {
     "name": "stderr",
     "output_type": "stream",
     "text": [
      "\r",
      "Processing columns:  78%|███████▊  | 4128/5273 [18:36<05:13,  3.66it/s]"
     ]
    },
    {
     "name": "stderr",
     "output_type": "stream",
     "text": [
      "\r",
      "Processing columns:  78%|███████▊  | 4129/5273 [18:36<04:55,  3.88it/s]"
     ]
    },
    {
     "name": "stderr",
     "output_type": "stream",
     "text": [
      "\r",
      "Processing columns:  78%|███████▊  | 4130/5273 [18:36<04:55,  3.87it/s]"
     ]
    },
    {
     "name": "stderr",
     "output_type": "stream",
     "text": [
      "\r",
      "Processing columns:  78%|███████▊  | 4131/5273 [18:36<04:51,  3.92it/s]"
     ]
    },
    {
     "name": "stderr",
     "output_type": "stream",
     "text": [
      "\r",
      "Processing columns:  78%|███████▊  | 4132/5273 [18:37<04:56,  3.84it/s]"
     ]
    },
    {
     "name": "stderr",
     "output_type": "stream",
     "text": [
      "\r",
      "Processing columns:  78%|███████▊  | 4133/5273 [18:37<04:44,  4.01it/s]"
     ]
    },
    {
     "name": "stderr",
     "output_type": "stream",
     "text": [
      "\r",
      "Processing columns:  78%|███████▊  | 4134/5273 [18:37<04:52,  3.89it/s]"
     ]
    },
    {
     "name": "stderr",
     "output_type": "stream",
     "text": [
      "\r",
      "Processing columns:  78%|███████▊  | 4135/5273 [18:37<04:43,  4.01it/s]"
     ]
    },
    {
     "name": "stderr",
     "output_type": "stream",
     "text": [
      "\r",
      "Processing columns:  78%|███████▊  | 4136/5273 [18:38<06:21,  2.98it/s]"
     ]
    },
    {
     "name": "stderr",
     "output_type": "stream",
     "text": [
      "\r",
      "Processing columns:  78%|███████▊  | 4137/5273 [18:38<05:44,  3.30it/s]"
     ]
    },
    {
     "name": "stderr",
     "output_type": "stream",
     "text": [
      "\r",
      "Processing columns:  78%|███████▊  | 4138/5273 [18:38<05:54,  3.20it/s]"
     ]
    },
    {
     "name": "stderr",
     "output_type": "stream",
     "text": [
      "\r",
      "Processing columns:  78%|███████▊  | 4139/5273 [18:39<05:40,  3.33it/s]"
     ]
    },
    {
     "name": "stderr",
     "output_type": "stream",
     "text": [
      "\r",
      "Processing columns:  79%|███████▊  | 4140/5273 [18:39<05:12,  3.63it/s]"
     ]
    },
    {
     "name": "stderr",
     "output_type": "stream",
     "text": [
      "\r",
      "Processing columns:  79%|███████▊  | 4141/5273 [18:39<04:57,  3.81it/s]"
     ]
    },
    {
     "name": "stderr",
     "output_type": "stream",
     "text": [
      "\r",
      "Processing columns:  79%|███████▊  | 4142/5273 [18:39<04:58,  3.79it/s]"
     ]
    },
    {
     "name": "stderr",
     "output_type": "stream",
     "text": [
      "\r",
      "Processing columns:  79%|███████▊  | 4143/5273 [18:40<04:57,  3.79it/s]"
     ]
    },
    {
     "name": "stderr",
     "output_type": "stream",
     "text": [
      "\r",
      "Processing columns:  79%|███████▊  | 4144/5273 [18:40<04:55,  3.83it/s]"
     ]
    },
    {
     "name": "stderr",
     "output_type": "stream",
     "text": [
      "\r",
      "Processing columns:  79%|███████▊  | 4145/5273 [18:40<04:49,  3.90it/s]"
     ]
    },
    {
     "name": "stderr",
     "output_type": "stream",
     "text": [
      "\r",
      "Processing columns:  79%|███████▊  | 4146/5273 [18:40<04:46,  3.94it/s]"
     ]
    },
    {
     "name": "stderr",
     "output_type": "stream",
     "text": [
      "\r",
      "Processing columns:  79%|███████▊  | 4147/5273 [18:41<04:55,  3.81it/s]"
     ]
    },
    {
     "name": "stderr",
     "output_type": "stream",
     "text": [
      "\r",
      "Processing columns:  79%|███████▊  | 4148/5273 [18:41<04:59,  3.75it/s]"
     ]
    },
    {
     "name": "stderr",
     "output_type": "stream",
     "text": [
      "\r",
      "Processing columns:  79%|███████▊  | 4149/5273 [18:41<06:11,  3.02it/s]"
     ]
    },
    {
     "name": "stderr",
     "output_type": "stream",
     "text": [
      "\r",
      "Processing columns:  79%|███████▊  | 4150/5273 [18:42<05:44,  3.26it/s]"
     ]
    },
    {
     "name": "stderr",
     "output_type": "stream",
     "text": [
      "\r",
      "Processing columns:  79%|███████▊  | 4151/5273 [18:42<05:20,  3.50it/s]"
     ]
    },
    {
     "name": "stderr",
     "output_type": "stream",
     "text": [
      "\r",
      "Processing columns:  79%|███████▊  | 4152/5273 [18:42<05:05,  3.67it/s]"
     ]
    },
    {
     "name": "stderr",
     "output_type": "stream",
     "text": [
      "\r",
      "Processing columns:  79%|███████▉  | 4153/5273 [18:42<05:00,  3.73it/s]"
     ]
    },
    {
     "name": "stderr",
     "output_type": "stream",
     "text": [
      "\r",
      "Processing columns:  79%|███████▉  | 4154/5273 [18:43<04:51,  3.84it/s]"
     ]
    },
    {
     "name": "stderr",
     "output_type": "stream",
     "text": [
      "\r",
      "Processing columns:  79%|███████▉  | 4155/5273 [18:43<04:51,  3.84it/s]"
     ]
    },
    {
     "name": "stderr",
     "output_type": "stream",
     "text": [
      "\r",
      "Processing columns:  79%|███████▉  | 4156/5273 [18:43<04:41,  3.96it/s]"
     ]
    },
    {
     "name": "stderr",
     "output_type": "stream",
     "text": [
      "\r",
      "Processing columns:  79%|███████▉  | 4157/5273 [18:43<04:29,  4.14it/s]"
     ]
    },
    {
     "name": "stderr",
     "output_type": "stream",
     "text": [
      "\r",
      "Processing columns:  79%|███████▉  | 4158/5273 [18:44<04:45,  3.90it/s]"
     ]
    },
    {
     "name": "stderr",
     "output_type": "stream",
     "text": [
      "\r",
      "Processing columns:  79%|███████▉  | 4159/5273 [18:44<04:40,  3.97it/s]"
     ]
    },
    {
     "name": "stderr",
     "output_type": "stream",
     "text": [
      "\r",
      "Processing columns:  79%|███████▉  | 4160/5273 [18:44<04:31,  4.09it/s]"
     ]
    },
    {
     "name": "stderr",
     "output_type": "stream",
     "text": [
      "\r",
      "Processing columns:  79%|███████▉  | 4161/5273 [18:44<04:33,  4.06it/s]"
     ]
    },
    {
     "name": "stderr",
     "output_type": "stream",
     "text": [
      "\r",
      "Processing columns:  79%|███████▉  | 4162/5273 [18:45<06:50,  2.71it/s]"
     ]
    },
    {
     "name": "stderr",
     "output_type": "stream",
     "text": [
      "\r",
      "Processing columns:  79%|███████▉  | 4163/5273 [18:45<06:04,  3.04it/s]"
     ]
    },
    {
     "name": "stderr",
     "output_type": "stream",
     "text": [
      "\r",
      "Processing columns:  79%|███████▉  | 4164/5273 [18:45<05:27,  3.39it/s]"
     ]
    },
    {
     "name": "stderr",
     "output_type": "stream",
     "text": [
      "\r",
      "Processing columns:  79%|███████▉  | 4165/5273 [18:46<05:02,  3.66it/s]"
     ]
    },
    {
     "name": "stderr",
     "output_type": "stream",
     "text": [
      "\r",
      "Processing columns:  79%|███████▉  | 4166/5273 [18:46<04:43,  3.90it/s]"
     ]
    },
    {
     "name": "stderr",
     "output_type": "stream",
     "text": [
      "\r",
      "Processing columns:  79%|███████▉  | 4167/5273 [18:46<04:52,  3.79it/s]"
     ]
    },
    {
     "name": "stderr",
     "output_type": "stream",
     "text": [
      "\r",
      "Processing columns:  79%|███████▉  | 4168/5273 [18:46<04:44,  3.89it/s]"
     ]
    },
    {
     "name": "stderr",
     "output_type": "stream",
     "text": [
      "\r",
      "Processing columns:  79%|███████▉  | 4169/5273 [18:47<04:36,  3.99it/s]"
     ]
    },
    {
     "name": "stderr",
     "output_type": "stream",
     "text": [
      "\r",
      "Processing columns:  79%|███████▉  | 4170/5273 [18:47<04:33,  4.04it/s]"
     ]
    },
    {
     "name": "stderr",
     "output_type": "stream",
     "text": [
      "\r",
      "Processing columns:  79%|███████▉  | 4171/5273 [18:47<04:34,  4.02it/s]"
     ]
    },
    {
     "name": "stderr",
     "output_type": "stream",
     "text": [
      "\r",
      "Processing columns:  79%|███████▉  | 4172/5273 [18:47<04:32,  4.04it/s]"
     ]
    },
    {
     "name": "stderr",
     "output_type": "stream",
     "text": [
      "\r",
      "Processing columns:  79%|███████▉  | 4173/5273 [18:48<04:32,  4.04it/s]"
     ]
    },
    {
     "name": "stderr",
     "output_type": "stream",
     "text": [
      "\r",
      "Processing columns:  79%|███████▉  | 4174/5273 [18:48<04:29,  4.07it/s]"
     ]
    },
    {
     "name": "stderr",
     "output_type": "stream",
     "text": [
      "\r",
      "Processing columns:  79%|███████▉  | 4175/5273 [18:48<06:16,  2.92it/s]"
     ]
    },
    {
     "name": "stderr",
     "output_type": "stream",
     "text": [
      "\r",
      "Processing columns:  79%|███████▉  | 4176/5273 [18:49<05:40,  3.22it/s]"
     ]
    },
    {
     "name": "stderr",
     "output_type": "stream",
     "text": [
      "\r",
      "Processing columns:  79%|███████▉  | 4177/5273 [18:49<05:05,  3.58it/s]"
     ]
    },
    {
     "name": "stderr",
     "output_type": "stream",
     "text": [
      "\r",
      "Processing columns:  79%|███████▉  | 4178/5273 [18:49<04:51,  3.76it/s]"
     ]
    },
    {
     "name": "stderr",
     "output_type": "stream",
     "text": [
      "\r",
      "Processing columns:  79%|███████▉  | 4179/5273 [18:49<04:52,  3.74it/s]"
     ]
    },
    {
     "name": "stderr",
     "output_type": "stream",
     "text": [
      "\r",
      "Processing columns:  79%|███████▉  | 4180/5273 [18:50<04:45,  3.83it/s]"
     ]
    },
    {
     "name": "stderr",
     "output_type": "stream",
     "text": [
      "\r",
      "Processing columns:  79%|███████▉  | 4181/5273 [18:50<04:52,  3.73it/s]"
     ]
    },
    {
     "name": "stderr",
     "output_type": "stream",
     "text": [
      "\r",
      "Processing columns:  79%|███████▉  | 4182/5273 [18:50<04:38,  3.92it/s]"
     ]
    },
    {
     "name": "stderr",
     "output_type": "stream",
     "text": [
      "\r",
      "Processing columns:  79%|███████▉  | 4183/5273 [18:50<04:34,  3.96it/s]"
     ]
    },
    {
     "name": "stderr",
     "output_type": "stream",
     "text": [
      "\r",
      "Processing columns:  79%|███████▉  | 4184/5273 [18:51<04:33,  3.98it/s]"
     ]
    },
    {
     "name": "stderr",
     "output_type": "stream",
     "text": [
      "\r",
      "Processing columns:  79%|███████▉  | 4185/5273 [18:51<04:31,  4.01it/s]"
     ]
    },
    {
     "name": "stderr",
     "output_type": "stream",
     "text": [
      "\r",
      "Processing columns:  79%|███████▉  | 4186/5273 [18:51<04:35,  3.94it/s]"
     ]
    },
    {
     "name": "stderr",
     "output_type": "stream",
     "text": [
      "\r",
      "Processing columns:  79%|███████▉  | 4187/5273 [18:51<04:18,  4.19it/s]"
     ]
    },
    {
     "name": "stderr",
     "output_type": "stream",
     "text": [
      "\r",
      "Processing columns:  79%|███████▉  | 4188/5273 [18:52<06:04,  2.98it/s]"
     ]
    },
    {
     "name": "stderr",
     "output_type": "stream",
     "text": [
      "\r",
      "Processing columns:  79%|███████▉  | 4189/5273 [18:52<05:43,  3.16it/s]"
     ]
    },
    {
     "name": "stderr",
     "output_type": "stream",
     "text": [
      "\r",
      "Processing columns:  79%|███████▉  | 4190/5273 [18:52<05:15,  3.44it/s]"
     ]
    },
    {
     "name": "stderr",
     "output_type": "stream",
     "text": [
      "\r",
      "Processing columns:  79%|███████▉  | 4191/5273 [18:53<05:10,  3.48it/s]"
     ]
    },
    {
     "name": "stderr",
     "output_type": "stream",
     "text": [
      "\r",
      "Processing columns:  79%|███████▉  | 4192/5273 [18:53<04:46,  3.77it/s]"
     ]
    },
    {
     "name": "stderr",
     "output_type": "stream",
     "text": [
      "\r",
      "Processing columns:  80%|███████▉  | 4193/5273 [18:53<04:56,  3.64it/s]"
     ]
    },
    {
     "name": "stderr",
     "output_type": "stream",
     "text": [
      "\r",
      "Processing columns:  80%|███████▉  | 4194/5273 [18:53<04:42,  3.82it/s]"
     ]
    },
    {
     "name": "stderr",
     "output_type": "stream",
     "text": [
      "\r",
      "Processing columns:  80%|███████▉  | 4195/5273 [18:54<04:23,  4.09it/s]"
     ]
    },
    {
     "name": "stderr",
     "output_type": "stream",
     "text": [
      "\r",
      "Processing columns:  80%|███████▉  | 4196/5273 [18:54<04:51,  3.69it/s]"
     ]
    },
    {
     "name": "stderr",
     "output_type": "stream",
     "text": [
      "\r",
      "Processing columns:  80%|███████▉  | 4197/5273 [18:54<04:39,  3.85it/s]"
     ]
    },
    {
     "name": "stderr",
     "output_type": "stream",
     "text": [
      "\r",
      "Processing columns:  80%|███████▉  | 4198/5273 [18:54<04:19,  4.14it/s]"
     ]
    },
    {
     "name": "stderr",
     "output_type": "stream",
     "text": [
      "\r",
      "Processing columns:  80%|███████▉  | 4199/5273 [18:55<04:36,  3.88it/s]"
     ]
    },
    {
     "name": "stderr",
     "output_type": "stream",
     "text": [
      "\r",
      "Processing columns:  80%|███████▉  | 4200/5273 [18:55<04:38,  3.85it/s]"
     ]
    },
    {
     "name": "stderr",
     "output_type": "stream",
     "text": [
      "\r",
      "Processing columns:  80%|███████▉  | 4201/5273 [18:56<06:06,  2.93it/s]"
     ]
    },
    {
     "name": "stderr",
     "output_type": "stream",
     "text": [
      "\r",
      "Processing columns:  80%|███████▉  | 4202/5273 [18:56<05:48,  3.07it/s]"
     ]
    },
    {
     "name": "stderr",
     "output_type": "stream",
     "text": [
      "\r",
      "Processing columns:  80%|███████▉  | 4203/5273 [18:56<05:23,  3.31it/s]"
     ]
    },
    {
     "name": "stderr",
     "output_type": "stream",
     "text": [
      "\r",
      "Processing columns:  80%|███████▉  | 4204/5273 [18:56<05:03,  3.53it/s]"
     ]
    },
    {
     "name": "stderr",
     "output_type": "stream",
     "text": [
      "\r",
      "Processing columns:  80%|███████▉  | 4205/5273 [18:57<04:53,  3.64it/s]"
     ]
    },
    {
     "name": "stderr",
     "output_type": "stream",
     "text": [
      "\r",
      "Processing columns:  80%|███████▉  | 4206/5273 [18:57<04:39,  3.82it/s]"
     ]
    },
    {
     "name": "stderr",
     "output_type": "stream",
     "text": [
      "\r",
      "Processing columns:  80%|███████▉  | 4207/5273 [18:57<04:30,  3.93it/s]"
     ]
    },
    {
     "name": "stderr",
     "output_type": "stream",
     "text": [
      "\r",
      "Processing columns:  80%|███████▉  | 4208/5273 [18:57<04:32,  3.91it/s]"
     ]
    },
    {
     "name": "stderr",
     "output_type": "stream",
     "text": [
      "\r",
      "Processing columns:  80%|███████▉  | 4209/5273 [18:58<04:24,  4.03it/s]"
     ]
    },
    {
     "name": "stderr",
     "output_type": "stream",
     "text": [
      "\r",
      "Processing columns:  80%|███████▉  | 4210/5273 [18:58<04:21,  4.07it/s]"
     ]
    },
    {
     "name": "stderr",
     "output_type": "stream",
     "text": [
      "\r",
      "Processing columns:  80%|███████▉  | 4211/5273 [18:58<04:17,  4.13it/s]"
     ]
    },
    {
     "name": "stderr",
     "output_type": "stream",
     "text": [
      "\r",
      "Processing columns:  80%|███████▉  | 4212/5273 [18:58<04:23,  4.02it/s]"
     ]
    },
    {
     "name": "stderr",
     "output_type": "stream",
     "text": [
      "\r",
      "Processing columns:  80%|███████▉  | 4213/5273 [18:59<04:21,  4.05it/s]"
     ]
    },
    {
     "name": "stderr",
     "output_type": "stream",
     "text": [
      "\r",
      "Processing columns:  80%|███████▉  | 4214/5273 [18:59<06:02,  2.92it/s]"
     ]
    },
    {
     "name": "stderr",
     "output_type": "stream",
     "text": [
      "\r",
      "Processing columns:  80%|███████▉  | 4215/5273 [18:59<05:29,  3.21it/s]"
     ]
    },
    {
     "name": "stderr",
     "output_type": "stream",
     "text": [
      "\r",
      "Processing columns:  80%|███████▉  | 4216/5273 [19:00<05:09,  3.42it/s]"
     ]
    },
    {
     "name": "stderr",
     "output_type": "stream",
     "text": [
      "\r",
      "Processing columns:  80%|███████▉  | 4217/5273 [19:00<04:44,  3.71it/s]"
     ]
    },
    {
     "name": "stderr",
     "output_type": "stream",
     "text": [
      "\r",
      "Processing columns:  80%|███████▉  | 4218/5273 [19:00<04:30,  3.90it/s]"
     ]
    },
    {
     "name": "stderr",
     "output_type": "stream",
     "text": [
      "\r",
      "Processing columns:  80%|████████  | 4219/5273 [19:00<04:29,  3.92it/s]"
     ]
    },
    {
     "name": "stderr",
     "output_type": "stream",
     "text": [
      "\r",
      "Processing columns:  80%|████████  | 4220/5273 [19:01<05:03,  3.47it/s]"
     ]
    },
    {
     "name": "stderr",
     "output_type": "stream",
     "text": [
      "\r",
      "Processing columns:  80%|████████  | 4221/5273 [19:01<04:43,  3.71it/s]"
     ]
    },
    {
     "name": "stderr",
     "output_type": "stream",
     "text": [
      "\r",
      "Processing columns:  80%|████████  | 4222/5273 [19:01<04:30,  3.88it/s]"
     ]
    },
    {
     "name": "stderr",
     "output_type": "stream",
     "text": [
      "\r",
      "Processing columns:  80%|████████  | 4223/5273 [19:01<04:29,  3.90it/s]"
     ]
    },
    {
     "name": "stderr",
     "output_type": "stream",
     "text": [
      "\r",
      "Processing columns:  80%|████████  | 4224/5273 [19:02<04:26,  3.93it/s]"
     ]
    },
    {
     "name": "stderr",
     "output_type": "stream",
     "text": [
      "\r",
      "Processing columns:  80%|████████  | 4225/5273 [19:02<04:16,  4.09it/s]"
     ]
    },
    {
     "name": "stderr",
     "output_type": "stream",
     "text": [
      "\r",
      "Processing columns:  80%|████████  | 4226/5273 [19:02<04:16,  4.09it/s]"
     ]
    },
    {
     "name": "stderr",
     "output_type": "stream",
     "text": [
      "\r",
      "Processing columns:  80%|████████  | 4227/5273 [19:03<06:06,  2.86it/s]"
     ]
    },
    {
     "name": "stderr",
     "output_type": "stream",
     "text": [
      "\r",
      "Processing columns:  80%|████████  | 4228/5273 [19:03<05:27,  3.19it/s]"
     ]
    },
    {
     "name": "stderr",
     "output_type": "stream",
     "text": [
      "\r",
      "Processing columns:  80%|████████  | 4229/5273 [19:03<05:09,  3.37it/s]"
     ]
    },
    {
     "name": "stderr",
     "output_type": "stream",
     "text": [
      "\r",
      "Processing columns:  80%|████████  | 4230/5273 [19:03<04:52,  3.56it/s]"
     ]
    },
    {
     "name": "stderr",
     "output_type": "stream",
     "text": [
      "\r",
      "Processing columns:  80%|████████  | 4231/5273 [19:04<04:40,  3.71it/s]"
     ]
    },
    {
     "name": "stderr",
     "output_type": "stream",
     "text": [
      "\r",
      "Processing columns:  80%|████████  | 4232/5273 [19:04<04:29,  3.86it/s]"
     ]
    },
    {
     "name": "stderr",
     "output_type": "stream",
     "text": [
      "\r",
      "Processing columns:  80%|████████  | 4233/5273 [19:04<04:20,  3.99it/s]"
     ]
    },
    {
     "name": "stderr",
     "output_type": "stream",
     "text": [
      "\r",
      "Processing columns:  80%|████████  | 4234/5273 [19:04<04:23,  3.95it/s]"
     ]
    },
    {
     "name": "stderr",
     "output_type": "stream",
     "text": [
      "\r",
      "Processing columns:  80%|████████  | 4235/5273 [19:05<04:32,  3.81it/s]"
     ]
    },
    {
     "name": "stderr",
     "output_type": "stream",
     "text": [
      "\r",
      "Processing columns:  80%|████████  | 4236/5273 [19:05<04:29,  3.85it/s]"
     ]
    },
    {
     "name": "stderr",
     "output_type": "stream",
     "text": [
      "\r",
      "Processing columns:  80%|████████  | 4237/5273 [19:05<04:08,  4.17it/s]"
     ]
    },
    {
     "name": "stderr",
     "output_type": "stream",
     "text": [
      "\r",
      "Processing columns:  80%|████████  | 4238/5273 [19:05<04:17,  4.02it/s]"
     ]
    },
    {
     "name": "stderr",
     "output_type": "stream",
     "text": [
      "\r",
      "Processing columns:  80%|████████  | 4239/5273 [19:06<04:11,  4.10it/s]"
     ]
    },
    {
     "name": "stderr",
     "output_type": "stream",
     "text": [
      "\r",
      "Processing columns:  80%|████████  | 4240/5273 [19:06<04:08,  4.16it/s]"
     ]
    },
    {
     "name": "stderr",
     "output_type": "stream",
     "text": [
      "\r",
      "Processing columns:  80%|████████  | 4241/5273 [19:07<06:36,  2.61it/s]"
     ]
    },
    {
     "name": "stderr",
     "output_type": "stream",
     "text": [
      "\r",
      "Processing columns:  80%|████████  | 4242/5273 [19:07<05:45,  2.98it/s]"
     ]
    },
    {
     "name": "stderr",
     "output_type": "stream",
     "text": [
      "\r",
      "Processing columns:  80%|████████  | 4243/5273 [19:07<05:36,  3.06it/s]"
     ]
    },
    {
     "name": "stderr",
     "output_type": "stream",
     "text": [
      "\r",
      "Processing columns:  80%|████████  | 4244/5273 [19:07<05:08,  3.33it/s]"
     ]
    },
    {
     "name": "stderr",
     "output_type": "stream",
     "text": [
      "\r",
      "Processing columns:  81%|████████  | 4245/5273 [19:08<04:58,  3.44it/s]"
     ]
    },
    {
     "name": "stderr",
     "output_type": "stream",
     "text": [
      "\r",
      "Processing columns:  81%|████████  | 4246/5273 [19:08<04:47,  3.57it/s]"
     ]
    },
    {
     "name": "stderr",
     "output_type": "stream",
     "text": [
      "\r",
      "Processing columns:  81%|████████  | 4247/5273 [19:08<04:34,  3.74it/s]"
     ]
    },
    {
     "name": "stderr",
     "output_type": "stream",
     "text": [
      "\r",
      "Processing columns:  81%|████████  | 4248/5273 [19:08<04:30,  3.79it/s]"
     ]
    },
    {
     "name": "stderr",
     "output_type": "stream",
     "text": [
      "\r",
      "Processing columns:  81%|████████  | 4249/5273 [19:09<04:17,  3.97it/s]"
     ]
    },
    {
     "name": "stderr",
     "output_type": "stream",
     "text": [
      "\r",
      "Processing columns:  81%|████████  | 4250/5273 [19:09<04:16,  4.00it/s]"
     ]
    },
    {
     "name": "stderr",
     "output_type": "stream",
     "text": [
      "\r",
      "Processing columns:  81%|████████  | 4251/5273 [19:09<04:10,  4.09it/s]"
     ]
    },
    {
     "name": "stderr",
     "output_type": "stream",
     "text": [
      "\r",
      "Processing columns:  81%|████████  | 4252/5273 [19:09<04:10,  4.07it/s]"
     ]
    },
    {
     "name": "stderr",
     "output_type": "stream",
     "text": [
      "\r",
      "Processing columns:  81%|████████  | 4253/5273 [19:09<04:07,  4.12it/s]"
     ]
    },
    {
     "name": "stderr",
     "output_type": "stream",
     "text": [
      "\r",
      "Processing columns:  81%|████████  | 4254/5273 [19:10<05:04,  3.35it/s]"
     ]
    },
    {
     "name": "stderr",
     "output_type": "stream",
     "text": [
      "\r",
      "Processing columns:  81%|████████  | 4255/5273 [19:10<04:45,  3.57it/s]"
     ]
    },
    {
     "name": "stderr",
     "output_type": "stream",
     "text": [
      "\r",
      "Processing columns:  81%|████████  | 4256/5273 [19:10<04:53,  3.46it/s]"
     ]
    },
    {
     "name": "stderr",
     "output_type": "stream",
     "text": [
      "\r",
      "Processing columns:  81%|████████  | 4257/5273 [19:11<04:31,  3.74it/s]"
     ]
    },
    {
     "name": "stderr",
     "output_type": "stream",
     "text": [
      "\r",
      "Processing columns:  81%|████████  | 4258/5273 [19:11<04:21,  3.88it/s]"
     ]
    },
    {
     "name": "stderr",
     "output_type": "stream",
     "text": [
      "\r",
      "Processing columns:  81%|████████  | 4259/5273 [19:11<04:13,  4.01it/s]"
     ]
    },
    {
     "name": "stderr",
     "output_type": "stream",
     "text": [
      "\r",
      "Processing columns:  81%|████████  | 4260/5273 [19:11<04:07,  4.10it/s]"
     ]
    },
    {
     "name": "stderr",
     "output_type": "stream",
     "text": [
      "\r",
      "Processing columns:  81%|████████  | 4261/5273 [19:12<04:00,  4.21it/s]"
     ]
    },
    {
     "name": "stderr",
     "output_type": "stream",
     "text": [
      "\r",
      "Processing columns:  81%|████████  | 4262/5273 [19:12<04:05,  4.12it/s]"
     ]
    },
    {
     "name": "stderr",
     "output_type": "stream",
     "text": [
      "\r",
      "Processing columns:  81%|████████  | 4263/5273 [19:12<04:28,  3.76it/s]"
     ]
    },
    {
     "name": "stderr",
     "output_type": "stream",
     "text": [
      "\r",
      "Processing columns:  81%|████████  | 4264/5273 [19:12<04:33,  3.69it/s]"
     ]
    },
    {
     "name": "stderr",
     "output_type": "stream",
     "text": [
      "\r",
      "Processing columns:  81%|████████  | 4265/5273 [19:13<04:21,  3.85it/s]"
     ]
    },
    {
     "name": "stderr",
     "output_type": "stream",
     "text": [
      "\r",
      "Processing columns:  81%|████████  | 4266/5273 [19:13<04:17,  3.91it/s]"
     ]
    },
    {
     "name": "stderr",
     "output_type": "stream",
     "text": [
      "\r",
      "Processing columns:  81%|████████  | 4267/5273 [19:13<05:24,  3.10it/s]"
     ]
    },
    {
     "name": "stderr",
     "output_type": "stream",
     "text": [
      "\r",
      "Processing columns:  81%|████████  | 4268/5273 [19:14<04:52,  3.43it/s]"
     ]
    },
    {
     "name": "stderr",
     "output_type": "stream",
     "text": [
      "\r",
      "Processing columns:  81%|████████  | 4269/5273 [19:14<04:58,  3.37it/s]"
     ]
    },
    {
     "name": "stderr",
     "output_type": "stream",
     "text": [
      "\r",
      "Processing columns:  81%|████████  | 4270/5273 [19:14<04:35,  3.64it/s]"
     ]
    },
    {
     "name": "stderr",
     "output_type": "stream",
     "text": [
      "\r",
      "Processing columns:  81%|████████  | 4271/5273 [19:14<04:39,  3.59it/s]"
     ]
    },
    {
     "name": "stderr",
     "output_type": "stream",
     "text": [
      "\r",
      "Processing columns:  81%|████████  | 4272/5273 [19:15<04:54,  3.40it/s]"
     ]
    },
    {
     "name": "stderr",
     "output_type": "stream",
     "text": [
      "\r",
      "Processing columns:  81%|████████  | 4273/5273 [19:15<04:42,  3.54it/s]"
     ]
    },
    {
     "name": "stderr",
     "output_type": "stream",
     "text": [
      "\r",
      "Processing columns:  81%|████████  | 4274/5273 [19:15<04:26,  3.75it/s]"
     ]
    },
    {
     "name": "stderr",
     "output_type": "stream",
     "text": [
      "\r",
      "Processing columns:  81%|████████  | 4275/5273 [19:16<04:22,  3.81it/s]"
     ]
    },
    {
     "name": "stderr",
     "output_type": "stream",
     "text": [
      "\r",
      "Processing columns:  81%|████████  | 4276/5273 [19:16<04:13,  3.93it/s]"
     ]
    },
    {
     "name": "stderr",
     "output_type": "stream",
     "text": [
      "\r",
      "Processing columns:  81%|████████  | 4277/5273 [19:16<04:04,  4.08it/s]"
     ]
    },
    {
     "name": "stderr",
     "output_type": "stream",
     "text": [
      "\r",
      "Processing columns:  81%|████████  | 4278/5273 [19:16<04:07,  4.02it/s]"
     ]
    },
    {
     "name": "stderr",
     "output_type": "stream",
     "text": [
      "\r",
      "Processing columns:  81%|████████  | 4279/5273 [19:16<04:08,  4.00it/s]"
     ]
    },
    {
     "name": "stderr",
     "output_type": "stream",
     "text": [
      "\r",
      "Processing columns:  81%|████████  | 4280/5273 [19:17<05:29,  3.01it/s]"
     ]
    },
    {
     "name": "stderr",
     "output_type": "stream",
     "text": [
      "\r",
      "Processing columns:  81%|████████  | 4281/5273 [19:17<05:18,  3.11it/s]"
     ]
    },
    {
     "name": "stderr",
     "output_type": "stream",
     "text": [
      "\r",
      "Processing columns:  81%|████████  | 4282/5273 [19:18<05:02,  3.28it/s]"
     ]
    },
    {
     "name": "stderr",
     "output_type": "stream",
     "text": [
      "\r",
      "Processing columns:  81%|████████  | 4283/5273 [19:18<04:55,  3.35it/s]"
     ]
    },
    {
     "name": "stderr",
     "output_type": "stream",
     "text": [
      "\r",
      "Processing columns:  81%|████████  | 4284/5273 [19:18<04:28,  3.69it/s]"
     ]
    },
    {
     "name": "stderr",
     "output_type": "stream",
     "text": [
      "\r",
      "Processing columns:  81%|████████▏ | 4285/5273 [19:18<04:30,  3.65it/s]"
     ]
    },
    {
     "name": "stderr",
     "output_type": "stream",
     "text": [
      "\r",
      "Processing columns:  81%|████████▏ | 4286/5273 [19:19<04:27,  3.69it/s]"
     ]
    },
    {
     "name": "stderr",
     "output_type": "stream",
     "text": [
      "\r",
      "Processing columns:  81%|████████▏ | 4287/5273 [19:19<04:16,  3.84it/s]"
     ]
    },
    {
     "name": "stderr",
     "output_type": "stream",
     "text": [
      "\r",
      "Processing columns:  81%|████████▏ | 4288/5273 [19:19<04:04,  4.03it/s]"
     ]
    },
    {
     "name": "stderr",
     "output_type": "stream",
     "text": [
      "\r",
      "Processing columns:  81%|████████▏ | 4289/5273 [19:19<03:58,  4.12it/s]"
     ]
    },
    {
     "name": "stderr",
     "output_type": "stream",
     "text": [
      "\r",
      "Processing columns:  81%|████████▏ | 4290/5273 [19:20<03:55,  4.18it/s]"
     ]
    },
    {
     "name": "stderr",
     "output_type": "stream",
     "text": [
      "\r",
      "Processing columns:  81%|████████▏ | 4291/5273 [19:20<04:13,  3.88it/s]"
     ]
    },
    {
     "name": "stderr",
     "output_type": "stream",
     "text": [
      "\r",
      "Processing columns:  81%|████████▏ | 4292/5273 [19:20<04:13,  3.87it/s]"
     ]
    },
    {
     "name": "stderr",
     "output_type": "stream",
     "text": [
      "\r",
      "Processing columns:  81%|████████▏ | 4293/5273 [19:21<05:19,  3.07it/s]"
     ]
    },
    {
     "name": "stderr",
     "output_type": "stream",
     "text": [
      "\r",
      "Processing columns:  81%|████████▏ | 4294/5273 [19:21<04:59,  3.27it/s]"
     ]
    },
    {
     "name": "stderr",
     "output_type": "stream",
     "text": [
      "\r",
      "Processing columns:  81%|████████▏ | 4295/5273 [19:21<04:37,  3.53it/s]"
     ]
    },
    {
     "name": "stderr",
     "output_type": "stream",
     "text": [
      "\r",
      "Processing columns:  81%|████████▏ | 4296/5273 [19:21<04:47,  3.40it/s]"
     ]
    },
    {
     "name": "stderr",
     "output_type": "stream",
     "text": [
      "\r",
      "Processing columns:  81%|████████▏ | 4297/5273 [19:22<04:22,  3.72it/s]"
     ]
    },
    {
     "name": "stderr",
     "output_type": "stream",
     "text": [
      "\r",
      "Processing columns:  82%|████████▏ | 4298/5273 [19:22<04:04,  3.99it/s]"
     ]
    },
    {
     "name": "stderr",
     "output_type": "stream",
     "text": [
      "\r",
      "Processing columns:  82%|████████▏ | 4299/5273 [19:22<04:09,  3.90it/s]"
     ]
    },
    {
     "name": "stderr",
     "output_type": "stream",
     "text": [
      "\r",
      "Processing columns:  82%|████████▏ | 4300/5273 [19:22<04:14,  3.83it/s]"
     ]
    },
    {
     "name": "stderr",
     "output_type": "stream",
     "text": [
      "\r",
      "Processing columns:  82%|████████▏ | 4301/5273 [19:23<04:03,  3.98it/s]"
     ]
    },
    {
     "name": "stderr",
     "output_type": "stream",
     "text": [
      "\r",
      "Processing columns:  82%|████████▏ | 4302/5273 [19:23<04:01,  4.02it/s]"
     ]
    },
    {
     "name": "stderr",
     "output_type": "stream",
     "text": [
      "\r",
      "Processing columns:  82%|████████▏ | 4303/5273 [19:23<03:59,  4.06it/s]"
     ]
    },
    {
     "name": "stderr",
     "output_type": "stream",
     "text": [
      "\r",
      "Processing columns:  82%|████████▏ | 4304/5273 [19:23<03:53,  4.15it/s]"
     ]
    },
    {
     "name": "stderr",
     "output_type": "stream",
     "text": [
      "\r",
      "Processing columns:  82%|████████▏ | 4305/5273 [19:24<03:56,  4.10it/s]"
     ]
    },
    {
     "name": "stderr",
     "output_type": "stream",
     "text": [
      "\r",
      "Processing columns:  82%|████████▏ | 4306/5273 [19:24<03:52,  4.16it/s]"
     ]
    },
    {
     "name": "stderr",
     "output_type": "stream",
     "text": [
      "\r",
      "Processing columns:  82%|████████▏ | 4307/5273 [19:24<04:41,  3.43it/s]"
     ]
    },
    {
     "name": "stderr",
     "output_type": "stream",
     "text": [
      "\r",
      "Processing columns:  82%|████████▏ | 4308/5273 [19:25<04:49,  3.33it/s]"
     ]
    },
    {
     "name": "stderr",
     "output_type": "stream",
     "text": [
      "\r",
      "Processing columns:  82%|████████▏ | 4309/5273 [19:25<04:25,  3.63it/s]"
     ]
    },
    {
     "name": "stderr",
     "output_type": "stream",
     "text": [
      "\r",
      "Processing columns:  82%|████████▏ | 4310/5273 [19:25<04:23,  3.65it/s]"
     ]
    },
    {
     "name": "stderr",
     "output_type": "stream",
     "text": [
      "\r",
      "Processing columns:  82%|████████▏ | 4311/5273 [19:25<04:09,  3.85it/s]"
     ]
    },
    {
     "name": "stderr",
     "output_type": "stream",
     "text": [
      "\r",
      "Processing columns:  82%|████████▏ | 4312/5273 [19:25<04:08,  3.86it/s]"
     ]
    },
    {
     "name": "stderr",
     "output_type": "stream",
     "text": [
      "\r",
      "Processing columns:  82%|████████▏ | 4313/5273 [19:26<04:01,  3.97it/s]"
     ]
    },
    {
     "name": "stderr",
     "output_type": "stream",
     "text": [
      "\r",
      "Processing columns:  82%|████████▏ | 4314/5273 [19:26<04:19,  3.70it/s]"
     ]
    },
    {
     "name": "stderr",
     "output_type": "stream",
     "text": [
      "\r",
      "Processing columns:  82%|████████▏ | 4315/5273 [19:26<04:02,  3.95it/s]"
     ]
    },
    {
     "name": "stderr",
     "output_type": "stream",
     "text": [
      "\r",
      "Processing columns:  82%|████████▏ | 4316/5273 [19:27<04:05,  3.90it/s]"
     ]
    },
    {
     "name": "stderr",
     "output_type": "stream",
     "text": [
      "\r",
      "Processing columns:  82%|████████▏ | 4317/5273 [19:27<04:04,  3.91it/s]"
     ]
    },
    {
     "name": "stderr",
     "output_type": "stream",
     "text": [
      "\r",
      "Processing columns:  82%|████████▏ | 4318/5273 [19:27<03:58,  4.01it/s]"
     ]
    },
    {
     "name": "stderr",
     "output_type": "stream",
     "text": [
      "\r",
      "Processing columns:  82%|████████▏ | 4319/5273 [19:27<03:51,  4.12it/s]"
     ]
    },
    {
     "name": "stderr",
     "output_type": "stream",
     "text": [
      "\r",
      "Processing columns:  82%|████████▏ | 4320/5273 [19:28<05:25,  2.93it/s]"
     ]
    },
    {
     "name": "stderr",
     "output_type": "stream",
     "text": [
      "\r",
      "Processing columns:  82%|████████▏ | 4321/5273 [19:28<05:16,  3.01it/s]"
     ]
    },
    {
     "name": "stderr",
     "output_type": "stream",
     "text": [
      "\r",
      "Processing columns:  82%|████████▏ | 4322/5273 [19:28<04:46,  3.32it/s]"
     ]
    },
    {
     "name": "stderr",
     "output_type": "stream",
     "text": [
      "\r",
      "Processing columns:  82%|████████▏ | 4323/5273 [19:29<04:33,  3.48it/s]"
     ]
    },
    {
     "name": "stderr",
     "output_type": "stream",
     "text": [
      "\r",
      "Processing columns:  82%|████████▏ | 4324/5273 [19:29<04:13,  3.74it/s]"
     ]
    },
    {
     "name": "stderr",
     "output_type": "stream",
     "text": [
      "\r",
      "Processing columns:  82%|████████▏ | 4325/5273 [19:29<04:09,  3.80it/s]"
     ]
    },
    {
     "name": "stderr",
     "output_type": "stream",
     "text": [
      "\r",
      "Processing columns:  82%|████████▏ | 4326/5273 [19:29<04:01,  3.93it/s]"
     ]
    },
    {
     "name": "stderr",
     "output_type": "stream",
     "text": [
      "\r",
      "Processing columns:  82%|████████▏ | 4327/5273 [19:30<04:02,  3.90it/s]"
     ]
    },
    {
     "name": "stderr",
     "output_type": "stream",
     "text": [
      "\r",
      "Processing columns:  82%|████████▏ | 4328/5273 [19:30<03:53,  4.05it/s]"
     ]
    },
    {
     "name": "stderr",
     "output_type": "stream",
     "text": [
      "\r",
      "Processing columns:  82%|████████▏ | 4329/5273 [19:30<03:46,  4.17it/s]"
     ]
    },
    {
     "name": "stderr",
     "output_type": "stream",
     "text": [
      "\r",
      "Processing columns:  82%|████████▏ | 4330/5273 [19:30<04:15,  3.69it/s]"
     ]
    },
    {
     "name": "stderr",
     "output_type": "stream",
     "text": [
      "\r",
      "Processing columns:  82%|████████▏ | 4331/5273 [19:31<04:04,  3.85it/s]"
     ]
    },
    {
     "name": "stderr",
     "output_type": "stream",
     "text": [
      "\r",
      "Processing columns:  82%|████████▏ | 4332/5273 [19:31<04:20,  3.61it/s]"
     ]
    },
    {
     "name": "stderr",
     "output_type": "stream",
     "text": [
      "\r",
      "Processing columns:  82%|████████▏ | 4333/5273 [19:31<05:15,  2.98it/s]"
     ]
    },
    {
     "name": "stderr",
     "output_type": "stream",
     "text": [
      "\r",
      "Processing columns:  82%|████████▏ | 4334/5273 [19:32<04:37,  3.38it/s]"
     ]
    },
    {
     "name": "stderr",
     "output_type": "stream",
     "text": [
      "\r",
      "Processing columns:  82%|████████▏ | 4335/5273 [19:32<05:11,  3.01it/s]"
     ]
    },
    {
     "name": "stderr",
     "output_type": "stream",
     "text": [
      "\r",
      "Processing columns:  82%|████████▏ | 4336/5273 [19:32<04:46,  3.28it/s]"
     ]
    },
    {
     "name": "stderr",
     "output_type": "stream",
     "text": [
      "\r",
      "Processing columns:  82%|████████▏ | 4337/5273 [19:32<04:16,  3.65it/s]"
     ]
    },
    {
     "name": "stderr",
     "output_type": "stream",
     "text": [
      "\r",
      "Processing columns:  82%|████████▏ | 4338/5273 [19:33<04:09,  3.74it/s]"
     ]
    },
    {
     "name": "stderr",
     "output_type": "stream",
     "text": [
      "\r",
      "Processing columns:  82%|████████▏ | 4339/5273 [19:33<04:21,  3.57it/s]"
     ]
    },
    {
     "name": "stderr",
     "output_type": "stream",
     "text": [
      "\r",
      "Processing columns:  82%|████████▏ | 4340/5273 [19:33<04:03,  3.83it/s]"
     ]
    },
    {
     "name": "stderr",
     "output_type": "stream",
     "text": [
      "\r",
      "Processing columns:  82%|████████▏ | 4341/5273 [19:34<04:27,  3.48it/s]"
     ]
    },
    {
     "name": "stderr",
     "output_type": "stream",
     "text": [
      "\r",
      "Processing columns:  82%|████████▏ | 4342/5273 [19:34<04:25,  3.51it/s]"
     ]
    },
    {
     "name": "stderr",
     "output_type": "stream",
     "text": [
      "\r",
      "Processing columns:  82%|████████▏ | 4343/5273 [19:34<04:07,  3.75it/s]"
     ]
    },
    {
     "name": "stderr",
     "output_type": "stream",
     "text": [
      "\r",
      "Processing columns:  82%|████████▏ | 4344/5273 [19:34<04:34,  3.38it/s]"
     ]
    },
    {
     "name": "stderr",
     "output_type": "stream",
     "text": [
      "\r",
      "Processing columns:  82%|████████▏ | 4345/5273 [19:35<04:21,  3.54it/s]"
     ]
    },
    {
     "name": "stderr",
     "output_type": "stream",
     "text": [
      "\r",
      "Processing columns:  82%|████████▏ | 4346/5273 [19:35<06:14,  2.48it/s]"
     ]
    },
    {
     "name": "stderr",
     "output_type": "stream",
     "text": [
      "\r",
      "Processing columns:  82%|████████▏ | 4347/5273 [19:36<05:19,  2.90it/s]"
     ]
    },
    {
     "name": "stderr",
     "output_type": "stream",
     "text": [
      "\r",
      "Processing columns:  82%|████████▏ | 4348/5273 [19:36<04:50,  3.18it/s]"
     ]
    },
    {
     "name": "stderr",
     "output_type": "stream",
     "text": [
      "\r",
      "Processing columns:  82%|████████▏ | 4349/5273 [19:36<04:31,  3.41it/s]"
     ]
    },
    {
     "name": "stderr",
     "output_type": "stream",
     "text": [
      "\r",
      "Processing columns:  82%|████████▏ | 4350/5273 [19:36<04:30,  3.41it/s]"
     ]
    },
    {
     "name": "stderr",
     "output_type": "stream",
     "text": [
      "\r",
      "Processing columns:  83%|████████▎ | 4351/5273 [19:37<04:30,  3.41it/s]"
     ]
    },
    {
     "name": "stderr",
     "output_type": "stream",
     "text": [
      "\r",
      "Processing columns:  83%|████████▎ | 4352/5273 [19:37<04:15,  3.60it/s]"
     ]
    },
    {
     "name": "stderr",
     "output_type": "stream",
     "text": [
      "\r",
      "Processing columns:  83%|████████▎ | 4353/5273 [19:37<04:05,  3.75it/s]"
     ]
    },
    {
     "name": "stderr",
     "output_type": "stream",
     "text": [
      "\r",
      "Processing columns:  83%|████████▎ | 4354/5273 [19:37<03:54,  3.91it/s]"
     ]
    },
    {
     "name": "stderr",
     "output_type": "stream",
     "text": [
      "\r",
      "Processing columns:  83%|████████▎ | 4355/5273 [19:38<03:44,  4.09it/s]"
     ]
    },
    {
     "name": "stderr",
     "output_type": "stream",
     "text": [
      "\r",
      "Processing columns:  83%|████████▎ | 4356/5273 [19:38<04:20,  3.52it/s]"
     ]
    },
    {
     "name": "stderr",
     "output_type": "stream",
     "text": [
      "\r",
      "Processing columns:  83%|████████▎ | 4357/5273 [19:38<04:06,  3.71it/s]"
     ]
    },
    {
     "name": "stderr",
     "output_type": "stream",
     "text": [
      "\r",
      "Processing columns:  83%|████████▎ | 4358/5273 [19:38<03:52,  3.94it/s]"
     ]
    },
    {
     "name": "stderr",
     "output_type": "stream",
     "text": [
      "\r",
      "Processing columns:  83%|████████▎ | 4359/5273 [19:39<05:28,  2.78it/s]"
     ]
    },
    {
     "name": "stderr",
     "output_type": "stream",
     "text": [
      "\r",
      "Processing columns:  83%|████████▎ | 4360/5273 [19:39<04:56,  3.08it/s]"
     ]
    },
    {
     "name": "stderr",
     "output_type": "stream",
     "text": [
      "\r",
      "Processing columns:  83%|████████▎ | 4361/5273 [19:40<04:37,  3.29it/s]"
     ]
    },
    {
     "name": "stderr",
     "output_type": "stream",
     "text": [
      "\r",
      "Processing columns:  83%|████████▎ | 4362/5273 [19:40<04:10,  3.64it/s]"
     ]
    },
    {
     "name": "stderr",
     "output_type": "stream",
     "text": [
      "\r",
      "Processing columns:  83%|████████▎ | 4363/5273 [19:40<04:35,  3.31it/s]"
     ]
    },
    {
     "name": "stderr",
     "output_type": "stream",
     "text": [
      "\r",
      "Processing columns:  83%|████████▎ | 4364/5273 [19:40<04:32,  3.33it/s]"
     ]
    },
    {
     "name": "stderr",
     "output_type": "stream",
     "text": [
      "\r",
      "Processing columns:  83%|████████▎ | 4365/5273 [19:41<04:24,  3.43it/s]"
     ]
    },
    {
     "name": "stderr",
     "output_type": "stream",
     "text": [
      "\r",
      "Processing columns:  83%|████████▎ | 4366/5273 [19:41<04:10,  3.62it/s]"
     ]
    },
    {
     "name": "stderr",
     "output_type": "stream",
     "text": [
      "\r",
      "Processing columns:  83%|████████▎ | 4367/5273 [19:41<03:59,  3.79it/s]"
     ]
    },
    {
     "name": "stderr",
     "output_type": "stream",
     "text": [
      "\r",
      "Processing columns:  83%|████████▎ | 4368/5273 [19:41<03:46,  4.00it/s]"
     ]
    },
    {
     "name": "stderr",
     "output_type": "stream",
     "text": [
      "\r",
      "Processing columns:  83%|████████▎ | 4369/5273 [19:42<03:53,  3.87it/s]"
     ]
    },
    {
     "name": "stderr",
     "output_type": "stream",
     "text": [
      "\r",
      "Processing columns:  83%|████████▎ | 4370/5273 [19:42<03:42,  4.07it/s]"
     ]
    },
    {
     "name": "stderr",
     "output_type": "stream",
     "text": [
      "\r",
      "Processing columns:  83%|████████▎ | 4371/5273 [19:42<03:45,  4.00it/s]"
     ]
    },
    {
     "name": "stderr",
     "output_type": "stream",
     "text": [
      "\r",
      "Processing columns:  83%|████████▎ | 4372/5273 [19:42<03:42,  4.05it/s]"
     ]
    },
    {
     "name": "stderr",
     "output_type": "stream",
     "text": [
      "\r",
      "Processing columns:  83%|████████▎ | 4373/5273 [19:43<04:51,  3.08it/s]"
     ]
    },
    {
     "name": "stderr",
     "output_type": "stream",
     "text": [
      "\r",
      "Processing columns:  83%|████████▎ | 4374/5273 [19:43<04:35,  3.26it/s]"
     ]
    },
    {
     "name": "stderr",
     "output_type": "stream",
     "text": [
      "\r",
      "Processing columns:  83%|████████▎ | 4375/5273 [19:43<04:11,  3.58it/s]"
     ]
    },
    {
     "name": "stderr",
     "output_type": "stream",
     "text": [
      "\r",
      "Processing columns:  83%|████████▎ | 4376/5273 [19:44<04:05,  3.65it/s]"
     ]
    },
    {
     "name": "stderr",
     "output_type": "stream",
     "text": [
      "\r",
      "Processing columns:  83%|████████▎ | 4377/5273 [19:44<04:04,  3.66it/s]"
     ]
    },
    {
     "name": "stderr",
     "output_type": "stream",
     "text": [
      "\r",
      "Processing columns:  83%|████████▎ | 4378/5273 [19:44<03:47,  3.94it/s]"
     ]
    },
    {
     "name": "stderr",
     "output_type": "stream",
     "text": [
      "\r",
      "Processing columns:  83%|████████▎ | 4379/5273 [19:44<03:52,  3.85it/s]"
     ]
    },
    {
     "name": "stderr",
     "output_type": "stream",
     "text": [
      "\r",
      "Processing columns:  83%|████████▎ | 4380/5273 [19:45<03:42,  4.02it/s]"
     ]
    },
    {
     "name": "stderr",
     "output_type": "stream",
     "text": [
      "\r",
      "Processing columns:  83%|████████▎ | 4381/5273 [19:45<04:15,  3.49it/s]"
     ]
    },
    {
     "name": "stderr",
     "output_type": "stream",
     "text": [
      "\r",
      "Processing columns:  83%|████████▎ | 4382/5273 [19:45<03:59,  3.72it/s]"
     ]
    },
    {
     "name": "stderr",
     "output_type": "stream",
     "text": [
      "\r",
      "Processing columns:  83%|████████▎ | 4383/5273 [19:45<03:58,  3.74it/s]"
     ]
    },
    {
     "name": "stderr",
     "output_type": "stream",
     "text": [
      "\r",
      "Processing columns:  83%|████████▎ | 4384/5273 [19:46<03:43,  3.98it/s]"
     ]
    },
    {
     "name": "stderr",
     "output_type": "stream",
     "text": [
      "\r",
      "Processing columns:  83%|████████▎ | 4385/5273 [19:46<04:13,  3.50it/s]"
     ]
    },
    {
     "name": "stderr",
     "output_type": "stream",
     "text": [
      "\r",
      "Processing columns:  83%|████████▎ | 4386/5273 [19:47<05:43,  2.58it/s]"
     ]
    },
    {
     "name": "stderr",
     "output_type": "stream",
     "text": [
      "\r",
      "Processing columns:  83%|████████▎ | 4387/5273 [19:47<05:05,  2.90it/s]"
     ]
    },
    {
     "name": "stderr",
     "output_type": "stream",
     "text": [
      "\r",
      "Processing columns:  83%|████████▎ | 4388/5273 [19:47<04:28,  3.29it/s]"
     ]
    },
    {
     "name": "stderr",
     "output_type": "stream",
     "text": [
      "\r",
      "Processing columns:  83%|████████▎ | 4389/5273 [19:47<04:21,  3.38it/s]"
     ]
    },
    {
     "name": "stderr",
     "output_type": "stream",
     "text": [
      "\r",
      "Processing columns:  83%|████████▎ | 4390/5273 [19:48<04:13,  3.48it/s]"
     ]
    },
    {
     "name": "stderr",
     "output_type": "stream",
     "text": [
      "\r",
      "Processing columns:  83%|████████▎ | 4391/5273 [19:48<04:00,  3.67it/s]"
     ]
    },
    {
     "name": "stderr",
     "output_type": "stream",
     "text": [
      "\r",
      "Processing columns:  83%|████████▎ | 4392/5273 [19:48<03:50,  3.83it/s]"
     ]
    },
    {
     "name": "stderr",
     "output_type": "stream",
     "text": [
      "\r",
      "Processing columns:  83%|████████▎ | 4393/5273 [19:48<04:01,  3.65it/s]"
     ]
    },
    {
     "name": "stderr",
     "output_type": "stream",
     "text": [
      "\r",
      "Processing columns:  83%|████████▎ | 4394/5273 [19:49<03:44,  3.91it/s]"
     ]
    },
    {
     "name": "stderr",
     "output_type": "stream",
     "text": [
      "\r",
      "Processing columns:  83%|████████▎ | 4395/5273 [19:49<03:42,  3.94it/s]"
     ]
    },
    {
     "name": "stderr",
     "output_type": "stream",
     "text": [
      "\r",
      "Processing columns:  83%|████████▎ | 4396/5273 [19:49<03:39,  4.00it/s]"
     ]
    },
    {
     "name": "stderr",
     "output_type": "stream",
     "text": [
      "\r",
      "Processing columns:  83%|████████▎ | 4397/5273 [19:49<03:34,  4.08it/s]"
     ]
    },
    {
     "name": "stderr",
     "output_type": "stream",
     "text": [
      "\r",
      "Processing columns:  83%|████████▎ | 4398/5273 [19:50<03:25,  4.25it/s]"
     ]
    },
    {
     "name": "stderr",
     "output_type": "stream",
     "text": [
      "\r",
      "Processing columns:  83%|████████▎ | 4399/5273 [19:50<05:13,  2.79it/s]"
     ]
    },
    {
     "name": "stderr",
     "output_type": "stream",
     "text": [
      "\r",
      "Processing columns:  83%|████████▎ | 4400/5273 [19:50<04:51,  2.99it/s]"
     ]
    },
    {
     "name": "stderr",
     "output_type": "stream",
     "text": [
      "\r",
      "Processing columns:  83%|████████▎ | 4401/5273 [19:51<04:20,  3.35it/s]"
     ]
    },
    {
     "name": "stderr",
     "output_type": "stream",
     "text": [
      "\r",
      "Processing columns:  83%|████████▎ | 4402/5273 [19:51<04:13,  3.43it/s]"
     ]
    },
    {
     "name": "stderr",
     "output_type": "stream",
     "text": [
      "\r",
      "Processing columns:  84%|████████▎ | 4403/5273 [19:51<03:59,  3.64it/s]"
     ]
    },
    {
     "name": "stderr",
     "output_type": "stream",
     "text": [
      "\r",
      "Processing columns:  84%|████████▎ | 4404/5273 [19:51<03:49,  3.79it/s]"
     ]
    },
    {
     "name": "stderr",
     "output_type": "stream",
     "text": [
      "\r",
      "Processing columns:  84%|████████▎ | 4405/5273 [19:52<04:11,  3.45it/s]"
     ]
    },
    {
     "name": "stderr",
     "output_type": "stream",
     "text": [
      "\r",
      "Processing columns:  84%|████████▎ | 4406/5273 [19:52<04:00,  3.61it/s]"
     ]
    },
    {
     "name": "stderr",
     "output_type": "stream",
     "text": [
      "\r",
      "Processing columns:  84%|████████▎ | 4407/5273 [19:52<03:41,  3.90it/s]"
     ]
    },
    {
     "name": "stderr",
     "output_type": "stream",
     "text": [
      "\r",
      "Processing columns:  84%|████████▎ | 4408/5273 [19:53<03:50,  3.75it/s]"
     ]
    },
    {
     "name": "stderr",
     "output_type": "stream",
     "text": [
      "\r",
      "Processing columns:  84%|████████▎ | 4409/5273 [19:53<03:47,  3.80it/s]"
     ]
    },
    {
     "name": "stderr",
     "output_type": "stream",
     "text": [
      "\r",
      "Processing columns:  84%|████████▎ | 4410/5273 [19:53<03:32,  4.07it/s]"
     ]
    },
    {
     "name": "stderr",
     "output_type": "stream",
     "text": [
      "\r",
      "Processing columns:  84%|████████▎ | 4411/5273 [19:53<03:53,  3.69it/s]"
     ]
    },
    {
     "name": "stderr",
     "output_type": "stream",
     "text": [
      "\r",
      "Processing columns:  84%|████████▎ | 4412/5273 [19:54<05:35,  2.57it/s]"
     ]
    },
    {
     "name": "stderr",
     "output_type": "stream",
     "text": [
      "\r",
      "Processing columns:  84%|████████▎ | 4413/5273 [19:54<04:56,  2.90it/s]"
     ]
    },
    {
     "name": "stderr",
     "output_type": "stream",
     "text": [
      "\r",
      "Processing columns:  84%|████████▎ | 4414/5273 [19:54<04:33,  3.14it/s]"
     ]
    },
    {
     "name": "stderr",
     "output_type": "stream",
     "text": [
      "\r",
      "Processing columns:  84%|████████▎ | 4415/5273 [19:55<04:43,  3.03it/s]"
     ]
    },
    {
     "name": "stderr",
     "output_type": "stream",
     "text": [
      "\r",
      "Processing columns:  84%|████████▎ | 4416/5273 [19:55<04:32,  3.15it/s]"
     ]
    },
    {
     "name": "stderr",
     "output_type": "stream",
     "text": [
      "\r",
      "Processing columns:  84%|████████▍ | 4417/5273 [19:55<04:08,  3.44it/s]"
     ]
    },
    {
     "name": "stderr",
     "output_type": "stream",
     "text": [
      "\r",
      "Processing columns:  84%|████████▍ | 4418/5273 [19:56<04:02,  3.53it/s]"
     ]
    },
    {
     "name": "stderr",
     "output_type": "stream",
     "text": [
      "\r",
      "Processing columns:  84%|████████▍ | 4419/5273 [19:56<03:54,  3.65it/s]"
     ]
    },
    {
     "name": "stderr",
     "output_type": "stream",
     "text": [
      "\r",
      "Processing columns:  84%|████████▍ | 4420/5273 [19:56<03:44,  3.81it/s]"
     ]
    },
    {
     "name": "stderr",
     "output_type": "stream",
     "text": [
      "\r",
      "Processing columns:  84%|████████▍ | 4421/5273 [19:56<03:34,  3.98it/s]"
     ]
    },
    {
     "name": "stderr",
     "output_type": "stream",
     "text": [
      "\r",
      "Processing columns:  84%|████████▍ | 4422/5273 [19:57<03:23,  4.18it/s]"
     ]
    },
    {
     "name": "stderr",
     "output_type": "stream",
     "text": [
      "\r",
      "Processing columns:  84%|████████▍ | 4423/5273 [19:57<04:07,  3.44it/s]"
     ]
    },
    {
     "name": "stderr",
     "output_type": "stream",
     "text": [
      "\r",
      "Processing columns:  84%|████████▍ | 4424/5273 [19:57<03:57,  3.58it/s]"
     ]
    },
    {
     "name": "stderr",
     "output_type": "stream",
     "text": [
      "\r",
      "Processing columns:  84%|████████▍ | 4425/5273 [19:58<05:12,  2.71it/s]"
     ]
    },
    {
     "name": "stderr",
     "output_type": "stream",
     "text": [
      "\r",
      "Processing columns:  84%|████████▍ | 4426/5273 [19:58<04:46,  2.96it/s]"
     ]
    },
    {
     "name": "stderr",
     "output_type": "stream",
     "text": [
      "\r",
      "Processing columns:  84%|████████▍ | 4427/5273 [19:58<04:10,  3.38it/s]"
     ]
    },
    {
     "name": "stderr",
     "output_type": "stream",
     "text": [
      "\r",
      "Processing columns:  84%|████████▍ | 4428/5273 [19:58<03:54,  3.60it/s]"
     ]
    },
    {
     "name": "stderr",
     "output_type": "stream",
     "text": [
      "\r",
      "Processing columns:  84%|████████▍ | 4429/5273 [19:59<04:05,  3.43it/s]"
     ]
    },
    {
     "name": "stderr",
     "output_type": "stream",
     "text": [
      "\r",
      "Processing columns:  84%|████████▍ | 4430/5273 [19:59<03:53,  3.60it/s]"
     ]
    },
    {
     "name": "stderr",
     "output_type": "stream",
     "text": [
      "\r",
      "Processing columns:  84%|████████▍ | 4431/5273 [19:59<03:39,  3.84it/s]"
     ]
    },
    {
     "name": "stderr",
     "output_type": "stream",
     "text": [
      "\r",
      "Processing columns:  84%|████████▍ | 4432/5273 [20:00<03:58,  3.52it/s]"
     ]
    },
    {
     "name": "stderr",
     "output_type": "stream",
     "text": [
      "\r",
      "Processing columns:  84%|████████▍ | 4433/5273 [20:00<03:43,  3.75it/s]"
     ]
    },
    {
     "name": "stderr",
     "output_type": "stream",
     "text": [
      "\r",
      "Processing columns:  84%|████████▍ | 4434/5273 [20:00<03:36,  3.88it/s]"
     ]
    },
    {
     "name": "stderr",
     "output_type": "stream",
     "text": [
      "\r",
      "Processing columns:  84%|████████▍ | 4435/5273 [20:00<03:39,  3.82it/s]"
     ]
    },
    {
     "name": "stderr",
     "output_type": "stream",
     "text": [
      "\r",
      "Processing columns:  84%|████████▍ | 4436/5273 [20:01<03:41,  3.77it/s]"
     ]
    },
    {
     "name": "stderr",
     "output_type": "stream",
     "text": [
      "\r",
      "Processing columns:  84%|████████▍ | 4437/5273 [20:01<03:29,  3.99it/s]"
     ]
    },
    {
     "name": "stderr",
     "output_type": "stream",
     "text": [
      "\r",
      "Processing columns:  84%|████████▍ | 4438/5273 [20:01<04:35,  3.03it/s]"
     ]
    },
    {
     "name": "stderr",
     "output_type": "stream",
     "text": [
      "\r",
      "Processing columns:  84%|████████▍ | 4439/5273 [20:02<05:06,  2.72it/s]"
     ]
    },
    {
     "name": "stderr",
     "output_type": "stream",
     "text": [
      "\r",
      "Processing columns:  84%|████████▍ | 4440/5273 [20:02<04:44,  2.93it/s]"
     ]
    },
    {
     "name": "stderr",
     "output_type": "stream",
     "text": [
      "\r",
      "Processing columns:  84%|████████▍ | 4441/5273 [20:02<04:14,  3.27it/s]"
     ]
    },
    {
     "name": "stderr",
     "output_type": "stream",
     "text": [
      "\r",
      "Processing columns:  84%|████████▍ | 4442/5273 [20:03<03:57,  3.50it/s]"
     ]
    },
    {
     "name": "stderr",
     "output_type": "stream",
     "text": [
      "\r",
      "Processing columns:  84%|████████▍ | 4443/5273 [20:03<03:56,  3.52it/s]"
     ]
    },
    {
     "name": "stderr",
     "output_type": "stream",
     "text": [
      "\r",
      "Processing columns:  84%|████████▍ | 4444/5273 [20:03<03:44,  3.69it/s]"
     ]
    },
    {
     "name": "stderr",
     "output_type": "stream",
     "text": [
      "\r",
      "Processing columns:  84%|████████▍ | 4445/5273 [20:03<03:40,  3.76it/s]"
     ]
    },
    {
     "name": "stderr",
     "output_type": "stream",
     "text": [
      "\r",
      "Processing columns:  84%|████████▍ | 4446/5273 [20:04<03:37,  3.79it/s]"
     ]
    },
    {
     "name": "stderr",
     "output_type": "stream",
     "text": [
      "\r",
      "Processing columns:  84%|████████▍ | 4447/5273 [20:04<03:34,  3.86it/s]"
     ]
    },
    {
     "name": "stderr",
     "output_type": "stream",
     "text": [
      "\r",
      "Processing columns:  84%|████████▍ | 4448/5273 [20:04<03:25,  4.01it/s]"
     ]
    },
    {
     "name": "stderr",
     "output_type": "stream",
     "text": [
      "\r",
      "Processing columns:  84%|████████▍ | 4449/5273 [20:04<03:18,  4.16it/s]"
     ]
    },
    {
     "name": "stderr",
     "output_type": "stream",
     "text": [
      "\r",
      "Processing columns:  84%|████████▍ | 4450/5273 [20:05<03:23,  4.04it/s]"
     ]
    },
    {
     "name": "stderr",
     "output_type": "stream",
     "text": [
      "\r",
      "Processing columns:  84%|████████▍ | 4451/5273 [20:05<04:23,  3.11it/s]"
     ]
    },
    {
     "name": "stderr",
     "output_type": "stream",
     "text": [
      "\r",
      "Processing columns:  84%|████████▍ | 4452/5273 [20:05<04:29,  3.04it/s]"
     ]
    },
    {
     "name": "stderr",
     "output_type": "stream",
     "text": [
      "\r",
      "Processing columns:  84%|████████▍ | 4453/5273 [20:06<04:04,  3.35it/s]"
     ]
    },
    {
     "name": "stderr",
     "output_type": "stream",
     "text": [
      "\r",
      "Processing columns:  84%|████████▍ | 4454/5273 [20:06<03:51,  3.54it/s]"
     ]
    },
    {
     "name": "stderr",
     "output_type": "stream",
     "text": [
      "\r",
      "Processing columns:  84%|████████▍ | 4455/5273 [20:06<03:40,  3.70it/s]"
     ]
    },
    {
     "name": "stderr",
     "output_type": "stream",
     "text": [
      "\r",
      "Processing columns:  85%|████████▍ | 4456/5273 [20:06<03:44,  3.64it/s]"
     ]
    },
    {
     "name": "stderr",
     "output_type": "stream",
     "text": [
      "\r",
      "Processing columns:  85%|████████▍ | 4457/5273 [20:07<03:42,  3.67it/s]"
     ]
    },
    {
     "name": "stderr",
     "output_type": "stream",
     "text": [
      "\r",
      "Processing columns:  85%|████████▍ | 4458/5273 [20:07<03:38,  3.73it/s]"
     ]
    },
    {
     "name": "stderr",
     "output_type": "stream",
     "text": [
      "\r",
      "Processing columns:  85%|████████▍ | 4459/5273 [20:07<03:22,  4.02it/s]"
     ]
    },
    {
     "name": "stderr",
     "output_type": "stream",
     "text": [
      "\r",
      "Processing columns:  85%|████████▍ | 4460/5273 [20:08<03:57,  3.42it/s]"
     ]
    },
    {
     "name": "stderr",
     "output_type": "stream",
     "text": [
      "\r",
      "Processing columns:  85%|████████▍ | 4461/5273 [20:08<03:35,  3.77it/s]"
     ]
    },
    {
     "name": "stderr",
     "output_type": "stream",
     "text": [
      "\r",
      "Processing columns:  85%|████████▍ | 4462/5273 [20:08<03:29,  3.86it/s]"
     ]
    },
    {
     "name": "stderr",
     "output_type": "stream",
     "text": [
      "\r",
      "Processing columns:  85%|████████▍ | 4463/5273 [20:08<03:32,  3.82it/s]"
     ]
    },
    {
     "name": "stderr",
     "output_type": "stream",
     "text": [
      "\r",
      "Processing columns:  85%|████████▍ | 4464/5273 [20:09<05:22,  2.51it/s]"
     ]
    },
    {
     "name": "stderr",
     "output_type": "stream",
     "text": [
      "\r",
      "Processing columns:  85%|████████▍ | 4465/5273 [20:09<04:46,  2.82it/s]"
     ]
    },
    {
     "name": "stderr",
     "output_type": "stream",
     "text": [
      "\r",
      "Processing columns:  85%|████████▍ | 4466/5273 [20:09<04:12,  3.20it/s]"
     ]
    },
    {
     "name": "stderr",
     "output_type": "stream",
     "text": [
      "\r",
      "Processing columns:  85%|████████▍ | 4467/5273 [20:10<03:55,  3.43it/s]"
     ]
    },
    {
     "name": "stderr",
     "output_type": "stream",
     "text": [
      "\r",
      "Processing columns:  85%|████████▍ | 4468/5273 [20:10<03:34,  3.75it/s]"
     ]
    },
    {
     "name": "stderr",
     "output_type": "stream",
     "text": [
      "\r",
      "Processing columns:  85%|████████▍ | 4469/5273 [20:10<03:33,  3.76it/s]"
     ]
    },
    {
     "name": "stderr",
     "output_type": "stream",
     "text": [
      "\r",
      "Processing columns:  85%|████████▍ | 4470/5273 [20:10<03:34,  3.74it/s]"
     ]
    },
    {
     "name": "stderr",
     "output_type": "stream",
     "text": [
      "\r",
      "Processing columns:  85%|████████▍ | 4471/5273 [20:11<03:25,  3.89it/s]"
     ]
    },
    {
     "name": "stderr",
     "output_type": "stream",
     "text": [
      "\r",
      "Processing columns:  85%|████████▍ | 4472/5273 [20:11<03:26,  3.88it/s]"
     ]
    },
    {
     "name": "stderr",
     "output_type": "stream",
     "text": [
      "\r",
      "Processing columns:  85%|████████▍ | 4473/5273 [20:11<03:47,  3.52it/s]"
     ]
    },
    {
     "name": "stderr",
     "output_type": "stream",
     "text": [
      "\r",
      "Processing columns:  85%|████████▍ | 4474/5273 [20:11<03:32,  3.76it/s]"
     ]
    },
    {
     "name": "stderr",
     "output_type": "stream",
     "text": [
      "\r",
      "Processing columns:  85%|████████▍ | 4475/5273 [20:12<03:30,  3.79it/s]"
     ]
    },
    {
     "name": "stderr",
     "output_type": "stream",
     "text": [
      "\r",
      "Processing columns:  85%|████████▍ | 4476/5273 [20:12<03:21,  3.96it/s]"
     ]
    },
    {
     "name": "stderr",
     "output_type": "stream",
     "text": [
      "\r",
      "Processing columns:  85%|████████▍ | 4477/5273 [20:12<03:17,  4.03it/s]"
     ]
    },
    {
     "name": "stderr",
     "output_type": "stream",
     "text": [
      "\r",
      "Processing columns:  85%|████████▍ | 4478/5273 [20:13<04:39,  2.85it/s]"
     ]
    },
    {
     "name": "stderr",
     "output_type": "stream",
     "text": [
      "\r",
      "Processing columns:  85%|████████▍ | 4479/5273 [20:13<04:10,  3.17it/s]"
     ]
    },
    {
     "name": "stderr",
     "output_type": "stream",
     "text": [
      "\r",
      "Processing columns:  85%|████████▍ | 4480/5273 [20:13<03:51,  3.42it/s]"
     ]
    },
    {
     "name": "stderr",
     "output_type": "stream",
     "text": [
      "\r",
      "Processing columns:  85%|████████▍ | 4481/5273 [20:14<03:56,  3.35it/s]"
     ]
    },
    {
     "name": "stderr",
     "output_type": "stream",
     "text": [
      "\r",
      "Processing columns:  85%|████████▍ | 4482/5273 [20:14<03:35,  3.67it/s]"
     ]
    },
    {
     "name": "stderr",
     "output_type": "stream",
     "text": [
      "\r",
      "Processing columns:  85%|████████▌ | 4483/5273 [20:14<03:25,  3.84it/s]"
     ]
    },
    {
     "name": "stderr",
     "output_type": "stream",
     "text": [
      "\r",
      "Processing columns:  85%|████████▌ | 4484/5273 [20:14<03:20,  3.94it/s]"
     ]
    },
    {
     "name": "stderr",
     "output_type": "stream",
     "text": [
      "\r",
      "Processing columns:  85%|████████▌ | 4485/5273 [20:14<03:15,  4.02it/s]"
     ]
    },
    {
     "name": "stderr",
     "output_type": "stream",
     "text": [
      "\r",
      "Processing columns:  85%|████████▌ | 4486/5273 [20:15<03:18,  3.96it/s]"
     ]
    },
    {
     "name": "stderr",
     "output_type": "stream",
     "text": [
      "\r",
      "Processing columns:  85%|████████▌ | 4487/5273 [20:15<03:17,  3.99it/s]"
     ]
    },
    {
     "name": "stderr",
     "output_type": "stream",
     "text": [
      "\r",
      "Processing columns:  85%|████████▌ | 4488/5273 [20:15<03:04,  4.25it/s]"
     ]
    },
    {
     "name": "stderr",
     "output_type": "stream",
     "text": [
      "\r",
      "Processing columns:  85%|████████▌ | 4489/5273 [20:15<03:04,  4.24it/s]"
     ]
    },
    {
     "name": "stderr",
     "output_type": "stream",
     "text": [
      "\r",
      "Processing columns:  85%|████████▌ | 4490/5273 [20:16<03:00,  4.34it/s]"
     ]
    },
    {
     "name": "stderr",
     "output_type": "stream",
     "text": [
      "\r",
      "Processing columns:  85%|████████▌ | 4491/5273 [20:16<04:20,  3.00it/s]"
     ]
    },
    {
     "name": "stderr",
     "output_type": "stream",
     "text": [
      "\r",
      "Processing columns:  85%|████████▌ | 4492/5273 [20:16<03:59,  3.25it/s]"
     ]
    },
    {
     "name": "stderr",
     "output_type": "stream",
     "text": [
      "\r",
      "Processing columns:  85%|████████▌ | 4493/5273 [20:17<03:45,  3.46it/s]"
     ]
    },
    {
     "name": "stderr",
     "output_type": "stream",
     "text": [
      "\r",
      "Processing columns:  85%|████████▌ | 4494/5273 [20:17<03:34,  3.63it/s]"
     ]
    },
    {
     "name": "stderr",
     "output_type": "stream",
     "text": [
      "\r",
      "Processing columns:  85%|████████▌ | 4495/5273 [20:17<03:20,  3.88it/s]"
     ]
    },
    {
     "name": "stderr",
     "output_type": "stream",
     "text": [
      "\r",
      "Processing columns:  85%|████████▌ | 4496/5273 [20:17<03:28,  3.73it/s]"
     ]
    },
    {
     "name": "stderr",
     "output_type": "stream",
     "text": [
      "\r",
      "Processing columns:  85%|████████▌ | 4497/5273 [20:18<03:20,  3.88it/s]"
     ]
    },
    {
     "name": "stderr",
     "output_type": "stream",
     "text": [
      "\r",
      "Processing columns:  85%|████████▌ | 4498/5273 [20:18<03:17,  3.92it/s]"
     ]
    },
    {
     "name": "stderr",
     "output_type": "stream",
     "text": [
      "\r",
      "Processing columns:  85%|████████▌ | 4499/5273 [20:18<03:08,  4.10it/s]"
     ]
    },
    {
     "name": "stderr",
     "output_type": "stream",
     "text": [
      "\r",
      "Processing columns:  85%|████████▌ | 4500/5273 [20:19<03:36,  3.57it/s]"
     ]
    },
    {
     "name": "stderr",
     "output_type": "stream",
     "text": [
      "\r",
      "Processing columns:  85%|████████▌ | 4501/5273 [20:19<03:36,  3.56it/s]"
     ]
    },
    {
     "name": "stderr",
     "output_type": "stream",
     "text": [
      "\r",
      "Processing columns:  85%|████████▌ | 4502/5273 [20:19<03:25,  3.74it/s]"
     ]
    },
    {
     "name": "stderr",
     "output_type": "stream",
     "text": [
      "\r",
      "Processing columns:  85%|████████▌ | 4503/5273 [20:19<03:11,  4.03it/s]"
     ]
    },
    {
     "name": "stderr",
     "output_type": "stream",
     "text": [
      "\r",
      "Processing columns:  85%|████████▌ | 4504/5273 [20:20<04:35,  2.79it/s]"
     ]
    },
    {
     "name": "stderr",
     "output_type": "stream",
     "text": [
      "\r",
      "Processing columns:  85%|████████▌ | 4505/5273 [20:20<04:01,  3.18it/s]"
     ]
    },
    {
     "name": "stderr",
     "output_type": "stream",
     "text": [
      "\r",
      "Processing columns:  85%|████████▌ | 4506/5273 [20:20<03:56,  3.24it/s]"
     ]
    },
    {
     "name": "stderr",
     "output_type": "stream",
     "text": [
      "\r",
      "Processing columns:  85%|████████▌ | 4507/5273 [20:21<03:50,  3.32it/s]"
     ]
    },
    {
     "name": "stderr",
     "output_type": "stream",
     "text": [
      "\r",
      "Processing columns:  85%|████████▌ | 4508/5273 [20:21<03:27,  3.69it/s]"
     ]
    },
    {
     "name": "stderr",
     "output_type": "stream",
     "text": [
      "\r",
      "Processing columns:  86%|████████▌ | 4509/5273 [20:21<03:32,  3.59it/s]"
     ]
    },
    {
     "name": "stderr",
     "output_type": "stream",
     "text": [
      "\r",
      "Processing columns:  86%|████████▌ | 4510/5273 [20:21<03:28,  3.66it/s]"
     ]
    },
    {
     "name": "stderr",
     "output_type": "stream",
     "text": [
      "\r",
      "Processing columns:  86%|████████▌ | 4511/5273 [20:22<03:22,  3.76it/s]"
     ]
    },
    {
     "name": "stderr",
     "output_type": "stream",
     "text": [
      "\r",
      "Processing columns:  86%|████████▌ | 4512/5273 [20:22<03:17,  3.86it/s]"
     ]
    },
    {
     "name": "stderr",
     "output_type": "stream",
     "text": [
      "\r",
      "Processing columns:  86%|████████▌ | 4513/5273 [20:22<03:13,  3.93it/s]"
     ]
    },
    {
     "name": "stderr",
     "output_type": "stream",
     "text": [
      "\r",
      "Processing columns:  86%|████████▌ | 4514/5273 [20:22<03:02,  4.15it/s]"
     ]
    },
    {
     "name": "stderr",
     "output_type": "stream",
     "text": [
      "\r",
      "Processing columns:  86%|████████▌ | 4515/5273 [20:23<03:25,  3.68it/s]"
     ]
    },
    {
     "name": "stderr",
     "output_type": "stream",
     "text": [
      "\r",
      "Processing columns:  86%|████████▌ | 4516/5273 [20:23<03:15,  3.88it/s]"
     ]
    },
    {
     "name": "stderr",
     "output_type": "stream",
     "text": [
      "\r",
      "Processing columns:  86%|████████▌ | 4517/5273 [20:24<04:57,  2.54it/s]"
     ]
    },
    {
     "name": "stderr",
     "output_type": "stream",
     "text": [
      "\r",
      "Processing columns:  86%|████████▌ | 4518/5273 [20:24<04:17,  2.93it/s]"
     ]
    },
    {
     "name": "stderr",
     "output_type": "stream",
     "text": [
      "\r",
      "Processing columns:  86%|████████▌ | 4519/5273 [20:24<03:59,  3.15it/s]"
     ]
    },
    {
     "name": "stderr",
     "output_type": "stream",
     "text": [
      "\r",
      "Processing columns:  86%|████████▌ | 4520/5273 [20:24<03:47,  3.31it/s]"
     ]
    },
    {
     "name": "stderr",
     "output_type": "stream",
     "text": [
      "\r",
      "Processing columns:  86%|████████▌ | 4521/5273 [20:25<03:36,  3.48it/s]"
     ]
    },
    {
     "name": "stderr",
     "output_type": "stream",
     "text": [
      "\r",
      "Processing columns:  86%|████████▌ | 4522/5273 [20:25<03:24,  3.66it/s]"
     ]
    },
    {
     "name": "stderr",
     "output_type": "stream",
     "text": [
      "\r",
      "Processing columns:  86%|████████▌ | 4523/5273 [20:25<03:31,  3.55it/s]"
     ]
    },
    {
     "name": "stderr",
     "output_type": "stream",
     "text": [
      "\r",
      "Processing columns:  86%|████████▌ | 4524/5273 [20:25<03:18,  3.77it/s]"
     ]
    },
    {
     "name": "stderr",
     "output_type": "stream",
     "text": [
      "\r",
      "Processing columns:  86%|████████▌ | 4525/5273 [20:26<03:51,  3.23it/s]"
     ]
    },
    {
     "name": "stderr",
     "output_type": "stream",
     "text": [
      "\r",
      "Processing columns:  86%|████████▌ | 4526/5273 [20:26<03:37,  3.44it/s]"
     ]
    },
    {
     "name": "stderr",
     "output_type": "stream",
     "text": [
      "\r",
      "Processing columns:  86%|████████▌ | 4527/5273 [20:26<03:25,  3.63it/s]"
     ]
    },
    {
     "name": "stderr",
     "output_type": "stream",
     "text": [
      "\r",
      "Processing columns:  86%|████████▌ | 4528/5273 [20:27<03:18,  3.75it/s]"
     ]
    },
    {
     "name": "stderr",
     "output_type": "stream",
     "text": [
      "\r",
      "Processing columns:  86%|████████▌ | 4529/5273 [20:27<03:12,  3.87it/s]"
     ]
    },
    {
     "name": "stderr",
     "output_type": "stream",
     "text": [
      "\r",
      "Processing columns:  86%|████████▌ | 4530/5273 [20:27<04:52,  2.54it/s]"
     ]
    },
    {
     "name": "stderr",
     "output_type": "stream",
     "text": [
      "\r",
      "Processing columns:  86%|████████▌ | 4531/5273 [20:28<04:19,  2.86it/s]"
     ]
    },
    {
     "name": "stderr",
     "output_type": "stream",
     "text": [
      "\r",
      "Processing columns:  86%|████████▌ | 4532/5273 [20:28<04:00,  3.09it/s]"
     ]
    },
    {
     "name": "stderr",
     "output_type": "stream",
     "text": [
      "\r",
      "Processing columns:  86%|████████▌ | 4533/5273 [20:28<03:39,  3.37it/s]"
     ]
    },
    {
     "name": "stderr",
     "output_type": "stream",
     "text": [
      "\r",
      "Processing columns:  86%|████████▌ | 4534/5273 [20:28<03:29,  3.53it/s]"
     ]
    },
    {
     "name": "stderr",
     "output_type": "stream",
     "text": [
      "\r",
      "Processing columns:  86%|████████▌ | 4535/5273 [20:29<03:16,  3.75it/s]"
     ]
    },
    {
     "name": "stderr",
     "output_type": "stream",
     "text": [
      "\r",
      "Processing columns:  86%|████████▌ | 4536/5273 [20:29<03:21,  3.65it/s]"
     ]
    },
    {
     "name": "stderr",
     "output_type": "stream",
     "text": [
      "\r",
      "Processing columns:  86%|████████▌ | 4537/5273 [20:29<03:14,  3.79it/s]"
     ]
    },
    {
     "name": "stderr",
     "output_type": "stream",
     "text": [
      "\r",
      "Processing columns:  86%|████████▌ | 4538/5273 [20:29<03:10,  3.86it/s]"
     ]
    },
    {
     "name": "stderr",
     "output_type": "stream",
     "text": [
      "\r",
      "Processing columns:  86%|████████▌ | 4539/5273 [20:30<03:00,  4.07it/s]"
     ]
    },
    {
     "name": "stderr",
     "output_type": "stream",
     "text": [
      "\r",
      "Processing columns:  86%|████████▌ | 4540/5273 [20:30<02:58,  4.10it/s]"
     ]
    },
    {
     "name": "stderr",
     "output_type": "stream",
     "text": [
      "\r",
      "Processing columns:  86%|████████▌ | 4541/5273 [20:30<02:56,  4.15it/s]"
     ]
    },
    {
     "name": "stderr",
     "output_type": "stream",
     "text": [
      "\r",
      "Processing columns:  86%|████████▌ | 4542/5273 [20:30<02:54,  4.19it/s]"
     ]
    },
    {
     "name": "stderr",
     "output_type": "stream",
     "text": [
      "\r",
      "Processing columns:  86%|████████▌ | 4543/5273 [20:31<03:54,  3.11it/s]"
     ]
    },
    {
     "name": "stderr",
     "output_type": "stream",
     "text": [
      "\r",
      "Processing columns:  86%|████████▌ | 4544/5273 [20:31<03:44,  3.25it/s]"
     ]
    },
    {
     "name": "stderr",
     "output_type": "stream",
     "text": [
      "\r",
      "Processing columns:  86%|████████▌ | 4545/5273 [20:32<03:44,  3.24it/s]"
     ]
    },
    {
     "name": "stderr",
     "output_type": "stream",
     "text": [
      "\r",
      "Processing columns:  86%|████████▌ | 4546/5273 [20:32<03:30,  3.45it/s]"
     ]
    },
    {
     "name": "stderr",
     "output_type": "stream",
     "text": [
      "\r",
      "Processing columns:  86%|████████▌ | 4547/5273 [20:32<03:22,  3.58it/s]"
     ]
    },
    {
     "name": "stderr",
     "output_type": "stream",
     "text": [
      "\r",
      "Processing columns:  86%|████████▋ | 4548/5273 [20:32<03:13,  3.74it/s]"
     ]
    },
    {
     "name": "stderr",
     "output_type": "stream",
     "text": [
      "\r",
      "Processing columns:  86%|████████▋ | 4549/5273 [20:32<03:05,  3.89it/s]"
     ]
    },
    {
     "name": "stderr",
     "output_type": "stream",
     "text": [
      "\r",
      "Processing columns:  86%|████████▋ | 4550/5273 [20:33<03:14,  3.71it/s]"
     ]
    },
    {
     "name": "stderr",
     "output_type": "stream",
     "text": [
      "\r",
      "Processing columns:  86%|████████▋ | 4551/5273 [20:33<03:05,  3.89it/s]"
     ]
    },
    {
     "name": "stderr",
     "output_type": "stream",
     "text": [
      "\r",
      "Processing columns:  86%|████████▋ | 4552/5273 [20:33<02:58,  4.05it/s]"
     ]
    },
    {
     "name": "stderr",
     "output_type": "stream",
     "text": [
      "\r",
      "Processing columns:  86%|████████▋ | 4553/5273 [20:33<02:59,  4.01it/s]"
     ]
    },
    {
     "name": "stderr",
     "output_type": "stream",
     "text": [
      "\r",
      "Processing columns:  86%|████████▋ | 4554/5273 [20:34<02:59,  4.00it/s]"
     ]
    },
    {
     "name": "stderr",
     "output_type": "stream",
     "text": [
      "\r",
      "Processing columns:  86%|████████▋ | 4555/5273 [20:34<02:52,  4.16it/s]"
     ]
    },
    {
     "name": "stderr",
     "output_type": "stream",
     "text": [
      "\r",
      "Processing columns:  86%|████████▋ | 4556/5273 [20:34<03:50,  3.11it/s]"
     ]
    },
    {
     "name": "stderr",
     "output_type": "stream",
     "text": [
      "\r",
      "Processing columns:  86%|████████▋ | 4557/5273 [20:35<03:45,  3.18it/s]"
     ]
    },
    {
     "name": "stderr",
     "output_type": "stream",
     "text": [
      "\r",
      "Processing columns:  86%|████████▋ | 4558/5273 [20:35<03:29,  3.42it/s]"
     ]
    },
    {
     "name": "stderr",
     "output_type": "stream",
     "text": [
      "\r",
      "Processing columns:  86%|████████▋ | 4559/5273 [20:35<03:26,  3.45it/s]"
     ]
    },
    {
     "name": "stderr",
     "output_type": "stream",
     "text": [
      "\r",
      "Processing columns:  86%|████████▋ | 4560/5273 [20:36<03:13,  3.69it/s]"
     ]
    },
    {
     "name": "stderr",
     "output_type": "stream",
     "text": [
      "\r",
      "Processing columns:  86%|████████▋ | 4561/5273 [20:36<03:12,  3.71it/s]"
     ]
    },
    {
     "name": "stderr",
     "output_type": "stream",
     "text": [
      "\r",
      "Processing columns:  87%|████████▋ | 4562/5273 [20:36<03:20,  3.54it/s]"
     ]
    },
    {
     "name": "stderr",
     "output_type": "stream",
     "text": [
      "\r",
      "Processing columns:  87%|████████▋ | 4563/5273 [20:36<03:11,  3.70it/s]"
     ]
    },
    {
     "name": "stderr",
     "output_type": "stream",
     "text": [
      "\r",
      "Processing columns:  87%|████████▋ | 4564/5273 [20:37<03:01,  3.90it/s]"
     ]
    },
    {
     "name": "stderr",
     "output_type": "stream",
     "text": [
      "\r",
      "Processing columns:  87%|████████▋ | 4565/5273 [20:37<02:59,  3.94it/s]"
     ]
    },
    {
     "name": "stderr",
     "output_type": "stream",
     "text": [
      "\r",
      "Processing columns:  87%|████████▋ | 4566/5273 [20:37<03:00,  3.91it/s]"
     ]
    },
    {
     "name": "stderr",
     "output_type": "stream",
     "text": [
      "\r",
      "Processing columns:  87%|████████▋ | 4567/5273 [20:37<02:59,  3.93it/s]"
     ]
    },
    {
     "name": "stderr",
     "output_type": "stream",
     "text": [
      "\r",
      "Processing columns:  87%|████████▋ | 4568/5273 [20:38<02:52,  4.09it/s]"
     ]
    },
    {
     "name": "stderr",
     "output_type": "stream",
     "text": [
      "\r",
      "Processing columns:  87%|████████▋ | 4569/5273 [20:38<02:47,  4.19it/s]"
     ]
    },
    {
     "name": "stderr",
     "output_type": "stream",
     "text": [
      "\r",
      "Processing columns:  87%|████████▋ | 4570/5273 [20:38<04:04,  2.88it/s]"
     ]
    },
    {
     "name": "stderr",
     "output_type": "stream",
     "text": [
      "\r",
      "Processing columns:  87%|████████▋ | 4571/5273 [20:39<03:42,  3.16it/s]"
     ]
    },
    {
     "name": "stderr",
     "output_type": "stream",
     "text": [
      "\r",
      "Processing columns:  87%|████████▋ | 4572/5273 [20:39<03:26,  3.39it/s]"
     ]
    },
    {
     "name": "stderr",
     "output_type": "stream",
     "text": [
      "\r",
      "Processing columns:  87%|████████▋ | 4573/5273 [20:39<03:20,  3.49it/s]"
     ]
    },
    {
     "name": "stderr",
     "output_type": "stream",
     "text": [
      "\r",
      "Processing columns:  87%|████████▋ | 4574/5273 [20:39<03:15,  3.58it/s]"
     ]
    },
    {
     "name": "stderr",
     "output_type": "stream",
     "text": [
      "\r",
      "Processing columns:  87%|████████▋ | 4575/5273 [20:40<03:06,  3.75it/s]"
     ]
    },
    {
     "name": "stderr",
     "output_type": "stream",
     "text": [
      "\r",
      "Processing columns:  87%|████████▋ | 4576/5273 [20:40<03:05,  3.76it/s]"
     ]
    },
    {
     "name": "stderr",
     "output_type": "stream",
     "text": [
      "\r",
      "Processing columns:  87%|████████▋ | 4577/5273 [20:40<03:11,  3.63it/s]"
     ]
    },
    {
     "name": "stderr",
     "output_type": "stream",
     "text": [
      "\r",
      "Processing columns:  87%|████████▋ | 4578/5273 [20:40<03:00,  3.86it/s]"
     ]
    },
    {
     "name": "stderr",
     "output_type": "stream",
     "text": [
      "\r",
      "Processing columns:  87%|████████▋ | 4579/5273 [20:41<02:54,  3.97it/s]"
     ]
    },
    {
     "name": "stderr",
     "output_type": "stream",
     "text": [
      "\r",
      "Processing columns:  87%|████████▋ | 4580/5273 [20:41<02:50,  4.06it/s]"
     ]
    },
    {
     "name": "stderr",
     "output_type": "stream",
     "text": [
      "\r",
      "Processing columns:  87%|████████▋ | 4581/5273 [20:41<02:56,  3.91it/s]"
     ]
    },
    {
     "name": "stderr",
     "output_type": "stream",
     "text": [
      "\r",
      "Processing columns:  87%|████████▋ | 4582/5273 [20:41<02:51,  4.03it/s]"
     ]
    },
    {
     "name": "stderr",
     "output_type": "stream",
     "text": [
      "\r",
      "Processing columns:  87%|████████▋ | 4583/5273 [20:42<03:48,  3.03it/s]"
     ]
    },
    {
     "name": "stderr",
     "output_type": "stream",
     "text": [
      "\r",
      "Processing columns:  87%|████████▋ | 4584/5273 [20:42<03:30,  3.27it/s]"
     ]
    },
    {
     "name": "stderr",
     "output_type": "stream",
     "text": [
      "\r",
      "Processing columns:  87%|████████▋ | 4585/5273 [20:42<03:25,  3.35it/s]"
     ]
    },
    {
     "name": "stderr",
     "output_type": "stream",
     "text": [
      "\r",
      "Processing columns:  87%|████████▋ | 4586/5273 [20:43<03:10,  3.61it/s]"
     ]
    },
    {
     "name": "stderr",
     "output_type": "stream",
     "text": [
      "\r",
      "Processing columns:  87%|████████▋ | 4587/5273 [20:43<03:07,  3.65it/s]"
     ]
    },
    {
     "name": "stderr",
     "output_type": "stream",
     "text": [
      "\r",
      "Processing columns:  87%|████████▋ | 4588/5273 [20:43<02:54,  3.92it/s]"
     ]
    },
    {
     "name": "stderr",
     "output_type": "stream",
     "text": [
      "\r",
      "Processing columns:  87%|████████▋ | 4589/5273 [20:43<02:52,  3.97it/s]"
     ]
    },
    {
     "name": "stderr",
     "output_type": "stream",
     "text": [
      "\r",
      "Processing columns:  87%|████████▋ | 4590/5273 [20:44<02:48,  4.05it/s]"
     ]
    },
    {
     "name": "stderr",
     "output_type": "stream",
     "text": [
      "\r",
      "Processing columns:  87%|████████▋ | 4591/5273 [20:44<02:44,  4.14it/s]"
     ]
    },
    {
     "name": "stderr",
     "output_type": "stream",
     "text": [
      "\r",
      "Processing columns:  87%|████████▋ | 4592/5273 [20:44<02:54,  3.90it/s]"
     ]
    },
    {
     "name": "stderr",
     "output_type": "stream",
     "text": [
      "\r",
      "Processing columns:  87%|████████▋ | 4593/5273 [20:44<02:49,  4.01it/s]"
     ]
    },
    {
     "name": "stderr",
     "output_type": "stream",
     "text": [
      "\r",
      "Processing columns:  87%|████████▋ | 4594/5273 [20:45<02:50,  3.99it/s]"
     ]
    },
    {
     "name": "stderr",
     "output_type": "stream",
     "text": [
      "\r",
      "Processing columns:  87%|████████▋ | 4595/5273 [20:45<02:55,  3.86it/s]"
     ]
    },
    {
     "name": "stderr",
     "output_type": "stream",
     "text": [
      "\r",
      "Processing columns:  87%|████████▋ | 4596/5273 [20:46<04:20,  2.60it/s]"
     ]
    },
    {
     "name": "stderr",
     "output_type": "stream",
     "text": [
      "\r",
      "Processing columns:  87%|████████▋ | 4597/5273 [20:46<04:06,  2.75it/s]"
     ]
    },
    {
     "name": "stderr",
     "output_type": "stream",
     "text": [
      "\r",
      "Processing columns:  87%|████████▋ | 4598/5273 [20:46<03:36,  3.12it/s]"
     ]
    },
    {
     "name": "stderr",
     "output_type": "stream",
     "text": [
      "\r",
      "Processing columns:  87%|████████▋ | 4599/5273 [20:46<03:29,  3.22it/s]"
     ]
    },
    {
     "name": "stderr",
     "output_type": "stream",
     "text": [
      "\r",
      "Processing columns:  87%|████████▋ | 4600/5273 [20:47<03:13,  3.48it/s]"
     ]
    },
    {
     "name": "stderr",
     "output_type": "stream",
     "text": [
      "\r",
      "Processing columns:  87%|████████▋ | 4601/5273 [20:47<03:16,  3.42it/s]"
     ]
    },
    {
     "name": "stderr",
     "output_type": "stream",
     "text": [
      "\r",
      "Processing columns:  87%|████████▋ | 4602/5273 [20:47<03:01,  3.70it/s]"
     ]
    },
    {
     "name": "stderr",
     "output_type": "stream",
     "text": [
      "\r",
      "Processing columns:  87%|████████▋ | 4603/5273 [20:47<02:53,  3.85it/s]"
     ]
    },
    {
     "name": "stderr",
     "output_type": "stream",
     "text": [
      "\r",
      "Processing columns:  87%|████████▋ | 4604/5273 [20:48<02:55,  3.81it/s]"
     ]
    },
    {
     "name": "stderr",
     "output_type": "stream",
     "text": [
      "\r",
      "Processing columns:  87%|████████▋ | 4605/5273 [20:48<02:50,  3.92it/s]"
     ]
    },
    {
     "name": "stderr",
     "output_type": "stream",
     "text": [
      "\r",
      "Processing columns:  87%|████████▋ | 4606/5273 [20:48<03:00,  3.69it/s]"
     ]
    },
    {
     "name": "stderr",
     "output_type": "stream",
     "text": [
      "\r",
      "Processing columns:  87%|████████▋ | 4607/5273 [20:48<02:51,  3.89it/s]"
     ]
    },
    {
     "name": "stderr",
     "output_type": "stream",
     "text": [
      "\r",
      "Processing columns:  87%|████████▋ | 4608/5273 [20:49<02:42,  4.09it/s]"
     ]
    },
    {
     "name": "stderr",
     "output_type": "stream",
     "text": [
      "\r",
      "Processing columns:  87%|████████▋ | 4609/5273 [20:49<03:41,  3.00it/s]"
     ]
    },
    {
     "name": "stderr",
     "output_type": "stream",
     "text": [
      "\r",
      "Processing columns:  87%|████████▋ | 4610/5273 [20:49<03:28,  3.18it/s]"
     ]
    },
    {
     "name": "stderr",
     "output_type": "stream",
     "text": [
      "\r",
      "Processing columns:  87%|████████▋ | 4611/5273 [20:50<03:10,  3.47it/s]"
     ]
    },
    {
     "name": "stderr",
     "output_type": "stream",
     "text": [
      "\r",
      "Processing columns:  87%|████████▋ | 4612/5273 [20:50<03:01,  3.63it/s]"
     ]
    },
    {
     "name": "stderr",
     "output_type": "stream",
     "text": [
      "\r",
      "Processing columns:  87%|████████▋ | 4613/5273 [20:50<02:51,  3.85it/s]"
     ]
    },
    {
     "name": "stderr",
     "output_type": "stream",
     "text": [
      "\r",
      "Processing columns:  88%|████████▊ | 4614/5273 [20:50<03:03,  3.59it/s]"
     ]
    },
    {
     "name": "stderr",
     "output_type": "stream",
     "text": [
      "\r",
      "Processing columns:  88%|████████▊ | 4615/5273 [20:51<03:04,  3.56it/s]"
     ]
    },
    {
     "name": "stderr",
     "output_type": "stream",
     "text": [
      "\r",
      "Processing columns:  88%|████████▊ | 4616/5273 [20:51<02:54,  3.77it/s]"
     ]
    },
    {
     "name": "stderr",
     "output_type": "stream",
     "text": [
      "\r",
      "Processing columns:  88%|████████▊ | 4617/5273 [20:51<02:51,  3.82it/s]"
     ]
    },
    {
     "name": "stderr",
     "output_type": "stream",
     "text": [
      "\r",
      "Processing columns:  88%|████████▊ | 4618/5273 [20:51<02:47,  3.91it/s]"
     ]
    },
    {
     "name": "stderr",
     "output_type": "stream",
     "text": [
      "\r",
      "Processing columns:  88%|████████▊ | 4619/5273 [20:52<02:45,  3.96it/s]"
     ]
    },
    {
     "name": "stderr",
     "output_type": "stream",
     "text": [
      "\r",
      "Processing columns:  88%|████████▊ | 4620/5273 [20:52<02:48,  3.87it/s]"
     ]
    },
    {
     "name": "stderr",
     "output_type": "stream",
     "text": [
      "\r",
      "Processing columns:  88%|████████▊ | 4621/5273 [20:52<02:43,  3.99it/s]"
     ]
    },
    {
     "name": "stderr",
     "output_type": "stream",
     "text": [
      "\r",
      "Processing columns:  88%|████████▊ | 4622/5273 [20:52<02:40,  4.05it/s]"
     ]
    },
    {
     "name": "stderr",
     "output_type": "stream",
     "text": [
      "\r",
      "Processing columns:  88%|████████▊ | 4623/5273 [20:53<03:31,  3.07it/s]"
     ]
    },
    {
     "name": "stderr",
     "output_type": "stream",
     "text": [
      "\r",
      "Processing columns:  88%|████████▊ | 4624/5273 [20:53<03:23,  3.18it/s]"
     ]
    },
    {
     "name": "stderr",
     "output_type": "stream",
     "text": [
      "\r",
      "Processing columns:  88%|████████▊ | 4625/5273 [20:54<03:05,  3.49it/s]"
     ]
    },
    {
     "name": "stderr",
     "output_type": "stream",
     "text": [
      "\r",
      "Processing columns:  88%|████████▊ | 4626/5273 [20:54<02:52,  3.76it/s]"
     ]
    },
    {
     "name": "stderr",
     "output_type": "stream",
     "text": [
      "\r",
      "Processing columns:  88%|████████▊ | 4627/5273 [20:54<02:55,  3.68it/s]"
     ]
    },
    {
     "name": "stderr",
     "output_type": "stream",
     "text": [
      "\r",
      "Processing columns:  88%|████████▊ | 4628/5273 [20:54<02:47,  3.85it/s]"
     ]
    },
    {
     "name": "stderr",
     "output_type": "stream",
     "text": [
      "\r",
      "Processing columns:  88%|████████▊ | 4629/5273 [20:54<02:44,  3.91it/s]"
     ]
    },
    {
     "name": "stderr",
     "output_type": "stream",
     "text": [
      "\r",
      "Processing columns:  88%|████████▊ | 4630/5273 [20:55<02:36,  4.11it/s]"
     ]
    },
    {
     "name": "stderr",
     "output_type": "stream",
     "text": [
      "\r",
      "Processing columns:  88%|████████▊ | 4631/5273 [20:55<02:35,  4.13it/s]"
     ]
    },
    {
     "name": "stderr",
     "output_type": "stream",
     "text": [
      "\r",
      "Processing columns:  88%|████████▊ | 4632/5273 [20:55<02:37,  4.07it/s]"
     ]
    },
    {
     "name": "stderr",
     "output_type": "stream",
     "text": [
      "\r",
      "Processing columns:  88%|████████▊ | 4633/5273 [20:55<02:32,  4.20it/s]"
     ]
    },
    {
     "name": "stderr",
     "output_type": "stream",
     "text": [
      "\r",
      "Processing columns:  88%|████████▊ | 4634/5273 [20:56<02:40,  3.99it/s]"
     ]
    },
    {
     "name": "stderr",
     "output_type": "stream",
     "text": [
      "\r",
      "Processing columns:  88%|████████▊ | 4635/5273 [20:56<02:37,  4.05it/s]"
     ]
    },
    {
     "name": "stderr",
     "output_type": "stream",
     "text": [
      "\r",
      "Processing columns:  88%|████████▊ | 4636/5273 [20:57<03:56,  2.69it/s]"
     ]
    },
    {
     "name": "stderr",
     "output_type": "stream",
     "text": [
      "\r",
      "Processing columns:  88%|████████▊ | 4637/5273 [20:57<03:28,  3.04it/s]"
     ]
    },
    {
     "name": "stderr",
     "output_type": "stream",
     "text": [
      "\r",
      "Processing columns:  88%|████████▊ | 4638/5273 [20:57<03:07,  3.39it/s]"
     ]
    },
    {
     "name": "stderr",
     "output_type": "stream",
     "text": [
      "\r",
      "Processing columns:  88%|████████▊ | 4639/5273 [20:57<02:53,  3.66it/s]"
     ]
    },
    {
     "name": "stderr",
     "output_type": "stream",
     "text": [
      "\r",
      "Processing columns:  88%|████████▊ | 4640/5273 [20:57<02:43,  3.87it/s]"
     ]
    },
    {
     "name": "stderr",
     "output_type": "stream",
     "text": [
      "\r",
      "Processing columns:  88%|████████▊ | 4641/5273 [20:58<02:39,  3.96it/s]"
     ]
    },
    {
     "name": "stderr",
     "output_type": "stream",
     "text": [
      "\r",
      "Processing columns:  88%|████████▊ | 4642/5273 [20:58<02:32,  4.13it/s]"
     ]
    },
    {
     "name": "stderr",
     "output_type": "stream",
     "text": [
      "\r",
      "Processing columns:  88%|████████▊ | 4643/5273 [20:58<02:30,  4.18it/s]"
     ]
    },
    {
     "name": "stderr",
     "output_type": "stream",
     "text": [
      "\r",
      "Processing columns:  88%|████████▊ | 4644/5273 [20:58<02:30,  4.18it/s]"
     ]
    },
    {
     "name": "stderr",
     "output_type": "stream",
     "text": [
      "\r",
      "Processing columns:  88%|████████▊ | 4645/5273 [20:59<02:28,  4.24it/s]"
     ]
    },
    {
     "name": "stderr",
     "output_type": "stream",
     "text": [
      "\r",
      "Processing columns:  88%|████████▊ | 4646/5273 [20:59<02:43,  3.83it/s]"
     ]
    },
    {
     "name": "stderr",
     "output_type": "stream",
     "text": [
      "\r",
      "Processing columns:  88%|████████▊ | 4647/5273 [20:59<02:46,  3.76it/s]"
     ]
    },
    {
     "name": "stderr",
     "output_type": "stream",
     "text": [
      "\r",
      "Processing columns:  88%|████████▊ | 4648/5273 [20:59<02:35,  4.03it/s]"
     ]
    },
    {
     "name": "stderr",
     "output_type": "stream",
     "text": [
      "\r",
      "Processing columns:  88%|████████▊ | 4649/5273 [21:00<03:18,  3.15it/s]"
     ]
    },
    {
     "name": "stderr",
     "output_type": "stream",
     "text": [
      "\r",
      "Processing columns:  88%|████████▊ | 4650/5273 [21:00<03:08,  3.31it/s]"
     ]
    },
    {
     "name": "stderr",
     "output_type": "stream",
     "text": [
      "\r",
      "Processing columns:  88%|████████▊ | 4651/5273 [21:00<02:59,  3.47it/s]"
     ]
    },
    {
     "name": "stderr",
     "output_type": "stream",
     "text": [
      "\r",
      "Processing columns:  88%|████████▊ | 4652/5273 [21:01<02:44,  3.77it/s]"
     ]
    },
    {
     "name": "stderr",
     "output_type": "stream",
     "text": [
      "\r",
      "Processing columns:  88%|████████▊ | 4653/5273 [21:01<02:47,  3.71it/s]"
     ]
    },
    {
     "name": "stderr",
     "output_type": "stream",
     "text": [
      "\r",
      "Processing columns:  88%|████████▊ | 4654/5273 [21:01<02:48,  3.68it/s]"
     ]
    },
    {
     "name": "stderr",
     "output_type": "stream",
     "text": [
      "\r",
      "Processing columns:  88%|████████▊ | 4655/5273 [21:01<02:42,  3.80it/s]"
     ]
    },
    {
     "name": "stderr",
     "output_type": "stream",
     "text": [
      "\r",
      "Processing columns:  88%|████████▊ | 4656/5273 [21:02<02:31,  4.08it/s]"
     ]
    },
    {
     "name": "stderr",
     "output_type": "stream",
     "text": [
      "\r",
      "Processing columns:  88%|████████▊ | 4657/5273 [21:02<02:29,  4.13it/s]"
     ]
    },
    {
     "name": "stderr",
     "output_type": "stream",
     "text": [
      "\r",
      "Processing columns:  88%|████████▊ | 4658/5273 [21:02<02:22,  4.31it/s]"
     ]
    },
    {
     "name": "stderr",
     "output_type": "stream",
     "text": [
      "\r",
      "Processing columns:  88%|████████▊ | 4659/5273 [21:02<02:36,  3.93it/s]"
     ]
    },
    {
     "name": "stderr",
     "output_type": "stream",
     "text": [
      "\r",
      "Processing columns:  88%|████████▊ | 4660/5273 [21:03<02:35,  3.94it/s]"
     ]
    },
    {
     "name": "stderr",
     "output_type": "stream",
     "text": [
      "\r",
      "Processing columns:  88%|████████▊ | 4661/5273 [21:03<02:28,  4.11it/s]"
     ]
    },
    {
     "name": "stderr",
     "output_type": "stream",
     "text": [
      "\r",
      "Processing columns:  88%|████████▊ | 4662/5273 [21:03<03:11,  3.19it/s]"
     ]
    },
    {
     "name": "stderr",
     "output_type": "stream",
     "text": [
      "\r",
      "Processing columns:  88%|████████▊ | 4663/5273 [21:04<02:53,  3.51it/s]"
     ]
    },
    {
     "name": "stderr",
     "output_type": "stream",
     "text": [
      "\r",
      "Processing columns:  88%|████████▊ | 4664/5273 [21:04<02:52,  3.54it/s]"
     ]
    },
    {
     "name": "stderr",
     "output_type": "stream",
     "text": [
      "\r",
      "Processing columns:  88%|████████▊ | 4665/5273 [21:04<02:42,  3.74it/s]"
     ]
    },
    {
     "name": "stderr",
     "output_type": "stream",
     "text": [
      "\r",
      "Processing columns:  88%|████████▊ | 4666/5273 [21:04<02:42,  3.73it/s]"
     ]
    },
    {
     "name": "stderr",
     "output_type": "stream",
     "text": [
      "\r",
      "Processing columns:  89%|████████▊ | 4667/5273 [21:05<02:49,  3.57it/s]"
     ]
    },
    {
     "name": "stderr",
     "output_type": "stream",
     "text": [
      "\r",
      "Processing columns:  89%|████████▊ | 4668/5273 [21:05<02:34,  3.90it/s]"
     ]
    },
    {
     "name": "stderr",
     "output_type": "stream",
     "text": [
      "\r",
      "Processing columns:  89%|████████▊ | 4669/5273 [21:05<02:25,  4.14it/s]"
     ]
    },
    {
     "name": "stderr",
     "output_type": "stream",
     "text": [
      "\r",
      "Processing columns:  89%|████████▊ | 4670/5273 [21:05<02:36,  3.86it/s]"
     ]
    },
    {
     "name": "stderr",
     "output_type": "stream",
     "text": [
      "\r",
      "Processing columns:  89%|████████▊ | 4671/5273 [21:06<02:28,  4.06it/s]"
     ]
    },
    {
     "name": "stderr",
     "output_type": "stream",
     "text": [
      "\r",
      "Processing columns:  89%|████████▊ | 4672/5273 [21:06<02:30,  4.00it/s]"
     ]
    },
    {
     "name": "stderr",
     "output_type": "stream",
     "text": [
      "\r",
      "Processing columns:  89%|████████▊ | 4673/5273 [21:06<02:25,  4.11it/s]"
     ]
    },
    {
     "name": "stderr",
     "output_type": "stream",
     "text": [
      "\r",
      "Processing columns:  89%|████████▊ | 4674/5273 [21:06<02:37,  3.80it/s]"
     ]
    },
    {
     "name": "stderr",
     "output_type": "stream",
     "text": [
      "\r",
      "Processing columns:  89%|████████▊ | 4675/5273 [21:07<03:09,  3.16it/s]"
     ]
    },
    {
     "name": "stderr",
     "output_type": "stream",
     "text": [
      "\r",
      "Processing columns:  89%|████████▊ | 4676/5273 [21:07<02:53,  3.45it/s]"
     ]
    },
    {
     "name": "stderr",
     "output_type": "stream",
     "text": [
      "\r",
      "Processing columns:  89%|████████▊ | 4677/5273 [21:07<02:44,  3.61it/s]"
     ]
    },
    {
     "name": "stderr",
     "output_type": "stream",
     "text": [
      "\r",
      "Processing columns:  89%|████████▊ | 4678/5273 [21:08<02:37,  3.78it/s]"
     ]
    },
    {
     "name": "stderr",
     "output_type": "stream",
     "text": [
      "\r",
      "Processing columns:  89%|████████▊ | 4679/5273 [21:08<02:30,  3.95it/s]"
     ]
    },
    {
     "name": "stderr",
     "output_type": "stream",
     "text": [
      "\r",
      "Processing columns:  89%|████████▉ | 4680/5273 [21:08<02:21,  4.19it/s]"
     ]
    },
    {
     "name": "stderr",
     "output_type": "stream",
     "text": [
      "\r",
      "Processing columns:  89%|████████▉ | 4681/5273 [21:08<02:23,  4.12it/s]"
     ]
    },
    {
     "name": "stderr",
     "output_type": "stream",
     "text": [
      "\r",
      "Processing columns:  89%|████████▉ | 4682/5273 [21:08<02:18,  4.25it/s]"
     ]
    },
    {
     "name": "stderr",
     "output_type": "stream",
     "text": [
      "\r",
      "Processing columns:  89%|████████▉ | 4683/5273 [21:09<02:28,  3.98it/s]"
     ]
    },
    {
     "name": "stderr",
     "output_type": "stream",
     "text": [
      "\r",
      "Processing columns:  89%|████████▉ | 4684/5273 [21:09<02:25,  4.06it/s]"
     ]
    },
    {
     "name": "stderr",
     "output_type": "stream",
     "text": [
      "\r",
      "Processing columns:  89%|████████▉ | 4685/5273 [21:09<02:22,  4.12it/s]"
     ]
    },
    {
     "name": "stderr",
     "output_type": "stream",
     "text": [
      "\r",
      "Processing columns:  89%|████████▉ | 4686/5273 [21:09<02:22,  4.12it/s]"
     ]
    },
    {
     "name": "stderr",
     "output_type": "stream",
     "text": [
      "\r",
      "Processing columns:  89%|████████▉ | 4687/5273 [21:10<02:25,  4.03it/s]"
     ]
    },
    {
     "name": "stderr",
     "output_type": "stream",
     "text": [
      "\r",
      "Processing columns:  89%|████████▉ | 4688/5273 [21:10<03:12,  3.04it/s]"
     ]
    },
    {
     "name": "stderr",
     "output_type": "stream",
     "text": [
      "\r",
      "Processing columns:  89%|████████▉ | 4689/5273 [21:10<02:57,  3.29it/s]"
     ]
    },
    {
     "name": "stderr",
     "output_type": "stream",
     "text": [
      "\r",
      "Processing columns:  89%|████████▉ | 4690/5273 [21:11<02:51,  3.40it/s]"
     ]
    },
    {
     "name": "stderr",
     "output_type": "stream",
     "text": [
      "\r",
      "Processing columns:  89%|████████▉ | 4691/5273 [21:11<02:42,  3.57it/s]"
     ]
    },
    {
     "name": "stderr",
     "output_type": "stream",
     "text": [
      "\r",
      "Processing columns:  89%|████████▉ | 4692/5273 [21:11<02:45,  3.52it/s]"
     ]
    },
    {
     "name": "stderr",
     "output_type": "stream",
     "text": [
      "\r",
      "Processing columns:  89%|████████▉ | 4693/5273 [21:12<02:36,  3.71it/s]"
     ]
    },
    {
     "name": "stderr",
     "output_type": "stream",
     "text": [
      "\r",
      "Processing columns:  89%|████████▉ | 4694/5273 [21:12<02:26,  3.95it/s]"
     ]
    },
    {
     "name": "stderr",
     "output_type": "stream",
     "text": [
      "\r",
      "Processing columns:  89%|████████▉ | 4695/5273 [21:12<02:23,  4.03it/s]"
     ]
    },
    {
     "name": "stderr",
     "output_type": "stream",
     "text": [
      "\r",
      "Processing columns:  89%|████████▉ | 4696/5273 [21:12<02:22,  4.05it/s]"
     ]
    },
    {
     "name": "stderr",
     "output_type": "stream",
     "text": [
      "\r",
      "Processing columns:  89%|████████▉ | 4697/5273 [21:12<02:19,  4.14it/s]"
     ]
    },
    {
     "name": "stderr",
     "output_type": "stream",
     "text": [
      "\r",
      "Processing columns:  89%|████████▉ | 4698/5273 [21:13<02:26,  3.92it/s]"
     ]
    },
    {
     "name": "stderr",
     "output_type": "stream",
     "text": [
      "\r",
      "Processing columns:  89%|████████▉ | 4699/5273 [21:13<02:22,  4.03it/s]"
     ]
    },
    {
     "name": "stderr",
     "output_type": "stream",
     "text": [
      "\r",
      "Processing columns:  89%|████████▉ | 4700/5273 [21:13<02:19,  4.11it/s]"
     ]
    },
    {
     "name": "stderr",
     "output_type": "stream",
     "text": [
      "\r",
      "Processing columns:  89%|████████▉ | 4701/5273 [21:14<03:06,  3.06it/s]"
     ]
    },
    {
     "name": "stderr",
     "output_type": "stream",
     "text": [
      "\r",
      "Processing columns:  89%|████████▉ | 4702/5273 [21:14<02:47,  3.41it/s]"
     ]
    },
    {
     "name": "stderr",
     "output_type": "stream",
     "text": [
      "\r",
      "Processing columns:  89%|████████▉ | 4703/5273 [21:14<02:38,  3.60it/s]"
     ]
    },
    {
     "name": "stderr",
     "output_type": "stream",
     "text": [
      "\r",
      "Processing columns:  89%|████████▉ | 4704/5273 [21:14<02:26,  3.89it/s]"
     ]
    },
    {
     "name": "stderr",
     "output_type": "stream",
     "text": [
      "\r",
      "Processing columns:  89%|████████▉ | 4705/5273 [21:15<02:24,  3.92it/s]"
     ]
    },
    {
     "name": "stderr",
     "output_type": "stream",
     "text": [
      "\r",
      "Processing columns:  89%|████████▉ | 4706/5273 [21:15<02:23,  3.94it/s]"
     ]
    },
    {
     "name": "stderr",
     "output_type": "stream",
     "text": [
      "\r",
      "Processing columns:  89%|████████▉ | 4707/5273 [21:15<02:22,  3.97it/s]"
     ]
    },
    {
     "name": "stderr",
     "output_type": "stream",
     "text": [
      "\r",
      "Processing columns:  89%|████████▉ | 4708/5273 [21:15<02:22,  3.96it/s]"
     ]
    },
    {
     "name": "stderr",
     "output_type": "stream",
     "text": [
      "\r",
      "Processing columns:  89%|████████▉ | 4709/5273 [21:16<02:23,  3.93it/s]"
     ]
    },
    {
     "name": "stderr",
     "output_type": "stream",
     "text": [
      "\r",
      "Processing columns:  89%|████████▉ | 4710/5273 [21:16<02:26,  3.84it/s]"
     ]
    },
    {
     "name": "stderr",
     "output_type": "stream",
     "text": [
      "\r",
      "Processing columns:  89%|████████▉ | 4711/5273 [21:16<02:18,  4.06it/s]"
     ]
    },
    {
     "name": "stderr",
     "output_type": "stream",
     "text": [
      "\r",
      "Processing columns:  89%|████████▉ | 4712/5273 [21:16<02:15,  4.13it/s]"
     ]
    },
    {
     "name": "stderr",
     "output_type": "stream",
     "text": [
      "\r",
      "Processing columns:  89%|████████▉ | 4713/5273 [21:17<02:22,  3.92it/s]"
     ]
    },
    {
     "name": "stderr",
     "output_type": "stream",
     "text": [
      "\r",
      "Processing columns:  89%|████████▉ | 4714/5273 [21:17<02:22,  3.93it/s]"
     ]
    },
    {
     "name": "stderr",
     "output_type": "stream",
     "text": [
      "\r",
      "Processing columns:  89%|████████▉ | 4715/5273 [21:17<03:03,  3.04it/s]"
     ]
    },
    {
     "name": "stderr",
     "output_type": "stream",
     "text": [
      "\r",
      "Processing columns:  89%|████████▉ | 4716/5273 [21:18<02:57,  3.13it/s]"
     ]
    },
    {
     "name": "stderr",
     "output_type": "stream",
     "text": [
      "\r",
      "Processing columns:  89%|████████▉ | 4717/5273 [21:18<02:45,  3.36it/s]"
     ]
    },
    {
     "name": "stderr",
     "output_type": "stream",
     "text": [
      "\r",
      "Processing columns:  89%|████████▉ | 4718/5273 [21:18<02:38,  3.50it/s]"
     ]
    },
    {
     "name": "stderr",
     "output_type": "stream",
     "text": [
      "\r",
      "Processing columns:  89%|████████▉ | 4719/5273 [21:18<02:29,  3.69it/s]"
     ]
    },
    {
     "name": "stderr",
     "output_type": "stream",
     "text": [
      "\r",
      "Processing columns:  90%|████████▉ | 4720/5273 [21:19<02:21,  3.91it/s]"
     ]
    },
    {
     "name": "stderr",
     "output_type": "stream",
     "text": [
      "\r",
      "Processing columns:  90%|████████▉ | 4721/5273 [21:19<02:17,  4.00it/s]"
     ]
    },
    {
     "name": "stderr",
     "output_type": "stream",
     "text": [
      "\r",
      "Processing columns:  90%|████████▉ | 4722/5273 [21:19<02:15,  4.06it/s]"
     ]
    },
    {
     "name": "stderr",
     "output_type": "stream",
     "text": [
      "\r",
      "Processing columns:  90%|████████▉ | 4723/5273 [21:19<02:13,  4.12it/s]"
     ]
    },
    {
     "name": "stderr",
     "output_type": "stream",
     "text": [
      "\r",
      "Processing columns:  90%|████████▉ | 4724/5273 [21:20<02:11,  4.19it/s]"
     ]
    },
    {
     "name": "stderr",
     "output_type": "stream",
     "text": [
      "\r",
      "Processing columns:  90%|████████▉ | 4725/5273 [21:20<02:18,  3.96it/s]"
     ]
    },
    {
     "name": "stderr",
     "output_type": "stream",
     "text": [
      "\r",
      "Processing columns:  90%|████████▉ | 4726/5273 [21:20<02:14,  4.05it/s]"
     ]
    },
    {
     "name": "stderr",
     "output_type": "stream",
     "text": [
      "\r",
      "Processing columns:  90%|████████▉ | 4727/5273 [21:20<02:18,  3.95it/s]"
     ]
    },
    {
     "name": "stderr",
     "output_type": "stream",
     "text": [
      "\r",
      "Processing columns:  90%|████████▉ | 4728/5273 [21:21<02:49,  3.22it/s]"
     ]
    },
    {
     "name": "stderr",
     "output_type": "stream",
     "text": [
      "\r",
      "Processing columns:  90%|████████▉ | 4729/5273 [21:21<02:39,  3.41it/s]"
     ]
    },
    {
     "name": "stderr",
     "output_type": "stream",
     "text": [
      "\r",
      "Processing columns:  90%|████████▉ | 4730/5273 [21:21<02:26,  3.70it/s]"
     ]
    },
    {
     "name": "stderr",
     "output_type": "stream",
     "text": [
      "\r",
      "Processing columns:  90%|████████▉ | 4731/5273 [21:22<02:27,  3.69it/s]"
     ]
    },
    {
     "name": "stderr",
     "output_type": "stream",
     "text": [
      "\r",
      "Processing columns:  90%|████████▉ | 4732/5273 [21:22<02:16,  3.97it/s]"
     ]
    },
    {
     "name": "stderr",
     "output_type": "stream",
     "text": [
      "\r",
      "Processing columns:  90%|████████▉ | 4733/5273 [21:22<02:13,  4.04it/s]"
     ]
    },
    {
     "name": "stderr",
     "output_type": "stream",
     "text": [
      "\r",
      "Processing columns:  90%|████████▉ | 4734/5273 [21:22<02:13,  4.02it/s]"
     ]
    },
    {
     "name": "stderr",
     "output_type": "stream",
     "text": [
      "\r",
      "Processing columns:  90%|████████▉ | 4735/5273 [21:23<02:15,  3.97it/s]"
     ]
    },
    {
     "name": "stderr",
     "output_type": "stream",
     "text": [
      "\r",
      "Processing columns:  90%|████████▉ | 4736/5273 [21:23<02:11,  4.09it/s]"
     ]
    },
    {
     "name": "stderr",
     "output_type": "stream",
     "text": [
      "\r",
      "Processing columns:  90%|████████▉ | 4737/5273 [21:23<02:20,  3.81it/s]"
     ]
    },
    {
     "name": "stderr",
     "output_type": "stream",
     "text": [
      "\r",
      "Processing columns:  90%|████████▉ | 4738/5273 [21:23<02:16,  3.93it/s]"
     ]
    },
    {
     "name": "stderr",
     "output_type": "stream",
     "text": [
      "\r",
      "Processing columns:  90%|████████▉ | 4739/5273 [21:23<02:09,  4.13it/s]"
     ]
    },
    {
     "name": "stderr",
     "output_type": "stream",
     "text": [
      "\r",
      "Processing columns:  90%|████████▉ | 4740/5273 [21:24<02:03,  4.30it/s]"
     ]
    },
    {
     "name": "stderr",
     "output_type": "stream",
     "text": [
      "\r",
      "Processing columns:  90%|████████▉ | 4741/5273 [21:24<02:35,  3.42it/s]"
     ]
    },
    {
     "name": "stderr",
     "output_type": "stream",
     "text": [
      "\r",
      "Processing columns:  90%|████████▉ | 4742/5273 [21:24<02:27,  3.61it/s]"
     ]
    },
    {
     "name": "stderr",
     "output_type": "stream",
     "text": [
      "\r",
      "Processing columns:  90%|████████▉ | 4743/5273 [21:25<02:28,  3.58it/s]"
     ]
    },
    {
     "name": "stderr",
     "output_type": "stream",
     "text": [
      "\r",
      "Processing columns:  90%|████████▉ | 4744/5273 [21:25<02:26,  3.61it/s]"
     ]
    },
    {
     "name": "stderr",
     "output_type": "stream",
     "text": [
      "\r",
      "Processing columns:  90%|████████▉ | 4745/5273 [21:25<02:26,  3.61it/s]"
     ]
    },
    {
     "name": "stderr",
     "output_type": "stream",
     "text": [
      "\r",
      "Processing columns:  90%|█████████ | 4746/5273 [21:25<02:16,  3.85it/s]"
     ]
    },
    {
     "name": "stderr",
     "output_type": "stream",
     "text": [
      "\r",
      "Processing columns:  90%|█████████ | 4747/5273 [21:26<02:09,  4.06it/s]"
     ]
    },
    {
     "name": "stderr",
     "output_type": "stream",
     "text": [
      "\r",
      "Processing columns:  90%|█████████ | 4748/5273 [21:26<02:15,  3.88it/s]"
     ]
    },
    {
     "name": "stderr",
     "output_type": "stream",
     "text": [
      "\r",
      "Processing columns:  90%|█████████ | 4749/5273 [21:26<02:15,  3.87it/s]"
     ]
    },
    {
     "name": "stderr",
     "output_type": "stream",
     "text": [
      "\r",
      "Processing columns:  90%|█████████ | 4750/5273 [21:26<02:08,  4.08it/s]"
     ]
    },
    {
     "name": "stderr",
     "output_type": "stream",
     "text": [
      "\r",
      "Processing columns:  90%|█████████ | 4751/5273 [21:27<02:03,  4.24it/s]"
     ]
    },
    {
     "name": "stderr",
     "output_type": "stream",
     "text": [
      "\r",
      "Processing columns:  90%|█████████ | 4752/5273 [21:27<02:15,  3.84it/s]"
     ]
    },
    {
     "name": "stderr",
     "output_type": "stream",
     "text": [
      "\r",
      "Processing columns:  90%|█████████ | 4753/5273 [21:27<02:17,  3.79it/s]"
     ]
    },
    {
     "name": "stderr",
     "output_type": "stream",
     "text": [
      "\r",
      "Processing columns:  90%|█████████ | 4754/5273 [21:28<02:57,  2.93it/s]"
     ]
    },
    {
     "name": "stderr",
     "output_type": "stream",
     "text": [
      "\r",
      "Processing columns:  90%|█████████ | 4755/5273 [21:28<02:38,  3.26it/s]"
     ]
    },
    {
     "name": "stderr",
     "output_type": "stream",
     "text": [
      "\r",
      "Processing columns:  90%|█████████ | 4756/5273 [21:28<02:28,  3.49it/s]"
     ]
    },
    {
     "name": "stderr",
     "output_type": "stream",
     "text": [
      "\r",
      "Processing columns:  90%|█████████ | 4757/5273 [21:28<02:24,  3.57it/s]"
     ]
    },
    {
     "name": "stderr",
     "output_type": "stream",
     "text": [
      "\r",
      "Processing columns:  90%|█████████ | 4758/5273 [21:29<02:20,  3.67it/s]"
     ]
    },
    {
     "name": "stderr",
     "output_type": "stream",
     "text": [
      "\r",
      "Processing columns:  90%|█████████ | 4759/5273 [21:29<02:08,  3.98it/s]"
     ]
    },
    {
     "name": "stderr",
     "output_type": "stream",
     "text": [
      "\r",
      "Processing columns:  90%|█████████ | 4760/5273 [21:29<02:04,  4.14it/s]"
     ]
    },
    {
     "name": "stderr",
     "output_type": "stream",
     "text": [
      "\r",
      "Processing columns:  90%|█████████ | 4761/5273 [21:29<02:02,  4.19it/s]"
     ]
    },
    {
     "name": "stderr",
     "output_type": "stream",
     "text": [
      "\r",
      "Processing columns:  90%|█████████ | 4762/5273 [21:30<02:01,  4.22it/s]"
     ]
    },
    {
     "name": "stderr",
     "output_type": "stream",
     "text": [
      "\r",
      "Processing columns:  90%|█████████ | 4763/5273 [21:30<02:14,  3.79it/s]"
     ]
    },
    {
     "name": "stderr",
     "output_type": "stream",
     "text": [
      "\r",
      "Processing columns:  90%|█████████ | 4764/5273 [21:30<02:20,  3.62it/s]"
     ]
    },
    {
     "name": "stderr",
     "output_type": "stream",
     "text": [
      "\r",
      "Processing columns:  90%|█████████ | 4765/5273 [21:30<02:13,  3.81it/s]"
     ]
    },
    {
     "name": "stderr",
     "output_type": "stream",
     "text": [
      "\r",
      "Processing columns:  90%|█████████ | 4766/5273 [21:31<02:16,  3.73it/s]"
     ]
    },
    {
     "name": "stderr",
     "output_type": "stream",
     "text": [
      "\r",
      "Processing columns:  90%|█████████ | 4767/5273 [21:31<02:58,  2.83it/s]"
     ]
    },
    {
     "name": "stderr",
     "output_type": "stream",
     "text": [
      "\r",
      "Processing columns:  90%|█████████ | 4768/5273 [21:32<02:37,  3.21it/s]"
     ]
    },
    {
     "name": "stderr",
     "output_type": "stream",
     "text": [
      "\r",
      "Processing columns:  90%|█████████ | 4769/5273 [21:32<02:19,  3.63it/s]"
     ]
    },
    {
     "name": "stderr",
     "output_type": "stream",
     "text": [
      "\r",
      "Processing columns:  90%|█████████ | 4770/5273 [21:32<02:15,  3.72it/s]"
     ]
    },
    {
     "name": "stderr",
     "output_type": "stream",
     "text": [
      "\r",
      "Processing columns:  90%|█████████ | 4771/5273 [21:32<02:09,  3.87it/s]"
     ]
    },
    {
     "name": "stderr",
     "output_type": "stream",
     "text": [
      "\r",
      "Processing columns:  90%|█████████ | 4772/5273 [21:32<02:07,  3.92it/s]"
     ]
    },
    {
     "name": "stderr",
     "output_type": "stream",
     "text": [
      "\r",
      "Processing columns:  91%|█████████ | 4773/5273 [21:33<02:02,  4.07it/s]"
     ]
    },
    {
     "name": "stderr",
     "output_type": "stream",
     "text": [
      "\r",
      "Processing columns:  91%|█████████ | 4774/5273 [21:33<02:01,  4.11it/s]"
     ]
    },
    {
     "name": "stderr",
     "output_type": "stream",
     "text": [
      "\r",
      "Processing columns:  91%|█████████ | 4775/5273 [21:33<02:07,  3.91it/s]"
     ]
    },
    {
     "name": "stderr",
     "output_type": "stream",
     "text": [
      "\r",
      "Processing columns:  91%|█████████ | 4776/5273 [21:33<02:07,  3.89it/s]"
     ]
    },
    {
     "name": "stderr",
     "output_type": "stream",
     "text": [
      "\r",
      "Processing columns:  91%|█████████ | 4777/5273 [21:34<02:08,  3.86it/s]"
     ]
    },
    {
     "name": "stderr",
     "output_type": "stream",
     "text": [
      "\r",
      "Processing columns:  91%|█████████ | 4778/5273 [21:34<02:06,  3.91it/s]"
     ]
    },
    {
     "name": "stderr",
     "output_type": "stream",
     "text": [
      "\r",
      "Processing columns:  91%|█████████ | 4779/5273 [21:34<01:59,  4.14it/s]"
     ]
    },
    {
     "name": "stderr",
     "output_type": "stream",
     "text": [
      "\r",
      "Processing columns:  91%|█████████ | 4780/5273 [21:35<02:45,  2.97it/s]"
     ]
    },
    {
     "name": "stderr",
     "output_type": "stream",
     "text": [
      "\r",
      "Processing columns:  91%|█████████ | 4781/5273 [21:35<02:30,  3.27it/s]"
     ]
    },
    {
     "name": "stderr",
     "output_type": "stream",
     "text": [
      "\r",
      "Processing columns:  91%|█████████ | 4782/5273 [21:35<02:19,  3.52it/s]"
     ]
    },
    {
     "name": "stderr",
     "output_type": "stream",
     "text": [
      "\r",
      "Processing columns:  91%|█████████ | 4783/5273 [21:35<02:21,  3.45it/s]"
     ]
    },
    {
     "name": "stderr",
     "output_type": "stream",
     "text": [
      "\r",
      "Processing columns:  91%|█████████ | 4784/5273 [21:36<02:12,  3.69it/s]"
     ]
    },
    {
     "name": "stderr",
     "output_type": "stream",
     "text": [
      "\r",
      "Processing columns:  91%|█████████ | 4785/5273 [21:36<02:07,  3.82it/s]"
     ]
    },
    {
     "name": "stderr",
     "output_type": "stream",
     "text": [
      "\r",
      "Processing columns:  91%|█████████ | 4786/5273 [21:36<02:02,  3.99it/s]"
     ]
    },
    {
     "name": "stderr",
     "output_type": "stream",
     "text": [
      "\r",
      "Processing columns:  91%|█████████ | 4787/5273 [21:36<02:03,  3.93it/s]"
     ]
    },
    {
     "name": "stderr",
     "output_type": "stream",
     "text": [
      "\r",
      "Processing columns:  91%|█████████ | 4788/5273 [21:37<01:58,  4.09it/s]"
     ]
    },
    {
     "name": "stderr",
     "output_type": "stream",
     "text": [
      "\r",
      "Processing columns:  91%|█████████ | 4789/5273 [21:37<01:51,  4.35it/s]"
     ]
    },
    {
     "name": "stderr",
     "output_type": "stream",
     "text": [
      "\r",
      "Processing columns:  91%|█████████ | 4790/5273 [21:37<02:03,  3.92it/s]"
     ]
    },
    {
     "name": "stderr",
     "output_type": "stream",
     "text": [
      "\r",
      "Processing columns:  91%|█████████ | 4791/5273 [21:37<01:57,  4.10it/s]"
     ]
    },
    {
     "name": "stderr",
     "output_type": "stream",
     "text": [
      "\r",
      "Processing columns:  91%|█████████ | 4792/5273 [21:38<02:13,  3.60it/s]"
     ]
    },
    {
     "name": "stderr",
     "output_type": "stream",
     "text": [
      "\r",
      "Processing columns:  91%|█████████ | 4793/5273 [21:38<02:04,  3.86it/s]"
     ]
    },
    {
     "name": "stderr",
     "output_type": "stream",
     "text": [
      "\r",
      "Processing columns:  91%|█████████ | 4794/5273 [21:39<02:42,  2.95it/s]"
     ]
    },
    {
     "name": "stderr",
     "output_type": "stream",
     "text": [
      "\r",
      "Processing columns:  91%|█████████ | 4795/5273 [21:39<02:37,  3.04it/s]"
     ]
    },
    {
     "name": "stderr",
     "output_type": "stream",
     "text": [
      "\r",
      "Processing columns:  91%|█████████ | 4796/5273 [21:39<02:29,  3.20it/s]"
     ]
    },
    {
     "name": "stderr",
     "output_type": "stream",
     "text": [
      "\r",
      "Processing columns:  91%|█████████ | 4797/5273 [21:39<02:20,  3.40it/s]"
     ]
    },
    {
     "name": "stderr",
     "output_type": "stream",
     "text": [
      "\r",
      "Processing columns:  91%|█████████ | 4798/5273 [21:40<02:12,  3.59it/s]"
     ]
    },
    {
     "name": "stderr",
     "output_type": "stream",
     "text": [
      "\r",
      "Processing columns:  91%|█████████ | 4799/5273 [21:40<01:59,  3.96it/s]"
     ]
    },
    {
     "name": "stderr",
     "output_type": "stream",
     "text": [
      "\r",
      "Processing columns:  91%|█████████ | 4800/5273 [21:40<01:56,  4.06it/s]"
     ]
    },
    {
     "name": "stderr",
     "output_type": "stream",
     "text": [
      "\r",
      "Processing columns:  91%|█████████ | 4801/5273 [21:40<01:56,  4.05it/s]"
     ]
    },
    {
     "name": "stderr",
     "output_type": "stream",
     "text": [
      "\r",
      "Processing columns:  91%|█████████ | 4802/5273 [21:40<01:56,  4.05it/s]"
     ]
    },
    {
     "name": "stderr",
     "output_type": "stream",
     "text": [
      "\r",
      "Processing columns:  91%|█████████ | 4803/5273 [21:41<02:01,  3.86it/s]"
     ]
    },
    {
     "name": "stderr",
     "output_type": "stream",
     "text": [
      "\r",
      "Processing columns:  91%|█████████ | 4804/5273 [21:41<02:02,  3.84it/s]"
     ]
    },
    {
     "name": "stderr",
     "output_type": "stream",
     "text": [
      "\r",
      "Processing columns:  91%|█████████ | 4805/5273 [21:41<01:55,  4.04it/s]"
     ]
    },
    {
     "name": "stderr",
     "output_type": "stream",
     "text": [
      "\r",
      "Processing columns:  91%|█████████ | 4806/5273 [21:41<01:53,  4.13it/s]"
     ]
    },
    {
     "name": "stderr",
     "output_type": "stream",
     "text": [
      "\r",
      "Processing columns:  91%|█████████ | 4807/5273 [21:42<02:44,  2.84it/s]"
     ]
    },
    {
     "name": "stderr",
     "output_type": "stream",
     "text": [
      "\r",
      "Processing columns:  91%|█████████ | 4808/5273 [21:42<02:34,  3.02it/s]"
     ]
    },
    {
     "name": "stderr",
     "output_type": "stream",
     "text": [
      "\r",
      "Processing columns:  91%|█████████ | 4809/5273 [21:43<02:15,  3.43it/s]"
     ]
    },
    {
     "name": "stderr",
     "output_type": "stream",
     "text": [
      "\r",
      "Processing columns:  91%|█████████ | 4810/5273 [21:43<02:15,  3.41it/s]"
     ]
    },
    {
     "name": "stderr",
     "output_type": "stream",
     "text": [
      "\r",
      "Processing columns:  91%|█████████ | 4811/5273 [21:43<02:17,  3.37it/s]"
     ]
    },
    {
     "name": "stderr",
     "output_type": "stream",
     "text": [
      "\r",
      "Processing columns:  91%|█████████▏| 4812/5273 [21:43<02:05,  3.66it/s]"
     ]
    },
    {
     "name": "stderr",
     "output_type": "stream",
     "text": [
      "\r",
      "Processing columns:  91%|█████████▏| 4813/5273 [21:44<02:02,  3.76it/s]"
     ]
    },
    {
     "name": "stderr",
     "output_type": "stream",
     "text": [
      "\r",
      "Processing columns:  91%|█████████▏| 4814/5273 [21:44<01:58,  3.88it/s]"
     ]
    },
    {
     "name": "stderr",
     "output_type": "stream",
     "text": [
      "\r",
      "Processing columns:  91%|█████████▏| 4815/5273 [21:44<01:54,  4.00it/s]"
     ]
    },
    {
     "name": "stderr",
     "output_type": "stream",
     "text": [
      "\r",
      "Processing columns:  91%|█████████▏| 4816/5273 [21:44<01:52,  4.06it/s]"
     ]
    },
    {
     "name": "stderr",
     "output_type": "stream",
     "text": [
      "\r",
      "Processing columns:  91%|█████████▏| 4817/5273 [21:45<01:51,  4.07it/s]"
     ]
    },
    {
     "name": "stderr",
     "output_type": "stream",
     "text": [
      "\r",
      "Processing columns:  91%|█████████▏| 4818/5273 [21:45<01:47,  4.25it/s]"
     ]
    },
    {
     "name": "stderr",
     "output_type": "stream",
     "text": [
      "\r",
      "Processing columns:  91%|█████████▏| 4819/5273 [21:45<01:41,  4.48it/s]"
     ]
    },
    {
     "name": "stderr",
     "output_type": "stream",
     "text": [
      "\r",
      "Processing columns:  91%|█████████▏| 4820/5273 [21:46<02:37,  2.87it/s]"
     ]
    },
    {
     "name": "stderr",
     "output_type": "stream",
     "text": [
      "\r",
      "Processing columns:  91%|█████████▏| 4821/5273 [21:46<02:21,  3.21it/s]"
     ]
    },
    {
     "name": "stderr",
     "output_type": "stream",
     "text": [
      "\r",
      "Processing columns:  91%|█████████▏| 4822/5273 [21:46<02:11,  3.42it/s]"
     ]
    },
    {
     "name": "stderr",
     "output_type": "stream",
     "text": [
      "\r",
      "Processing columns:  91%|█████████▏| 4823/5273 [21:46<02:06,  3.56it/s]"
     ]
    },
    {
     "name": "stderr",
     "output_type": "stream",
     "text": [
      "\r",
      "Processing columns:  91%|█████████▏| 4824/5273 [21:47<02:01,  3.70it/s]"
     ]
    },
    {
     "name": "stderr",
     "output_type": "stream",
     "text": [
      "\r",
      "Processing columns:  92%|█████████▏| 4825/5273 [21:47<01:56,  3.83it/s]"
     ]
    },
    {
     "name": "stderr",
     "output_type": "stream",
     "text": [
      "\r",
      "Processing columns:  92%|█████████▏| 4826/5273 [21:47<01:52,  3.96it/s]"
     ]
    },
    {
     "name": "stderr",
     "output_type": "stream",
     "text": [
      "\r",
      "Processing columns:  92%|█████████▏| 4827/5273 [21:47<01:50,  4.04it/s]"
     ]
    },
    {
     "name": "stderr",
     "output_type": "stream",
     "text": [
      "\r",
      "Processing columns:  92%|█████████▏| 4828/5273 [21:48<01:55,  3.87it/s]"
     ]
    },
    {
     "name": "stderr",
     "output_type": "stream",
     "text": [
      "\r",
      "Processing columns:  92%|█████████▏| 4829/5273 [21:48<01:51,  3.99it/s]"
     ]
    },
    {
     "name": "stderr",
     "output_type": "stream",
     "text": [
      "\r",
      "Processing columns:  92%|█████████▏| 4830/5273 [21:48<01:46,  4.17it/s]"
     ]
    },
    {
     "name": "stderr",
     "output_type": "stream",
     "text": [
      "\r",
      "Processing columns:  92%|█████████▏| 4831/5273 [21:48<01:49,  4.05it/s]"
     ]
    },
    {
     "name": "stderr",
     "output_type": "stream",
     "text": [
      "\r",
      "Processing columns:  92%|█████████▏| 4832/5273 [21:49<01:50,  3.98it/s]"
     ]
    },
    {
     "name": "stderr",
     "output_type": "stream",
     "text": [
      "\r",
      "Processing columns:  92%|█████████▏| 4833/5273 [21:49<02:47,  2.63it/s]"
     ]
    },
    {
     "name": "stderr",
     "output_type": "stream",
     "text": [
      "\r",
      "Processing columns:  92%|█████████▏| 4834/5273 [21:49<02:27,  2.98it/s]"
     ]
    },
    {
     "name": "stderr",
     "output_type": "stream",
     "text": [
      "\r",
      "Processing columns:  92%|█████████▏| 4835/5273 [21:50<02:20,  3.12it/s]"
     ]
    },
    {
     "name": "stderr",
     "output_type": "stream",
     "text": [
      "\r",
      "Processing columns:  92%|█████████▏| 4836/5273 [21:50<02:12,  3.30it/s]"
     ]
    },
    {
     "name": "stderr",
     "output_type": "stream",
     "text": [
      "\r",
      "Processing columns:  92%|█████████▏| 4837/5273 [21:50<02:03,  3.52it/s]"
     ]
    },
    {
     "name": "stderr",
     "output_type": "stream",
     "text": [
      "\r",
      "Processing columns:  92%|█████████▏| 4838/5273 [21:51<01:59,  3.63it/s]"
     ]
    },
    {
     "name": "stderr",
     "output_type": "stream",
     "text": [
      "\r",
      "Processing columns:  92%|█████████▏| 4839/5273 [21:51<01:51,  3.89it/s]"
     ]
    },
    {
     "name": "stderr",
     "output_type": "stream",
     "text": [
      "\r",
      "Processing columns:  92%|█████████▏| 4840/5273 [21:51<01:45,  4.09it/s]"
     ]
    },
    {
     "name": "stderr",
     "output_type": "stream",
     "text": [
      "\r",
      "Processing columns:  92%|█████████▏| 4841/5273 [21:51<01:41,  4.25it/s]"
     ]
    },
    {
     "name": "stderr",
     "output_type": "stream",
     "text": [
      "\r",
      "Processing columns:  92%|█████████▏| 4842/5273 [21:51<01:44,  4.12it/s]"
     ]
    },
    {
     "name": "stderr",
     "output_type": "stream",
     "text": [
      "\r",
      "Processing columns:  92%|█████████▏| 4843/5273 [21:52<01:41,  4.23it/s]"
     ]
    },
    {
     "name": "stderr",
     "output_type": "stream",
     "text": [
      "\r",
      "Processing columns:  92%|█████████▏| 4844/5273 [21:52<01:39,  4.29it/s]"
     ]
    },
    {
     "name": "stderr",
     "output_type": "stream",
     "text": [
      "\r",
      "Processing columns:  92%|█████████▏| 4845/5273 [21:52<01:37,  4.39it/s]"
     ]
    },
    {
     "name": "stderr",
     "output_type": "stream",
     "text": [
      "\r",
      "Processing columns:  92%|█████████▏| 4846/5273 [21:53<02:16,  3.13it/s]"
     ]
    },
    {
     "name": "stderr",
     "output_type": "stream",
     "text": [
      "\r",
      "Processing columns:  92%|█████████▏| 4847/5273 [21:53<02:05,  3.39it/s]"
     ]
    },
    {
     "name": "stderr",
     "output_type": "stream",
     "text": [
      "\r",
      "Processing columns:  92%|█████████▏| 4848/5273 [21:53<02:06,  3.35it/s]"
     ]
    },
    {
     "name": "stderr",
     "output_type": "stream",
     "text": [
      "\r",
      "Processing columns:  92%|█████████▏| 4849/5273 [21:53<01:58,  3.58it/s]"
     ]
    },
    {
     "name": "stderr",
     "output_type": "stream",
     "text": [
      "\r",
      "Processing columns:  92%|█████████▏| 4850/5273 [21:54<01:49,  3.87it/s]"
     ]
    },
    {
     "name": "stderr",
     "output_type": "stream",
     "text": [
      "\r",
      "Processing columns:  92%|█████████▏| 4851/5273 [21:54<01:44,  4.03it/s]"
     ]
    },
    {
     "name": "stderr",
     "output_type": "stream",
     "text": [
      "\r",
      "Processing columns:  92%|█████████▏| 4852/5273 [21:54<01:48,  3.89it/s]"
     ]
    },
    {
     "name": "stderr",
     "output_type": "stream",
     "text": [
      "\r",
      "Processing columns:  92%|█████████▏| 4853/5273 [21:54<01:46,  3.94it/s]"
     ]
    },
    {
     "name": "stderr",
     "output_type": "stream",
     "text": [
      "\r",
      "Processing columns:  92%|█████████▏| 4854/5273 [21:55<01:44,  3.99it/s]"
     ]
    },
    {
     "name": "stderr",
     "output_type": "stream",
     "text": [
      "\r",
      "Processing columns:  92%|█████████▏| 4855/5273 [21:55<01:42,  4.06it/s]"
     ]
    },
    {
     "name": "stderr",
     "output_type": "stream",
     "text": [
      "\r",
      "Processing columns:  92%|█████████▏| 4856/5273 [21:55<01:45,  3.94it/s]"
     ]
    },
    {
     "name": "stderr",
     "output_type": "stream",
     "text": [
      "\r",
      "Processing columns:  92%|█████████▏| 4857/5273 [21:55<01:40,  4.12it/s]"
     ]
    },
    {
     "name": "stderr",
     "output_type": "stream",
     "text": [
      "\r",
      "Processing columns:  92%|█████████▏| 4858/5273 [21:56<01:45,  3.94it/s]"
     ]
    },
    {
     "name": "stderr",
     "output_type": "stream",
     "text": [
      "\r",
      "Processing columns:  92%|█████████▏| 4859/5273 [21:56<02:08,  3.21it/s]"
     ]
    },
    {
     "name": "stderr",
     "output_type": "stream",
     "text": [
      "\r",
      "Processing columns:  92%|█████████▏| 4860/5273 [21:56<01:57,  3.50it/s]"
     ]
    },
    {
     "name": "stderr",
     "output_type": "stream",
     "text": [
      "\r",
      "Processing columns:  92%|█████████▏| 4861/5273 [21:57<01:59,  3.44it/s]"
     ]
    },
    {
     "name": "stderr",
     "output_type": "stream",
     "text": [
      "\r",
      "Processing columns:  92%|█████████▏| 4862/5273 [21:57<01:52,  3.66it/s]"
     ]
    },
    {
     "name": "stderr",
     "output_type": "stream",
     "text": [
      "\r",
      "Processing columns:  92%|█████████▏| 4863/5273 [21:57<01:45,  3.88it/s]"
     ]
    },
    {
     "name": "stderr",
     "output_type": "stream",
     "text": [
      "\r",
      "Processing columns:  92%|█████████▏| 4864/5273 [21:57<01:43,  3.96it/s]"
     ]
    },
    {
     "name": "stderr",
     "output_type": "stream",
     "text": [
      "\r",
      "Processing columns:  92%|█████████▏| 4865/5273 [21:58<01:41,  4.01it/s]"
     ]
    },
    {
     "name": "stderr",
     "output_type": "stream",
     "text": [
      "\r",
      "Processing columns:  92%|█████████▏| 4866/5273 [21:58<01:39,  4.10it/s]"
     ]
    },
    {
     "name": "stderr",
     "output_type": "stream",
     "text": [
      "\r",
      "Processing columns:  92%|█████████▏| 4867/5273 [21:58<01:41,  4.00it/s]"
     ]
    },
    {
     "name": "stderr",
     "output_type": "stream",
     "text": [
      "\r",
      "Processing columns:  92%|█████████▏| 4868/5273 [21:58<01:38,  4.10it/s]"
     ]
    },
    {
     "name": "stderr",
     "output_type": "stream",
     "text": [
      "\r",
      "Processing columns:  92%|█████████▏| 4869/5273 [21:59<01:38,  4.10it/s]"
     ]
    },
    {
     "name": "stderr",
     "output_type": "stream",
     "text": [
      "\r",
      "Processing columns:  92%|█████████▏| 4870/5273 [21:59<01:34,  4.26it/s]"
     ]
    },
    {
     "name": "stderr",
     "output_type": "stream",
     "text": [
      "\r",
      "Processing columns:  92%|█████████▏| 4871/5273 [21:59<01:32,  4.36it/s]"
     ]
    },
    {
     "name": "stderr",
     "output_type": "stream",
     "text": [
      "\r",
      "Processing columns:  92%|█████████▏| 4872/5273 [21:59<01:32,  4.34it/s]"
     ]
    },
    {
     "name": "stderr",
     "output_type": "stream",
     "text": [
      "\r",
      "Processing columns:  92%|█████████▏| 4873/5273 [22:00<02:20,  2.84it/s]"
     ]
    },
    {
     "name": "stderr",
     "output_type": "stream",
     "text": [
      "\r",
      "Processing columns:  92%|█████████▏| 4874/5273 [22:00<02:07,  3.14it/s]"
     ]
    },
    {
     "name": "stderr",
     "output_type": "stream",
     "text": [
      "\r",
      "Processing columns:  92%|█████████▏| 4875/5273 [22:00<01:56,  3.43it/s]"
     ]
    },
    {
     "name": "stderr",
     "output_type": "stream",
     "text": [
      "\r",
      "Processing columns:  92%|█████████▏| 4876/5273 [22:00<01:47,  3.70it/s]"
     ]
    },
    {
     "name": "stderr",
     "output_type": "stream",
     "text": [
      "\r",
      "Processing columns:  92%|█████████▏| 4877/5273 [22:01<01:41,  3.88it/s]"
     ]
    },
    {
     "name": "stderr",
     "output_type": "stream",
     "text": [
      "\r",
      "Processing columns:  93%|█████████▎| 4878/5273 [22:01<01:43,  3.83it/s]"
     ]
    },
    {
     "name": "stderr",
     "output_type": "stream",
     "text": [
      "\r",
      "Processing columns:  93%|█████████▎| 4879/5273 [22:01<01:39,  3.95it/s]"
     ]
    },
    {
     "name": "stderr",
     "output_type": "stream",
     "text": [
      "\r",
      "Processing columns:  93%|█████████▎| 4880/5273 [22:01<01:36,  4.09it/s]"
     ]
    },
    {
     "name": "stderr",
     "output_type": "stream",
     "text": [
      "\r",
      "Processing columns:  93%|█████████▎| 4881/5273 [22:02<01:34,  4.15it/s]"
     ]
    },
    {
     "name": "stderr",
     "output_type": "stream",
     "text": [
      "\r",
      "Processing columns:  93%|█████████▎| 4882/5273 [22:02<01:37,  4.00it/s]"
     ]
    },
    {
     "name": "stderr",
     "output_type": "stream",
     "text": [
      "\r",
      "Processing columns:  93%|█████████▎| 4883/5273 [22:02<01:35,  4.07it/s]"
     ]
    },
    {
     "name": "stderr",
     "output_type": "stream",
     "text": [
      "\r",
      "Processing columns:  93%|█████████▎| 4884/5273 [22:02<01:39,  3.91it/s]"
     ]
    },
    {
     "name": "stderr",
     "output_type": "stream",
     "text": [
      "\r",
      "Processing columns:  93%|█████████▎| 4885/5273 [22:03<01:37,  3.98it/s]"
     ]
    },
    {
     "name": "stderr",
     "output_type": "stream",
     "text": [
      "\r",
      "Processing columns:  93%|█████████▎| 4886/5273 [22:03<02:23,  2.70it/s]"
     ]
    },
    {
     "name": "stderr",
     "output_type": "stream",
     "text": [
      "\r",
      "Processing columns:  93%|█████████▎| 4887/5273 [22:04<02:16,  2.83it/s]"
     ]
    },
    {
     "name": "stderr",
     "output_type": "stream",
     "text": [
      "\r",
      "Processing columns:  93%|█████████▎| 4888/5273 [22:04<02:02,  3.14it/s]"
     ]
    },
    {
     "name": "stderr",
     "output_type": "stream",
     "text": [
      "\r",
      "Processing columns:  93%|█████████▎| 4889/5273 [22:04<01:51,  3.45it/s]"
     ]
    },
    {
     "name": "stderr",
     "output_type": "stream",
     "text": [
      "\r",
      "Processing columns:  93%|█████████▎| 4890/5273 [22:04<01:46,  3.60it/s]"
     ]
    },
    {
     "name": "stderr",
     "output_type": "stream",
     "text": [
      "\r",
      "Processing columns:  93%|█████████▎| 4891/5273 [22:05<01:42,  3.74it/s]"
     ]
    },
    {
     "name": "stderr",
     "output_type": "stream",
     "text": [
      "\r",
      "Processing columns:  93%|█████████▎| 4892/5273 [22:05<01:36,  3.94it/s]"
     ]
    },
    {
     "name": "stderr",
     "output_type": "stream",
     "text": [
      "\r",
      "Processing columns:  93%|█████████▎| 4893/5273 [22:05<01:36,  3.96it/s]"
     ]
    },
    {
     "name": "stderr",
     "output_type": "stream",
     "text": [
      "\r",
      "Processing columns:  93%|█████████▎| 4894/5273 [22:05<01:37,  3.90it/s]"
     ]
    },
    {
     "name": "stderr",
     "output_type": "stream",
     "text": [
      "\r",
      "Processing columns:  93%|█████████▎| 4895/5273 [22:06<01:35,  3.97it/s]"
     ]
    },
    {
     "name": "stderr",
     "output_type": "stream",
     "text": [
      "\r",
      "Processing columns:  93%|█████████▎| 4896/5273 [22:06<01:38,  3.82it/s]"
     ]
    },
    {
     "name": "stderr",
     "output_type": "stream",
     "text": [
      "\r",
      "Processing columns:  93%|█████████▎| 4897/5273 [22:06<01:37,  3.85it/s]"
     ]
    },
    {
     "name": "stderr",
     "output_type": "stream",
     "text": [
      "\r",
      "Processing columns:  93%|█████████▎| 4898/5273 [22:06<01:34,  3.96it/s]"
     ]
    },
    {
     "name": "stderr",
     "output_type": "stream",
     "text": [
      "\r",
      "Processing columns:  93%|█████████▎| 4899/5273 [22:07<02:23,  2.61it/s]"
     ]
    },
    {
     "name": "stderr",
     "output_type": "stream",
     "text": [
      "\r",
      "Processing columns:  93%|█████████▎| 4900/5273 [22:07<02:06,  2.94it/s]"
     ]
    },
    {
     "name": "stderr",
     "output_type": "stream",
     "text": [
      "\r",
      "Processing columns:  93%|█████████▎| 4901/5273 [22:08<01:53,  3.29it/s]"
     ]
    },
    {
     "name": "stderr",
     "output_type": "stream",
     "text": [
      "\r",
      "Processing columns:  93%|█████████▎| 4902/5273 [22:08<01:55,  3.20it/s]"
     ]
    },
    {
     "name": "stderr",
     "output_type": "stream",
     "text": [
      "\r",
      "Processing columns:  93%|█████████▎| 4903/5273 [22:08<01:44,  3.56it/s]"
     ]
    },
    {
     "name": "stderr",
     "output_type": "stream",
     "text": [
      "\r",
      "Processing columns:  93%|█████████▎| 4904/5273 [22:08<01:40,  3.68it/s]"
     ]
    },
    {
     "name": "stderr",
     "output_type": "stream",
     "text": [
      "\r",
      "Processing columns:  93%|█████████▎| 4905/5273 [22:09<01:36,  3.80it/s]"
     ]
    },
    {
     "name": "stderr",
     "output_type": "stream",
     "text": [
      "\r",
      "Processing columns:  93%|█████████▎| 4906/5273 [22:09<01:32,  3.99it/s]"
     ]
    },
    {
     "name": "stderr",
     "output_type": "stream",
     "text": [
      "\r",
      "Processing columns:  93%|█████████▎| 4907/5273 [22:09<01:30,  4.04it/s]"
     ]
    },
    {
     "name": "stderr",
     "output_type": "stream",
     "text": [
      "\r",
      "Processing columns:  93%|█████████▎| 4908/5273 [22:09<01:33,  3.92it/s]"
     ]
    },
    {
     "name": "stderr",
     "output_type": "stream",
     "text": [
      "\r",
      "Processing columns:  93%|█████████▎| 4909/5273 [22:09<01:27,  4.15it/s]"
     ]
    },
    {
     "name": "stderr",
     "output_type": "stream",
     "text": [
      "\r",
      "Processing columns:  93%|█████████▎| 4910/5273 [22:10<01:26,  4.21it/s]"
     ]
    },
    {
     "name": "stderr",
     "output_type": "stream",
     "text": [
      "\r",
      "Processing columns:  93%|█████████▎| 4911/5273 [22:10<01:27,  4.16it/s]"
     ]
    },
    {
     "name": "stderr",
     "output_type": "stream",
     "text": [
      "\r",
      "Processing columns:  93%|█████████▎| 4912/5273 [22:11<02:02,  2.96it/s]"
     ]
    },
    {
     "name": "stderr",
     "output_type": "stream",
     "text": [
      "\r",
      "Processing columns:  93%|█████████▎| 4913/5273 [22:11<01:50,  3.26it/s]"
     ]
    },
    {
     "name": "stderr",
     "output_type": "stream",
     "text": [
      "\r",
      "Processing columns:  93%|█████████▎| 4914/5273 [22:11<01:43,  3.48it/s]"
     ]
    },
    {
     "name": "stderr",
     "output_type": "stream",
     "text": [
      "\r",
      "Processing columns:  93%|█████████▎| 4915/5273 [22:11<01:42,  3.48it/s]"
     ]
    },
    {
     "name": "stderr",
     "output_type": "stream",
     "text": [
      "\r",
      "Processing columns:  93%|█████████▎| 4916/5273 [22:12<01:35,  3.73it/s]"
     ]
    },
    {
     "name": "stderr",
     "output_type": "stream",
     "text": [
      "\r",
      "Processing columns:  93%|█████████▎| 4917/5273 [22:12<01:30,  3.92it/s]"
     ]
    },
    {
     "name": "stderr",
     "output_type": "stream",
     "text": [
      "\r",
      "Processing columns:  93%|█████████▎| 4918/5273 [22:12<01:27,  4.06it/s]"
     ]
    },
    {
     "name": "stderr",
     "output_type": "stream",
     "text": [
      "\r",
      "Processing columns:  93%|█████████▎| 4919/5273 [22:12<01:22,  4.27it/s]"
     ]
    },
    {
     "name": "stderr",
     "output_type": "stream",
     "text": [
      "\r",
      "Processing columns:  93%|█████████▎| 4920/5273 [22:13<01:36,  3.64it/s]"
     ]
    },
    {
     "name": "stderr",
     "output_type": "stream",
     "text": [
      "\r",
      "Processing columns:  93%|█████████▎| 4921/5273 [22:13<01:32,  3.79it/s]"
     ]
    },
    {
     "name": "stderr",
     "output_type": "stream",
     "text": [
      "\r",
      "Processing columns:  93%|█████████▎| 4922/5273 [22:13<01:30,  3.88it/s]"
     ]
    },
    {
     "name": "stderr",
     "output_type": "stream",
     "text": [
      "\r",
      "Processing columns:  93%|█████████▎| 4923/5273 [22:13<01:27,  4.00it/s]"
     ]
    },
    {
     "name": "stderr",
     "output_type": "stream",
     "text": [
      "\r",
      "Processing columns:  93%|█████████▎| 4924/5273 [22:14<01:25,  4.08it/s]"
     ]
    },
    {
     "name": "stderr",
     "output_type": "stream",
     "text": [
      "\r",
      "Processing columns:  93%|█████████▎| 4925/5273 [22:14<01:49,  3.19it/s]"
     ]
    },
    {
     "name": "stderr",
     "output_type": "stream",
     "text": [
      "\r",
      "Processing columns:  93%|█████████▎| 4926/5273 [22:14<01:40,  3.45it/s]"
     ]
    },
    {
     "name": "stderr",
     "output_type": "stream",
     "text": [
      "\r",
      "Processing columns:  93%|█████████▎| 4927/5273 [22:14<01:34,  3.64it/s]"
     ]
    },
    {
     "name": "stderr",
     "output_type": "stream",
     "text": [
      "\r",
      "Processing columns:  93%|█████████▎| 4928/5273 [22:15<01:31,  3.76it/s]"
     ]
    },
    {
     "name": "stderr",
     "output_type": "stream",
     "text": [
      "\r",
      "Processing columns:  93%|█████████▎| 4929/5273 [22:15<01:27,  3.92it/s]"
     ]
    },
    {
     "name": "stderr",
     "output_type": "stream",
     "text": [
      "\r",
      "Processing columns:  93%|█████████▎| 4930/5273 [22:15<01:25,  3.99it/s]"
     ]
    },
    {
     "name": "stderr",
     "output_type": "stream",
     "text": [
      "\r",
      "Processing columns:  94%|█████████▎| 4931/5273 [22:15<01:27,  3.90it/s]"
     ]
    },
    {
     "name": "stderr",
     "output_type": "stream",
     "text": [
      "\r",
      "Processing columns:  94%|█████████▎| 4932/5273 [22:16<01:25,  4.01it/s]"
     ]
    },
    {
     "name": "stderr",
     "output_type": "stream",
     "text": [
      "\r",
      "Processing columns:  94%|█████████▎| 4933/5273 [22:16<01:22,  4.11it/s]"
     ]
    },
    {
     "name": "stderr",
     "output_type": "stream",
     "text": [
      "\r",
      "Processing columns:  94%|█████████▎| 4934/5273 [22:16<01:21,  4.15it/s]"
     ]
    },
    {
     "name": "stderr",
     "output_type": "stream",
     "text": [
      "\r",
      "Processing columns:  94%|█████████▎| 4935/5273 [22:16<01:22,  4.09it/s]"
     ]
    },
    {
     "name": "stderr",
     "output_type": "stream",
     "text": [
      "\r",
      "Processing columns:  94%|█████████▎| 4936/5273 [22:17<01:22,  4.11it/s]"
     ]
    },
    {
     "name": "stderr",
     "output_type": "stream",
     "text": [
      "\r",
      "Processing columns:  94%|█████████▎| 4937/5273 [22:17<01:20,  4.16it/s]"
     ]
    },
    {
     "name": "stderr",
     "output_type": "stream",
     "text": [
      "\r",
      "Processing columns:  94%|█████████▎| 4938/5273 [22:17<01:17,  4.35it/s]"
     ]
    },
    {
     "name": "stderr",
     "output_type": "stream",
     "text": [
      "\r",
      "Processing columns:  94%|█████████▎| 4939/5273 [22:18<01:49,  3.04it/s]"
     ]
    },
    {
     "name": "stderr",
     "output_type": "stream",
     "text": [
      "\r",
      "Processing columns:  94%|█████████▎| 4940/5273 [22:18<01:39,  3.33it/s]"
     ]
    },
    {
     "name": "stderr",
     "output_type": "stream",
     "text": [
      "\r",
      "Processing columns:  94%|█████████▎| 4941/5273 [22:18<01:42,  3.25it/s]"
     ]
    },
    {
     "name": "stderr",
     "output_type": "stream",
     "text": [
      "\r",
      "Processing columns:  94%|█████████▎| 4942/5273 [22:18<01:31,  3.61it/s]"
     ]
    },
    {
     "name": "stderr",
     "output_type": "stream",
     "text": [
      "\r",
      "Processing columns:  94%|█████████▎| 4943/5273 [22:19<01:27,  3.77it/s]"
     ]
    },
    {
     "name": "stderr",
     "output_type": "stream",
     "text": [
      "\r",
      "Processing columns:  94%|█████████▍| 4944/5273 [22:19<01:24,  3.88it/s]"
     ]
    },
    {
     "name": "stderr",
     "output_type": "stream",
     "text": [
      "\r",
      "Processing columns:  94%|█████████▍| 4945/5273 [22:19<01:24,  3.87it/s]"
     ]
    },
    {
     "name": "stderr",
     "output_type": "stream",
     "text": [
      "\r",
      "Processing columns:  94%|█████████▍| 4946/5273 [22:19<01:21,  4.02it/s]"
     ]
    },
    {
     "name": "stderr",
     "output_type": "stream",
     "text": [
      "\r",
      "Processing columns:  94%|█████████▍| 4947/5273 [22:20<01:22,  3.95it/s]"
     ]
    },
    {
     "name": "stderr",
     "output_type": "stream",
     "text": [
      "\r",
      "Processing columns:  94%|█████████▍| 4948/5273 [22:20<01:21,  3.99it/s]"
     ]
    },
    {
     "name": "stderr",
     "output_type": "stream",
     "text": [
      "\r",
      "Processing columns:  94%|█████████▍| 4949/5273 [22:20<01:18,  4.12it/s]"
     ]
    },
    {
     "name": "stderr",
     "output_type": "stream",
     "text": [
      "\r",
      "Processing columns:  94%|█████████▍| 4950/5273 [22:20<01:14,  4.35it/s]"
     ]
    },
    {
     "name": "stderr",
     "output_type": "stream",
     "text": [
      "\r",
      "Processing columns:  94%|█████████▍| 4951/5273 [22:21<01:13,  4.38it/s]"
     ]
    },
    {
     "name": "stderr",
     "output_type": "stream",
     "text": [
      "\r",
      "Processing columns:  94%|█████████▍| 4952/5273 [22:21<01:45,  3.05it/s]"
     ]
    },
    {
     "name": "stderr",
     "output_type": "stream",
     "text": [
      "\r",
      "Processing columns:  94%|█████████▍| 4953/5273 [22:21<01:35,  3.35it/s]"
     ]
    },
    {
     "name": "stderr",
     "output_type": "stream",
     "text": [
      "\r",
      "Processing columns:  94%|█████████▍| 4954/5273 [22:22<01:32,  3.45it/s]"
     ]
    },
    {
     "name": "stderr",
     "output_type": "stream",
     "text": [
      "\r",
      "Processing columns:  94%|█████████▍| 4955/5273 [22:22<01:27,  3.64it/s]"
     ]
    },
    {
     "name": "stderr",
     "output_type": "stream",
     "text": [
      "\r",
      "Processing columns:  94%|█████████▍| 4956/5273 [22:22<01:22,  3.85it/s]"
     ]
    },
    {
     "name": "stderr",
     "output_type": "stream",
     "text": [
      "\r",
      "Processing columns:  94%|█████████▍| 4957/5273 [22:22<01:18,  4.01it/s]"
     ]
    },
    {
     "name": "stderr",
     "output_type": "stream",
     "text": [
      "\r",
      "Processing columns:  94%|█████████▍| 4958/5273 [22:23<01:20,  3.93it/s]"
     ]
    },
    {
     "name": "stderr",
     "output_type": "stream",
     "text": [
      "\r",
      "Processing columns:  94%|█████████▍| 4959/5273 [22:23<01:18,  4.00it/s]"
     ]
    },
    {
     "name": "stderr",
     "output_type": "stream",
     "text": [
      "\r",
      "Processing columns:  94%|█████████▍| 4960/5273 [22:23<01:16,  4.12it/s]"
     ]
    },
    {
     "name": "stderr",
     "output_type": "stream",
     "text": [
      "\r",
      "Processing columns:  94%|█████████▍| 4961/5273 [22:23<01:12,  4.29it/s]"
     ]
    },
    {
     "name": "stderr",
     "output_type": "stream",
     "text": [
      "\r",
      "Processing columns:  94%|█████████▍| 4962/5273 [22:23<01:11,  4.34it/s]"
     ]
    },
    {
     "name": "stderr",
     "output_type": "stream",
     "text": [
      "\r",
      "Processing columns:  94%|█████████▍| 4963/5273 [22:24<01:13,  4.21it/s]"
     ]
    },
    {
     "name": "stderr",
     "output_type": "stream",
     "text": [
      "\r",
      "Processing columns:  94%|█████████▍| 4964/5273 [22:24<01:13,  4.18it/s]"
     ]
    },
    {
     "name": "stderr",
     "output_type": "stream",
     "text": [
      "\r",
      "Processing columns:  94%|█████████▍| 4965/5273 [22:24<01:41,  3.04it/s]"
     ]
    },
    {
     "name": "stderr",
     "output_type": "stream",
     "text": [
      "\r",
      "Processing columns:  94%|█████████▍| 4966/5273 [22:25<01:30,  3.38it/s]"
     ]
    },
    {
     "name": "stderr",
     "output_type": "stream",
     "text": [
      "\r",
      "Processing columns:  94%|█████████▍| 4967/5273 [22:25<01:26,  3.55it/s]"
     ]
    },
    {
     "name": "stderr",
     "output_type": "stream",
     "text": [
      "\r",
      "Processing columns:  94%|█████████▍| 4968/5273 [22:25<01:28,  3.45it/s]"
     ]
    },
    {
     "name": "stderr",
     "output_type": "stream",
     "text": [
      "\r",
      "Processing columns:  94%|█████████▍| 4969/5273 [22:26<01:26,  3.51it/s]"
     ]
    },
    {
     "name": "stderr",
     "output_type": "stream",
     "text": [
      "\r",
      "Processing columns:  94%|█████████▍| 4970/5273 [22:26<01:19,  3.83it/s]"
     ]
    },
    {
     "name": "stderr",
     "output_type": "stream",
     "text": [
      "\r",
      "Processing columns:  94%|█████████▍| 4971/5273 [22:26<01:16,  3.95it/s]"
     ]
    },
    {
     "name": "stderr",
     "output_type": "stream",
     "text": [
      "\r",
      "Processing columns:  94%|█████████▍| 4972/5273 [22:26<01:14,  4.06it/s]"
     ]
    },
    {
     "name": "stderr",
     "output_type": "stream",
     "text": [
      "\r",
      "Processing columns:  94%|█████████▍| 4973/5273 [22:26<01:11,  4.18it/s]"
     ]
    },
    {
     "name": "stderr",
     "output_type": "stream",
     "text": [
      "\r",
      "Processing columns:  94%|█████████▍| 4974/5273 [22:27<01:10,  4.22it/s]"
     ]
    },
    {
     "name": "stderr",
     "output_type": "stream",
     "text": [
      "\r",
      "Processing columns:  94%|█████████▍| 4975/5273 [22:27<01:12,  4.09it/s]"
     ]
    },
    {
     "name": "stderr",
     "output_type": "stream",
     "text": [
      "\r",
      "Processing columns:  94%|█████████▍| 4976/5273 [22:27<01:15,  3.92it/s]"
     ]
    },
    {
     "name": "stderr",
     "output_type": "stream",
     "text": [
      "\r",
      "Processing columns:  94%|█████████▍| 4977/5273 [22:27<01:13,  4.04it/s]"
     ]
    },
    {
     "name": "stderr",
     "output_type": "stream",
     "text": [
      "\r",
      "Processing columns:  94%|█████████▍| 4978/5273 [22:28<01:36,  3.05it/s]"
     ]
    },
    {
     "name": "stderr",
     "output_type": "stream",
     "text": [
      "\r",
      "Processing columns:  94%|█████████▍| 4979/5273 [22:28<01:29,  3.30it/s]"
     ]
    },
    {
     "name": "stderr",
     "output_type": "stream",
     "text": [
      "\r",
      "Processing columns:  94%|█████████▍| 4980/5273 [22:28<01:21,  3.60it/s]"
     ]
    },
    {
     "name": "stderr",
     "output_type": "stream",
     "text": [
      "\r",
      "Processing columns:  94%|█████████▍| 4981/5273 [22:29<01:17,  3.78it/s]"
     ]
    },
    {
     "name": "stderr",
     "output_type": "stream",
     "text": [
      "\r",
      "Processing columns:  94%|█████████▍| 4982/5273 [22:29<01:13,  3.95it/s]"
     ]
    },
    {
     "name": "stderr",
     "output_type": "stream",
     "text": [
      "\r",
      "Processing columns:  95%|█████████▍| 4983/5273 [22:29<01:14,  3.88it/s]"
     ]
    },
    {
     "name": "stderr",
     "output_type": "stream",
     "text": [
      "\r",
      "Processing columns:  95%|█████████▍| 4984/5273 [22:29<01:11,  4.02it/s]"
     ]
    },
    {
     "name": "stderr",
     "output_type": "stream",
     "text": [
      "\r",
      "Processing columns:  95%|█████████▍| 4985/5273 [22:30<01:12,  3.99it/s]"
     ]
    },
    {
     "name": "stderr",
     "output_type": "stream",
     "text": [
      "\r",
      "Processing columns:  95%|█████████▍| 4986/5273 [22:30<01:12,  3.97it/s]"
     ]
    },
    {
     "name": "stderr",
     "output_type": "stream",
     "text": [
      "\r",
      "Processing columns:  95%|█████████▍| 4987/5273 [22:30<01:11,  4.02it/s]"
     ]
    },
    {
     "name": "stderr",
     "output_type": "stream",
     "text": [
      "\r",
      "Processing columns:  95%|█████████▍| 4988/5273 [22:30<01:10,  4.04it/s]"
     ]
    },
    {
     "name": "stderr",
     "output_type": "stream",
     "text": [
      "\r",
      "Processing columns:  95%|█████████▍| 4989/5273 [22:31<01:09,  4.10it/s]"
     ]
    },
    {
     "name": "stderr",
     "output_type": "stream",
     "text": [
      "\r",
      "Processing columns:  95%|█████████▍| 4990/5273 [22:31<01:07,  4.20it/s]"
     ]
    },
    {
     "name": "stderr",
     "output_type": "stream",
     "text": [
      "\r",
      "Processing columns:  95%|█████████▍| 4991/5273 [22:31<01:07,  4.17it/s]"
     ]
    },
    {
     "name": "stderr",
     "output_type": "stream",
     "text": [
      "\r",
      "Processing columns:  95%|█████████▍| 4992/5273 [22:32<01:37,  2.87it/s]"
     ]
    },
    {
     "name": "stderr",
     "output_type": "stream",
     "text": [
      "\r",
      "Processing columns:  95%|█████████▍| 4993/5273 [22:32<01:28,  3.15it/s]"
     ]
    },
    {
     "name": "stderr",
     "output_type": "stream",
     "text": [
      "\r",
      "Processing columns:  95%|█████████▍| 4994/5273 [22:32<01:24,  3.30it/s]"
     ]
    },
    {
     "name": "stderr",
     "output_type": "stream",
     "text": [
      "\r",
      "Processing columns:  95%|█████████▍| 4995/5273 [22:32<01:19,  3.52it/s]"
     ]
    },
    {
     "name": "stderr",
     "output_type": "stream",
     "text": [
      "\r",
      "Processing columns:  95%|█████████▍| 4996/5273 [22:33<01:14,  3.71it/s]"
     ]
    },
    {
     "name": "stderr",
     "output_type": "stream",
     "text": [
      "\r",
      "Processing columns:  95%|█████████▍| 4997/5273 [22:33<01:09,  3.97it/s]"
     ]
    },
    {
     "name": "stderr",
     "output_type": "stream",
     "text": [
      "\r",
      "Processing columns:  95%|█████████▍| 4998/5273 [22:33<01:09,  3.96it/s]"
     ]
    },
    {
     "name": "stderr",
     "output_type": "stream",
     "text": [
      "\r",
      "Processing columns:  95%|█████████▍| 4999/5273 [22:33<01:08,  4.01it/s]"
     ]
    },
    {
     "name": "stderr",
     "output_type": "stream",
     "text": [
      "\r",
      "Processing columns:  95%|█████████▍| 5000/5273 [22:34<01:07,  4.04it/s]"
     ]
    },
    {
     "name": "stderr",
     "output_type": "stream",
     "text": [
      "\r",
      "Processing columns:  95%|█████████▍| 5001/5273 [22:34<01:06,  4.08it/s]"
     ]
    },
    {
     "name": "stderr",
     "output_type": "stream",
     "text": [
      "\r",
      "Processing columns:  95%|█████████▍| 5002/5273 [22:34<01:05,  4.14it/s]"
     ]
    },
    {
     "name": "stderr",
     "output_type": "stream",
     "text": [
      "\r",
      "Processing columns:  95%|█████████▍| 5003/5273 [22:34<01:03,  4.26it/s]"
     ]
    },
    {
     "name": "stderr",
     "output_type": "stream",
     "text": [
      "\r",
      "Processing columns:  95%|█████████▍| 5004/5273 [22:35<01:07,  3.97it/s]"
     ]
    },
    {
     "name": "stderr",
     "output_type": "stream",
     "text": [
      "\r",
      "Processing columns:  95%|█████████▍| 5005/5273 [22:35<01:31,  2.93it/s]"
     ]
    },
    {
     "name": "stderr",
     "output_type": "stream",
     "text": [
      "\r",
      "Processing columns:  95%|█████████▍| 5006/5273 [22:35<01:23,  3.19it/s]"
     ]
    },
    {
     "name": "stderr",
     "output_type": "stream",
     "text": [
      "\r",
      "Processing columns:  95%|█████████▍| 5007/5273 [22:36<01:16,  3.46it/s]"
     ]
    },
    {
     "name": "stderr",
     "output_type": "stream",
     "text": [
      "\r",
      "Processing columns:  95%|█████████▍| 5008/5273 [22:36<01:16,  3.45it/s]"
     ]
    },
    {
     "name": "stderr",
     "output_type": "stream",
     "text": [
      "\r",
      "Processing columns:  95%|█████████▍| 5009/5273 [22:36<01:11,  3.67it/s]"
     ]
    },
    {
     "name": "stderr",
     "output_type": "stream",
     "text": [
      "\r",
      "Processing columns:  95%|█████████▌| 5010/5273 [22:36<01:08,  3.81it/s]"
     ]
    },
    {
     "name": "stderr",
     "output_type": "stream",
     "text": [
      "\r",
      "Processing columns:  95%|█████████▌| 5011/5273 [22:37<01:08,  3.84it/s]"
     ]
    },
    {
     "name": "stderr",
     "output_type": "stream",
     "text": [
      "\r",
      "Processing columns:  95%|█████████▌| 5012/5273 [22:37<01:05,  3.99it/s]"
     ]
    },
    {
     "name": "stderr",
     "output_type": "stream",
     "text": [
      "\r",
      "Processing columns:  95%|█████████▌| 5013/5273 [22:37<01:03,  4.12it/s]"
     ]
    },
    {
     "name": "stderr",
     "output_type": "stream",
     "text": [
      "\r",
      "Processing columns:  95%|█████████▌| 5014/5273 [22:37<01:01,  4.22it/s]"
     ]
    },
    {
     "name": "stderr",
     "output_type": "stream",
     "text": [
      "\r",
      "Processing columns:  95%|█████████▌| 5015/5273 [22:38<01:03,  4.06it/s]"
     ]
    },
    {
     "name": "stderr",
     "output_type": "stream",
     "text": [
      "\r",
      "Processing columns:  95%|█████████▌| 5016/5273 [22:38<01:02,  4.14it/s]"
     ]
    },
    {
     "name": "stderr",
     "output_type": "stream",
     "text": [
      "\r",
      "Processing columns:  95%|█████████▌| 5017/5273 [22:38<01:00,  4.26it/s]"
     ]
    },
    {
     "name": "stderr",
     "output_type": "stream",
     "text": [
      "\r",
      "Processing columns:  95%|█████████▌| 5018/5273 [22:39<01:37,  2.61it/s]"
     ]
    },
    {
     "name": "stderr",
     "output_type": "stream",
     "text": [
      "\r",
      "Processing columns:  95%|█████████▌| 5019/5273 [22:39<01:26,  2.93it/s]"
     ]
    },
    {
     "name": "stderr",
     "output_type": "stream",
     "text": [
      "\r",
      "Processing columns:  95%|█████████▌| 5020/5273 [22:39<01:16,  3.31it/s]"
     ]
    },
    {
     "name": "stderr",
     "output_type": "stream",
     "text": [
      "\r",
      "Processing columns:  95%|█████████▌| 5021/5273 [22:39<01:09,  3.63it/s]"
     ]
    },
    {
     "name": "stderr",
     "output_type": "stream",
     "text": [
      "\r",
      "Processing columns:  95%|█████████▌| 5022/5273 [22:40<01:05,  3.83it/s]"
     ]
    },
    {
     "name": "stderr",
     "output_type": "stream",
     "text": [
      "\r",
      "Processing columns:  95%|█████████▌| 5023/5273 [22:40<01:09,  3.59it/s]"
     ]
    },
    {
     "name": "stderr",
     "output_type": "stream",
     "text": [
      "\r",
      "Processing columns:  95%|█████████▌| 5024/5273 [22:40<01:06,  3.75it/s]"
     ]
    },
    {
     "name": "stderr",
     "output_type": "stream",
     "text": [
      "\r",
      "Processing columns:  95%|█████████▌| 5025/5273 [22:40<01:04,  3.85it/s]"
     ]
    },
    {
     "name": "stderr",
     "output_type": "stream",
     "text": [
      "\r",
      "Processing columns:  95%|█████████▌| 5026/5273 [22:41<01:12,  3.39it/s]"
     ]
    },
    {
     "name": "stderr",
     "output_type": "stream",
     "text": [
      "\r",
      "Processing columns:  95%|█████████▌| 5027/5273 [22:41<01:09,  3.56it/s]"
     ]
    },
    {
     "name": "stderr",
     "output_type": "stream",
     "text": [
      "\r",
      "Processing columns:  95%|█████████▌| 5028/5273 [22:41<01:04,  3.79it/s]"
     ]
    },
    {
     "name": "stderr",
     "output_type": "stream",
     "text": [
      "\r",
      "Processing columns:  95%|█████████▌| 5029/5273 [22:42<01:05,  3.75it/s]"
     ]
    },
    {
     "name": "stderr",
     "output_type": "stream",
     "text": [
      "\r",
      "Processing columns:  95%|█████████▌| 5030/5273 [22:42<01:02,  3.87it/s]"
     ]
    },
    {
     "name": "stderr",
     "output_type": "stream",
     "text": [
      "\r",
      "Processing columns:  95%|█████████▌| 5031/5273 [22:42<01:19,  3.03it/s]"
     ]
    },
    {
     "name": "stderr",
     "output_type": "stream",
     "text": [
      "\r",
      "Processing columns:  95%|█████████▌| 5032/5273 [22:43<01:11,  3.35it/s]"
     ]
    },
    {
     "name": "stderr",
     "output_type": "stream",
     "text": [
      "\r",
      "Processing columns:  95%|█████████▌| 5033/5273 [22:43<01:07,  3.58it/s]"
     ]
    },
    {
     "name": "stderr",
     "output_type": "stream",
     "text": [
      "\r",
      "Processing columns:  95%|█████████▌| 5034/5273 [22:43<01:03,  3.74it/s]"
     ]
    },
    {
     "name": "stderr",
     "output_type": "stream",
     "text": [
      "\r",
      "Processing columns:  95%|█████████▌| 5035/5273 [22:43<01:06,  3.57it/s]"
     ]
    },
    {
     "name": "stderr",
     "output_type": "stream",
     "text": [
      "\r",
      "Processing columns:  96%|█████████▌| 5036/5273 [22:44<01:06,  3.57it/s]"
     ]
    },
    {
     "name": "stderr",
     "output_type": "stream",
     "text": [
      "\r",
      "Processing columns:  96%|█████████▌| 5037/5273 [22:44<01:03,  3.70it/s]"
     ]
    },
    {
     "name": "stderr",
     "output_type": "stream",
     "text": [
      "\r",
      "Processing columns:  96%|█████████▌| 5038/5273 [22:44<01:00,  3.89it/s]"
     ]
    },
    {
     "name": "stderr",
     "output_type": "stream",
     "text": [
      "\r",
      "Processing columns:  96%|█████████▌| 5039/5273 [22:44<00:56,  4.11it/s]"
     ]
    },
    {
     "name": "stderr",
     "output_type": "stream",
     "text": [
      "\r",
      "Processing columns:  96%|█████████▌| 5040/5273 [22:44<00:54,  4.28it/s]"
     ]
    },
    {
     "name": "stderr",
     "output_type": "stream",
     "text": [
      "\r",
      "Processing columns:  96%|█████████▌| 5041/5273 [22:45<00:54,  4.26it/s]"
     ]
    },
    {
     "name": "stderr",
     "output_type": "stream",
     "text": [
      "\r",
      "Processing columns:  96%|█████████▌| 5042/5273 [22:45<00:54,  4.23it/s]"
     ]
    },
    {
     "name": "stderr",
     "output_type": "stream",
     "text": [
      "\r",
      "Processing columns:  96%|█████████▌| 5043/5273 [22:45<00:53,  4.31it/s]"
     ]
    },
    {
     "name": "stderr",
     "output_type": "stream",
     "text": [
      "\r",
      "Processing columns:  96%|█████████▌| 5044/5273 [22:46<01:08,  3.34it/s]"
     ]
    },
    {
     "name": "stderr",
     "output_type": "stream",
     "text": [
      "\r",
      "Processing columns:  96%|█████████▌| 5045/5273 [22:46<01:11,  3.20it/s]"
     ]
    },
    {
     "name": "stderr",
     "output_type": "stream",
     "text": [
      "\r",
      "Processing columns:  96%|█████████▌| 5046/5273 [22:46<01:04,  3.52it/s]"
     ]
    },
    {
     "name": "stderr",
     "output_type": "stream",
     "text": [
      "\r",
      "Processing columns:  96%|█████████▌| 5047/5273 [22:46<01:01,  3.68it/s]"
     ]
    },
    {
     "name": "stderr",
     "output_type": "stream",
     "text": [
      "\r",
      "Processing columns:  96%|█████████▌| 5048/5273 [22:47<00:57,  3.91it/s]"
     ]
    },
    {
     "name": "stderr",
     "output_type": "stream",
     "text": [
      "\r",
      "Processing columns:  96%|█████████▌| 5049/5273 [22:47<00:58,  3.81it/s]"
     ]
    },
    {
     "name": "stderr",
     "output_type": "stream",
     "text": [
      "\r",
      "Processing columns:  96%|█████████▌| 5050/5273 [22:47<00:55,  3.99it/s]"
     ]
    },
    {
     "name": "stderr",
     "output_type": "stream",
     "text": [
      "\r",
      "Processing columns:  96%|█████████▌| 5051/5273 [22:47<00:53,  4.14it/s]"
     ]
    },
    {
     "name": "stderr",
     "output_type": "stream",
     "text": [
      "\r",
      "Processing columns:  96%|█████████▌| 5052/5273 [22:48<00:53,  4.15it/s]"
     ]
    },
    {
     "name": "stderr",
     "output_type": "stream",
     "text": [
      "\r",
      "Processing columns:  96%|█████████▌| 5053/5273 [22:48<00:53,  4.12it/s]"
     ]
    },
    {
     "name": "stderr",
     "output_type": "stream",
     "text": [
      "\r",
      "Processing columns:  96%|█████████▌| 5054/5273 [22:48<00:51,  4.21it/s]"
     ]
    },
    {
     "name": "stderr",
     "output_type": "stream",
     "text": [
      "\r",
      "Processing columns:  96%|█████████▌| 5055/5273 [22:48<00:51,  4.20it/s]"
     ]
    },
    {
     "name": "stderr",
     "output_type": "stream",
     "text": [
      "\r",
      "Processing columns:  96%|█████████▌| 5056/5273 [22:49<00:51,  4.21it/s]"
     ]
    },
    {
     "name": "stderr",
     "output_type": "stream",
     "text": [
      "\r",
      "Processing columns:  96%|█████████▌| 5057/5273 [22:49<01:11,  3.03it/s]"
     ]
    },
    {
     "name": "stderr",
     "output_type": "stream",
     "text": [
      "\r",
      "Processing columns:  96%|█████████▌| 5058/5273 [22:49<01:03,  3.39it/s]"
     ]
    },
    {
     "name": "stderr",
     "output_type": "stream",
     "text": [
      "\r",
      "Processing columns:  96%|█████████▌| 5059/5273 [22:50<01:00,  3.53it/s]"
     ]
    },
    {
     "name": "stderr",
     "output_type": "stream",
     "text": [
      "\r",
      "Processing columns:  96%|█████████▌| 5060/5273 [22:50<00:54,  3.88it/s]"
     ]
    },
    {
     "name": "stderr",
     "output_type": "stream",
     "text": [
      "\r",
      "Processing columns:  96%|█████████▌| 5061/5273 [22:50<00:54,  3.92it/s]"
     ]
    },
    {
     "name": "stderr",
     "output_type": "stream",
     "text": [
      "\r",
      "Processing columns:  96%|█████████▌| 5062/5273 [22:50<00:52,  3.99it/s]"
     ]
    },
    {
     "name": "stderr",
     "output_type": "stream",
     "text": [
      "\r",
      "Processing columns:  96%|█████████▌| 5063/5273 [22:51<00:53,  3.92it/s]"
     ]
    },
    {
     "name": "stderr",
     "output_type": "stream",
     "text": [
      "\r",
      "Processing columns:  96%|█████████▌| 5064/5273 [22:51<00:51,  4.05it/s]"
     ]
    },
    {
     "name": "stderr",
     "output_type": "stream",
     "text": [
      "\r",
      "Processing columns:  96%|█████████▌| 5065/5273 [22:51<00:55,  3.77it/s]"
     ]
    },
    {
     "name": "stderr",
     "output_type": "stream",
     "text": [
      "\r",
      "Processing columns:  96%|█████████▌| 5066/5273 [22:51<00:52,  3.96it/s]"
     ]
    },
    {
     "name": "stderr",
     "output_type": "stream",
     "text": [
      "\r",
      "Processing columns:  96%|█████████▌| 5067/5273 [22:52<00:53,  3.83it/s]"
     ]
    },
    {
     "name": "stderr",
     "output_type": "stream",
     "text": [
      "\r",
      "Processing columns:  96%|█████████▌| 5068/5273 [22:52<00:51,  4.01it/s]"
     ]
    },
    {
     "name": "stderr",
     "output_type": "stream",
     "text": [
      "\r",
      "Processing columns:  96%|█████████▌| 5069/5273 [22:52<00:50,  4.05it/s]"
     ]
    },
    {
     "name": "stderr",
     "output_type": "stream",
     "text": [
      "\r",
      "Processing columns:  96%|█████████▌| 5070/5273 [22:52<00:47,  4.29it/s]"
     ]
    },
    {
     "name": "stderr",
     "output_type": "stream",
     "text": [
      "\r",
      "Processing columns:  96%|█████████▌| 5071/5273 [22:53<01:06,  3.06it/s]"
     ]
    },
    {
     "name": "stderr",
     "output_type": "stream",
     "text": [
      "\r",
      "Processing columns:  96%|█████████▌| 5072/5273 [22:53<01:00,  3.34it/s]"
     ]
    },
    {
     "name": "stderr",
     "output_type": "stream",
     "text": [
      "\r",
      "Processing columns:  96%|█████████▌| 5073/5273 [22:53<00:55,  3.59it/s]"
     ]
    },
    {
     "name": "stderr",
     "output_type": "stream",
     "text": [
      "\r",
      "Processing columns:  96%|█████████▌| 5074/5273 [22:53<00:52,  3.80it/s]"
     ]
    },
    {
     "name": "stderr",
     "output_type": "stream",
     "text": [
      "\r",
      "Processing columns:  96%|█████████▌| 5075/5273 [22:54<00:51,  3.88it/s]"
     ]
    },
    {
     "name": "stderr",
     "output_type": "stream",
     "text": [
      "\r",
      "Processing columns:  96%|█████████▋| 5076/5273 [22:54<00:50,  3.89it/s]"
     ]
    },
    {
     "name": "stderr",
     "output_type": "stream",
     "text": [
      "\r",
      "Processing columns:  96%|█████████▋| 5077/5273 [22:54<00:52,  3.76it/s]"
     ]
    },
    {
     "name": "stderr",
     "output_type": "stream",
     "text": [
      "\r",
      "Processing columns:  96%|█████████▋| 5078/5273 [22:54<00:49,  3.94it/s]"
     ]
    },
    {
     "name": "stderr",
     "output_type": "stream",
     "text": [
      "\r",
      "Processing columns:  96%|█████████▋| 5079/5273 [22:55<00:47,  4.05it/s]"
     ]
    },
    {
     "name": "stderr",
     "output_type": "stream",
     "text": [
      "\r",
      "Processing columns:  96%|█████████▋| 5080/5273 [22:55<00:47,  4.04it/s]"
     ]
    },
    {
     "name": "stderr",
     "output_type": "stream",
     "text": [
      "\r",
      "Processing columns:  96%|█████████▋| 5081/5273 [22:55<00:48,  3.93it/s]"
     ]
    },
    {
     "name": "stderr",
     "output_type": "stream",
     "text": [
      "\r",
      "Processing columns:  96%|█████████▋| 5082/5273 [22:56<00:49,  3.84it/s]"
     ]
    },
    {
     "name": "stderr",
     "output_type": "stream",
     "text": [
      "\r",
      "Processing columns:  96%|█████████▋| 5083/5273 [22:56<00:46,  4.06it/s]"
     ]
    },
    {
     "name": "stderr",
     "output_type": "stream",
     "text": [
      "\r",
      "Processing columns:  96%|█████████▋| 5084/5273 [22:56<01:00,  3.10it/s]"
     ]
    },
    {
     "name": "stderr",
     "output_type": "stream",
     "text": [
      "\r",
      "Processing columns:  96%|█████████▋| 5085/5273 [22:57<00:58,  3.21it/s]"
     ]
    },
    {
     "name": "stderr",
     "output_type": "stream",
     "text": [
      "\r",
      "Processing columns:  96%|█████████▋| 5086/5273 [22:57<00:52,  3.53it/s]"
     ]
    },
    {
     "name": "stderr",
     "output_type": "stream",
     "text": [
      "\r",
      "Processing columns:  96%|█████████▋| 5087/5273 [22:57<00:48,  3.80it/s]"
     ]
    },
    {
     "name": "stderr",
     "output_type": "stream",
     "text": [
      "\r",
      "Processing columns:  96%|█████████▋| 5088/5273 [22:57<00:49,  3.72it/s]"
     ]
    },
    {
     "name": "stderr",
     "output_type": "stream",
     "text": [
      "\r",
      "Processing columns:  97%|█████████▋| 5089/5273 [22:57<00:47,  3.86it/s]"
     ]
    },
    {
     "name": "stderr",
     "output_type": "stream",
     "text": [
      "\r",
      "Processing columns:  97%|█████████▋| 5090/5273 [22:58<00:43,  4.17it/s]"
     ]
    },
    {
     "name": "stderr",
     "output_type": "stream",
     "text": [
      "\r",
      "Processing columns:  97%|█████████▋| 5091/5273 [22:58<00:44,  4.08it/s]"
     ]
    },
    {
     "name": "stderr",
     "output_type": "stream",
     "text": [
      "\r",
      "Processing columns:  97%|█████████▋| 5092/5273 [22:58<00:43,  4.16it/s]"
     ]
    },
    {
     "name": "stderr",
     "output_type": "stream",
     "text": [
      "\r",
      "Processing columns:  97%|█████████▋| 5093/5273 [22:59<00:49,  3.62it/s]"
     ]
    },
    {
     "name": "stderr",
     "output_type": "stream",
     "text": [
      "\r",
      "Processing columns:  97%|█████████▋| 5094/5273 [22:59<00:47,  3.76it/s]"
     ]
    },
    {
     "name": "stderr",
     "output_type": "stream",
     "text": [
      "\r",
      "Processing columns:  97%|█████████▋| 5095/5273 [22:59<00:46,  3.85it/s]"
     ]
    },
    {
     "name": "stderr",
     "output_type": "stream",
     "text": [
      "\r",
      "Processing columns:  97%|█████████▋| 5096/5273 [22:59<00:46,  3.82it/s]"
     ]
    },
    {
     "name": "stderr",
     "output_type": "stream",
     "text": [
      "\r",
      "Processing columns:  97%|█████████▋| 5097/5273 [23:00<01:04,  2.75it/s]"
     ]
    },
    {
     "name": "stderr",
     "output_type": "stream",
     "text": [
      "\r",
      "Processing columns:  97%|█████████▋| 5098/5273 [23:00<00:56,  3.10it/s]"
     ]
    },
    {
     "name": "stderr",
     "output_type": "stream",
     "text": [
      "\r",
      "Processing columns:  97%|█████████▋| 5099/5273 [23:00<00:53,  3.25it/s]"
     ]
    },
    {
     "name": "stderr",
     "output_type": "stream",
     "text": [
      "\r",
      "Processing columns:  97%|█████████▋| 5100/5273 [23:01<00:47,  3.62it/s]"
     ]
    },
    {
     "name": "stderr",
     "output_type": "stream",
     "text": [
      "\r",
      "Processing columns:  97%|█████████▋| 5101/5273 [23:01<00:44,  3.85it/s]"
     ]
    },
    {
     "name": "stderr",
     "output_type": "stream",
     "text": [
      "\r",
      "Processing columns:  97%|█████████▋| 5102/5273 [23:01<00:44,  3.85it/s]"
     ]
    },
    {
     "name": "stderr",
     "output_type": "stream",
     "text": [
      "\r",
      "Processing columns:  97%|█████████▋| 5103/5273 [23:01<00:42,  3.98it/s]"
     ]
    },
    {
     "name": "stderr",
     "output_type": "stream",
     "text": [
      "\r",
      "Processing columns:  97%|█████████▋| 5104/5273 [23:02<00:42,  3.94it/s]"
     ]
    },
    {
     "name": "stderr",
     "output_type": "stream",
     "text": [
      "\r",
      "Processing columns:  97%|█████████▋| 5105/5273 [23:02<00:42,  3.95it/s]"
     ]
    },
    {
     "name": "stderr",
     "output_type": "stream",
     "text": [
      "\r",
      "Processing columns:  97%|█████████▋| 5106/5273 [23:02<00:40,  4.11it/s]"
     ]
    },
    {
     "name": "stderr",
     "output_type": "stream",
     "text": [
      "\r",
      "Processing columns:  97%|█████████▋| 5107/5273 [23:02<00:41,  4.00it/s]"
     ]
    },
    {
     "name": "stderr",
     "output_type": "stream",
     "text": [
      "\r",
      "Processing columns:  97%|█████████▋| 5108/5273 [23:03<00:43,  3.81it/s]"
     ]
    },
    {
     "name": "stderr",
     "output_type": "stream",
     "text": [
      "\r",
      "Processing columns:  97%|█████████▋| 5109/5273 [23:03<00:41,  3.98it/s]"
     ]
    },
    {
     "name": "stderr",
     "output_type": "stream",
     "text": [
      "\r",
      "Processing columns:  97%|█████████▋| 5110/5273 [23:03<00:54,  3.01it/s]"
     ]
    },
    {
     "name": "stderr",
     "output_type": "stream",
     "text": [
      "\r",
      "Processing columns:  97%|█████████▋| 5111/5273 [23:04<00:49,  3.28it/s]"
     ]
    },
    {
     "name": "stderr",
     "output_type": "stream",
     "text": [
      "\r",
      "Processing columns:  97%|█████████▋| 5112/5273 [23:04<00:45,  3.58it/s]"
     ]
    },
    {
     "name": "stderr",
     "output_type": "stream",
     "text": [
      "\r",
      "Processing columns:  97%|█████████▋| 5113/5273 [23:04<00:43,  3.69it/s]"
     ]
    },
    {
     "name": "stderr",
     "output_type": "stream",
     "text": [
      "\r",
      "Processing columns:  97%|█████████▋| 5114/5273 [23:04<00:44,  3.56it/s]"
     ]
    },
    {
     "name": "stderr",
     "output_type": "stream",
     "text": [
      "\r",
      "Processing columns:  97%|█████████▋| 5115/5273 [23:05<00:42,  3.74it/s]"
     ]
    },
    {
     "name": "stderr",
     "output_type": "stream",
     "text": [
      "\r",
      "Processing columns:  97%|█████████▋| 5116/5273 [23:05<00:40,  3.91it/s]"
     ]
    },
    {
     "name": "stderr",
     "output_type": "stream",
     "text": [
      "\r",
      "Processing columns:  97%|█████████▋| 5117/5273 [23:05<00:40,  3.89it/s]"
     ]
    },
    {
     "name": "stderr",
     "output_type": "stream",
     "text": [
      "\r",
      "Processing columns:  97%|█████████▋| 5118/5273 [23:05<00:38,  4.00it/s]"
     ]
    },
    {
     "name": "stderr",
     "output_type": "stream",
     "text": [
      "\r",
      "Processing columns:  97%|█████████▋| 5119/5273 [23:06<00:37,  4.13it/s]"
     ]
    },
    {
     "name": "stderr",
     "output_type": "stream",
     "text": [
      "\r",
      "Processing columns:  97%|█████████▋| 5120/5273 [23:06<00:37,  4.09it/s]"
     ]
    },
    {
     "name": "stderr",
     "output_type": "stream",
     "text": [
      "\r",
      "Processing columns:  97%|█████████▋| 5121/5273 [23:06<00:38,  3.91it/s]"
     ]
    },
    {
     "name": "stderr",
     "output_type": "stream",
     "text": [
      "\r",
      "Processing columns:  97%|█████████▋| 5122/5273 [23:06<00:36,  4.14it/s]"
     ]
    },
    {
     "name": "stderr",
     "output_type": "stream",
     "text": [
      "\r",
      "Processing columns:  97%|█████████▋| 5123/5273 [23:06<00:35,  4.24it/s]"
     ]
    },
    {
     "name": "stderr",
     "output_type": "stream",
     "text": [
      "\r",
      "Processing columns:  97%|█████████▋| 5124/5273 [23:07<00:57,  2.58it/s]"
     ]
    },
    {
     "name": "stderr",
     "output_type": "stream",
     "text": [
      "\r",
      "Processing columns:  97%|█████████▋| 5125/5273 [23:07<00:52,  2.84it/s]"
     ]
    },
    {
     "name": "stderr",
     "output_type": "stream",
     "text": [
      "\r",
      "Processing columns:  97%|█████████▋| 5126/5273 [23:08<00:47,  3.12it/s]"
     ]
    },
    {
     "name": "stderr",
     "output_type": "stream",
     "text": [
      "\r",
      "Processing columns:  97%|█████████▋| 5127/5273 [23:08<00:44,  3.30it/s]"
     ]
    },
    {
     "name": "stderr",
     "output_type": "stream",
     "text": [
      "\r",
      "Processing columns:  97%|█████████▋| 5128/5273 [23:08<00:40,  3.62it/s]"
     ]
    },
    {
     "name": "stderr",
     "output_type": "stream",
     "text": [
      "\r",
      "Processing columns:  97%|█████████▋| 5129/5273 [23:08<00:38,  3.70it/s]"
     ]
    },
    {
     "name": "stderr",
     "output_type": "stream",
     "text": [
      "\r",
      "Processing columns:  97%|█████████▋| 5130/5273 [23:09<00:37,  3.84it/s]"
     ]
    },
    {
     "name": "stderr",
     "output_type": "stream",
     "text": [
      "\r",
      "Processing columns:  97%|█████████▋| 5131/5273 [23:09<00:35,  3.97it/s]"
     ]
    },
    {
     "name": "stderr",
     "output_type": "stream",
     "text": [
      "\r",
      "Processing columns:  97%|█████████▋| 5132/5273 [23:09<00:35,  4.01it/s]"
     ]
    },
    {
     "name": "stderr",
     "output_type": "stream",
     "text": [
      "\r",
      "Processing columns:  97%|█████████▋| 5133/5273 [23:09<00:37,  3.74it/s]"
     ]
    },
    {
     "name": "stderr",
     "output_type": "stream",
     "text": [
      "\r",
      "Processing columns:  97%|█████████▋| 5134/5273 [23:10<00:35,  3.94it/s]"
     ]
    },
    {
     "name": "stderr",
     "output_type": "stream",
     "text": [
      "\r",
      "Processing columns:  97%|█████████▋| 5135/5273 [23:10<00:34,  4.04it/s]"
     ]
    },
    {
     "name": "stderr",
     "output_type": "stream",
     "text": [
      "\r",
      "Processing columns:  97%|█████████▋| 5136/5273 [23:10<00:34,  4.00it/s]"
     ]
    },
    {
     "name": "stderr",
     "output_type": "stream",
     "text": [
      "\r",
      "Processing columns:  97%|█████████▋| 5137/5273 [23:11<00:48,  2.82it/s]"
     ]
    },
    {
     "name": "stderr",
     "output_type": "stream",
     "text": [
      "\r",
      "Processing columns:  97%|█████████▋| 5138/5273 [23:11<00:42,  3.18it/s]"
     ]
    },
    {
     "name": "stderr",
     "output_type": "stream",
     "text": [
      "\r",
      "Processing columns:  97%|█████████▋| 5139/5273 [23:11<00:45,  2.98it/s]"
     ]
    },
    {
     "name": "stderr",
     "output_type": "stream",
     "text": [
      "\r",
      "Processing columns:  97%|█████████▋| 5140/5273 [23:12<00:39,  3.36it/s]"
     ]
    },
    {
     "name": "stderr",
     "output_type": "stream",
     "text": [
      "\r",
      "Processing columns:  97%|█████████▋| 5141/5273 [23:12<00:36,  3.64it/s]"
     ]
    },
    {
     "name": "stderr",
     "output_type": "stream",
     "text": [
      "\r",
      "Processing columns:  98%|█████████▊| 5142/5273 [23:12<00:33,  3.86it/s]"
     ]
    },
    {
     "name": "stderr",
     "output_type": "stream",
     "text": [
      "\r",
      "Processing columns:  98%|█████████▊| 5143/5273 [23:12<00:33,  3.94it/s]"
     ]
    },
    {
     "name": "stderr",
     "output_type": "stream",
     "text": [
      "\r",
      "Processing columns:  98%|█████████▊| 5144/5273 [23:13<00:32,  4.00it/s]"
     ]
    },
    {
     "name": "stderr",
     "output_type": "stream",
     "text": [
      "\r",
      "Processing columns:  98%|█████████▊| 5145/5273 [23:13<00:32,  3.94it/s]"
     ]
    },
    {
     "name": "stderr",
     "output_type": "stream",
     "text": [
      "\r",
      "Processing columns:  98%|█████████▊| 5146/5273 [23:13<00:30,  4.15it/s]"
     ]
    },
    {
     "name": "stderr",
     "output_type": "stream",
     "text": [
      "\r",
      "Processing columns:  98%|█████████▊| 5147/5273 [23:13<00:30,  4.13it/s]"
     ]
    },
    {
     "name": "stderr",
     "output_type": "stream",
     "text": [
      "\r",
      "Processing columns:  98%|█████████▊| 5148/5273 [23:14<00:31,  3.91it/s]"
     ]
    },
    {
     "name": "stderr",
     "output_type": "stream",
     "text": [
      "\r",
      "Processing columns:  98%|█████████▊| 5149/5273 [23:14<00:30,  4.05it/s]"
     ]
    },
    {
     "name": "stderr",
     "output_type": "stream",
     "text": [
      "\r",
      "Processing columns:  98%|█████████▊| 5150/5273 [23:14<00:39,  3.12it/s]"
     ]
    },
    {
     "name": "stderr",
     "output_type": "stream",
     "text": [
      "\r",
      "Processing columns:  98%|█████████▊| 5151/5273 [23:14<00:35,  3.45it/s]"
     ]
    },
    {
     "name": "stderr",
     "output_type": "stream",
     "text": [
      "\r",
      "Processing columns:  98%|█████████▊| 5152/5273 [23:15<00:35,  3.41it/s]"
     ]
    },
    {
     "name": "stderr",
     "output_type": "stream",
     "text": [
      "\r",
      "Processing columns:  98%|█████████▊| 5153/5273 [23:15<00:32,  3.67it/s]"
     ]
    },
    {
     "name": "stderr",
     "output_type": "stream",
     "text": [
      "\r",
      "Processing columns:  98%|█████████▊| 5154/5273 [23:15<00:33,  3.55it/s]"
     ]
    },
    {
     "name": "stderr",
     "output_type": "stream",
     "text": [
      "\r",
      "Processing columns:  98%|█████████▊| 5155/5273 [23:16<00:32,  3.65it/s]"
     ]
    },
    {
     "name": "stderr",
     "output_type": "stream",
     "text": [
      "\r",
      "Processing columns:  98%|█████████▊| 5156/5273 [23:16<00:30,  3.79it/s]"
     ]
    },
    {
     "name": "stderr",
     "output_type": "stream",
     "text": [
      "\r",
      "Processing columns:  98%|█████████▊| 5157/5273 [23:16<00:29,  3.95it/s]"
     ]
    },
    {
     "name": "stderr",
     "output_type": "stream",
     "text": [
      "\r",
      "Processing columns:  98%|█████████▊| 5158/5273 [23:16<00:30,  3.77it/s]"
     ]
    },
    {
     "name": "stderr",
     "output_type": "stream",
     "text": [
      "\r",
      "Processing columns:  98%|█████████▊| 5159/5273 [23:17<00:29,  3.88it/s]"
     ]
    },
    {
     "name": "stderr",
     "output_type": "stream",
     "text": [
      "\r",
      "Processing columns:  98%|█████████▊| 5160/5273 [23:17<00:28,  3.94it/s]"
     ]
    },
    {
     "name": "stderr",
     "output_type": "stream",
     "text": [
      "\r",
      "Processing columns:  98%|█████████▊| 5161/5273 [23:17<00:27,  4.01it/s]"
     ]
    },
    {
     "name": "stderr",
     "output_type": "stream",
     "text": [
      "\r",
      "Processing columns:  98%|█████████▊| 5162/5273 [23:17<00:27,  4.06it/s]"
     ]
    },
    {
     "name": "stderr",
     "output_type": "stream",
     "text": [
      "\r",
      "Processing columns:  98%|█████████▊| 5163/5273 [23:18<00:38,  2.86it/s]"
     ]
    },
    {
     "name": "stderr",
     "output_type": "stream",
     "text": [
      "\r",
      "Processing columns:  98%|█████████▊| 5164/5273 [23:18<00:34,  3.15it/s]"
     ]
    },
    {
     "name": "stderr",
     "output_type": "stream",
     "text": [
      "\r",
      "Processing columns:  98%|█████████▊| 5165/5273 [23:18<00:31,  3.39it/s]"
     ]
    },
    {
     "name": "stderr",
     "output_type": "stream",
     "text": [
      "\r",
      "Processing columns:  98%|█████████▊| 5166/5273 [23:19<00:30,  3.56it/s]"
     ]
    },
    {
     "name": "stderr",
     "output_type": "stream",
     "text": [
      "\r",
      "Processing columns:  98%|█████████▊| 5167/5273 [23:19<00:28,  3.70it/s]"
     ]
    },
    {
     "name": "stderr",
     "output_type": "stream",
     "text": [
      "\r",
      "Processing columns:  98%|█████████▊| 5168/5273 [23:19<00:27,  3.78it/s]"
     ]
    },
    {
     "name": "stderr",
     "output_type": "stream",
     "text": [
      "\r",
      "Processing columns:  98%|█████████▊| 5169/5273 [23:19<00:26,  3.89it/s]"
     ]
    },
    {
     "name": "stderr",
     "output_type": "stream",
     "text": [
      "\r",
      "Processing columns:  98%|█████████▊| 5170/5273 [23:20<00:24,  4.16it/s]"
     ]
    },
    {
     "name": "stderr",
     "output_type": "stream",
     "text": [
      "\r",
      "Processing columns:  98%|█████████▊| 5171/5273 [23:20<00:25,  4.03it/s]"
     ]
    },
    {
     "name": "stderr",
     "output_type": "stream",
     "text": [
      "\r",
      "Processing columns:  98%|█████████▊| 5172/5273 [23:20<00:24,  4.14it/s]"
     ]
    },
    {
     "name": "stderr",
     "output_type": "stream",
     "text": [
      "\r",
      "Processing columns:  98%|█████████▊| 5173/5273 [23:20<00:23,  4.23it/s]"
     ]
    },
    {
     "name": "stderr",
     "output_type": "stream",
     "text": [
      "\r",
      "Processing columns:  98%|█████████▊| 5174/5273 [23:21<00:23,  4.20it/s]"
     ]
    },
    {
     "name": "stderr",
     "output_type": "stream",
     "text": [
      "\r",
      "Processing columns:  98%|█████████▊| 5175/5273 [23:21<00:24,  4.05it/s]"
     ]
    },
    {
     "name": "stderr",
     "output_type": "stream",
     "text": [
      "\r",
      "Processing columns:  98%|█████████▊| 5176/5273 [23:21<00:33,  2.89it/s]"
     ]
    },
    {
     "name": "stderr",
     "output_type": "stream",
     "text": [
      "\r",
      "Processing columns:  98%|█████████▊| 5177/5273 [23:22<00:30,  3.12it/s]"
     ]
    },
    {
     "name": "stderr",
     "output_type": "stream",
     "text": [
      "\r",
      "Processing columns:  98%|█████████▊| 5178/5273 [23:22<00:28,  3.36it/s]"
     ]
    },
    {
     "name": "stderr",
     "output_type": "stream",
     "text": [
      "\r",
      "Processing columns:  98%|█████████▊| 5179/5273 [23:22<00:26,  3.58it/s]"
     ]
    },
    {
     "name": "stderr",
     "output_type": "stream",
     "text": [
      "\r",
      "Processing columns:  98%|█████████▊| 5180/5273 [23:22<00:24,  3.75it/s]"
     ]
    },
    {
     "name": "stderr",
     "output_type": "stream",
     "text": [
      "\r",
      "Processing columns:  98%|█████████▊| 5181/5273 [23:23<00:23,  3.92it/s]"
     ]
    },
    {
     "name": "stderr",
     "output_type": "stream",
     "text": [
      "\r",
      "Processing columns:  98%|█████████▊| 5182/5273 [23:23<00:26,  3.45it/s]"
     ]
    },
    {
     "name": "stderr",
     "output_type": "stream",
     "text": [
      "\r",
      "Processing columns:  98%|█████████▊| 5183/5273 [23:23<00:27,  3.31it/s]"
     ]
    },
    {
     "name": "stderr",
     "output_type": "stream",
     "text": [
      "\r",
      "Processing columns:  98%|█████████▊| 5184/5273 [23:23<00:24,  3.67it/s]"
     ]
    },
    {
     "name": "stderr",
     "output_type": "stream",
     "text": [
      "\r",
      "Processing columns:  98%|█████████▊| 5185/5273 [23:24<00:22,  3.92it/s]"
     ]
    },
    {
     "name": "stderr",
     "output_type": "stream",
     "text": [
      "\r",
      "Processing columns:  98%|█████████▊| 5186/5273 [23:24<00:24,  3.59it/s]"
     ]
    },
    {
     "name": "stderr",
     "output_type": "stream",
     "text": [
      "\r",
      "Processing columns:  98%|█████████▊| 5187/5273 [23:24<00:23,  3.65it/s]"
     ]
    },
    {
     "name": "stderr",
     "output_type": "stream",
     "text": [
      "\r",
      "Processing columns:  98%|█████████▊| 5188/5273 [23:25<00:22,  3.73it/s]"
     ]
    },
    {
     "name": "stderr",
     "output_type": "stream",
     "text": [
      "\r",
      "Processing columns:  98%|█████████▊| 5189/5273 [23:25<00:29,  2.88it/s]"
     ]
    },
    {
     "name": "stderr",
     "output_type": "stream",
     "text": [
      "\r",
      "Processing columns:  98%|█████████▊| 5190/5273 [23:25<00:25,  3.30it/s]"
     ]
    },
    {
     "name": "stderr",
     "output_type": "stream",
     "text": [
      "\r",
      "Processing columns:  98%|█████████▊| 5191/5273 [23:25<00:22,  3.58it/s]"
     ]
    },
    {
     "name": "stderr",
     "output_type": "stream",
     "text": [
      "\r",
      "Processing columns:  98%|█████████▊| 5192/5273 [23:26<00:22,  3.62it/s]"
     ]
    },
    {
     "name": "stderr",
     "output_type": "stream",
     "text": [
      "\r",
      "Processing columns:  98%|█████████▊| 5193/5273 [23:26<00:21,  3.77it/s]"
     ]
    },
    {
     "name": "stderr",
     "output_type": "stream",
     "text": [
      "\r",
      "Processing columns:  99%|█████████▊| 5194/5273 [23:26<00:19,  3.98it/s]"
     ]
    },
    {
     "name": "stderr",
     "output_type": "stream",
     "text": [
      "\r",
      "Processing columns:  99%|█████████▊| 5195/5273 [23:26<00:18,  4.13it/s]"
     ]
    },
    {
     "name": "stderr",
     "output_type": "stream",
     "text": [
      "\r",
      "Processing columns:  99%|█████████▊| 5196/5273 [23:27<00:18,  4.07it/s]"
     ]
    },
    {
     "name": "stderr",
     "output_type": "stream",
     "text": [
      "\r",
      "Processing columns:  99%|█████████▊| 5197/5273 [23:27<00:19,  3.85it/s]"
     ]
    },
    {
     "name": "stderr",
     "output_type": "stream",
     "text": [
      "\r",
      "Processing columns:  99%|█████████▊| 5198/5273 [23:27<00:19,  3.78it/s]"
     ]
    },
    {
     "name": "stderr",
     "output_type": "stream",
     "text": [
      "\r",
      "Processing columns:  99%|█████████▊| 5199/5273 [23:27<00:18,  3.91it/s]"
     ]
    },
    {
     "name": "stderr",
     "output_type": "stream",
     "text": [
      "\r",
      "Processing columns:  99%|█████████▊| 5200/5273 [23:28<00:18,  4.03it/s]"
     ]
    },
    {
     "name": "stderr",
     "output_type": "stream",
     "text": [
      "\r",
      "Processing columns:  99%|█████████▊| 5201/5273 [23:28<00:17,  4.12it/s]"
     ]
    },
    {
     "name": "stderr",
     "output_type": "stream",
     "text": [
      "\r",
      "Processing columns:  99%|█████████▊| 5202/5273 [23:28<00:16,  4.20it/s]"
     ]
    },
    {
     "name": "stderr",
     "output_type": "stream",
     "text": [
      "\r",
      "Processing columns:  99%|█████████▊| 5203/5273 [23:29<00:24,  2.85it/s]"
     ]
    },
    {
     "name": "stderr",
     "output_type": "stream",
     "text": [
      "\r",
      "Processing columns:  99%|█████████▊| 5204/5273 [23:29<00:22,  3.07it/s]"
     ]
    },
    {
     "name": "stderr",
     "output_type": "stream",
     "text": [
      "\r",
      "Processing columns:  99%|█████████▊| 5205/5273 [23:29<00:20,  3.33it/s]"
     ]
    },
    {
     "name": "stderr",
     "output_type": "stream",
     "text": [
      "\r",
      "Processing columns:  99%|█████████▊| 5206/5273 [23:30<00:18,  3.55it/s]"
     ]
    },
    {
     "name": "stderr",
     "output_type": "stream",
     "text": [
      "\r",
      "Processing columns:  99%|█████████▊| 5207/5273 [23:30<00:18,  3.59it/s]"
     ]
    },
    {
     "name": "stderr",
     "output_type": "stream",
     "text": [
      "\r",
      "Processing columns:  99%|█████████▉| 5208/5273 [23:30<00:17,  3.74it/s]"
     ]
    },
    {
     "name": "stderr",
     "output_type": "stream",
     "text": [
      "\r",
      "Processing columns:  99%|█████████▉| 5209/5273 [23:30<00:17,  3.62it/s]"
     ]
    },
    {
     "name": "stderr",
     "output_type": "stream",
     "text": [
      "\r",
      "Processing columns:  99%|█████████▉| 5210/5273 [23:31<00:16,  3.79it/s]"
     ]
    },
    {
     "name": "stderr",
     "output_type": "stream",
     "text": [
      "\r",
      "Processing columns:  99%|█████████▉| 5211/5273 [23:31<00:15,  4.13it/s]"
     ]
    },
    {
     "name": "stderr",
     "output_type": "stream",
     "text": [
      "\r",
      "Processing columns:  99%|█████████▉| 5212/5273 [23:31<00:14,  4.07it/s]"
     ]
    },
    {
     "name": "stderr",
     "output_type": "stream",
     "text": [
      "\r",
      "Processing columns:  99%|█████████▉| 5213/5273 [23:31<00:14,  4.15it/s]"
     ]
    },
    {
     "name": "stderr",
     "output_type": "stream",
     "text": [
      "\r",
      "Processing columns:  99%|█████████▉| 5214/5273 [23:31<00:13,  4.22it/s]"
     ]
    },
    {
     "name": "stderr",
     "output_type": "stream",
     "text": [
      "\r",
      "Processing columns:  99%|█████████▉| 5215/5273 [23:32<00:14,  4.04it/s]"
     ]
    },
    {
     "name": "stderr",
     "output_type": "stream",
     "text": [
      "\r",
      "Processing columns:  99%|█████████▉| 5216/5273 [23:33<00:23,  2.38it/s]"
     ]
    },
    {
     "name": "stderr",
     "output_type": "stream",
     "text": [
      "\r",
      "Processing columns:  99%|█████████▉| 5217/5273 [23:33<00:21,  2.61it/s]"
     ]
    },
    {
     "name": "stderr",
     "output_type": "stream",
     "text": [
      "\r",
      "Processing columns:  99%|█████████▉| 5218/5273 [23:33<00:19,  2.84it/s]"
     ]
    },
    {
     "name": "stderr",
     "output_type": "stream",
     "text": [
      "\r",
      "Processing columns:  99%|█████████▉| 5219/5273 [23:33<00:16,  3.24it/s]"
     ]
    },
    {
     "name": "stderr",
     "output_type": "stream",
     "text": [
      "\r",
      "Processing columns:  99%|█████████▉| 5220/5273 [23:34<00:16,  3.30it/s]"
     ]
    },
    {
     "name": "stderr",
     "output_type": "stream",
     "text": [
      "\r",
      "Processing columns:  99%|█████████▉| 5221/5273 [23:34<00:14,  3.57it/s]"
     ]
    },
    {
     "name": "stderr",
     "output_type": "stream",
     "text": [
      "\r",
      "Processing columns:  99%|█████████▉| 5222/5273 [23:34<00:13,  3.85it/s]"
     ]
    },
    {
     "name": "stderr",
     "output_type": "stream",
     "text": [
      "\r",
      "Processing columns:  99%|█████████▉| 5223/5273 [23:34<00:12,  3.92it/s]"
     ]
    },
    {
     "name": "stderr",
     "output_type": "stream",
     "text": [
      "\r",
      "Processing columns:  99%|█████████▉| 5224/5273 [23:35<00:12,  4.07it/s]"
     ]
    },
    {
     "name": "stderr",
     "output_type": "stream",
     "text": [
      "\r",
      "Processing columns:  99%|█████████▉| 5225/5273 [23:35<00:11,  4.07it/s]"
     ]
    },
    {
     "name": "stderr",
     "output_type": "stream",
     "text": [
      "\r",
      "Processing columns:  99%|█████████▉| 5226/5273 [23:35<00:11,  3.99it/s]"
     ]
    },
    {
     "name": "stderr",
     "output_type": "stream",
     "text": [
      "\r",
      "Processing columns:  99%|█████████▉| 5227/5273 [23:35<00:12,  3.82it/s]"
     ]
    },
    {
     "name": "stderr",
     "output_type": "stream",
     "text": [
      "\r",
      "Processing columns:  99%|█████████▉| 5228/5273 [23:36<00:11,  3.87it/s]"
     ]
    },
    {
     "name": "stderr",
     "output_type": "stream",
     "text": [
      "\r",
      "Processing columns:  99%|█████████▉| 5229/5273 [23:36<00:14,  3.00it/s]"
     ]
    },
    {
     "name": "stderr",
     "output_type": "stream",
     "text": [
      "\r",
      "Processing columns:  99%|█████████▉| 5230/5273 [23:36<00:13,  3.25it/s]"
     ]
    },
    {
     "name": "stderr",
     "output_type": "stream",
     "text": [
      "\r",
      "Processing columns:  99%|█████████▉| 5231/5273 [23:37<00:11,  3.58it/s]"
     ]
    },
    {
     "name": "stderr",
     "output_type": "stream",
     "text": [
      "\r",
      "Processing columns:  99%|█████████▉| 5232/5273 [23:37<00:11,  3.69it/s]"
     ]
    },
    {
     "name": "stderr",
     "output_type": "stream",
     "text": [
      "\r",
      "Processing columns:  99%|█████████▉| 5233/5273 [23:37<00:10,  3.94it/s]"
     ]
    },
    {
     "name": "stderr",
     "output_type": "stream",
     "text": [
      "\r",
      "Processing columns:  99%|█████████▉| 5234/5273 [23:37<00:09,  4.13it/s]"
     ]
    },
    {
     "name": "stderr",
     "output_type": "stream",
     "text": [
      "\r",
      "Processing columns:  99%|█████████▉| 5235/5273 [23:38<00:09,  4.12it/s]"
     ]
    },
    {
     "name": "stderr",
     "output_type": "stream",
     "text": [
      "\r",
      "Processing columns:  99%|█████████▉| 5236/5273 [23:38<00:09,  3.95it/s]"
     ]
    },
    {
     "name": "stderr",
     "output_type": "stream",
     "text": [
      "\r",
      "Processing columns:  99%|█████████▉| 5237/5273 [23:38<00:08,  4.09it/s]"
     ]
    },
    {
     "name": "stderr",
     "output_type": "stream",
     "text": [
      "\r",
      "Processing columns:  99%|█████████▉| 5238/5273 [23:38<00:08,  4.09it/s]"
     ]
    },
    {
     "name": "stderr",
     "output_type": "stream",
     "text": [
      "\r",
      "Processing columns:  99%|█████████▉| 5239/5273 [23:38<00:07,  4.26it/s]"
     ]
    },
    {
     "name": "stderr",
     "output_type": "stream",
     "text": [
      "\r",
      "Processing columns:  99%|█████████▉| 5240/5273 [23:39<00:08,  3.99it/s]"
     ]
    },
    {
     "name": "stderr",
     "output_type": "stream",
     "text": [
      "\r",
      "Processing columns:  99%|█████████▉| 5241/5273 [23:39<00:07,  4.01it/s]"
     ]
    },
    {
     "name": "stderr",
     "output_type": "stream",
     "text": [
      "\r",
      "Processing columns:  99%|█████████▉| 5242/5273 [23:40<00:10,  3.06it/s]"
     ]
    },
    {
     "name": "stderr",
     "output_type": "stream",
     "text": [
      "\r",
      "Processing columns:  99%|█████████▉| 5243/5273 [23:40<00:08,  3.37it/s]"
     ]
    },
    {
     "name": "stderr",
     "output_type": "stream",
     "text": [
      "\r",
      "Processing columns:  99%|█████████▉| 5244/5273 [23:40<00:07,  3.68it/s]"
     ]
    },
    {
     "name": "stderr",
     "output_type": "stream",
     "text": [
      "\r",
      "Processing columns:  99%|█████████▉| 5245/5273 [23:40<00:07,  3.52it/s]"
     ]
    },
    {
     "name": "stderr",
     "output_type": "stream",
     "text": [
      "\r",
      "Processing columns:  99%|█████████▉| 5246/5273 [23:40<00:07,  3.84it/s]"
     ]
    },
    {
     "name": "stderr",
     "output_type": "stream",
     "text": [
      "\r",
      "Processing columns: 100%|█████████▉| 5247/5273 [23:41<00:06,  3.91it/s]"
     ]
    },
    {
     "name": "stderr",
     "output_type": "stream",
     "text": [
      "\r",
      "Processing columns: 100%|█████████▉| 5248/5273 [23:41<00:06,  3.98it/s]"
     ]
    },
    {
     "name": "stderr",
     "output_type": "stream",
     "text": [
      "\r",
      "Processing columns: 100%|█████████▉| 5249/5273 [23:41<00:06,  3.59it/s]"
     ]
    },
    {
     "name": "stderr",
     "output_type": "stream",
     "text": [
      "\r",
      "Processing columns: 100%|█████████▉| 5250/5273 [23:42<00:06,  3.83it/s]"
     ]
    },
    {
     "name": "stderr",
     "output_type": "stream",
     "text": [
      "\r",
      "Processing columns: 100%|█████████▉| 5251/5273 [23:42<00:05,  4.06it/s]"
     ]
    },
    {
     "name": "stderr",
     "output_type": "stream",
     "text": [
      "\r",
      "Processing columns: 100%|█████████▉| 5252/5273 [23:42<00:05,  3.92it/s]"
     ]
    },
    {
     "name": "stderr",
     "output_type": "stream",
     "text": [
      "\r",
      "Processing columns: 100%|█████████▉| 5253/5273 [23:42<00:04,  4.16it/s]"
     ]
    },
    {
     "name": "stderr",
     "output_type": "stream",
     "text": [
      "\r",
      "Processing columns: 100%|█████████▉| 5254/5273 [23:42<00:04,  4.09it/s]"
     ]
    },
    {
     "name": "stderr",
     "output_type": "stream",
     "text": [
      "\r",
      "Processing columns: 100%|█████████▉| 5255/5273 [23:43<00:06,  2.78it/s]"
     ]
    },
    {
     "name": "stderr",
     "output_type": "stream",
     "text": [
      "\r",
      "Processing columns: 100%|█████████▉| 5256/5273 [23:43<00:05,  3.11it/s]"
     ]
    },
    {
     "name": "stderr",
     "output_type": "stream",
     "text": [
      "\r",
      "Processing columns: 100%|█████████▉| 5257/5273 [23:44<00:04,  3.32it/s]"
     ]
    },
    {
     "name": "stderr",
     "output_type": "stream",
     "text": [
      "\r",
      "Processing columns: 100%|█████████▉| 5258/5273 [23:44<00:04,  3.44it/s]"
     ]
    },
    {
     "name": "stderr",
     "output_type": "stream",
     "text": [
      "\r",
      "Processing columns: 100%|█████████▉| 5259/5273 [23:44<00:03,  3.60it/s]"
     ]
    },
    {
     "name": "stderr",
     "output_type": "stream",
     "text": [
      "\r",
      "Processing columns: 100%|█████████▉| 5260/5273 [23:44<00:03,  3.79it/s]"
     ]
    },
    {
     "name": "stderr",
     "output_type": "stream",
     "text": [
      "\r",
      "Processing columns: 100%|█████████▉| 5261/5273 [23:45<00:03,  3.75it/s]"
     ]
    },
    {
     "name": "stderr",
     "output_type": "stream",
     "text": [
      "\r",
      "Processing columns: 100%|█████████▉| 5262/5273 [23:45<00:02,  3.89it/s]"
     ]
    },
    {
     "name": "stderr",
     "output_type": "stream",
     "text": [
      "\r",
      "Processing columns: 100%|█████████▉| 5263/5273 [23:45<00:02,  4.06it/s]"
     ]
    },
    {
     "name": "stderr",
     "output_type": "stream",
     "text": [
      "\r",
      "Processing columns: 100%|█████████▉| 5264/5273 [23:45<00:02,  3.95it/s]"
     ]
    },
    {
     "name": "stderr",
     "output_type": "stream",
     "text": [
      "\r",
      "Processing columns: 100%|█████████▉| 5265/5273 [23:46<00:01,  4.11it/s]"
     ]
    },
    {
     "name": "stderr",
     "output_type": "stream",
     "text": [
      "\r",
      "Processing columns: 100%|█████████▉| 5266/5273 [23:46<00:01,  4.11it/s]"
     ]
    },
    {
     "name": "stderr",
     "output_type": "stream",
     "text": [
      "\r",
      "Processing columns: 100%|█████████▉| 5267/5273 [23:46<00:01,  3.83it/s]"
     ]
    },
    {
     "name": "stderr",
     "output_type": "stream",
     "text": [
      "\r",
      "Processing columns: 100%|█████████▉| 5268/5273 [23:47<00:01,  2.83it/s]"
     ]
    },
    {
     "name": "stderr",
     "output_type": "stream",
     "text": [
      "\r",
      "Processing columns: 100%|█████████▉| 5269/5273 [23:47<00:01,  3.15it/s]"
     ]
    },
    {
     "name": "stderr",
     "output_type": "stream",
     "text": [
      "\r",
      "Processing columns: 100%|█████████▉| 5270/5273 [23:47<00:00,  3.36it/s]"
     ]
    },
    {
     "name": "stderr",
     "output_type": "stream",
     "text": [
      "\r",
      "Processing columns: 100%|█████████▉| 5271/5273 [23:47<00:00,  3.50it/s]"
     ]
    },
    {
     "name": "stderr",
     "output_type": "stream",
     "text": [
      "\r",
      "Processing columns: 100%|█████████▉| 5272/5273 [23:48<00:00,  3.86it/s]"
     ]
    },
    {
     "name": "stderr",
     "output_type": "stream",
     "text": [
      "\r",
      "Processing columns: 100%|██████████| 5273/5273 [23:48<00:00,  3.70it/s]"
     ]
    },
    {
     "name": "stderr",
     "output_type": "stream",
     "text": [
      "\r",
      "Processing columns: 100%|██████████| 5273/5273 [23:48<00:00,  3.69it/s]"
     ]
    },
    {
     "name": "stderr",
     "output_type": "stream",
     "text": [
      "\n"
     ]
    }
   ],
   "source": [
    "gm_p, gm_c = do_granger(traj_df.T, in_genes=hv_tf, out_genes=hvg, n_jobs=-1)"
   ]
  },
  {
   "cell_type": "code",
   "execution_count": 6,
   "id": "5b0a8e14",
   "metadata": {
    "execution": {
     "iopub.execute_input": "2025-02-06T01:24:00.229507Z",
     "iopub.status.busy": "2025-02-06T01:24:00.229083Z",
     "iopub.status.idle": "2025-02-06T01:24:06.782690Z",
     "shell.execute_reply": "2025-02-06T01:24:06.781884Z"
    },
    "papermill": {
     "duration": 6.808795,
     "end_time": "2025-02-06T01:24:06.784244",
     "exception": false,
     "start_time": "2025-02-06T01:23:59.975449",
     "status": "completed"
    },
    "tags": []
   },
   "outputs": [],
   "source": [
    "gm_p.to_csv('../results_final_Jan15/granger_draft_A_p.csv')\n",
    "gm_c.to_csv('../results_final_Jan15/granger_draft_A_c.csv')"
   ]
  },
  {
   "cell_type": "code",
   "execution_count": 7,
   "id": "6a547e5f",
   "metadata": {
    "execution": {
     "iopub.execute_input": "2025-02-06T01:24:07.284954Z",
     "iopub.status.busy": "2025-02-06T01:24:07.284651Z",
     "iopub.status.idle": "2025-02-06T01:24:10.497000Z",
     "shell.execute_reply": "2025-02-06T01:24:10.496433Z"
    },
    "papermill": {
     "duration": 3.464954,
     "end_time": "2025-02-06T01:24:10.498422",
     "exception": false,
     "start_time": "2025-02-06T01:24:07.033468",
     "status": "completed"
    },
    "tags": []
   },
   "outputs": [],
   "source": [
    "log_pval_df = -np.log(gm_p + 2 ** -10)\n",
    "coef_sign_df = np.sign(gm_c)\n",
    "signed_score_df = log_pval_df * coef_sign_df\n",
    "\n",
    "signed_score_df.columns = [c.strip('_y') for c in signed_score_df.columns]\n",
    "signed_score_df.index = [r.strip('_x') for r in signed_score_df.index]\n",
    "\n",
    "signed_score_df.to_csv(f'../results_final_Jan15/granger_draft_A_signed_score.csv')\n"
   ]
  }
 ],
 "metadata": {
  "kernelspec": {
   "display_name": "mioflow",
   "language": "python",
   "name": "python3"
  },
  "language_info": {
   "codemirror_mode": {
    "name": "ipython",
    "version": 3
   },
   "file_extension": ".py",
   "mimetype": "text/x-python",
   "name": "python",
   "nbconvert_exporter": "python",
   "pygments_lexer": "ipython3",
   "version": "3.10.13"
  },
  "papermill": {
   "default_parameters": {},
   "duration": 1468.488413,
   "end_time": "2025-02-06T01:24:13.462267",
   "environment_variables": {},
   "exception": null,
   "input_path": "[FINAL]-54.2-granger-draft-A.ipynb",
   "output_path": "[FINAL]-54.2-granger-draft-A.ipynb",
   "parameters": {},
   "start_time": "2025-02-06T00:59:44.973854",
   "version": "2.5.0"
  }
 },
 "nbformat": 4,
 "nbformat_minor": 5
}