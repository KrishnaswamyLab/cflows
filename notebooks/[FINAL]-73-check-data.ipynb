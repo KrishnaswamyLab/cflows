{
 "cells": [
  {
   "cell_type": "code",
   "execution_count": 16,
   "metadata": {},
   "outputs": [],
   "source": [
    "import scanpy as sc\n",
    "import os\n",
    "import pandas as pd"
   ]
  },
  {
   "cell_type": "code",
   "execution_count": 3,
   "metadata": {},
   "outputs": [],
   "source": [
    "adata = sc.read_h5ad('../data/rna_figure_ready.h5ad')"
   ]
  },
  {
   "cell_type": "code",
   "execution_count": 8,
   "metadata": {},
   "outputs": [
    {
     "data": {
      "text/plain": [
       "array([ 0.,  2., 12., 18., 30.])"
      ]
     },
     "execution_count": 8,
     "metadata": {},
     "output_type": "execute_result"
    }
   ],
   "source": [
    "adata.obs['day'].unique()"
   ]
  },
  {
   "cell_type": "code",
   "execution_count": 9,
   "metadata": {},
   "outputs": [],
   "source": [
    "raw_path = \"/gpfs/gibbs/pi/krishnaswamy_smita/Chaffer_2017_mammosphere/cellranger_out/\""
   ]
  },
  {
   "cell_type": "code",
   "execution_count": 13,
   "metadata": {},
   "outputs": [],
   "source": [
    "samples = [ 'HCC38_2D_culture',\n",
    " 'TSA-48HR_3',\n",
    " 'TSA-D12',\n",
    " 'TSA-D18',\n",
    " 'TSA-D30',]"
   ]
  },
  {
   "cell_type": "code",
   "execution_count": 20,
   "metadata": {},
   "outputs": [],
   "source": [
    "barcodes_list = []\n",
    "for sample in samples:\n",
    "    barcodes_file = raw_path + sample + '/barcodes.tsv.gz'\n",
    "    barcodes = pd.read_csv(barcodes_file, sep='\\t', header=None, names=['barcode'])\n",
    "    barcodes['sample'] = sample\n",
    "    barcodes_list.append(barcodes)\n",
    "barcodes_df = pd.concat(barcodes_list)"
   ]
  },
  {
   "cell_type": "code",
   "execution_count": 21,
   "metadata": {},
   "outputs": [
    {
     "data": {
      "text/html": [
       "<div>\n",
       "<style scoped>\n",
       "    .dataframe tbody tr th:only-of-type {\n",
       "        vertical-align: middle;\n",
       "    }\n",
       "\n",
       "    .dataframe tbody tr th {\n",
       "        vertical-align: top;\n",
       "    }\n",
       "\n",
       "    .dataframe thead th {\n",
       "        text-align: right;\n",
       "    }\n",
       "</style>\n",
       "<table border=\"1\" class=\"dataframe\">\n",
       "  <thead>\n",
       "    <tr style=\"text-align: right;\">\n",
       "      <th></th>\n",
       "      <th>barcode</th>\n",
       "      <th>sample</th>\n",
       "    </tr>\n",
       "  </thead>\n",
       "  <tbody>\n",
       "    <tr>\n",
       "      <th>0</th>\n",
       "      <td>AAACCTGAGAAGGTTT-1</td>\n",
       "      <td>HCC38_2D_culture</td>\n",
       "    </tr>\n",
       "    <tr>\n",
       "      <th>1</th>\n",
       "      <td>AAACCTGAGTTCGCGC-1</td>\n",
       "      <td>HCC38_2D_culture</td>\n",
       "    </tr>\n",
       "    <tr>\n",
       "      <th>2</th>\n",
       "      <td>AAACCTGCAGCTTAAC-1</td>\n",
       "      <td>HCC38_2D_culture</td>\n",
       "    </tr>\n",
       "    <tr>\n",
       "      <th>3</th>\n",
       "      <td>AAACCTGCAGGACCCT-1</td>\n",
       "      <td>HCC38_2D_culture</td>\n",
       "    </tr>\n",
       "    <tr>\n",
       "      <th>4</th>\n",
       "      <td>AAACCTGCATGTTGAC-1</td>\n",
       "      <td>HCC38_2D_culture</td>\n",
       "    </tr>\n",
       "    <tr>\n",
       "      <th>...</th>\n",
       "      <td>...</td>\n",
       "      <td>...</td>\n",
       "    </tr>\n",
       "    <tr>\n",
       "      <th>5363</th>\n",
       "      <td>TTTGTCACAGTCTTCC-1</td>\n",
       "      <td>TSA-D30</td>\n",
       "    </tr>\n",
       "    <tr>\n",
       "      <th>5364</th>\n",
       "      <td>TTTGTCAGTAAACACA-1</td>\n",
       "      <td>TSA-D30</td>\n",
       "    </tr>\n",
       "    <tr>\n",
       "      <th>5365</th>\n",
       "      <td>TTTGTCAGTACGAAAT-1</td>\n",
       "      <td>TSA-D30</td>\n",
       "    </tr>\n",
       "    <tr>\n",
       "      <th>5366</th>\n",
       "      <td>TTTGTCAGTACTTGAC-1</td>\n",
       "      <td>TSA-D30</td>\n",
       "    </tr>\n",
       "    <tr>\n",
       "      <th>5367</th>\n",
       "      <td>TTTGTCAGTTCCACGG-1</td>\n",
       "      <td>TSA-D30</td>\n",
       "    </tr>\n",
       "  </tbody>\n",
       "</table>\n",
       "<p>22186 rows × 2 columns</p>\n",
       "</div>"
      ],
      "text/plain": [
       "                 barcode            sample\n",
       "0     AAACCTGAGAAGGTTT-1  HCC38_2D_culture\n",
       "1     AAACCTGAGTTCGCGC-1  HCC38_2D_culture\n",
       "2     AAACCTGCAGCTTAAC-1  HCC38_2D_culture\n",
       "3     AAACCTGCAGGACCCT-1  HCC38_2D_culture\n",
       "4     AAACCTGCATGTTGAC-1  HCC38_2D_culture\n",
       "...                  ...               ...\n",
       "5363  TTTGTCACAGTCTTCC-1           TSA-D30\n",
       "5364  TTTGTCAGTAAACACA-1           TSA-D30\n",
       "5365  TTTGTCAGTACGAAAT-1           TSA-D30\n",
       "5366  TTTGTCAGTACTTGAC-1           TSA-D30\n",
       "5367  TTTGTCAGTTCCACGG-1           TSA-D30\n",
       "\n",
       "[22186 rows x 2 columns]"
      ]
     },
     "execution_count": 21,
     "metadata": {},
     "output_type": "execute_result"
    }
   ],
   "source": [
    "barcodes_df"
   ]
  },
  {
   "cell_type": "code",
   "execution_count": 25,
   "metadata": {},
   "outputs": [],
   "source": [
    "# Create a mapping from barcode to sample\n",
    "barcode_to_sample = dict(zip(barcodes_df['barcode'], barcodes_df['sample']))\n",
    "\n",
    "# Create a new dataframe with obs_names and sample information\n",
    "obs_df = pd.DataFrame(index=adata.obs_names)\n",
    "obs_df['sample'] = [barcode_to_sample.get(obs_name.split('-')[0] + '-1', 'Unknown') for obs_name in adata.obs_names]\n",
    "obs_df['day'] = adata.obs['day'].values"
   ]
  },
  {
   "cell_type": "code",
   "execution_count": 28,
   "metadata": {},
   "outputs": [
    {
     "data": {
      "text/plain": [
       "array(['HCC38_2D_culture', 'TSA-D12', 'TSA-48HR_3', 'TSA-D18', 'TSA-D30'],\n",
       "      dtype=object)"
      ]
     },
     "execution_count": 28,
     "metadata": {},
     "output_type": "execute_result"
    }
   ],
   "source": [
    "obs_df['sample'].unique()"
   ]
  },
  {
   "cell_type": "code",
   "execution_count": 31,
   "metadata": {},
   "outputs": [
    {
     "data": {
      "text/html": [
       "<div>\n",
       "<style scoped>\n",
       "    .dataframe tbody tr th:only-of-type {\n",
       "        vertical-align: middle;\n",
       "    }\n",
       "\n",
       "    .dataframe tbody tr th {\n",
       "        vertical-align: top;\n",
       "    }\n",
       "\n",
       "    .dataframe thead th {\n",
       "        text-align: right;\n",
       "    }\n",
       "</style>\n",
       "<table border=\"1\" class=\"dataframe\">\n",
       "  <thead>\n",
       "    <tr style=\"text-align: right;\">\n",
       "      <th></th>\n",
       "      <th>sample</th>\n",
       "      <th>day</th>\n",
       "    </tr>\n",
       "  </thead>\n",
       "  <tbody>\n",
       "    <tr>\n",
       "      <th>AAACCTGAGTTCGCGC-1-4</th>\n",
       "      <td>HCC38_2D_culture</td>\n",
       "      <td>0.0</td>\n",
       "    </tr>\n",
       "    <tr>\n",
       "      <th>AAAGTAGAGGGTCGAT-1-4</th>\n",
       "      <td>TSA-D12</td>\n",
       "      <td>0.0</td>\n",
       "    </tr>\n",
       "    <tr>\n",
       "      <th>ACGATACTCAACACGT-1-4</th>\n",
       "      <td>TSA-48HR_3</td>\n",
       "      <td>0.0</td>\n",
       "    </tr>\n",
       "    <tr>\n",
       "      <th>AGCTCTCCATTAGCCA-1-4</th>\n",
       "      <td>TSA-D18</td>\n",
       "      <td>0.0</td>\n",
       "    </tr>\n",
       "    <tr>\n",
       "      <th>AGGGTGATCTGTGCAA-1-4</th>\n",
       "      <td>TSA-D30</td>\n",
       "      <td>0.0</td>\n",
       "    </tr>\n",
       "    <tr>\n",
       "      <th>AAACCTGGTCTAGGTT-1-5</th>\n",
       "      <td>TSA-48HR_3</td>\n",
       "      <td>2.0</td>\n",
       "    </tr>\n",
       "    <tr>\n",
       "      <th>AAAGATGTCACCAGGC-1-5</th>\n",
       "      <td>TSA-D12</td>\n",
       "      <td>2.0</td>\n",
       "    </tr>\n",
       "    <tr>\n",
       "      <th>AATCGGTAGGTTACCT-1-5</th>\n",
       "      <td>TSA-D18</td>\n",
       "      <td>2.0</td>\n",
       "    </tr>\n",
       "    <tr>\n",
       "      <th>ACTTTCAGTCAGAATA-1-5</th>\n",
       "      <td>TSA-D30</td>\n",
       "      <td>2.0</td>\n",
       "    </tr>\n",
       "    <tr>\n",
       "      <th>AAACCTGAGCAGGTCA-1-6</th>\n",
       "      <td>TSA-D12</td>\n",
       "      <td>12.0</td>\n",
       "    </tr>\n",
       "    <tr>\n",
       "      <th>AAACCTGTCACGATGT-1-6</th>\n",
       "      <td>TSA-D18</td>\n",
       "      <td>12.0</td>\n",
       "    </tr>\n",
       "    <tr>\n",
       "      <th>AACCATGAGCGTTGCC-1-6</th>\n",
       "      <td>TSA-D30</td>\n",
       "      <td>12.0</td>\n",
       "    </tr>\n",
       "    <tr>\n",
       "      <th>AAACCTGAGTCCGGTC-1-7</th>\n",
       "      <td>TSA-D18</td>\n",
       "      <td>18.0</td>\n",
       "    </tr>\n",
       "    <tr>\n",
       "      <th>AAAGATGTCTATCCCG-1-7</th>\n",
       "      <td>TSA-D30</td>\n",
       "      <td>18.0</td>\n",
       "    </tr>\n",
       "    <tr>\n",
       "      <th>AAACCTGAGCACAGGT-1-8</th>\n",
       "      <td>TSA-D30</td>\n",
       "      <td>30.0</td>\n",
       "    </tr>\n",
       "  </tbody>\n",
       "</table>\n",
       "</div>"
      ],
      "text/plain": [
       "                                sample   day\n",
       "AAACCTGAGTTCGCGC-1-4  HCC38_2D_culture   0.0\n",
       "AAAGTAGAGGGTCGAT-1-4           TSA-D12   0.0\n",
       "ACGATACTCAACACGT-1-4        TSA-48HR_3   0.0\n",
       "AGCTCTCCATTAGCCA-1-4           TSA-D18   0.0\n",
       "AGGGTGATCTGTGCAA-1-4           TSA-D30   0.0\n",
       "AAACCTGGTCTAGGTT-1-5        TSA-48HR_3   2.0\n",
       "AAAGATGTCACCAGGC-1-5           TSA-D12   2.0\n",
       "AATCGGTAGGTTACCT-1-5           TSA-D18   2.0\n",
       "ACTTTCAGTCAGAATA-1-5           TSA-D30   2.0\n",
       "AAACCTGAGCAGGTCA-1-6           TSA-D12  12.0\n",
       "AAACCTGTCACGATGT-1-6           TSA-D18  12.0\n",
       "AACCATGAGCGTTGCC-1-6           TSA-D30  12.0\n",
       "AAACCTGAGTCCGGTC-1-7           TSA-D18  18.0\n",
       "AAAGATGTCTATCCCG-1-7           TSA-D30  18.0\n",
       "AAACCTGAGCACAGGT-1-8           TSA-D30  30.0"
      ]
     },
     "execution_count": 31,
     "metadata": {},
     "output_type": "execute_result"
    }
   ],
   "source": [
    "obs_df[['sample', 'day']].drop_duplicates()"
   ]
  },
  {
   "cell_type": "code",
   "execution_count": 38,
   "metadata": {},
   "outputs": [
    {
     "data": {
      "text/plain": [
       "sample            day \n",
       "HCC38_2D_culture  0.0     2763\n",
       "TSA-48HR_3        2.0     2769\n",
       "TSA-D12           12.0    4255\n",
       "TSA-D18           18.0    4012\n",
       "TSA-D30           30.0    2971\n",
       "dtype: int64"
      ]
     },
     "execution_count": 38,
     "metadata": {},
     "output_type": "execute_result"
    }
   ],
   "source": [
    "obs_df[['sample', 'day']].value_counts()[obs_df[['sample', 'day']].value_counts() > 100].sort_index(level='day')"
   ]
  },
  {
   "cell_type": "code",
   "execution_count": null,
   "metadata": {},
   "outputs": [],
   "source": []
  }
 ],
 "metadata": {
  "kernelspec": {
   "display_name": "mioflow",
   "language": "python",
   "name": "python3"
  },
  "language_info": {
   "codemirror_mode": {
    "name": "ipython",
    "version": 3
   },
   "file_extension": ".py",
   "mimetype": "text/x-python",
   "name": "python",
   "nbconvert_exporter": "python",
   "pygments_lexer": "ipython3",
   "version": "3.10.13"
  }
 },
 "nbformat": 4,
 "nbformat_minor": 2
}
