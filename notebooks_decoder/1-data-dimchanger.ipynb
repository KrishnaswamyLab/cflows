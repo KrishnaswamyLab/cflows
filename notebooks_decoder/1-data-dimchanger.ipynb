{
 "cells": [
  {
   "cell_type": "code",
   "execution_count": 3,
   "metadata": {},
   "outputs": [],
   "source": [
    "import scanpy as sc\n",
    "import pathlib\n",
    "import numpy as np\n",
    "import phate"
   ]
  },
  {
   "cell_type": "code",
   "execution_count": 2,
   "metadata": {},
   "outputs": [],
   "source": [
    "adata = sc.read_h5ad('../data/rna_figure_ready.h5ad')"
   ]
  },
  {
   "cell_type": "code",
   "execution_count": 5,
   "metadata": {},
   "outputs": [
    {
     "name": "stdout",
     "output_type": "stream",
     "text": [
      "Calculating PHATE...\n",
      "  Running PHATE on 16985 observations and 50 variables.\n",
      "  Calculating graph and diffusion operator...\n",
      "    Calculating KNN search...\n",
      "    Calculated KNN search in 20.49 seconds.\n",
      "    Calculating affinities...\n",
      "    Calculated affinities in 0.14 seconds.\n",
      "  Calculated graph and diffusion operator in 20.65 seconds.\n",
      "  Calculating landmark operator...\n",
      "    Calculating SVD...\n",
      "    Calculated SVD in 1.71 seconds.\n",
      "    Calculating KMeans...\n",
      "    Calculated KMeans in 8.32 seconds.\n",
      "  Calculated landmark operator in 11.09 seconds.\n",
      "  Calculating optimal t...\n",
      "    Automatically selected t = 27\n",
      "  Calculated optimal t in 3.72 seconds.\n",
      "  Calculating diffusion potential...\n",
      "  Calculated diffusion potential in 1.62 seconds.\n",
      "  Calculating metric MDS...\n"
     ]
    },
    {
     "name": "stderr",
     "output_type": "stream",
     "text": [
      "/gpfs/gibbs/pi/krishnaswamy_smita/xingzhi/.conda_envs/mioflow/lib/python3.10/site-packages/sklearn/manifold/_mds.py:298: FutureWarning: The default value of `normalized_stress` will change to `'auto'` in version 1.4. To suppress this warning, manually set the value of `normalized_stress`.\n",
      "  warnings.warn(\n"
     ]
    },
    {
     "name": "stdout",
     "output_type": "stream",
     "text": [
      "  Calculated metric MDS in 208.08 seconds.\n",
      "Calculated PHATE in 245.19 seconds.\n"
     ]
    }
   ],
   "source": [
    "phate_op = phate.PHATE(n_jobs=-1, n_components=10, random_state=42)\n",
    "X_phate = phate_op.fit_transform(adata.obsm['X_pca'])"
   ]
  },
  {
   "cell_type": "code",
   "execution_count": 6,
   "metadata": {},
   "outputs": [
    {
     "name": "stdout",
     "output_type": "stream",
     "text": [
      "Calculating metric MDS...\n",
      "Calculated metric MDS in 5.01 seconds.\n"
     ]
    }
   ],
   "source": [
    "phate_op.set_params(n_components=2)\n",
    "X_phate_vis = phate_op.transform()"
   ]
  },
  {
   "cell_type": "code",
   "execution_count": 7,
   "metadata": {},
   "outputs": [],
   "source": [
    "X_pca = adata.obsm['X_pca']\n",
    "var_ratio = adata.uns['pca']['variance_ratio']"
   ]
  },
  {
   "cell_type": "code",
   "execution_count": 8,
   "metadata": {},
   "outputs": [],
   "source": [
    "pathlib.Path('../data_main/').mkdir(parents=True, exist_ok=True)\n",
    "np.save('../data_main/X_pca.npy', X_pca)\n",
    "np.save('../data_main/X_phate.npy', X_phate)\n",
    "np.save('../data_main/X_phate_vis.npy', X_phate_vis)\n",
    "np.save('../data_main/var_ratio.npy', var_ratio)\n",
    "\n"
   ]
  },
  {
   "cell_type": "code",
   "execution_count": null,
   "metadata": {},
   "outputs": [],
   "source": []
  }
 ],
 "metadata": {
  "kernelspec": {
   "display_name": "mioflow",
   "language": "python",
   "name": "python3"
  },
  "language_info": {
   "codemirror_mode": {
    "name": "ipython",
    "version": 3
   },
   "file_extension": ".py",
   "mimetype": "text/x-python",
   "name": "python",
   "nbconvert_exporter": "python",
   "pygments_lexer": "ipython3",
   "version": "3.10.13"
  }
 },
 "nbformat": 4,
 "nbformat_minor": 2
}
